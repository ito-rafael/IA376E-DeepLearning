{
  "nbformat": 4,
  "nbformat_minor": 0,
  "metadata": {
    "colab": {
      "name": "IMDb - Sentiment analysis [Self-Attention simple] (Rafael Ito).ipynb",
      "provenance": [],
      "collapsed_sections": [],
      "toc_visible": true
    },
    "kernelspec": {
      "name": "python3",
      "display_name": "Python 3"
    },
    "accelerator": "GPU"
  },
  "cells": [
    {
      "cell_type": "markdown",
      "metadata": {
        "id": "aibQMqn3rEp8",
        "colab_type": "text"
      },
      "source": [
        "# Sentiment analysis using simplified self-attention\n"
      ]
    },
    {
      "cell_type": "markdown",
      "metadata": {
        "id": "s13gobPuBZVp",
        "colab_type": "text"
      },
      "source": [
        "IMPORTANT: Instead of calculating the self-attention embeddings inside the neural network as a self-attention layer, here we calculate the new embeddings before training the network, as a preprocess. This way, we only calculate this new embeddings once, instead of calculating it once every epoch. This was done with the aim of reducing the computational resources, since the main goal of this activity, besides learning about self-attention, is the effiency of the code."
      ]
    },
    {
      "cell_type": "markdown",
      "metadata": {
        "id": "399F2GKforfi",
        "colab_type": "text"
      },
      "source": [
        "Author: **Rafael Ito**  \n",
        "e-mail: ito.rafael@gmail.com"
      ]
    },
    {
      "cell_type": "markdown",
      "metadata": {
        "id": "eV7swfVuBvgm",
        "colab_type": "text"
      },
      "source": [
        "## 0. Dataset and Description\n",
        "\n",
        "**Name:**  IMDb  \n",
        "**Description:** this notebook uses the IMDb dataset which contains movie reviews classified as either positive or negative review. The aim is to perform a supervised learning for sentiment classification using as features the self-attention of the GloVe embeddings."
      ]
    },
    {
      "cell_type": "markdown",
      "metadata": {
        "id": "ZnLtgkmhr0y0",
        "colab_type": "text"
      },
      "source": [
        "## 1. Libraries and packages"
      ]
    },
    {
      "cell_type": "markdown",
      "metadata": {
        "id": "wF94hPU1HWt9",
        "colab_type": "text"
      },
      "source": [
        "### 1.1 Install packages"
      ]
    },
    {
      "cell_type": "code",
      "metadata": {
        "id": "44YWHZaqwDo4",
        "colab_type": "code",
        "outputId": "9aea9345-5055-462d-99a0-e2e4aa11435d",
        "colab": {
          "base_uri": "https://localhost:8080/",
          "height": 38
        }
      },
      "source": [
        "!pip install -q \\\n",
        "    numpy       \\\n",
        "    torch       \\\n",
        "    sklearn     \\\n",
        "    skorch      \\\n",
        "    matplotlib  "
      ],
      "execution_count": 1,
      "outputs": [
        {
          "output_type": "stream",
          "text": [
            "\u001b[?25l\r\u001b[K     |███                             | 10kB 31.6MB/s eta 0:00:01\r\u001b[K     |██████▏                         | 20kB 5.0MB/s eta 0:00:01\r\u001b[K     |█████████▎                      | 30kB 5.3MB/s eta 0:00:01\r\u001b[K     |████████████▍                   | 40kB 5.1MB/s eta 0:00:01\r\u001b[K     |███████████████▌                | 51kB 5.3MB/s eta 0:00:01\r\u001b[K     |██████████████████▌             | 61kB 6.2MB/s eta 0:00:01\r\u001b[K     |█████████████████████▋          | 71kB 6.2MB/s eta 0:00:01\r\u001b[K     |████████████████████████▊       | 81kB 7.0MB/s eta 0:00:01\r\u001b[K     |███████████████████████████▉    | 92kB 6.9MB/s eta 0:00:01\r\u001b[K     |███████████████████████████████ | 102kB 7.3MB/s eta 0:00:01\r\u001b[K     |████████████████████████████████| 112kB 7.3MB/s \n",
            "\u001b[?25h"
          ],
          "name": "stdout"
        }
      ]
    },
    {
      "cell_type": "markdown",
      "metadata": {
        "id": "F-lNBFD0HcPb",
        "colab_type": "text"
      },
      "source": [
        "### 1.2 Import libraries"
      ]
    },
    {
      "cell_type": "code",
      "metadata": {
        "id": "XYPw4vBWq_nd",
        "colab_type": "code",
        "outputId": "fd383074-2aed-4afe-c4d0-2d0d77b45a2b",
        "colab": {
          "base_uri": "https://localhost:8080/",
          "height": 79
        }
      },
      "source": [
        "#-------------------------------------------------\n",
        "# general\n",
        "#-------------------\n",
        "import numpy as np\n",
        "import pandas as pd\n",
        "import nltk\n",
        "import re\n",
        "#-------------------------------------------------\n",
        "# PyTorch\n",
        "#-------------------\n",
        "import torch\n",
        "from torch.utils.data import TensorDataset\n",
        "from torchtext.vocab import GloVe\n",
        "import torch.nn.functional as F\n",
        "#-------------------------------------------------\n",
        "# skorch\n",
        "#-------------------\n",
        "#from skorch import NeuralNetClassifier\n",
        "#-------------------------------------------------\n",
        "# scikit-learn\n",
        "#-------------------\n",
        "from sklearn.feature_extraction.text import TfidfVectorizer\n",
        "from sklearn.preprocessing import OneHotEncoder\n",
        "# metrics\n",
        "from sklearn.metrics import confusion_matrix\n",
        "from sklearn.metrics import accuracy_score\n",
        "from sklearn.metrics import precision_score\n",
        "from sklearn.metrics import f1_score\n",
        "#-------------------------------------------------\n",
        "# data visualization\n",
        "#-------------------\n",
        "import matplotlib.pyplot as plt\n",
        "import seaborn as sns\n",
        "#-------------------------------------------------\n",
        "# additional config\n",
        "#-------------------\n",
        "# random seed generator\n",
        "torch.manual_seed(42);"
      ],
      "execution_count": 2,
      "outputs": [
        {
          "output_type": "stream",
          "text": [
            "/usr/local/lib/python3.6/dist-packages/statsmodels/tools/_testing.py:19: FutureWarning: pandas.util.testing is deprecated. Use the functions in the public API at pandas.testing instead.\n",
            "  import pandas.util.testing as tm\n"
          ],
          "name": "stderr"
        }
      ]
    },
    {
      "cell_type": "markdown",
      "metadata": {
        "id": "Rmn8887vHg2C",
        "colab_type": "text"
      },
      "source": [
        "### 1.3 Check device"
      ]
    },
    {
      "cell_type": "code",
      "metadata": {
        "id": "YXc7eeN9HjNh",
        "colab_type": "code",
        "outputId": "b583b9ec-d08c-4653-a8c9-90a3000cf51a",
        "colab": {
          "base_uri": "https://localhost:8080/",
          "height": 38
        }
      },
      "source": [
        "device = torch.device('cpu')\n",
        "if torch.cuda.is_available():\n",
        "    device = torch.device('cuda')\n",
        "print('Device:', device)"
      ],
      "execution_count": 3,
      "outputs": [
        {
          "output_type": "stream",
          "text": [
            "Device: cuda\n"
          ],
          "name": "stdout"
        }
      ]
    },
    {
      "cell_type": "markdown",
      "metadata": {
        "id": "Fb_hxbel26WM",
        "colab_type": "text"
      },
      "source": [
        "### 1.4 Constants definition"
      ]
    },
    {
      "cell_type": "code",
      "metadata": {
        "id": "pf3IfhKW2474",
        "colab_type": "code",
        "colab": {}
      },
      "source": [
        "# choose if the features to be used will be TF-IDF or word embeddings\n",
        "TFIDF = True\n",
        "#TFIDF = False\n",
        "#-------------------\n",
        "# define the size of embeddings (options: 50, 100, 200, 300)\n",
        "EMBEDDING_DIM = 300"
      ],
      "execution_count": 0,
      "outputs": []
    },
    {
      "cell_type": "markdown",
      "metadata": {
        "id": "g8cTjVNEoJkJ",
        "colab_type": "text"
      },
      "source": [
        "## 2. Custom functions and classes"
      ]
    },
    {
      "cell_type": "markdown",
      "metadata": {
        "id": "P9DFW3xLoWD4",
        "colab_type": "text"
      },
      "source": [
        "### 2.1 Functions"
      ]
    },
    {
      "cell_type": "markdown",
      "metadata": {
        "id": "GeSe31BerbWp",
        "colab_type": "text"
      },
      "source": [
        "Function that calculates the number of parameters of a network"
      ]
    },
    {
      "cell_type": "code",
      "metadata": {
        "id": "K1jFrB_fs9E-",
        "colab_type": "code",
        "colab": {}
      },
      "source": [
        "'''\n",
        "description:\n",
        "    - given a model, this function returns its number of parameters (weight, bias)\n",
        "#-------------------\n",
        "positional args:\n",
        "    - model [torch.nn.Module]: instance of the network\n",
        "optional args:\n",
        "    - verbose (default=False) [bool]: if True, print a report with the parameters of each layer\n",
        "#-------------------\n",
        "return:\n",
        "    - [int] total parameters of the network\n",
        "''';"
      ],
      "execution_count": 0,
      "outputs": []
    },
    {
      "cell_type": "code",
      "metadata": {
        "id": "-1XBjqgNritp",
        "colab_type": "code",
        "colab": {}
      },
      "source": [
        "def nparam(model, verbose=False):\n",
        "    if(verbose):\n",
        "        i = 0\n",
        "        total = 0\n",
        "        for name, param in model.named_parameters():\n",
        "            if (param.requires_grad):\n",
        "                #print('layer ', i, ' name: ', name)\n",
        "                j = 1\n",
        "                for dim in param.data.shape:\n",
        "                    j = j * dim\n",
        "                print('layer ', i, ': ', name, '; parameters: ', j, sep='')\n",
        "                i += 1\n",
        "                total += j\n",
        "        print('total parameters = ', total)\n",
        "        return\n",
        "    else:\n",
        "        #pytorch_total_params = sum(p.numel() for p in model.parameters() if p.requires_grad)\n",
        "        return sum(p.numel() for p in model.parameters())"
      ],
      "execution_count": 0,
      "outputs": []
    },
    {
      "cell_type": "markdown",
      "metadata": {
        "id": "CmnUYDiAnfZ_",
        "colab_type": "text"
      },
      "source": [
        "Function to plot confusion matrix"
      ]
    },
    {
      "cell_type": "code",
      "metadata": {
        "id": "079BiJjGssWN",
        "colab_type": "code",
        "colab": {}
      },
      "source": [
        "'''\n",
        "description:\n",
        "    - this function plots the confusion matrix (normalized or not) \n",
        "    using Matplotlib and seaborn in a nice way using heatmap.\n",
        "#-------------------\n",
        "positional args:\n",
        "    - confusion_matrix  [numpy.ndarray]:    ex.: array([[88, 19],[22, 71]])\n",
        "    - class_names       [list of str]:      ex.: ['negative', 'positive']\n",
        "\n",
        "optional args:\n",
        "    - title     (default=None)          [str]:      title of the plot\n",
        "    - normalize (default=False)         [bool]:     values raw or normalized\n",
        "    - cmap      (default=plt.cm.Blues)     \\\n",
        "       [matplotlib.colors.LinearSegmentedColormap]: colormap to be used\n",
        "    - fig_size   (default=(10,7))        [tuple]:    size of the figure\n",
        "    - fontsize  (default=14)            [int]:      size of the text\n",
        "#-------------------\n",
        "return:\n",
        "  - fig [matplotlib.figure.Figure]: confusion matrix plotted in a nice way!\n",
        "''';"
      ],
      "execution_count": 0,
      "outputs": []
    },
    {
      "cell_type": "code",
      "metadata": {
        "id": "z7-aEqs_nhpf",
        "colab_type": "code",
        "colab": {}
      },
      "source": [
        "#https://github.com/ito-rafael/machine-learning/blob/master/snippets/confusion_matrix.py\n",
        "def print_confusion_matrix(confusion_matrix, class_names, title=None, normalize=False, cmap=plt.cm.Blues, figsize = (10,7), fontsize=14):\n",
        "    # normalized or raw CM\n",
        "    if normalize:\n",
        "        confusion_matrix = confusion_matrix.astype('float') / confusion_matrix.sum(axis=1)[:, np.newaxis]\n",
        "        fmt = '.2f'\n",
        "    else:\n",
        "        fmt = 'd'\n",
        "    #----------------------------\n",
        "    df_cm = pd.DataFrame(confusion_matrix, index=class_names, columns=class_names)\n",
        "    fig = plt.figure(figsize=figsize)\n",
        "    try:\n",
        "        heatmap = sns.heatmap(df_cm, annot=True, fmt=fmt, cmap=cmap)\n",
        "    except ValueError:\n",
        "        raise ValueError(\"Confusion matrix values must be integers.\")\n",
        "    #----------------------------\n",
        "    # fix matplotlib 3.1.1 bug\n",
        "    #heatmap.get_ylim() --> (5.5, 0.5)\n",
        "    #heatmap.set_ylim(6.0, 0)\n",
        "    #----------------------------\n",
        "    heatmap.yaxis.set_ticklabels(heatmap.yaxis.get_ticklabels(), rotation=0, ha='right', fontsize=fontsize)\n",
        "    heatmap.xaxis.set_ticklabels(heatmap.xaxis.get_ticklabels(), rotation=45, ha='right', fontsize=fontsize)\n",
        "    plt.title(title)\n",
        "    plt.ylabel('True label')\n",
        "    plt.xlabel('Predicted label')\n",
        "    return fig"
      ],
      "execution_count": 0,
      "outputs": []
    },
    {
      "cell_type": "markdown",
      "metadata": {
        "id": "0KqWxd9RmXWz",
        "colab_type": "text"
      },
      "source": [
        "Function that preprocess a document, returning the mean of word embeddings"
      ]
    },
    {
      "cell_type": "code",
      "metadata": {
        "id": "cRZpxDIfmMEB",
        "colab_type": "code",
        "colab": {}
      },
      "source": [
        "'''\n",
        "description:\n",
        "    this function receives as parameter a corpus [list of lists] and do the following:\n",
        "      - convert to lower case,\n",
        "      - split in tokens,\n",
        "      - remove stop words\n",
        "return:\n",
        "    the same corpus preprocessed\n",
        "''';"
      ],
      "execution_count": 0,
      "outputs": []
    },
    {
      "cell_type": "code",
      "metadata": {
        "id": "wDtylQ8uQL8H",
        "colab_type": "code",
        "colab": {
          "base_uri": "https://localhost:8080/",
          "height": 59
        },
        "outputId": "ef3539f4-e9b7-4bff-e23a-af4ab310738c"
      },
      "source": [
        "def pre_processing(corpus, stopwords, embedding=GloVe(name='6B', dim=300, cache='./glove_dir')):\n",
        "    corpus_pp = []\n",
        "    for sentence in corpus:\n",
        "        sentence = sentence.lower()                 # convert to lower case\n",
        "        sentence = re.sub(\"[^\\w]\", \" \",  sentence)  # match word characters [a-zA-Z0-9_]\n",
        "        sentence = sentence.split()                 # split in tokens\n",
        "        #---------------------------\n",
        "        sentence_pp = []\n",
        "        for token in sentence:\n",
        "            # remove stop words\n",
        "            if token not in stopwords: \n",
        "                sentence_pp.append(token)\n",
        "        corpus_pp.append(sentence_pp)\n",
        "    return corpus_pp"
      ],
      "execution_count": 10,
      "outputs": [
        {
          "output_type": "stream",
          "text": [
            "./glove_dir/glove.6B.zip: 862MB [06:31, 2.20MB/s]                           \n",
            "100%|█████████▉| 399630/400000 [00:38<00:00, 9998.81it/s] "
          ],
          "name": "stderr"
        }
      ]
    },
    {
      "cell_type": "markdown",
      "metadata": {
        "id": "me1XVMkAfzxo",
        "colab_type": "text"
      },
      "source": [
        "### 2.2 Classes"
      ]
    },
    {
      "cell_type": "markdown",
      "metadata": {
        "id": "ICTToEJMmt-n",
        "colab_type": "text"
      },
      "source": [
        "Class used for training in training loop"
      ]
    },
    {
      "cell_type": "code",
      "metadata": {
        "id": "_1PNzzsk498M",
        "colab_type": "code",
        "colab": {}
      },
      "source": [
        "'''\n",
        "description:\n",
        "    this class is used during the training loop for TRAINING\n",
        "\n",
        "parameters:\n",
        "    - device\n",
        "    - model\n",
        "    - dataloader\n",
        "    - loss_function\n",
        "    - optimizer\n",
        "\n",
        "return:\n",
        "    np.mean(loss_his()) [numpy.float64]: mean of losses of all mini-batches in one epoch\n",
        "    score_train.item()  [float]:         accuracy calculated over one epoch  \n",
        "''';"
      ],
      "execution_count": 0,
      "outputs": []
    },
    {
      "cell_type": "code",
      "metadata": {
        "id": "DYaNeQ2irejs",
        "colab_type": "code",
        "colab": {}
      },
      "source": [
        "class TrainingLoop():\n",
        "    def __init__(self, device, model, dataloader, loss_function, optimizer):\n",
        "        self.device = device\n",
        "        self.model = model\n",
        "        self.dataloader = dataloader\n",
        "        self.loss_function = loss_function\n",
        "        self.optimizer = optimizer\n",
        "\n",
        "    def __call__(self):\n",
        "        # training mode\n",
        "        self.model.train()\n",
        "        loss_his = np.zeros(len(self.dataloader))\n",
        "        score_train = 0.\n",
        "        for b_i, (b_x, b_y) in enumerate(self.dataloader):   # for each training step\n",
        "            b_x, b_y = b_x.to(self.device), b_y.to(self.device)\n",
        "            y_logitos = self.model(b_x)\n",
        "            loss = self.loss_function(y_logitos, b_y)\n",
        "            self.optimizer.zero_grad()  # clear gradients for next train\n",
        "            loss.backward()             # backpropagation, compute gradients\n",
        "            self.optimizer.step()        # apply gradients\n",
        "            #-------------------\n",
        "            y_pred = torch.argmax(y_logitos, dim=1)\n",
        "            score_train += (b_y == y_pred).sum()\n",
        "            loss_his[b_i] = loss.item()\n",
        "        return np.mean(loss_his), score_train.item()"
      ],
      "execution_count": 0,
      "outputs": []
    },
    {
      "cell_type": "markdown",
      "metadata": {
        "id": "JofgQZ-cm3Bd",
        "colab_type": "text"
      },
      "source": [
        "Class used for validation in training loop"
      ]
    },
    {
      "cell_type": "code",
      "metadata": {
        "colab_type": "code",
        "id": "P6j1VO3w6Qee",
        "colab": {}
      },
      "source": [
        "'''\n",
        "description:\n",
        "    this class is used during the training loop for VALIDATION\n",
        "\n",
        "parameters:\n",
        "    - device\n",
        "    - model\n",
        "    - dataloader\n",
        "    - loss_function\n",
        "\n",
        "return:\n",
        "    np.mean(loss_his()) [numpy.float64]: mean of losses of all mini-batches in one epoch\n",
        "    score_valid.item()  [float]:         accuracy calculated over one epoch  \n",
        "''';"
      ],
      "execution_count": 0,
      "outputs": []
    },
    {
      "cell_type": "code",
      "metadata": {
        "id": "A0qgFjIBurL1",
        "colab_type": "code",
        "colab": {}
      },
      "source": [
        "class ValidatingLoop():\n",
        "    def __init__(self, device, model, dataloader, loss_function):\n",
        "        self.device = device\n",
        "        self.model = model\n",
        "        self.dataloader = dataloader\n",
        "        self.loss_function = loss_function\n",
        "\n",
        "    def __call__(self):\n",
        "        # evaluation mode\n",
        "        self.model.eval()\n",
        "        loss_his = np.zeros(len(self.dataloader))\n",
        "        score_valid = 0.\n",
        "        for b_ival, (b_xval, b_yval) in enumerate(self.dataloader):\n",
        "            b_xval, b_yval = b_xval.to(self.device), b_yval.to(self.device)\n",
        "            y_logitos = self.model(b_xval)\n",
        "            loss_valid = self.loss_function(y_logitos, b_yval)\n",
        "            yval_pred = torch.argmax(y_logitos, dim=1)\n",
        "            score_valid += (b_yval == yval_pred).sum()\n",
        "            loss_his[b_ival] = loss_valid.item()\n",
        "        return np.mean(loss_his), score_valid"
      ],
      "execution_count": 0,
      "outputs": []
    },
    {
      "cell_type": "markdown",
      "metadata": {
        "id": "C4IayX1HsCyC",
        "colab_type": "text"
      },
      "source": [
        "## 3. Dataset Pre-processing"
      ]
    },
    {
      "cell_type": "markdown",
      "metadata": {
        "id": "QS8YeBbWH7rF",
        "colab_type": "text"
      },
      "source": [
        "### 3.1 Download dataset"
      ]
    },
    {
      "cell_type": "code",
      "metadata": {
        "id": "be58QXZjoBWl",
        "colab_type": "code",
        "outputId": "d7360914-3a4f-4130-bb8f-63e6fea1aa34",
        "colab": {
          "base_uri": "https://localhost:8080/",
          "height": 248
        }
      },
      "source": [
        "# download dataset\n",
        "!wget -nc http://files.fast.ai/data/examples/imdb_sample.tgz\n",
        "!tar -xzf imdb_sample.tgz"
      ],
      "execution_count": 15,
      "outputs": [
        {
          "output_type": "stream",
          "text": [
            "--2020-04-09 02:04:39--  http://files.fast.ai/data/examples/imdb_sample.tgz\n",
            "Resolving files.fast.ai (files.fast.ai)... 67.205.15.147\n",
            "Connecting to files.fast.ai (files.fast.ai)|67.205.15.147|:80... connected.\n",
            "HTTP request sent, awaiting response... 200 OK\n",
            "Length: 571827 (558K) [application/x-gtar-compressed]\n",
            "Saving to: ‘imdb_sample.tgz’\n",
            "\n",
            "\rimdb_sample.tgz       0%[                    ]       0  --.-KB/s               \rimdb_sample.tgz      19%[==>                 ] 107.39K   413KB/s               \rimdb_sample.tgz     100%[===================>] 558.42K  1.27MB/s    in 0.4s    \n",
            "\n",
            "2020-04-09 02:04:40 (1.27 MB/s) - ‘imdb_sample.tgz’ saved [571827/571827]\n",
            "\n"
          ],
          "name": "stdout"
        }
      ]
    },
    {
      "cell_type": "markdown",
      "metadata": {
        "id": "qGaOXbAGk_IG",
        "colab_type": "text"
      },
      "source": [
        "### 3.2 Download embeddings"
      ]
    },
    {
      "cell_type": "code",
      "metadata": {
        "id": "_vfFwWCWxc07",
        "colab_type": "code",
        "colab": {}
      },
      "source": [
        "# !wget -nc http://nlp.stanford.edu/data/glove.6B.zip\n",
        "# !unzip -o glove.6B.zip -d glove_dir"
      ],
      "execution_count": 0,
      "outputs": []
    },
    {
      "cell_type": "markdown",
      "metadata": {
        "id": "9ugoqCqNwnuu",
        "colab_type": "text"
      },
      "source": [
        "Loading word embeddings with gensin"
      ]
    },
    {
      "cell_type": "code",
      "metadata": {
        "id": "Db7UYxCow5GF",
        "colab_type": "code",
        "colab": {}
      },
      "source": [
        "# import gensim.downloader as api\n",
        "\n",
        "# word2vec_model = api.load(\"glove-wiki-gigaword-300\")\n",
        "# print(word2vec_model.vectors.shape)\n",
        "# print(word2vec_model.index2word)"
      ],
      "execution_count": 0,
      "outputs": []
    },
    {
      "cell_type": "markdown",
      "metadata": {
        "id": "73B7smEnxdVZ",
        "colab_type": "text"
      },
      "source": [
        "Loading word embeddings with torchtext"
      ]
    },
    {
      "cell_type": "code",
      "metadata": {
        "id": "A_05Xh0L05tI",
        "colab_type": "code",
        "colab": {}
      },
      "source": [
        "from torchtext.vocab import GloVe\n",
        "glove_embedding = GloVe(name='6B', dim=EMBEDDING_DIM, cache='./glove_dir')"
      ],
      "execution_count": 0,
      "outputs": []
    },
    {
      "cell_type": "code",
      "metadata": {
        "id": "jnizgoBh08w8",
        "colab_type": "code",
        "outputId": "3b2804a2-f01f-4102-c7d4-534e983198d0",
        "colab": {
          "base_uri": "https://localhost:8080/",
          "height": 79
        }
      },
      "source": [
        "print(glove_embedding.vectors.shape)\n",
        "print('First 20 words and its index:', list(glove_embedding.stoi.items())[:20])"
      ],
      "execution_count": 19,
      "outputs": [
        {
          "output_type": "stream",
          "text": [
            "torch.Size([400000, 300])\n",
            "First 20 words and its index: [('the', 0), (',', 1), ('.', 2), ('of', 3), ('to', 4), ('and', 5), ('in', 6), ('a', 7), ('\"', 8), (\"'s\", 9), ('for', 10), ('-', 11), ('that', 12), ('on', 13), ('is', 14), ('was', 15), ('said', 16), ('with', 17), ('he', 18), ('as', 19)]\n"
          ],
          "name": "stdout"
        }
      ]
    },
    {
      "cell_type": "code",
      "metadata": {
        "id": "tFkUxOyEp29i",
        "colab_type": "code",
        "outputId": "fdc6c414-02e7-4598-ed1c-ca7b6747f2ac",
        "colab": {
          "base_uri": "https://localhost:8080/",
          "height": 38
        }
      },
      "source": [
        "glove_embedding['the'].shape"
      ],
      "execution_count": 20,
      "outputs": [
        {
          "output_type": "execute_result",
          "data": {
            "text/plain": [
              "torch.Size([300])"
            ]
          },
          "metadata": {
            "tags": []
          },
          "execution_count": 20
        }
      ]
    },
    {
      "cell_type": "markdown",
      "metadata": {
        "id": "LWGpvacBsdW_",
        "colab_type": "text"
      },
      "source": [
        "### 3.3 Dataset preparation"
      ]
    },
    {
      "cell_type": "code",
      "metadata": {
        "id": "IhhTEAagAr0f",
        "colab_type": "code",
        "colab": {}
      },
      "source": [
        "# read csv spreadsheet\n",
        "df = pd.read_csv('imdb_sample/texts.csv')"
      ],
      "execution_count": 0,
      "outputs": []
    },
    {
      "cell_type": "markdown",
      "metadata": {
        "id": "_7pkQlN9uv0R",
        "colab_type": "text"
      },
      "source": [
        "training-validation split"
      ]
    },
    {
      "cell_type": "code",
      "metadata": {
        "id": "56fqaVspuQZx",
        "colab_type": "code",
        "outputId": "e19252bc-84ca-4061-d63c-1a437b61ddc0",
        "colab": {
          "base_uri": "https://localhost:8080/",
          "height": 59
        }
      },
      "source": [
        "train = df[df['is_valid'] == False]\n",
        "valid = df[df['is_valid'] == True]\n",
        "#---------------------------\n",
        "print('treino.shape:', train.shape)\n",
        "print('valid.shape:', valid.shape)"
      ],
      "execution_count": 22,
      "outputs": [
        {
          "output_type": "stream",
          "text": [
            "treino.shape: (800, 3)\n",
            "valid.shape: (200, 3)\n"
          ],
          "name": "stdout"
        }
      ]
    },
    {
      "cell_type": "markdown",
      "metadata": {
        "id": "0ZoSUNHgA4LH",
        "colab_type": "text"
      },
      "source": [
        "Input"
      ]
    },
    {
      "cell_type": "code",
      "metadata": {
        "colab_type": "code",
        "outputId": "bb29ab2a-2c67-4531-cf4b-0891d93c156a",
        "id": "BoX61hQWAgb_",
        "colab": {
          "base_uri": "https://localhost:8080/",
          "height": 38
        }
      },
      "source": [
        "# slice pandas dataframe\n",
        "X_train_pd = train['text']\n",
        "X_valid_pd = valid['text']\n",
        "#---------------------------\n",
        "print(type(X_train_pd))"
      ],
      "execution_count": 23,
      "outputs": [
        {
          "output_type": "stream",
          "text": [
            "<class 'pandas.core.series.Series'>\n"
          ],
          "name": "stdout"
        }
      ]
    },
    {
      "cell_type": "markdown",
      "metadata": {
        "id": "ff-MVMe6G58o",
        "colab_type": "text"
      },
      "source": [
        "Convert from pandas to list and preprocess (remove stopwords, tokenize, lowercase)"
      ]
    },
    {
      "cell_type": "code",
      "metadata": {
        "id": "J2luO_w7NK7H",
        "colab_type": "code",
        "outputId": "41702061-0f2d-44f5-b93f-80111acecbaa",
        "colab": {
          "base_uri": "https://localhost:8080/",
          "height": 59
        }
      },
      "source": [
        "# convert from pandas to list\n",
        "X_train_list = X_train_pd.tolist()\n",
        "X_valid_list = X_valid_pd.tolist()\n",
        "print(type(X_train_pd))\n",
        "print(type(X_train_list))"
      ],
      "execution_count": 24,
      "outputs": [
        {
          "output_type": "stream",
          "text": [
            "<class 'pandas.core.series.Series'>\n",
            "<class 'list'>\n"
          ],
          "name": "stdout"
        }
      ]
    },
    {
      "cell_type": "code",
      "metadata": {
        "id": "E4OIFqfTJ66H",
        "colab_type": "code",
        "outputId": "36b17f88-f13f-4f4d-8d9a-11128208b467",
        "colab": {
          "base_uri": "https://localhost:8080/",
          "height": 101
        }
      },
      "source": [
        "# get English stopwords\n",
        "nltk.download('stopwords')\n",
        "stopwords = nltk.corpus.stopwords.words('english')\n",
        "# print first 15 stop words\n",
        "print(stopwords[:10])\n",
        "# print number of stopwords\n",
        "len(stopwords)"
      ],
      "execution_count": 25,
      "outputs": [
        {
          "output_type": "stream",
          "text": [
            "[nltk_data] Downloading package stopwords to /root/nltk_data...\n",
            "[nltk_data]   Unzipping corpora/stopwords.zip.\n",
            "['i', 'me', 'my', 'myself', 'we', 'our', 'ours', 'ourselves', 'you', \"you're\"]\n"
          ],
          "name": "stdout"
        },
        {
          "output_type": "execute_result",
          "data": {
            "text/plain": [
              "179"
            ]
          },
          "metadata": {
            "tags": []
          },
          "execution_count": 25
        }
      ]
    },
    {
      "cell_type": "code",
      "metadata": {
        "id": "ViHIm_dBxZ2O",
        "colab_type": "code",
        "outputId": "a17330de-45a3-4287-8964-0ddb166f4126",
        "colab": {
          "base_uri": "https://localhost:8080/",
          "height": 79
        }
      },
      "source": [
        "X_train_tokens = pre_processing(X_train_list, stopwords, glove_embedding)\n",
        "X_valid_tokens = pre_processing(X_valid_list, stopwords, glove_embedding)\n",
        "#---------------------------\n",
        "print(X_train_list[0])\n",
        "X_train_tokens[0][:5]"
      ],
      "execution_count": 26,
      "outputs": [
        {
          "output_type": "stream",
          "text": [
            "Un-bleeping-believable! Meg Ryan doesn't even look her usual pert lovable self in this, which normally makes me forgive her shallow ticky acting schtick. Hard to believe she was the producer on this dog. Plus Kevin Kline: what kind of suicide trip has his career been on? Whoosh... Banzai!!! Finally this was directed by the guy who did Big Chill? Must be a replay of Jonestown - hollywood style. Wooofff!\n"
          ],
          "name": "stdout"
        },
        {
          "output_type": "execute_result",
          "data": {
            "text/plain": [
              "['un', 'bleeping', 'believable', 'meg', 'ryan']"
            ]
          },
          "metadata": {
            "tags": []
          },
          "execution_count": 26
        }
      ]
    },
    {
      "cell_type": "markdown",
      "metadata": {
        "id": "Jp6Fv3U_1avN",
        "colab_type": "text"
      },
      "source": [
        "Get the mean length of the sentences of the corpus"
      ]
    },
    {
      "cell_type": "code",
      "metadata": {
        "id": "m01ZDYh7xbb0",
        "colab_type": "code",
        "outputId": "f0561fc1-99de-4554-e19d-522ecd869966",
        "colab": {
          "base_uri": "https://localhost:8080/",
          "height": 59
        }
      },
      "source": [
        "# calculate the length of each sentence\n",
        "#---------------------------\n",
        "# training set\n",
        "N_SAMPLES = len(X_train_tokens)\n",
        "length = torch.zeros(N_SAMPLES)\n",
        "for i, sentence in enumerate(X_train_tokens):\n",
        "    length[i] = len(sentence)\n",
        "#---------------------------\n",
        "# validaton set\n",
        "N_VALID = len(X_valid_tokens)\n",
        "length_valid = torch.zeros(N_VALID)\n",
        "for i, sentence in enumerate(X_valid_tokens):\n",
        "    length_valid[i] = len(sentence)\n",
        "#---------------------------\n",
        "# get the mean length of all sentences\n",
        "max_length = torch.mean(length)\n",
        "max_length = int(torch.round(max_length).item())\n",
        "#---------------------------\n",
        "print('length of sentences:', length[:10])\n",
        "print('mean length of sentences:', max_length)"
      ],
      "execution_count": 27,
      "outputs": [
        {
          "output_type": "stream",
          "text": [
            "length of sentences: tensor([ 42., 177.,  94.,  79., 160.,  69.,  95., 232., 106.,  75.])\n",
            "mean length of sentences: 131\n"
          ],
          "name": "stdout"
        }
      ]
    },
    {
      "cell_type": "markdown",
      "metadata": {
        "id": "lhsBB-pQfoTi",
        "colab_type": "text"
      },
      "source": [
        "## Self-Attention Layer (as function)\n"
      ]
    },
    {
      "cell_type": "markdown",
      "metadata": {
        "id": "HHnFY7FxAhbn",
        "colab_type": "text"
      },
      "source": [
        "Truncate sentences to max_length tokens and convert them to vectors using Glove"
      ]
    },
    {
      "cell_type": "code",
      "metadata": {
        "id": "GWWNWv3O5FMo",
        "colab_type": "code",
        "outputId": "1f1b5876-378c-47e8-8233-112fe7b85814",
        "colab": {
          "base_uri": "https://localhost:8080/",
          "height": 38
        }
      },
      "source": [
        "# training set\n",
        "network_input = torch.zeros(N_SAMPLES, max_length, EMBEDDING_DIM)   # in this case, (800 x 131 x 300)\n",
        "#---------------------------\n",
        "for s, sentence in enumerate(X_train_tokens):\n",
        "    for t, token in enumerate(sentence):\n",
        "        # truncate sentence in max_length\n",
        "        if (t == max_length):\n",
        "            break\n",
        "        # lookup table\n",
        "        network_input[s][t] = glove_embedding[token]\n",
        "#---------------------------\n",
        "print(network_input.shape)"
      ],
      "execution_count": 28,
      "outputs": [
        {
          "output_type": "stream",
          "text": [
            "torch.Size([800, 131, 300])\n"
          ],
          "name": "stdout"
        }
      ]
    },
    {
      "cell_type": "code",
      "metadata": {
        "id": "n5BXEkKa7MBS",
        "colab_type": "code",
        "colab": {
          "base_uri": "https://localhost:8080/",
          "height": 38
        },
        "outputId": "e4071617-08c8-4d68-c1fc-9ca2b27f9cfb"
      },
      "source": [
        "# validation set\n",
        "network_valid = torch.zeros(N_VALID, max_length, EMBEDDING_DIM)   # in this case, (800 x 131 x 300)\n",
        "#---------------------------\n",
        "for s, sentence in enumerate(X_valid_tokens):\n",
        "    for t, token in enumerate(sentence):\n",
        "        # truncate sentence in max_length\n",
        "        if (t == max_length):\n",
        "            break\n",
        "        # lookup table\n",
        "        network_valid[s][t] = glove_embedding[token]\n",
        "#---------------------------\n",
        "print(network_valid.shape)"
      ],
      "execution_count": 29,
      "outputs": [
        {
          "output_type": "stream",
          "text": [
            "torch.Size([200, 131, 300])\n"
          ],
          "name": "stdout"
        }
      ]
    },
    {
      "cell_type": "markdown",
      "metadata": {
        "id": "2SkOYfB7_5ZN",
        "colab_type": "text"
      },
      "source": [
        "### Self-Attention using the Loop Approach"
      ]
    },
    {
      "cell_type": "code",
      "metadata": {
        "id": "20YCJpPY839r",
        "colab_type": "code",
        "colab": {}
      },
      "source": [
        "'''\n",
        "#---------------------------\n",
        "shapes:\n",
        "  - corpus_tokenized: (800 x 131 x 300)\n",
        "  - seq: (131 x 300)\n",
        "  - q, k, v: (1 x 300)\n",
        "#---------------------------\n",
        "input:\n",
        "  - corpus_tokenized: (800 x 131 x 300)\n",
        "    embeddings of the first \"max_length\" words of the sentence, \n",
        "    truncated if bigger or completed with <PAD> if smaller.\n",
        "#---------------------------\n",
        "return:\n",
        "  - net_inp_sa: (800 x 131 x 300)\n",
        "  new embeddings calculated with self-attention algorithm\n",
        "'''\n",
        "def self_attention_loop(corpus_tokenized):\n",
        "    N_SAMPLES = len(corpus_tokenized)\n",
        "    L = len(corpus_tokenized[0])\n",
        "    EMBEDDING_DIM = len(corpus_tokenized[0][0])\n",
        "    #---------------------------\n",
        "    net_inp_sa = torch.zeros(N_SAMPLES, L, EMBEDDING_DIM)   # in this case, (800 x 131 x 300)\n",
        "    rafael = []\n",
        "    ito = []\n",
        "    for index, seq in enumerate(corpus_tokenized):\n",
        "        for q_idx, q in enumerate(seq):\n",
        "            #---------------------------\n",
        "            # calculate scores and probabilities\n",
        "            scores = torch.zeros(L) # shape: (131)\n",
        "            for i, k in enumerate(seq):\n",
        "                # if PAD, force scores = 0 to be very negative (-1e10), \n",
        "                # so the probability is almost 0\n",
        "                if (torch.nonzero(k).size(0) == 0):\n",
        "                    scores[i] = -1e10\n",
        "               # else, calculate score normally\n",
        "                else:\n",
        "                    scores[i] = torch.matmul(q, k.T)\n",
        "            probs = F.softmax(scores, dim=0) # shape: (131 x 1)\n",
        "            #---------------------------\n",
        "            # probabilities multiplication and mean\n",
        "            new_embedding = 0\n",
        "            for j, v in enumerate(seq):\n",
        "                new_embedding += v * probs[j]\n",
        "            #---------------------------\n",
        "            # save new embedding\n",
        "            net_inp_sa[index][q_idx] = new_embedding\n",
        "    return net_inp_sa"
      ],
      "execution_count": 0,
      "outputs": []
    },
    {
      "cell_type": "markdown",
      "metadata": {
        "id": "lmeIPU_RAE0S",
        "colab_type": "text"
      },
      "source": [
        "### Self-Attention using the Matrix Approach"
      ]
    },
    {
      "cell_type": "code",
      "metadata": {
        "colab_type": "code",
        "id": "4rcNaxp2hQn_",
        "colab": {}
      },
      "source": [
        "def self_attention_matrix(corpus_tokenized):\n",
        "    N_SAMPLES = len(corpus_tokenized)\n",
        "    L = len(corpus_tokenized[0])\n",
        "    EMBEDDING_DIM = len(corpus_tokenized[0][0])\n",
        "    #---------------------------\n",
        "    net_inp_sa = torch.zeros(N_SAMPLES, L, EMBEDDING_DIM)   # in this case, (800 x 131 x 300)\n",
        "    for index, seq in enumerate(corpus_tokenized):\n",
        "        X = seq.squeeze() # new shape: (131 x 300)\n",
        "        Q = K = V = X\n",
        "        scores = torch.matmul(Q, K.T)\n",
        "        scores[scores == 0] = -1e10  # force scores = 0 to be very negative (-1e10), so prob is almost 0\n",
        "        probs = F.softmax(scores, dim=1)\n",
        "        net_inp_sa[index] = torch.matmul(probs, V)\n",
        "    return net_inp_sa"
      ],
      "execution_count": 0,
      "outputs": []
    },
    {
      "cell_type": "markdown",
      "metadata": {
        "id": "Srcyevu8xYOK",
        "colab_type": "text"
      },
      "source": [
        "Testing self attention \"layer\" using loop approach for only 10 samples"
      ]
    },
    {
      "cell_type": "code",
      "metadata": {
        "id": "SaJMrQVY4k52",
        "colab_type": "code",
        "colab": {
          "base_uri": "https://localhost:8080/",
          "height": 80
        },
        "outputId": "f2359c90-f15c-4827-bdb5-d05b6d32d829"
      },
      "source": [
        "%%time\n",
        "sa_loop = self_attention_loop(network_input[:10])\n",
        "print(sa_loop.shape)"
      ],
      "execution_count": 32,
      "outputs": [
        {
          "output_type": "stream",
          "text": [
            "\r100%|█████████▉| 399630/400000 [00:50<00:00, 9998.81it/s]"
          ],
          "name": "stderr"
        },
        {
          "output_type": "stream",
          "text": [
            "torch.Size([10, 131, 300])\n",
            "CPU times: user 4.97 s, sys: 1.55 ms, total: 4.97 s\n",
            "Wall time: 4.99 s\n"
          ],
          "name": "stdout"
        }
      ]
    },
    {
      "cell_type": "markdown",
      "metadata": {
        "id": "mlkIWjbqx1Ud",
        "colab_type": "text"
      },
      "source": [
        "Now we will test the same self attention \"layer\", but using the matrix approach for all the dataset (800 samples)"
      ]
    },
    {
      "cell_type": "code",
      "metadata": {
        "id": "9F2u9SPj475f",
        "colab_type": "code",
        "colab": {
          "base_uri": "https://localhost:8080/",
          "height": 80
        },
        "outputId": "a7b2ce6d-6f5b-40bc-f5eb-b4bfee1d05b5"
      },
      "source": [
        "%%time\n",
        "sa_matrix = self_attention_matrix(network_input[:])\n",
        "print(sa_matrix.shape)"
      ],
      "execution_count": 33,
      "outputs": [
        {
          "output_type": "stream",
          "text": [
            "torch.Size([800, 131, 300])\n",
            "CPU times: user 495 ms, sys: 46.7 ms, total: 541 ms\n",
            "Wall time: 560 ms\n"
          ],
          "name": "stdout"
        }
      ]
    },
    {
      "cell_type": "markdown",
      "metadata": {
        "id": "lypZoIxaxkYY",
        "colab_type": "text"
      },
      "source": [
        "The first approach took 6.55 seconds for only 10 samples. If all the dataset was passed to this function, it would take approximately 6.55 * 80 = 524 seconds to process all data!  \n",
        "Instead, the matrix approach took only 731 ms for all the dataset. This means the second approach is more than 700 times faster!"
      ]
    },
    {
      "cell_type": "code",
      "metadata": {
        "colab_type": "code",
        "outputId": "9fd75dec-47ab-4545-a67d-e854c7b8e87a",
        "id": "xo0Tt_LNjTvH",
        "colab": {
          "base_uri": "https://localhost:8080/",
          "height": 332
        }
      },
      "source": [
        "# comparing both approaches\n",
        "print(sa_loop[:2][:2][:1])\n",
        "print('')\n",
        "print(sa_matrix[:2][:2][:1])"
      ],
      "execution_count": 34,
      "outputs": [
        {
          "output_type": "stream",
          "text": [
            "tensor([[[ 0.4426, -0.1797, -0.2702,  ..., -0.3162, -0.3966,  0.0611],\n",
            "         [ 0.3920, -0.3462, -0.2514,  ..., -0.1174,  0.4845, -0.4879],\n",
            "         [ 0.0335,  0.1577, -0.0917,  ...,  0.6841,  0.0333,  0.3262],\n",
            "         ...,\n",
            "         [ 0.0744,  0.0789, -0.0398,  ..., -0.0272, -0.0315,  0.0758],\n",
            "         [ 0.0744,  0.0789, -0.0398,  ..., -0.0272, -0.0315,  0.0758],\n",
            "         [ 0.0744,  0.0789, -0.0398,  ..., -0.0272, -0.0315,  0.0758]]])\n",
            "\n",
            "tensor([[[ 0.4426, -0.1797, -0.2702,  ..., -0.3162, -0.3966,  0.0611],\n",
            "         [ 0.3920, -0.3462, -0.2514,  ..., -0.1174,  0.4845, -0.4879],\n",
            "         [ 0.0335,  0.1577, -0.0917,  ...,  0.6841,  0.0333,  0.3262],\n",
            "         ...,\n",
            "         [ 0.0233,  0.0247, -0.0125,  ..., -0.0085, -0.0098,  0.0237],\n",
            "         [ 0.0233,  0.0247, -0.0125,  ..., -0.0085, -0.0098,  0.0237],\n",
            "         [ 0.0233,  0.0247, -0.0125,  ..., -0.0085, -0.0098,  0.0237]]])\n"
          ],
          "name": "stdout"
        }
      ]
    },
    {
      "cell_type": "code",
      "metadata": {
        "id": "i8W5omQJz1q9",
        "colab_type": "code",
        "colab": {
          "base_uri": "https://localhost:8080/",
          "height": 38
        },
        "outputId": "9b6d0c02-c0e5-488e-d47f-b068d54255ce"
      },
      "source": [
        "# MSE between both approaches for the first 10 samples out of 800\n",
        "torch.nn.functional.mse_loss(sa_loop, sa_matrix[:10])"
      ],
      "execution_count": 35,
      "outputs": [
        {
          "output_type": "execute_result",
          "data": {
            "text/plain": [
              "tensor(0.0011)"
            ]
          },
          "metadata": {
            "tags": []
          },
          "execution_count": 35
        }
      ]
    },
    {
      "cell_type": "code",
      "metadata": {
        "id": "Od3hL1Md7-K9",
        "colab_type": "code",
        "colab": {
          "base_uri": "https://localhost:8080/",
          "height": 80
        },
        "outputId": "0c981e98-c284-42ac-b57f-f93a43dd6182"
      },
      "source": [
        "# doing the same for the validation set\n",
        "%%time\n",
        "sa_matrix_valid = self_attention_matrix(network_valid)\n",
        "print(sa_matrix_valid.shape)"
      ],
      "execution_count": 36,
      "outputs": [
        {
          "output_type": "stream",
          "text": [
            "torch.Size([200, 131, 300])\n",
            "CPU times: user 116 ms, sys: 14.1 ms, total: 130 ms\n",
            "Wall time: 131 ms\n"
          ],
          "name": "stdout"
        }
      ]
    },
    {
      "cell_type": "code",
      "metadata": {
        "id": "rik5d05j84N1",
        "colab_type": "code",
        "colab": {}
      },
      "source": [
        "def masked_mean(sa_embeddings, length):\n",
        "    # create mask matrix\n",
        "    mask = torch.ones(sa_embeddings.shape[0], sa_embeddings.shape[1])   # shape: (800 x 131)\n",
        "    # clear entries for PAD\n",
        "    for i, L in enumerate(length):\n",
        "        mask[i][int(L.item()):] = 0\n",
        "        return mask\n",
        "    #---------------------------\n",
        "    # use mask to calculate mean\n",
        "    masked_mean = mask.unsqueeze(dim=2) * sa_embeddings\n",
        "    masked_mean = torch.mean(masked_mean, dim=2)\n",
        "    return masked_mean"
      ],
      "execution_count": 0,
      "outputs": []
    },
    {
      "cell_type": "code",
      "metadata": {
        "id": "-R6jS2DK3ncP",
        "colab_type": "code",
        "colab": {
          "base_uri": "https://localhost:8080/",
          "height": 59
        },
        "outputId": "eb9ee748-9747-4128-d97c-383f18bdc325"
      },
      "source": [
        "X_train_sa = masked_mean(sa_matrix, length)\n",
        "X_valid_sa = masked_mean(sa_matrix_valid, length_valid)\n",
        "#---------------------------\n",
        "print(X_train_sa.shape)\n",
        "print(X_valid_sa.shape)"
      ],
      "execution_count": 38,
      "outputs": [
        {
          "output_type": "stream",
          "text": [
            "torch.Size([800, 131])\n",
            "torch.Size([200, 131])\n"
          ],
          "name": "stdout"
        }
      ]
    },
    {
      "cell_type": "markdown",
      "metadata": {
        "id": "UufFsBWGvbGM",
        "colab_type": "text"
      },
      "source": [
        "Target"
      ]
    },
    {
      "cell_type": "code",
      "metadata": {
        "colab_type": "code",
        "id": "Vs124CzgldcS",
        "colab": {
          "base_uri": "https://localhost:8080/",
          "height": 59
        },
        "outputId": "752fea5e-8418-4764-ba13-9569469136de"
      },
      "source": [
        "# get the label as string (either 'positive' or 'negative')\n",
        "y_train_str = train['label']\n",
        "y_valid_str = valid['label']\n",
        "#---------------------------\n",
        "# convert from string to boolean\n",
        "mapping = {'positive': True, 'negative': False}\n",
        "y_train_pd = y_train_str.map(mapping)\n",
        "y_valid_pd = y_valid_str.map(mapping)\n",
        "#---------------------------\n",
        "print(y_train_str[:1].values)\n",
        "print(y_train_pd[:1].values)"
      ],
      "execution_count": 39,
      "outputs": [
        {
          "output_type": "stream",
          "text": [
            "['negative']\n",
            "[False]\n"
          ],
          "name": "stdout"
        }
      ]
    },
    {
      "cell_type": "code",
      "metadata": {
        "id": "nupgh_EdncL-",
        "colab_type": "code",
        "colab": {
          "base_uri": "https://localhost:8080/",
          "height": 80
        },
        "outputId": "0879562f-78e0-4b7f-97a2-82c9837299a2"
      },
      "source": [
        "# convert from pandas series to PyTorch\n",
        "y_train = torch.LongTensor(y_train_pd.values)\n",
        "y_valid = torch.LongTensor(y_valid_pd.values)\n",
        "#---------------------------\n",
        "print('type of \"y_train_pd\":', type(y_train_pd))\n",
        "print('type of \"y_train\":', type(y_train))\n",
        "print(y_train.shape)"
      ],
      "execution_count": 40,
      "outputs": [
        {
          "output_type": "stream",
          "text": [
            "type of \"y_train_pd\": <class 'pandas.core.series.Series'>\n",
            "type of \"y_train\": <class 'torch.Tensor'>\n",
            "torch.Size([800])\n"
          ],
          "name": "stdout"
        }
      ]
    },
    {
      "cell_type": "markdown",
      "metadata": {
        "id": "7x0xQwN7ASV9",
        "colab_type": "text"
      },
      "source": [
        "## Dataset"
      ]
    },
    {
      "cell_type": "markdown",
      "metadata": {
        "id": "UoCDR4p0BYcy",
        "colab_type": "text"
      },
      "source": [
        "### 3.3 PyTorch dataset creation"
      ]
    },
    {
      "cell_type": "code",
      "metadata": {
        "id": "2a8kAF4zCAol",
        "colab_type": "code",
        "colab": {}
      },
      "source": [
        "# dataset using Word Embeddings\n",
        "ds_train = TensorDataset(X_train_sa, y_train)\n",
        "ds_valid = TensorDataset(X_valid_sa, y_valid)"
      ],
      "execution_count": 0,
      "outputs": []
    },
    {
      "cell_type": "markdown",
      "metadata": {
        "id": "UPsgbfqGsm5V",
        "colab_type": "text"
      },
      "source": [
        "### 3.4 PyTorch loader creation\n",
        "\n",
        "- BATCH_SIZE definition\n",
        "- training dataset\n",
        "- validation dataset"
      ]
    },
    {
      "cell_type": "code",
      "metadata": {
        "id": "9sESeX_SqoXr",
        "colab_type": "code",
        "colab": {}
      },
      "source": [
        "BATCH_SIZE = 100\n",
        "#-------------------------------------------------\n",
        "# training data loader\n",
        "dl_train = torch.utils.data.DataLoader(\n",
        "            dataset=ds_train, \n",
        "            drop_last = False,\n",
        "            shuffle = True,\n",
        "            batch_size = BATCH_SIZE)\n",
        "#-------------------------------------------------\n",
        "# validation data loader\n",
        "dl_valid =  torch.utils.data.DataLoader(\n",
        "            dataset = ds_valid,\n",
        "            drop_last = False,\n",
        "            shuffle = False,\n",
        "            batch_size = BATCH_SIZE)"
      ],
      "execution_count": 0,
      "outputs": []
    },
    {
      "cell_type": "markdown",
      "metadata": {
        "id": "XFwZVZfQssoV",
        "colab_type": "text"
      },
      "source": [
        "### 3.5 Verifying shape, batch data type from loader and optionally its visualization"
      ]
    },
    {
      "cell_type": "code",
      "metadata": {
        "id": "NQbDl3QVql8m",
        "colab_type": "code",
        "colab": {
          "base_uri": "https://localhost:8080/",
          "height": 80
        },
        "outputId": "7fc68237-78be-41fd-bf49-7cf60c19b3ad"
      },
      "source": [
        "tx, ty = iter(dl_train).next()\n",
        "print('train:', tx.shape, tx.dtype, ty.shape, ty.dtype)\n",
        "tx, ty = iter(dl_valid).next()\n",
        "print('val:', tx.shape, tx.dtype, ty.shape, ty.dtype)\n",
        "print('last batch size:', len(ds_train)%BATCH_SIZE, len(ds_valid)%BATCH_SIZE)"
      ],
      "execution_count": 43,
      "outputs": [
        {
          "output_type": "stream",
          "text": [
            "train: torch.Size([100, 131]) torch.float32 torch.Size([100]) torch.int64\n",
            "val: torch.Size([100, 131]) torch.float32 torch.Size([100]) torch.int64\n",
            "last batch size: 0 0\n"
          ],
          "name": "stdout"
        }
      ]
    },
    {
      "cell_type": "markdown",
      "metadata": {
        "id": "Bw_Z9cMgs8Kf",
        "colab_type": "text"
      },
      "source": [
        "## 4. Network Model"
      ]
    },
    {
      "cell_type": "markdown",
      "metadata": {
        "id": "7vn0r32bamG7",
        "colab_type": "text"
      },
      "source": [
        "### 4.1 Network class definition"
      ]
    },
    {
      "cell_type": "code",
      "metadata": {
        "id": "HY7n0S0vq-1Z",
        "colab_type": "code",
        "colab": {}
      },
      "source": [
        "class NN(torch.nn.Module):\n",
        "    def __init__(self, inputs, layer1_neurons, layer2_neurons):\n",
        "        super(NN, self).__init__()\n",
        "        self.inputs = inputs\n",
        "        self.layer1_neurons = layer1_neurons\n",
        "        self.layer2_neurons = layer2_neurons\n",
        "\n",
        "        self.dropout = torch.nn.Dropout(0.5)\n",
        "        self.layer1 = torch.nn.Linear(in_features=self.inputs,  out_features=self.layer1_neurons)\n",
        "        self.layer2 = torch.nn.Linear(in_features=self.layer1_neurons,  out_features=self.layer2_neurons)\n",
        "        self.layer3 = torch.nn.Linear(in_features=self.layer2_neurons,  out_features=2)\n",
        "\n",
        "    def forward(self, x):\n",
        "        #-------------------\n",
        "        # dense layer, ReLU, dropout\n",
        "        x = self.layer1(x)\n",
        "        x = F.relu(x)\n",
        "        #x = self.dropout(x)\n",
        "        #-------------------\n",
        "        # dense layer, ReLU, dropout\n",
        "        x = self.layer2(x)\n",
        "        x = F.relu(x)\n",
        "        #x = self.dropout(x)\n",
        "        #-------------------\n",
        "        # dense layer\n",
        "        x = self.layer3(x)\n",
        "        #-------------------\n",
        "        return x"
      ],
      "execution_count": 0,
      "outputs": []
    },
    {
      "cell_type": "markdown",
      "metadata": {
        "id": "r6NbQ9ygasBE",
        "colab_type": "text"
      },
      "source": [
        "### 4.2 Network instantiation"
      ]
    },
    {
      "cell_type": "code",
      "metadata": {
        "id": "bIRZSsqNq_Zl",
        "colab_type": "code",
        "colab": {
          "base_uri": "https://localhost:8080/",
          "height": 143
        },
        "outputId": "bb3bbcb5-5b9e-4e1b-cdc5-ba0d93b93fa5"
      },
      "source": [
        "model = NN(inputs=max_length, layer1_neurons=500, layer2_neurons=500)\n",
        "model.to(device)"
      ],
      "execution_count": 45,
      "outputs": [
        {
          "output_type": "execute_result",
          "data": {
            "text/plain": [
              "NN(\n",
              "  (dropout): Dropout(p=0.5, inplace=False)\n",
              "  (layer1): Linear(in_features=131, out_features=500, bias=True)\n",
              "  (layer2): Linear(in_features=500, out_features=500, bias=True)\n",
              "  (layer3): Linear(in_features=500, out_features=2, bias=True)\n",
              ")"
            ]
          },
          "metadata": {
            "tags": []
          },
          "execution_count": 45
        }
      ]
    },
    {
      "cell_type": "markdown",
      "metadata": {
        "id": "WFcCML_SayNO",
        "colab_type": "text"
      },
      "source": [
        "### 4.3 Network predict with few samples of batch from loader"
      ]
    },
    {
      "cell_type": "code",
      "metadata": {
        "id": "IX2K9fQ3rAkO",
        "colab_type": "code",
        "colab": {
          "base_uri": "https://localhost:8080/",
          "height": 38
        },
        "outputId": "5521105e-66e4-4e23-887e-fdc9ab6f65ee"
      },
      "source": [
        "model(ds_train[0][0].to(device))"
      ],
      "execution_count": 46,
      "outputs": [
        {
          "output_type": "execute_result",
          "data": {
            "text/plain": [
              "tensor([0.0336, 0.0095], device='cuda:0', grad_fn=<AddBackward0>)"
            ]
          },
          "metadata": {
            "tags": []
          },
          "execution_count": 46
        }
      ]
    },
    {
      "cell_type": "markdown",
      "metadata": {
        "id": "gqbHi424bDid",
        "colab_type": "text"
      },
      "source": [
        "## 5. Network training"
      ]
    },
    {
      "cell_type": "markdown",
      "metadata": {
        "id": "o4_rINNlbH17",
        "colab_type": "text"
      },
      "source": [
        "### 5.1 Training definitions\n",
        "\n",
        "- number of epochs\n",
        "- optimizer and LR (learning rate)\n",
        "- loss function\n"
      ]
    },
    {
      "cell_type": "code",
      "metadata": {
        "id": "07mvkthGrcVe",
        "colab_type": "code",
        "colab": {}
      },
      "source": [
        "# Training parameters\n",
        "EPOCH = 1000\n",
        "LR = 0.1\n",
        "PATIENCE = 100\n",
        "loss_func = torch.nn.CrossEntropyLoss()\n",
        "opt = torch.optim.SGD(model.parameters(), lr=LR)\n",
        "#-------------------\n",
        "best_valid_loss = 999_999.\n",
        "train_samples = len(ds_train)\n",
        "valid_samples = len(ds_valid)\n",
        "#-------------------\n",
        "trainer = TrainingLoop(device, model, dl_train, loss_func, opt)\n",
        "validator = ValidatingLoop(device, model, dl_valid, loss_func)\n",
        "#-------------------\n",
        "# loss history\n",
        "loss_train_his = []\n",
        "loss_valid_his = []\n",
        "acc_train_his = []\n",
        "acc_valid_his = []"
      ],
      "execution_count": 0,
      "outputs": []
    },
    {
      "cell_type": "markdown",
      "metadata": {
        "id": "Mifo0jGebd6z",
        "colab_type": "text"
      },
      "source": [
        "### 5.2 Training loop"
      ]
    },
    {
      "cell_type": "code",
      "metadata": {
        "id": "gmZtFWUqrgeu",
        "colab_type": "code",
        "colab": {
          "base_uri": "https://localhost:8080/",
          "height": 269
        },
        "outputId": "06c3b5c1-5f8b-4cad-c3ea-114f3957a960"
      },
      "source": [
        "for epoch in range(EPOCH):\n",
        "    # training\n",
        "    his_train = trainer()\n",
        "    loss_train_his.append(his_train[0])\n",
        "    acc_train_his.append(his_train[1] / train_samples)\n",
        "    #-------------------\n",
        "    # validating\n",
        "    his_valid = validator()\n",
        "    loss_valid_his.append(his_valid[0])\n",
        "    acc_valid_his.append(his_valid[1] / valid_samples)\n",
        "    #-------------------------------------------------\n",
        "    # early stopping: check if new validation accuracy occurred\n",
        "    if loss_valid_his[-1] < best_valid_loss:\n",
        "        # print('New best loss in validation set!', end=' ')\n",
        "        best_valid_loss = loss_valid_his[-1]\n",
        "        patience_counter = 0\n",
        "    else:\n",
        "        patience_counter += 1\n",
        "        if patience_counter == PATIENCE:\n",
        "            print('Early stopping:', PATIENCE, 'iterations without validation loss improve')\n",
        "            break\n",
        "    #-------------------------------------------------\n",
        "    if not (epoch % 10):\n",
        "        print('epoch =', epoch, end='; ')\n",
        "        print('loss_train = {0:.4f}'.format(loss_train_his[-1]), end='; ')\n",
        "        print('loss_val = {0:.4f}'.format(loss_valid_his[-1]), end='; ')\n",
        "        print('acc_train = {0:.4f}'.format(acc_train_his[-1]), end='; ')\n",
        "        print('acc_val = {0:.4f}'.format(acc_valid_his[-1]), end='\\n')"
      ],
      "execution_count": 48,
      "outputs": [
        {
          "output_type": "stream",
          "text": [
            "epoch = 0; loss_train = 0.7149; loss_val = 0.6936; acc_train = 0.4925; acc_val = 0.4650\n",
            "epoch = 10; loss_train = 0.6940; loss_val = 0.7039; acc_train = 0.5212; acc_val = 0.4650\n",
            "epoch = 20; loss_train = 0.6930; loss_val = 0.6915; acc_train = 0.5212; acc_val = 0.5350\n",
            "epoch = 30; loss_train = 0.6928; loss_val = 0.6910; acc_train = 0.4988; acc_val = 0.5350\n",
            "epoch = 40; loss_train = 0.6926; loss_val = 0.6911; acc_train = 0.5212; acc_val = 0.5350\n",
            "epoch = 50; loss_train = 0.6924; loss_val = 0.6914; acc_train = 0.5212; acc_val = 0.5350\n",
            "epoch = 60; loss_train = 0.6929; loss_val = 0.6918; acc_train = 0.5212; acc_val = 0.5350\n",
            "epoch = 70; loss_train = 0.6927; loss_val = 0.6915; acc_train = 0.5212; acc_val = 0.5350\n",
            "epoch = 80; loss_train = 0.6927; loss_val = 0.6914; acc_train = 0.5212; acc_val = 0.5350\n",
            "epoch = 90; loss_train = 0.6925; loss_val = 0.6913; acc_train = 0.5212; acc_val = 0.5350\n",
            "epoch = 100; loss_train = 0.6922; loss_val = 0.6914; acc_train = 0.5212; acc_val = 0.5350\n",
            "Early stopping: 100 iterations without validation loss improve\n"
          ],
          "name": "stdout"
        }
      ]
    },
    {
      "cell_type": "markdown",
      "metadata": {
        "id": "v6aK9evCbmB2",
        "colab_type": "text"
      },
      "source": [
        "## 6. Training evaluation\n",
        "\n",
        "- metrics:\n",
        "  - accuracy\n",
        "  - confusion matrix\n",
        "  - others"
      ]
    },
    {
      "cell_type": "markdown",
      "metadata": {
        "id": "Ny22wh3MaUdI",
        "colab_type": "text"
      },
      "source": [
        "### 6.1 Training and Validation Losses"
      ]
    },
    {
      "cell_type": "code",
      "metadata": {
        "id": "BYHGPjRkaeNN",
        "colab_type": "code",
        "colab": {
          "base_uri": "https://localhost:8080/",
          "height": 295
        },
        "outputId": "2f5a0869-151f-4819-d7b8-c09aba8663ec"
      },
      "source": [
        "# plot training and validation loss\n",
        "plt.plot(loss_train_his, label='training loss', color='blue')\n",
        "plt.plot(loss_valid_his, label='validation loss', color='red')\n",
        "#-------------------------------------------------\n",
        "# axis label\n",
        "plt.xlabel('Epochs')\n",
        "plt.ylabel('CE Loss')\n",
        "# title\n",
        "plt.title('Loss progression')\n",
        "#-------------------------------------------------\n",
        "plt.autoscale(axis='x', tight=True) # axis adjust\n",
        "plt.grid(True) # add grid\n",
        "plt.legend() # add legend\n",
        "plt.show()"
      ],
      "execution_count": 49,
      "outputs": [
        {
          "output_type": "display_data",
          "data": {
            "image/png": "[encoded data removed]",
            "text/plain": [
              "<Figure size 432x288 with 1 Axes>"
            ]
          },
          "metadata": {
            "tags": []
          }
        }
      ]
    },
    {
      "cell_type": "markdown",
      "metadata": {
        "id": "thGUnNmdiqa6",
        "colab_type": "text"
      },
      "source": [
        "### 6.2 Zoom at the minimum CE loss in the validation loss curve"
      ]
    },
    {
      "cell_type": "code",
      "metadata": {
        "id": "zP5L2Gk4iraH",
        "colab_type": "code",
        "colab": {
          "base_uri": "https://localhost:8080/",
          "height": 316
        },
        "outputId": "549d1c72-2c8c-4ab8-fa34-74e227909f62"
      },
      "source": [
        "BEST_EPOCH = loss_valid_his.index(min(loss_valid_his)) + 1\n",
        "print('Epoch with minimum validation loss =', BEST_EPOCH)\n",
        "#-------------------------------------------------\n",
        "# plots\n",
        "plt.plot(range(max(1,BEST_EPOCH-2),min(EPOCH,BEST_EPOCH+3)), loss_valid_his[max(1,BEST_EPOCH-3):min(EPOCH-1,BEST_EPOCH+2)], 'green')\n",
        "plt.xlabel('Epochs')\n",
        "plt.ylabel('CE loss')\n",
        "plt.autoscale(axis='x', tight=True)\n",
        "plt.title('Progression of validation loss acording to epochs')\n",
        "plt.grid(True)\n",
        "plt.show()"
      ],
      "execution_count": 50,
      "outputs": [
        {
          "output_type": "stream",
          "text": [
            "Epoch with minimum validation loss = 4\n"
          ],
          "name": "stdout"
        },
        {
          "output_type": "display_data",
          "data": {
            "image/png": "[encoded data removed]",
            "text/plain": [
              "<Figure size 432x288 with 1 Axes>"
            ]
          },
          "metadata": {
            "tags": []
          }
        }
      ]
    },
    {
      "cell_type": "markdown",
      "metadata": {
        "id": "tOfz0gMnaw_h",
        "colab_type": "text"
      },
      "source": [
        "### 6.3 Accuracy "
      ]
    },
    {
      "cell_type": "code",
      "metadata": {
        "id": "4gqP9tfybRTA",
        "colab_type": "code",
        "colab": {
          "base_uri": "https://localhost:8080/",
          "height": 295
        },
        "outputId": "1c804ccb-4879-49c1-fa6c-a6cb29208e60"
      },
      "source": [
        "# plot training and validation accuracy\n",
        "plt.plot(acc_train_his, label='training accuracy', color='blue')\n",
        "plt.plot(acc_valid_his, label='validation accuracy', color='red')\n",
        "#-------------------------------------------------\n",
        "# axis label\n",
        "plt.xlabel('Epochs')\n",
        "plt.ylabel('Accuracy')\n",
        "# title\n",
        "plt.title('Accuracy progression')\n",
        "#-------------------------------------------------\n",
        "plt.autoscale(axis='x', tight=True) # axis adjust\n",
        "plt.grid(True) # add grid\n",
        "plt.legend() # add legend\n",
        "plt.show()"
      ],
      "execution_count": 51,
      "outputs": [
        {
          "output_type": "display_data",
          "data": {
            "image/png": "[encoded data removed]",
            "text/plain": [
              "<Figure size 432x288 with 1 Axes>"
            ]
          },
          "metadata": {
            "tags": []
          }
        }
      ]
    },
    {
      "cell_type": "markdown",
      "metadata": {
        "id": "_8Xzipr2B9to",
        "colab_type": "text"
      },
      "source": [
        "### 6.4 Print the final values of the main training monitoring variables:\n",
        "- loss function final value:\n",
        "- metrics final values:"
      ]
    },
    {
      "cell_type": "code",
      "metadata": {
        "id": "VEVVlMqVs69I",
        "colab_type": "code",
        "colab": {
          "base_uri": "https://localhost:8080/",
          "height": 122
        },
        "outputId": "db56bcb0-1f32-40b6-a9d9-fbaf985154cd"
      },
      "source": [
        "print('last training loss = {0:.4f}'.format(loss_train_his[-1]))\n",
        "print('last validation loss = {0:.4f}'.format(loss_valid_his[-1]))\n",
        "print('#-------------------------------------------------')\n",
        "print('last train accuracy = {0:.4f}'.format(acc_train_his[-1]))\n",
        "print('last validation accuracy = {0:.4f}'.format(acc_valid_his[-1]))"
      ],
      "execution_count": 52,
      "outputs": [
        {
          "output_type": "stream",
          "text": [
            "last training loss = 0.6926\n",
            "last validation loss = 0.6913\n",
            "#-------------------------------------------------\n",
            "last train accuracy = 0.5212\n",
            "last validation accuracy = 0.5350\n"
          ],
          "name": "stdout"
        }
      ]
    },
    {
      "cell_type": "markdown",
      "metadata": {
        "id": "XKTY_W1wkXch",
        "colab_type": "text"
      },
      "source": [
        "## 7. Metrics on test set"
      ]
    },
    {
      "cell_type": "markdown",
      "metadata": {
        "id": "WWTIYqKlbLXi",
        "colab_type": "text"
      },
      "source": [
        "For this particular dataset, we will be using the validation set to calculate the performance metrics"
      ]
    },
    {
      "cell_type": "code",
      "metadata": {
        "id": "qJiD5v3Ir703",
        "colab_type": "code",
        "colab": {
          "base_uri": "https://localhost:8080/",
          "height": 143
        },
        "outputId": "e1fbb616-9033-4e6c-964e-722843d92543"
      },
      "source": [
        "# load model in CPU\n",
        "model.to('cpu');\n",
        "# evaluation mode\n",
        "model.eval()"
      ],
      "execution_count": 53,
      "outputs": [
        {
          "output_type": "execute_result",
          "data": {
            "text/plain": [
              "NN(\n",
              "  (dropout): Dropout(p=0.5, inplace=False)\n",
              "  (layer1): Linear(in_features=131, out_features=500, bias=True)\n",
              "  (layer2): Linear(in_features=500, out_features=500, bias=True)\n",
              "  (layer3): Linear(in_features=500, out_features=2, bias=True)\n",
              ")"
            ]
          },
          "metadata": {
            "tags": []
          },
          "execution_count": 53
        }
      ]
    },
    {
      "cell_type": "code",
      "metadata": {
        "id": "4TuQISj8rUiG",
        "colab_type": "code",
        "colab": {}
      },
      "source": [
        "# y_true\n",
        "y_true = ds_valid[:][1]"
      ],
      "execution_count": 0,
      "outputs": []
    },
    {
      "cell_type": "code",
      "metadata": {
        "id": "6wXUcabMkQZE",
        "colab_type": "code",
        "colab": {}
      },
      "source": [
        "# y_pred\n",
        "score = 0.\n",
        "y_logitos = model(ds_valid[:][0])\n",
        "y_pred = torch.argmax(y_logitos, dim=1)"
      ],
      "execution_count": 0,
      "outputs": []
    },
    {
      "cell_type": "markdown",
      "metadata": {
        "id": "vvPMDpb8n32I",
        "colab_type": "text"
      },
      "source": [
        "### 7.1 Accuracy"
      ]
    },
    {
      "cell_type": "code",
      "metadata": {
        "id": "8w3ttQcyrXSw",
        "colab_type": "code",
        "colab": {
          "base_uri": "https://localhost:8080/",
          "height": 38
        },
        "outputId": "d1d5f277-52fe-44c2-fd15-9c3e20b2de76"
      },
      "source": [
        "# accuracy\n",
        "score += (y_true == y_pred).sum()\n",
        "acc_test = score / len(ds_valid[:][0])\n",
        "acc_test.item()"
      ],
      "execution_count": 56,
      "outputs": [
        {
          "output_type": "execute_result",
          "data": {
            "text/plain": [
              "0.5350000262260437"
            ]
          },
          "metadata": {
            "tags": []
          },
          "execution_count": 56
        }
      ]
    },
    {
      "cell_type": "markdown",
      "metadata": {
        "id": "-20zJRKVn8tn",
        "colab_type": "text"
      },
      "source": [
        "### 7.2 Confusion matrix"
      ]
    },
    {
      "cell_type": "code",
      "metadata": {
        "id": "i9qPaBp7rF-R",
        "colab_type": "code",
        "colab": {}
      },
      "source": [
        "cm = confusion_matrix(y_true, y_pred)\n",
        "#classes = enc.get_feature_names()\n",
        "classes = ['negative', 'positive']"
      ],
      "execution_count": 0,
      "outputs": []
    },
    {
      "cell_type": "code",
      "metadata": {
        "id": "9v4ZvKB5nJ5J",
        "colab_type": "code",
        "colab": {
          "base_uri": "https://localhost:8080/",
          "height": 269
        },
        "outputId": "cfb4ca5f-4084-48e4-cd88-ac5a22e65647"
      },
      "source": [
        "# CM raw\n",
        "cm_raw = print_confusion_matrix(cm, classes, title='Confusion Matrix', normalize=False, cmap=plt.cm.Blues, fontsize=10, figsize = (5,3))"
      ],
      "execution_count": 58,
      "outputs": [
        {
          "output_type": "display_data",
          "data": {
            "image/png": "[encoded data removed]",
            "text/plain": [
              "<Figure size 360x216 with 2 Axes>"
            ]
          },
          "metadata": {
            "tags": []
          }
        }
      ]
    },
    {
      "cell_type": "code",
      "metadata": {
        "id": "93uNywPSnwnJ",
        "colab_type": "code",
        "colab": {
          "base_uri": "https://localhost:8080/",
          "height": 269
        },
        "outputId": "0a2c9769-34e1-427b-d2e2-93f213b75434"
      },
      "source": [
        "# CM normalized\n",
        "cm_norm = print_confusion_matrix(cm, classes, title='Confusion Matrix normalized', normalize=True, cmap=plt.cm.Blues, fontsize=10, figsize = (5,3))"
      ],
      "execution_count": 59,
      "outputs": [
        {
          "output_type": "display_data",
          "data": {
            "image/png": "[encoded data removed]",
            "text/plain": [
              "<Figure size 360x216 with 2 Axes>"
            ]
          },
          "metadata": {
            "tags": []
          }
        }
      ]
    },
    {
      "cell_type": "markdown",
      "metadata": {
        "id": "I_SzvT7Tn1mx",
        "colab_type": "text"
      },
      "source": [
        "### 7.3 F1-score (macro, micro and weighted)"
      ]
    },
    {
      "cell_type": "code",
      "metadata": {
        "id": "PdsW-lsg52tF",
        "colab_type": "code",
        "colab": {}
      },
      "source": [
        "macro = f1_score(y_true, y_pred, average='macro')\n",
        "micro = f1_score(y_true, y_pred, average='micro')\n",
        "weighted = f1_score(y_true, y_pred, average='weighted')"
      ],
      "execution_count": 0,
      "outputs": []
    },
    {
      "cell_type": "code",
      "metadata": {
        "id": "AWnLOjG50mZ2",
        "colab_type": "code",
        "colab": {
          "base_uri": "https://localhost:8080/",
          "height": 80
        },
        "outputId": "1d557379-f65c-4ed7-83fe-75f3da629101"
      },
      "source": [
        "print('F1-score macro =', macro)\n",
        "print('F1-score micro =', micro)\n",
        "print('F1-score weighted =', weighted)"
      ],
      "execution_count": 61,
      "outputs": [
        {
          "output_type": "stream",
          "text": [
            "F1-score macro = 0.3485342019543974\n",
            "F1-score micro = 0.535\n",
            "F1-score weighted = 0.37293159609120524\n"
          ],
          "name": "stdout"
        }
      ]
    },
    {
      "cell_type": "markdown",
      "metadata": {
        "id": "o-ZMZrl5LT07",
        "colab_type": "text"
      },
      "source": [
        "### 7.4 Accuracy and Precision"
      ]
    },
    {
      "cell_type": "code",
      "metadata": {
        "id": "kC6rLq1RJTvf",
        "colab_type": "code",
        "colab": {
          "base_uri": "https://localhost:8080/",
          "height": 79
        },
        "outputId": "1bd58489-be54-4785-8f85-d4a91a7a3dd2"
      },
      "source": [
        "acc = accuracy_score(y_true, y_pred)\n",
        "prec = precision_score(y_true, y_pred, average='macro')"
      ],
      "execution_count": 62,
      "outputs": [
        {
          "output_type": "stream",
          "text": [
            "/usr/local/lib/python3.6/dist-packages/sklearn/metrics/_classification.py:1272: UndefinedMetricWarning: Precision is ill-defined and being set to 0.0 in labels with no predicted samples. Use `zero_division` parameter to control this behavior.\n",
            "  _warn_prf(average, modifier, msg_start, len(result))\n"
          ],
          "name": "stderr"
        }
      ]
    },
    {
      "cell_type": "code",
      "metadata": {
        "id": "r1ZSEi0_LPoV",
        "colab_type": "code",
        "colab": {
          "base_uri": "https://localhost:8080/",
          "height": 59
        },
        "outputId": "4b8a3e78-c576-47d7-aac1-53eaa39f4362"
      },
      "source": [
        "print('Accuracy score = ', acc, sep='')\n",
        "print('Precision score = ', prec, sep='')"
      ],
      "execution_count": 63,
      "outputs": [
        {
          "output_type": "stream",
          "text": [
            "Accuracy score = 0.535\n",
            "Precision score = 0.2675\n"
          ],
          "name": "stdout"
        }
      ]
    },
    {
      "cell_type": "markdown",
      "metadata": {
        "id": "q45GvKDwPbri",
        "colab_type": "text"
      },
      "source": [
        "### 7.5 Precision, Recall and F1-Score for each class"
      ]
    },
    {
      "cell_type": "code",
      "metadata": {
        "id": "XKyQhAEbPcAz",
        "colab_type": "code",
        "colab": {
          "base_uri": "https://localhost:8080/",
          "height": 268
        },
        "outputId": "e473457a-a45f-4a8a-b734-1e0b3eec2aaa"
      },
      "source": [
        "from sklearn.metrics import classification_report as cr\n",
        "print(cr(y_true, y_pred))"
      ],
      "execution_count": 64,
      "outputs": [
        {
          "output_type": "stream",
          "text": [
            "              precision    recall  f1-score   support\n",
            "\n",
            "           0       0.54      1.00      0.70       107\n",
            "           1       0.00      0.00      0.00        93\n",
            "\n",
            "    accuracy                           0.54       200\n",
            "   macro avg       0.27      0.50      0.35       200\n",
            "weighted avg       0.29      0.54      0.37       200\n",
            "\n"
          ],
          "name": "stdout"
        },
        {
          "output_type": "stream",
          "text": [
            "/usr/local/lib/python3.6/dist-packages/sklearn/metrics/_classification.py:1272: UndefinedMetricWarning: Precision and F-score are ill-defined and being set to 0.0 in labels with no predicted samples. Use `zero_division` parameter to control this behavior.\n",
            "  _warn_prf(average, modifier, msg_start, len(result))\n"
          ],
          "name": "stderr"
        }
      ]
    },
    {
      "cell_type": "markdown",
      "metadata": {
        "id": "yLdo6-mrdClK",
        "colab_type": "text"
      },
      "source": [
        "## 8. Number of parameters"
      ]
    },
    {
      "cell_type": "code",
      "metadata": {
        "id": "XX0qhxPDdIon",
        "colab_type": "code",
        "colab": {
          "base_uri": "https://localhost:8080/",
          "height": 164
        },
        "outputId": "79382c96-fb4d-4ee1-ad14-aa9f1a34a1c7"
      },
      "source": [
        "nparam(model, verbose=True)"
      ],
      "execution_count": 65,
      "outputs": [
        {
          "output_type": "stream",
          "text": [
            "layer 0: layer1.weight; parameters: 65500\n",
            "layer 1: layer1.bias; parameters: 500\n",
            "layer 2: layer2.weight; parameters: 250000\n",
            "layer 3: layer2.bias; parameters: 500\n",
            "layer 4: layer3.weight; parameters: 1000\n",
            "layer 5: layer3.bias; parameters: 2\n",
            "total parameters =  317502\n"
          ],
          "name": "stdout"
        }
      ]
    },
    {
      "cell_type": "markdown",
      "metadata": {
        "colab_type": "text",
        "id": "PtuXpG9wRimA"
      },
      "source": [
        "## End of the notebook"
      ]
    }
  ]
}