{
  "nbformat": 4,
  "nbformat_minor": 0,
  "metadata": {
    "colab": {
      "name": "[week 3] BERT step-by-step.ipynb",
      "provenance": [],
      "collapsed_sections": [],
      "toc_visible": true,
      "machine_shape": "hm"
    },
    "kernelspec": {
      "name": "python3",
      "display_name": "Python 3"
    },
    "accelerator": "GPU"
  },
  "cells": [
    {
      "cell_type": "markdown",
      "metadata": {
        "colab_type": "text",
        "id": "_HJylV3FaCW-"
      },
      "source": [
        "# PF06 - NSGC: Neural Spell & Grammar Checker (en/pt)\n"
      ]
    },
    {
      "cell_type": "markdown",
      "metadata": {
        "colab_type": "text",
        "id": "YRl8RXScaCXD"
      },
      "source": [
        "Author: **Rafael Ito**  \n",
        "e-mail: ito.rafael@gmail.com"
      ]
    },
    {
      "cell_type": "markdown",
      "metadata": {
        "colab_type": "text",
        "id": "Oif-NcHKaCXH"
      },
      "source": [
        "# 0. Dataset and Description\n",
        "\n",
        "**Name:**  CoNLL-2014, JFLEG, BEA  \n",
        "**Description:** in this notebook we will use BERT and T5 to predict words in a sentence to perform a spell and grammar checker for Portuguese and English languages. For English, we will use the BERT and T5 models from transformers library (huggingface) and evaluate the performance in CoNLL-2014 and JFLEG datasets. For Portuguese, we will use the transformers/neuralmind BERT version and a custom dataset for evaluation.\n"
      ]
    },
    {
      "cell_type": "markdown",
      "metadata": {
        "colab_type": "text",
        "id": "7XwitPYaaCXK"
      },
      "source": [
        "# 1. Libraries and packages"
      ]
    },
    {
      "cell_type": "markdown",
      "metadata": {
        "colab_type": "text",
        "id": "OHrzjo4zaCXN"
      },
      "source": [
        "## 1.1 Check device"
      ]
    },
    {
      "cell_type": "code",
      "metadata": {
        "colab_type": "code",
        "id": "XnOw3PfyaCXQ",
        "colab": {
          "base_uri": "https://localhost:8080/",
          "height": 36
        },
        "outputId": "2cae1619-672c-4430-ab21-d1c2305dd6df"
      },
      "source": [
        "import torch\n",
        "device = torch.device('cpu')\n",
        "if torch.cuda.is_available():\n",
        "    device_model = torch.cuda.get_device_name(0)\n",
        "print('GPU model:', device_model)"
      ],
      "execution_count": 1,
      "outputs": [
        {
          "output_type": "stream",
          "text": [
            "GPU model: Tesla P100-PCIE-16GB\n"
          ],
          "name": "stdout"
        }
      ]
    },
    {
      "cell_type": "markdown",
      "metadata": {
        "colab_type": "text",
        "id": "SdU4ThDJaCXd"
      },
      "source": [
        "## 1.2 Install packages"
      ]
    },
    {
      "cell_type": "code",
      "metadata": {
        "colab_type": "code",
        "id": "X2QtnwOMaCXf",
        "colab": {}
      },
      "source": [
        "# install Python libs\n",
        "!pip install -q     \\\n",
        "    numpy           \\\n",
        "    torch           \\\n",
        "    transformers    \n",
        "#----------------------------\n",
        "# install PyEnchant\n",
        "! apt-get -qq update\n",
        "! apt-get -qq install libenchant-dev\n",
        "! pip install -q pyenchant\n",
        "#----------------------------\n",
        "# string similarity and distance\n",
        "! pip install -q strsimpy"
      ],
      "execution_count": 2,
      "outputs": []
    },
    {
      "cell_type": "markdown",
      "metadata": {
        "colab_type": "text",
        "id": "Yxu96LdQaCXp"
      },
      "source": [
        "## 1.3 Import libraries"
      ]
    },
    {
      "cell_type": "code",
      "metadata": {
        "colab_type": "code",
        "id": "QNYcm9aWaCXq",
        "colab": {
          "base_uri": "https://localhost:8080/",
          "height": 75
        },
        "outputId": "03f15f53-ae8a-4b08-c82f-0fc74162f4b0"
      },
      "source": [
        "#-------------------------------------------------\n",
        "# general\n",
        "import torch\n",
        "import numpy as np\n",
        "import pandas as pd\n",
        "import sys\n",
        "import os\n",
        "import pdb\n",
        "import codecs\n",
        "import subprocess\n",
        "from multiprocessing import cpu_count\n",
        "#-------------------------------------------------\n",
        "# NLP\n",
        "from transformers import T5Tokenizer, BertTokenizer, BertForMaskedLM, T5ForConditionalGeneration\n",
        "import enchant\n",
        "import nltk\n",
        "nltk.download('words')\n",
        "from nltk.corpus import words\n",
        "#-------------------------------------------------\n",
        "# Edit distance algorithms\n",
        "from strsimpy.levenshtein import Levenshtein\n",
        "from strsimpy.normalized_levenshtein import NormalizedLevenshtein\n",
        "from strsimpy.weighted_levenshtein import WeightedLevenshtein\n",
        "from strsimpy.weighted_levenshtein import CharacterSubstitutionInterface\n",
        "from strsimpy.damerau import Damerau\n",
        "from strsimpy.optimal_string_alignment import OptimalStringAlignment\n",
        "#-------------------------------------------------\n",
        "# random seed generator\n",
        "seed = 42\n",
        "np.random.seed(seed)\n",
        "torch.manual_seed(seed)\n",
        "torch.cuda.manual_seed(seed)\n",
        "#-------------------------------------------------\n",
        "# Suppress some of the logging\n",
        "import logging\n",
        "logging.getLogger(\"transformers.configuration_utils\").setLevel(logging.WARNING)\n",
        "logging.getLogger(\"transformers.modeling_utils\").setLevel(logging.WARNING)\n",
        "logging.getLogger(\"transformers.tokenization_utils\").setLevel(logging.WARNING)\n",
        "#-------------------------------------------------\n",
        "# Suppress warning messages\n",
        "import warnings\n",
        "warnings.filterwarnings(\"ignore\")\n",
        "#-------------------------------------------------\n",
        "# package version\n",
        "print('Torch version:', torch.__version__)"
      ],
      "execution_count": 3,
      "outputs": [
        {
          "output_type": "stream",
          "text": [
            "[nltk_data] Downloading package words to /root/nltk_data...\n",
            "[nltk_data]   Package words is already up-to-date!\n",
            "Torch version: 1.5.1+cu101\n"
          ],
          "name": "stdout"
        }
      ]
    },
    {
      "cell_type": "markdown",
      "metadata": {
        "colab_type": "text",
        "id": "4eIParTFaCXy"
      },
      "source": [
        "## 1.4 Device info"
      ]
    },
    {
      "cell_type": "code",
      "metadata": {
        "colab_type": "code",
        "id": "e3_K5asBaCXz",
        "colab": {
          "base_uri": "https://localhost:8080/",
          "height": 114
        },
        "outputId": "1dac76eb-6e78-45c3-a31f-db203914712b"
      },
      "source": [
        "import torch\n",
        "device = torch.device('cpu')\n",
        "if torch.cuda.is_available():\n",
        "    device = torch.device('cuda')\n",
        "    device_model = torch.cuda.get_device_name(0)\n",
        "    device_memory = torch.cuda.get_device_properties(device).total_memory / 1e9\n",
        "#----------------------------\n",
        "print('Device:', device)\n",
        "print('GPU model:', device_model)\n",
        "print('GPU memory: {0:.2f} GB'.format(device_memory))\n",
        "print('#-------------------')\n",
        "print('CPU cores:', cpu_count())"
      ],
      "execution_count": 4,
      "outputs": [
        {
          "output_type": "stream",
          "text": [
            "Device: cuda\n",
            "GPU model: Tesla P100-PCIE-16GB\n",
            "GPU memory: 17.07 GB\n",
            "#-------------------\n",
            "CPU cores: 4\n"
          ],
          "name": "stdout"
        }
      ]
    },
    {
      "cell_type": "markdown",
      "metadata": {
        "colab_type": "text",
        "id": "810_PqyHaCX7"
      },
      "source": [
        "# 2. Custom functions and classes"
      ]
    },
    {
      "cell_type": "markdown",
      "metadata": {
        "id": "lrRWKsWkAkdU",
        "colab_type": "text"
      },
      "source": [
        "## 2.1 Function to read file"
      ]
    },
    {
      "cell_type": "code",
      "metadata": {
        "colab_type": "code",
        "id": "sPNISr1VaCX9",
        "colab": {}
      },
      "source": [
        "'''\n",
        "function that reads a file and return its text\n",
        "#------------------------------------------------------\n",
        "parameters:\n",
        "    - path: path of the file to be read\n",
        "    - encoding: encoding to be used\n",
        "returns:\n",
        "    file content as list of strings\n",
        "'''\n",
        "def read_file(path, encoding='utf-8'):\n",
        "    with codecs.open(path, encoding=encoding) as f:\n",
        "        return f.read().splitlines()"
      ],
      "execution_count": 5,
      "outputs": []
    },
    {
      "cell_type": "markdown",
      "metadata": {
        "id": "CpyM_L_ly9Yc",
        "colab_type": "text"
      },
      "source": [
        "## 2.2 Function to write in file"
      ]
    },
    {
      "cell_type": "code",
      "metadata": {
        "id": "lLCa0dLi0tqy",
        "colab_type": "code",
        "colab": {}
      },
      "source": [
        "'''\n",
        "function that writes list of strings in a file\n",
        "#------------------------------------------------------\n",
        "parameters:\n",
        "    - sentences: list of strings to be written in file\n",
        "    - path: path of the file where strings will be written\n",
        "returns:\n",
        "    path: same as input\n",
        "'''\n",
        "def write_file(sentences, path, encoding='utf-8'):\n",
        "    with codecs.open(path, 'w', encoding=encoding) as f:\n",
        "        for sentence in sentences:\n",
        "            f.write(sentence + '\\n')\n",
        "    f.close()\n",
        "    return path"
      ],
      "execution_count": 6,
      "outputs": []
    },
    {
      "cell_type": "markdown",
      "metadata": {
        "colab_type": "text",
        "id": "l5phhds3aCYP"
      },
      "source": [
        "## 2.3 Function to get tokenizer"
      ]
    },
    {
      "cell_type": "code",
      "metadata": {
        "colab_type": "code",
        "id": "qJOiUWH4aCYQ",
        "colab": {}
      },
      "source": [
        "'''\n",
        "function that returns the tokenizer associated to a string\n",
        "#------------------------------------------------------\n",
        "parameters:\n",
        "    tokenizer:\n",
        "      BERT options:\n",
        "        - 'bert-base-cased'\n",
        "        - 'bert-large-cased'\n",
        "        - 'bert-base-uncased'\n",
        "        - 'bert-large-uncased'\n",
        "      T5 options:\n",
        "        - 't5-small'\n",
        "        - 't5-base'\n",
        "        - 't5-large'\n",
        "        - 't5-3b'\n",
        "        - 't5-11b'\n",
        "      otherwise raise an error\n",
        "returns:\n",
        "    Hugging Face's tokenizer\n",
        "'''\n",
        "def get_tokenizer(tokenizer):\n",
        "    # BERT\n",
        "    if ((tokenizer == 'bert-base-cased') or \n",
        "        (tokenizer == 'bert-large-cased') or\n",
        "        (tokenizer == 'bert-base-uncased') or \n",
        "        (tokenizer == 'bert-large-uncased') or\n",
        "        (tokenizer == 'neuralmind/bert-large-portuguese-cased') or \n",
        "        (tokenizer == 'neuralmind/bert-base-portuguese-cased')):\n",
        "        return BertTokenizer.from_pretrained(tokenizer)\n",
        "    #------------------------------------------------------\n",
        "    # T5\n",
        "    elif ((tokenizer == 't5-small') or \n",
        "          (tokenizer == 't5-base') or \n",
        "          (tokenizer == 't5-large') or \n",
        "          (tokenizer == 't5-3b') or \n",
        "          (tokenizer == 't5-11b')):\n",
        "        return T5Tokenizer.from_pretrained(tokenizer)\n",
        "    #------------------------------------------------------\n",
        "    else:\n",
        "        raise ValueError(f'Unsupported tokenizer: {tokenizer}')\n"
      ],
      "execution_count": 7,
      "outputs": []
    },
    {
      "cell_type": "markdown",
      "metadata": {
        "colab_type": "text",
        "id": "l8wvyBddaCYY"
      },
      "source": [
        "## 2.4 Function to get model"
      ]
    },
    {
      "cell_type": "code",
      "metadata": {
        "colab_type": "code",
        "id": "N_JDyKfjaCYZ",
        "colab": {}
      },
      "source": [
        "'''\n",
        "function that returns the the network model associated to a string\n",
        "#------------------------------------------------------\n",
        "parameters:\n",
        "    model_name:\n",
        "      BERT models:\n",
        "        - 'bert-base-cased'                         # BERT base  cased   [en] (110 M params)\n",
        "        - 'bert-large-cased'                        # BERT large cased   [en] (340 M params)\n",
        "        - 'bert-base-uncased'                       # BERT base  uncased [en] (110 M params)\n",
        "        - 'bert-large-uncased'                      # BERT large uncased [en] (340 M params)\n",
        "        - 'neuralmind/bert-base-portuguese-cased'   # BERT base  cased   [pt] (110 M params)\n",
        "        - 'neuralmind/bert-large-portuguese-cased'  # BERT large cased   [pt] (340 M params)\n",
        "      T5 models:\n",
        "        - 't5-small' (60 M params)\n",
        "        - 't5-base'  (220 M params)\n",
        "        - 't5-large' (770 M params)\n",
        "        - 't5-3B'    (2.8 B params)\n",
        "        - 't5-11B'   (11 B params)\n",
        "      otherwise raise an error\n",
        "returns:\n",
        "    Hugging Face's model\n",
        "'''\n",
        "def get_model(model_name):\n",
        "    # BERT\n",
        "    if ((model_name == 'bert-base-cased') or                        # BERT base  cased   [en]\n",
        "        (model_name == 'bert-large-cased') or                       # BERT large cased   [en]\n",
        "        (model_name == 'bert-base-uncased') or                      # BERT base  uncased [en]\n",
        "        (model_name == 'bert-large-uncased') or                     # BERT large uncased [en]\n",
        "        (model_name == 'neuralmind/bert-base-portuguese-cased') or  # BERT base  cased   [pt]\n",
        "        (model_name == 'neuralmind/bert-large-portuguese-cased')):  # BERT large cased   [pt]\n",
        "        return BertForMaskedLM.from_pretrained(model_name)\n",
        "    #------------------------------------------------------\n",
        "    # T5\n",
        "    elif ((model_name == 't5-small') or     # T5 small [en]   242 MB\n",
        "          (model_name == 't5-base')  or     # T5 base  [en]   892 MB\n",
        "          (model_name == 't5-large') or     # T5 large [en]  2.95 GB\n",
        "          (model_name == 't5-3B')    or     # T5 3B    [en]  11.4 GB\n",
        "          (model_name == 't5-11B')):        # T5 11B   [en]  ??.? GB\n",
        "        return T5ForConditionalGeneration.from_pretrained(model_name, use_bfloat16=True)\n",
        "    #------------------------------------------------------\n",
        "    else:\n",
        "        raise ValueError(f'Unsupported model: {model_name}')"
      ],
      "execution_count": 8,
      "outputs": []
    },
    {
      "cell_type": "markdown",
      "metadata": {
        "id": "3c93U-7ppa9Z",
        "colab_type": "text"
      },
      "source": [
        "## 2.5 Function to edit distance algorithm"
      ]
    },
    {
      "cell_type": "code",
      "metadata": {
        "id": "TI2HyauqlhLm",
        "colab_type": "code",
        "colab": {}
      },
      "source": [
        "'''\n",
        "function that returns the algorithm to calculate the edit distance\n",
        "#------------------------------------------------------\n",
        "parameters:                   +--------------------------+---------+\n",
        "    algorithm:                |        algorithm         | metric? |\n",
        "                              +--------------------------+---------+\n",
        "        - 'levenshtein'       | Levenshtein              |   yes   |\n",
        "        - 'normalized'        | Normalized Levenshtein   |   no    |\n",
        "        - 'weighted'          | Weighted Levenshtein     |   no    |\n",
        "        - 'damerau'           | Damerau-Levenshtein      |   yes   |\n",
        "        - 'osa'               | Optimal String Alignment |   no    |\n",
        "    otherwise raise an error  +--------------------------+---------+\n",
        "returns:\n",
        "    edit distance algorithm\n",
        "'''\n",
        "def get_distance_algorithm(algorithm):\n",
        "    if (algorithm == 'levenshtein'):\n",
        "        return Levenshtein()\n",
        "    elif (algorithm == 'normalized'):\n",
        "        return NormalizedLevenshtein()\n",
        "    elif (algorithm == 'weighted'):\n",
        "        return \n",
        "    elif (algorithm == 'damerau'):\n",
        "        return Damerau()\n",
        "    elif (algorithm == 'osa'):\n",
        "        return OptimalStringAlignment()\n",
        "    else:\n",
        "        raise ValueError(f'Unsupported algorithm: {algorithm}')"
      ],
      "execution_count": 9,
      "outputs": []
    },
    {
      "cell_type": "markdown",
      "metadata": {
        "id": "k6YO8zkSPzWe",
        "colab_type": "text"
      },
      "source": [
        "## 2.6 Function to calculate GLEU score"
      ]
    },
    {
      "cell_type": "code",
      "metadata": {
        "id": "raq4l8OAdXfm",
        "colab_type": "code",
        "colab": {}
      },
      "source": [
        "'''\n",
        "function that receives text files and calculate GLEU score\n",
        "#------------------------------------------------------\n",
        "parameters:\n",
        "    - src: source file\n",
        "    - ref: reference file(s)\n",
        "    - hyp: hypothesis file\n",
        "    - n: n-gram order\n",
        "    - num_iter: number of GLEU iterations\n",
        "    - sent: sentence level scores\n",
        "returns:\n",
        "    GLEU score (float)\n",
        "'''\n",
        "def calc_gleu(src, ref, hyp, n=4, num_iter=500, sent=False):\n",
        "    gleu_calculator.load_sources(src)\n",
        "    gleu_calculator.load_references(ref)\n",
        "    if len(ref) == 1:\n",
        "        print(\"There is one reference. NOTE: GLEU is not computing the confidence interval.\")\n",
        "        gleu = [g for g in gleu_calculator.run_iterations(\n",
        "            num_iterations=num_iter,\n",
        "            source=src,\n",
        "            hypothesis=hyp,\n",
        "            per_sent=sent)][0][0] \n",
        "    else:\n",
        "        gleu = [g for g in gleu_calculator.run_iterations(\n",
        "            num_iterations=num_iter,\n",
        "            source=src,\n",
        "            hypothesis=hyp,\n",
        "            per_sent=sent)][0][0]\n",
        "    #print(gleu)\n",
        "    return float(gleu)*100"
      ],
      "execution_count": 10,
      "outputs": []
    },
    {
      "cell_type": "markdown",
      "metadata": {
        "id": "K85K64M_7Vo2",
        "colab_type": "text"
      },
      "source": [
        "## 2.7 Function to calculate MaxMatch score"
      ]
    },
    {
      "cell_type": "code",
      "metadata": {
        "id": "RQ-tjeb-5JW-",
        "colab_type": "code",
        "colab": {}
      },
      "source": [
        "'''\n",
        "function that runs Python 2 script to calculate M^2 score\n",
        "#------------------------------------------------------\n",
        "parameters:\n",
        "    - src_file_path: source file path\n",
        "    - ref_file_path: reference file path\n",
        "returns:\n",
        "    MaxMatch score (precision, recall, F_{0.5}) as string\n",
        "'''\n",
        "def m2scorer(src_file_path, ref_file_path):\n",
        "    process = subprocess.Popen(['/content/m2scorer/scripts/m2scorer.py', src_file_path, ref_file_path], stdout=subprocess.PIPE)\n",
        "    output, error = process.communicate()\n",
        "    output = output.decode(\"utf-8\")\n",
        "    return output"
      ],
      "execution_count": 11,
      "outputs": []
    },
    {
      "cell_type": "markdown",
      "metadata": {
        "id": "c97AaIugm5CT",
        "colab_type": "text"
      },
      "source": [
        "## 2.8 Function parse M2 file"
      ]
    },
    {
      "cell_type": "code",
      "metadata": {
        "id": "McGSJNNafjDz",
        "colab_type": "code",
        "colab": {}
      },
      "source": [
        "'''\n",
        "function that receives M2 format file and returns original sentences\n",
        "#------------------------------------------------------\n",
        "parameters:\n",
        "    - m2_file: reference file in M2 format\n",
        "    - output_file: file where the output will be written\n",
        "returns:\n",
        "    list of strings with original sentences\n",
        "'''\n",
        "def m2_parser(m2_file, output_file):\n",
        "    # create output file\n",
        "    !touch /content/conll14st-test-data/noalt/official-2014.1.cor\n",
        "    # delete annotations, blank lines and 'S ' at the beginning of sentences\n",
        "    !sed -e '/^A/d' -e '/^$/d' -e 's/^S //g' $m2_file > $output_file\n",
        "    # read output file and return it as list of string\n",
        "    conll_2014_test_src = read_file(output_file)\n",
        "    return conll_2014_test_src"
      ],
      "execution_count": 12,
      "outputs": []
    },
    {
      "cell_type": "markdown",
      "metadata": {
        "colab_type": "text",
        "id": "LzlkzhHPaCZD"
      },
      "source": [
        "# 3. Datasets"
      ]
    },
    {
      "cell_type": "markdown",
      "metadata": {
        "colab_type": "text",
        "id": "UWXy8iYIbPGQ"
      },
      "source": [
        "## 3.1 CoNLL-2013"
      ]
    },
    {
      "cell_type": "markdown",
      "metadata": {
        "colab_type": "text",
        "id": "HPQMtQKtbPGW"
      },
      "source": [
        "### 3.1.1 Download"
      ]
    },
    {
      "cell_type": "code",
      "metadata": {
        "colab_type": "code",
        "id": "l9ZWF4GMbPGb",
        "colab": {}
      },
      "source": [
        "# test set\n",
        "! wget -q -nc https://www.comp.nus.edu.sg/~nlp/conll13st/release2.3.1.tar.gz\n",
        "! tar -xzf release2.3.1.tar.gz\n",
        "! rm release2.3.1.tar.gz"
      ],
      "execution_count": 13,
      "outputs": []
    },
    {
      "cell_type": "markdown",
      "metadata": {
        "colab_type": "text",
        "id": "-rN8qr49bPG3"
      },
      "source": [
        "### 3.1.2 Test set"
      ]
    },
    {
      "cell_type": "code",
      "metadata": {
        "colab_type": "code",
        "id": "vLxelb0BbPG4",
        "colab": {}
      },
      "source": [
        "# import test set\n",
        "#---------------------------\n",
        "# source\n",
        "m2_file     = '/content/release2.3.1/revised/data/official-preprocessed.m2'\n",
        "output_file = '/content/release2.3.1/revised/data/official-preprocessed.src'\n",
        "conll_2013_test_src = m2_parser(m2_file, output_file)\n",
        "# reference\n",
        "conll_2013_test_ref = read_file(m2_file)"
      ],
      "execution_count": 14,
      "outputs": []
    },
    {
      "cell_type": "markdown",
      "metadata": {
        "colab_type": "text",
        "id": "hpRqjctlbPHA"
      },
      "source": [
        "### 3.1.3 Sample"
      ]
    },
    {
      "cell_type": "code",
      "metadata": {
        "colab_type": "code",
        "id": "y8nkpoxDbPHB",
        "colab": {
          "base_uri": "https://localhost:8080/",
          "height": 191
        },
        "outputId": "6fab9927-e2b0-48f5-937d-9e5f65dd5264"
      },
      "source": [
        "print('original sentence:')\n",
        "print(conll_2013_test_src[0])\n",
        "#---------------------------\n",
        "print('\\nannotation:')\n",
        "print(*conll_2013_test_ref[0:4], sep='\\n')"
      ],
      "execution_count": 15,
      "outputs": [
        {
          "output_type": "stream",
          "text": [
            "original sentence:\n",
            "In modern digital world , electronic products are widely used in daily lives such as Smart phones , computers and etc .\n",
            "\n",
            "annotation:\n",
            "S In modern digital world , electronic products are widely used in daily lives such as Smart phones , computers and etc .\n",
            "A 1 1|||ArtOrDet|||the|||REQUIRED|||-NONE-|||0\n",
            "A 12 13|||Nn|||life|||REQUIRED|||-NONE-|||0\n",
            "A 15 16|||Mec|||smart|||REQUIRED|||-NONE-|||0\n"
          ],
          "name": "stdout"
        }
      ]
    },
    {
      "cell_type": "markdown",
      "metadata": {
        "colab_type": "text",
        "id": "9AvvRk6HaCZk"
      },
      "source": [
        "## 3.2 CoNLL-2014"
      ]
    },
    {
      "cell_type": "markdown",
      "metadata": {
        "id": "bmtSxziZOKnO",
        "colab_type": "text"
      },
      "source": [
        "### 3.2.1 Download"
      ]
    },
    {
      "cell_type": "code",
      "metadata": {
        "id": "70DO7E2GOMsV",
        "colab_type": "code",
        "colab": {}
      },
      "source": [
        "## training set\n",
        "#from google.colab import drive\n",
        "#drive.mount('/gdrive')\n",
        "#---------------------------\n",
        "# test set\n",
        "! wget -q -nc https://www.comp.nus.edu.sg/~nlp/conll14st/conll14st-test-data.tar.gz\n",
        "! tar -xzf conll14st-test-data.tar.gz\n",
        "! rm conll14st-test-data.tar.gz"
      ],
      "execution_count": 16,
      "outputs": []
    },
    {
      "cell_type": "markdown",
      "metadata": {
        "id": "d5gY1fUrBQTM",
        "colab_type": "text"
      },
      "source": [
        "### 3.2.2 Training set"
      ]
    },
    {
      "cell_type": "code",
      "metadata": {
        "colab_type": "code",
        "id": "kRqzMcUzaCZt",
        "colab": {}
      },
      "source": [
        "# # import training set\n",
        "# #---------------------------\n",
        "# source\n",
        "# m2_file     = '/gdrive/My Drive/Colab Notebooks/IA376E/Final Project/CoNLL-2014/release3.3/data/conll14st-preprocessed.m2'\n",
        "# output_file = '/gdrive/My Drive/Colab Notebooks/IA376E/Final Project/CoNLL-2014/release3.3/data/conll14st-preprocessed.src'\n",
        "# conll_2014_test_src = m2_parser(m2_file, output_file)\n",
        "# # reference\n",
        "# conll_2014_train_ref = read_file(m2_file)"
      ],
      "execution_count": 17,
      "outputs": []
    },
    {
      "cell_type": "markdown",
      "metadata": {
        "id": "48DvLgUL-YWQ",
        "colab_type": "text"
      },
      "source": [
        "### 3.2.3 Test set"
      ]
    },
    {
      "cell_type": "code",
      "metadata": {
        "id": "PklOfNoe-aBM",
        "colab_type": "code",
        "colab": {}
      },
      "source": [
        "# import test set\n",
        "#---------------------------\n",
        "# source\n",
        "m2_file     = '/content/conll14st-test-data/noalt/official-2014.1.m2'\n",
        "output_file = '/content/conll14st-test-data/noalt/official-2014.1.src'\n",
        "conll_2014_test_src = m2_parser(m2_file, output_file)\n",
        "# reference\n",
        "conll_2014_test_ref = read_file(m2_file)"
      ],
      "execution_count": 18,
      "outputs": []
    },
    {
      "cell_type": "markdown",
      "metadata": {
        "id": "ND1owATCBSVv",
        "colab_type": "text"
      },
      "source": [
        "### 3.2.4 Sample"
      ]
    },
    {
      "cell_type": "code",
      "metadata": {
        "id": "1LDPER-iJwC3",
        "colab_type": "code",
        "colab": {
          "base_uri": "https://localhost:8080/",
          "height": 133
        },
        "outputId": "29027569-c638-4ebc-e21b-cb8b4b54c9d0"
      },
      "source": [
        "print('original sentence:')\n",
        "print(conll_2014_test_src[3])\n",
        "#---------------------------\n",
        "print('\\nannotation:')\n",
        "print(*conll_2014_test_ref[7:9], sep='\\n')"
      ],
      "execution_count": 19,
      "outputs": [
        {
          "output_type": "stream",
          "text": [
            "original sentence:\n",
            "People get certain disease because of genetic changes .\n",
            "\n",
            "annotation:\n",
            "S People get certain disease because of genetic changes .\n",
            "A 3 4|||Nn|||diseases|||REQUIRED|||-NONE-|||0\n"
          ],
          "name": "stdout"
        }
      ]
    },
    {
      "cell_type": "markdown",
      "metadata": {
        "colab_type": "text",
        "id": "a91pQqViaCZ9"
      },
      "source": [
        "## 3.3 JFLEG"
      ]
    },
    {
      "cell_type": "markdown",
      "metadata": {
        "id": "y3c37lULNtt2",
        "colab_type": "text"
      },
      "source": [
        "### 3.3.1 Download"
      ]
    },
    {
      "cell_type": "code",
      "metadata": {
        "id": "dhChJtUzNvYk",
        "colab_type": "code",
        "colab": {}
      },
      "source": [
        "# clone GitHub repo\n",
        "! git clone --quiet https://github.com/keisks/jfleg.git 2> /dev/null"
      ],
      "execution_count": 20,
      "outputs": []
    },
    {
      "cell_type": "markdown",
      "metadata": {
        "id": "6_j57PTqKiPX",
        "colab_type": "text"
      },
      "source": [
        "### 3.3.2 Training set"
      ]
    },
    {
      "cell_type": "code",
      "metadata": {
        "colab_type": "code",
        "id": "rJ-GN6dLaCaF",
        "colab": {}
      },
      "source": [
        "# import training set\n",
        "#---------------------------\n",
        "# source\n",
        "jfleg_train_src = read_file('jfleg/dev/dev.src')\n",
        "# references\n",
        "jfleg_train_ref0 = read_file('jfleg/dev/dev.ref0')\n",
        "jfleg_train_ref1 = read_file('jfleg/dev/dev.ref1')\n",
        "jfleg_train_ref2 = read_file('jfleg/dev/dev.ref2')\n",
        "jfleg_train_ref3 = read_file('jfleg/dev/dev.ref3')"
      ],
      "execution_count": 21,
      "outputs": []
    },
    {
      "cell_type": "markdown",
      "metadata": {
        "colab_type": "text",
        "id": "ZL0W3y5CNcex"
      },
      "source": [
        "### 3.3.3 Test set"
      ]
    },
    {
      "cell_type": "code",
      "metadata": {
        "colab_type": "code",
        "id": "3sqG-fWFNce3",
        "colab": {}
      },
      "source": [
        "# import test set\n",
        "#---------------------------\n",
        "# source\n",
        "jfleg_test_src = read_file('jfleg/test/test.src')\n",
        "# references\n",
        "jfleg_test_ref0 = read_file('jfleg/test/test.ref0')\n",
        "jfleg_test_ref1 = read_file('jfleg/test/test.ref1')\n",
        "jfleg_test_ref2 = read_file('jfleg/test/test.ref2')\n",
        "jfleg_test_ref3 = read_file('jfleg/test/test.ref3')"
      ],
      "execution_count": 22,
      "outputs": []
    },
    {
      "cell_type": "markdown",
      "metadata": {
        "id": "dUNVKEuFKoXH",
        "colab_type": "text"
      },
      "source": [
        "### 3.3.4 Sample"
      ]
    },
    {
      "cell_type": "code",
      "metadata": {
        "colab_type": "code",
        "id": "t419IfzIaCaO",
        "colab": {
          "base_uri": "https://localhost:8080/",
          "height": 171
        },
        "outputId": "30967c25-3305-4916-c7ac-6206d3004301"
      },
      "source": [
        "# print source and references example\n",
        "print('source sentence:')\n",
        "print(jfleg_test_src[0])\n",
        "#---------------------------\n",
        "print('\\nreferences sentences:')\n",
        "print(jfleg_test_ref0[0])\n",
        "print(jfleg_test_ref1[0])\n",
        "print(jfleg_test_ref2[0])\n",
        "print(jfleg_test_ref3[0])"
      ],
      "execution_count": 23,
      "outputs": [
        {
          "output_type": "stream",
          "text": [
            "source sentence:\n",
            "New and new technology has been introduced to the society .\n",
            "\n",
            "references sentences:\n",
            "New technology has been introduced to society .\n",
            "New technology has been introduced into the society .\n",
            "Newer and newer technology has been introduced into society .\n",
            "Newer and newer technology has been introduced to the society .\n"
          ],
          "name": "stdout"
        }
      ]
    },
    {
      "cell_type": "markdown",
      "metadata": {
        "colab_type": "text",
        "id": "Vgx-1UDPaCaS"
      },
      "source": [
        "## 3.4 BEA"
      ]
    },
    {
      "cell_type": "markdown",
      "metadata": {
        "id": "vbbURbluKq-b",
        "colab_type": "text"
      },
      "source": [
        "### 3.4.1 Download"
      ]
    },
    {
      "cell_type": "code",
      "metadata": {
        "colab_type": "code",
        "id": "UQF6RbRNaCaU",
        "colab": {}
      },
      "source": [
        "# download test data\n",
        "! wget -q -nc https://www.cl.cam.ac.uk/research/nl/bea2019st/data/wi+locness_v2.1.bea19.tar.gz\n",
        "! tar -xzf wi+locness_v2.1.bea19.tar.gz\n",
        "! rm wi+locness_v2.1.bea19.tar.gz"
      ],
      "execution_count": 24,
      "outputs": []
    },
    {
      "cell_type": "markdown",
      "metadata": {
        "colab_type": "text",
        "id": "CLbTX4UWLd3c"
      },
      "source": [
        "### 3.4.2 Training set"
      ]
    },
    {
      "cell_type": "code",
      "metadata": {
        "colab_type": "code",
        "id": "lShaa-b4Ld3m",
        "colab": {}
      },
      "source": [
        "# import test set\n",
        "#---------------------------\n",
        "# source\n",
        "# read A, B, C M2 file\n",
        "m2_file_A = '/content/wi+locness/m2/A.train.gold.bea19.m2'\n",
        "m2_file_B = '/content/wi+locness/m2/B.train.gold.bea19.m2'\n",
        "m2_file_C = '/content/wi+locness/m2/C.train.gold.bea19.m2'\n",
        "# read and concatenate all files\n",
        "m2_ABC_file = read_file(m2_file_A) + read_file(m2_file_B) + read_file(m2_file_C)\n",
        "# save to a file\n",
        "m2_file = '/content/wi+locness/m2/ABC.train.gold.bea19.m2'\n",
        "with open(m2_file, 'w') as f:\n",
        "    for line in m2_ABC_file:\n",
        "        f.write('%s\\n' %line)\n",
        "# parse M2 file\n",
        "output_file = '/content/wi+locness/m2/ABCN.train.gold.bea19.src'\n",
        "bea_train_src = m2_parser(m2_file, output_file)\n",
        "#---------------------------\n",
        "# reference\n",
        "bea_train_ref = read_file(m2_file)"
      ],
      "execution_count": 25,
      "outputs": []
    },
    {
      "cell_type": "markdown",
      "metadata": {
        "colab_type": "text",
        "id": "qb855LhMPBPQ"
      },
      "source": [
        "### 3.4.3 Development set"
      ]
    },
    {
      "cell_type": "code",
      "metadata": {
        "colab_type": "code",
        "id": "LiS0Bka9PBPY",
        "colab": {}
      },
      "source": [
        "# import test set\n",
        "#---------------------------\n",
        "# source\n",
        "m2_file     = '/content/wi+locness/m2/ABCN.dev.gold.bea19.m2'\n",
        "output_file = '/content/wi+locness/m2/ABCN.dev.gold.bea19.src'\n",
        "bea_test_src = m2_parser(m2_file, output_file)\n",
        "# reference\n",
        "bea_test_ref = read_file(m2_file)"
      ],
      "execution_count": 26,
      "outputs": []
    },
    {
      "cell_type": "markdown",
      "metadata": {
        "colab_type": "text",
        "id": "Ml4lT0blLd31"
      },
      "source": [
        "### 3.4.4 Sample"
      ]
    },
    {
      "cell_type": "code",
      "metadata": {
        "colab_type": "code",
        "id": "XFlkYh9oLd32",
        "colab": {
          "base_uri": "https://localhost:8080/",
          "height": 133
        },
        "outputId": "94db6a5f-a5d4-468b-e283-b51610c659a3"
      },
      "source": [
        "print('original sentence:')\n",
        "print(bea_train_src[0])\n",
        "#---------------------------\n",
        "print('\\nannotation:')\n",
        "print(*bea_train_ref[0:2], sep='\\n')"
      ],
      "execution_count": 27,
      "outputs": [
        {
          "output_type": "stream",
          "text": [
            "original sentence:\n",
            "My town is a medium size city with eighty thousand inhabitants .\n",
            "\n",
            "annotation:\n",
            "S My town is a medium size city with eighty thousand inhabitants .\n",
            "A 5 6|||R:OTHER|||- sized|||REQUIRED|||-NONE-|||0\n"
          ],
          "name": "stdout"
        }
      ]
    },
    {
      "cell_type": "markdown",
      "metadata": {
        "colab_type": "text",
        "id": "gNl55dGPbY0n"
      },
      "source": [
        "## 3.5 ReGRA"
      ]
    },
    {
      "cell_type": "markdown",
      "metadata": {
        "colab_type": "text",
        "id": "oH09uwsFbY0s"
      },
      "source": [
        "### 3.5.1 Import"
      ]
    },
    {
      "cell_type": "code",
      "metadata": {
        "colab_type": "code",
        "id": "APXWwIolbY0v",
        "colab": {
          "base_uri": "https://localhost:8080/",
          "height": 56
        },
        "outputId": "6a0b3c0f-7371-4cb6-f22a-e38e6baf06b0"
      },
      "source": [
        "# mount drive to access file with sentences\n",
        "from google.colab import drive\n",
        "drive.mount('/gdrive')"
      ],
      "execution_count": 28,
      "outputs": [
        {
          "output_type": "stream",
          "text": [
            "Drive already mounted at /gdrive; to attempt to forcibly remount, call drive.mount(\"/gdrive\", force_remount=True).\n"
          ],
          "name": "stdout"
        }
      ]
    },
    {
      "cell_type": "markdown",
      "metadata": {
        "colab_type": "text",
        "id": "C3PURlHbbY09"
      },
      "source": [
        "### 3.5.2 Test set"
      ]
    },
    {
      "cell_type": "code",
      "metadata": {
        "colab_type": "code",
        "id": "Qae1zW-lbY0_",
        "colab": {}
      },
      "source": [
        "# source\n",
        "regra_src_file = '/gdrive/My Drive/Colab Notebooks/IA376E/Final Project/ReGRA/src.txt'\n",
        "#regra_src = read_file(regra_src_file, encoding='latin-1')\n",
        "regra_src = read_file(regra_src_file, encoding='utf-8')\n",
        "#---------------------------\n",
        "# reference\n",
        "regra_ref_file = '/gdrive/My Drive/Colab Notebooks/IA376E/Final Project/ReGRA/ref.txt'\n",
        "#regra_ref = read_file(regra_ref_file, encoding='latin-1')\n",
        "regra_ref = read_file(regra_ref_file, encoding='utf-8')"
      ],
      "execution_count": 29,
      "outputs": []
    },
    {
      "cell_type": "markdown",
      "metadata": {
        "colab_type": "text",
        "id": "Qr0LNAL0bY1a"
      },
      "source": [
        "### 3.5.4 Sample"
      ]
    },
    {
      "cell_type": "code",
      "metadata": {
        "colab_type": "code",
        "id": "r7o4yiwGbY1b",
        "colab": {
          "base_uri": "https://localhost:8080/",
          "height": 191
        },
        "outputId": "713c52fc-735e-4853-e2e0-f50cea79f468"
      },
      "source": [
        "print('original sentences:')\n",
        "print(*regra_src[1000:1003], sep='\\n')\n",
        "#---------------------------\n",
        "print('\\nreference sentences:')\n",
        "print(*regra_ref[1000:1003], sep='\\n')"
      ],
      "execution_count": 30,
      "outputs": [
        {
          "output_type": "stream",
          "text": [
            "original sentences:\n",
            "Uma delegação de padeiros vem prestar seu apoio as mulheres dos grevistas.\n",
            "Uma era ítala-brasileira.\n",
            "Uma frota de navios norte-americanos se dirigiste ao Mar Mediterrâneo.\n",
            "\n",
            "reference sentences:\n",
            "Uma delegação de padeiros vem prestar seu apoio às mulheres dos grevistas.\n",
            "Uma era ítalo-brasileira.\n",
            "Uma frota de navios norte-americanos se dirige ao Mar Mediterrâneo.\n"
          ],
          "name": "stdout"
        }
      ]
    },
    {
      "cell_type": "markdown",
      "metadata": {
        "id": "EHoXo3Yz_RcG",
        "colab_type": "text"
      },
      "source": [
        "\n",
        "# 4. Evaluation Metrics"
      ]
    },
    {
      "cell_type": "markdown",
      "metadata": {
        "id": "FWWXjEvy-huM",
        "colab_type": "text"
      },
      "source": [
        "## 4.1 $M^2$ (MaxMatch) score"
      ]
    },
    {
      "cell_type": "markdown",
      "metadata": {
        "id": "-NxjTYMbK603",
        "colab_type": "text"
      },
      "source": [
        "### 4.1.1 Getting the $M^2$ scorer"
      ]
    },
    {
      "cell_type": "code",
      "metadata": {
        "id": "-Ya-AnHp6Bil",
        "colab_type": "code",
        "colab": {}
      },
      "source": [
        "# get m2scorer\n",
        "! wget -q -nc https://www.comp.nus.edu.sg/~nlp/sw/m2scorer.tar.gz\n",
        "! tar -xzf m2scorer.tar.gz\n",
        "! rm m2scorer.tar.gz"
      ],
      "execution_count": 31,
      "outputs": []
    },
    {
      "cell_type": "markdown",
      "metadata": {
        "id": "riHBzeryK_rE",
        "colab_type": "text"
      },
      "source": [
        "### 4.1.2 Testing the $M^2$ scorer"
      ]
    },
    {
      "cell_type": "code",
      "metadata": {
        "id": "8KgY1PtLLDIZ",
        "colab_type": "code",
        "colab": {}
      },
      "source": [
        "# getting examples\n",
        "src = '/content/m2scorer/example/system2'\n",
        "ref = '/content/m2scorer/example/source_gold'"
      ],
      "execution_count": 32,
      "outputs": []
    },
    {
      "cell_type": "code",
      "metadata": {
        "id": "hh5uObNth6dO",
        "colab_type": "code",
        "colab": {
          "base_uri": "https://localhost:8080/",
          "height": 94
        },
        "outputId": "939a29eb-6088-4cfa-ad3d-b100cd6fb872"
      },
      "source": [
        "# source\n",
        "print('source sentences:')\n",
        "print(*read_file(src), sep='\\n')"
      ],
      "execution_count": 33,
      "outputs": [
        {
          "output_type": "stream",
          "text": [
            "source sentences:\n",
            "A cat sat on mat .\n",
            "The dog .\n",
            "Giant otters are apex predator .\n"
          ],
          "name": "stdout"
        }
      ]
    },
    {
      "cell_type": "code",
      "metadata": {
        "id": "zdVqnVpvh8PO",
        "colab_type": "code",
        "colab": {
          "base_uri": "https://localhost:8080/",
          "height": 307
        },
        "outputId": "ef562125-d269-4579-ea12-160036c84887"
      },
      "source": [
        "# reference\n",
        "print('reference sentences:')\n",
        "print(*read_file(ref), sep='\\n')"
      ],
      "execution_count": 34,
      "outputs": [
        {
          "output_type": "stream",
          "text": [
            "reference sentences:\n",
            "S The cat sat at mat .\n",
            "A 3 4|||Prep|||on|||REQUIRED|||-NONE-|||0\n",
            "A 4 4|||ArtOrDet|||the||a|||REQUIRED|||-NONE-|||0\n",
            "\n",
            "S The dog .\n",
            "A 1 2|||NN|||dogs|||REQUIRED|||-NONE-|||0\n",
            "A -1 -1|||noop|||-NONE-|||-NONE-|||-NONE-|||1\n",
            "\n",
            "S Giant otters is an apex predator .\n",
            "A 2 3|||SVA|||are|||REQUIRED|||-NONE-|||0\n",
            "A 3 4|||ArtOrDet|||-NONE-|||REQUIRED|||-NONE-|||0\n",
            "A 5 6|||NN|||predators|||REQUIRED|||-NONE-|||0\n",
            "A 1 2|||NN|||otter|||REQUIRED|||-NONE-|||1\n",
            "\n"
          ],
          "name": "stdout"
        }
      ]
    },
    {
      "cell_type": "code",
      "metadata": {
        "id": "UP1wZZovhRHo",
        "colab_type": "code",
        "colab": {
          "base_uri": "https://localhost:8080/",
          "height": 94
        },
        "outputId": "2d1d46b9-3b7d-4d22-9b9b-580e1cba11e8"
      },
      "source": [
        "# score\n",
        "score = m2scorer(src, ref)\n",
        "print(score)"
      ],
      "execution_count": 35,
      "outputs": [
        {
          "output_type": "stream",
          "text": [
            "Precision   : 0.7500\n",
            "Recall      : 0.6000\n",
            "F_0.5       : 0.7143\n",
            "\n"
          ],
          "name": "stdout"
        }
      ]
    },
    {
      "cell_type": "markdown",
      "metadata": {
        "id": "epfrUo1p-z2I",
        "colab_type": "text"
      },
      "source": [
        "## 4.2 GLEU score"
      ]
    },
    {
      "cell_type": "markdown",
      "metadata": {
        "id": "vQi0LbfvQW4g",
        "colab_type": "text"
      },
      "source": [
        "https://github.com/keisks/jfleg"
      ]
    },
    {
      "cell_type": "markdown",
      "metadata": {
        "colab_type": "text",
        "id": "f4kque9rLHxc"
      },
      "source": [
        "### 4.2.1 Getting the GLEU scorer"
      ]
    },
    {
      "cell_type": "code",
      "metadata": {
        "id": "dxJovhR0-RlQ",
        "colab_type": "code",
        "colab": {}
      },
      "source": [
        "# import gleu metric\n",
        "sys.path.append('/content/jfleg/eval/')\n",
        "from gleu import GLEU\n",
        "gleu_calculator = GLEU()"
      ],
      "execution_count": 36,
      "outputs": []
    },
    {
      "cell_type": "markdown",
      "metadata": {
        "colab_type": "text",
        "id": "JcLgb2T3LHxz"
      },
      "source": [
        "### 4.2.2 Testing the GLEU scorer"
      ]
    },
    {
      "cell_type": "code",
      "metadata": {
        "id": "miazmHeOQFdy",
        "colab_type": "code",
        "colab": {
          "base_uri": "https://localhost:8080/",
          "height": 76
        },
        "outputId": "af1b1121-bc98-4d4d-d345-705975398736"
      },
      "source": [
        "# hyp = ref\n",
        "#---------------------------\n",
        "src = 'jfleg/test/test.src'\n",
        "ref = ['jfleg/test/test.ref0']\n",
        "hyp = 'jfleg/test/test.ref0'\n",
        "print(f'GLEU = {calc_gleu(src, ref, hyp):.2f}')"
      ],
      "execution_count": 37,
      "outputs": [
        {
          "output_type": "stream",
          "text": [
            "There is one reference. NOTE: GLEU is not computing the confidence interval.\n",
            "GLEU = 100.00\n"
          ],
          "name": "stdout"
        }
      ]
    },
    {
      "cell_type": "code",
      "metadata": {
        "id": "QJLYfDIxLNfS",
        "colab_type": "code",
        "colab": {
          "base_uri": "https://localhost:8080/",
          "height": 36
        },
        "outputId": "84ed8335-43e5-45e9-83b4-b9ac1d5202fb"
      },
      "source": [
        "# hyp = src\n",
        "#---------------------------\n",
        "# source file\n",
        "src = 'jfleg/test/test.src'\n",
        "# reference file\n",
        "ref = ['jfleg/test/test.ref0',\n",
        "       'jfleg/test/test.ref1',\n",
        "       'jfleg/test/test.ref2',\n",
        "       'jfleg/test/test.ref3']\n",
        "# hypothesis file\n",
        "hyp = 'jfleg/test/test.src'\n",
        "# calculate score\n",
        "print(f'GLEU = {calc_gleu(src, ref, hyp):.2f}')"
      ],
      "execution_count": 38,
      "outputs": [
        {
          "output_type": "stream",
          "text": [
            "GLEU = 40.47\n"
          ],
          "name": "stdout"
        }
      ]
    },
    {
      "cell_type": "code",
      "metadata": {
        "id": "wy8VpqP6sK62",
        "colab_type": "code",
        "colab": {
          "base_uri": "https://localhost:8080/",
          "height": 133
        },
        "outputId": "24263869-47f6-4351-fd46-d64d0e5e1ea0"
      },
      "source": [
        "# hyp = ref\n",
        "#---------------------------\n",
        "# source file\n",
        "src = 'jfleg/test/test.src'\n",
        "#-------------\n",
        "# ref0\n",
        "hyp = 'jfleg/test/test.ref0'\n",
        "ref = ['jfleg/test/test.ref1', 'jfleg/test/test.ref2', 'jfleg/test/test.ref3']\n",
        "ref0 = calc_gleu(src, ref, hyp);\n",
        "#-------------\n",
        "# ref1\n",
        "hyp = 'jfleg/test/test.ref1'\n",
        "ref = ['jfleg/test/test.ref0', 'jfleg/test/test.ref2', 'jfleg/test/test.ref3']\n",
        "ref1 = calc_gleu(src, ref, hyp);\n",
        "#-------------\n",
        "# ref2\n",
        "hyp = 'jfleg/test/test.ref2'\n",
        "ref = ['jfleg/test/test.ref0', 'jfleg/test/test.ref1', 'jfleg/test/test.ref3']\n",
        "ref2 = calc_gleu(src, ref, hyp);\n",
        "#-------------\n",
        "# ref3\n",
        "hyp = 'jfleg/test/test.ref3'\n",
        "ref = ['jfleg/test/test.ref0', 'jfleg/test/test.ref1', 'jfleg/test/test.ref2']\n",
        "ref3 = calc_gleu(src, ref, hyp);\n",
        "#-------------\n",
        "print(f'ref0 = {ref0:.2f}')\n",
        "print(f'ref1 = {ref1:.2f}')\n",
        "print(f'ref2 = {ref2:.2f}')\n",
        "print(f'ref3 = {ref3:.2f}')\n",
        "print('#-------------')\n",
        "print(f'mean = {(ref0 + ref1 + ref2 + ref3) / 4:.2f}')"
      ],
      "execution_count": 39,
      "outputs": [
        {
          "output_type": "stream",
          "text": [
            "ref0 = 61.32\n",
            "ref1 = 61.48\n",
            "ref2 = 63.04\n",
            "ref3 = 63.53\n",
            "#-------------\n",
            "mean = 62.34\n"
          ],
          "name": "stdout"
        }
      ]
    },
    {
      "cell_type": "markdown",
      "metadata": {
        "id": "ICl-e8YPceas",
        "colab_type": "text"
      },
      "source": [
        "reference table:  \n",
        "\n",
        "|  system   | GLEU (dev) | GLEU (test) |\n",
        "|:--------: | :--------: | :---------: |\n",
        "|  SOURCE   |   38.21    |    40.54    | \n",
        "| REFERENCE |   55.26    |    62.37    |"
      ]
    },
    {
      "cell_type": "markdown",
      "metadata": {
        "id": "pR02HbOTNos9",
        "colab_type": "text"
      },
      "source": [
        "## 4.3 Edit distance"
      ]
    },
    {
      "cell_type": "markdown",
      "metadata": {
        "colab_type": "text",
        "id": "uCbkSeSXLJ65"
      },
      "source": [
        "### 4.3.1 Getting distances algorithms"
      ]
    },
    {
      "cell_type": "markdown",
      "metadata": {
        "colab_type": "text",
        "id": "ZY1ydYP3PWSX"
      },
      "source": [
        "https://github.com/luozhouyang/python-string-similarity#damerau-levenshtein"
      ]
    },
    {
      "cell_type": "code",
      "metadata": {
        "id": "Jd-DTeLkNnx0",
        "colab_type": "code",
        "colab": {}
      },
      "source": [
        "levenshtein = get_distance_algorithm('levenshtein')\n",
        "damerau     = get_distance_algorithm('damerau')\n",
        "normalized  = get_distance_algorithm('normalized')\n",
        "weighted    = get_distance_algorithm('weighted')\n",
        "osa         = get_distance_algorithm('osa')"
      ],
      "execution_count": 40,
      "outputs": []
    },
    {
      "cell_type": "markdown",
      "metadata": {
        "colab_type": "text",
        "id": "-K5iDjn0LJ7L"
      },
      "source": [
        "### 4.3.2 Testing Damerau-Levenshtein distance algorithm"
      ]
    },
    {
      "cell_type": "code",
      "metadata": {
        "id": "YpwTw7wjqphX",
        "colab_type": "code",
        "colab": {
          "base_uri": "https://localhost:8080/",
          "height": 36
        },
        "outputId": "ff20bd6f-de38-41c8-95ed-e91bc758e5b8"
      },
      "source": [
        "# distance = 1: character removed\n",
        "print('distance =', damerau.distance('Covid-19', 'Covid-9')) "
      ],
      "execution_count": 41,
      "outputs": [
        {
          "output_type": "stream",
          "text": [
            "distance = 1\n"
          ],
          "name": "stdout"
        }
      ]
    },
    {
      "cell_type": "code",
      "metadata": {
        "id": "8rWFZQppLhLm",
        "colab_type": "code",
        "colab": {
          "base_uri": "https://localhost:8080/",
          "height": 36
        },
        "outputId": "ad2251ee-8767-48db-d66e-bce68c9d3298"
      },
      "source": [
        "# distance = 2: character removed & character inserted\n",
        "print('distance =', damerau.distance('Covid-19', 'Codiv-19')) "
      ],
      "execution_count": 42,
      "outputs": [
        {
          "output_type": "stream",
          "text": [
            "distance = 2\n"
          ],
          "name": "stdout"
        }
      ]
    },
    {
      "cell_type": "code",
      "metadata": {
        "id": "yVen2fmQqdT7",
        "colab_type": "code",
        "colab": {
          "base_uri": "https://localhost:8080/",
          "height": 36
        },
        "outputId": "1becf2de-dcae-484f-cd91-5611c6a170af"
      },
      "source": [
        "# distance = 1: transposition of two adjacent characters\n",
        "print('distance =', damerau.distance('Covid-19', 'Covid-91')) "
      ],
      "execution_count": 43,
      "outputs": [
        {
          "output_type": "stream",
          "text": [
            "distance = 1\n"
          ],
          "name": "stdout"
        }
      ]
    },
    {
      "cell_type": "markdown",
      "metadata": {
        "colab_type": "text",
        "id": "AwqHYK5VaCdA"
      },
      "source": [
        "# 5. Tokenizer"
      ]
    },
    {
      "cell_type": "markdown",
      "metadata": {
        "colab_type": "text",
        "id": "-aDopSbdaCdB"
      },
      "source": [
        "## 5.1 BERT"
      ]
    },
    {
      "cell_type": "code",
      "metadata": {
        "colab_type": "code",
        "id": "_9HuN_bXaCdC",
        "colab": {}
      },
      "source": [
        "# English\n",
        "#tokenizer = get_tokenizer('bert-base-cased')\n",
        "#tokenizer = get_tokenizer('bert-large-cased')\n",
        "#tokenizer = get_tokenizer('bert-base-cased')\n",
        "#tokenizer = get_tokenizer('bert-large-cased')\n",
        "#---------------------------\n",
        "# Portuguese\n",
        "#tokenizer = get_tokenizer('neuralmind/bert-base-portuguese-cased')\n",
        "tokenizer = get_tokenizer('neuralmind/bert-large-portuguese-cased')"
      ],
      "execution_count": 44,
      "outputs": []
    },
    {
      "cell_type": "markdown",
      "metadata": {
        "id": "WStSsKuNvUdd",
        "colab_type": "text"
      },
      "source": [
        "## 5.2 T5"
      ]
    },
    {
      "cell_type": "code",
      "metadata": {
        "id": "FqgWbJvlvYrc",
        "colab_type": "code",
        "colab": {}
      },
      "source": [
        "#tokenizer = get_tokenizer('t5-small')\n",
        "#tokenizer = get_tokenizer('t5-base')\n",
        "#tokenizer = get_tokenizer('t5-large')\n",
        "#tokenizer = get_tokenizer('t5-3b')\n",
        "#tokenizer = get_tokenizer('t5-11b')"
      ],
      "execution_count": 45,
      "outputs": []
    },
    {
      "cell_type": "markdown",
      "metadata": {
        "colab_type": "text",
        "id": "WEdOdO_vaCdM"
      },
      "source": [
        "# 6. Model"
      ]
    },
    {
      "cell_type": "markdown",
      "metadata": {
        "id": "fER52IqZvfJJ",
        "colab_type": "text"
      },
      "source": [
        "## 6.1 BERT"
      ]
    },
    {
      "cell_type": "code",
      "metadata": {
        "colab_type": "code",
        "id": "pl7BCE6jaCdO",
        "colab": {}
      },
      "source": [
        "# English\n",
        "#model = get_model('bert-base-cased')     # BERT base  cased   [en]  436 MB\n",
        "#model = get_model('bert-large-cased')    # BERT large cased   [en] 1.34 GB\n",
        "#model = get_model('bert-base-uncased')   # BERT base  uncased [en]  440 MB\n",
        "#model = get_model('bert-large-uncased')  # BERT large uncased [en] 1.34 GB\n",
        "#---------------------------\n",
        "# Portuguese\n",
        "#model = get_model('neuralmind/bert-base-portuguese-cased')  # BERT base  cased [pt]  438 MB\n",
        "model = get_model('neuralmind/bert-large-portuguese-cased') # BERT large cased [pt] 1.34 GB "
      ],
      "execution_count": 46,
      "outputs": []
    },
    {
      "cell_type": "markdown",
      "metadata": {
        "colab_type": "text",
        "id": "Qg0qvMz_aCdT"
      },
      "source": [
        "## 6.2 T5"
      ]
    },
    {
      "cell_type": "code",
      "metadata": {
        "colab_type": "code",
        "id": "o74B62TiaCdU",
        "colab": {}
      },
      "source": [
        "#model = get_model('t5-small')   #  242 MB\n",
        "#model = get_model('t5-base')    #  892 MB\n",
        "#model = get_model('t5-large')   # 2.95 GB\n",
        "#model = get_model('t5-3b')      # 11.4 GB\n",
        "#model = get_model('t5-11b')     # ??.? GB"
      ],
      "execution_count": 47,
      "outputs": []
    },
    {
      "cell_type": "markdown",
      "metadata": {
        "id": "aVQUMbIBPX-D",
        "colab_type": "text"
      },
      "source": [
        "# 7. Sentence Correction Suggestion"
      ]
    },
    {
      "cell_type": "markdown",
      "metadata": {
        "id": "fSCGUWW63N00",
        "colab_type": "text"
      },
      "source": [
        "## 7.1 BERT-based function"
      ]
    },
    {
      "cell_type": "markdown",
      "metadata": {
        "id": "uX4Sxd71Q4Pr",
        "colab_type": "text"
      },
      "source": [
        "Hyperparameters"
      ]
    },
    {
      "cell_type": "code",
      "metadata": {
        "id": "2uFB4dMj3buI",
        "colab_type": "code",
        "colab": {}
      },
      "source": [
        "# topk model output predictions used to compare\n",
        "k = 10\n",
        "# Damerau–Levenshtein\n",
        "edit_distance = get_distance_algorithm('damerau')\n",
        "# threshold distance to suggest correction\n",
        "threshold = 5"
      ],
      "execution_count": 48,
      "outputs": []
    },
    {
      "cell_type": "markdown",
      "metadata": {
        "id": "qx16f1FoVVe0",
        "colab_type": "text"
      },
      "source": [
        "Function"
      ]
    },
    {
      "cell_type": "code",
      "metadata": {
        "colab_type": "code",
        "id": "l7u_rUTy3Spf",
        "colab": {}
      },
      "source": [
        "def suggest(sentences, tokenizer, model, distance, split=False, k=20, threshold=5, device='cpu'):\n",
        "    model.to(device)\n",
        "    sentences_suggested = []\n",
        "    for sentence in sentences:\n",
        "        if split:\n",
        "            tokenized = sentence.split()                                # dummy tokenizer\n",
        "        else: \n",
        "            tokenized = tokenizer.tokenize(sentence)                    # tokenize\n",
        "        tokenized_ids = tokenizer.encode(tokenized)                     # '[CLS]' + get word ids + '[SEP]'\n",
        "        single_input_ids = torch.LongTensor(tokenized_ids).to(device)   # convert list to tensor\n",
        "        input_ids = single_input_ids.repeat(len(single_input_ids)-2, 1) # repeat tensor\n",
        "        #---------------------------\n",
        "        # mask tokens\n",
        "        for i in range(len(input_ids)):\n",
        "            input_ids[i][i+1] = tokenizer.mask_token_id\n",
        "        #---------------------------\n",
        "        # predict the top-k tokens for the masked ones\n",
        "        topk_pred_pt = torch.zeros((len(tokenized), k))\n",
        "        for i, masked_sentence in enumerate(input_ids): \n",
        "            model_output = model(input_ids = masked_sentence.unsqueeze(dim=0))\n",
        "            logits = model_output[0]\n",
        "            _, predicted_ids = torch.topk(logits, k, sorted=True)\n",
        "            topk_pred_pt[i] = predicted_ids.squeeze()[i+1]\n",
        "        #---------------------------\n",
        "        # convert ids back to words\n",
        "        topk_pred_tokens = []   # list of lists\n",
        "        for masked_sentence in topk_pred_pt:\n",
        "            pred_list = []\n",
        "            for predictions in masked_sentence:\n",
        "                pred_list.append(tokenizer.decode([predictions.tolist()]))\n",
        "            topk_pred_tokens.append(pred_list)\n",
        "        #---------------------------\n",
        "        # compare predictions and calculate edit distance\n",
        "        suggestion = []\n",
        "        for i, masked_token in enumerate(tokenized):\n",
        "            # check if masked token is in predictions\n",
        "            if masked_token in topk_pred_tokens[i]:\n",
        "                # if it is, no correction is suggested\n",
        "                suggestion.append(masked_token)\n",
        "            #---------------------------\n",
        "            else:    \n",
        "                # using distance?\n",
        "                if (distance != None):\n",
        "                    # if masked token not in predictions, calculate distance\n",
        "                    dist = torch.zeros(k)\n",
        "                    for j, prediction in enumerate(topk_pred_tokens[i]):\n",
        "                        dist[j] = edit_distance.distance(masked_token, prediction)\n",
        "                    # check if minimum distance is under a limiar\n",
        "                    if torch.min(dist).item() <= threshold:\n",
        "                        # if it is, make suggestions\n",
        "                        # argmin returns the last index --> workaround: flip the tensor\n",
        "                        min_index = len(dist) - torch.argmin(dist.flip(0)).item() - 1\n",
        "                        suggestion.append(topk_pred_tokens[i][min_index])\n",
        "                    #---------------------------\n",
        "                    else:\n",
        "                        # if it is not, make no correction suggestion\n",
        "                        suggestion.append(masked_token)\n",
        "                #---------------------------\n",
        "                # greedy suggestion\n",
        "                else: \n",
        "                    suggestion.append(topk_pred_tokens[i][0])\n",
        "        #---------------------------\n",
        "        sentences_suggested.append(' '.join(suggestion))\n",
        "    return sentences_suggested"
      ],
      "execution_count": 49,
      "outputs": []
    },
    {
      "cell_type": "markdown",
      "metadata": {
        "id": "wahe1Gn9Q6Nr",
        "colab_type": "text"
      },
      "source": [
        "## 7.2 Step-by-Step"
      ]
    },
    {
      "cell_type": "code",
      "metadata": {
        "id": "NTR7ApzS5jTr",
        "colab_type": "code",
        "colab": {}
      },
      "source": [
        "model.to(device);"
      ],
      "execution_count": 50,
      "outputs": []
    },
    {
      "cell_type": "markdown",
      "metadata": {
        "id": "nU5ZJIBO61wC",
        "colab_type": "text"
      },
      "source": [
        "### 7.2.0 Hyperparameters"
      ]
    },
    {
      "cell_type": "code",
      "metadata": {
        "id": "yqTCK0605_nn",
        "colab_type": "code",
        "colab": {}
      },
      "source": [
        "# topk model output predictions used to compare\n",
        "k = 2\n",
        "# Damerau–Levenshtein\n",
        "edit_distance = get_distance_algorithm('damerau')\n",
        "# threshold distance to suggest correction\n",
        "threshold = 2"
      ],
      "execution_count": 51,
      "outputs": []
    },
    {
      "cell_type": "markdown",
      "metadata": {
        "id": "APNALzgx40IU",
        "colab_type": "text"
      },
      "source": [
        "### 7.2.1 Get sentence"
      ]
    },
    {
      "cell_type": "code",
      "metadata": {
        "id": "W4d3gjItrpPP",
        "colab_type": "code",
        "colab": {
          "base_uri": "https://localhost:8080/",
          "height": 36
        },
        "outputId": "df8d7e5a-4048-4dee-fe19-dbafddf850fc"
      },
      "source": [
        "# get sentence\n",
        "sentence = regra_src[325]\n",
        "sentence"
      ],
      "execution_count": 52,
      "outputs": [
        {
          "output_type": "execute_result",
          "data": {
            "text/plain": [
              "'Ele comprou este carro à prazo.'"
            ]
          },
          "metadata": {
            "tags": []
          },
          "execution_count": 52
        }
      ]
    },
    {
      "cell_type": "code",
      "metadata": {
        "id": "7ZrpcAZQgMeC",
        "colab_type": "code",
        "colab": {
          "base_uri": "https://localhost:8080/",
          "height": 36
        },
        "outputId": "9fd0d605-4ea7-44be-cbc6-0463c8210c0b"
      },
      "source": [
        "# get reference\n",
        "reference = regra_ref[325]\n",
        "reference"
      ],
      "execution_count": 53,
      "outputs": [
        {
          "output_type": "execute_result",
          "data": {
            "text/plain": [
              "'Ele comprou este carro a prazo.'"
            ]
          },
          "metadata": {
            "tags": []
          },
          "execution_count": 53
        }
      ]
    },
    {
      "cell_type": "markdown",
      "metadata": {
        "id": "KactA01e42d3",
        "colab_type": "text"
      },
      "source": [
        "### 7.2.2 Tokenize"
      ]
    },
    {
      "cell_type": "code",
      "metadata": {
        "id": "kZIgi77Jrvw7",
        "colab_type": "code",
        "colab": {
          "base_uri": "https://localhost:8080/",
          "height": 36
        },
        "outputId": "cd5e402b-7cc9-4c5b-9b68-3fe05be6c5e6"
      },
      "source": [
        "# tokenize\n",
        "#tokenized = sentence.split()\n",
        "tokenized = tokenizer.tokenize(sentence)\n",
        "tokenized"
      ],
      "execution_count": 54,
      "outputs": [
        {
          "output_type": "execute_result",
          "data": {
            "text/plain": [
              "['Ele', 'comprou', 'este', 'carro', 'à', 'prazo', '.']"
            ]
          },
          "metadata": {
            "tags": []
          },
          "execution_count": 54
        }
      ]
    },
    {
      "cell_type": "code",
      "metadata": {
        "id": "XSwkKknu4he7",
        "colab_type": "code",
        "colab": {
          "base_uri": "https://localhost:8080/",
          "height": 36
        },
        "outputId": "8bce51d2-3e24-4cbc-c186-17b37f79c2c9"
      },
      "source": [
        "# '[CLS]' + get word ids + '[SEP]'\n",
        "tokenized_ids = tokenizer.encode(tokenized)                     \n",
        "tokenized_ids"
      ],
      "execution_count": 55,
      "outputs": [
        {
          "output_type": "execute_result",
          "data": {
            "text/plain": [
              "[101, 787, 10107, 860, 3883, 353, 6620, 119, 102]"
            ]
          },
          "metadata": {
            "tags": []
          },
          "execution_count": 55
        }
      ]
    },
    {
      "cell_type": "code",
      "metadata": {
        "id": "tjyyxW5X4nM5",
        "colab_type": "code",
        "colab": {
          "base_uri": "https://localhost:8080/",
          "height": 56
        },
        "outputId": "3cc00890-dcde-4e3d-b02b-12737cbd614f"
      },
      "source": [
        "# convert list to tensor\n",
        "single_input_ids = torch.LongTensor(tokenized_ids).to(device)   \n",
        "single_input_ids"
      ],
      "execution_count": 56,
      "outputs": [
        {
          "output_type": "execute_result",
          "data": {
            "text/plain": [
              "tensor([  101,   787, 10107,   860,  3883,   353,  6620,   119,   102],\n",
              "       device='cuda:0')"
            ]
          },
          "metadata": {
            "tags": []
          },
          "execution_count": 56
        }
      ]
    },
    {
      "cell_type": "code",
      "metadata": {
        "id": "kzpVeFYG4rsQ",
        "colab_type": "code",
        "colab": {
          "base_uri": "https://localhost:8080/",
          "height": 171
        },
        "outputId": "4bc8c3ef-4dd1-475b-ceb3-890112689733"
      },
      "source": [
        "# repeat tensor\n",
        "input_ids = single_input_ids.repeat(len(single_input_ids)-2, 1) \n",
        "input_ids"
      ],
      "execution_count": 57,
      "outputs": [
        {
          "output_type": "execute_result",
          "data": {
            "text/plain": [
              "tensor([[  101,   787, 10107,   860,  3883,   353,  6620,   119,   102],\n",
              "        [  101,   787, 10107,   860,  3883,   353,  6620,   119,   102],\n",
              "        [  101,   787, 10107,   860,  3883,   353,  6620,   119,   102],\n",
              "        [  101,   787, 10107,   860,  3883,   353,  6620,   119,   102],\n",
              "        [  101,   787, 10107,   860,  3883,   353,  6620,   119,   102],\n",
              "        [  101,   787, 10107,   860,  3883,   353,  6620,   119,   102],\n",
              "        [  101,   787, 10107,   860,  3883,   353,  6620,   119,   102]],\n",
              "       device='cuda:0')"
            ]
          },
          "metadata": {
            "tags": []
          },
          "execution_count": 57
        }
      ]
    },
    {
      "cell_type": "markdown",
      "metadata": {
        "id": "VTt0HOhO5Kgn",
        "colab_type": "text"
      },
      "source": [
        "### 7.2.3 Mask tokens"
      ]
    },
    {
      "cell_type": "code",
      "metadata": {
        "id": "w6wu3S5ctbdA",
        "colab_type": "code",
        "colab": {
          "base_uri": "https://localhost:8080/",
          "height": 171
        },
        "outputId": "bece112f-3e2e-4468-b7ac-b531976a7472"
      },
      "source": [
        "# mask tokens\n",
        "for i in range(len(input_ids)):\n",
        "    input_ids[i][i+1] = tokenizer.mask_token_id\n",
        "input_ids"
      ],
      "execution_count": 58,
      "outputs": [
        {
          "output_type": "execute_result",
          "data": {
            "text/plain": [
              "tensor([[  101,   103, 10107,   860,  3883,   353,  6620,   119,   102],\n",
              "        [  101,   787,   103,   860,  3883,   353,  6620,   119,   102],\n",
              "        [  101,   787, 10107,   103,  3883,   353,  6620,   119,   102],\n",
              "        [  101,   787, 10107,   860,   103,   353,  6620,   119,   102],\n",
              "        [  101,   787, 10107,   860,  3883,   103,  6620,   119,   102],\n",
              "        [  101,   787, 10107,   860,  3883,   353,   103,   119,   102],\n",
              "        [  101,   787, 10107,   860,  3883,   353,  6620,   103,   102]],\n",
              "       device='cuda:0')"
            ]
          },
          "metadata": {
            "tags": []
          },
          "execution_count": 58
        }
      ]
    },
    {
      "cell_type": "markdown",
      "metadata": {
        "id": "os5vqcPI4fpm",
        "colab_type": "text"
      },
      "source": [
        "### 7.2.4 Top-k predictions"
      ]
    },
    {
      "cell_type": "code",
      "metadata": {
        "id": "SXHWy2vD3CPA",
        "colab_type": "code",
        "colab": {
          "base_uri": "https://localhost:8080/",
          "height": 152
        },
        "outputId": "eddd5950-60ad-428b-b171-70919072a25a"
      },
      "source": [
        "topk_pred_pt = torch.zeros((len(tokenized), k))\n",
        "for i, masked_sentence in enumerate(input_ids): \n",
        "    model_output = model(input_ids = masked_sentence.unsqueeze(dim=0))\n",
        "    logits = model_output[0]\n",
        "    _, predicted_ids = torch.topk(logits, k, sorted=True)\n",
        "    topk_pred_pt[i] = predicted_ids.squeeze()[i+1]\n",
        "topk_pred_pt"
      ],
      "execution_count": 59,
      "outputs": [
        {
          "output_type": "execute_result",
          "data": {
            "text/plain": [
              "tensor([[11976.,   787.],\n",
              "        [10107.,   376.],\n",
              "        [  146.,   222.],\n",
              "        [ 3883., 11426.],\n",
              "        [  123.,   202.],\n",
              "        [ 3122.,  5304.],\n",
              "        [  119.,   136.]])"
            ]
          },
          "metadata": {
            "tags": []
          },
          "execution_count": 59
        }
      ]
    },
    {
      "cell_type": "markdown",
      "metadata": {
        "id": "d3HgJp_06Rpi",
        "colab_type": "text"
      },
      "source": [
        "### 7.2.5 Convert IDs back to words"
      ]
    },
    {
      "cell_type": "code",
      "metadata": {
        "id": "yw0fYyj18HSO",
        "colab_type": "code",
        "colab": {
          "base_uri": "https://localhost:8080/",
          "height": 152
        },
        "outputId": "97876d6f-6ce5-42e8-95d9-bb59c79045ba"
      },
      "source": [
        "# convert ids back to words\n",
        "topk_pred_tokens = []   # list of lists\n",
        "for masked_sentence in topk_pred_pt:\n",
        "    pred_list = []\n",
        "    for predictions in masked_sentence:\n",
        "        pred_list.append(tokenizer.decode([predictions.tolist()]))\n",
        "    topk_pred_tokens.append(pred_list)\n",
        "topk_pred_tokens"
      ],
      "execution_count": 60,
      "outputs": [
        {
          "output_type": "execute_result",
          "data": {
            "text/plain": [
              "[['Você', 'Ele'],\n",
              " ['comprou', 'tem'],\n",
              " ['o', 'um'],\n",
              " ['carro', 'apartamento'],\n",
              " ['a', 'no'],\n",
              " ['vista', 'venda'],\n",
              " ['.', '?']]"
            ]
          },
          "metadata": {
            "tags": []
          },
          "execution_count": 60
        }
      ]
    },
    {
      "cell_type": "markdown",
      "metadata": {
        "id": "w5wHYttZ8Vgk",
        "colab_type": "text"
      },
      "source": [
        "### 7.2.6 Compare predictions and calculate distance"
      ]
    },
    {
      "cell_type": "code",
      "metadata": {
        "id": "7g9o0cDarhpO",
        "colab_type": "code",
        "colab": {
          "base_uri": "https://localhost:8080/",
          "height": 36
        },
        "outputId": "ad41bf80-4a62-4e6c-a6e6-126392fe3551"
      },
      "source": [
        "# compare predictions and calculate edit distance\n",
        "suggestion = []\n",
        "for i, masked_token in enumerate(tokenized):\n",
        "    # check if masked token is in predictions\n",
        "    if masked_token in topk_pred_tokens[i]:\n",
        "        # if it is, no correction is suggested\n",
        "        suggestion.append(masked_token)\n",
        "    #---------------------------\n",
        "    else:    \n",
        "        # using distance?\n",
        "        if (edit_distance != None):\n",
        "            # if masked token not in predictions, calculate distance\n",
        "            dist = torch.zeros(k)\n",
        "            for j, prediction in enumerate(topk_pred_tokens[i]):\n",
        "                dist[j] = edit_distance.distance(masked_token, prediction)\n",
        "            # check if minimum distance is under a limiar\n",
        "            if torch.min(dist).item() <= threshold:\n",
        "                # if it is, make suggestions\n",
        "                # argmin returns the last index --> workaround: flip the tensor\n",
        "                min_index = len(dist) - torch.argmin(dist.flip(0)).item() - 1\n",
        "                suggestion.append(topk_pred_tokens[i][min_index])\n",
        "            #---------------------------\n",
        "            else:\n",
        "                # if it is not, make no correction suggestion\n",
        "                suggestion.append(masked_token)\n",
        "        #---------------------------\n",
        "        # greedy suggestion\n",
        "        else: \n",
        "            suggestion.append(topk_pred_tokens[i][0])\n",
        "#---------------------------\n",
        "' '.join(suggestion)"
      ],
      "execution_count": 61,
      "outputs": [
        {
          "output_type": "execute_result",
          "data": {
            "text/plain": [
              "'Ele comprou este carro a prazo .'"
            ]
          },
          "metadata": {
            "tags": []
          },
          "execution_count": 61
        }
      ]
    },
    {
      "cell_type": "markdown",
      "metadata": {
        "colab_type": "text",
        "id": "PtuXpG9wRimA"
      },
      "source": [
        "# End of the notebook"
      ]
    }
  ]
}