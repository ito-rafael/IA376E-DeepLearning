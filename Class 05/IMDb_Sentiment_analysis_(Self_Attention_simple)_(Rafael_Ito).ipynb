{
  "nbformat": 4,
  "nbformat_minor": 0,
  "metadata": {
    "colab": {
      "name": "IMDb - Sentiment analysis [Self-Attention simple] (Rafael Ito).ipynb",
      "provenance": [],
      "collapsed_sections": []
    },
    "kernelspec": {
      "name": "python3",
      "display_name": "Python 3"
    },
    "accelerator": "GPU"
  },
  "cells": [
    {
      "cell_type": "markdown",
      "metadata": {
        "id": "aibQMqn3rEp8",
        "colab_type": "text"
      },
      "source": [
        "# Sentiment analysis using simplified self-attention\n"
      ]
    },
    {
      "cell_type": "markdown",
      "metadata": {
        "id": "s13gobPuBZVp",
        "colab_type": "text"
      },
      "source": [
        "IMPORTANT: Instead of calculating the self-attention embeddings inside the neural network as a self-attention layer, here we calculate the new embeddings before training the network, as a preprocess. This way, we only calculate this new embeddings once, instead of calculating it once every epoch. This was done with the aim of reducing the computational resources, since the main goal of this activity, besides learning about self-attention, is the effiency of the code."
      ]
    },
    {
      "cell_type": "markdown",
      "metadata": {
        "id": "399F2GKforfi",
        "colab_type": "text"
      },
      "source": [
        "Author: **Rafael Ito**  \n",
        "e-mail: ito.rafael@gmail.com"
      ]
    },
    {
      "cell_type": "markdown",
      "metadata": {
        "id": "eV7swfVuBvgm",
        "colab_type": "text"
      },
      "source": [
        "## 0. Dataset and Description\n",
        "\n",
        "**Name:**  IMDb  \n",
        "**Description:** this notebook uses the IMDb dataset which contains movie reviews classified as either positive or negative review. The aim is to perform a supervised learning for sentiment classification using as features the self-attention of the GloVe embeddings."
      ]
    },
    {
      "cell_type": "markdown",
      "metadata": {
        "id": "ZnLtgkmhr0y0",
        "colab_type": "text"
      },
      "source": [
        "## 1. Libraries and packages"
      ]
    },
    {
      "cell_type": "markdown",
      "metadata": {
        "id": "wF94hPU1HWt9",
        "colab_type": "text"
      },
      "source": [
        "### 1.1 Install packages"
      ]
    },
    {
      "cell_type": "code",
      "metadata": {
        "id": "44YWHZaqwDo4",
        "colab_type": "code",
        "colab": {}
      },
      "source": [
        "!pip install -q \\\n",
        "    numpy       \\\n",
        "    torch       \\\n",
        "    sklearn     \\\n",
        "    skorch      \\\n",
        "    matplotlib  "
      ],
      "execution_count": 0,
      "outputs": []
    },
    {
      "cell_type": "markdown",
      "metadata": {
        "id": "F-lNBFD0HcPb",
        "colab_type": "text"
      },
      "source": [
        "### 1.2 Import libraries"
      ]
    },
    {
      "cell_type": "code",
      "metadata": {
        "id": "XYPw4vBWq_nd",
        "colab_type": "code",
        "colab": {
          "base_uri": "https://localhost:8080/",
          "height": 78
        },
        "outputId": "edb4ccb4-d830-46ae-af0e-5c6775dcdc5f"
      },
      "source": [
        "#-------------------------------------------------\n",
        "# general\n",
        "#-------------------\n",
        "import numpy as np\n",
        "import pandas as pd\n",
        "import nltk\n",
        "import re\n",
        "#-------------------------------------------------\n",
        "# PyTorch\n",
        "#-------------------\n",
        "import torch\n",
        "from torch.utils.data import TensorDataset\n",
        "from torchtext.vocab import GloVe\n",
        "import torch.nn.functional as F\n",
        "#-------------------------------------------------\n",
        "# skorch\n",
        "#-------------------\n",
        "#from skorch import NeuralNetClassifier\n",
        "#-------------------------------------------------\n",
        "# scikit-learn\n",
        "#-------------------\n",
        "from sklearn.feature_extraction.text import TfidfVectorizer\n",
        "from sklearn.preprocessing import OneHotEncoder\n",
        "# metrics\n",
        "from sklearn.metrics import confusion_matrix\n",
        "from sklearn.metrics import accuracy_score\n",
        "from sklearn.metrics import precision_score\n",
        "from sklearn.metrics import f1_score\n",
        "#-------------------------------------------------\n",
        "# data visualization\n",
        "#-------------------\n",
        "import matplotlib.pyplot as plt\n",
        "import seaborn as sns\n",
        "#-------------------------------------------------\n",
        "# additional config\n",
        "#-------------------\n",
        "# random seed generator\n",
        "torch.manual_seed(42);"
      ],
      "execution_count": 2,
      "outputs": [
        {
          "output_type": "stream",
          "text": [
            "/usr/local/lib/python3.6/dist-packages/statsmodels/tools/_testing.py:19: FutureWarning: pandas.util.testing is deprecated. Use the functions in the public API at pandas.testing instead.\n",
            "  import pandas.util.testing as tm\n"
          ],
          "name": "stderr"
        }
      ]
    },
    {
      "cell_type": "markdown",
      "metadata": {
        "id": "Rmn8887vHg2C",
        "colab_type": "text"
      },
      "source": [
        "### 1.3 Check device"
      ]
    },
    {
      "cell_type": "code",
      "metadata": {
        "id": "YXc7eeN9HjNh",
        "colab_type": "code",
        "outputId": "b566ddfe-ce9b-4f6a-f69f-3a6d061222e6",
        "colab": {
          "base_uri": "https://localhost:8080/",
          "height": 37
        }
      },
      "source": [
        "device = torch.device('cpu')\n",
        "if torch.cuda.is_available():\n",
        "    device = torch.device('cuda')\n",
        "print('Device:', device)"
      ],
      "execution_count": 3,
      "outputs": [
        {
          "output_type": "stream",
          "text": [
            "Device: cuda\n"
          ],
          "name": "stdout"
        }
      ]
    },
    {
      "cell_type": "markdown",
      "metadata": {
        "id": "Fb_hxbel26WM",
        "colab_type": "text"
      },
      "source": [
        "### 1.4 Constants definition"
      ]
    },
    {
      "cell_type": "code",
      "metadata": {
        "id": "pf3IfhKW2474",
        "colab_type": "code",
        "colab": {}
      },
      "source": [
        "# define the size of embeddings (options: 50, 100, 200, 300)\n",
        "EMBEDDING_DIM = 300"
      ],
      "execution_count": 0,
      "outputs": []
    },
    {
      "cell_type": "markdown",
      "metadata": {
        "id": "g8cTjVNEoJkJ",
        "colab_type": "text"
      },
      "source": [
        "## 2. Custom functions and classes"
      ]
    },
    {
      "cell_type": "markdown",
      "metadata": {
        "id": "P9DFW3xLoWD4",
        "colab_type": "text"
      },
      "source": [
        "### 2.1 Functions"
      ]
    },
    {
      "cell_type": "markdown",
      "metadata": {
        "id": "GeSe31BerbWp",
        "colab_type": "text"
      },
      "source": [
        "Function that calculates the number of parameters of a network"
      ]
    },
    {
      "cell_type": "code",
      "metadata": {
        "id": "K1jFrB_fs9E-",
        "colab_type": "code",
        "colab": {}
      },
      "source": [
        "'''\n",
        "description:\n",
        "    - given a model, this function returns its number of parameters (weight, bias)\n",
        "#-------------------\n",
        "positional args:\n",
        "    - model [torch.nn.Module]: instance of the network\n",
        "optional args:\n",
        "    - verbose (default=False) [bool]: if True, print a report with the parameters of each layer\n",
        "#-------------------\n",
        "return:\n",
        "    - [int] total parameters of the network\n",
        "''';"
      ],
      "execution_count": 0,
      "outputs": []
    },
    {
      "cell_type": "code",
      "metadata": {
        "id": "-1XBjqgNritp",
        "colab_type": "code",
        "colab": {}
      },
      "source": [
        "def nparam(model, verbose=False):\n",
        "    if(verbose):\n",
        "        i = 0\n",
        "        total = 0\n",
        "        for name, param in model.named_parameters():\n",
        "            if (param.requires_grad):\n",
        "                #print('layer ', i, ' name: ', name)\n",
        "                j = 1\n",
        "                for dim in param.data.shape:\n",
        "                    j = j * dim\n",
        "                print('layer ', i, ': ', name, '; parameters: ', j, sep='')\n",
        "                i += 1\n",
        "                total += j\n",
        "        print('total parameters = ', total)\n",
        "        return\n",
        "    else:\n",
        "        #pytorch_total_params = sum(p.numel() for p in model.parameters() if p.requires_grad)\n",
        "        return sum(p.numel() for p in model.parameters())"
      ],
      "execution_count": 0,
      "outputs": []
    },
    {
      "cell_type": "markdown",
      "metadata": {
        "id": "CmnUYDiAnfZ_",
        "colab_type": "text"
      },
      "source": [
        "Function to plot confusion matrix"
      ]
    },
    {
      "cell_type": "code",
      "metadata": {
        "id": "079BiJjGssWN",
        "colab_type": "code",
        "colab": {}
      },
      "source": [
        "'''\n",
        "description:\n",
        "    - this function plots the confusion matrix (normalized or not) \n",
        "    using Matplotlib and seaborn in a nice way using heatmap.\n",
        "#-------------------\n",
        "positional args:\n",
        "    - confusion_matrix  [numpy.ndarray]:    ex.: array([[88, 19],[22, 71]])\n",
        "    - class_names       [list of str]:      ex.: ['negative', 'positive']\n",
        "\n",
        "optional args:\n",
        "    - title     (default=None)          [str]:      title of the plot\n",
        "    - normalize (default=False)         [bool]:     values raw or normalized\n",
        "    - cmap      (default=plt.cm.Blues)     \\\n",
        "       [matplotlib.colors.LinearSegmentedColormap]: colormap to be used\n",
        "    - fig_size   (default=(10,7))        [tuple]:    size of the figure\n",
        "    - fontsize  (default=14)            [int]:      size of the text\n",
        "#-------------------\n",
        "return:\n",
        "  - fig [matplotlib.figure.Figure]: confusion matrix plotted in a nice way!\n",
        "''';"
      ],
      "execution_count": 0,
      "outputs": []
    },
    {
      "cell_type": "code",
      "metadata": {
        "id": "z7-aEqs_nhpf",
        "colab_type": "code",
        "colab": {}
      },
      "source": [
        "#https://github.com/ito-rafael/machine-learning/blob/master/snippets/confusion_matrix.py\n",
        "def print_confusion_matrix(confusion_matrix, class_names, title=None, normalize=False, cmap=plt.cm.Blues, figsize = (10,7), fontsize=14):\n",
        "    # normalized or raw CM\n",
        "    if normalize:\n",
        "        confusion_matrix = confusion_matrix.astype('float') / confusion_matrix.sum(axis=1)[:, np.newaxis]\n",
        "        fmt = '.2f'\n",
        "    else:\n",
        "        fmt = 'd'\n",
        "    #----------------------------\n",
        "    df_cm = pd.DataFrame(confusion_matrix, index=class_names, columns=class_names)\n",
        "    fig = plt.figure(figsize=figsize)\n",
        "    try:\n",
        "        heatmap = sns.heatmap(df_cm, annot=True, fmt=fmt, cmap=cmap)\n",
        "    except ValueError:\n",
        "        raise ValueError(\"Confusion matrix values must be integers.\")\n",
        "    #----------------------------\n",
        "    # fix matplotlib 3.1.1 bug\n",
        "    #heatmap.get_ylim() --> (5.5, 0.5)\n",
        "    #heatmap.set_ylim(6.0, 0)\n",
        "    #----------------------------\n",
        "    heatmap.yaxis.set_ticklabels(heatmap.yaxis.get_ticklabels(), rotation=0, ha='right', fontsize=fontsize)\n",
        "    heatmap.xaxis.set_ticklabels(heatmap.xaxis.get_ticklabels(), rotation=45, ha='right', fontsize=fontsize)\n",
        "    plt.title(title)\n",
        "    plt.ylabel('True label')\n",
        "    plt.xlabel('Predicted label')\n",
        "    return fig"
      ],
      "execution_count": 0,
      "outputs": []
    },
    {
      "cell_type": "markdown",
      "metadata": {
        "id": "0KqWxd9RmXWz",
        "colab_type": "text"
      },
      "source": [
        "Function that preprocess a document, returning the mean of word embeddings"
      ]
    },
    {
      "cell_type": "code",
      "metadata": {
        "id": "cRZpxDIfmMEB",
        "colab_type": "code",
        "colab": {}
      },
      "source": [
        "'''\n",
        "description:\n",
        "    this function receives as parameter a corpus [list of lists] and do the following:\n",
        "      - convert to lower case,\n",
        "      - split in tokens,\n",
        "      - remove stop words\n",
        "return:\n",
        "    the same corpus preprocessed\n",
        "''';"
      ],
      "execution_count": 0,
      "outputs": []
    },
    {
      "cell_type": "code",
      "metadata": {
        "id": "wDtylQ8uQL8H",
        "colab_type": "code",
        "colab": {}
      },
      "source": [
        "def pre_processing(corpus, stopwords, embedding=GloVe(name='6B', dim=300, cache='./glove_dir')):\n",
        "    corpus_pp = []\n",
        "    for sentence in corpus:\n",
        "        sentence = sentence.lower()                 # convert to lower case\n",
        "        sentence = re.sub(\"[^\\w]\", \" \",  sentence)  # match word characters [a-zA-Z0-9_]\n",
        "        sentence = sentence.split()                 # split in tokens\n",
        "        #---------------------------\n",
        "        sentence_pp = []\n",
        "        for token in sentence:\n",
        "            # remove stop words\n",
        "            if token not in stopwords: \n",
        "                sentence_pp.append(token)\n",
        "        corpus_pp.append(sentence_pp)\n",
        "    return corpus_pp"
      ],
      "execution_count": 0,
      "outputs": []
    },
    {
      "cell_type": "markdown",
      "metadata": {
        "id": "me1XVMkAfzxo",
        "colab_type": "text"
      },
      "source": [
        "### 2.2 Classes"
      ]
    },
    {
      "cell_type": "markdown",
      "metadata": {
        "id": "ICTToEJMmt-n",
        "colab_type": "text"
      },
      "source": [
        "Class used for training in training loop"
      ]
    },
    {
      "cell_type": "code",
      "metadata": {
        "id": "_1PNzzsk498M",
        "colab_type": "code",
        "colab": {}
      },
      "source": [
        "'''\n",
        "description:\n",
        "    this class is used during the training loop for TRAINING\n",
        "\n",
        "parameters:\n",
        "    - device\n",
        "    - model\n",
        "    - dataloader\n",
        "    - loss_function\n",
        "    - optimizer\n",
        "\n",
        "return:\n",
        "    np.mean(loss_his()) [numpy.float64]: mean of losses of all mini-batches in one epoch\n",
        "    score_train.item()  [float]:         accuracy calculated over one epoch  \n",
        "''';"
      ],
      "execution_count": 0,
      "outputs": []
    },
    {
      "cell_type": "code",
      "metadata": {
        "id": "DYaNeQ2irejs",
        "colab_type": "code",
        "colab": {}
      },
      "source": [
        "class TrainingLoop():\n",
        "    def __init__(self, device, model, dataloader, loss_function, optimizer):\n",
        "        self.device = device\n",
        "        self.model = model\n",
        "        self.dataloader = dataloader\n",
        "        self.loss_function = loss_function\n",
        "        self.optimizer = optimizer\n",
        "\n",
        "    def __call__(self):\n",
        "        # training mode\n",
        "        self.model.train()\n",
        "        loss_his = np.zeros(len(self.dataloader))\n",
        "        score_train = 0.\n",
        "        for b_i, (b_x, b_y) in enumerate(self.dataloader):   # for each training step\n",
        "            b_x, b_y = b_x.to(self.device), b_y.to(self.device)\n",
        "            y_logitos = self.model(b_x)\n",
        "            loss = self.loss_function(y_logitos, b_y)\n",
        "            self.optimizer.zero_grad()  # clear gradients for next train\n",
        "            loss.backward()             # backpropagation, compute gradients\n",
        "            self.optimizer.step()        # apply gradients\n",
        "            #-------------------\n",
        "            y_pred = torch.argmax(y_logitos, dim=1)\n",
        "            score_train += (b_y == y_pred).sum()\n",
        "            loss_his[b_i] = loss.item()\n",
        "        return np.mean(loss_his), score_train.item()"
      ],
      "execution_count": 0,
      "outputs": []
    },
    {
      "cell_type": "markdown",
      "metadata": {
        "id": "JofgQZ-cm3Bd",
        "colab_type": "text"
      },
      "source": [
        "Class used for validation in training loop"
      ]
    },
    {
      "cell_type": "code",
      "metadata": {
        "colab_type": "code",
        "id": "P6j1VO3w6Qee",
        "colab": {}
      },
      "source": [
        "'''\n",
        "description:\n",
        "    this class is used during the training loop for VALIDATION\n",
        "\n",
        "parameters:\n",
        "    - device\n",
        "    - model\n",
        "    - dataloader\n",
        "    - loss_function\n",
        "\n",
        "return:\n",
        "    np.mean(loss_his()) [numpy.float64]: mean of losses of all mini-batches in one epoch\n",
        "    score_valid.item()  [float]:         accuracy calculated over one epoch  \n",
        "''';"
      ],
      "execution_count": 0,
      "outputs": []
    },
    {
      "cell_type": "code",
      "metadata": {
        "id": "A0qgFjIBurL1",
        "colab_type": "code",
        "colab": {}
      },
      "source": [
        "class ValidatingLoop():\n",
        "    def __init__(self, device, model, dataloader, loss_function):\n",
        "        self.device = device\n",
        "        self.model = model\n",
        "        self.dataloader = dataloader\n",
        "        self.loss_function = loss_function\n",
        "\n",
        "    def __call__(self):\n",
        "        # evaluation mode\n",
        "        self.model.eval()\n",
        "        loss_his = np.zeros(len(self.dataloader))\n",
        "        score_valid = 0.\n",
        "        for b_ival, (b_xval, b_yval) in enumerate(self.dataloader):\n",
        "            b_xval, b_yval = b_xval.to(self.device), b_yval.to(self.device)\n",
        "            y_logitos = self.model(b_xval)\n",
        "            loss_valid = self.loss_function(y_logitos, b_yval)\n",
        "            yval_pred = torch.argmax(y_logitos, dim=1)\n",
        "            score_valid += (b_yval == yval_pred).sum()\n",
        "            loss_his[b_ival] = loss_valid.item()\n",
        "        return np.mean(loss_his), score_valid"
      ],
      "execution_count": 0,
      "outputs": []
    },
    {
      "cell_type": "markdown",
      "metadata": {
        "id": "C4IayX1HsCyC",
        "colab_type": "text"
      },
      "source": [
        "## 3. Dataset Pre-processing"
      ]
    },
    {
      "cell_type": "markdown",
      "metadata": {
        "id": "QS8YeBbWH7rF",
        "colab_type": "text"
      },
      "source": [
        "### 3.1 Download dataset"
      ]
    },
    {
      "cell_type": "code",
      "metadata": {
        "id": "be58QXZjoBWl",
        "colab_type": "code",
        "outputId": "8077a5c4-ba62-4537-feb6-dd6016e98ade",
        "colab": {
          "base_uri": "https://localhost:8080/",
          "height": 58
        }
      },
      "source": [
        "# download dataset\n",
        "!wget -nc http://files.fast.ai/data/examples/imdb_sample.tgz\n",
        "!tar -xzf imdb_sample.tgz"
      ],
      "execution_count": 15,
      "outputs": [
        {
          "output_type": "stream",
          "text": [
            "File ‘imdb_sample.tgz’ already there; not retrieving.\n",
            "\n"
          ],
          "name": "stdout"
        }
      ]
    },
    {
      "cell_type": "markdown",
      "metadata": {
        "id": "qGaOXbAGk_IG",
        "colab_type": "text"
      },
      "source": [
        "### 3.2 Download embeddings"
      ]
    },
    {
      "cell_type": "code",
      "metadata": {
        "id": "_vfFwWCWxc07",
        "colab_type": "code",
        "colab": {}
      },
      "source": [
        "# !wget -nc http://nlp.stanford.edu/data/glove.6B.zip\n",
        "# !unzip -o glove.6B.zip -d glove_dir"
      ],
      "execution_count": 0,
      "outputs": []
    },
    {
      "cell_type": "markdown",
      "metadata": {
        "id": "9ugoqCqNwnuu",
        "colab_type": "text"
      },
      "source": [
        "Loading word embeddings with gensin"
      ]
    },
    {
      "cell_type": "code",
      "metadata": {
        "id": "Db7UYxCow5GF",
        "colab_type": "code",
        "colab": {}
      },
      "source": [
        "# import gensim.downloader as api\n",
        "\n",
        "# word2vec_model = api.load(\"glove-wiki-gigaword-300\")\n",
        "# print(word2vec_model.vectors.shape)\n",
        "# print(word2vec_model.index2word)"
      ],
      "execution_count": 0,
      "outputs": []
    },
    {
      "cell_type": "markdown",
      "metadata": {
        "id": "73B7smEnxdVZ",
        "colab_type": "text"
      },
      "source": [
        "Loading word embeddings with torchtext"
      ]
    },
    {
      "cell_type": "code",
      "metadata": {
        "id": "A_05Xh0L05tI",
        "colab_type": "code",
        "colab": {}
      },
      "source": [
        "from torchtext.vocab import GloVe\n",
        "glove_embedding = GloVe(name='6B', dim=EMBEDDING_DIM, cache='./glove_dir')"
      ],
      "execution_count": 0,
      "outputs": []
    },
    {
      "cell_type": "code",
      "metadata": {
        "id": "jnizgoBh08w8",
        "colab_type": "code",
        "outputId": "e78cb8b3-4241-43b3-89db-163d9647cc83",
        "colab": {
          "base_uri": "https://localhost:8080/",
          "height": 78
        }
      },
      "source": [
        "print(glove_embedding.vectors.shape)\n",
        "print('First 20 words and its index:', list(glove_embedding.stoi.items())[:20])"
      ],
      "execution_count": 19,
      "outputs": [
        {
          "output_type": "stream",
          "text": [
            "torch.Size([400000, 300])\n",
            "First 20 words and its index: [('the', 0), (',', 1), ('.', 2), ('of', 3), ('to', 4), ('and', 5), ('in', 6), ('a', 7), ('\"', 8), (\"'s\", 9), ('for', 10), ('-', 11), ('that', 12), ('on', 13), ('is', 14), ('was', 15), ('said', 16), ('with', 17), ('he', 18), ('as', 19)]\n"
          ],
          "name": "stdout"
        }
      ]
    },
    {
      "cell_type": "code",
      "metadata": {
        "id": "tFkUxOyEp29i",
        "colab_type": "code",
        "outputId": "e4dcf254-dac3-4969-8728-8fe6cfb3da21",
        "colab": {
          "base_uri": "https://localhost:8080/",
          "height": 37
        }
      },
      "source": [
        "glove_embedding['the'].shape"
      ],
      "execution_count": 20,
      "outputs": [
        {
          "output_type": "execute_result",
          "data": {
            "text/plain": [
              "torch.Size([300])"
            ]
          },
          "metadata": {
            "tags": []
          },
          "execution_count": 20
        }
      ]
    },
    {
      "cell_type": "markdown",
      "metadata": {
        "id": "LWGpvacBsdW_",
        "colab_type": "text"
      },
      "source": [
        "### 3.3 Dataset preparation"
      ]
    },
    {
      "cell_type": "code",
      "metadata": {
        "id": "IhhTEAagAr0f",
        "colab_type": "code",
        "colab": {}
      },
      "source": [
        "# read csv spreadsheet\n",
        "df = pd.read_csv('imdb_sample/texts.csv')"
      ],
      "execution_count": 0,
      "outputs": []
    },
    {
      "cell_type": "markdown",
      "metadata": {
        "id": "_7pkQlN9uv0R",
        "colab_type": "text"
      },
      "source": [
        "training-validation split"
      ]
    },
    {
      "cell_type": "code",
      "metadata": {
        "id": "56fqaVspuQZx",
        "colab_type": "code",
        "outputId": "950e0170-83d4-462c-86ef-4fbc5fb6d4d1",
        "colab": {
          "base_uri": "https://localhost:8080/",
          "height": 58
        }
      },
      "source": [
        "train = df[df['is_valid'] == False]\n",
        "valid = df[df['is_valid'] == True]\n",
        "#---------------------------\n",
        "print('treino.shape:', train.shape)\n",
        "print('valid.shape:', valid.shape)"
      ],
      "execution_count": 22,
      "outputs": [
        {
          "output_type": "stream",
          "text": [
            "treino.shape: (800, 3)\n",
            "valid.shape: (200, 3)\n"
          ],
          "name": "stdout"
        }
      ]
    },
    {
      "cell_type": "markdown",
      "metadata": {
        "id": "0ZoSUNHgA4LH",
        "colab_type": "text"
      },
      "source": [
        "Input"
      ]
    },
    {
      "cell_type": "code",
      "metadata": {
        "colab_type": "code",
        "outputId": "eeb65aca-a100-47ff-c1d1-2c3a206f75e2",
        "id": "BoX61hQWAgb_",
        "colab": {
          "base_uri": "https://localhost:8080/",
          "height": 37
        }
      },
      "source": [
        "# slice pandas dataframe\n",
        "X_train_pd = train['text']\n",
        "X_valid_pd = valid['text']\n",
        "#---------------------------\n",
        "print(type(X_train_pd))"
      ],
      "execution_count": 23,
      "outputs": [
        {
          "output_type": "stream",
          "text": [
            "<class 'pandas.core.series.Series'>\n"
          ],
          "name": "stdout"
        }
      ]
    },
    {
      "cell_type": "markdown",
      "metadata": {
        "id": "ff-MVMe6G58o",
        "colab_type": "text"
      },
      "source": [
        "Convert from pandas to list and preprocess (remove stopwords, tokenize, lowercase)"
      ]
    },
    {
      "cell_type": "code",
      "metadata": {
        "id": "J2luO_w7NK7H",
        "colab_type": "code",
        "outputId": "e9cb2978-b25a-4b66-c178-56b19027991d",
        "colab": {
          "base_uri": "https://localhost:8080/",
          "height": 58
        }
      },
      "source": [
        "# convert from pandas to list\n",
        "X_train_list = X_train_pd.tolist()\n",
        "X_valid_list = X_valid_pd.tolist()\n",
        "print(type(X_train_pd))\n",
        "print(type(X_train_list))"
      ],
      "execution_count": 24,
      "outputs": [
        {
          "output_type": "stream",
          "text": [
            "<class 'pandas.core.series.Series'>\n",
            "<class 'list'>\n"
          ],
          "name": "stdout"
        }
      ]
    },
    {
      "cell_type": "code",
      "metadata": {
        "id": "E4OIFqfTJ66H",
        "colab_type": "code",
        "outputId": "0b0facee-096b-4161-e2d4-5f118c9df9b9",
        "colab": {
          "base_uri": "https://localhost:8080/",
          "height": 99
        }
      },
      "source": [
        "# get English stopwords\n",
        "nltk.download('stopwords')\n",
        "stopwords = nltk.corpus.stopwords.words('english')\n",
        "# print first 15 stop words\n",
        "print(stopwords[:10])\n",
        "# print number of stopwords\n",
        "len(stopwords)"
      ],
      "execution_count": 25,
      "outputs": [
        {
          "output_type": "stream",
          "text": [
            "[nltk_data] Downloading package stopwords to /root/nltk_data...\n",
            "[nltk_data]   Package stopwords is already up-to-date!\n",
            "['i', 'me', 'my', 'myself', 'we', 'our', 'ours', 'ourselves', 'you', \"you're\"]\n"
          ],
          "name": "stdout"
        },
        {
          "output_type": "execute_result",
          "data": {
            "text/plain": [
              "179"
            ]
          },
          "metadata": {
            "tags": []
          },
          "execution_count": 25
        }
      ]
    },
    {
      "cell_type": "code",
      "metadata": {
        "id": "ViHIm_dBxZ2O",
        "colab_type": "code",
        "outputId": "c79f001d-93aa-4258-d1de-9075fb20153b",
        "colab": {
          "base_uri": "https://localhost:8080/",
          "height": 78
        }
      },
      "source": [
        "X_train_tokens = pre_processing(X_train_list, stopwords, glove_embedding)\n",
        "X_valid_tokens = pre_processing(X_valid_list, stopwords, glove_embedding)\n",
        "#---------------------------\n",
        "print(X_train_list[0])\n",
        "X_train_tokens[0][:5]"
      ],
      "execution_count": 26,
      "outputs": [
        {
          "output_type": "stream",
          "text": [
            "Un-bleeping-believable! Meg Ryan doesn't even look her usual pert lovable self in this, which normally makes me forgive her shallow ticky acting schtick. Hard to believe she was the producer on this dog. Plus Kevin Kline: what kind of suicide trip has his career been on? Whoosh... Banzai!!! Finally this was directed by the guy who did Big Chill? Must be a replay of Jonestown - hollywood style. Wooofff!\n"
          ],
          "name": "stdout"
        },
        {
          "output_type": "execute_result",
          "data": {
            "text/plain": [
              "['un', 'bleeping', 'believable', 'meg', 'ryan']"
            ]
          },
          "metadata": {
            "tags": []
          },
          "execution_count": 26
        }
      ]
    },
    {
      "cell_type": "markdown",
      "metadata": {
        "id": "Jp6Fv3U_1avN",
        "colab_type": "text"
      },
      "source": [
        "Get the mean length of the sentences of the corpus"
      ]
    },
    {
      "cell_type": "code",
      "metadata": {
        "id": "m01ZDYh7xbb0",
        "colab_type": "code",
        "outputId": "1044fb26-edea-4b84-daf5-28a8d7b5b251",
        "colab": {
          "base_uri": "https://localhost:8080/",
          "height": 58
        }
      },
      "source": [
        "# calculate the length of each sentence\n",
        "#---------------------------\n",
        "# training set\n",
        "N_SAMPLES = len(X_train_tokens)\n",
        "length = torch.zeros(N_SAMPLES)\n",
        "for i, sentence in enumerate(X_train_tokens):\n",
        "    length[i] = len(sentence)\n",
        "#---------------------------\n",
        "# validaton set\n",
        "N_VALID = len(X_valid_tokens)\n",
        "length_valid = torch.zeros(N_VALID)\n",
        "for i, sentence in enumerate(X_valid_tokens):\n",
        "    length_valid[i] = len(sentence)\n",
        "#---------------------------\n",
        "# get the mean length of all sentences\n",
        "max_length = torch.mean(length)\n",
        "max_length = int(torch.round(max_length).item())\n",
        "#---------------------------\n",
        "print('length of sentences:', length[:10])\n",
        "print('mean length of sentences:', max_length)"
      ],
      "execution_count": 27,
      "outputs": [
        {
          "output_type": "stream",
          "text": [
            "length of sentences: tensor([ 42., 177.,  94.,  79., 160.,  69.,  95., 232., 106.,  75.])\n",
            "mean length of sentences: 131\n"
          ],
          "name": "stdout"
        }
      ]
    },
    {
      "cell_type": "markdown",
      "metadata": {
        "id": "lhsBB-pQfoTi",
        "colab_type": "text"
      },
      "source": [
        "## Self-Attention Layer (as function)\n"
      ]
    },
    {
      "cell_type": "markdown",
      "metadata": {
        "id": "HHnFY7FxAhbn",
        "colab_type": "text"
      },
      "source": [
        "Truncate sentences to max_length tokens and convert them to vectors using Glove"
      ]
    },
    {
      "cell_type": "code",
      "metadata": {
        "id": "GWWNWv3O5FMo",
        "colab_type": "code",
        "outputId": "ed06c44a-57f2-4b6d-db83-3418568665d9",
        "colab": {
          "base_uri": "https://localhost:8080/",
          "height": 37
        }
      },
      "source": [
        "# training set\n",
        "network_input = torch.zeros(N_SAMPLES, max_length, EMBEDDING_DIM)   # in this case, (800 x 131 x 300)\n",
        "#---------------------------\n",
        "for s, sentence in enumerate(X_train_tokens):\n",
        "    for t, token in enumerate(sentence):\n",
        "        # truncate sentence in max_length\n",
        "        if (t == max_length):\n",
        "            break\n",
        "        # lookup table\n",
        "        network_input[s][t] = glove_embedding[token]\n",
        "#---------------------------\n",
        "print(network_input.shape)"
      ],
      "execution_count": 28,
      "outputs": [
        {
          "output_type": "stream",
          "text": [
            "torch.Size([800, 131, 300])\n"
          ],
          "name": "stdout"
        }
      ]
    },
    {
      "cell_type": "code",
      "metadata": {
        "id": "n5BXEkKa7MBS",
        "colab_type": "code",
        "outputId": "11bdf90a-6dbf-46f2-ba5c-8b931c26aaa3",
        "colab": {
          "base_uri": "https://localhost:8080/",
          "height": 37
        }
      },
      "source": [
        "# validation set\n",
        "network_valid = torch.zeros(N_VALID, max_length, EMBEDDING_DIM)   # in this case, (800 x 131 x 300)\n",
        "#---------------------------\n",
        "for s, sentence in enumerate(X_valid_tokens):\n",
        "    for t, token in enumerate(sentence):\n",
        "        # truncate sentence in max_length\n",
        "        if (t == max_length):\n",
        "            break\n",
        "        # lookup table\n",
        "        network_valid[s][t] = glove_embedding[token]\n",
        "#---------------------------\n",
        "print(network_valid.shape)"
      ],
      "execution_count": 29,
      "outputs": [
        {
          "output_type": "stream",
          "text": [
            "torch.Size([200, 131, 300])\n"
          ],
          "name": "stdout"
        }
      ]
    },
    {
      "cell_type": "markdown",
      "metadata": {
        "id": "2SkOYfB7_5ZN",
        "colab_type": "text"
      },
      "source": [
        "### Self-Attention using the Loop Approach"
      ]
    },
    {
      "cell_type": "code",
      "metadata": {
        "id": "20YCJpPY839r",
        "colab_type": "code",
        "colab": {}
      },
      "source": [
        "'''\n",
        "#---------------------------\n",
        "shapes:\n",
        "  - corpus_tokenized: (800 x 131 x 300)\n",
        "  - seq: (131 x 300)\n",
        "  - q, k, v: (1 x 300)\n",
        "#---------------------------\n",
        "input:\n",
        "  - embedding_corpus_tokenized: (800 x 131 x 300)\n",
        "    embeddings of the first \"max_length\" words of the sentence, \n",
        "    truncated if bigger or completed with <PAD> if smaller.\n",
        "#---------------------------\n",
        "return:\n",
        "  - net_inp_sa: (800 x 131 x 300)\n",
        "  new embeddings calculated with self-attention algorithm\n",
        "'''\n",
        "def self_attention_loop(embedding_corpus_tokenized):\n",
        "    SAMPLES = len(embedding_corpus_tokenized)\n",
        "    L = len(embedding_corpus_tokenized[0])\n",
        "    EMBEDDING_DIM = len(embedding_corpus_tokenized[0][0])\n",
        "    #---------------------------\n",
        "    net_inp_sa = torch.zeros(SAMPLES, L, EMBEDDING_DIM)   # in this case, (800 x 131 x 300)\n",
        "    for index, seq in enumerate(embedding_corpus_tokenized):\n",
        "        for q_idx, q in enumerate(seq):\n",
        "            #---------------------------\n",
        "            # calculate scores and probabilities\n",
        "            scores = torch.zeros(L) # shape: (131)\n",
        "            for i, k in enumerate(seq):\n",
        "                # if PAD, force scores = 0 to be very negative (-1e10), \n",
        "                # so the probability is almost 0\n",
        "                if (torch.nonzero(k).size(0) == 0):\n",
        "                    scores[i] = -1e10\n",
        "               # else, calculate score normally\n",
        "                else:\n",
        "                    scores[i] = torch.matmul(q, k.T)\n",
        "            probs = F.softmax(scores, dim=0) # shape: (131 x 1)\n",
        "            #---------------------------\n",
        "            # probabilities multiplication and mean\n",
        "            new_embedding = 0\n",
        "            for j, v in enumerate(seq):\n",
        "                new_embedding += v * probs[j]\n",
        "            #---------------------------\n",
        "            # save new embedding\n",
        "            net_inp_sa[index][q_idx][:] = new_embedding\n",
        "    return net_inp_sa"
      ],
      "execution_count": 0,
      "outputs": []
    },
    {
      "cell_type": "markdown",
      "metadata": {
        "id": "lmeIPU_RAE0S",
        "colab_type": "text"
      },
      "source": [
        "### Self-Attention using the Matrix Approach"
      ]
    },
    {
      "cell_type": "code",
      "metadata": {
        "colab_type": "code",
        "id": "4rcNaxp2hQn_",
        "colab": {}
      },
      "source": [
        "def self_attention_matrix(embedding_corpus_tokenized):\n",
        "    SAMPLES = len(embedding_corpus_tokenized)\n",
        "    L = len(embedding_corpus_tokenized[0])\n",
        "    EMBEDDING_DIM = len(embedding_corpus_tokenized[0][0])\n",
        "    #---------------------------\n",
        "    net_inp_sa = torch.zeros(SAMPLES, L, EMBEDDING_DIM)   # in this case, (800 x 131 x 300)\n",
        "    for index, seq in enumerate(embedding_corpus_tokenized):\n",
        "        X = seq.squeeze() # new shape: (131 x 300)\n",
        "        Q = K = V = X\n",
        "        scores = torch.matmul(Q, K.T)\n",
        "        scores[scores == 0] = -1e10  # force scores = 0 to be very negative (-1e10), so prob is almost 0\n",
        "        #probs = F.softmax(scores, dim=-1)\n",
        "        probs = F.softmax(scores, dim=1)\n",
        "        net_inp_sa[index] = torch.matmul(probs, V)\n",
        "    return net_inp_sa"
      ],
      "execution_count": 0,
      "outputs": []
    },
    {
      "cell_type": "markdown",
      "metadata": {
        "id": "Srcyevu8xYOK",
        "colab_type": "text"
      },
      "source": [
        "Testing self attention \"layer\" using loop approach for only 10 samples"
      ]
    },
    {
      "cell_type": "code",
      "metadata": {
        "id": "SaJMrQVY4k52",
        "colab_type": "code",
        "outputId": "1810d107-4b9a-447f-a42d-27727c374c38",
        "colab": {
          "base_uri": "https://localhost:8080/",
          "height": 78
        }
      },
      "source": [
        "%%time\n",
        "sa_loop = self_attention_loop(network_input[:10])\n",
        "print(sa_loop.shape)"
      ],
      "execution_count": 32,
      "outputs": [
        {
          "output_type": "stream",
          "text": [
            "torch.Size([10, 131, 300])\n",
            "CPU times: user 5.5 s, sys: 803 µs, total: 5.5 s\n",
            "Wall time: 5.51 s\n"
          ],
          "name": "stdout"
        }
      ]
    },
    {
      "cell_type": "markdown",
      "metadata": {
        "id": "mlkIWjbqx1Ud",
        "colab_type": "text"
      },
      "source": [
        "Now we will test the same self attention \"layer\", but using the matrix approach for all the dataset (800 samples)"
      ]
    },
    {
      "cell_type": "code",
      "metadata": {
        "id": "9F2u9SPj475f",
        "colab_type": "code",
        "outputId": "1516972a-6c61-4c55-ecb7-5868be8565c4",
        "colab": {
          "base_uri": "https://localhost:8080/",
          "height": 78
        }
      },
      "source": [
        "%%time\n",
        "sa_matrix = self_attention_matrix(network_input[:])\n",
        "print(sa_matrix.shape)"
      ],
      "execution_count": 33,
      "outputs": [
        {
          "output_type": "stream",
          "text": [
            "torch.Size([800, 131, 300])\n",
            "CPU times: user 665 ms, sys: 54.9 ms, total: 720 ms\n",
            "Wall time: 721 ms\n"
          ],
          "name": "stdout"
        }
      ]
    },
    {
      "cell_type": "markdown",
      "metadata": {
        "id": "lypZoIxaxkYY",
        "colab_type": "text"
      },
      "source": [
        "The first approach took 6.55 seconds for only 10 samples. If all the dataset was passed to this function, it would take approximately 6.55 * 80 = 524 seconds to process all data!  \n",
        "Instead, the matrix approach took only 731 ms for all the dataset. This means the second approach is more than 700 times faster!"
      ]
    },
    {
      "cell_type": "code",
      "metadata": {
        "colab_type": "code",
        "outputId": "051aeaec-db10-4f1c-803c-4022904ea7fb",
        "id": "xo0Tt_LNjTvH",
        "colab": {
          "base_uri": "https://localhost:8080/",
          "height": 324
        }
      },
      "source": [
        "# comparing both approaches\n",
        "print(sa_loop[:2][:2][:1])\n",
        "print('')\n",
        "print(sa_matrix[:2][:2][:1])"
      ],
      "execution_count": 34,
      "outputs": [
        {
          "output_type": "stream",
          "text": [
            "tensor([[[ 0.4426, -0.1797, -0.2702,  ..., -0.3162, -0.3966,  0.0611],\n",
            "         [ 0.3920, -0.3462, -0.2514,  ..., -0.1174,  0.4845, -0.4879],\n",
            "         [ 0.0335,  0.1577, -0.0917,  ...,  0.6841,  0.0333,  0.3262],\n",
            "         ...,\n",
            "         [ 0.0744,  0.0789, -0.0398,  ..., -0.0272, -0.0315,  0.0758],\n",
            "         [ 0.0744,  0.0789, -0.0398,  ..., -0.0272, -0.0315,  0.0758],\n",
            "         [ 0.0744,  0.0789, -0.0398,  ..., -0.0272, -0.0315,  0.0758]]])\n",
            "\n",
            "tensor([[[ 0.4426, -0.1797, -0.2702,  ..., -0.3162, -0.3966,  0.0611],\n",
            "         [ 0.3920, -0.3462, -0.2514,  ..., -0.1174,  0.4845, -0.4879],\n",
            "         [ 0.0335,  0.1577, -0.0917,  ...,  0.6841,  0.0333,  0.3262],\n",
            "         ...,\n",
            "         [ 0.0233,  0.0247, -0.0125,  ..., -0.0085, -0.0098,  0.0237],\n",
            "         [ 0.0233,  0.0247, -0.0125,  ..., -0.0085, -0.0098,  0.0237],\n",
            "         [ 0.0233,  0.0247, -0.0125,  ..., -0.0085, -0.0098,  0.0237]]])\n"
          ],
          "name": "stdout"
        }
      ]
    },
    {
      "cell_type": "code",
      "metadata": {
        "id": "i8W5omQJz1q9",
        "colab_type": "code",
        "outputId": "633d0b6f-f1d6-44ad-bfdb-a478556c25d3",
        "colab": {
          "base_uri": "https://localhost:8080/",
          "height": 37
        }
      },
      "source": [
        "# MSE between both approaches for the first 10 samples out of 800\n",
        "torch.nn.functional.mse_loss(sa_loop, sa_matrix[:10])"
      ],
      "execution_count": 35,
      "outputs": [
        {
          "output_type": "execute_result",
          "data": {
            "text/plain": [
              "tensor(0.0011)"
            ]
          },
          "metadata": {
            "tags": []
          },
          "execution_count": 35
        }
      ]
    },
    {
      "cell_type": "code",
      "metadata": {
        "id": "Od3hL1Md7-K9",
        "colab_type": "code",
        "outputId": "906ec081-214b-4e32-8b6b-241a15fb4d6c",
        "colab": {
          "base_uri": "https://localhost:8080/",
          "height": 78
        }
      },
      "source": [
        "# doing the same for the validation set\n",
        "%%time\n",
        "sa_matrix_valid = self_attention_matrix(network_valid)\n",
        "print(sa_matrix_valid.shape)"
      ],
      "execution_count": 36,
      "outputs": [
        {
          "output_type": "stream",
          "text": [
            "torch.Size([200, 131, 300])\n",
            "CPU times: user 167 ms, sys: 15.1 ms, total: 182 ms\n",
            "Wall time: 201 ms\n"
          ],
          "name": "stdout"
        }
      ]
    },
    {
      "cell_type": "code",
      "metadata": {
        "id": "rik5d05j84N1",
        "colab_type": "code",
        "colab": {}
      },
      "source": [
        "def masked_mean(sa_embeddings, length):\n",
        "    # create mask matrix\n",
        "    mask = torch.ones(sa_embeddings.shape[0], sa_embeddings.shape[1])   # shape: (800 x 131)\n",
        "    # clear entries for PAD\n",
        "    for i, L in enumerate(length):\n",
        "        mask[i][int(L.item()):] = 0\n",
        "    #---------------------------\n",
        "    # use mask to calculate mean\n",
        "    masked_mean = mask.unsqueeze(dim=2) * sa_embeddings\n",
        "#    masked_mean = torch.mean(masked_mean, dim=2)\n",
        "    # do not use mean! instead, sum and divide by length (because there are PADs)\n",
        "    masked_mean = torch.sum(masked_mean, dim=1)\n",
        "    masked_mean = masked_mean / length.unsqueeze(dim=1)\n",
        "    return masked_mean"
      ],
      "execution_count": 0,
      "outputs": []
    },
    {
      "cell_type": "code",
      "metadata": {
        "id": "-R6jS2DK3ncP",
        "colab_type": "code",
        "outputId": "a3c20508-ff6b-4c85-bee1-6f4159585356",
        "colab": {
          "base_uri": "https://localhost:8080/",
          "height": 58
        }
      },
      "source": [
        "X_train_sa = masked_mean(sa_matrix, length)\n",
        "X_valid_sa = masked_mean(sa_matrix_valid, length_valid)\n",
        "#---------------------------\n",
        "print(X_train_sa.shape)\n",
        "print(X_valid_sa.shape)"
      ],
      "execution_count": 38,
      "outputs": [
        {
          "output_type": "stream",
          "text": [
            "torch.Size([800, 300])\n",
            "torch.Size([200, 300])\n"
          ],
          "name": "stdout"
        }
      ]
    },
    {
      "cell_type": "markdown",
      "metadata": {
        "id": "UufFsBWGvbGM",
        "colab_type": "text"
      },
      "source": [
        "Target"
      ]
    },
    {
      "cell_type": "code",
      "metadata": {
        "colab_type": "code",
        "id": "Vs124CzgldcS",
        "outputId": "cecea61f-8ec7-4b7f-fe47-fcbff7e17b4f",
        "colab": {
          "base_uri": "https://localhost:8080/",
          "height": 58
        }
      },
      "source": [
        "# get the label as string (either 'positive' or 'negative')\n",
        "y_train_str = train['label']\n",
        "y_valid_str = valid['label']\n",
        "#---------------------------\n",
        "# convert from string to boolean\n",
        "mapping = {'positive': True, 'negative': False}\n",
        "y_train_pd = y_train_str.map(mapping)\n",
        "y_valid_pd = y_valid_str.map(mapping)\n",
        "#---------------------------\n",
        "print(y_train_str[:1].values)\n",
        "print(y_train_pd[:1].values)"
      ],
      "execution_count": 39,
      "outputs": [
        {
          "output_type": "stream",
          "text": [
            "['negative']\n",
            "[False]\n"
          ],
          "name": "stdout"
        }
      ]
    },
    {
      "cell_type": "code",
      "metadata": {
        "id": "nupgh_EdncL-",
        "colab_type": "code",
        "outputId": "f6a7cdda-03e5-402f-c114-214113609d3d",
        "colab": {
          "base_uri": "https://localhost:8080/",
          "height": 78
        }
      },
      "source": [
        "# convert from pandas series to PyTorch\n",
        "y_train = torch.LongTensor(y_train_pd.values)\n",
        "y_valid = torch.LongTensor(y_valid_pd.values)\n",
        "#---------------------------\n",
        "print('type of \"y_train_pd\":', type(y_train_pd))\n",
        "print('type of \"y_train\":', type(y_train))\n",
        "print(y_train.shape)"
      ],
      "execution_count": 40,
      "outputs": [
        {
          "output_type": "stream",
          "text": [
            "type of \"y_train_pd\": <class 'pandas.core.series.Series'>\n",
            "type of \"y_train\": <class 'torch.Tensor'>\n",
            "torch.Size([800])\n"
          ],
          "name": "stdout"
        }
      ]
    },
    {
      "cell_type": "markdown",
      "metadata": {
        "id": "7x0xQwN7ASV9",
        "colab_type": "text"
      },
      "source": [
        "## Dataset"
      ]
    },
    {
      "cell_type": "markdown",
      "metadata": {
        "id": "UoCDR4p0BYcy",
        "colab_type": "text"
      },
      "source": [
        "### 3.3 PyTorch dataset creation"
      ]
    },
    {
      "cell_type": "code",
      "metadata": {
        "id": "2a8kAF4zCAol",
        "colab_type": "code",
        "colab": {}
      },
      "source": [
        "# dataset using Word Embeddings\n",
        "ds_train = TensorDataset(X_train_sa, y_train)\n",
        "ds_valid = TensorDataset(X_valid_sa, y_valid)"
      ],
      "execution_count": 0,
      "outputs": []
    },
    {
      "cell_type": "markdown",
      "metadata": {
        "id": "UPsgbfqGsm5V",
        "colab_type": "text"
      },
      "source": [
        "### 3.4 PyTorch loader creation\n",
        "\n",
        "- BATCH_SIZE definition\n",
        "- training dataset\n",
        "- validation dataset"
      ]
    },
    {
      "cell_type": "code",
      "metadata": {
        "id": "9sESeX_SqoXr",
        "colab_type": "code",
        "colab": {}
      },
      "source": [
        "BATCH_SIZE = 100\n",
        "#-------------------------------------------------\n",
        "# training data loader\n",
        "dl_train = torch.utils.data.DataLoader(\n",
        "            dataset=ds_train, \n",
        "            drop_last = False,\n",
        "            shuffle = True,\n",
        "            batch_size = BATCH_SIZE)\n",
        "#-------------------------------------------------\n",
        "# validation data loader\n",
        "dl_valid =  torch.utils.data.DataLoader(\n",
        "            dataset = ds_valid,\n",
        "            drop_last = False,\n",
        "            shuffle = False,\n",
        "            batch_size = BATCH_SIZE)"
      ],
      "execution_count": 0,
      "outputs": []
    },
    {
      "cell_type": "markdown",
      "metadata": {
        "id": "XFwZVZfQssoV",
        "colab_type": "text"
      },
      "source": [
        "### 3.5 Verifying shape, batch data type from loader and optionally its visualization"
      ]
    },
    {
      "cell_type": "code",
      "metadata": {
        "id": "NQbDl3QVql8m",
        "colab_type": "code",
        "outputId": "7a412c3b-9588-4cc6-c4b9-285cc4000a56",
        "colab": {
          "base_uri": "https://localhost:8080/",
          "height": 78
        }
      },
      "source": [
        "tx, ty = iter(dl_train).next()\n",
        "print('train:', tx.shape, tx.dtype, ty.shape, ty.dtype)\n",
        "tx, ty = iter(dl_valid).next()\n",
        "print('val:', tx.shape, tx.dtype, ty.shape, ty.dtype)\n",
        "print('last batch size:', len(ds_train)%BATCH_SIZE, len(ds_valid)%BATCH_SIZE)"
      ],
      "execution_count": 43,
      "outputs": [
        {
          "output_type": "stream",
          "text": [
            "train: torch.Size([100, 300]) torch.float32 torch.Size([100]) torch.int64\n",
            "val: torch.Size([100, 300]) torch.float32 torch.Size([100]) torch.int64\n",
            "last batch size: 0 0\n"
          ],
          "name": "stdout"
        }
      ]
    },
    {
      "cell_type": "markdown",
      "metadata": {
        "id": "Bw_Z9cMgs8Kf",
        "colab_type": "text"
      },
      "source": [
        "## 4. Network Model"
      ]
    },
    {
      "cell_type": "markdown",
      "metadata": {
        "id": "7vn0r32bamG7",
        "colab_type": "text"
      },
      "source": [
        "### 4.1 Network class definition"
      ]
    },
    {
      "cell_type": "code",
      "metadata": {
        "id": "HY7n0S0vq-1Z",
        "colab_type": "code",
        "colab": {}
      },
      "source": [
        "class NN(torch.nn.Module):\n",
        "    def __init__(self, inputs, layer1_neurons):\n",
        "        super(NN, self).__init__()\n",
        "        self.inputs = inputs\n",
        "        self.layer1_neurons = layer1_neurons\n",
        "\n",
        "        self.dropout = torch.nn.Dropout(0.5)\n",
        "        self.layer1 = torch.nn.Linear(in_features=self.inputs,  out_features=self.layer1_neurons)\n",
        "        self.layer2 = torch.nn.Linear(in_features=self.layer1_neurons,  out_features=2)\n",
        "\n",
        "    def forward(self, x):\n",
        "        #-------------------\n",
        "        # dense layer, ReLU, dropout\n",
        "        x = self.layer1(x)\n",
        "        x = F.relu(x)\n",
        "        x = self.dropout(x)\n",
        "        #-------------------\n",
        "        # dense layer\n",
        "        x = self.layer2(x)\n",
        "        #-------------------\n",
        "        return x"
      ],
      "execution_count": 0,
      "outputs": []
    },
    {
      "cell_type": "markdown",
      "metadata": {
        "id": "r6NbQ9ygasBE",
        "colab_type": "text"
      },
      "source": [
        "### 4.2 Network instantiation"
      ]
    },
    {
      "cell_type": "code",
      "metadata": {
        "id": "bIRZSsqNq_Zl",
        "colab_type": "code",
        "outputId": "a6fa37b9-179f-4e95-be26-9a4a8a2defd9",
        "colab": {
          "base_uri": "https://localhost:8080/",
          "height": 119
        }
      },
      "source": [
        "model = NN(inputs=EMBEDDING_DIM, layer1_neurons=100)\n",
        "model.to(device)"
      ],
      "execution_count": 45,
      "outputs": [
        {
          "output_type": "execute_result",
          "data": {
            "text/plain": [
              "NN(\n",
              "  (dropout): Dropout(p=0.5, inplace=False)\n",
              "  (layer1): Linear(in_features=300, out_features=100, bias=True)\n",
              "  (layer2): Linear(in_features=100, out_features=2, bias=True)\n",
              ")"
            ]
          },
          "metadata": {
            "tags": []
          },
          "execution_count": 45
        }
      ]
    },
    {
      "cell_type": "markdown",
      "metadata": {
        "id": "WFcCML_SayNO",
        "colab_type": "text"
      },
      "source": [
        "### 4.3 Network predict with few samples of batch from loader"
      ]
    },
    {
      "cell_type": "code",
      "metadata": {
        "id": "IX2K9fQ3rAkO",
        "colab_type": "code",
        "outputId": "81354dec-9c84-462a-b5ff-a2f930b9c26a",
        "colab": {
          "base_uri": "https://localhost:8080/",
          "height": 37
        }
      },
      "source": [
        "model(ds_train[0][0].to(device))"
      ],
      "execution_count": 46,
      "outputs": [
        {
          "output_type": "execute_result",
          "data": {
            "text/plain": [
              "tensor([-0.0852, -0.0925], device='cuda:0', grad_fn=<AddBackward0>)"
            ]
          },
          "metadata": {
            "tags": []
          },
          "execution_count": 46
        }
      ]
    },
    {
      "cell_type": "markdown",
      "metadata": {
        "id": "gqbHi424bDid",
        "colab_type": "text"
      },
      "source": [
        "## 5. Network training"
      ]
    },
    {
      "cell_type": "markdown",
      "metadata": {
        "id": "o4_rINNlbH17",
        "colab_type": "text"
      },
      "source": [
        "### 5.1 Training definitions\n",
        "\n",
        "- number of epochs\n",
        "- optimizer and LR (learning rate)\n",
        "- loss function\n"
      ]
    },
    {
      "cell_type": "code",
      "metadata": {
        "id": "07mvkthGrcVe",
        "colab_type": "code",
        "colab": {}
      },
      "source": [
        "# Training parameters\n",
        "EPOCH = 2000\n",
        "LR = 0.01\n",
        "PATIENCE = 50\n",
        "loss_func = torch.nn.CrossEntropyLoss()\n",
        "opt = torch.optim.SGD(model.parameters(), lr=LR)\n",
        "#-------------------\n",
        "best_valid_loss = 999_999.\n",
        "train_samples = len(ds_train)\n",
        "valid_samples = len(ds_valid)\n",
        "#-------------------\n",
        "trainer = TrainingLoop(device, model, dl_train, loss_func, opt)\n",
        "validator = ValidatingLoop(device, model, dl_valid, loss_func)\n",
        "#-------------------\n",
        "# loss history\n",
        "loss_train_his = []\n",
        "loss_valid_his = []\n",
        "acc_train_his = []\n",
        "acc_valid_his = []"
      ],
      "execution_count": 0,
      "outputs": []
    },
    {
      "cell_type": "markdown",
      "metadata": {
        "id": "Mifo0jGebd6z",
        "colab_type": "text"
      },
      "source": [
        "### 5.2 Training loop"
      ]
    },
    {
      "cell_type": "code",
      "metadata": {
        "id": "gmZtFWUqrgeu",
        "colab_type": "code",
        "outputId": "52732207-7423-4475-bc10-b462610d5f41",
        "colab": {
          "base_uri": "https://localhost:8080/",
          "height": 365
        }
      },
      "source": [
        "%%time\n",
        "for epoch in range(EPOCH):\n",
        "    # training\n",
        "    his_train = trainer()\n",
        "    loss_train_his.append(his_train[0])\n",
        "    acc_train_his.append(his_train[1] / train_samples)\n",
        "    #-------------------\n",
        "    # validating\n",
        "    his_valid = validator()\n",
        "    loss_valid_his.append(his_valid[0])\n",
        "    acc_valid_his.append(his_valid[1] / valid_samples)\n",
        "    #-------------------------------------------------\n",
        "    # early stopping: check if new validation accuracy occurred\n",
        "    if loss_valid_his[-1] < best_valid_loss:\n",
        "        # print('New best loss in validation set!', end=' ')\n",
        "        best_valid_loss = loss_valid_his[-1]\n",
        "        patience_counter = 0\n",
        "    else:\n",
        "        patience_counter += 1\n",
        "        if patience_counter == PATIENCE:\n",
        "            print('Early stopping:', PATIENCE, 'iterations without validation loss improve')\n",
        "            break\n",
        "    #-------------------------------------------------\n",
        "    if not (epoch % 100):\n",
        "        print('epoch =', epoch, end='; ')\n",
        "        print('loss_train = {0:.4f}'.format(loss_train_his[-1]), end='; ')\n",
        "        print('loss_val = {0:.4f}'.format(loss_valid_his[-1]), end='; ')\n",
        "        print('acc_train = {0:.4f}'.format(acc_train_his[-1]), end='; ')\n",
        "        print('acc_val = {0:.4f}'.format(acc_valid_his[-1]), end='\\n')"
      ],
      "execution_count": 49,
      "outputs": [
        {
          "output_type": "stream",
          "text": [
            "epoch = 0; loss_train = 0.6921; loss_val = 0.6893; acc_train = 0.5188; acc_val = 0.5900\n",
            "epoch = 100; loss_train = 0.6790; loss_val = 0.6761; acc_train = 0.6025; acc_val = 0.6000\n",
            "epoch = 200; loss_train = 0.6564; loss_val = 0.6533; acc_train = 0.6800; acc_val = 0.6900\n",
            "epoch = 300; loss_train = 0.6103; loss_val = 0.6151; acc_train = 0.7338; acc_val = 0.7400\n",
            "epoch = 400; loss_train = 0.5594; loss_val = 0.5755; acc_train = 0.7675; acc_val = 0.7650\n",
            "epoch = 500; loss_train = 0.5317; loss_val = 0.5466; acc_train = 0.7462; acc_val = 0.7600\n",
            "epoch = 600; loss_train = 0.4937; loss_val = 0.5275; acc_train = 0.7638; acc_val = 0.7750\n",
            "epoch = 700; loss_train = 0.4849; loss_val = 0.5138; acc_train = 0.7788; acc_val = 0.7800\n",
            "epoch = 800; loss_train = 0.4514; loss_val = 0.5048; acc_train = 0.8037; acc_val = 0.7850\n",
            "epoch = 900; loss_train = 0.4289; loss_val = 0.4975; acc_train = 0.8213; acc_val = 0.7800\n",
            "epoch = 1000; loss_train = 0.4156; loss_val = 0.4922; acc_train = 0.8187; acc_val = 0.7700\n",
            "epoch = 1100; loss_train = 0.3937; loss_val = 0.4891; acc_train = 0.8263; acc_val = 0.7750\n",
            "epoch = 1200; loss_train = 0.3934; loss_val = 0.4858; acc_train = 0.8313; acc_val = 0.7900\n",
            "epoch = 1300; loss_train = 0.3715; loss_val = 0.4837; acc_train = 0.8438; acc_val = 0.7850\n",
            "Early stopping: 50 iterations without validation loss improve\n",
            "CPU times: user 25.8 s, sys: 867 ms, total: 26.7 s\n",
            "Wall time: 26.9 s\n"
          ],
          "name": "stdout"
        }
      ]
    },
    {
      "cell_type": "markdown",
      "metadata": {
        "id": "v6aK9evCbmB2",
        "colab_type": "text"
      },
      "source": [
        "## 6. Training evaluation\n",
        "\n",
        "- metrics:\n",
        "  - accuracy\n",
        "  - confusion matrix\n",
        "  - others"
      ]
    },
    {
      "cell_type": "markdown",
      "metadata": {
        "id": "Ny22wh3MaUdI",
        "colab_type": "text"
      },
      "source": [
        "### 6.1 Training and Validation Losses"
      ]
    },
    {
      "cell_type": "code",
      "metadata": {
        "id": "BYHGPjRkaeNN",
        "colab_type": "code",
        "outputId": "b3978cb3-3f9f-4b24-9103-9464addcce7a",
        "colab": {
          "base_uri": "https://localhost:8080/",
          "height": 295
        }
      },
      "source": [
        "# plot training and validation loss\n",
        "plt.plot(loss_train_his, label='training loss', color='blue')\n",
        "plt.plot(loss_valid_his, label='validation loss', color='red')\n",
        "#-------------------------------------------------\n",
        "# axis label\n",
        "plt.xlabel('Epochs')\n",
        "plt.ylabel('CE Loss')\n",
        "# title\n",
        "plt.title('Loss progression')\n",
        "#-------------------------------------------------\n",
        "plt.autoscale(axis='x', tight=True) # axis adjust\n",
        "plt.grid(True) # add grid\n",
        "plt.legend() # add legend\n",
        "plt.show()"
      ],
      "execution_count": 50,
      "outputs": [
        {
          "output_type": "display_data",
          "data": {
            "image/png": "[encoded data removed]",
            "text/plain": [
              "<Figure size 432x288 with 1 Axes>"
            ]
          },
          "metadata": {
            "tags": [],
            "needs_background": "light"
          }
        }
      ]
    },
    {
      "cell_type": "markdown",
      "metadata": {
        "id": "thGUnNmdiqa6",
        "colab_type": "text"
      },
      "source": [
        "### 6.2 Zoom at the minimum CE loss in the validation loss curve"
      ]
    },
    {
      "cell_type": "code",
      "metadata": {
        "id": "zP5L2Gk4iraH",
        "colab_type": "code",
        "outputId": "43b370a1-b661-4cee-d5ab-67c45fbf972e",
        "colab": {
          "base_uri": "https://localhost:8080/",
          "height": 315
        }
      },
      "source": [
        "BEST_EPOCH = loss_valid_his.index(min(loss_valid_his)) + 1\n",
        "print('Epoch with minimum validation loss =', BEST_EPOCH)\n",
        "#-------------------------------------------------\n",
        "# plots\n",
        "plt.plot(range(max(1,BEST_EPOCH-2),min(EPOCH,BEST_EPOCH+3)), loss_valid_his[max(1,BEST_EPOCH-3):min(EPOCH-1,BEST_EPOCH+2)], 'green')\n",
        "plt.xlabel('Epochs')\n",
        "plt.ylabel('CE loss')\n",
        "plt.autoscale(axis='x', tight=True)\n",
        "plt.title('Progression of validation loss acording to epochs')\n",
        "plt.grid(True)\n",
        "plt.show()"
      ],
      "execution_count": 51,
      "outputs": [
        {
          "output_type": "stream",
          "text": [
            "Epoch with minimum validation loss = 1300\n"
          ],
          "name": "stdout"
        },
        {
          "output_type": "display_data",
          "data": {
            "image/png": "[encoded data removed]",
            "text/plain": [
              "<Figure size 432x288 with 1 Axes>"
            ]
          },
          "metadata": {
            "tags": [],
            "needs_background": "light"
          }
        }
      ]
    },
    {
      "cell_type": "markdown",
      "metadata": {
        "id": "tOfz0gMnaw_h",
        "colab_type": "text"
      },
      "source": [
        "### 6.3 Accuracy "
      ]
    },
    {
      "cell_type": "code",
      "metadata": {
        "id": "4gqP9tfybRTA",
        "colab_type": "code",
        "outputId": "8fd3d796-e378-4f8f-8095-41b0394fed35",
        "colab": {
          "base_uri": "https://localhost:8080/",
          "height": 295
        }
      },
      "source": [
        "# plot training and validation accuracy\n",
        "plt.plot(acc_train_his, label='training accuracy', color='blue')\n",
        "plt.plot(acc_valid_his, label='validation accuracy', color='red')\n",
        "#-------------------------------------------------\n",
        "# axis label\n",
        "plt.xlabel('Epochs')\n",
        "plt.ylabel('Accuracy')\n",
        "# title\n",
        "plt.title('Accuracy progression')\n",
        "#-------------------------------------------------\n",
        "plt.autoscale(axis='x', tight=True) # axis adjust\n",
        "plt.grid(True) # add grid\n",
        "plt.legend() # add legend\n",
        "plt.show()"
      ],
      "execution_count": 52,
      "outputs": [
        {
          "output_type": "display_data",
          "data": {
            "image/png": "[encoded data removed]",
            "text/plain": [
              "<Figure size 432x288 with 1 Axes>"
            ]
          },
          "metadata": {
            "tags": [],
            "needs_background": "light"
          }
        }
      ]
    },
    {
      "cell_type": "markdown",
      "metadata": {
        "id": "_8Xzipr2B9to",
        "colab_type": "text"
      },
      "source": [
        "### 6.4 Print the final values of the main training monitoring variables:\n",
        "- loss function final value:\n",
        "- metrics final values:"
      ]
    },
    {
      "cell_type": "code",
      "metadata": {
        "id": "VEVVlMqVs69I",
        "colab_type": "code",
        "outputId": "a3998d29-be1f-4eed-ed67-15be444beec9",
        "colab": {
          "base_uri": "https://localhost:8080/",
          "height": 119
        }
      },
      "source": [
        "print('last training loss = {0:.4f}'.format(loss_train_his[-1]))\n",
        "print('last validation loss = {0:.4f}'.format(loss_valid_his[-1]))\n",
        "print('#-------------------------------------------------')\n",
        "print('last train accuracy = {0:.4f}'.format(acc_train_his[-1]))\n",
        "print('last validation accuracy = {0:.4f}'.format(acc_valid_his[-1]))"
      ],
      "execution_count": 53,
      "outputs": [
        {
          "output_type": "stream",
          "text": [
            "last training loss = 0.3701\n",
            "last validation loss = 0.4850\n",
            "#-------------------------------------------------\n",
            "last train accuracy = 0.8425\n",
            "last validation accuracy = 0.7800\n"
          ],
          "name": "stdout"
        }
      ]
    },
    {
      "cell_type": "markdown",
      "metadata": {
        "id": "XKTY_W1wkXch",
        "colab_type": "text"
      },
      "source": [
        "## 7. Metrics on test set"
      ]
    },
    {
      "cell_type": "markdown",
      "metadata": {
        "id": "WWTIYqKlbLXi",
        "colab_type": "text"
      },
      "source": [
        "For this particular dataset, we will be using the validation set to calculate the performance metrics"
      ]
    },
    {
      "cell_type": "code",
      "metadata": {
        "id": "qJiD5v3Ir703",
        "colab_type": "code",
        "outputId": "41dd432d-e468-4309-aa04-d4513191cd28",
        "colab": {
          "base_uri": "https://localhost:8080/",
          "height": 119
        }
      },
      "source": [
        "# load model in CPU\n",
        "model.to('cpu');\n",
        "# evaluation mode\n",
        "model.eval()"
      ],
      "execution_count": 54,
      "outputs": [
        {
          "output_type": "execute_result",
          "data": {
            "text/plain": [
              "NN(\n",
              "  (dropout): Dropout(p=0.5, inplace=False)\n",
              "  (layer1): Linear(in_features=300, out_features=100, bias=True)\n",
              "  (layer2): Linear(in_features=100, out_features=2, bias=True)\n",
              ")"
            ]
          },
          "metadata": {
            "tags": []
          },
          "execution_count": 54
        }
      ]
    },
    {
      "cell_type": "code",
      "metadata": {
        "id": "4TuQISj8rUiG",
        "colab_type": "code",
        "colab": {}
      },
      "source": [
        "# y_true\n",
        "y_true = ds_valid[:][1]"
      ],
      "execution_count": 0,
      "outputs": []
    },
    {
      "cell_type": "code",
      "metadata": {
        "id": "6wXUcabMkQZE",
        "colab_type": "code",
        "colab": {}
      },
      "source": [
        "# y_pred\n",
        "score = 0.\n",
        "y_logitos = model(ds_valid[:][0])\n",
        "y_pred = torch.argmax(y_logitos, dim=1)"
      ],
      "execution_count": 0,
      "outputs": []
    },
    {
      "cell_type": "markdown",
      "metadata": {
        "id": "vvPMDpb8n32I",
        "colab_type": "text"
      },
      "source": [
        "### 7.1 Accuracy"
      ]
    },
    {
      "cell_type": "code",
      "metadata": {
        "id": "8w3ttQcyrXSw",
        "colab_type": "code",
        "outputId": "9e598bc5-dfad-48e9-f61c-aa54fadd2041",
        "colab": {
          "base_uri": "https://localhost:8080/",
          "height": 37
        }
      },
      "source": [
        "# accuracy\n",
        "score += (y_true == y_pred).sum()\n",
        "acc_test = score / len(ds_valid[:][0])\n",
        "acc_test.item()"
      ],
      "execution_count": 57,
      "outputs": [
        {
          "output_type": "execute_result",
          "data": {
            "text/plain": [
              "0.7799999713897705"
            ]
          },
          "metadata": {
            "tags": []
          },
          "execution_count": 57
        }
      ]
    },
    {
      "cell_type": "markdown",
      "metadata": {
        "id": "-20zJRKVn8tn",
        "colab_type": "text"
      },
      "source": [
        "### 7.2 Confusion matrix"
      ]
    },
    {
      "cell_type": "code",
      "metadata": {
        "id": "i9qPaBp7rF-R",
        "colab_type": "code",
        "colab": {}
      },
      "source": [
        "cm = confusion_matrix(y_true, y_pred)\n",
        "#classes = enc.get_feature_names()\n",
        "classes = ['negative', 'positive']"
      ],
      "execution_count": 0,
      "outputs": []
    },
    {
      "cell_type": "code",
      "metadata": {
        "id": "9v4ZvKB5nJ5J",
        "colab_type": "code",
        "outputId": "cf72596e-f45f-4a4a-bf65-8cf859d660c8",
        "colab": {
          "base_uri": "https://localhost:8080/",
          "height": 269
        }
      },
      "source": [
        "# CM raw\n",
        "cm_raw = print_confusion_matrix(cm, classes, title='Confusion Matrix', normalize=False, cmap=plt.cm.Blues, fontsize=10, figsize = (5,3))"
      ],
      "execution_count": 59,
      "outputs": [
        {
          "output_type": "display_data",
          "data": {
            "image/png": "[encoded data removed]",
            "text/plain": [
              "<Figure size 360x216 with 2 Axes>"
            ]
          },
          "metadata": {
            "tags": [],
            "needs_background": "light"
          }
        }
      ]
    },
    {
      "cell_type": "code",
      "metadata": {
        "id": "93uNywPSnwnJ",
        "colab_type": "code",
        "outputId": "6b67a8db-d712-4c65-ecb1-712524686b9a",
        "colab": {
          "base_uri": "https://localhost:8080/",
          "height": 269
        }
      },
      "source": [
        "# CM normalized\n",
        "cm_norm = print_confusion_matrix(cm, classes, title='Confusion Matrix normalized', normalize=True, cmap=plt.cm.Blues, fontsize=10, figsize = (5,3))"
      ],
      "execution_count": 60,
      "outputs": [
        {
          "output_type": "display_data",
          "data": {
            "image/png": "[encoded data removed]",
            "text/plain": [
              "<Figure size 360x216 with 2 Axes>"
            ]
          },
          "metadata": {
            "tags": [],
            "needs_background": "light"
          }
        }
      ]
    },
    {
      "cell_type": "markdown",
      "metadata": {
        "id": "I_SzvT7Tn1mx",
        "colab_type": "text"
      },
      "source": [
        "### 7.3 F1-score (macro, micro and weighted)"
      ]
    },
    {
      "cell_type": "code",
      "metadata": {
        "id": "PdsW-lsg52tF",
        "colab_type": "code",
        "colab": {}
      },
      "source": [
        "macro = f1_score(y_true, y_pred, average='macro')\n",
        "micro = f1_score(y_true, y_pred, average='micro')\n",
        "weighted = f1_score(y_true, y_pred, average='weighted')"
      ],
      "execution_count": 0,
      "outputs": []
    },
    {
      "cell_type": "code",
      "metadata": {
        "id": "AWnLOjG50mZ2",
        "colab_type": "code",
        "outputId": "da5f2bfa-eea4-4da7-db37-e44008d13a85",
        "colab": {
          "base_uri": "https://localhost:8080/",
          "height": 78
        }
      },
      "source": [
        "print('F1-score macro =', macro)\n",
        "print('F1-score micro =', micro)\n",
        "print('F1-score weighted =', weighted)"
      ],
      "execution_count": 62,
      "outputs": [
        {
          "output_type": "stream",
          "text": [
            "F1-score macro = 0.7767857142857144\n",
            "F1-score micro = 0.78\n",
            "F1-score weighted = 0.7786607142857145\n"
          ],
          "name": "stdout"
        }
      ]
    },
    {
      "cell_type": "markdown",
      "metadata": {
        "id": "o-ZMZrl5LT07",
        "colab_type": "text"
      },
      "source": [
        "### 7.4 Accuracy and Precision"
      ]
    },
    {
      "cell_type": "code",
      "metadata": {
        "id": "kC6rLq1RJTvf",
        "colab_type": "code",
        "colab": {}
      },
      "source": [
        "acc = accuracy_score(y_true, y_pred)\n",
        "prec = precision_score(y_true, y_pred, average='macro')"
      ],
      "execution_count": 0,
      "outputs": []
    },
    {
      "cell_type": "code",
      "metadata": {
        "id": "r1ZSEi0_LPoV",
        "colab_type": "code",
        "outputId": "3928680b-39fc-40b7-dbaf-da36c9259624",
        "colab": {
          "base_uri": "https://localhost:8080/",
          "height": 58
        }
      },
      "source": [
        "print('Accuracy score = ', acc, sep='')\n",
        "print('Precision score = ', prec, sep='')"
      ],
      "execution_count": 64,
      "outputs": [
        {
          "output_type": "stream",
          "text": [
            "Accuracy score = 0.78\n",
            "Precision score = 0.7822057460611678\n"
          ],
          "name": "stdout"
        }
      ]
    },
    {
      "cell_type": "markdown",
      "metadata": {
        "id": "q45GvKDwPbri",
        "colab_type": "text"
      },
      "source": [
        "### 7.5 Precision, Recall and F1-Score for each class"
      ]
    },
    {
      "cell_type": "code",
      "metadata": {
        "id": "XKyQhAEbPcAz",
        "colab_type": "code",
        "outputId": "69f2010c-3819-4032-87e7-92d3e1416c18",
        "colab": {
          "base_uri": "https://localhost:8080/",
          "height": 201
        }
      },
      "source": [
        "from sklearn.metrics import classification_report as cr\n",
        "print(cr(y_true, y_pred))"
      ],
      "execution_count": 65,
      "outputs": [
        {
          "output_type": "stream",
          "text": [
            "              precision    recall  f1-score   support\n",
            "\n",
            "           0       0.77      0.84      0.80       107\n",
            "           1       0.80      0.71      0.75        93\n",
            "\n",
            "    accuracy                           0.78       200\n",
            "   macro avg       0.78      0.78      0.78       200\n",
            "weighted avg       0.78      0.78      0.78       200\n",
            "\n"
          ],
          "name": "stdout"
        }
      ]
    },
    {
      "cell_type": "markdown",
      "metadata": {
        "id": "yLdo6-mrdClK",
        "colab_type": "text"
      },
      "source": [
        "## 8. Number of parameters"
      ]
    },
    {
      "cell_type": "code",
      "metadata": {
        "id": "XX0qhxPDdIon",
        "colab_type": "code",
        "outputId": "ffb745b2-8bb1-46cf-da98-534f53fe5eaf",
        "colab": {
          "base_uri": "https://localhost:8080/",
          "height": 119
        }
      },
      "source": [
        "nparam(model, verbose=True)"
      ],
      "execution_count": 66,
      "outputs": [
        {
          "output_type": "stream",
          "text": [
            "layer 0: layer1.weight; parameters: 30000\n",
            "layer 1: layer1.bias; parameters: 100\n",
            "layer 2: layer2.weight; parameters: 200\n",
            "layer 3: layer2.bias; parameters: 2\n",
            "total parameters =  30302\n"
          ],
          "name": "stdout"
        }
      ]
    },
    {
      "cell_type": "markdown",
      "metadata": {
        "colab_type": "text",
        "id": "PtuXpG9wRimA"
      },
      "source": [
        "## End of the notebook"
      ]
    }
  ]
}