{
  "nbformat": 4,
  "nbformat_minor": 0,
  "metadata": {
    "colab": {
      "name": "Exercicio_PyTorch_Autograd.ipynb",
      "provenance": [],
      "collapsed_sections": [],
      "toc_visible": true,
      "include_colab_link": true
    },
    "kernelspec": {
      "display_name": "Python 3",
      "language": "python",
      "name": "python3"
    },
    "language_info": {
      "codemirror_mode": {
        "name": "ipython",
        "version": 3
      },
      "file_extension": ".py",
      "mimetype": "text/x-python",
      "name": "python",
      "nbconvert_exporter": "python",
      "pygments_lexer": "ipython3",
      "version": "3.8.0"
    },
    "toc": {
      "base_numbering": 1,
      "nav_menu": {
        "height": "117px",
        "width": "252px"
      },
      "number_sections": true,
      "sideBar": true,
      "skip_h1_title": false,
      "title_cell": "Table of Contents",
      "title_sidebar": "Contents",
      "toc_cell": false,
      "toc_position": {},
      "toc_section_display": "block",
      "toc_window_display": false
    },
    "varInspector": {
      "cols": {
        "lenName": 16,
        "lenType": 16,
        "lenVar": 40
      },
      "kernels_config": {
        "python": {
          "delete_cmd_postfix": "",
          "delete_cmd_prefix": "del ",
          "library": "var_list.py",
          "varRefreshCmd": "print(var_dic_list())"
        },
        "r": {
          "delete_cmd_postfix": ") ",
          "delete_cmd_prefix": "rm(",
          "library": "var_list.r",
          "varRefreshCmd": "cat(var_dic_list()) "
        }
      },
      "types_to_exclude": [
        "module",
        "function",
        "builtin_function_or_method",
        "instance",
        "_Feature"
      ],
      "window_display": false
    }
  },
  "cells": [
    {
      "cell_type": "markdown",
      "metadata": {
        "id": "view-in-github",
        "colab_type": "text"
      },
      "source": [
        "<a href=\"https://colab.research.google.com/github/ito-rafael/IA376E-DeepLearning/blob/master/Exercicio_PyTorch_Autograd.ipynb\" target=\"_parent\"><img src=\"https://colab.research.google.com/assets/colab-badge.svg\" alt=\"Open In Colab\"/></a>"
      ]
    },
    {
      "cell_type": "markdown",
      "metadata": {
        "colab_type": "text",
        "id": "B5_ZRWRfCZtI"
      },
      "source": [
        "# Exercício PyTorch: Gradientes e Grafo Computacional"
      ]
    },
    {
      "cell_type": "markdown",
      "metadata": {
        "colab_type": "text",
        "id": "BIlQdKAuCZtR"
      },
      "source": [
        "Um dos principais fundamentos para que o PyTorch seja adequado para deep learning é a sua habilidade de\n",
        "calcular o gradiente automaticamente a partir da expressões definidas. Essa facilidade é implementada\n",
        "pelo tensor através do cálculo automático do gradiente pela construção dinâmica do grafo computacional."
      ]
    },
    {
      "cell_type": "markdown",
      "metadata": {
        "colab_type": "text",
        "id": "ZF_-dJ2nCZtT"
      },
      "source": [
        "## Grafo computacional"
      ]
    },
    {
      "cell_type": "markdown",
      "metadata": {
        "colab_type": "text",
        "id": "jboejVQMCZtU"
      },
      "source": [
        "```\n",
        "    y_pred = x * w\n",
        "    e = y_pred - y\n",
        "    e2 = e**2\n",
        "    J = e2.sum()\n",
        "```"
      ]
    },
    {
      "cell_type": "markdown",
      "metadata": {
        "colab_type": "text",
        "id": "n7JmU6qhc2Y2"
      },
      "source": [
        "As quatro expressões acima, para o cálculo do J pode ser representadas pelo grafo computacional visualizado a seguir: os círculos são as variáveis (tensores), os quadrados são as operações, os números em preto são os cálculos durante a execução das quatro expressões para calcular o J (forward, predict). O cálculo do gradiente, mostrado em vermelho, é calculado pela regra da cadeia, de trás para frente (backward)."
      ]
    },
    {
      "cell_type": "markdown",
      "metadata": {
        "colab_type": "text",
        "id": "KeeEBKl4CZtV"
      },
      "source": [
        "<img src=\"https://raw.githubusercontent.com/robertoalotufo/files/master/figures/GrafoComputacional.png\" width=\"600pt\"/>"
      ]
    },
    {
      "cell_type": "markdown",
      "metadata": {
        "colab_type": "text",
        "id": "8yZun7wrCZtX"
      },
      "source": [
        "Para entender melhor o funcionamento do grafo computacional com os tensores, recomenda-se leitura em:\n",
        "\n",
        "https://pytorch.org/docs/stable/notes/autograd.html"
      ]
    },
    {
      "cell_type": "code",
      "metadata": {
        "ExecuteTime": {
          "end_time": "2019-12-11T00:23:00.431853Z",
          "start_time": "2019-12-11T00:23:00.414813Z"
        },
        "colab_type": "code",
        "id": "HlT2d-4fCZtZ",
        "colab": {}
      },
      "source": [
        "import torch"
      ],
      "execution_count": 0,
      "outputs": []
    },
    {
      "cell_type": "code",
      "metadata": {
        "ExecuteTime": {
          "end_time": "2019-12-11T00:23:00.863228Z",
          "start_time": "2019-12-11T00:23:00.844457Z"
        },
        "colab_type": "code",
        "id": "xX0QwUduCZtf",
        "outputId": "97496d94-23a0-44b0-d9ed-449bff399f81",
        "colab": {
          "base_uri": "https://localhost:8080/",
          "height": 36
        }
      },
      "source": [
        "torch.__version__"
      ],
      "execution_count": 2,
      "outputs": [
        {
          "output_type": "execute_result",
          "data": {
            "text/plain": [
              "'1.3.1'"
            ]
          },
          "metadata": {
            "tags": []
          },
          "execution_count": 2
        }
      ]
    },
    {
      "cell_type": "markdown",
      "metadata": {
        "colab_type": "text",
        "id": "vsqzALS4CZtl"
      },
      "source": [
        "## Se um tensor possui .requires_grad=*True*\n",
        "\n"
      ]
    },
    {
      "cell_type": "code",
      "metadata": {
        "ExecuteTime": {
          "end_time": "2019-09-29T03:07:22.117010Z",
          "start_time": "2019-09-29T03:07:22.041861Z"
        },
        "colab_type": "code",
        "id": "foaAb94aCZtm",
        "outputId": "83d221d3-c689-4e7a-b3b8-d8cadfede327",
        "colab": {
          "base_uri": "https://localhost:8080/",
          "height": 36
        }
      },
      "source": [
        "y = 2 * torch.arange(0,4).float()\n",
        "y"
      ],
      "execution_count": 3,
      "outputs": [
        {
          "output_type": "execute_result",
          "data": {
            "text/plain": [
              "tensor([0., 2., 4., 6.])"
            ]
          },
          "metadata": {
            "tags": []
          },
          "execution_count": 3
        }
      ]
    },
    {
      "cell_type": "code",
      "metadata": {
        "ExecuteTime": {
          "end_time": "2019-09-29T03:07:28.610934Z",
          "start_time": "2019-09-29T03:07:28.598223Z"
        },
        "colab_type": "code",
        "id": "no6SdSyICZtr",
        "outputId": "fc12cbd8-ebf1-4b62-bc0f-d0823ed257a0",
        "colab": {
          "base_uri": "https://localhost:8080/",
          "height": 36
        }
      },
      "source": [
        "x = torch.arange(0,4).float(); x"
      ],
      "execution_count": 4,
      "outputs": [
        {
          "output_type": "execute_result",
          "data": {
            "text/plain": [
              "tensor([0., 1., 2., 3.])"
            ]
          },
          "metadata": {
            "tags": []
          },
          "execution_count": 4
        }
      ]
    },
    {
      "cell_type": "code",
      "metadata": {
        "ExecuteTime": {
          "end_time": "2019-09-29T03:07:31.523762Z",
          "start_time": "2019-09-29T03:07:31.497683Z"
        },
        "colab_type": "code",
        "id": "eL_i1mwGCZtw",
        "outputId": "1ebbd861-15cf-4056-ea0b-9cdd336622bc",
        "colab": {
          "base_uri": "https://localhost:8080/",
          "height": 36
        }
      },
      "source": [
        "w = torch.ones(1,requires_grad=True); w"
      ],
      "execution_count": 5,
      "outputs": [
        {
          "output_type": "execute_result",
          "data": {
            "text/plain": [
              "tensor([1.], requires_grad=True)"
            ]
          },
          "metadata": {
            "tags": []
          },
          "execution_count": 5
        }
      ]
    },
    {
      "cell_type": "markdown",
      "metadata": {
        "colab_type": "text",
        "id": "qjEl-0l7CZt0"
      },
      "source": [
        "## Cálculo automático do gradiente da função perda J"
      ]
    },
    {
      "cell_type": "markdown",
      "metadata": {
        "colab_type": "text",
        "id": "8pUh-SCnCZt1"
      },
      "source": [
        "Seja a expressão: $$ J = \\sum ((x  w) - y)^2 $$\n",
        "\n",
        "Queremos calcular a derivada de $J$ em relação a $w$."
      ]
    },
    {
      "cell_type": "markdown",
      "metadata": {
        "colab_type": "text",
        "id": "eMwwVtJ1CZt2"
      },
      "source": [
        "### Montagem do grafo computacional"
      ]
    },
    {
      "cell_type": "code",
      "metadata": {
        "ExecuteTime": {
          "end_time": "2019-09-29T03:07:36.290122Z",
          "start_time": "2019-09-29T03:07:36.273229Z"
        },
        "colab_type": "code",
        "id": "zp2aK4YhCZt3",
        "outputId": "f7610a93-eba4-45eb-bad8-ed3104242934",
        "colab": {
          "base_uri": "https://localhost:8080/",
          "height": 36
        }
      },
      "source": [
        "# predict (forward)\n",
        "y_pred = x * w\n",
        "\n",
        "# cálculo da perda J: loss\n",
        "e = y_pred - y\n",
        "e2 = e.pow(2)\n",
        "J = e2.sum()\n",
        "J"
      ],
      "execution_count": 6,
      "outputs": [
        {
          "output_type": "execute_result",
          "data": {
            "text/plain": [
              "tensor(14., grad_fn=<SumBackward0>)"
            ]
          },
          "metadata": {
            "tags": []
          },
          "execution_count": 6
        }
      ]
    },
    {
      "cell_type": "markdown",
      "metadata": {
        "colab_type": "text",
        "id": "XC96wB7PCZt8"
      },
      "source": [
        "## Auto grad - processa o grafo computacional backwards"
      ]
    },
    {
      "cell_type": "markdown",
      "metadata": {
        "ExecuteTime": {
          "end_time": "2017-10-04T15:55:45.308858",
          "start_time": "2017-10-04T15:55:45.304654"
        },
        "colab_type": "text",
        "id": "kKbf4D0CCZt-"
      },
      "source": [
        "O `backward()` varre o grafo computacional a partir da variável a ele associada e calcula o gradiente para todos os tensores que possuem o atributo `requires_grad` como verdadeiro.\n",
        "O `backward()` destroi o grafo após sua execução. Isso é intrínsico ao PyTorch pelo fato dele ser uma rede dinâmica.\n",
        "\n",
        "w.grad é o gradiente de J em relação a w."
      ]
    },
    {
      "cell_type": "code",
      "metadata": {
        "ExecuteTime": {
          "end_time": "2019-09-29T03:07:40.267334Z",
          "start_time": "2019-09-29T03:07:40.247422Z"
        },
        "colab_type": "code",
        "id": "Z1lnkb0GCZt_",
        "outputId": "7539129a-b0ce-4d51-c528-5e03667da578",
        "colab": {
          "base_uri": "https://localhost:8080/",
          "height": 36
        }
      },
      "source": [
        "J.backward()\n",
        "print(w.grad)"
      ],
      "execution_count": 7,
      "outputs": [
        {
          "output_type": "stream",
          "text": [
            "tensor([-28.])\n"
          ],
          "name": "stdout"
        }
      ]
    },
    {
      "cell_type": "code",
      "metadata": {
        "ExecuteTime": {
          "end_time": "2019-09-29T03:07:42.637508Z",
          "start_time": "2019-09-29T03:07:42.627818Z"
        },
        "colab_type": "code",
        "id": "NJWgpQbICZuD",
        "colab": {}
      },
      "source": [
        "w.grad.data.zero_();"
      ],
      "execution_count": 0,
      "outputs": []
    },
    {
      "cell_type": "markdown",
      "metadata": {
        "colab_type": "text",
        "id": "j-HTDCpBCZuH"
      },
      "source": [
        "# Exercícios\n",
        "\n",
        "\n"
      ]
    },
    {
      "cell_type": "markdown",
      "metadata": {
        "colab_type": "text",
        "id": "LsOThnt8fDJV"
      },
      "source": [
        "1. Calcule o mesmo gradiente usando a regra das diferenças finitas, de acordo com a equação a seguir, utilizando um valor de $\\Delta w$ bem pequeno.\n",
        "\n",
        "$$ \\frac{\\partial J}{\\partial w} = \\frac{J(w + \\Delta w) - J(w - \\Delta w)}{2 \\Delta w} $$"
      ]
    },
    {
      "cell_type": "code",
      "metadata": {
        "colab_type": "code",
        "hidden": true,
        "id": "62nZAfUoCZu5",
        "colab": {}
      },
      "source": [
        "def J(w):\n",
        "    # programe a função J, para facilitar\n",
        "    return (x*w - y).pow(2).sum()\n",
        "\n",
        "def dJ(w):\n",
        "    # Cálculo da derivada de J em relação a w usando diferenças finitas\n",
        "    dw = 1e-4\n",
        "    return (J(w+dw) - J(w-dw)) / (2 * dw)"
      ],
      "execution_count": 0,
      "outputs": []
    },
    {
      "cell_type": "code",
      "metadata": {
        "id": "xSUGfzVNycX0",
        "colab_type": "code",
        "colab": {}
      },
      "source": [
        "x = torch.arange(0,4).float()\n",
        "y = 2 * torch.arange(0,4).float()\n",
        "w = torch.ones(1)"
      ],
      "execution_count": 0,
      "outputs": []
    },
    {
      "cell_type": "code",
      "metadata": {
        "id": "so_-EMU1yYH4",
        "colab_type": "code",
        "colab": {
          "base_uri": "https://localhost:8080/",
          "height": 36
        },
        "outputId": "0ad4d3d1-1700-428a-fe9a-5442477b9895"
      },
      "source": [
        "print('forward: J = ', J(w), sep='')"
      ],
      "execution_count": 11,
      "outputs": [
        {
          "output_type": "stream",
          "text": [
            "forward: J = tensor(14.)\n"
          ],
          "name": "stdout"
        }
      ]
    },
    {
      "cell_type": "code",
      "metadata": {
        "id": "8OWdPdlwxhsQ",
        "colab_type": "code",
        "colab": {
          "base_uri": "https://localhost:8080/",
          "height": 36
        },
        "outputId": "b78a0b5d-a483-4e78-ab48-c80b85d45bc6"
      },
      "source": [
        "print('backward: dJ = ', dJ(w), sep='')"
      ],
      "execution_count": 12,
      "outputs": [
        {
          "output_type": "stream",
          "text": [
            "backward: dJ = tensor(-27.9999)\n"
          ],
          "name": "stdout"
        }
      ]
    },
    {
      "cell_type": "markdown",
      "metadata": {
        "colab_type": "text",
        "id": "NLIevG8lhYXO"
      },
      "source": [
        "2. Calcule as derivadas primeira, segunda, terceira e quarta, da função tangente hiperbólica\n",
        "\n",
        "[Veja o exemplo 1: Derivatives of a function](https://colindcarroll.com/2019/04/06/exercises-in-automatic-differentiation-using-autograd-and-jax/)\n",
        "\n",
        "A seguir está o plot da tangente hiperbólica:"
      ]
    },
    {
      "cell_type": "code",
      "metadata": {
        "colab_type": "code",
        "id": "PMI-Yo_MhWzq",
        "colab": {}
      },
      "source": [
        "import matplotlib.pyplot as plt\n",
        "import numpy as np"
      ],
      "execution_count": 0,
      "outputs": []
    },
    {
      "cell_type": "code",
      "metadata": {
        "colab_type": "code",
        "id": "SooCERSjiBBA",
        "outputId": "ba6efa3f-71fc-4030-f499-856715263fde",
        "colab": {
          "base_uri": "https://localhost:8080/",
          "height": 284
        }
      },
      "source": [
        "x = np.linspace(-4, 4, 1000)\n",
        "plt.plot(x,np.tanh(x))"
      ],
      "execution_count": 14,
      "outputs": [
        {
          "output_type": "execute_result",
          "data": {
            "text/plain": [
              "[<matplotlib.lines.Line2D at 0x7ff34eb3dba8>]"
            ]
          },
          "metadata": {
            "tags": []
          },
          "execution_count": 14
        },
        {
          "output_type": "display_data",
          "data": {
            "image/png": "[encoded data removed]",
            "text/plain": [
              "<Figure size 432x288 with 1 Axes>"
            ]
          },
          "metadata": {
            "tags": []
          }
        }
      ]
    },
    {
      "cell_type": "markdown",
      "metadata": {
        "colab_type": "text",
        "id": "BIIqesTBjIhr"
      },
      "source": [
        "2a) Calcule as derivadas primeira, segunda, terceira e quarta da tangente hiperbólica conforme a figura do exemplo do link, usando o cálculo da derivada por diferenças finitas."
      ]
    },
    {
      "cell_type": "code",
      "metadata": {
        "id": "ioJKA14_8V6G",
        "colab_type": "code",
        "colab": {}
      },
      "source": [
        "def J(w):\n",
        "    # programe a função J, para facilitar\n",
        "    return np.tanh(w)\n",
        "\n",
        "def dJ(w):\n",
        "    # Cálculo da derivada de J em relação a w usando diferenças finitas\n",
        "    dw = 1e-4\n",
        "    return (J(w+dw) - J(w-dw)) / (2 * dw)"
      ],
      "execution_count": 0,
      "outputs": []
    },
    {
      "cell_type": "markdown",
      "metadata": {
        "id": "CICth-NcCilg",
        "colab_type": "text"
      },
      "source": [
        "### Derivada de primeira ordem"
      ]
    },
    {
      "cell_type": "code",
      "metadata": {
        "id": "M_KiqIQ439sH",
        "colab_type": "code",
        "colab": {}
      },
      "source": [
        "# Solução usando derivada por diferenças finitas\n",
        "first_order = []\n",
        "for i in range(1000):  \n",
        "  x1 = torch.from_numpy(x[i:i+1])\n",
        "  y = torch.from_numpy(np.tanh(x))\n",
        "  first_order.append(dJ(x1))"
      ],
      "execution_count": 0,
      "outputs": []
    },
    {
      "cell_type": "code",
      "metadata": {
        "id": "FXz75JD9EHl-",
        "colab_type": "code",
        "colab": {
          "base_uri": "https://localhost:8080/",
          "height": 284
        },
        "outputId": "9fe82786-7cb6-48b9-dfe4-351cbd3ded8d"
      },
      "source": [
        "plt.plot(y, label='tanh(x)')\n",
        "plt.plot(first_order, label='first derivative')\n",
        "plt.legend()"
      ],
      "execution_count": 17,
      "outputs": [
        {
          "output_type": "execute_result",
          "data": {
            "text/plain": [
              "<matplotlib.legend.Legend at 0x7ff34e6347f0>"
            ]
          },
          "metadata": {
            "tags": []
          },
          "execution_count": 17
        },
        {
          "output_type": "display_data",
          "data": {
            "image/png": "[encoded data removed]",
            "text/plain": [
              "<Figure size 432x288 with 1 Axes>"
            ]
          },
          "metadata": {
            "tags": []
          }
        }
      ]
    },
    {
      "cell_type": "markdown",
      "metadata": {
        "colab_type": "text",
        "id": "ullTZXRnjuGR"
      },
      "source": [
        "2b) Repita o exercício anterior, porém usando agora o cálculo da derivada, a facilidade do autograd do PyTorch, isto é, utilize o ``.backward()`` do PyTorch para calcular o gradiente na repetição do exercício anterior."
      ]
    },
    {
      "cell_type": "code",
      "metadata": {
        "colab_type": "code",
        "id": "1PQb8WwdjrRI",
        "colab": {}
      },
      "source": [
        "# Solução usando derivada pelo autograd do PyTorch\n",
        "x2 = torch.from_numpy(np.linspace(-4, 4, 1000))\n",
        "x2.requires_grad=True\n",
        "J = torch.tanh(x2)\n",
        "#J = torch.tanh(torch.FloatTensor(x)) \n",
        "#J.backward()\n",
        "\n",
        "#================\n",
        "# not working :/\n",
        "#================"
      ],
      "execution_count": 0,
      "outputs": []
    }
  ]
}