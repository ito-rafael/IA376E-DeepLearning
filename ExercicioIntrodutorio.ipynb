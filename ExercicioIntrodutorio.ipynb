{
  "nbformat": 4,
  "nbformat_minor": 0,
  "metadata": {
    "kernelspec": {
      "display_name": "Python 3",
      "language": "python",
      "name": "python3"
    },
    "language_info": {
      "codemirror_mode": {
        "name": "ipython",
        "version": 3
      },
      "file_extension": ".py",
      "mimetype": "text/x-python",
      "name": "python",
      "nbconvert_exporter": "python",
      "pygments_lexer": "ipython3",
      "version": "3.8.0"
    },
    "toc": {
      "base_numbering": 1,
      "nav_menu": {
        "height": "354px",
        "width": "252px"
      },
      "number_sections": true,
      "sideBar": true,
      "skip_h1_title": false,
      "title_cell": "Table of Contents",
      "title_sidebar": "Contents",
      "toc_cell": false,
      "toc_position": {},
      "toc_section_display": "block",
      "toc_window_display": false
    },
    "varInspector": {
      "cols": {
        "lenName": 16,
        "lenType": 16,
        "lenVar": 40
      },
      "kernels_config": {
        "python": {
          "delete_cmd_postfix": "",
          "delete_cmd_prefix": "del ",
          "library": "var_list.py",
          "varRefreshCmd": "print(var_dic_list())"
        },
        "r": {
          "delete_cmd_postfix": ") ",
          "delete_cmd_prefix": "rm(",
          "library": "var_list.r",
          "varRefreshCmd": "cat(var_dic_list()) "
        }
      },
      "types_to_exclude": [
        "module",
        "function",
        "builtin_function_or_method",
        "instance",
        "_Feature"
      ],
      "window_display": false
    },
    "colab": {
      "name": "Copy of ExercicioIntrodutorio.ipynb",
      "provenance": [],
      "collapsed_sections": [
        "bwSwnyhhMSRQ",
        "CsJwDK3gMSRj",
        "ve2514FGMSRo",
        "eU28iJsGMSSB",
        "8Soqzeb2MSSE",
        "IvBoixxbMSSI",
        "14CumfmkMSSM",
        "vbKhEEEXMSSS",
        "PEz7l-S0MSSV",
        "SJDTNs1vMSSV",
        "b_7kE1XVMSSb",
        "ik8W9LWtMSSb",
        "3HCzhWx5MSSr",
        "DJb442RTMSTB",
        "4OYCr9_eMSTE",
        "VaJUujluMSTF",
        "62dF-AU8MSTI",
        "A8QZ6a5iMSTL",
        "vMqwI7HqMSTN",
        "Kr4jICT0MSTP",
        "2PzPMKy9MSTa",
        "kJgNuYOHMSTl",
        "qFXmE_quMSTr",
        "saJiY6r4MSTt",
        "TmNhfMQNMSTv",
        "899TYDnzMST0",
        "fH6ljEU6MST0",
        "yI5rJHi2MST1",
        "Kv7D4gcxMST5",
        "_TXI8yIKMSUH",
        "5-VBaoQ1MSUN",
        "R4WdbrALMSUb",
        "7DzLiZ20MSUm",
        "UpVuIMTYMSUw",
        "4CsQteY1MSU3",
        "2E33Qw4bMSVB",
        "cko9xrCYMSVJ",
        "Cp7Je1wXMSVP",
        "P8HXFqYGMSVT",
        "DtBmE3QIMSVW"
      ],
      "include_colab_link": true
    }
  },
  "cells": [
    {
      "cell_type": "markdown",
      "metadata": {
        "id": "view-in-github",
        "colab_type": "text"
      },
      "source": [
        "<a href=\"https://colab.research.google.com/github/ito-rafael/IA376E-DeepLearning/blob/master/ExercicioIntrodutorio.ipynb\" target=\"_parent\"><img src=\"https://colab.research.google.com/assets/colab-badge.svg\" alt=\"Open In Colab\"/></a>"
      ]
    },
    {
      "cell_type": "markdown",
      "metadata": {
        "id": "xQgBN6DgMSPQ",
        "colab_type": "text"
      },
      "source": [
        "# Curso Deep Learning - Exercício pré-curso Python - NumPy"
      ]
    },
    {
      "cell_type": "markdown",
      "metadata": {
        "id": "-ePBdHRoMSPV",
        "colab_type": "text"
      },
      "source": [
        "Este é um notebook Jupyter contendo exercícios de programação matricial utilizando o Python e biblioteca NumPy.\n",
        "Estes exercícios servem para verificar os conhecimentos da linguagem Python para manipulação matricial com a biblioteca NumPy.\n",
        "\n",
        "Esta lista de exercício é um guia de estudo. Para fazer os exercícios será necessário estudar o Python e NumPy, consultar documentação e tutoriais disponíveis na Internet."
      ]
    },
    {
      "cell_type": "markdown",
      "metadata": {
        "id": "KoTx6Ld_MSPZ",
        "colab_type": "text"
      },
      "source": [
        "### Python"
      ]
    },
    {
      "cell_type": "markdown",
      "metadata": {
        "id": "4DPypPUfMSPc",
        "colab_type": "text"
      },
      "source": [
        "Estes exercícios devem ser feitos com o Python 3.\n",
        "Recomenda-se utilizar o Google Colab para fazer esses exercícios (https://colab.research.google.com/)  ou instalar o Jupyter e o Python utilizando-se o [Anaconda](https://www.continuum.io/downloads) - uma distribuição focada em Data Science, contendo os principais pacotes usados nesta área."
      ]
    },
    {
      "cell_type": "markdown",
      "metadata": {
        "id": "LRfvHXoWMSPf",
        "colab_type": "text"
      },
      "source": [
        "### Jupyter notebook"
      ]
    },
    {
      "cell_type": "markdown",
      "metadata": {
        "id": "4-TbSjRYMSPk",
        "colab_type": "text"
      },
      "source": [
        "Este é um Notebook Jupyter. Um notebook Jupyter é uma mistura de linguagem Markdown para formatar texto (como uma Wiki) e um programa Python. É muito usado entre as pessoas que trabalham com Data Science e Machine Learning em Python.\n",
        "\n",
        "Se utilizar o Jupyter notebook, instale o Jupyter nbextensions que é um conjunto de ferramentas auxiliares. Habilite o \"Table of Contents\" do nbextensions para que este notebook fique itemizado. Para o Google Colab, não é possível instalar o nbextensions."
      ]
    },
    {
      "cell_type": "markdown",
      "metadata": {
        "id": "65T3jr5zMSPm",
        "colab_type": "text"
      },
      "source": [
        "Você pode adicionar quantas células quiser neste notebook para deixar suas respostas bem organizadas."
      ]
    },
    {
      "cell_type": "markdown",
      "metadata": {
        "id": "kG3mSt8-MSPp",
        "colab_type": "text"
      },
      "source": [
        "# Exercícios básicos"
      ]
    },
    {
      "cell_type": "markdown",
      "metadata": {
        "id": "rL_1XfkeMSPs",
        "colab_type": "text"
      },
      "source": [
        "Vamos começar! Comece imprimindo seu nome e e-mail aqui:"
      ]
    },
    {
      "cell_type": "code",
      "metadata": {
        "id": "IgjoZw9SM6-7",
        "colab_type": "code",
        "colab": {}
      },
      "source": [
        "NAME = 'Rafael Claro Ito'\n",
        "EMAIL = 'ito.rafael@gmail.com'"
      ],
      "execution_count": 0,
      "outputs": []
    },
    {
      "cell_type": "code",
      "metadata": {
        "ExecuteTime": {
          "end_time": "2019-12-10T17:56:39.571965Z",
          "start_time": "2019-12-10T17:56:39.553102Z"
        },
        "id": "bkjrF4uDMSPt",
        "colab_type": "code",
        "outputId": "9e0d44a7-8da0-436e-9ed3-dd2fc11ae587",
        "colab": {
          "base_uri": "https://localhost:8080/",
          "height": 56
        }
      },
      "source": [
        "# preencha com seus dados\n",
        "print('My name is ', NAME, sep='')\n",
        "print('My email is ', EMAIL, sep='')"
      ],
      "execution_count": 0,
      "outputs": [
        {
          "output_type": "stream",
          "text": [
            "My name is Rafael Claro Ito\n",
            "My email is ito.rafael@gmail.com\n"
          ],
          "name": "stdout"
        }
      ]
    },
    {
      "cell_type": "markdown",
      "metadata": {
        "id": "db71HRBAMSP0",
        "colab_type": "text"
      },
      "source": [
        "## Listas"
      ]
    },
    {
      "cell_type": "markdown",
      "metadata": {
        "ExecuteTime": {
          "end_time": "2017-07-11T19:32:04.310368",
          "start_time": "2017-07-11T19:32:04.302283"
        },
        "id": "sPM1ZeHEMSP3",
        "colab_type": "text"
      },
      "source": [
        "Iremos utilizar muitas listas no curso Deep Learning.\n",
        "Seguem alguns exercícios com lista. Python é muito bom para processar listas. Uma lista é uma sequência de elementos \n",
        "separados por vírgula dentro de chaves:"
      ]
    },
    {
      "cell_type": "code",
      "metadata": {
        "ExecuteTime": {
          "end_time": "2019-12-10T17:56:39.584119Z",
          "start_time": "2019-12-10T17:56:39.577266Z"
        },
        "id": "TZ2lJf3kMSP5",
        "colab_type": "code",
        "colab": {}
      },
      "source": [
        "mylist = [5, 8, 'abc', 0, 8.3]"
      ],
      "execution_count": 0,
      "outputs": []
    },
    {
      "cell_type": "markdown",
      "metadata": {
        "ExecuteTime": {
          "end_time": "2017-07-11T19:20:42.951254",
          "start_time": "2017-07-11T19:20:42.947609"
        },
        "id": "7VdhzrD6MSQA",
        "colab_type": "text"
      },
      "source": [
        "### Imprimindo o número de elementos de uma `mylist` e alguns de seus elementos. Veja como isso pode ser feito."
      ]
    },
    {
      "cell_type": "code",
      "metadata": {
        "ExecuteTime": {
          "end_time": "2019-12-10T17:56:39.600238Z",
          "start_time": "2019-12-10T17:56:39.589826Z"
        },
        "id": "vYeK8FNlMSQC",
        "colab_type": "code",
        "outputId": "f4487244-d4e0-4f98-9a41-e1cffae3ee7b",
        "colab": {
          "base_uri": "https://localhost:8080/",
          "height": 75
        }
      },
      "source": [
        "print(len(mylist))\n",
        "print(mylist[0])\n",
        "print(mylist[-1])  # observe o índice -1 (o que isso significa?)\n",
        "\n",
        "# o índice negativo pega os elementos da lista de trás para frente. Ex:\n",
        "# - índice '-1': último elemento da lista\n",
        "# - índice '-2': penúltimo elemento da lista"
      ],
      "execution_count": 0,
      "outputs": [
        {
          "output_type": "stream",
          "text": [
            "5\n",
            "5\n",
            "8.3\n"
          ],
          "name": "stdout"
        }
      ]
    },
    {
      "cell_type": "markdown",
      "metadata": {
        "id": "YNbdidDGMSQG",
        "colab_type": "text"
      },
      "source": [
        "## Seja uma lista de 10 elementos numéricos sequenciais, começando em zero"
      ]
    },
    {
      "cell_type": "markdown",
      "metadata": {
        "id": "4mtMjRKcMSQI",
        "colab_type": "text"
      },
      "source": [
        "O código a seguir é típico para criar uma lista com os 10 primeiros inteiros maiores ou iguais a zero: inicializa-se lista vazia, para cada i entre 0 e menor que 10, faz append na lista a:"
      ]
    },
    {
      "cell_type": "code",
      "metadata": {
        "ExecuteTime": {
          "end_time": "2019-12-10T17:56:39.613751Z",
          "start_time": "2019-12-10T17:56:39.604994Z"
        },
        "id": "h6DL1nF5MSQL",
        "colab_type": "code",
        "outputId": "d868adee-cf61-440c-e11e-16caa97bb93e",
        "colab": {
          "base_uri": "https://localhost:8080/",
          "height": 36
        }
      },
      "source": [
        "a = []\n",
        "for i in range(10):\n",
        "    a.append(i)\n",
        "print(a)"
      ],
      "execution_count": 0,
      "outputs": [
        {
          "output_type": "stream",
          "text": [
            "[0, 1, 2, 3, 4, 5, 6, 7, 8, 9]\n"
          ],
          "name": "stdout"
        }
      ]
    },
    {
      "cell_type": "markdown",
      "metadata": {
        "id": "LsBO_Ue2MSQQ",
        "colab_type": "text"
      },
      "source": [
        "## List Comprehension"
      ]
    },
    {
      "cell_type": "markdown",
      "metadata": {
        "id": "H8aE1VM6MSQS",
        "colab_type": "text"
      },
      "source": [
        "Esta mesma lista pode ser criada utilizando a construção denominada \"List Comprehension\" ou\n",
        "\"Compreensão de Lista\" em portugues. Coloque este termo no Google adicionando python na frente na forma:\n",
        "\"python comprehension list\" e você poderá ver vários exemplos e tutoriais sobre o assunto. É uma forma compacta que fazer um append iterativo numa lista:\n",
        "\n",
        "Veja como o trecho acima foi reduzido para uma linha apenas:"
      ]
    },
    {
      "cell_type": "code",
      "metadata": {
        "ExecuteTime": {
          "end_time": "2019-12-10T17:56:39.624474Z",
          "start_time": "2019-12-10T17:56:39.616642Z"
        },
        "id": "8PmtYtFIMSQT",
        "colab_type": "code",
        "outputId": "08472817-9df1-47d1-f0b0-e1c6d17f87d9",
        "colab": {
          "base_uri": "https://localhost:8080/",
          "height": 36
        }
      },
      "source": [
        "a = [i for i in range(10)]\n",
        "print(a)"
      ],
      "execution_count": 6,
      "outputs": [
        {
          "output_type": "stream",
          "text": [
            "[0, 1, 2, 3, 4, 5, 6, 7, 8, 9]\n"
          ],
          "name": "stdout"
        }
      ]
    },
    {
      "cell_type": "markdown",
      "metadata": {
        "id": "7bOaKDSiMSQZ",
        "colab_type": "text"
      },
      "source": [
        "### Analise o trecho de programa a seguir:"
      ]
    },
    {
      "cell_type": "code",
      "metadata": {
        "ExecuteTime": {
          "end_time": "2019-12-10T17:56:39.643842Z",
          "start_time": "2019-12-10T17:56:39.628664Z"
        },
        "id": "04OM3cL1MSQc",
        "colab_type": "code",
        "outputId": "3d140dc3-6791-47de-cee4-2e5ecfaacd8c",
        "colab": {
          "base_uri": "https://localhost:8080/",
          "height": 36
        }
      },
      "source": [
        "m_list = ['r', 'i', 'c', 'a', 'r', 'd', 'o']\n",
        "new_list = []\n",
        "for k,item in enumerate(m_list):\n",
        "    new_list.append(str(k) + item)\n",
        "print(new_list)"
      ],
      "execution_count": 0,
      "outputs": [
        {
          "output_type": "stream",
          "text": [
            "['0r', '1i', '2c', '3a', '4r', '5d', '6o']\n"
          ],
          "name": "stdout"
        }
      ]
    },
    {
      "cell_type": "markdown",
      "metadata": {
        "id": "k1HjFaaLMSQj",
        "colab_type": "text"
      },
      "source": [
        "- Explique o que o enumerate faz no programa acima:\n",
        "\n",
        "Explicação:"
      ]
    },
    {
      "cell_type": "markdown",
      "metadata": {
        "id": "go3uivy3SQ8w",
        "colab_type": "text"
      },
      "source": [
        "'enumerate()' é uma função nativa (built-in) do Python. É usada para adicionar um contador em um objeto iterável ou sequência.\n",
        "\n",
        "Ex: seja 'iter' um objeto iterável.\n",
        "enumerate(iter) retornará: (0, iter[0]), (1, iter[1]), (2, iter[0]), ...\n",
        "\n",
        "É utilizado quando é necessário uma contagem de iterações e para deixar certos loops mais claros.\n",
        "\n",
        "No programa acima, enumerate cria um contador 'k' do tipo inteiro correspondente aos elementos da lista 'm_list', que são do tipo string, representados pela variável 'item'.\n"
      ]
    },
    {
      "cell_type": "markdown",
      "metadata": {
        "id": "tNagcs5AMSQl",
        "colab_type": "text"
      },
      "source": [
        "### Repita o mesmo trecho acima de criar a lista new_list, porém utilizando list comprehension:\n",
        "   "
      ]
    },
    {
      "cell_type": "code",
      "metadata": {
        "ExecuteTime": {
          "end_time": "2019-12-10T17:56:39.657736Z",
          "start_time": "2019-12-10T17:56:39.650100Z"
        },
        "id": "wPTcMIpoMSQn",
        "colab_type": "code",
        "colab": {
          "base_uri": "https://localhost:8080/",
          "height": 36
        },
        "outputId": "6d845291-5cab-453b-d61b-d4664c8672d3"
      },
      "source": [
        "m_list = ['r', 'i', 'c', 'a', 'r', 'd', 'o']\n",
        "n_list = [str(k) + item for k,item in enumerate(m_list)] # utilize aqui o list comprehension\n",
        "print(n_list)"
      ],
      "execution_count": 4,
      "outputs": [
        {
          "output_type": "stream",
          "text": [
            "['0r', '1i', '2c', '3a', '4r', '5d', '6o']\n"
          ],
          "name": "stdout"
        }
      ]
    },
    {
      "cell_type": "markdown",
      "metadata": {
        "id": "emeJBXlfMSQq",
        "colab_type": "text"
      },
      "source": [
        "## Fatiamento em Python"
      ]
    },
    {
      "cell_type": "markdown",
      "metadata": {
        "id": "OMh-T41aMSQr",
        "colab_type": "text"
      },
      "source": [
        "Um conceito fundamental em Python é o do fatiamento \"slicing\", em inglês. É um conceito que será muito usado\n",
        "durante todo o curso. Estude bem isso. Inicialmente iremos trabalhar com fatiamento de lista, mas posteriormente\n",
        "com arrays (ou tensores) utilizando o NumPy"
      ]
    },
    {
      "cell_type": "code",
      "metadata": {
        "ExecuteTime": {
          "end_time": "2019-12-10T17:56:39.666017Z",
          "start_time": "2019-12-10T17:56:39.661198Z"
        },
        "id": "xRU0HvsRMSQu",
        "colab_type": "code",
        "colab": {
          "base_uri": "https://localhost:8080/",
          "height": 36
        },
        "outputId": "8294c90e-37ce-47e4-a87e-48bffe886ff4"
      },
      "source": [
        "print(a[3:5])"
      ],
      "execution_count": 7,
      "outputs": [
        {
          "output_type": "stream",
          "text": [
            "[3, 4]\n"
          ],
          "name": "stdout"
        }
      ]
    },
    {
      "cell_type": "markdown",
      "metadata": {
        "id": "7GcwL0cGMSQz",
        "colab_type": "text"
      },
      "source": [
        "### Veja como criar e imprimir uma lista a partir da lista \"a\" já criada, porém apenas alguns elementos"
      ]
    },
    {
      "cell_type": "code",
      "metadata": {
        "ExecuteTime": {
          "end_time": "2019-12-10T17:56:39.676947Z",
          "start_time": "2019-12-10T17:56:39.670923Z"
        },
        "id": "4qLkv-VFMSQ1",
        "colab_type": "code",
        "colab": {
          "base_uri": "https://localhost:8080/",
          "height": 133
        },
        "outputId": "8f90fe9f-2c9d-46c4-e32d-afd445043339"
      },
      "source": [
        "# imprima os elementos ímpares de a\n",
        "print([odd for odd in a if odd % 2 == 1])     # Using List Comprehension\n",
        "print(a[1::2])                                # Using index (order matters)\n",
        "# imprima os elementos pares de a\n",
        "print([even for even in a if even % 2 == 0])  # Using List Comprehension\n",
        "print(a[::2])                                 # Using index (order matters)\n",
        "# imprima os últimos 3 elementos da lista (utilize índice negativo, pesquise na Internet)\n",
        "print(a[-3:])\n",
        "# Imprima os 3 primeiros elementos da lista (veja quando é possível ignorar valores iniciais e finais)\n",
        "print(a[:3])"
      ],
      "execution_count": 24,
      "outputs": [
        {
          "output_type": "stream",
          "text": [
            "[1, 3, 5, 7, 9]\n",
            "[1, 3, 5, 7, 9]\n",
            "[0, 2, 4, 6, 8]\n",
            "[0, 2, 4, 6, 8]\n",
            "[7, 8, 9]\n",
            "[0, 1, 2]\n"
          ],
          "name": "stdout"
        }
      ]
    },
    {
      "cell_type": "markdown",
      "metadata": {
        "ExecuteTime": {
          "end_time": "2017-11-24T10:48:33.572314",
          "start_time": "2017-11-24T10:48:33.568302"
        },
        "id": "XvAySRt_MSQ6",
        "colab_type": "text"
      },
      "source": [
        "### Veja o significado do passo, i.e. o terceiro parâmetro do \"fatiamento\":"
      ]
    },
    {
      "cell_type": "code",
      "metadata": {
        "ExecuteTime": {
          "end_time": "2019-12-10T17:56:39.685197Z",
          "start_time": "2019-12-10T17:56:39.680220Z"
        },
        "id": "lrvsVYAYMSQ-",
        "colab_type": "code",
        "colab": {
          "base_uri": "https://localhost:8080/",
          "height": 56
        },
        "outputId": "16634191-e6b0-4976-fab8-37f03d40dd01"
      },
      "source": [
        "print(a[::2])\n",
        "print(a[::-1])"
      ],
      "execution_count": 25,
      "outputs": [
        {
          "output_type": "stream",
          "text": [
            "[0, 2, 4, 6, 8]\n",
            "[9, 8, 7, 6, 5, 4, 3, 2, 1, 0]\n"
          ],
          "name": "stdout"
        }
      ]
    },
    {
      "cell_type": "markdown",
      "metadata": {
        "ExecuteTime": {
          "end_time": "2017-11-24T10:48:33.577743",
          "start_time": "2017-11-24T10:48:33.574177"
        },
        "id": "HOI4Pk90MSRD",
        "colab_type": "text"
      },
      "source": [
        "### Exercício: Imprima os elementos ímpares na order reversa, do maior para o menor"
      ]
    },
    {
      "cell_type": "code",
      "metadata": {
        "ExecuteTime": {
          "end_time": "2019-12-10T17:56:39.692699Z",
          "start_time": "2019-12-10T17:56:39.688201Z"
        },
        "id": "XELFgLWVMSRD",
        "colab_type": "code",
        "colab": {
          "base_uri": "https://localhost:8080/",
          "height": 36
        },
        "outputId": "33f1762a-7d9f-4079-95dd-1512b0a97424"
      },
      "source": [
        "print(a[::-2])"
      ],
      "execution_count": 37,
      "outputs": [
        {
          "output_type": "stream",
          "text": [
            "[9, 7, 5, 3, 1]\n"
          ],
          "name": "stdout"
        }
      ]
    },
    {
      "cell_type": "markdown",
      "metadata": {
        "id": "h26sb87zMSRJ",
        "colab_type": "text"
      },
      "source": [
        "## Tuplas"
      ]
    },
    {
      "cell_type": "markdown",
      "metadata": {
        "id": "V9lgEbiuMSRK",
        "colab_type": "text"
      },
      "source": [
        "Dominar o conceito de tuplas é importante pois tuplas são estruturas muito utilizadas no Python."
      ]
    },
    {
      "cell_type": "code",
      "metadata": {
        "ExecuteTime": {
          "end_time": "2019-12-10T17:56:39.700112Z",
          "start_time": "2019-12-10T17:56:39.695877Z"
        },
        "id": "dHTQtR_BMSRL",
        "colab_type": "code",
        "colab": {}
      },
      "source": [
        "b = tuple(a)\n",
        "print(b)"
      ],
      "execution_count": 0,
      "outputs": []
    },
    {
      "cell_type": "markdown",
      "metadata": {
        "id": "bwSwnyhhMSRQ",
        "colab_type": "text"
      },
      "source": [
        "### Responda: A principal diferença entre uma lista e uma tupla é:\n",
        "\n",
        "Resposta: tupla é uma estrutura de dados semelhante a uma lista porém a tupla é ordenada e imutável. "
      ]
    },
    {
      "cell_type": "markdown",
      "metadata": {
        "id": "kNsw2xG-MSRS",
        "colab_type": "text"
      },
      "source": [
        "# Dicionários em Python"
      ]
    },
    {
      "cell_type": "markdown",
      "metadata": {
        "id": "8B55gezNMSRU",
        "colab_type": "text"
      },
      "source": [
        "Python possui uma estrutura de dados muito versátil denominada dicionário.\n",
        "No curso Deep Learning, os parâmetros da rede neural serão armazenadas na forma de dicionário. Veja a seguir alguns exemplos de uso de dicionários:"
      ]
    },
    {
      "cell_type": "code",
      "metadata": {
        "ExecuteTime": {
          "end_time": "2019-12-10T17:56:39.708263Z",
          "start_time": "2019-12-10T17:56:39.702983Z"
        },
        "id": "uAd2q-I1MSRU",
        "colab_type": "code",
        "colab": {}
      },
      "source": [
        "rob_record = {'nome': 'Roberto', 'idade': 18}\n",
        "print(rob_record['nome'])"
      ],
      "execution_count": 0,
      "outputs": []
    },
    {
      "cell_type": "code",
      "metadata": {
        "ExecuteTime": {
          "end_time": "2019-12-10T17:56:39.719554Z",
          "start_time": "2019-12-10T17:56:39.711199Z"
        },
        "id": "ky-O5fHbMSRY",
        "colab_type": "code",
        "outputId": "e18cf8e1-0c0d-4f30-af92-0f12367278ff",
        "colab": {
          "base_uri": "https://localhost:8080/",
          "height": 198
        }
      },
      "source": [
        "rob_record['idade'] = 20\n",
        "print(rob_record)"
      ],
      "execution_count": 0,
      "outputs": [
        {
          "output_type": "error",
          "ename": "NameError",
          "evalue": "ignored",
          "traceback": [
            "\u001b[0;31m---------------------------------------------------------------------------\u001b[0m",
            "\u001b[0;31mNameError\u001b[0m                                 Traceback (most recent call last)",
            "\u001b[0;32m<ipython-input-1-e62da32afa46>\u001b[0m in \u001b[0;36m<module>\u001b[0;34m()\u001b[0m\n\u001b[0;32m----> 1\u001b[0;31m \u001b[0mrob_record\u001b[0m\u001b[0;34m[\u001b[0m\u001b[0;34m'idade'\u001b[0m\u001b[0;34m]\u001b[0m \u001b[0;34m=\u001b[0m \u001b[0;36m20\u001b[0m\u001b[0;34m\u001b[0m\u001b[0;34m\u001b[0m\u001b[0m\n\u001b[0m\u001b[1;32m      2\u001b[0m \u001b[0mprint\u001b[0m\u001b[0;34m(\u001b[0m\u001b[0mrob_record\u001b[0m\u001b[0;34m)\u001b[0m\u001b[0;34m\u001b[0m\u001b[0;34m\u001b[0m\u001b[0m\n",
            "\u001b[0;31mNameError\u001b[0m: name 'rob_record' is not defined"
          ]
        }
      ]
    },
    {
      "cell_type": "markdown",
      "metadata": {
        "id": "v9Y11t_EMSRf",
        "colab_type": "text"
      },
      "source": [
        "Lista de dicionários:"
      ]
    },
    {
      "cell_type": "code",
      "metadata": {
        "ExecuteTime": {
          "end_time": "2019-12-10T17:56:39.726559Z",
          "start_time": "2019-12-10T17:56:39.722628Z"
        },
        "id": "sczX42VhMSRg",
        "colab_type": "code",
        "colab": {}
      },
      "source": [
        "records = [{'nome':'Alfredo', 'idade': 23},\n",
        "           {'nome':'Fernanda', 'idade': 16},\n",
        "           {'nome':'Carla', 'idade':33}]"
      ],
      "execution_count": 0,
      "outputs": []
    },
    {
      "cell_type": "markdown",
      "metadata": {
        "ExecuteTime": {
          "end_time": "2017-11-24T10:48:33.603575",
          "start_time": "2017-11-24T10:48:33.601007"
        },
        "id": "CsJwDK3gMSRj",
        "colab_type": "text"
      },
      "source": [
        "### Exercício: Acesse o nome da Fernanda: complete e descomente a linha a seguir"
      ]
    },
    {
      "cell_type": "code",
      "metadata": {
        "ExecuteTime": {
          "end_time": "2019-12-10T17:56:39.733629Z",
          "start_time": "2019-12-10T17:56:39.730430Z"
        },
        "id": "ae1E9_uvMSRk",
        "colab_type": "code",
        "colab": {}
      },
      "source": [
        "#print(records[][])"
      ],
      "execution_count": 0,
      "outputs": []
    },
    {
      "cell_type": "markdown",
      "metadata": {
        "ExecuteTime": {
          "end_time": "2017-11-24T10:48:33.609929",
          "start_time": "2017-11-24T10:48:33.605371"
        },
        "id": "ve2514FGMSRo",
        "colab_type": "text"
      },
      "source": [
        "### Exercício: crie uma lista com todos os nomes da lista records.\n",
        "\n",
        "O resultado deve ser uma lista ['Alfredo', 'Fernanda', 'Carla']"
      ]
    },
    {
      "cell_type": "code",
      "metadata": {
        "ExecuteTime": {
          "end_time": "2019-12-10T17:56:39.741401Z",
          "start_time": "2019-12-10T17:56:39.736656Z"
        },
        "id": "Z7lnsR9GMSRp",
        "colab_type": "code",
        "colab": {}
      },
      "source": [
        "# 1. Utilizando a forma tradicional de criar lista com append\n",
        "# porém sem utilizar o for i in range()\n",
        "nlist = []\n",
        "#for  :\n",
        "#    nlist.append()\n",
        "print(nlist)"
      ],
      "execution_count": 0,
      "outputs": []
    },
    {
      "cell_type": "code",
      "metadata": {
        "ExecuteTime": {
          "end_time": "2019-12-10T17:56:39.747944Z",
          "start_time": "2019-12-10T17:56:39.744532Z"
        },
        "id": "jnBDbDJQMSRr",
        "colab_type": "code",
        "colab": {}
      },
      "source": [
        "# 2. Utilizando a forma de list comprehension\n",
        "#nlist2 = [ for ]\n",
        "#print(nlist2)"
      ],
      "execution_count": 0,
      "outputs": []
    },
    {
      "cell_type": "markdown",
      "metadata": {
        "id": "wd7dD9XTMSR0",
        "colab_type": "text"
      },
      "source": [
        "# Exercícios usando NumPy"
      ]
    },
    {
      "cell_type": "markdown",
      "metadata": {
        "id": "DgJHBRIbMSR1",
        "colab_type": "text"
      },
      "source": [
        "Os seguintes exercícios devem usar apenas o pacote NumPy.\n",
        "Não se deve utilizar nenhum outro pacote adicional.\n",
        "O NumPy é o pacote que ter o Python apropriado para programação científica.\n",
        "A programação eficiente de matrizes multidimensionais (arrays ou tensores) é\n",
        "feita através do conceito de programação matricial que evita o uso de laços\n",
        "e iterações nos elementos da matriz.\n",
        "\n",
        "Existem vários exemplos de uso de NumPy no conjunto de\n",
        "notebooks tutorias disponíveis no GitHub:\n",
        "- https://github.com/robertoalotufo/ia898/blob/master/master/0_index.ipynb"
      ]
    },
    {
      "cell_type": "code",
      "metadata": {
        "ExecuteTime": {
          "end_time": "2019-12-10T17:56:40.132948Z",
          "start_time": "2019-12-10T17:56:39.750654Z"
        },
        "id": "xvJ5BhseMSR2",
        "colab_type": "code",
        "colab": {}
      },
      "source": [
        "import numpy as np"
      ],
      "execution_count": 0,
      "outputs": []
    },
    {
      "cell_type": "markdown",
      "metadata": {
        "id": "dVFU6iqyMSR4",
        "colab_type": "text"
      },
      "source": [
        "Veja como é possível criar um array unidimensional e depois reformatá-lo para ser acessado como array bidimensional:"
      ]
    },
    {
      "cell_type": "code",
      "metadata": {
        "ExecuteTime": {
          "end_time": "2019-12-10T17:56:40.162562Z",
          "start_time": "2019-12-10T17:56:40.137973Z"
        },
        "id": "p7KjmbtUMSR5",
        "colab_type": "code",
        "colab": {}
      },
      "source": [
        "array = np.arange(10)\n",
        "print(array)\n",
        "print(array.shape)"
      ],
      "execution_count": 0,
      "outputs": []
    },
    {
      "cell_type": "code",
      "metadata": {
        "ExecuteTime": {
          "end_time": "2019-12-10T17:56:40.182478Z",
          "start_time": "2019-12-10T17:56:40.169365Z"
        },
        "id": "FoxO6Lz5MSR8",
        "colab_type": "code",
        "colab": {}
      },
      "source": [
        "A = np.arange(24).reshape(4,6)\n",
        "print(A)\n",
        "print(A.shape)"
      ],
      "execution_count": 0,
      "outputs": []
    },
    {
      "cell_type": "markdown",
      "metadata": {
        "id": "eU28iJsGMSSB",
        "colab_type": "text"
      },
      "source": [
        "### Exercício: imprimindo rows, cols, dimensions, shape and datatype"
      ]
    },
    {
      "cell_type": "code",
      "metadata": {
        "ExecuteTime": {
          "end_time": "2019-12-10T17:56:40.199596Z",
          "start_time": "2019-12-10T17:56:40.186175Z"
        },
        "id": "99ovezklMSSC",
        "colab_type": "code",
        "colab": {}
      },
      "source": [
        "# imprima o número de linhas de A\n",
        "print()\n",
        "# imprima o número de colunas de A\n",
        "print()\n",
        "# imprima o número de dimensões de A\n",
        "print()\n",
        "# imprima o shape de A:\n",
        "print()\n",
        "# imprima o tipo de dados (dtype) dos elementos de A:\n",
        "print()"
      ],
      "execution_count": 0,
      "outputs": []
    },
    {
      "cell_type": "markdown",
      "metadata": {
        "id": "8Soqzeb2MSSE",
        "colab_type": "text"
      },
      "source": [
        "### Reshape"
      ]
    },
    {
      "cell_type": "code",
      "metadata": {
        "ExecuteTime": {
          "end_time": "2019-12-10T17:56:40.214464Z",
          "start_time": "2019-12-10T17:56:40.206759Z"
        },
        "id": "-Uj9bEYjMSSG",
        "colab_type": "code",
        "colab": {}
      },
      "source": [
        "# Seja o vetor unidimension a:\n",
        "a = np.array([1,2,3,4])\n",
        "print(a, a.shape)"
      ],
      "execution_count": 0,
      "outputs": []
    },
    {
      "cell_type": "markdown",
      "metadata": {
        "ExecuteTime": {
          "end_time": "2017-11-24T10:48:34.537220",
          "start_time": "2017-11-24T10:48:34.531910"
        },
        "id": "IvBoixxbMSSI",
        "colab_type": "text"
      },
      "source": [
        "### Exercício: Converta o vetor unidimensional a em uma matriz vetor coluna (4 linhas e 1 coluna) utilizando reshape"
      ]
    },
    {
      "cell_type": "code",
      "metadata": {
        "ExecuteTime": {
          "end_time": "2019-12-10T17:56:40.231358Z",
          "start_time": "2019-12-10T17:56:40.220830Z"
        },
        "id": "rkg93vUnMSSI",
        "colab_type": "code",
        "colab": {}
      },
      "source": [
        "a = a\n",
        "print(a)"
      ],
      "execution_count": 0,
      "outputs": []
    },
    {
      "cell_type": "markdown",
      "metadata": {
        "id": "14CumfmkMSSM",
        "colab_type": "text"
      },
      "source": [
        "## Cópia por referência, cópia rasa e cópia profunda\n",
        "\n",
        "Explique a diferença entre estes 3 tipos de cópias e dê um exemplo de cada uma.\n",
        "**Resposta**:\n"
      ]
    },
    {
      "cell_type": "code",
      "metadata": {
        "ExecuteTime": {
          "end_time": "2019-12-10T17:56:40.242710Z",
          "start_time": "2019-12-10T17:56:40.236135Z"
        },
        "id": "t_f9RORAMSSN",
        "colab_type": "code",
        "colab": {}
      },
      "source": [
        "# Exercício\n",
        "# Indique para cada uma das expressões a seguir se a cópia é por referência, rasa ou profunda\n",
        "x = a # cópia ?\n",
        "y = a[:2] # cópia ?\n",
        "z = a.reshape(4,1) # cópia ?\n",
        "zz = a.copy() # cópia ?"
      ],
      "execution_count": 0,
      "outputs": []
    },
    {
      "cell_type": "code",
      "metadata": {
        "ExecuteTime": {
          "end_time": "2019-12-10T17:56:40.257657Z",
          "start_time": "2019-12-10T17:56:40.248201Z"
        },
        "id": "6iy0eNzbMSSQ",
        "colab_type": "code",
        "colab": {}
      },
      "source": [
        "# Explique o valor dos resultados:\n",
        "z[0,0] = 5\n",
        "print(a) # explique:\n",
        "y[1] = 6\n",
        "print(a) # explique:\n",
        "zz[0] = 7\n",
        "print(a) # explique:"
      ],
      "execution_count": 0,
      "outputs": []
    },
    {
      "cell_type": "markdown",
      "metadata": {
        "id": "vbKhEEEXMSSS",
        "colab_type": "text"
      },
      "source": [
        "## Operações aritméticas"
      ]
    },
    {
      "cell_type": "code",
      "metadata": {
        "ExecuteTime": {
          "end_time": "2019-12-10T17:56:40.295188Z",
          "start_time": "2019-12-10T17:56:40.264886Z"
        },
        "id": "7Igu0fvpMSST",
        "colab_type": "code",
        "colab": {}
      },
      "source": [
        "B = A + 10\n",
        "B"
      ],
      "execution_count": 0,
      "outputs": []
    },
    {
      "cell_type": "markdown",
      "metadata": {
        "id": "PEz7l-S0MSSV",
        "colab_type": "text"
      },
      "source": [
        "### Array binário (booleano)"
      ]
    },
    {
      "cell_type": "markdown",
      "metadata": {
        "ExecuteTime": {
          "end_time": "2017-11-24T10:48:34.559435",
          "start_time": "2017-11-24T10:48:34.555288"
        },
        "id": "SJDTNs1vMSSV",
        "colab_type": "text"
      },
      "source": [
        "#### Exercício: Crie uma matriz booleana C com True nos elementos de B menores que 18 (não utilize loop explícito)"
      ]
    },
    {
      "cell_type": "code",
      "metadata": {
        "ExecuteTime": {
          "end_time": "2019-12-10T17:56:40.304894Z",
          "start_time": "2019-12-10T17:56:40.297941Z"
        },
        "id": "bU2E5ZbaMSSW",
        "colab_type": "code",
        "colab": {}
      },
      "source": [
        "C = B # modify your code here\n",
        "print(C)"
      ],
      "execution_count": 0,
      "outputs": []
    },
    {
      "cell_type": "markdown",
      "metadata": {
        "id": "b_7kE1XVMSSb",
        "colab_type": "text"
      },
      "source": [
        "## Indexação booleana"
      ]
    },
    {
      "cell_type": "markdown",
      "metadata": {
        "id": "ik8W9LWtMSSb",
        "colab_type": "text"
      },
      "source": [
        "### Exercício: explique o comando a seguir de indexação booleana\n",
        "\n",
        "Explicação:"
      ]
    },
    {
      "cell_type": "code",
      "metadata": {
        "ExecuteTime": {
          "end_time": "2019-12-10T17:56:40.321735Z",
          "start_time": "2019-12-10T17:56:40.311748Z"
        },
        "id": "GHK74Nq4MSSc",
        "colab_type": "code",
        "colab": {}
      },
      "source": [
        "A[B < 18]"
      ],
      "execution_count": 0,
      "outputs": []
    },
    {
      "cell_type": "markdown",
      "metadata": {
        "id": "zEr-W1jYMSSh",
        "colab_type": "text"
      },
      "source": [
        "Veja um programa que cria matriz D_loop a partir da matriz B, porém trocando os elementos menores que 18 por seus valores negativos"
      ]
    },
    {
      "cell_type": "code",
      "metadata": {
        "ExecuteTime": {
          "end_time": "2019-12-10T17:56:40.334686Z",
          "start_time": "2019-12-10T17:56:40.325194Z"
        },
        "id": "O8SEHdHHMSSh",
        "colab_type": "code",
        "colab": {}
      },
      "source": [
        "D_loop = B.copy()\n",
        "for row in np.arange(B.shape[0]):\n",
        "    for col in np.arange(B.shape[1]):\n",
        "        if B[row,col] < 18:\n",
        "            D_loop[row,col] = - B[row,col]\n",
        "print(D_loop)"
      ],
      "execution_count": 0,
      "outputs": []
    },
    {
      "cell_type": "markdown",
      "metadata": {
        "id": "3HCzhWx5MSSr",
        "colab_type": "text"
      },
      "source": [
        "### Exercício: Troque o corpo do laço do programa acima por uma única linha sem loop"
      ]
    },
    {
      "cell_type": "code",
      "metadata": {
        "ExecuteTime": {
          "end_time": "2019-12-10T17:56:40.346397Z",
          "start_time": "2019-12-10T17:56:40.337666Z"
        },
        "id": "rrJH8DDVMSSs",
        "colab_type": "code",
        "colab": {}
      },
      "source": [
        "D = B   # << modifique aqui utilizando indexação booleana\n",
        "print(D)"
      ],
      "execution_count": 0,
      "outputs": []
    },
    {
      "cell_type": "markdown",
      "metadata": {
        "id": "DJb442RTMSTB",
        "colab_type": "text"
      },
      "source": [
        "## Redução de eixo: soma"
      ]
    },
    {
      "cell_type": "markdown",
      "metadata": {
        "id": "xbg9yzuLMSTB",
        "colab_type": "text"
      },
      "source": [
        "Operações matriciais de redução de eixo são muito úteis e importantes.\n",
        "É um conceito importante da programação matricial.\n",
        "\n",
        "Estude o exemplo a seguir:"
      ]
    },
    {
      "cell_type": "code",
      "metadata": {
        "ExecuteTime": {
          "end_time": "2019-12-10T17:56:40.360645Z",
          "start_time": "2019-12-10T17:56:40.350099Z"
        },
        "id": "enR03EjDMSTC",
        "colab_type": "code",
        "colab": {}
      },
      "source": [
        "print(A)\n",
        "print(A.shape)\n",
        "As = A.sum(axis=0)\n",
        "print(As)\n",
        "print(As.shape)"
      ],
      "execution_count": 0,
      "outputs": []
    },
    {
      "cell_type": "markdown",
      "metadata": {
        "ExecuteTime": {
          "end_time": "2017-11-24T10:48:34.585861",
          "start_time": "2017-11-24T10:48:34.582054"
        },
        "id": "4OYCr9_eMSTE",
        "colab_type": "text"
      },
      "source": [
        "### Exercício: Explique o funcionamento da soma por redução de eixo. Qual foi a dimensão que desapareceu?\n",
        "\n",
        "Resposta: "
      ]
    },
    {
      "cell_type": "markdown",
      "metadata": {
        "ExecuteTime": {
          "end_time": "2017-11-24T10:48:34.585861",
          "start_time": "2017-11-24T10:48:34.582054"
        },
        "id": "VaJUujluMSTF",
        "colab_type": "text"
      },
      "source": [
        "### Exercício: calcule o valor médio do array A"
      ]
    },
    {
      "cell_type": "code",
      "metadata": {
        "ExecuteTime": {
          "end_time": "2019-12-10T17:56:40.372210Z",
          "start_time": "2019-12-10T17:56:40.364380Z"
        },
        "id": "SqNn1Ct9MSTG",
        "colab_type": "code",
        "colab": {}
      },
      "source": [
        "print()"
      ],
      "execution_count": 0,
      "outputs": []
    },
    {
      "cell_type": "markdown",
      "metadata": {
        "id": "62dF-AU8MSTI",
        "colab_type": "text"
      },
      "source": [
        "### Exercício: calcule o valor médio das linhas de A:"
      ]
    },
    {
      "cell_type": "code",
      "metadata": {
        "ExecuteTime": {
          "end_time": "2019-12-10T17:56:40.390105Z",
          "start_time": "2019-12-10T17:56:40.375159Z"
        },
        "id": "_qh-8Mv7MSTJ",
        "colab_type": "code",
        "colab": {}
      },
      "source": [
        "print()"
      ],
      "execution_count": 0,
      "outputs": []
    },
    {
      "cell_type": "markdown",
      "metadata": {
        "id": "A8QZ6a5iMSTL",
        "colab_type": "text"
      },
      "source": [
        "## Broadcasting"
      ]
    },
    {
      "cell_type": "markdown",
      "metadata": {
        "id": "vMqwI7HqMSTN",
        "colab_type": "text"
      },
      "source": [
        "### Exercício: O que significa o conceito de broadcasting em NumPy?\n",
        "\n",
        "Resposta:"
      ]
    },
    {
      "cell_type": "code",
      "metadata": {
        "ExecuteTime": {
          "end_time": "2017-11-24T10:48:34.653339",
          "start_time": "2017-11-24T10:48:34.649183"
        },
        "id": "Ol7zSjVGMSTN",
        "colab_type": "code",
        "colab": {}
      },
      "source": [
        "# Usando o conceito de broadcast, mude o shape do vetor a para que o broadcast possa ocorrer em G = A + a\n",
        "a = np.arange(4)\n",
        "print(a)\n",
        "#G = A + a\n",
        "#print(G)"
      ],
      "execution_count": 0,
      "outputs": []
    },
    {
      "cell_type": "markdown",
      "metadata": {
        "id": "Kr4jICT0MSTP",
        "colab_type": "text"
      },
      "source": [
        "## Normalização entre 0 e 1"
      ]
    },
    {
      "cell_type": "markdown",
      "metadata": {
        "id": "mT057KbHMSTQ",
        "colab_type": "text"
      },
      "source": [
        "Seja a matriz $C$ que é a normalização da matriz $A$:\n",
        "$$ C(i,j) = \\frac{A(i,j) - A_{min}}{A_{max} - A_{min}} $$\n",
        "\n",
        "Em programação matricial, não se faz o loop em cada elemento da matriz,\n",
        "mas sim, utiliza-se operações matriciais. Faça o exercício a seguir\n",
        "sem utilizar laços explícitos:"
      ]
    },
    {
      "cell_type": "code",
      "metadata": {
        "ExecuteTime": {
          "end_time": "2019-12-11T00:00:34.072719Z",
          "start_time": "2019-12-11T00:00:34.036017Z"
        },
        "id": "m1TtkQEwMSTR",
        "colab_type": "code",
        "colab": {}
      },
      "source": [
        "# Criar a matriz C que é a normalização de A, de modo que os valores de C estejam entre 0 e 1\n",
        "C = A\n",
        "print(C)"
      ],
      "execution_count": 0,
      "outputs": []
    },
    {
      "cell_type": "code",
      "metadata": {
        "ExecuteTime": {
          "end_time": "2019-12-10T17:56:40.413601Z",
          "start_time": "2019-12-10T17:56:40.405056Z"
        },
        "id": "PuS_PtKmMSTT",
        "colab_type": "code",
        "colab": {}
      },
      "source": [
        "# Modificar o exercício anterior, porém agora faça a normalização para cada coluna de A\n",
        "# de modo que as colunas da matriz D estejam entre os valores de 0 a 1.\n",
        "# Dica: utilize o conceito de redução de eixo\n",
        "D = A\n",
        "print(D)"
      ],
      "execution_count": 0,
      "outputs": []
    },
    {
      "cell_type": "code",
      "metadata": {
        "id": "pWXjCJ-aMSTX",
        "colab_type": "code",
        "colab": {}
      },
      "source": [
        "# Modificar o exercício anterior, porém agora faça a normalização para cada linha de A\n",
        "# de modo que as colunas da matriz E estejam entre os valores de 0 a 1.\n",
        "# Dica: utilize o conceito de redução de eixo, porém mantenha o mesmo número de eixos para poder fazer broadcast\n",
        "E = A\n",
        "print(E)"
      ],
      "execution_count": 0,
      "outputs": []
    },
    {
      "cell_type": "markdown",
      "metadata": {
        "id": "2PzPMKy9MSTa",
        "colab_type": "text"
      },
      "source": [
        "## Fatiamento em arrays (slicing)"
      ]
    },
    {
      "cell_type": "code",
      "metadata": {
        "ExecuteTime": {
          "end_time": "2019-12-10T17:56:40.424712Z",
          "start_time": "2019-12-10T17:56:40.417272Z"
        },
        "id": "GNqB1v9iMSTb",
        "colab_type": "code",
        "colab": {}
      },
      "source": [
        "# esta indexação é chamada fatiamento:\n",
        "AA = A[:,1::2]\n",
        "print(AA)"
      ],
      "execution_count": 0,
      "outputs": []
    },
    {
      "cell_type": "code",
      "metadata": {
        "ExecuteTime": {
          "end_time": "2019-12-10T17:56:40.437872Z",
          "start_time": "2019-12-10T17:56:40.428183Z"
        },
        "id": "1Xda95ijMSTh",
        "colab_type": "code",
        "colab": {}
      },
      "source": [
        "# criar a matriz AB apenas com as linhas pares da matriz A, utilizando o conceito de fatiamento:\n",
        "AB = A\n",
        "print(AB)"
      ],
      "execution_count": 0,
      "outputs": []
    },
    {
      "cell_type": "code",
      "metadata": {
        "ExecuteTime": {
          "end_time": "2019-12-10T17:56:40.447762Z",
          "start_time": "2019-12-10T17:56:40.440731Z"
        },
        "id": "jQr6HGRSMSTj",
        "colab_type": "code",
        "colab": {}
      },
      "source": [
        "# crie a matriz AC com mesmo shape da matriz A, porém com os elementos na ordem inversa:\n",
        "# trocando a ordem das linhas e das colunas\n",
        "AC = A\n",
        "print(AC)"
      ],
      "execution_count": 0,
      "outputs": []
    },
    {
      "cell_type": "markdown",
      "metadata": {
        "id": "kJgNuYOHMSTl",
        "colab_type": "text"
      },
      "source": [
        "## Produto matricial  (dot product)"
      ]
    },
    {
      "cell_type": "markdown",
      "metadata": {
        "id": "wPtaL9mYMSTm",
        "colab_type": "text"
      },
      "source": [
        "Calcule a matriz E dada pelo produto matricial entre a matriz A e sua transposta: \n",
        "$$ E = A A^T $$"
      ]
    },
    {
      "cell_type": "code",
      "metadata": {
        "ExecuteTime": {
          "end_time": "2019-12-10T17:56:40.457617Z",
          "start_time": "2019-12-10T17:56:40.450430Z"
        },
        "id": "wpAdt1IAMSTn",
        "colab_type": "code",
        "colab": {}
      },
      "source": [
        "E = A # modify your code here\n",
        "print(E)"
      ],
      "execution_count": 0,
      "outputs": []
    },
    {
      "cell_type": "code",
      "metadata": {
        "ExecuteTime": {
          "end_time": "2019-12-10T17:56:40.465257Z",
          "start_time": "2019-12-10T17:56:40.460810Z"
        },
        "id": "ng9ksRm4MSTq",
        "colab_type": "code",
        "colab": {}
      },
      "source": [
        "# Descomente a linha e explique\n",
        "# por que a operação de multiplicação dá erro?\n",
        "#Ee = A * A.T"
      ],
      "execution_count": 0,
      "outputs": []
    },
    {
      "cell_type": "markdown",
      "metadata": {
        "id": "qFXmE_quMSTr",
        "colab_type": "text"
      },
      "source": [
        "## Matrizes multidimensionais"
      ]
    },
    {
      "cell_type": "markdown",
      "metadata": {
        "ExecuteTime": {
          "end_time": "2017-08-27T11:37:19.062565",
          "start_time": "2017-08-27T11:37:18.994081"
        },
        "id": "IhPyM5fMMSTs",
        "colab_type": "text"
      },
      "source": [
        "Em deep learning, iremos utilizar matrizes multidimensionais\n",
        "que são denominados como arrays no NumPy. PyTorch usa o nome de tensor para\n",
        "suas matrizes multimensionais.\n",
        "\n",
        "Matrizes de dimensões maior que 4 são de difícil intuição. A melhor forma de lidar\n",
        "com elas é observando o seu *shape*."
      ]
    },
    {
      "cell_type": "markdown",
      "metadata": {
        "id": "saJiY6r4MSTt",
        "colab_type": "text"
      },
      "source": [
        "### 3-D array"
      ]
    },
    {
      "cell_type": "code",
      "metadata": {
        "ExecuteTime": {
          "end_time": "2019-12-10T17:56:40.474112Z",
          "start_time": "2019-12-10T17:56:40.468455Z"
        },
        "id": "G1Dst52jMSTt",
        "colab_type": "code",
        "colab": {}
      },
      "source": [
        "F = A.reshape(2,3,4)\n",
        "print(F)"
      ],
      "execution_count": 0,
      "outputs": []
    },
    {
      "cell_type": "markdown",
      "metadata": {
        "id": "TmNhfMQNMSTv",
        "colab_type": "text"
      },
      "source": [
        "#### Indexação"
      ]
    },
    {
      "cell_type": "markdown",
      "metadata": {
        "id": "eX2ICb4hMSTw",
        "colab_type": "text"
      },
      "source": [
        "Estude as seguintes indexações:"
      ]
    },
    {
      "cell_type": "code",
      "metadata": {
        "ExecuteTime": {
          "end_time": "2019-12-10T17:56:52.815469Z",
          "start_time": "2019-12-10T17:56:52.810002Z"
        },
        "id": "ai0EdnBGMSTw",
        "colab_type": "code",
        "colab": {}
      },
      "source": [
        "F1 = F[1]\n",
        "print(F1)\n",
        "F2 = F[1,0,:]\n",
        "print(F2)\n",
        "F3 = F[1,0,2]\n",
        "print(F3)\n",
        "F4 = F[1:2,0,2]\n",
        "print(F4)"
      ],
      "execution_count": 0,
      "outputs": []
    },
    {
      "cell_type": "code",
      "metadata": {
        "ExecuteTime": {
          "end_time": "2019-12-10T17:56:54.900989Z",
          "start_time": "2019-12-10T17:56:54.885810Z"
        },
        "id": "391aqTDDMSTy",
        "colab_type": "code",
        "colab": {}
      },
      "source": [
        "print(F1.shape)\n",
        "print(F2.shape)\n",
        "print(F3.shape)\n",
        "print(F4.shape)"
      ],
      "execution_count": 0,
      "outputs": []
    },
    {
      "cell_type": "markdown",
      "metadata": {
        "ExecuteTime": {
          "end_time": "2017-11-24T10:48:34.642626",
          "start_time": "2017-11-24T10:48:34.638891"
        },
        "id": "899TYDnzMST0",
        "colab_type": "text"
      },
      "source": [
        "### Exercício: Explique as dimensões de cada array:\n",
        "\n",
        "F1:\n",
        "\n",
        "F2:\n",
        "\n",
        "F3:\n",
        "\n",
        "F4:"
      ]
    },
    {
      "cell_type": "markdown",
      "metadata": {
        "id": "fH6ljEU6MST0",
        "colab_type": "text"
      },
      "source": [
        "## Redução de eixo - aplicado a dois eixos simultâneos"
      ]
    },
    {
      "cell_type": "markdown",
      "metadata": {
        "id": "fXvsbU7NMST1",
        "colab_type": "text"
      },
      "source": [
        "Redução de eixo é quando a operação matricial resulta num array de menores dimensões.\n",
        "Com essas operações, calcula-se estatística de colunas, linhas, etc."
      ]
    },
    {
      "cell_type": "markdown",
      "metadata": {
        "ExecuteTime": {
          "end_time": "2017-11-24T10:48:34.647517",
          "start_time": "2017-11-24T10:48:34.644317"
        },
        "id": "yI5rJHi2MST1",
        "colab_type": "text"
      },
      "source": [
        "### Exercício: Calcule o valor médio das matrizes F[0] e F[1], com apenas um mean no comando F.mean(??)"
      ]
    },
    {
      "cell_type": "code",
      "metadata": {
        "ExecuteTime": {
          "end_time": "2017-11-24T10:48:34.647517",
          "start_time": "2017-11-24T10:48:34.644317"
        },
        "id": "JS4Ei3DLMST3",
        "colab_type": "code",
        "colab": {}
      },
      "source": [
        "print()"
      ],
      "execution_count": 0,
      "outputs": []
    },
    {
      "cell_type": "markdown",
      "metadata": {
        "id": "Kv7D4gcxMST5",
        "colab_type": "text"
      },
      "source": [
        "## Function - split - dados treino e validação"
      ]
    },
    {
      "cell_type": "markdown",
      "metadata": {
        "id": "v2e3VIe-MST5",
        "colab_type": "text"
      },
      "source": [
        "O exercício a seguir é para separar um conjunto de dados (dataset) em dois conjuntos, um\n",
        "de treinamento e outro de validação.\n",
        "\n",
        "\n",
        "Defina uma função que receba como entrada uma matriz, (dataset), onde cada linha é\n",
        "referente a uma amostra e cada coluna referente a um atributo das amostras. O número total de\n",
        "amostras é dado pelas linhas desta matriz.\n",
        "Outro parâmetro de entrada é o fator de split `split_factor`, que é um número real entre 0 e 1. \n",
        "A saída da função são duas matrizes: amostras de treinamento e amostras de validação. \n",
        "A matriz de treinamento contrá o número de linhas dado por `split_factor` vezes o número de amostras.\n",
        "A matriz de validação conterá o restante das amostras."
      ]
    },
    {
      "cell_type": "code",
      "metadata": {
        "ExecuteTime": {
          "end_time": "2017-11-24T10:48:34.659465",
          "start_time": "2017-11-24T10:48:34.654983"
        },
        "id": "oKpLsqlrMST7",
        "colab_type": "code",
        "colab": {}
      },
      "source": [
        "# Entrada, matriz contendo 10 amostras e 9 atributos\n",
        "aa = np.arange(90).reshape(10,9)\n",
        "print(aa)"
      ],
      "execution_count": 0,
      "outputs": []
    },
    {
      "cell_type": "code",
      "metadata": {
        "ExecuteTime": {
          "end_time": "2017-11-24T10:48:34.665589",
          "start_time": "2017-11-24T10:48:34.661245"
        },
        "id": "6FWfdvUVMST-",
        "colab_type": "code",
        "colab": {}
      },
      "source": [
        "# Saída da função t,v = split(aa, 0.8)  # utilizado split_factor de 80%\n",
        "t = np.arange(72).reshape(8,9)\n",
        "print(t)"
      ],
      "execution_count": 0,
      "outputs": []
    },
    {
      "cell_type": "code",
      "metadata": {
        "ExecuteTime": {
          "end_time": "2017-11-24T10:48:34.671172",
          "start_time": "2017-11-24T10:48:34.667187"
        },
        "id": "OLB_dSMZMSUB",
        "colab_type": "code",
        "colab": {}
      },
      "source": [
        "v = np.arange(72,90).reshape(2,9)\n",
        "print(v)"
      ],
      "execution_count": 0,
      "outputs": []
    },
    {
      "cell_type": "code",
      "metadata": {
        "ExecuteTime": {
          "end_time": "2017-11-24T10:48:34.679672",
          "start_time": "2017-11-24T10:48:34.672840"
        },
        "id": "nRKWJBFVMSUE",
        "colab_type": "code",
        "colab": {}
      },
      "source": [
        "# Evite o uso de laço explícito\n",
        "# Não utilize outras bibliotecas além do NumPy\n",
        "def split(dados, split_factor):\n",
        "    '''\n",
        "    divide a matriz dados em dois conjuntos:\n",
        "    matriz train: split_factor * n. de linhas de dados\n",
        "    matriz val: (1-split_factor) * n. de linhas de dados\n",
        "    parametros entrada:\n",
        "        dados: matriz de entrada\n",
        "        split_factor: entre 0. e 1. - fator de divisão em duas matrizes\n",
        "    parametros de saída:\n",
        "        train : matriz com as linhas iniciais de dados\n",
        "        val: matriz com as linhas restantes\n",
        "    '''\n",
        "    # insert your code here\n",
        "    train = val = 0\n",
        "    return train, val\n",
        "\n",
        "t,v = split(aa, 0.8)\n",
        "print('t=\\n', t)\n",
        "print('v=\\n', v)"
      ],
      "execution_count": 0,
      "outputs": []
    },
    {
      "cell_type": "markdown",
      "metadata": {
        "ExecuteTime": {
          "end_time": "2017-11-24T10:48:34.684472",
          "start_time": "2017-11-24T10:48:34.681557"
        },
        "id": "_TXI8yIKMSUH",
        "colab_type": "text"
      },
      "source": [
        "### Exercício: Teste sua função com outros valores"
      ]
    },
    {
      "cell_type": "code",
      "metadata": {
        "id": "2tHHs1p2MSUI",
        "colab_type": "code",
        "colab": {}
      },
      "source": [
        ""
      ],
      "execution_count": 0,
      "outputs": []
    },
    {
      "cell_type": "markdown",
      "metadata": {
        "id": "zKrfX7AAMSUK",
        "colab_type": "text"
      },
      "source": [
        "# Programação Orientada a Objetos"
      ]
    },
    {
      "cell_type": "markdown",
      "metadata": {
        "id": "n5-Ss6KmMSUK",
        "colab_type": "text"
      },
      "source": [
        "Documentação oficial: https://docs.python.org/3/tutorial/classes.html\n",
        "\n",
        "Forma clássica de definição de uma função:"
      ]
    },
    {
      "cell_type": "code",
      "metadata": {
        "ExecuteTime": {
          "end_time": "2017-11-24T10:48:34.691958",
          "start_time": "2017-11-24T10:48:34.686202"
        },
        "id": "HnJ__uYRMSUL",
        "colab_type": "code",
        "colab": {}
      },
      "source": [
        "data = np.array([13, 63, 5, 378, 58, 40])\n",
        "\n",
        "def avg(d):\n",
        "    return sum(d)/len(d)\n",
        "    \n",
        "avg(data)"
      ],
      "execution_count": 0,
      "outputs": []
    },
    {
      "cell_type": "markdown",
      "metadata": {
        "id": "5-VBaoQ1MSUN",
        "colab_type": "text"
      },
      "source": [
        "## Definição da classe, variáveis, inicialização e método"
      ]
    },
    {
      "cell_type": "markdown",
      "metadata": {
        "id": "MqKGNQgZMSUN",
        "colab_type": "text"
      },
      "source": [
        "Definição da classe `MyAvg`, contendo duas variávels: `id` (compartilhada) e `d`; inicialização e método `avg`.\n",
        "\n",
        "- **Classe** é uma forma de definir um tipo abstrato de dados\n",
        "- **Instância** de uma classe é chamada **objeto**\n",
        "- Operadores ou funções de uma classe são chamados **métodos**\n",
        "- **Variáveis de instância** são variáveis associadas à instância\n",
        "- **Variáveis de classe** são variáveis compartilhada com todas as instâncias da classe\n",
        "\n",
        "O nome de uma classe é usualmente escrita usando *Camel case* enquanto que métodos são\n",
        "escritos com caixa baixa."
      ]
    },
    {
      "cell_type": "code",
      "metadata": {
        "ExecuteTime": {
          "end_time": "2017-11-24T10:48:34.698207",
          "start_time": "2017-11-24T10:48:34.693790"
        },
        "id": "4AC0TG_7MSUO",
        "colab_type": "code",
        "colab": {}
      },
      "source": [
        "class MyAvg:\n",
        "    id = 0.33                # variável compartilhada com todas as instâncias\n",
        "    \n",
        "    def __init__(self,data):\n",
        "        self.d = data        # variável associada a cada instância \n",
        "        \n",
        "    def avg(self): # método para calcular a média\n",
        "        return sum(self.d)/len(self.d)"
      ],
      "execution_count": 0,
      "outputs": []
    },
    {
      "cell_type": "markdown",
      "metadata": {
        "ExecuteTime": {
          "end_time": "2017-09-28T22:37:21.312216Z",
          "start_time": "2017-09-28T22:37:21.306739Z"
        },
        "id": "YMUHj_0wMSUS",
        "colab_type": "text"
      },
      "source": [
        "Objetos `a` e `b` são instâncias da classe `MyAvg`.\n",
        "Instanciar uma classe é inicializá-la através da chamada ao método __init__:"
      ]
    },
    {
      "cell_type": "code",
      "metadata": {
        "ExecuteTime": {
          "end_time": "2017-11-24T10:48:34.702739",
          "start_time": "2017-11-24T10:48:34.699932"
        },
        "id": "Ie88SwRxMSUT",
        "colab_type": "code",
        "colab": {}
      },
      "source": [
        "a = MyAvg(data)\n",
        "b = MyAvg(2*data)"
      ],
      "execution_count": 0,
      "outputs": []
    },
    {
      "cell_type": "markdown",
      "metadata": {
        "id": "FIRJlxB-MSUV",
        "colab_type": "text"
      },
      "source": [
        "Aplicação do método `avg()`, retorna a média dos dados dos objetos a e b:"
      ]
    },
    {
      "cell_type": "code",
      "metadata": {
        "ExecuteTime": {
          "end_time": "2017-11-24T10:48:34.708357",
          "start_time": "2017-11-24T10:48:34.704485"
        },
        "id": "7EcXJ_kPMSUV",
        "colab_type": "code",
        "colab": {}
      },
      "source": [
        "print(a.avg())\n",
        "print(b.avg())"
      ],
      "execution_count": 0,
      "outputs": []
    },
    {
      "cell_type": "code",
      "metadata": {
        "ExecuteTime": {
          "end_time": "2017-11-24T10:48:34.713753",
          "start_time": "2017-11-24T10:48:34.710083"
        },
        "id": "ISpFZDSUMSUX",
        "colab_type": "code",
        "colab": {}
      },
      "source": [
        "# Imprima os valores dos dados associados aos objetos a e b:\n",
        "print(a)\n",
        "print(b)"
      ],
      "execution_count": 0,
      "outputs": []
    },
    {
      "cell_type": "code",
      "metadata": {
        "ExecuteTime": {
          "end_time": "2017-11-24T10:48:34.719368",
          "start_time": "2017-11-24T10:48:34.715338"
        },
        "id": "uhY-7Me3MSUZ",
        "colab_type": "code",
        "colab": {}
      },
      "source": [
        "# Imprima a variável compartilhada `id` de cada objeto a e b:\n",
        "print(a)\n",
        "print(b)"
      ],
      "execution_count": 0,
      "outputs": []
    },
    {
      "cell_type": "markdown",
      "metadata": {
        "id": "R4WdbrALMSUb",
        "colab_type": "text"
      },
      "source": [
        "## Herança de classe"
      ]
    },
    {
      "cell_type": "code",
      "metadata": {
        "ExecuteTime": {
          "end_time": "2017-11-24T10:48:34.724905",
          "start_time": "2017-11-24T10:48:34.721122"
        },
        "id": "0ObRRcygMSUc",
        "colab_type": "code",
        "colab": {}
      },
      "source": [
        "class MyAvgStd(MyAvg):\n",
        "    def var(self): # método adicional para calcular a variância\n",
        "        u = self.avg()\n",
        "        return np.sqrt(np.sum((self.d - u)**2)/len(self.d))"
      ],
      "execution_count": 0,
      "outputs": []
    },
    {
      "cell_type": "code",
      "metadata": {
        "ExecuteTime": {
          "end_time": "2017-11-24T10:48:34.729387",
          "start_time": "2017-11-24T10:48:34.726655"
        },
        "id": "CniCNgn1MSUe",
        "colab_type": "code",
        "colab": {}
      },
      "source": [
        "c = MyAvgStd(data)"
      ],
      "execution_count": 0,
      "outputs": []
    },
    {
      "cell_type": "code",
      "metadata": {
        "ExecuteTime": {
          "end_time": "2017-11-24T10:48:34.735547",
          "start_time": "2017-11-24T10:48:34.731136"
        },
        "id": "eIZWQrsvMSUg",
        "colab_type": "code",
        "colab": {}
      },
      "source": [
        "print('media:',c.avg())\n",
        "print('variancia:',c.var())"
      ],
      "execution_count": 0,
      "outputs": []
    },
    {
      "cell_type": "code",
      "metadata": {
        "ExecuteTime": {
          "end_time": "2017-11-24T10:48:34.739611",
          "start_time": "2017-11-24T10:48:34.737200"
        },
        "id": "LidBEooRMSUj",
        "colab_type": "code",
        "colab": {}
      },
      "source": [
        "# imprima os dados associados ao objeto c e a sua variável compartilhada id"
      ],
      "execution_count": 0,
      "outputs": []
    },
    {
      "cell_type": "markdown",
      "metadata": {
        "id": "7DzLiZ20MSUm",
        "colab_type": "text"
      },
      "source": [
        "### Exercício: convertendo a função `split` na classe `C_Split`"
      ]
    },
    {
      "cell_type": "markdown",
      "metadata": {
        "id": "DT2IR6feMSUp",
        "colab_type": "text"
      },
      "source": [
        "Implemente a classe `C_Split` para ter a mesma funcionalidade da função `split` feita acima"
      ]
    },
    {
      "cell_type": "code",
      "metadata": {
        "ExecuteTime": {
          "end_time": "2017-11-24T10:48:34.744816",
          "start_time": "2017-11-24T10:48:34.741384"
        },
        "id": "fO0Abl_aMSUq",
        "colab_type": "code",
        "colab": {}
      },
      "source": [
        "class C_Split():\n",
        "    def __init__(self,d):\n",
        "        pass\n",
        "    def split(self, split_factor ):\n",
        "        pass"
      ],
      "execution_count": 0,
      "outputs": []
    },
    {
      "cell_type": "code",
      "metadata": {
        "ExecuteTime": {
          "end_time": "2017-11-24T10:48:34.749098",
          "start_time": "2017-11-24T10:48:34.746587"
        },
        "id": "nSgr-Q5GMSUu",
        "colab_type": "code",
        "colab": {}
      },
      "source": [
        "#data_train_val = C_Split(aa)\n",
        "#train, val = data_train_val.split(0.8)"
      ],
      "execution_count": 0,
      "outputs": []
    },
    {
      "cell_type": "markdown",
      "metadata": {
        "id": "UpVuIMTYMSUw",
        "colab_type": "text"
      },
      "source": [
        "## Classe com métodos `__len__` e `__getitem__`"
      ]
    },
    {
      "cell_type": "markdown",
      "metadata": {
        "id": "kRj41fBWMSUx",
        "colab_type": "text"
      },
      "source": [
        "Uma classe com métodos `__len__` e `__getitem__` permite que os objetos possam ser indexados e calculado o seu número de elementos.\n",
        "\n",
        "Veja o exemplo a seguir:"
      ]
    },
    {
      "cell_type": "code",
      "metadata": {
        "ExecuteTime": {
          "end_time": "2017-11-24T10:48:34.755820",
          "start_time": "2017-11-24T10:48:34.750857"
        },
        "id": "nduyTIhIMSUy",
        "colab_type": "code",
        "colab": {}
      },
      "source": [
        "class Word():\n",
        "    def __init__(self, phrase):\n",
        "        self.wordlist = phrase.split() # separa frase em uma lista de palavras\n",
        "    \n",
        "    def __len__(self):\n",
        "        return len(self.wordlist)\n",
        "    \n",
        "    def __getitem__(self,x):\n",
        "        return self.wordlist[x]"
      ],
      "execution_count": 0,
      "outputs": []
    },
    {
      "cell_type": "code",
      "metadata": {
        "ExecuteTime": {
          "end_time": "2017-11-24T10:48:34.760433",
          "start_time": "2017-11-24T10:48:34.757750"
        },
        "id": "--4uidd4MSUz",
        "colab_type": "code",
        "colab": {}
      },
      "source": [
        "frase = 'Esta frase é formada por 7 palavras'\n",
        "palavras = Word(frase)"
      ],
      "execution_count": 0,
      "outputs": []
    },
    {
      "cell_type": "code",
      "metadata": {
        "ExecuteTime": {
          "end_time": "2017-11-24T10:48:34.766299",
          "start_time": "2017-11-24T10:48:34.762252"
        },
        "id": "D7qIQyWuMSU0",
        "colab_type": "code",
        "colab": {}
      },
      "source": [
        "palavras[3]  # permite a indexação do objeto"
      ],
      "execution_count": 0,
      "outputs": []
    },
    {
      "cell_type": "code",
      "metadata": {
        "ExecuteTime": {
          "end_time": "2017-11-24T10:48:34.771384",
          "start_time": "2017-11-24T10:48:34.767972"
        },
        "id": "-tPEemreMSU2",
        "colab_type": "code",
        "colab": {}
      },
      "source": [
        "print(len(palavras))"
      ],
      "execution_count": 0,
      "outputs": []
    },
    {
      "cell_type": "markdown",
      "metadata": {
        "id": "4CsQteY1MSU3",
        "colab_type": "text"
      },
      "source": [
        "### Exercício para indexar elementos de um dicionário"
      ]
    },
    {
      "cell_type": "markdown",
      "metadata": {
        "id": "c21kGn2SMSU4",
        "colab_type": "text"
      },
      "source": [
        "Um dicionário em Python não é indexado. Por exemplo seja o dicionário `d` a seguir.\n",
        "Não é possível indexar d[0] ou d[1] para buscar o primeiro ou segundo par (chave:valor)."
      ]
    },
    {
      "cell_type": "code",
      "metadata": {
        "ExecuteTime": {
          "end_time": "2017-11-24T10:48:34.775919",
          "start_time": "2017-11-24T10:48:34.773248"
        },
        "id": "afekUx4-MSU5",
        "colab_type": "code",
        "colab": {}
      },
      "source": [
        "d = {'a':1,'b': 2}"
      ],
      "execution_count": 0,
      "outputs": []
    },
    {
      "cell_type": "markdown",
      "metadata": {
        "id": "sg5rZwCnMSU7",
        "colab_type": "text"
      },
      "source": [
        "Implementar uma classe que receba um dicionário e permita que ele possa ser indexado.\n",
        "Para converter um dicionário em uma lista de pares, use:"
      ]
    },
    {
      "cell_type": "code",
      "metadata": {
        "ExecuteTime": {
          "end_time": "2017-11-24T10:48:34.781948",
          "start_time": "2017-11-24T10:48:34.777863"
        },
        "id": "J2St20UFMSU8",
        "colab_type": "code",
        "colab": {}
      },
      "source": [
        "list(d.items())"
      ],
      "execution_count": 0,
      "outputs": []
    },
    {
      "cell_type": "markdown",
      "metadata": {
        "id": "TkZs14kAMSU9",
        "colab_type": "text"
      },
      "source": [
        "Complete a definição da classe `dicdata` a seguir para que um dicionário possa ser\n",
        "indexado:"
      ]
    },
    {
      "cell_type": "code",
      "metadata": {
        "ExecuteTime": {
          "end_time": "2017-11-24T10:48:34.788040",
          "start_time": "2017-11-24T10:48:34.783585"
        },
        "id": "n3Lnph3NMSU9",
        "colab_type": "code",
        "colab": {}
      },
      "source": [
        "class DicData():\n",
        "    def __init__(self, dic):\n",
        "        print('a definir')\n",
        "        \n",
        "    def __len__(self):\n",
        "        print('a definir')\n",
        "        \n",
        "    def __getitem__(self):\n",
        "        print('a definir')"
      ],
      "execution_count": 0,
      "outputs": []
    },
    {
      "cell_type": "code",
      "metadata": {
        "ExecuteTime": {
          "end_time": "2017-11-24T10:48:34.816082",
          "start_time": "2017-11-24T10:48:34.789694"
        },
        "id": "LbD_HjcFMSVA",
        "colab_type": "code",
        "colab": {}
      },
      "source": [
        "dd = DicData(d)\n",
        "#print(len(dd))\n",
        "#print(dd[0])"
      ],
      "execution_count": 0,
      "outputs": []
    },
    {
      "cell_type": "markdown",
      "metadata": {
        "id": "2E33Qw4bMSVB",
        "colab_type": "text"
      },
      "source": [
        "## Iteradores"
      ]
    },
    {
      "cell_type": "markdown",
      "metadata": {
        "id": "TFuacPoMMSVB",
        "colab_type": "text"
      },
      "source": [
        "Iteradores são uteis para serem usados em estruturas do tipo `for a in b:`.\n",
        "\n",
        "Listas em Python são consideradas iteráveis, pois podem ser utilizadas nessa estrutura:"
      ]
    },
    {
      "cell_type": "code",
      "metadata": {
        "ExecuteTime": {
          "end_time": "2017-11-24T10:48:34.821690",
          "start_time": "2017-11-24T10:48:34.817887"
        },
        "id": "dR1W89hUMSVC",
        "colab_type": "code",
        "colab": {}
      },
      "source": [
        "for i in ['a', 'b', 'c']:\n",
        "    print(i)"
      ],
      "execution_count": 0,
      "outputs": []
    },
    {
      "cell_type": "markdown",
      "metadata": {
        "id": "FcQcnt9iMSVE",
        "colab_type": "text"
      },
      "source": [
        "O método do `range()` do python também é um iterável:"
      ]
    },
    {
      "cell_type": "code",
      "metadata": {
        "ExecuteTime": {
          "end_time": "2017-11-24T10:48:34.827296",
          "start_time": "2017-11-24T10:48:34.823318"
        },
        "id": "hX0bZnu0MSVE",
        "colab_type": "code",
        "colab": {}
      },
      "source": [
        "for i in range(3):\n",
        "    print(i)"
      ],
      "execution_count": 0,
      "outputs": []
    },
    {
      "cell_type": "markdown",
      "metadata": {
        "id": "_o65EfomMSVF",
        "colab_type": "text"
      },
      "source": [
        "É possível acessar o iterador destas estruturas utilizando o método `iter()` do Python e então é possível percorrer seus elementos utilizado `next()`:"
      ]
    },
    {
      "cell_type": "code",
      "metadata": {
        "ExecuteTime": {
          "end_time": "2017-11-24T10:48:34.834575",
          "start_time": "2017-11-24T10:48:34.829061"
        },
        "id": "ssh4QpCUMSVG",
        "colab_type": "code",
        "colab": {}
      },
      "source": [
        "lista = ['a', 'b', 'c']\n",
        "iterador = iter(lista)\n",
        "print('tipo de iterador:', type(lista))\n",
        "print('tipo de iterador:', type(iterador))\n",
        "print(next(iterador))"
      ],
      "execution_count": 0,
      "outputs": []
    },
    {
      "cell_type": "markdown",
      "metadata": {
        "id": "XXQzpz22MSVH",
        "colab_type": "text"
      },
      "source": [
        "O acesso de iteradores é sequencial e após o ultimo elemento uma exceção é levantada indicando o fim do iterador.\n",
        "Descomente o último `next` e veja o tipo da exceção que acontece."
      ]
    },
    {
      "cell_type": "code",
      "metadata": {
        "ExecuteTime": {
          "end_time": "2017-11-24T10:48:34.840458",
          "start_time": "2017-11-24T10:48:34.836436"
        },
        "id": "VmvwtldmMSVI",
        "colab_type": "code",
        "colab": {}
      },
      "source": [
        "print(next(iterador))\n",
        "print(next(iterador))\n",
        "#print(next(iterador))"
      ],
      "execution_count": 0,
      "outputs": []
    },
    {
      "cell_type": "markdown",
      "metadata": {
        "id": "cko9xrCYMSVJ",
        "colab_type": "text"
      },
      "source": [
        "## Criando objetos iteráveis"
      ]
    },
    {
      "cell_type": "markdown",
      "metadata": {
        "id": "sn8MEdHdMSVJ",
        "colab_type": "text"
      },
      "source": [
        "Para implementar um objeto iterador é preciso escrever um método `__next__()` para a classe e para que ele seja acessível como iterável também é necessário escrever um método `__iter__()`: "
      ]
    },
    {
      "cell_type": "code",
      "metadata": {
        "ExecuteTime": {
          "end_time": "2017-11-24T10:48:34.848707",
          "start_time": "2017-11-24T10:48:34.842063"
        },
        "id": "DWEIOiPdMSVK",
        "colab_type": "code",
        "colab": {}
      },
      "source": [
        "class WordIterator():\n",
        "    def __init__(self, phrase):\n",
        "        self.words = phrase.split()\n",
        "        \n",
        "    def __iter__(self):\n",
        "        self.iter_index = 0\n",
        "        return self\n",
        "    \n",
        "    def __next__(self):\n",
        "        if self.iter_index < len(self.words):\n",
        "            i = self.iter_index\n",
        "            self.iter_index += 1\n",
        "            return self.words[i]\n",
        "        else:\n",
        "            raise StopIteration()"
      ],
      "execution_count": 0,
      "outputs": []
    },
    {
      "cell_type": "markdown",
      "metadata": {
        "id": "Og-ad8kNMSVL",
        "colab_type": "text"
      },
      "source": [
        "A classe acima é um iterador e é iterável. \n",
        "\n",
        "No método `__iter__()` reiniciamos o índice inicial para o iterador e retornamos o próprio objeto (um iterador).\n",
        "\n",
        "No método `__next__()` retornamos a palavra do índice atual ou a exceção de parada, caso seja o fim."
      ]
    },
    {
      "cell_type": "code",
      "metadata": {
        "ExecuteTime": {
          "end_time": "2017-11-24T10:48:34.853670",
          "start_time": "2017-11-24T10:48:34.850613"
        },
        "id": "NKrs4a5TMSVL",
        "colab_type": "code",
        "colab": {}
      },
      "source": [
        "frase = 'Esta frase é formada por 7 palavras'\n",
        "iterador_de_palavras = WordIterator(frase)"
      ],
      "execution_count": 0,
      "outputs": []
    },
    {
      "cell_type": "code",
      "metadata": {
        "ExecuteTime": {
          "end_time": "2017-11-24T10:48:34.860627",
          "start_time": "2017-11-24T10:48:34.855389"
        },
        "id": "cWRzfljFMSVN",
        "colab_type": "code",
        "colab": {}
      },
      "source": [
        "for palavra in iterador_de_palavras:\n",
        "    print(palavra)"
      ],
      "execution_count": 0,
      "outputs": []
    },
    {
      "cell_type": "markdown",
      "metadata": {
        "id": "Cp7Je1wXMSVP",
        "colab_type": "text"
      },
      "source": [
        "### Exercício com iterador"
      ]
    },
    {
      "cell_type": "markdown",
      "metadata": {
        "ExecuteTime": {
          "end_time": "2017-09-29T11:41:50.515551",
          "start_time": "2017-09-29T11:41:50.483441"
        },
        "id": "tSZHu5b_MSVQ",
        "colab_type": "text"
      },
      "source": [
        "Crie uma classe `DictIterator` que permita varrer os itens de um dicionário utilizando o `for`"
      ]
    },
    {
      "cell_type": "code",
      "metadata": {
        "ExecuteTime": {
          "end_time": "2017-11-24T10:48:34.867197",
          "start_time": "2017-11-24T10:48:34.862428"
        },
        "id": "22xdh6VAMSVQ",
        "colab_type": "code",
        "colab": {}
      },
      "source": [
        "class DictIterator():\n",
        "    def __init__(self, dict):\n",
        "        print('a definir')\n",
        "    def __iter__(self):\n",
        "        print('a definir')\n",
        "    def __next__(self):\n",
        "        print('a definir')"
      ],
      "execution_count": 0,
      "outputs": []
    },
    {
      "cell_type": "code",
      "metadata": {
        "ExecuteTime": {
          "end_time": "2017-11-24T10:48:34.873303",
          "start_time": "2017-11-24T10:48:34.868889"
        },
        "id": "5jCSeIBXMSVS",
        "colab_type": "code",
        "colab": {}
      },
      "source": [
        "d = {'a':1,'b': 2, 'c': 3}\n",
        "d_iter = DictIterator(d)\n",
        "#for i in d_iter:\n",
        "#    print(i)"
      ],
      "execution_count": 0,
      "outputs": []
    },
    {
      "cell_type": "markdown",
      "metadata": {
        "id": "P8HXFqYGMSVT",
        "colab_type": "text"
      },
      "source": [
        "## Objeto como função"
      ]
    },
    {
      "cell_type": "markdown",
      "metadata": {
        "ExecuteTime": {
          "end_time": "2017-09-29T14:25:18.470914",
          "start_time": "2017-09-29T14:25:18.467088"
        },
        "id": "IBVxctVoMSVU",
        "colab_type": "text"
      },
      "source": [
        "É possível declarar uma classe contendo um objeto possa ser chamado (*callable object*).\n",
        "Para isso, a classe deve conter o método `__call__`. Veja o exemplo a seguir:"
      ]
    },
    {
      "cell_type": "code",
      "metadata": {
        "ExecuteTime": {
          "end_time": "2017-11-24T10:48:34.878801",
          "start_time": "2017-11-24T10:48:34.875191"
        },
        "id": "eEiTWeraMSVU",
        "colab_type": "code",
        "colab": {}
      },
      "source": [
        "class Scale():\n",
        "    def __init__(self, w):\n",
        "        self._w = w\n",
        "    def __call__(self, x):\n",
        "        return x * self._w"
      ],
      "execution_count": 0,
      "outputs": []
    },
    {
      "cell_type": "code",
      "metadata": {
        "ExecuteTime": {
          "end_time": "2017-11-24T10:48:34.884098",
          "start_time": "2017-11-24T10:48:34.880506"
        },
        "id": "JSF1vVoIMSVW",
        "colab_type": "code",
        "colab": {}
      },
      "source": [
        "s = Scale(100.)\n",
        "print(s(5))\n"
      ],
      "execution_count": 0,
      "outputs": []
    },
    {
      "cell_type": "markdown",
      "metadata": {
        "id": "DtBmE3QIMSVW",
        "colab_type": "text"
      },
      "source": [
        "### Exercício de classe contendo objeto chamável"
      ]
    },
    {
      "cell_type": "markdown",
      "metadata": {
        "id": "inaXzH6OMSVX",
        "colab_type": "text"
      },
      "source": [
        "Defina uma classe herdada da classe `Scale` que permita modificar a variável `self._w`."
      ]
    },
    {
      "cell_type": "code",
      "metadata": {
        "ExecuteTime": {
          "end_time": "2017-11-24T10:48:34.888869",
          "start_time": "2017-11-24T10:48:34.885999"
        },
        "id": "9JwTjv6MMSVY",
        "colab_type": "code",
        "colab": {}
      },
      "source": [
        "class AjustaPeso(Scale):\n",
        "    def wset():\n",
        "        print('a preencher')"
      ],
      "execution_count": 0,
      "outputs": []
    },
    {
      "cell_type": "code",
      "metadata": {
        "ExecuteTime": {
          "end_time": "2017-11-24T10:48:34.894058",
          "start_time": "2017-11-24T10:48:34.890663"
        },
        "id": "wZH-xe5iMSVZ",
        "colab_type": "code",
        "colab": {}
      },
      "source": [
        "ap = AjustaPeso(100.)\n",
        "print(ap(5))"
      ],
      "execution_count": 0,
      "outputs": []
    },
    {
      "cell_type": "code",
      "metadata": {
        "ExecuteTime": {
          "end_time": "2017-11-24T10:48:34.898077",
          "start_time": "2017-11-24T10:48:34.895632"
        },
        "id": "TDdeR-XxMSVb",
        "colab_type": "code",
        "colab": {}
      },
      "source": [
        "#ap.wset(10)\n",
        "#print(ap(5))"
      ],
      "execution_count": 0,
      "outputs": []
    },
    {
      "cell_type": "markdown",
      "metadata": {
        "id": "U5CCtH8bMSVc",
        "colab_type": "text"
      },
      "source": [
        "# Fim do notebook"
      ]
    },
    {
      "cell_type": "code",
      "metadata": {
        "id": "QKi4jM45MSVd",
        "colab_type": "code",
        "colab": {}
      },
      "source": [
        ""
      ],
      "execution_count": 0,
      "outputs": []
    }
  ]
}