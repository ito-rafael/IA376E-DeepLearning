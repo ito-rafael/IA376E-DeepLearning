{
  "nbformat": 4,
  "nbformat_minor": 0,
  "metadata": {
    "kernelspec": {
      "display_name": "Python 3",
      "language": "python",
      "name": "python3"
    },
    "language_info": {
      "codemirror_mode": {
        "name": "ipython",
        "version": 3
      },
      "file_extension": ".py",
      "mimetype": "text/x-python",
      "name": "python",
      "nbconvert_exporter": "python",
      "pygments_lexer": "ipython3",
      "version": "3.8.0"
    },
    "toc": {
      "base_numbering": 1,
      "nav_menu": {
        "height": "354px",
        "width": "252px"
      },
      "number_sections": true,
      "sideBar": true,
      "skip_h1_title": false,
      "title_cell": "Table of Contents",
      "title_sidebar": "Contents",
      "toc_cell": false,
      "toc_position": {},
      "toc_section_display": "block",
      "toc_window_display": false
    },
    "varInspector": {
      "cols": {
        "lenName": 16,
        "lenType": 16,
        "lenVar": 40
      },
      "kernels_config": {
        "python": {
          "delete_cmd_postfix": "",
          "delete_cmd_prefix": "del ",
          "library": "var_list.py",
          "varRefreshCmd": "print(var_dic_list())"
        },
        "r": {
          "delete_cmd_postfix": ") ",
          "delete_cmd_prefix": "rm(",
          "library": "var_list.r",
          "varRefreshCmd": "cat(var_dic_list()) "
        }
      },
      "types_to_exclude": [
        "module",
        "function",
        "builtin_function_or_method",
        "instance",
        "_Feature"
      ],
      "window_display": false
    },
    "colab": {
      "name": "ExercicioIntrodutorio.ipynb",
      "provenance": [],
      "collapsed_sections": [
        "bwSwnyhhMSRQ",
        "4OYCr9_eMSTE",
        "899TYDnzMST0"
      ],
      "include_colab_link": true
    }
  },
  "cells": [
    {
      "cell_type": "markdown",
      "metadata": {
        "id": "view-in-github",
        "colab_type": "text"
      },
      "source": [
        "<a href=\"https://colab.research.google.com/github/ito-rafael/IA376E-DeepLearning/blob/master/ExercicioIntrodutorio.ipynb\" target=\"_parent\"><img src=\"https://colab.research.google.com/assets/colab-badge.svg\" alt=\"Open In Colab\"/></a>"
      ]
    },
    {
      "cell_type": "markdown",
      "metadata": {
        "id": "xQgBN6DgMSPQ",
        "colab_type": "text"
      },
      "source": [
        "# Curso Deep Learning - Exercício pré-curso Python - NumPy"
      ]
    },
    {
      "cell_type": "markdown",
      "metadata": {
        "id": "-ePBdHRoMSPV",
        "colab_type": "text"
      },
      "source": [
        "Este é um notebook Jupyter contendo exercícios de programação matricial utilizando o Python e biblioteca NumPy.\n",
        "Estes exercícios servem para verificar os conhecimentos da linguagem Python para manipulação matricial com a biblioteca NumPy.\n",
        "\n",
        "Esta lista de exercício é um guia de estudo. Para fazer os exercícios será necessário estudar o Python e NumPy, consultar documentação e tutoriais disponíveis na Internet."
      ]
    },
    {
      "cell_type": "markdown",
      "metadata": {
        "id": "KoTx6Ld_MSPZ",
        "colab_type": "text"
      },
      "source": [
        "### Python"
      ]
    },
    {
      "cell_type": "markdown",
      "metadata": {
        "id": "4DPypPUfMSPc",
        "colab_type": "text"
      },
      "source": [
        "Estes exercícios devem ser feitos com o Python 3.\n",
        "Recomenda-se utilizar o Google Colab para fazer esses exercícios (https://colab.research.google.com/)  ou instalar o Jupyter e o Python utilizando-se o [Anaconda](https://www.continuum.io/downloads) - uma distribuição focada em Data Science, contendo os principais pacotes usados nesta área."
      ]
    },
    {
      "cell_type": "markdown",
      "metadata": {
        "id": "LRfvHXoWMSPf",
        "colab_type": "text"
      },
      "source": [
        "### Jupyter notebook"
      ]
    },
    {
      "cell_type": "markdown",
      "metadata": {
        "id": "4-TbSjRYMSPk",
        "colab_type": "text"
      },
      "source": [
        "Este é um Notebook Jupyter. Um notebook Jupyter é uma mistura de linguagem Markdown para formatar texto (como uma Wiki) e um programa Python. É muito usado entre as pessoas que trabalham com Data Science e Machine Learning em Python.\n",
        "\n",
        "Se utilizar o Jupyter notebook, instale o Jupyter nbextensions que é um conjunto de ferramentas auxiliares. Habilite o \"Table of Contents\" do nbextensions para que este notebook fique itemizado. Para o Google Colab, não é possível instalar o nbextensions."
      ]
    },
    {
      "cell_type": "markdown",
      "metadata": {
        "id": "65T3jr5zMSPm",
        "colab_type": "text"
      },
      "source": [
        "Você pode adicionar quantas células quiser neste notebook para deixar suas respostas bem organizadas."
      ]
    },
    {
      "cell_type": "markdown",
      "metadata": {
        "id": "kG3mSt8-MSPp",
        "colab_type": "text"
      },
      "source": [
        "# Exercícios básicos"
      ]
    },
    {
      "cell_type": "markdown",
      "metadata": {
        "id": "rL_1XfkeMSPs",
        "colab_type": "text"
      },
      "source": [
        "Vamos começar! Comece imprimindo seu nome e e-mail aqui:"
      ]
    },
    {
      "cell_type": "code",
      "metadata": {
        "id": "IgjoZw9SM6-7",
        "colab_type": "code",
        "colab": {}
      },
      "source": [
        "NAME = 'Rafael Claro Ito'\n",
        "EMAIL = 'ito.rafael@gmail.com'"
      ],
      "execution_count": 0,
      "outputs": []
    },
    {
      "cell_type": "code",
      "metadata": {
        "ExecuteTime": {
          "end_time": "2019-12-10T17:56:39.571965Z",
          "start_time": "2019-12-10T17:56:39.553102Z"
        },
        "id": "bkjrF4uDMSPt",
        "colab_type": "code",
        "outputId": "7125c24d-2914-446a-a2e4-55ed43b138d4",
        "colab": {
          "base_uri": "https://localhost:8080/",
          "height": 55
        }
      },
      "source": [
        "# preencha com seus dados\n",
        "print('My name is ', NAME, sep='')\n",
        "print('My email is ', EMAIL, sep='')"
      ],
      "execution_count": 2,
      "outputs": [
        {
          "output_type": "stream",
          "text": [
            "My name is Rafael Claro Ito\n",
            "My email is ito.rafael@gmail.com\n"
          ],
          "name": "stdout"
        }
      ]
    },
    {
      "cell_type": "markdown",
      "metadata": {
        "id": "db71HRBAMSP0",
        "colab_type": "text"
      },
      "source": [
        "## Listas"
      ]
    },
    {
      "cell_type": "markdown",
      "metadata": {
        "ExecuteTime": {
          "end_time": "2017-07-11T19:32:04.310368",
          "start_time": "2017-07-11T19:32:04.302283"
        },
        "id": "sPM1ZeHEMSP3",
        "colab_type": "text"
      },
      "source": [
        "Iremos utilizar muitas listas no curso Deep Learning.\n",
        "Seguem alguns exercícios com lista. Python é muito bom para processar listas. Uma lista é uma sequência de elementos \n",
        "separados por vírgula dentro de chaves:"
      ]
    },
    {
      "cell_type": "code",
      "metadata": {
        "ExecuteTime": {
          "end_time": "2019-12-10T17:56:39.584119Z",
          "start_time": "2019-12-10T17:56:39.577266Z"
        },
        "id": "TZ2lJf3kMSP5",
        "colab_type": "code",
        "colab": {}
      },
      "source": [
        "mylist = [5, 8, 'abc', 0, 8.3]"
      ],
      "execution_count": 0,
      "outputs": []
    },
    {
      "cell_type": "markdown",
      "metadata": {
        "ExecuteTime": {
          "end_time": "2017-07-11T19:20:42.951254",
          "start_time": "2017-07-11T19:20:42.947609"
        },
        "id": "7VdhzrD6MSQA",
        "colab_type": "text"
      },
      "source": [
        "### Imprimindo o número de elementos de uma `mylist` e alguns de seus elementos. Veja como isso pode ser feito."
      ]
    },
    {
      "cell_type": "code",
      "metadata": {
        "ExecuteTime": {
          "end_time": "2019-12-10T17:56:39.600238Z",
          "start_time": "2019-12-10T17:56:39.589826Z"
        },
        "id": "vYeK8FNlMSQC",
        "colab_type": "code",
        "outputId": "662ac592-c357-4d37-e5ff-0fb6b54710db",
        "colab": {
          "base_uri": "https://localhost:8080/",
          "height": 74
        }
      },
      "source": [
        "print(len(mylist))\n",
        "print(mylist[0])\n",
        "print(mylist[-1])  # observe o índice -1 (o que isso significa?)\n",
        "\n",
        "# o índice negativo pega os elementos da lista de trás para frente. Ex:\n",
        "# - índice '-1': último elemento da lista\n",
        "# - índice '-2': penúltimo elemento da lista"
      ],
      "execution_count": 4,
      "outputs": [
        {
          "output_type": "stream",
          "text": [
            "5\n",
            "5\n",
            "8.3\n"
          ],
          "name": "stdout"
        }
      ]
    },
    {
      "cell_type": "markdown",
      "metadata": {
        "id": "YNbdidDGMSQG",
        "colab_type": "text"
      },
      "source": [
        "## Seja uma lista de 10 elementos numéricos sequenciais, começando em zero"
      ]
    },
    {
      "cell_type": "markdown",
      "metadata": {
        "id": "4mtMjRKcMSQI",
        "colab_type": "text"
      },
      "source": [
        "O código a seguir é típico para criar uma lista com os 10 primeiros inteiros maiores ou iguais a zero: inicializa-se lista vazia, para cada i entre 0 e menor que 10, faz append na lista a:"
      ]
    },
    {
      "cell_type": "code",
      "metadata": {
        "ExecuteTime": {
          "end_time": "2019-12-10T17:56:39.613751Z",
          "start_time": "2019-12-10T17:56:39.604994Z"
        },
        "id": "h6DL1nF5MSQL",
        "colab_type": "code",
        "outputId": "17591cec-7c21-4cfe-b480-d536c582b9f6",
        "colab": {
          "base_uri": "https://localhost:8080/",
          "height": 36
        }
      },
      "source": [
        "a = []\n",
        "for i in range(10):\n",
        "    a.append(i)\n",
        "print(a)"
      ],
      "execution_count": 5,
      "outputs": [
        {
          "output_type": "stream",
          "text": [
            "[0, 1, 2, 3, 4, 5, 6, 7, 8, 9]\n"
          ],
          "name": "stdout"
        }
      ]
    },
    {
      "cell_type": "markdown",
      "metadata": {
        "id": "LsBO_Ue2MSQQ",
        "colab_type": "text"
      },
      "source": [
        "## List Comprehension"
      ]
    },
    {
      "cell_type": "markdown",
      "metadata": {
        "id": "H8aE1VM6MSQS",
        "colab_type": "text"
      },
      "source": [
        "Esta mesma lista pode ser criada utilizando a construção denominada \"List Comprehension\" ou\n",
        "\"Compreensão de Lista\" em portugues. Coloque este termo no Google adicionando python na frente na forma:\n",
        "\"python comprehension list\" e você poderá ver vários exemplos e tutoriais sobre o assunto. É uma forma compacta que fazer um append iterativo numa lista:\n",
        "\n",
        "Veja como o trecho acima foi reduzido para uma linha apenas:"
      ]
    },
    {
      "cell_type": "code",
      "metadata": {
        "ExecuteTime": {
          "end_time": "2019-12-10T17:56:39.624474Z",
          "start_time": "2019-12-10T17:56:39.616642Z"
        },
        "id": "8PmtYtFIMSQT",
        "colab_type": "code",
        "outputId": "a93bb3e3-ba0b-46d2-90c5-71bc8bd09a62",
        "colab": {
          "base_uri": "https://localhost:8080/",
          "height": 36
        }
      },
      "source": [
        "a = [i for i in range(10)]\n",
        "print(a)"
      ],
      "execution_count": 6,
      "outputs": [
        {
          "output_type": "stream",
          "text": [
            "[0, 1, 2, 3, 4, 5, 6, 7, 8, 9]\n"
          ],
          "name": "stdout"
        }
      ]
    },
    {
      "cell_type": "markdown",
      "metadata": {
        "id": "7bOaKDSiMSQZ",
        "colab_type": "text"
      },
      "source": [
        "### Analise o trecho de programa a seguir:"
      ]
    },
    {
      "cell_type": "code",
      "metadata": {
        "ExecuteTime": {
          "end_time": "2019-12-10T17:56:39.643842Z",
          "start_time": "2019-12-10T17:56:39.628664Z"
        },
        "id": "04OM3cL1MSQc",
        "colab_type": "code",
        "outputId": "eadea2e5-7848-4c90-8d6b-e5a2fc9e209b",
        "colab": {
          "base_uri": "https://localhost:8080/",
          "height": 36
        }
      },
      "source": [
        "m_list = ['r', 'i', 'c', 'a', 'r', 'd', 'o']\n",
        "new_list = []\n",
        "for k,item in enumerate(m_list):\n",
        "    new_list.append(str(k) + item)\n",
        "print(new_list)"
      ],
      "execution_count": 7,
      "outputs": [
        {
          "output_type": "stream",
          "text": [
            "['0r', '1i', '2c', '3a', '4r', '5d', '6o']\n"
          ],
          "name": "stdout"
        }
      ]
    },
    {
      "cell_type": "markdown",
      "metadata": {
        "id": "k1HjFaaLMSQj",
        "colab_type": "text"
      },
      "source": [
        "- Explique o que o enumerate faz no programa acima:\n",
        "\n",
        "Explicação:"
      ]
    },
    {
      "cell_type": "markdown",
      "metadata": {
        "id": "go3uivy3SQ8w",
        "colab_type": "text"
      },
      "source": [
        "'enumerate()' é uma função nativa (built-in) do Python. É usada para adicionar um contador em um objeto iterável ou sequência.\n",
        "\n",
        "Ex: seja 'iter' um objeto iterável.\n",
        "enumerate(iter) retornará: (0, iter[0]), (1, iter[1]), (2, iter[0]), ...\n",
        "\n",
        "É utilizado quando é necessário uma contagem de iterações e para deixar certos loops mais claros.\n",
        "\n",
        "No programa acima, enumerate cria um contador 'k' do tipo inteiro correspondente aos elementos da lista 'm_list', que são do tipo string, representados pela variável 'item'.\n"
      ]
    },
    {
      "cell_type": "markdown",
      "metadata": {
        "id": "tNagcs5AMSQl",
        "colab_type": "text"
      },
      "source": [
        "### Repita o mesmo trecho acima de criar a lista new_list, porém utilizando list comprehension:\n",
        "   "
      ]
    },
    {
      "cell_type": "code",
      "metadata": {
        "ExecuteTime": {
          "end_time": "2019-12-10T17:56:39.657736Z",
          "start_time": "2019-12-10T17:56:39.650100Z"
        },
        "id": "wPTcMIpoMSQn",
        "colab_type": "code",
        "outputId": "31a4cab3-6e97-4db6-f823-976c708fb8bb",
        "colab": {
          "base_uri": "https://localhost:8080/",
          "height": 36
        }
      },
      "source": [
        "m_list = ['r', 'i', 'c', 'a', 'r', 'd', 'o']\n",
        "n_list = [str(k) + item for k,item in enumerate(m_list)] # utilize aqui o list comprehension\n",
        "print(n_list)"
      ],
      "execution_count": 8,
      "outputs": [
        {
          "output_type": "stream",
          "text": [
            "['0r', '1i', '2c', '3a', '4r', '5d', '6o']\n"
          ],
          "name": "stdout"
        }
      ]
    },
    {
      "cell_type": "markdown",
      "metadata": {
        "id": "emeJBXlfMSQq",
        "colab_type": "text"
      },
      "source": [
        "## Fatiamento em Python"
      ]
    },
    {
      "cell_type": "markdown",
      "metadata": {
        "id": "OMh-T41aMSQr",
        "colab_type": "text"
      },
      "source": [
        "Um conceito fundamental em Python é o do fatiamento \"slicing\", em inglês. É um conceito que será muito usado\n",
        "durante todo o curso. Estude bem isso. Inicialmente iremos trabalhar com fatiamento de lista, mas posteriormente\n",
        "com arrays (ou tensores) utilizando o NumPy"
      ]
    },
    {
      "cell_type": "code",
      "metadata": {
        "ExecuteTime": {
          "end_time": "2019-12-10T17:56:39.666017Z",
          "start_time": "2019-12-10T17:56:39.661198Z"
        },
        "id": "xRU0HvsRMSQu",
        "colab_type": "code",
        "outputId": "85bdfeb2-deaf-4875-d5db-c439723a61c1",
        "colab": {
          "base_uri": "https://localhost:8080/",
          "height": 36
        }
      },
      "source": [
        "print(a[3:5])"
      ],
      "execution_count": 9,
      "outputs": [
        {
          "output_type": "stream",
          "text": [
            "[3, 4]\n"
          ],
          "name": "stdout"
        }
      ]
    },
    {
      "cell_type": "markdown",
      "metadata": {
        "id": "7GcwL0cGMSQz",
        "colab_type": "text"
      },
      "source": [
        "### Veja como criar e imprimir uma lista a partir da lista \"a\" já criada, porém apenas alguns elementos"
      ]
    },
    {
      "cell_type": "code",
      "metadata": {
        "ExecuteTime": {
          "end_time": "2019-12-10T17:56:39.676947Z",
          "start_time": "2019-12-10T17:56:39.670923Z"
        },
        "id": "4qLkv-VFMSQ1",
        "colab_type": "code",
        "outputId": "fc8cc717-ee81-41fe-806a-db8a7f371de1",
        "colab": {
          "base_uri": "https://localhost:8080/",
          "height": 130
        }
      },
      "source": [
        "# imprima os elementos ímpares de a\n",
        "print([odd for odd in a if odd % 2 == 1])     # Using List Comprehension\n",
        "print(a[1::2])                                # Using index (order matters)\n",
        "# imprima os elementos pares de a\n",
        "print([even for even in a if even % 2 == 0])  # Using List Comprehension\n",
        "print(a[::2])                                 # Using index (order matters)\n",
        "# imprima os últimos 3 elementos da lista (utilize índice negativo, pesquise na Internet)\n",
        "print(a[-3:])\n",
        "# Imprima os 3 primeiros elementos da lista (veja quando é possível ignorar valores iniciais e finais)\n",
        "print(a[:3])"
      ],
      "execution_count": 10,
      "outputs": [
        {
          "output_type": "stream",
          "text": [
            "[1, 3, 5, 7, 9]\n",
            "[1, 3, 5, 7, 9]\n",
            "[0, 2, 4, 6, 8]\n",
            "[0, 2, 4, 6, 8]\n",
            "[7, 8, 9]\n",
            "[0, 1, 2]\n"
          ],
          "name": "stdout"
        }
      ]
    },
    {
      "cell_type": "markdown",
      "metadata": {
        "ExecuteTime": {
          "end_time": "2017-11-24T10:48:33.572314",
          "start_time": "2017-11-24T10:48:33.568302"
        },
        "id": "XvAySRt_MSQ6",
        "colab_type": "text"
      },
      "source": [
        "### Veja o significado do passo, i.e. o terceiro parâmetro do \"fatiamento\":"
      ]
    },
    {
      "cell_type": "code",
      "metadata": {
        "ExecuteTime": {
          "end_time": "2019-12-10T17:56:39.685197Z",
          "start_time": "2019-12-10T17:56:39.680220Z"
        },
        "id": "lrvsVYAYMSQ-",
        "colab_type": "code",
        "outputId": "6eb3ed26-d64b-4036-c689-6fb74a03224d",
        "colab": {
          "base_uri": "https://localhost:8080/",
          "height": 55
        }
      },
      "source": [
        "print(a[::2])\n",
        "print(a[::-1])"
      ],
      "execution_count": 11,
      "outputs": [
        {
          "output_type": "stream",
          "text": [
            "[0, 2, 4, 6, 8]\n",
            "[9, 8, 7, 6, 5, 4, 3, 2, 1, 0]\n"
          ],
          "name": "stdout"
        }
      ]
    },
    {
      "cell_type": "markdown",
      "metadata": {
        "ExecuteTime": {
          "end_time": "2017-11-24T10:48:33.577743",
          "start_time": "2017-11-24T10:48:33.574177"
        },
        "id": "HOI4Pk90MSRD",
        "colab_type": "text"
      },
      "source": [
        "### Exercício: Imprima os elementos ímpares na order reversa, do maior para o menor"
      ]
    },
    {
      "cell_type": "code",
      "metadata": {
        "ExecuteTime": {
          "end_time": "2019-12-10T17:56:39.692699Z",
          "start_time": "2019-12-10T17:56:39.688201Z"
        },
        "id": "XELFgLWVMSRD",
        "colab_type": "code",
        "outputId": "1b16f548-a8ac-45a3-e945-cede5786d44d",
        "colab": {
          "base_uri": "https://localhost:8080/",
          "height": 36
        }
      },
      "source": [
        "print(a[::-2])"
      ],
      "execution_count": 12,
      "outputs": [
        {
          "output_type": "stream",
          "text": [
            "[9, 7, 5, 3, 1]\n"
          ],
          "name": "stdout"
        }
      ]
    },
    {
      "cell_type": "markdown",
      "metadata": {
        "id": "h26sb87zMSRJ",
        "colab_type": "text"
      },
      "source": [
        "## Tuplas"
      ]
    },
    {
      "cell_type": "markdown",
      "metadata": {
        "id": "V9lgEbiuMSRK",
        "colab_type": "text"
      },
      "source": [
        "Dominar o conceito de tuplas é importante pois tuplas são estruturas muito utilizadas no Python."
      ]
    },
    {
      "cell_type": "code",
      "metadata": {
        "ExecuteTime": {
          "end_time": "2019-12-10T17:56:39.700112Z",
          "start_time": "2019-12-10T17:56:39.695877Z"
        },
        "id": "dHTQtR_BMSRL",
        "colab_type": "code",
        "colab": {
          "base_uri": "https://localhost:8080/",
          "height": 36
        },
        "outputId": "418eba46-5a81-476c-8189-adbc6a24c260"
      },
      "source": [
        "b = tuple(a)\n",
        "print(b)"
      ],
      "execution_count": 13,
      "outputs": [
        {
          "output_type": "stream",
          "text": [
            "(0, 1, 2, 3, 4, 5, 6, 7, 8, 9)\n"
          ],
          "name": "stdout"
        }
      ]
    },
    {
      "cell_type": "markdown",
      "metadata": {
        "id": "bwSwnyhhMSRQ",
        "colab_type": "text"
      },
      "source": [
        "### Responda: A principal diferença entre uma lista e uma tupla é:\n",
        "\n",
        "Resposta: tupla é uma estrutura de dados semelhante a uma lista porém a tupla é ordenada e imutável. "
      ]
    },
    {
      "cell_type": "markdown",
      "metadata": {
        "id": "kNsw2xG-MSRS",
        "colab_type": "text"
      },
      "source": [
        "# Dicionários em Python"
      ]
    },
    {
      "cell_type": "markdown",
      "metadata": {
        "id": "8B55gezNMSRU",
        "colab_type": "text"
      },
      "source": [
        "Python possui uma estrutura de dados muito versátil denominada dicionário.\n",
        "No curso Deep Learning, os parâmetros da rede neural serão armazenadas na forma de dicionário. Veja a seguir alguns exemplos de uso de dicionários:"
      ]
    },
    {
      "cell_type": "code",
      "metadata": {
        "ExecuteTime": {
          "end_time": "2019-12-10T17:56:39.708263Z",
          "start_time": "2019-12-10T17:56:39.702983Z"
        },
        "id": "uAd2q-I1MSRU",
        "colab_type": "code",
        "outputId": "11b10f94-2ca8-4377-8fa4-a2729a9f935e",
        "colab": {
          "base_uri": "https://localhost:8080/",
          "height": 36
        }
      },
      "source": [
        "rob_record = {'nome': 'Roberto', 'idade': 18}\n",
        "print(rob_record['nome'])"
      ],
      "execution_count": 14,
      "outputs": [
        {
          "output_type": "stream",
          "text": [
            "Roberto\n"
          ],
          "name": "stdout"
        }
      ]
    },
    {
      "cell_type": "code",
      "metadata": {
        "ExecuteTime": {
          "end_time": "2019-12-10T17:56:39.719554Z",
          "start_time": "2019-12-10T17:56:39.711199Z"
        },
        "id": "ky-O5fHbMSRY",
        "colab_type": "code",
        "outputId": "61320df2-1d0b-44d4-ef55-f0aa10919d8a",
        "colab": {
          "base_uri": "https://localhost:8080/",
          "height": 36
        }
      },
      "source": [
        "rob_record['idade'] = 20\n",
        "print(rob_record)"
      ],
      "execution_count": 15,
      "outputs": [
        {
          "output_type": "stream",
          "text": [
            "{'nome': 'Roberto', 'idade': 20}\n"
          ],
          "name": "stdout"
        }
      ]
    },
    {
      "cell_type": "markdown",
      "metadata": {
        "id": "v9Y11t_EMSRf",
        "colab_type": "text"
      },
      "source": [
        "Lista de dicionários:"
      ]
    },
    {
      "cell_type": "code",
      "metadata": {
        "ExecuteTime": {
          "end_time": "2019-12-10T17:56:39.726559Z",
          "start_time": "2019-12-10T17:56:39.722628Z"
        },
        "id": "sczX42VhMSRg",
        "colab_type": "code",
        "colab": {}
      },
      "source": [
        "records = [{'nome':'Alfredo', 'idade': 23},\n",
        "           {'nome':'Fernanda', 'idade': 16},\n",
        "           {'nome':'Carla', 'idade':33}]"
      ],
      "execution_count": 0,
      "outputs": []
    },
    {
      "cell_type": "markdown",
      "metadata": {
        "ExecuteTime": {
          "end_time": "2017-11-24T10:48:33.603575",
          "start_time": "2017-11-24T10:48:33.601007"
        },
        "id": "CsJwDK3gMSRj",
        "colab_type": "text"
      },
      "source": [
        "### Exercício: Acesse o nome da Fernanda: complete e descomente a linha a seguir"
      ]
    },
    {
      "cell_type": "code",
      "metadata": {
        "ExecuteTime": {
          "end_time": "2019-12-10T17:56:39.733629Z",
          "start_time": "2019-12-10T17:56:39.730430Z"
        },
        "id": "ae1E9_uvMSRk",
        "colab_type": "code",
        "outputId": "0ca55ab8-9a78-4b99-cfab-019573c5ab6b",
        "colab": {
          "base_uri": "https://localhost:8080/",
          "height": 36
        }
      },
      "source": [
        "print(records[1]['nome'])"
      ],
      "execution_count": 17,
      "outputs": [
        {
          "output_type": "stream",
          "text": [
            "Fernanda\n"
          ],
          "name": "stdout"
        }
      ]
    },
    {
      "cell_type": "markdown",
      "metadata": {
        "ExecuteTime": {
          "end_time": "2017-11-24T10:48:33.609929",
          "start_time": "2017-11-24T10:48:33.605371"
        },
        "id": "ve2514FGMSRo",
        "colab_type": "text"
      },
      "source": [
        "### Exercício: crie uma lista com todos os nomes da lista records.\n",
        "\n",
        "O resultado deve ser uma lista ['Alfredo', 'Fernanda', 'Carla']"
      ]
    },
    {
      "cell_type": "code",
      "metadata": {
        "ExecuteTime": {
          "end_time": "2019-12-10T17:56:39.741401Z",
          "start_time": "2019-12-10T17:56:39.736656Z"
        },
        "id": "Z7lnsR9GMSRp",
        "colab_type": "code",
        "outputId": "c58cb7b4-1154-49c3-88dd-1a4aa7b03d5c",
        "colab": {
          "base_uri": "https://localhost:8080/",
          "height": 36
        }
      },
      "source": [
        "# 1. Utilizando a forma tradicional de criar lista com append\n",
        "# porém sem utilizar o for i in range()\n",
        "nlist = []\n",
        "for record in records :\n",
        "    nlist.append(record['nome'])\n",
        "print(nlist)"
      ],
      "execution_count": 18,
      "outputs": [
        {
          "output_type": "stream",
          "text": [
            "['Alfredo', 'Fernanda', 'Carla']\n"
          ],
          "name": "stdout"
        }
      ]
    },
    {
      "cell_type": "code",
      "metadata": {
        "ExecuteTime": {
          "end_time": "2019-12-10T17:56:39.747944Z",
          "start_time": "2019-12-10T17:56:39.744532Z"
        },
        "id": "jnBDbDJQMSRr",
        "colab_type": "code",
        "outputId": "b1301b2a-c2c0-4c1a-aaaf-b5599f7d5a5d",
        "colab": {
          "base_uri": "https://localhost:8080/",
          "height": 36
        }
      },
      "source": [
        "# 2. Utilizando a forma de list comprehension\n",
        "nlist2 = [record['nome'] for record in records]\n",
        "print(nlist2)"
      ],
      "execution_count": 19,
      "outputs": [
        {
          "output_type": "stream",
          "text": [
            "['Alfredo', 'Fernanda', 'Carla']\n"
          ],
          "name": "stdout"
        }
      ]
    },
    {
      "cell_type": "markdown",
      "metadata": {
        "id": "wd7dD9XTMSR0",
        "colab_type": "text"
      },
      "source": [
        "# Exercícios usando NumPy"
      ]
    },
    {
      "cell_type": "markdown",
      "metadata": {
        "id": "DgJHBRIbMSR1",
        "colab_type": "text"
      },
      "source": [
        "Os seguintes exercícios devem usar apenas o pacote NumPy.\n",
        "Não se deve utilizar nenhum outro pacote adicional.\n",
        "O NumPy é o pacote que ter o Python apropriado para programação científica.\n",
        "A programação eficiente de matrizes multidimensionais (arrays ou tensores) é\n",
        "feita através do conceito de programação matricial que evita o uso de laços\n",
        "e iterações nos elementos da matriz.\n",
        "\n",
        "Existem vários exemplos de uso de NumPy no conjunto de\n",
        "notebooks tutorias disponíveis no GitHub:\n",
        "- https://github.com/robertoalotufo/ia898/blob/master/master/0_index.ipynb"
      ]
    },
    {
      "cell_type": "code",
      "metadata": {
        "ExecuteTime": {
          "end_time": "2019-12-10T17:56:40.132948Z",
          "start_time": "2019-12-10T17:56:39.750654Z"
        },
        "id": "xvJ5BhseMSR2",
        "colab_type": "code",
        "colab": {}
      },
      "source": [
        "import numpy as np"
      ],
      "execution_count": 0,
      "outputs": []
    },
    {
      "cell_type": "markdown",
      "metadata": {
        "id": "dVFU6iqyMSR4",
        "colab_type": "text"
      },
      "source": [
        "Veja como é possível criar um array unidimensional e depois reformatá-lo para ser acessado como array bidimensional:"
      ]
    },
    {
      "cell_type": "code",
      "metadata": {
        "ExecuteTime": {
          "end_time": "2019-12-10T17:56:40.162562Z",
          "start_time": "2019-12-10T17:56:40.137973Z"
        },
        "id": "p7KjmbtUMSR5",
        "colab_type": "code",
        "outputId": "c1ef3f97-f6c4-41a4-f83a-74e7c39ee614",
        "colab": {
          "base_uri": "https://localhost:8080/",
          "height": 55
        }
      },
      "source": [
        "array = np.arange(10)\n",
        "print(array)\n",
        "print(array.shape)"
      ],
      "execution_count": 21,
      "outputs": [
        {
          "output_type": "stream",
          "text": [
            "[0 1 2 3 4 5 6 7 8 9]\n",
            "(10,)\n"
          ],
          "name": "stdout"
        }
      ]
    },
    {
      "cell_type": "code",
      "metadata": {
        "ExecuteTime": {
          "end_time": "2019-12-10T17:56:40.182478Z",
          "start_time": "2019-12-10T17:56:40.169365Z"
        },
        "id": "FoxO6Lz5MSR8",
        "colab_type": "code",
        "outputId": "9e67eabe-c6a7-4ba9-d11a-cba13c4e585a",
        "colab": {
          "base_uri": "https://localhost:8080/",
          "height": 111
        }
      },
      "source": [
        "A = np.arange(24).reshape(4,6)\n",
        "print(A)\n",
        "print(A.shape)"
      ],
      "execution_count": 22,
      "outputs": [
        {
          "output_type": "stream",
          "text": [
            "[[ 0  1  2  3  4  5]\n",
            " [ 6  7  8  9 10 11]\n",
            " [12 13 14 15 16 17]\n",
            " [18 19 20 21 22 23]]\n",
            "(4, 6)\n"
          ],
          "name": "stdout"
        }
      ]
    },
    {
      "cell_type": "markdown",
      "metadata": {
        "id": "eU28iJsGMSSB",
        "colab_type": "text"
      },
      "source": [
        "### Exercício: imprimindo rows, cols, dimensions, shape and datatype"
      ]
    },
    {
      "cell_type": "code",
      "metadata": {
        "ExecuteTime": {
          "end_time": "2019-12-10T17:56:40.199596Z",
          "start_time": "2019-12-10T17:56:40.186175Z"
        },
        "id": "99ovezklMSSC",
        "colab_type": "code",
        "outputId": "a8cd2860-7257-4f8d-8606-32f1b4fe9495",
        "colab": {
          "base_uri": "https://localhost:8080/",
          "height": 111
        }
      },
      "source": [
        "# imprima o número de linhas de A\n",
        "print(A.shape[0])\n",
        "# imprima o número de colunas de A\n",
        "print(A.shape[1])\n",
        "# imprima o número de dimensões de A\n",
        "print(A.ndim)\n",
        "# imprima o shape de A:\n",
        "print(A.shape)\n",
        "# imprima o tipo de dados (dtype) dos elementos de A:\n",
        "print(A.dtype)"
      ],
      "execution_count": 23,
      "outputs": [
        {
          "output_type": "stream",
          "text": [
            "4\n",
            "6\n",
            "2\n",
            "(4, 6)\n",
            "int64\n"
          ],
          "name": "stdout"
        }
      ]
    },
    {
      "cell_type": "markdown",
      "metadata": {
        "id": "8Soqzeb2MSSE",
        "colab_type": "text"
      },
      "source": [
        "### Reshape"
      ]
    },
    {
      "cell_type": "code",
      "metadata": {
        "ExecuteTime": {
          "end_time": "2019-12-10T17:56:40.214464Z",
          "start_time": "2019-12-10T17:56:40.206759Z"
        },
        "id": "-Uj9bEYjMSSG",
        "colab_type": "code",
        "outputId": "73e9b889-157e-4f81-a1bd-c4c4c0ccf890",
        "colab": {
          "base_uri": "https://localhost:8080/",
          "height": 36
        }
      },
      "source": [
        "# Seja o vetor unidimension a:\n",
        "a = np.array([1,2,3,4])\n",
        "print(a, a.shape)"
      ],
      "execution_count": 24,
      "outputs": [
        {
          "output_type": "stream",
          "text": [
            "[1 2 3 4] (4,)\n"
          ],
          "name": "stdout"
        }
      ]
    },
    {
      "cell_type": "markdown",
      "metadata": {
        "ExecuteTime": {
          "end_time": "2017-11-24T10:48:34.537220",
          "start_time": "2017-11-24T10:48:34.531910"
        },
        "id": "IvBoixxbMSSI",
        "colab_type": "text"
      },
      "source": [
        "### Exercício: Converta o vetor unidimensional a em uma matriz vetor coluna (4 linhas e 1 coluna) utilizando reshape"
      ]
    },
    {
      "cell_type": "code",
      "metadata": {
        "ExecuteTime": {
          "end_time": "2019-12-10T17:56:40.231358Z",
          "start_time": "2019-12-10T17:56:40.220830Z"
        },
        "id": "rkg93vUnMSSI",
        "colab_type": "code",
        "outputId": "71020c4b-bd24-4d07-fbf2-cd876f16cf68",
        "colab": {
          "base_uri": "https://localhost:8080/",
          "height": 92
        }
      },
      "source": [
        "a = a.reshape(-1,1)\n",
        "print(a)"
      ],
      "execution_count": 25,
      "outputs": [
        {
          "output_type": "stream",
          "text": [
            "[[1]\n",
            " [2]\n",
            " [3]\n",
            " [4]]\n"
          ],
          "name": "stdout"
        }
      ]
    },
    {
      "cell_type": "markdown",
      "metadata": {
        "id": "14CumfmkMSSM",
        "colab_type": "text"
      },
      "source": [
        "## Cópia por referência, cópia rasa e cópia profunda\n",
        "\n",
        "Explique a diferença entre estes 3 tipos de cópias e dê um exemplo de cada uma.\n",
        "**Resposta**:\n"
      ]
    },
    {
      "cell_type": "code",
      "metadata": {
        "ExecuteTime": {
          "end_time": "2019-12-10T17:56:40.242710Z",
          "start_time": "2019-12-10T17:56:40.236135Z"
        },
        "id": "t_f9RORAMSSN",
        "colab_type": "code",
        "colab": {}
      },
      "source": [
        "# Exercício\n",
        "# Indique para cada uma das expressões a seguir se a cópia é por referência, rasa ou profunda\n",
        "x = a # cópia por referência\n",
        "y = a[:2] # cópia rasa\n",
        "z = a.reshape(4,1) # cópia por referência\n",
        "zz = a.copy() # cópia profunda"
      ],
      "execution_count": 0,
      "outputs": []
    },
    {
      "cell_type": "code",
      "metadata": {
        "ExecuteTime": {
          "end_time": "2019-12-10T17:56:40.257657Z",
          "start_time": "2019-12-10T17:56:40.248201Z"
        },
        "id": "6iy0eNzbMSSQ",
        "colab_type": "code",
        "outputId": "9330cf2f-f34d-4edf-a506-e26eedcf748a",
        "colab": {
          "base_uri": "https://localhost:8080/",
          "height": 243
        }
      },
      "source": [
        "# Explique o valor dos resultados:\n",
        "z[0,0] = 5\n",
        "print(a) # explique: 'z' é uma cópia por referência de 'a'. Qualquer valor de 'z' que for alterado, essa mudança se refletirá em 'a' também.\n",
        "y[1] = 6\n",
        "print(a) # explique: embora 'y' seja uma cópia rasa de 'a', seus elementos são referências. Por isso, ao atualizar 'y' essa mudança também acontece em 'a'. Caso os elementos de 'y' fossem simplesmente números, não teríamos alteração em 'a' (ex: a=[1,2,3,4]; y=a[:2], y[0]=9 ==> a continua sendo [1,2,3,4], e não [9,2,3,4]).\n",
        "zz[0] = 7\n",
        "print(a) # explique: neste caso não vemos alteração em 'a' pois 'zz' é uma cópia profunda de 'a', isto é, 'zz' é uma variável completamente independente de 'a'."
      ],
      "execution_count": 27,
      "outputs": [
        {
          "output_type": "stream",
          "text": [
            "[[5]\n",
            " [2]\n",
            " [3]\n",
            " [4]]\n",
            "[[5]\n",
            " [6]\n",
            " [3]\n",
            " [4]]\n",
            "[[5]\n",
            " [6]\n",
            " [3]\n",
            " [4]]\n"
          ],
          "name": "stdout"
        }
      ]
    },
    {
      "cell_type": "markdown",
      "metadata": {
        "id": "vbKhEEEXMSSS",
        "colab_type": "text"
      },
      "source": [
        "## Operações aritméticas"
      ]
    },
    {
      "cell_type": "code",
      "metadata": {
        "ExecuteTime": {
          "end_time": "2019-12-10T17:56:40.295188Z",
          "start_time": "2019-12-10T17:56:40.264886Z"
        },
        "id": "7Igu0fvpMSST",
        "colab_type": "code",
        "outputId": "7b427753-a117-4931-8581-c0ec808f8f14",
        "colab": {
          "base_uri": "https://localhost:8080/",
          "height": 92
        }
      },
      "source": [
        "B = A + 10\n",
        "B"
      ],
      "execution_count": 28,
      "outputs": [
        {
          "output_type": "execute_result",
          "data": {
            "text/plain": [
              "array([[10, 11, 12, 13, 14, 15],\n",
              "       [16, 17, 18, 19, 20, 21],\n",
              "       [22, 23, 24, 25, 26, 27],\n",
              "       [28, 29, 30, 31, 32, 33]])"
            ]
          },
          "metadata": {
            "tags": []
          },
          "execution_count": 28
        }
      ]
    },
    {
      "cell_type": "markdown",
      "metadata": {
        "id": "PEz7l-S0MSSV",
        "colab_type": "text"
      },
      "source": [
        "### Array binário (booleano)"
      ]
    },
    {
      "cell_type": "markdown",
      "metadata": {
        "ExecuteTime": {
          "end_time": "2017-11-24T10:48:34.559435",
          "start_time": "2017-11-24T10:48:34.555288"
        },
        "id": "SJDTNs1vMSSV",
        "colab_type": "text"
      },
      "source": [
        "#### Exercício: Crie uma matriz booleana C com True nos elementos de B menores que 18 (não utilize loop explícito)"
      ]
    },
    {
      "cell_type": "code",
      "metadata": {
        "ExecuteTime": {
          "end_time": "2019-12-10T17:56:40.304894Z",
          "start_time": "2019-12-10T17:56:40.297941Z"
        },
        "id": "bU2E5ZbaMSSW",
        "colab_type": "code",
        "outputId": "c2ecfd77-9f5f-4db1-c95a-1f05962443db",
        "colab": {
          "base_uri": "https://localhost:8080/",
          "height": 92
        }
      },
      "source": [
        "C = B < 18 # modify your code here\n",
        "print(C)"
      ],
      "execution_count": 29,
      "outputs": [
        {
          "output_type": "stream",
          "text": [
            "[[ True  True  True  True  True  True]\n",
            " [ True  True False False False False]\n",
            " [False False False False False False]\n",
            " [False False False False False False]]\n"
          ],
          "name": "stdout"
        }
      ]
    },
    {
      "cell_type": "markdown",
      "metadata": {
        "id": "b_7kE1XVMSSb",
        "colab_type": "text"
      },
      "source": [
        "## Indexação booleana"
      ]
    },
    {
      "cell_type": "markdown",
      "metadata": {
        "id": "ik8W9LWtMSSb",
        "colab_type": "text"
      },
      "source": [
        "### Exercício: explique o comando a seguir de indexação booleana\n",
        "\n",
        "Explicação: o seguinte comando mostra os valores da matrix A dos índices no qual a condição é satisfeita (valor < 18) na matriz B. "
      ]
    },
    {
      "cell_type": "code",
      "metadata": {
        "ExecuteTime": {
          "end_time": "2019-12-10T17:56:40.321735Z",
          "start_time": "2019-12-10T17:56:40.311748Z"
        },
        "id": "GHK74Nq4MSSc",
        "colab_type": "code",
        "outputId": "9fc561a4-643a-4407-ac68-fe04bf1cb3f6",
        "colab": {
          "base_uri": "https://localhost:8080/",
          "height": 36
        }
      },
      "source": [
        "A[B < 18]"
      ],
      "execution_count": 30,
      "outputs": [
        {
          "output_type": "execute_result",
          "data": {
            "text/plain": [
              "array([0, 1, 2, 3, 4, 5, 6, 7])"
            ]
          },
          "metadata": {
            "tags": []
          },
          "execution_count": 30
        }
      ]
    },
    {
      "cell_type": "markdown",
      "metadata": {
        "id": "zEr-W1jYMSSh",
        "colab_type": "text"
      },
      "source": [
        "Veja um programa que cria matriz D_loop a partir da matriz B, porém trocando os elementos menores que 18 por seus valores negativos"
      ]
    },
    {
      "cell_type": "code",
      "metadata": {
        "ExecuteTime": {
          "end_time": "2019-12-10T17:56:40.334686Z",
          "start_time": "2019-12-10T17:56:40.325194Z"
        },
        "id": "O8SEHdHHMSSh",
        "colab_type": "code",
        "outputId": "1f57b5ba-7aae-4ac8-d08d-1300e10bd545",
        "colab": {
          "base_uri": "https://localhost:8080/",
          "height": 92
        }
      },
      "source": [
        "D_loop = B.copy()\n",
        "for row in np.arange(B.shape[0]):\n",
        "    for col in np.arange(B.shape[1]):\n",
        "        if B[row,col] < 18:\n",
        "            D_loop[row,col] = - B[row,col]\n",
        "print(D_loop)"
      ],
      "execution_count": 31,
      "outputs": [
        {
          "output_type": "stream",
          "text": [
            "[[-10 -11 -12 -13 -14 -15]\n",
            " [-16 -17  18  19  20  21]\n",
            " [ 22  23  24  25  26  27]\n",
            " [ 28  29  30  31  32  33]]\n"
          ],
          "name": "stdout"
        }
      ]
    },
    {
      "cell_type": "markdown",
      "metadata": {
        "id": "3HCzhWx5MSSr",
        "colab_type": "text"
      },
      "source": [
        "### Exercício: Troque o corpo do laço do programa acima por uma única linha sem loop"
      ]
    },
    {
      "cell_type": "code",
      "metadata": {
        "ExecuteTime": {
          "end_time": "2019-12-10T17:56:40.346397Z",
          "start_time": "2019-12-10T17:56:40.337666Z"
        },
        "id": "rrJH8DDVMSSs",
        "colab_type": "code",
        "outputId": "4baa5c3f-27fe-4145-cd86-e837f7239342",
        "colab": {
          "base_uri": "https://localhost:8080/",
          "height": 92
        }
      },
      "source": [
        "D = np.append(-B[B<18], B[B>=18]).reshape(4,-1)   # << modifique aqui utilizando indexação booleana\n",
        "print(D)"
      ],
      "execution_count": 32,
      "outputs": [
        {
          "output_type": "stream",
          "text": [
            "[[-10 -11 -12 -13 -14 -15]\n",
            " [-16 -17  18  19  20  21]\n",
            " [ 22  23  24  25  26  27]\n",
            " [ 28  29  30  31  32  33]]\n"
          ],
          "name": "stdout"
        }
      ]
    },
    {
      "cell_type": "markdown",
      "metadata": {
        "id": "DJb442RTMSTB",
        "colab_type": "text"
      },
      "source": [
        "## Redução de eixo: soma"
      ]
    },
    {
      "cell_type": "markdown",
      "metadata": {
        "id": "xbg9yzuLMSTB",
        "colab_type": "text"
      },
      "source": [
        "Operações matriciais de redução de eixo são muito úteis e importantes.\n",
        "É um conceito importante da programação matricial.\n",
        "\n",
        "Estude o exemplo a seguir:"
      ]
    },
    {
      "cell_type": "code",
      "metadata": {
        "ExecuteTime": {
          "end_time": "2019-12-10T17:56:40.360645Z",
          "start_time": "2019-12-10T17:56:40.350099Z"
        },
        "id": "enR03EjDMSTC",
        "colab_type": "code",
        "outputId": "d54aba5d-0395-4903-86af-13751e25e204",
        "colab": {
          "base_uri": "https://localhost:8080/",
          "height": 149
        }
      },
      "source": [
        "print(A)\n",
        "print(A.shape)\n",
        "As = A.sum(axis=0)\n",
        "print(As)\n",
        "print(As.shape)"
      ],
      "execution_count": 33,
      "outputs": [
        {
          "output_type": "stream",
          "text": [
            "[[ 0  1  2  3  4  5]\n",
            " [ 6  7  8  9 10 11]\n",
            " [12 13 14 15 16 17]\n",
            " [18 19 20 21 22 23]]\n",
            "(4, 6)\n",
            "[36 40 44 48 52 56]\n",
            "(6,)\n"
          ],
          "name": "stdout"
        }
      ]
    },
    {
      "cell_type": "markdown",
      "metadata": {
        "ExecuteTime": {
          "end_time": "2017-11-24T10:48:34.585861",
          "start_time": "2017-11-24T10:48:34.582054"
        },
        "id": "4OYCr9_eMSTE",
        "colab_type": "text"
      },
      "source": [
        "### Exercício: Explique o funcionamento da soma por redução de eixo. Qual foi a dimensão que desapareceu?\n",
        "\n",
        "Resposta: a soma por redução de eixo realiza uma soma nos elementos das colunas (axis=0) ou linhas (axis=1). No caso acima, realizamos a soma nas colunas, desaparecendo com a dimensão correspondente as linhas."
      ]
    },
    {
      "cell_type": "markdown",
      "metadata": {
        "ExecuteTime": {
          "end_time": "2017-11-24T10:48:34.585861",
          "start_time": "2017-11-24T10:48:34.582054"
        },
        "id": "VaJUujluMSTF",
        "colab_type": "text"
      },
      "source": [
        "### Exercício: calcule o valor médio do array A"
      ]
    },
    {
      "cell_type": "code",
      "metadata": {
        "ExecuteTime": {
          "end_time": "2019-12-10T17:56:40.372210Z",
          "start_time": "2019-12-10T17:56:40.364380Z"
        },
        "id": "SqNn1Ct9MSTG",
        "colab_type": "code",
        "outputId": "f9c43671-fdc1-42e9-b7bd-c308ce069ece",
        "colab": {
          "base_uri": "https://localhost:8080/",
          "height": 55
        }
      },
      "source": [
        "print(np.mean(A))\n",
        "print(A.mean())"
      ],
      "execution_count": 34,
      "outputs": [
        {
          "output_type": "stream",
          "text": [
            "11.5\n",
            "11.5\n"
          ],
          "name": "stdout"
        }
      ]
    },
    {
      "cell_type": "markdown",
      "metadata": {
        "id": "62dF-AU8MSTI",
        "colab_type": "text"
      },
      "source": [
        "### Exercício: calcule o valor médio das linhas de A:"
      ]
    },
    {
      "cell_type": "code",
      "metadata": {
        "ExecuteTime": {
          "end_time": "2019-12-10T17:56:40.390105Z",
          "start_time": "2019-12-10T17:56:40.375159Z"
        },
        "id": "_qh-8Mv7MSTJ",
        "colab_type": "code",
        "outputId": "209473da-7164-479c-9713-f2e9b37e3884",
        "colab": {
          "base_uri": "https://localhost:8080/",
          "height": 36
        }
      },
      "source": [
        "print(np.mean(A, axis=1))"
      ],
      "execution_count": 35,
      "outputs": [
        {
          "output_type": "stream",
          "text": [
            "[ 2.5  8.5 14.5 20.5]\n"
          ],
          "name": "stdout"
        }
      ]
    },
    {
      "cell_type": "markdown",
      "metadata": {
        "id": "A8QZ6a5iMSTL",
        "colab_type": "text"
      },
      "source": [
        "## Broadcasting"
      ]
    },
    {
      "cell_type": "markdown",
      "metadata": {
        "id": "vMqwI7HqMSTN",
        "colab_type": "text"
      },
      "source": [
        "### Exercício: O que significa o conceito de broadcasting em NumPy?\n",
        "\n",
        "Resposta: O conceito de broadcasting em NumPy descreve como são tratadas as operações em que arrays com diferentes shapes são envolvidos."
      ]
    },
    {
      "cell_type": "code",
      "metadata": {
        "ExecuteTime": {
          "end_time": "2017-11-24T10:48:34.653339",
          "start_time": "2017-11-24T10:48:34.649183"
        },
        "id": "Ol7zSjVGMSTN",
        "colab_type": "code",
        "outputId": "28b14f62-fb89-490a-ae80-e6c8e780e9b9",
        "colab": {
          "base_uri": "https://localhost:8080/",
          "height": 111
        }
      },
      "source": [
        "# Usando o conceito de broadcast, mude o shape do vetor a para que o broadcast possa ocorrer em G = A + a\n",
        "a = np.arange(4)\n",
        "print(a)\n",
        "#####\n",
        "a = np.repeat(a.reshape(4,-1),6,axis=1)\n",
        "#####\n",
        "G = A + a\n",
        "print(G)"
      ],
      "execution_count": 36,
      "outputs": [
        {
          "output_type": "stream",
          "text": [
            "[0 1 2 3]\n",
            "[[ 0  1  2  3  4  5]\n",
            " [ 7  8  9 10 11 12]\n",
            " [14 15 16 17 18 19]\n",
            " [21 22 23 24 25 26]]\n"
          ],
          "name": "stdout"
        }
      ]
    },
    {
      "cell_type": "markdown",
      "metadata": {
        "id": "Kr4jICT0MSTP",
        "colab_type": "text"
      },
      "source": [
        "## Normalização entre 0 e 1"
      ]
    },
    {
      "cell_type": "markdown",
      "metadata": {
        "id": "mT057KbHMSTQ",
        "colab_type": "text"
      },
      "source": [
        "Seja a matriz $C$ que é a normalização da matriz $A$:\n",
        "$$ C(i,j) = \\frac{A(i,j) - A_{min}}{A_{max} - A_{min}} $$\n",
        "\n",
        "Em programação matricial, não se faz o loop em cada elemento da matriz,\n",
        "mas sim, utiliza-se operações matriciais. Faça o exercício a seguir\n",
        "sem utilizar laços explícitos:"
      ]
    },
    {
      "cell_type": "code",
      "metadata": {
        "ExecuteTime": {
          "end_time": "2019-12-11T00:00:34.072719Z",
          "start_time": "2019-12-11T00:00:34.036017Z"
        },
        "id": "m1TtkQEwMSTR",
        "colab_type": "code",
        "outputId": "4268c239-8317-4161-b27b-1c2804fae3c3",
        "colab": {
          "base_uri": "https://localhost:8080/",
          "height": 92
        }
      },
      "source": [
        "# Criar a matriz C que é a normalização de A, de modo que os valores de C estejam entre 0 e 1\n",
        "C = (A - np.min(A)) / (np.max(A) - np.min(A))\n",
        "print(C)"
      ],
      "execution_count": 37,
      "outputs": [
        {
          "output_type": "stream",
          "text": [
            "[[0.         0.04347826 0.08695652 0.13043478 0.17391304 0.2173913 ]\n",
            " [0.26086957 0.30434783 0.34782609 0.39130435 0.43478261 0.47826087]\n",
            " [0.52173913 0.56521739 0.60869565 0.65217391 0.69565217 0.73913043]\n",
            " [0.7826087  0.82608696 0.86956522 0.91304348 0.95652174 1.        ]]\n"
          ],
          "name": "stdout"
        }
      ]
    },
    {
      "cell_type": "code",
      "metadata": {
        "ExecuteTime": {
          "end_time": "2019-12-10T17:56:40.413601Z",
          "start_time": "2019-12-10T17:56:40.405056Z"
        },
        "id": "PuS_PtKmMSTT",
        "colab_type": "code",
        "outputId": "050ac7fa-ad75-4a71-9246-6115260a1227",
        "colab": {
          "base_uri": "https://localhost:8080/",
          "height": 92
        }
      },
      "source": [
        "# Modificar o exercício anterior, porém agora faça a normalização para cada coluna de A\n",
        "# de modo que as colunas da matriz D estejam entre os valores de 0 a 1.\n",
        "# Dica: utilize o conceito de redução de eixo\n",
        "D = (A - np.min(A, axis=0)) / (np.max(A, axis=0) - np.min(A, axis=0))\n",
        "print(D)"
      ],
      "execution_count": 38,
      "outputs": [
        {
          "output_type": "stream",
          "text": [
            "[[0.         0.         0.         0.         0.         0.        ]\n",
            " [0.33333333 0.33333333 0.33333333 0.33333333 0.33333333 0.33333333]\n",
            " [0.66666667 0.66666667 0.66666667 0.66666667 0.66666667 0.66666667]\n",
            " [1.         1.         1.         1.         1.         1.        ]]\n"
          ],
          "name": "stdout"
        }
      ]
    },
    {
      "cell_type": "code",
      "metadata": {
        "id": "pWXjCJ-aMSTX",
        "colab_type": "code",
        "outputId": "64e53ba6-fa17-48f4-8625-48ffb3e78af9",
        "colab": {
          "base_uri": "https://localhost:8080/",
          "height": 92
        }
      },
      "source": [
        "# Modificar o exercício anterior, porém agora faça a normalização para cada linha de A\n",
        "# de modo que as colunas da matriz E estejam entre os valores de 0 a 1.\n",
        "# Dica: utilize o conceito de redução de eixo, porém mantenha o mesmo número de eixos para poder fazer broadcast\n",
        "E = (A - np.min(A, axis=1).reshape(4,-1)) / (np.max(A, axis=1).reshape(4,-1) - np.min(A, axis=1).reshape(4,-1))\n",
        "print(E)"
      ],
      "execution_count": 39,
      "outputs": [
        {
          "output_type": "stream",
          "text": [
            "[[0.  0.2 0.4 0.6 0.8 1. ]\n",
            " [0.  0.2 0.4 0.6 0.8 1. ]\n",
            " [0.  0.2 0.4 0.6 0.8 1. ]\n",
            " [0.  0.2 0.4 0.6 0.8 1. ]]\n"
          ],
          "name": "stdout"
        }
      ]
    },
    {
      "cell_type": "markdown",
      "metadata": {
        "id": "2PzPMKy9MSTa",
        "colab_type": "text"
      },
      "source": [
        "## Fatiamento em arrays (slicing)"
      ]
    },
    {
      "cell_type": "code",
      "metadata": {
        "ExecuteTime": {
          "end_time": "2019-12-10T17:56:40.424712Z",
          "start_time": "2019-12-10T17:56:40.417272Z"
        },
        "id": "GNqB1v9iMSTb",
        "colab_type": "code",
        "outputId": "89b1ed2e-2094-41a3-db6a-3a607449611e",
        "colab": {
          "base_uri": "https://localhost:8080/",
          "height": 92
        }
      },
      "source": [
        "# esta indexação é chamada fatiamento:\n",
        "AA = A[:,1::2]\n",
        "print(AA)"
      ],
      "execution_count": 40,
      "outputs": [
        {
          "output_type": "stream",
          "text": [
            "[[ 1  3  5]\n",
            " [ 7  9 11]\n",
            " [13 15 17]\n",
            " [19 21 23]]\n"
          ],
          "name": "stdout"
        }
      ]
    },
    {
      "cell_type": "code",
      "metadata": {
        "ExecuteTime": {
          "end_time": "2019-12-10T17:56:40.437872Z",
          "start_time": "2019-12-10T17:56:40.428183Z"
        },
        "id": "1Xda95ijMSTh",
        "colab_type": "code",
        "outputId": "cbcf86ec-fcff-4b79-87f0-1b722a3dfbe6",
        "colab": {
          "base_uri": "https://localhost:8080/",
          "height": 55
        }
      },
      "source": [
        "# criar a matriz AB apenas com as linhas pares da matriz A, utilizando o conceito de fatiamento:\n",
        "AB = A[1::2]\n",
        "print(AB)"
      ],
      "execution_count": 41,
      "outputs": [
        {
          "output_type": "stream",
          "text": [
            "[[ 6  7  8  9 10 11]\n",
            " [18 19 20 21 22 23]]\n"
          ],
          "name": "stdout"
        }
      ]
    },
    {
      "cell_type": "code",
      "metadata": {
        "ExecuteTime": {
          "end_time": "2019-12-10T17:56:40.447762Z",
          "start_time": "2019-12-10T17:56:40.440731Z"
        },
        "id": "jQr6HGRSMSTj",
        "colab_type": "code",
        "outputId": "baf74ed1-af27-4bda-8e28-cc7f4d8ec99a",
        "colab": {
          "base_uri": "https://localhost:8080/",
          "height": 92
        }
      },
      "source": [
        "# crie a matriz AC com mesmo shape da matriz A, porém com os elementos na ordem inversa:\n",
        "# trocando a ordem das linhas e das colunas\n",
        "AC = A[::-1,::-1]\n",
        "print(AC)"
      ],
      "execution_count": 42,
      "outputs": [
        {
          "output_type": "stream",
          "text": [
            "[[23 22 21 20 19 18]\n",
            " [17 16 15 14 13 12]\n",
            " [11 10  9  8  7  6]\n",
            " [ 5  4  3  2  1  0]]\n"
          ],
          "name": "stdout"
        }
      ]
    },
    {
      "cell_type": "markdown",
      "metadata": {
        "id": "kJgNuYOHMSTl",
        "colab_type": "text"
      },
      "source": [
        "## Produto matricial  (dot product)"
      ]
    },
    {
      "cell_type": "markdown",
      "metadata": {
        "id": "wPtaL9mYMSTm",
        "colab_type": "text"
      },
      "source": [
        "Calcule a matriz E dada pelo produto matricial entre a matriz A e sua transposta: \n",
        "$$ E = A A^T $$"
      ]
    },
    {
      "cell_type": "code",
      "metadata": {
        "ExecuteTime": {
          "end_time": "2019-12-10T17:56:40.457617Z",
          "start_time": "2019-12-10T17:56:40.450430Z"
        },
        "id": "wpAdt1IAMSTn",
        "colab_type": "code",
        "outputId": "fad90178-e493-460e-ced2-e8f40c072a23",
        "colab": {
          "base_uri": "https://localhost:8080/",
          "height": 92
        }
      },
      "source": [
        "E = A @ A.T # modify your code here\n",
        "print(E)"
      ],
      "execution_count": 43,
      "outputs": [
        {
          "output_type": "stream",
          "text": [
            "[[  55  145  235  325]\n",
            " [ 145  451  757 1063]\n",
            " [ 235  757 1279 1801]\n",
            " [ 325 1063 1801 2539]]\n"
          ],
          "name": "stdout"
        }
      ]
    },
    {
      "cell_type": "code",
      "metadata": {
        "ExecuteTime": {
          "end_time": "2019-12-10T17:56:40.465257Z",
          "start_time": "2019-12-10T17:56:40.460810Z"
        },
        "id": "ng9ksRm4MSTq",
        "colab_type": "code",
        "outputId": "524dce07-2026-4f54-aa43-5110b988e2e9",
        "colab": {
          "base_uri": "https://localhost:8080/",
          "height": 176
        }
      },
      "source": [
        "# Descomente a linha e explique\n",
        "# por que a operação de multiplicação dá erro?\n",
        "Ee = A * A.T"
      ],
      "execution_count": 44,
      "outputs": [
        {
          "output_type": "error",
          "ename": "ValueError",
          "evalue": "ignored",
          "traceback": [
            "\u001b[0;31m---------------------------------------------------------------------------\u001b[0m",
            "\u001b[0;31mValueError\u001b[0m                                Traceback (most recent call last)",
            "\u001b[0;32m<ipython-input-44-c89a187ae8a7>\u001b[0m in \u001b[0;36m<module>\u001b[0;34m()\u001b[0m\n\u001b[0;32m----> 1\u001b[0;31m \u001b[0mEe\u001b[0m \u001b[0;34m=\u001b[0m \u001b[0mA\u001b[0m \u001b[0;34m*\u001b[0m \u001b[0mA\u001b[0m\u001b[0;34m.\u001b[0m\u001b[0mT\u001b[0m\u001b[0;34m\u001b[0m\u001b[0;34m\u001b[0m\u001b[0m\n\u001b[0m",
            "\u001b[0;31mValueError\u001b[0m: operands could not be broadcast together with shapes (4,6) (6,4) "
          ]
        }
      ]
    },
    {
      "cell_type": "markdown",
      "metadata": {
        "id": "w-jtbcLCHTDe",
        "colab_type": "text"
      },
      "source": [
        "A operação anterior dá erro pois os operandos apresentam shapes diferentes (A.shape=(4,6) e A.T.shape=(6,4)). Para multiplicação matricial, devemos usar numpy.dot (ou numpy.matmul para arrays 2D). A multiplicação mostrada com '*' apresenta uma multiplicação de elemento a elemento. Por isso os operandos devem apresentar o mesmo shape."
      ]
    },
    {
      "cell_type": "markdown",
      "metadata": {
        "id": "qFXmE_quMSTr",
        "colab_type": "text"
      },
      "source": [
        "## Matrizes multidimensionais"
      ]
    },
    {
      "cell_type": "markdown",
      "metadata": {
        "ExecuteTime": {
          "end_time": "2017-08-27T11:37:19.062565",
          "start_time": "2017-08-27T11:37:18.994081"
        },
        "id": "IhPyM5fMMSTs",
        "colab_type": "text"
      },
      "source": [
        "Em deep learning, iremos utilizar matrizes multidimensionais\n",
        "que são denominados como arrays no NumPy. PyTorch usa o nome de tensor para\n",
        "suas matrizes multimensionais.\n",
        "\n",
        "Matrizes de dimensões maior que 4 são de difícil intuição. A melhor forma de lidar\n",
        "com elas é observando o seu *shape*."
      ]
    },
    {
      "cell_type": "markdown",
      "metadata": {
        "id": "saJiY6r4MSTt",
        "colab_type": "text"
      },
      "source": [
        "### 3-D array"
      ]
    },
    {
      "cell_type": "code",
      "metadata": {
        "ExecuteTime": {
          "end_time": "2019-12-10T17:56:40.474112Z",
          "start_time": "2019-12-10T17:56:40.468455Z"
        },
        "id": "G1Dst52jMSTt",
        "colab_type": "code",
        "outputId": "01db99dd-be29-498e-9da2-251845633037",
        "colab": {
          "base_uri": "https://localhost:8080/",
          "height": 149
        }
      },
      "source": [
        "F = A.reshape(2,3,4)\n",
        "print(F)"
      ],
      "execution_count": 45,
      "outputs": [
        {
          "output_type": "stream",
          "text": [
            "[[[ 0  1  2  3]\n",
            "  [ 4  5  6  7]\n",
            "  [ 8  9 10 11]]\n",
            "\n",
            " [[12 13 14 15]\n",
            "  [16 17 18 19]\n",
            "  [20 21 22 23]]]\n"
          ],
          "name": "stdout"
        }
      ]
    },
    {
      "cell_type": "markdown",
      "metadata": {
        "id": "TmNhfMQNMSTv",
        "colab_type": "text"
      },
      "source": [
        "#### Indexação"
      ]
    },
    {
      "cell_type": "markdown",
      "metadata": {
        "id": "eX2ICb4hMSTw",
        "colab_type": "text"
      },
      "source": [
        "Estude as seguintes indexações:"
      ]
    },
    {
      "cell_type": "code",
      "metadata": {
        "ExecuteTime": {
          "end_time": "2019-12-10T17:56:52.815469Z",
          "start_time": "2019-12-10T17:56:52.810002Z"
        },
        "id": "ai0EdnBGMSTw",
        "colab_type": "code",
        "outputId": "2ed7103a-1283-40f3-b858-44d23f343362",
        "colab": {
          "base_uri": "https://localhost:8080/",
          "height": 130
        }
      },
      "source": [
        "F1 = F[1]\n",
        "print(F1)\n",
        "F2 = F[1,0,:]\n",
        "print(F2)\n",
        "F3 = F[1,0,2]\n",
        "print(F3)\n",
        "F4 = F[1:2,0,2]\n",
        "print(F4)"
      ],
      "execution_count": 46,
      "outputs": [
        {
          "output_type": "stream",
          "text": [
            "[[12 13 14 15]\n",
            " [16 17 18 19]\n",
            " [20 21 22 23]]\n",
            "[12 13 14 15]\n",
            "14\n",
            "[14]\n"
          ],
          "name": "stdout"
        }
      ]
    },
    {
      "cell_type": "code",
      "metadata": {
        "ExecuteTime": {
          "end_time": "2019-12-10T17:56:54.900989Z",
          "start_time": "2019-12-10T17:56:54.885810Z"
        },
        "id": "391aqTDDMSTy",
        "colab_type": "code",
        "outputId": "a5e9f078-7a28-4bb4-b39c-f8e9085da547",
        "colab": {
          "base_uri": "https://localhost:8080/",
          "height": 92
        }
      },
      "source": [
        "print(F1.shape)\n",
        "print(F2.shape)\n",
        "print(F3.shape)\n",
        "print(F4.shape)"
      ],
      "execution_count": 47,
      "outputs": [
        {
          "output_type": "stream",
          "text": [
            "(3, 4)\n",
            "(4,)\n",
            "()\n",
            "(1,)\n"
          ],
          "name": "stdout"
        }
      ]
    },
    {
      "cell_type": "markdown",
      "metadata": {
        "ExecuteTime": {
          "end_time": "2017-11-24T10:48:34.642626",
          "start_time": "2017-11-24T10:48:34.638891"
        },
        "id": "899TYDnzMST0",
        "colab_type": "text"
      },
      "source": [
        "### Exercício: Explique as dimensões de cada array:\n",
        "\n",
        "F1: F é um array de dimensão 3. O primeiro índice representa a matriz, o segundo índice representa a linha dessa matriz e o terceiro índice representa a coluna dessa matriz. Assim, ao indexarmos F[1] estamos selecionando a segunda matriz do array, por isso seu shape é (3,4), isto é, 3 linhas e 4 colunas.\n",
        "\n",
        "F2: Agora estamos indexando F[1,0,:], isto é, todas colunas da primeira linha da segunda matriz. Assim, o shape desta seleção é justamente o número de colunas, quatro.\n",
        "\n",
        "F3: Agora estamos selecionando um elemento específico. F[1,0,2] é o elemento da terceira coluna, na primeira linha, da segunda matriz. Por se tratar de um número, o shape aparece aparece como vazio. De fato, se olharmos a dimensão deste elemento, veremos o número 0. O tipo deste elemento nos mostrará numpy.int64.\n",
        "\n",
        "F4: Este caso é parecido com o anterior. No entanto, não estamos selecionando um elemento específico, mas sim uma parte (slice) do array. Portanto, esta seleção também será um array. Como estamos selecionando F[1:2,0,2], isto é, a terceira coluna da primeira linha da segunda matriz, temos que esse elemento apresenta dimensão 1. De fato, o tipo desse elemento é numpy.ndarray."
      ]
    },
    {
      "cell_type": "markdown",
      "metadata": {
        "id": "fH6ljEU6MST0",
        "colab_type": "text"
      },
      "source": [
        "## Redução de eixo - aplicado a dois eixos simultâneos"
      ]
    },
    {
      "cell_type": "markdown",
      "metadata": {
        "id": "fXvsbU7NMST1",
        "colab_type": "text"
      },
      "source": [
        "Redução de eixo é quando a operação matricial resulta num array de menores dimensões.\n",
        "Com essas operações, calcula-se estatística de colunas, linhas, etc."
      ]
    },
    {
      "cell_type": "markdown",
      "metadata": {
        "ExecuteTime": {
          "end_time": "2017-11-24T10:48:34.647517",
          "start_time": "2017-11-24T10:48:34.644317"
        },
        "id": "yI5rJHi2MST1",
        "colab_type": "text"
      },
      "source": [
        "### Exercício: Calcule o valor médio das matrizes F[0] e F[1], com apenas um mean no comando F.mean(??)"
      ]
    },
    {
      "cell_type": "code",
      "metadata": {
        "ExecuteTime": {
          "end_time": "2017-11-24T10:48:34.647517",
          "start_time": "2017-11-24T10:48:34.644317"
        },
        "id": "JS4Ei3DLMST3",
        "colab_type": "code",
        "outputId": "d3818896-cea0-4218-ad83-26b9d70e1216",
        "colab": {
          "base_uri": "https://localhost:8080/",
          "height": 36
        }
      },
      "source": [
        "print(F.mean(axis=(1,2)))"
      ],
      "execution_count": 48,
      "outputs": [
        {
          "output_type": "stream",
          "text": [
            "[ 5.5 17.5]\n"
          ],
          "name": "stdout"
        }
      ]
    },
    {
      "cell_type": "markdown",
      "metadata": {
        "id": "Kv7D4gcxMST5",
        "colab_type": "text"
      },
      "source": [
        "## Function - split - dados treino e validação"
      ]
    },
    {
      "cell_type": "markdown",
      "metadata": {
        "id": "v2e3VIe-MST5",
        "colab_type": "text"
      },
      "source": [
        "O exercício a seguir é para separar um conjunto de dados (dataset) em dois conjuntos, um\n",
        "de treinamento e outro de validação.\n",
        "\n",
        "\n",
        "Defina uma função que receba como entrada uma matriz, (dataset), onde cada linha é\n",
        "referente a uma amostra e cada coluna referente a um atributo das amostras. O número total de\n",
        "amostras é dado pelas linhas desta matriz.\n",
        "Outro parâmetro de entrada é o fator de split `split_factor`, que é um número real entre 0 e 1. \n",
        "A saída da função são duas matrizes: amostras de treinamento e amostras de validação. \n",
        "A matriz de treinamento contrá o número de linhas dado por `split_factor` vezes o número de amostras.\n",
        "A matriz de validação conterá o restante das amostras."
      ]
    },
    {
      "cell_type": "code",
      "metadata": {
        "ExecuteTime": {
          "end_time": "2017-11-24T10:48:34.659465",
          "start_time": "2017-11-24T10:48:34.654983"
        },
        "id": "oKpLsqlrMST7",
        "colab_type": "code",
        "outputId": "a316341a-0d10-4f98-f4e2-6e2372dd8f77",
        "colab": {
          "base_uri": "https://localhost:8080/",
          "height": 206
        }
      },
      "source": [
        "# Entrada, matriz contendo 10 amostras e 9 atributos\n",
        "aa = np.arange(90).reshape(10,9)\n",
        "print(aa)"
      ],
      "execution_count": 49,
      "outputs": [
        {
          "output_type": "stream",
          "text": [
            "[[ 0  1  2  3  4  5  6  7  8]\n",
            " [ 9 10 11 12 13 14 15 16 17]\n",
            " [18 19 20 21 22 23 24 25 26]\n",
            " [27 28 29 30 31 32 33 34 35]\n",
            " [36 37 38 39 40 41 42 43 44]\n",
            " [45 46 47 48 49 50 51 52 53]\n",
            " [54 55 56 57 58 59 60 61 62]\n",
            " [63 64 65 66 67 68 69 70 71]\n",
            " [72 73 74 75 76 77 78 79 80]\n",
            " [81 82 83 84 85 86 87 88 89]]\n"
          ],
          "name": "stdout"
        }
      ]
    },
    {
      "cell_type": "code",
      "metadata": {
        "ExecuteTime": {
          "end_time": "2017-11-24T10:48:34.665589",
          "start_time": "2017-11-24T10:48:34.661245"
        },
        "id": "6FWfdvUVMST-",
        "colab_type": "code",
        "outputId": "1598139c-9f28-4cb4-9010-e9ed3571ed90",
        "colab": {
          "base_uri": "https://localhost:8080/",
          "height": 168
        }
      },
      "source": [
        "# Saída da função t,v = split(aa, 0.8)  # utilizado split_factor de 80%\n",
        "t = np.arange(72).reshape(8,9)\n",
        "print(t)"
      ],
      "execution_count": 50,
      "outputs": [
        {
          "output_type": "stream",
          "text": [
            "[[ 0  1  2  3  4  5  6  7  8]\n",
            " [ 9 10 11 12 13 14 15 16 17]\n",
            " [18 19 20 21 22 23 24 25 26]\n",
            " [27 28 29 30 31 32 33 34 35]\n",
            " [36 37 38 39 40 41 42 43 44]\n",
            " [45 46 47 48 49 50 51 52 53]\n",
            " [54 55 56 57 58 59 60 61 62]\n",
            " [63 64 65 66 67 68 69 70 71]]\n"
          ],
          "name": "stdout"
        }
      ]
    },
    {
      "cell_type": "code",
      "metadata": {
        "ExecuteTime": {
          "end_time": "2017-11-24T10:48:34.671172",
          "start_time": "2017-11-24T10:48:34.667187"
        },
        "id": "OLB_dSMZMSUB",
        "colab_type": "code",
        "outputId": "3823927c-06f8-4f45-81ba-77d1a24bec73",
        "colab": {
          "base_uri": "https://localhost:8080/",
          "height": 55
        }
      },
      "source": [
        "v = np.arange(72,90).reshape(2,9)\n",
        "print(v)"
      ],
      "execution_count": 51,
      "outputs": [
        {
          "output_type": "stream",
          "text": [
            "[[72 73 74 75 76 77 78 79 80]\n",
            " [81 82 83 84 85 86 87 88 89]]\n"
          ],
          "name": "stdout"
        }
      ]
    },
    {
      "cell_type": "code",
      "metadata": {
        "id": "Xj0vbPBmXUZB",
        "colab_type": "code",
        "colab": {}
      },
      "source": [
        ""
      ],
      "execution_count": 0,
      "outputs": []
    },
    {
      "cell_type": "code",
      "metadata": {
        "ExecuteTime": {
          "end_time": "2017-11-24T10:48:34.679672",
          "start_time": "2017-11-24T10:48:34.672840"
        },
        "id": "nRKWJBFVMSUE",
        "colab_type": "code",
        "outputId": "15efdd1e-c131-4aa5-a2e9-370502d88581",
        "colab": {
          "base_uri": "https://localhost:8080/",
          "height": 243
        }
      },
      "source": [
        "# Evite o uso de laço explícito\n",
        "# Não utilize outras bibliotecas além do NumPy\n",
        "def split(dados, split_factor):\n",
        "    '''\n",
        "    divide a matriz dados em dois conjuntos:\n",
        "    matriz train: split_factor * n. de linhas de dados\n",
        "    matriz val: (1-split_factor) * n. de linhas de dados\n",
        "    parametros entrada:\n",
        "        dados: matriz de entrada\n",
        "        split_factor: entre 0. e 1. - fator de divisão em duas matrizes\n",
        "    parametros de saída:\n",
        "        train : matriz com as linhas iniciais de dados\n",
        "        val: matriz com as linhas restantes\n",
        "    '''\n",
        "    # insert your code here\n",
        "    #---------------------------\n",
        "    # calculate size of datasets\n",
        "    train_size = round(split_factor * dados.shape[0])\n",
        "    val_size = dados.shape[0] - train_size\n",
        "    #---------------------------\n",
        "    # split dataset\n",
        "    train = dados[:train_size,:]\n",
        "    val = dados[train_size:,:]\n",
        "    #---------------------------\n",
        "    #train = val = 0\n",
        "    return train, val\n",
        "\n",
        "t,v = split(aa, 0.8)\n",
        "print('t=\\n', t)\n",
        "print('v=\\n', v)"
      ],
      "execution_count": 52,
      "outputs": [
        {
          "output_type": "stream",
          "text": [
            "t=\n",
            " [[ 0  1  2  3  4  5  6  7  8]\n",
            " [ 9 10 11 12 13 14 15 16 17]\n",
            " [18 19 20 21 22 23 24 25 26]\n",
            " [27 28 29 30 31 32 33 34 35]\n",
            " [36 37 38 39 40 41 42 43 44]\n",
            " [45 46 47 48 49 50 51 52 53]\n",
            " [54 55 56 57 58 59 60 61 62]\n",
            " [63 64 65 66 67 68 69 70 71]]\n",
            "v=\n",
            " [[72 73 74 75 76 77 78 79 80]\n",
            " [81 82 83 84 85 86 87 88 89]]\n"
          ],
          "name": "stdout"
        }
      ]
    },
    {
      "cell_type": "markdown",
      "metadata": {
        "ExecuteTime": {
          "end_time": "2017-11-24T10:48:34.684472",
          "start_time": "2017-11-24T10:48:34.681557"
        },
        "id": "_TXI8yIKMSUH",
        "colab_type": "text"
      },
      "source": [
        "### Exercício: Teste sua função com outros valores"
      ]
    },
    {
      "cell_type": "code",
      "metadata": {
        "id": "2tHHs1p2MSUI",
        "colab_type": "code",
        "outputId": "64cadad5-d5bb-4601-b6e4-58e8015fa41b",
        "colab": {
          "base_uri": "https://localhost:8080/",
          "height": 243
        }
      },
      "source": [
        "t,v = split(aa, 0.5)\n",
        "print('t=\\n', t)\n",
        "print('v=\\n', v)"
      ],
      "execution_count": 53,
      "outputs": [
        {
          "output_type": "stream",
          "text": [
            "t=\n",
            " [[ 0  1  2  3  4  5  6  7  8]\n",
            " [ 9 10 11 12 13 14 15 16 17]\n",
            " [18 19 20 21 22 23 24 25 26]\n",
            " [27 28 29 30 31 32 33 34 35]\n",
            " [36 37 38 39 40 41 42 43 44]]\n",
            "v=\n",
            " [[45 46 47 48 49 50 51 52 53]\n",
            " [54 55 56 57 58 59 60 61 62]\n",
            " [63 64 65 66 67 68 69 70 71]\n",
            " [72 73 74 75 76 77 78 79 80]\n",
            " [81 82 83 84 85 86 87 88 89]]\n"
          ],
          "name": "stdout"
        }
      ]
    },
    {
      "cell_type": "code",
      "metadata": {
        "id": "M9FtlDTOYaxM",
        "colab_type": "code",
        "outputId": "7b695202-b75d-47af-ba78-b34739414772",
        "colab": {
          "base_uri": "https://localhost:8080/",
          "height": 243
        }
      },
      "source": [
        "t,v = split(aa, 0.15)\n",
        "print('t=\\n', t)\n",
        "print('v=\\n', v)"
      ],
      "execution_count": 54,
      "outputs": [
        {
          "output_type": "stream",
          "text": [
            "t=\n",
            " [[ 0  1  2  3  4  5  6  7  8]\n",
            " [ 9 10 11 12 13 14 15 16 17]]\n",
            "v=\n",
            " [[18 19 20 21 22 23 24 25 26]\n",
            " [27 28 29 30 31 32 33 34 35]\n",
            " [36 37 38 39 40 41 42 43 44]\n",
            " [45 46 47 48 49 50 51 52 53]\n",
            " [54 55 56 57 58 59 60 61 62]\n",
            " [63 64 65 66 67 68 69 70 71]\n",
            " [72 73 74 75 76 77 78 79 80]\n",
            " [81 82 83 84 85 86 87 88 89]]\n"
          ],
          "name": "stdout"
        }
      ]
    },
    {
      "cell_type": "markdown",
      "metadata": {
        "id": "zKrfX7AAMSUK",
        "colab_type": "text"
      },
      "source": [
        "# Programação Orientada a Objetos"
      ]
    },
    {
      "cell_type": "markdown",
      "metadata": {
        "id": "n5-Ss6KmMSUK",
        "colab_type": "text"
      },
      "source": [
        "Documentação oficial: https://docs.python.org/3/tutorial/classes.html\n",
        "\n",
        "Forma clássica de definição de uma função:"
      ]
    },
    {
      "cell_type": "code",
      "metadata": {
        "ExecuteTime": {
          "end_time": "2017-11-24T10:48:34.691958",
          "start_time": "2017-11-24T10:48:34.686202"
        },
        "id": "HnJ__uYRMSUL",
        "colab_type": "code",
        "outputId": "b0b0c9a4-b9a1-49f8-ed46-4518e417ffd2",
        "colab": {
          "base_uri": "https://localhost:8080/",
          "height": 36
        }
      },
      "source": [
        "data = np.array([13, 63, 5, 378, 58, 40])\n",
        "\n",
        "def avg(d):\n",
        "    return sum(d)/len(d)\n",
        "    \n",
        "avg(data)"
      ],
      "execution_count": 55,
      "outputs": [
        {
          "output_type": "execute_result",
          "data": {
            "text/plain": [
              "92.83333333333333"
            ]
          },
          "metadata": {
            "tags": []
          },
          "execution_count": 55
        }
      ]
    },
    {
      "cell_type": "markdown",
      "metadata": {
        "id": "5-VBaoQ1MSUN",
        "colab_type": "text"
      },
      "source": [
        "## Definição da classe, variáveis, inicialização e método"
      ]
    },
    {
      "cell_type": "markdown",
      "metadata": {
        "id": "MqKGNQgZMSUN",
        "colab_type": "text"
      },
      "source": [
        "Definição da classe `MyAvg`, contendo duas variávels: `id` (compartilhada) e `d`; inicialização e método `avg`.\n",
        "\n",
        "- **Classe** é uma forma de definir um tipo abstrato de dados\n",
        "- **Instância** de uma classe é chamada **objeto**\n",
        "- Operadores ou funções de uma classe são chamados **métodos**\n",
        "- **Variáveis de instância** são variáveis associadas à instância\n",
        "- **Variáveis de classe** são variáveis compartilhada com todas as instâncias da classe\n",
        "\n",
        "O nome de uma classe é usualmente escrita usando *Camel case* enquanto que métodos são\n",
        "escritos com caixa baixa."
      ]
    },
    {
      "cell_type": "code",
      "metadata": {
        "ExecuteTime": {
          "end_time": "2017-11-24T10:48:34.698207",
          "start_time": "2017-11-24T10:48:34.693790"
        },
        "id": "4AC0TG_7MSUO",
        "colab_type": "code",
        "colab": {}
      },
      "source": [
        "class MyAvg:\n",
        "    id = 0.33                # variável compartilhada com todas as instâncias\n",
        "    \n",
        "    def __init__(self,data):\n",
        "        self.d = data        # variável associada a cada instância \n",
        "        \n",
        "    def avg(self): # método para calcular a média\n",
        "        return sum(self.d)/len(self.d)"
      ],
      "execution_count": 0,
      "outputs": []
    },
    {
      "cell_type": "markdown",
      "metadata": {
        "ExecuteTime": {
          "end_time": "2017-09-28T22:37:21.312216Z",
          "start_time": "2017-09-28T22:37:21.306739Z"
        },
        "id": "YMUHj_0wMSUS",
        "colab_type": "text"
      },
      "source": [
        "Objetos `a` e `b` são instâncias da classe `MyAvg`.\n",
        "Instanciar uma classe é inicializá-la através da chamada ao método __init__:"
      ]
    },
    {
      "cell_type": "code",
      "metadata": {
        "ExecuteTime": {
          "end_time": "2017-11-24T10:48:34.702739",
          "start_time": "2017-11-24T10:48:34.699932"
        },
        "id": "Ie88SwRxMSUT",
        "colab_type": "code",
        "colab": {}
      },
      "source": [
        "a = MyAvg(data)\n",
        "b = MyAvg(2*data)"
      ],
      "execution_count": 0,
      "outputs": []
    },
    {
      "cell_type": "markdown",
      "metadata": {
        "id": "FIRJlxB-MSUV",
        "colab_type": "text"
      },
      "source": [
        "Aplicação do método `avg()`, retorna a média dos dados dos objetos a e b:"
      ]
    },
    {
      "cell_type": "code",
      "metadata": {
        "ExecuteTime": {
          "end_time": "2017-11-24T10:48:34.708357",
          "start_time": "2017-11-24T10:48:34.704485"
        },
        "id": "7EcXJ_kPMSUV",
        "colab_type": "code",
        "outputId": "cc14bfd3-38fd-4a22-892b-b88033137ac7",
        "colab": {
          "base_uri": "https://localhost:8080/",
          "height": 55
        }
      },
      "source": [
        "print(a.avg())\n",
        "print(b.avg())"
      ],
      "execution_count": 58,
      "outputs": [
        {
          "output_type": "stream",
          "text": [
            "92.83333333333333\n",
            "185.66666666666666\n"
          ],
          "name": "stdout"
        }
      ]
    },
    {
      "cell_type": "code",
      "metadata": {
        "ExecuteTime": {
          "end_time": "2017-11-24T10:48:34.713753",
          "start_time": "2017-11-24T10:48:34.710083"
        },
        "id": "ISpFZDSUMSUX",
        "colab_type": "code",
        "outputId": "9fc804c8-31a1-4929-8b57-40829bb35a65",
        "colab": {
          "base_uri": "https://localhost:8080/",
          "height": 55
        }
      },
      "source": [
        "# Imprima os valores dos dados associados aos objetos a e b:\n",
        "print(a.d)\n",
        "print(b.d)"
      ],
      "execution_count": 59,
      "outputs": [
        {
          "output_type": "stream",
          "text": [
            "[ 13  63   5 378  58  40]\n",
            "[ 26 126  10 756 116  80]\n"
          ],
          "name": "stdout"
        }
      ]
    },
    {
      "cell_type": "code",
      "metadata": {
        "ExecuteTime": {
          "end_time": "2017-11-24T10:48:34.719368",
          "start_time": "2017-11-24T10:48:34.715338"
        },
        "id": "uhY-7Me3MSUZ",
        "colab_type": "code",
        "outputId": "582bfe22-a166-40cb-c26f-6bb3af888f81",
        "colab": {
          "base_uri": "https://localhost:8080/",
          "height": 55
        }
      },
      "source": [
        "# Imprima a variável compartilhada `id` de cada objeto a e b:\n",
        "print(a.id)\n",
        "print(b.id)"
      ],
      "execution_count": 60,
      "outputs": [
        {
          "output_type": "stream",
          "text": [
            "0.33\n",
            "0.33\n"
          ],
          "name": "stdout"
        }
      ]
    },
    {
      "cell_type": "markdown",
      "metadata": {
        "id": "R4WdbrALMSUb",
        "colab_type": "text"
      },
      "source": [
        "## Herança de classe"
      ]
    },
    {
      "cell_type": "code",
      "metadata": {
        "ExecuteTime": {
          "end_time": "2017-11-24T10:48:34.724905",
          "start_time": "2017-11-24T10:48:34.721122"
        },
        "id": "0ObRRcygMSUc",
        "colab_type": "code",
        "colab": {}
      },
      "source": [
        "class MyAvgStd(MyAvg):\n",
        "    def var(self): # método adicional para calcular a variância\n",
        "        u = self.avg()\n",
        "        return np.sqrt(np.sum((self.d - u)**2)/len(self.d))"
      ],
      "execution_count": 0,
      "outputs": []
    },
    {
      "cell_type": "code",
      "metadata": {
        "ExecuteTime": {
          "end_time": "2017-11-24T10:48:34.729387",
          "start_time": "2017-11-24T10:48:34.726655"
        },
        "id": "CniCNgn1MSUe",
        "colab_type": "code",
        "colab": {}
      },
      "source": [
        "c = MyAvgStd(data)"
      ],
      "execution_count": 0,
      "outputs": []
    },
    {
      "cell_type": "code",
      "metadata": {
        "ExecuteTime": {
          "end_time": "2017-11-24T10:48:34.735547",
          "start_time": "2017-11-24T10:48:34.731136"
        },
        "id": "eIZWQrsvMSUg",
        "colab_type": "code",
        "outputId": "5e253707-8f84-4a19-e311-f4a8a0672745",
        "colab": {
          "base_uri": "https://localhost:8080/",
          "height": 55
        }
      },
      "source": [
        "print('media:',c.avg())\n",
        "print('variancia:',c.var())"
      ],
      "execution_count": 63,
      "outputs": [
        {
          "output_type": "stream",
          "text": [
            "media: 92.83333333333333\n",
            "variancia: 129.294775180163\n"
          ],
          "name": "stdout"
        }
      ]
    },
    {
      "cell_type": "code",
      "metadata": {
        "ExecuteTime": {
          "end_time": "2017-11-24T10:48:34.739611",
          "start_time": "2017-11-24T10:48:34.737200"
        },
        "id": "LidBEooRMSUj",
        "colab_type": "code",
        "outputId": "580fc55b-aa1d-4021-a60d-496c061a832e",
        "colab": {
          "base_uri": "https://localhost:8080/",
          "height": 55
        }
      },
      "source": [
        "# imprima os dados associados ao objeto c e a sua variável compartilhada id\n",
        "print('dados:', c.d)\n",
        "print('id:', c.id)"
      ],
      "execution_count": 64,
      "outputs": [
        {
          "output_type": "stream",
          "text": [
            "dados: [ 13  63   5 378  58  40]\n",
            "id: 0.33\n"
          ],
          "name": "stdout"
        }
      ]
    },
    {
      "cell_type": "markdown",
      "metadata": {
        "id": "7DzLiZ20MSUm",
        "colab_type": "text"
      },
      "source": [
        "### Exercício: convertendo a função `split` na classe `C_Split`"
      ]
    },
    {
      "cell_type": "markdown",
      "metadata": {
        "id": "DT2IR6feMSUp",
        "colab_type": "text"
      },
      "source": [
        "Implemente a classe `C_Split` para ter a mesma funcionalidade da função `split` feita acima"
      ]
    },
    {
      "cell_type": "code",
      "metadata": {
        "ExecuteTime": {
          "end_time": "2017-11-24T10:48:34.744816",
          "start_time": "2017-11-24T10:48:34.741384"
        },
        "id": "fO0Abl_aMSUq",
        "colab_type": "code",
        "colab": {}
      },
      "source": [
        "class C_Split():\n",
        "    def __init__(self,d):\n",
        "        self.d = d\n",
        "    def split(self, split_factor):\n",
        "        #---------------------------\n",
        "        # calculate size of datasets\n",
        "        train_size = round(split_factor * self.d.shape[0])\n",
        "        val_size = self.d.shape[0] - train_size\n",
        "        #---------------------------\n",
        "        # split dataset\n",
        "        train = self.d[:train_size,:]\n",
        "        val = self.d[train_size:,:]\n",
        "        #---------------------------\n",
        "        return train, val"
      ],
      "execution_count": 0,
      "outputs": []
    },
    {
      "cell_type": "code",
      "metadata": {
        "ExecuteTime": {
          "end_time": "2017-11-24T10:48:34.749098",
          "start_time": "2017-11-24T10:48:34.746587"
        },
        "id": "nSgr-Q5GMSUu",
        "colab_type": "code",
        "colab": {}
      },
      "source": [
        "data_train_val = C_Split(aa)\n",
        "train, val = data_train_val.split(0.8)"
      ],
      "execution_count": 0,
      "outputs": []
    },
    {
      "cell_type": "code",
      "metadata": {
        "id": "nDI4mITUd-2R",
        "colab_type": "code",
        "outputId": "51217150-d90b-4d47-e2f4-6dc2942153b9",
        "colab": {
          "base_uri": "https://localhost:8080/",
          "height": 243
        }
      },
      "source": [
        "print('train=\\n', train)\n",
        "print('val=\\n', val)"
      ],
      "execution_count": 67,
      "outputs": [
        {
          "output_type": "stream",
          "text": [
            "train=\n",
            " [[ 0  1  2  3  4  5  6  7  8]\n",
            " [ 9 10 11 12 13 14 15 16 17]\n",
            " [18 19 20 21 22 23 24 25 26]\n",
            " [27 28 29 30 31 32 33 34 35]\n",
            " [36 37 38 39 40 41 42 43 44]\n",
            " [45 46 47 48 49 50 51 52 53]\n",
            " [54 55 56 57 58 59 60 61 62]\n",
            " [63 64 65 66 67 68 69 70 71]]\n",
            "val=\n",
            " [[72 73 74 75 76 77 78 79 80]\n",
            " [81 82 83 84 85 86 87 88 89]]\n"
          ],
          "name": "stdout"
        }
      ]
    },
    {
      "cell_type": "markdown",
      "metadata": {
        "id": "UpVuIMTYMSUw",
        "colab_type": "text"
      },
      "source": [
        "## Classe com métodos `__len__` e `__getitem__`"
      ]
    },
    {
      "cell_type": "markdown",
      "metadata": {
        "id": "kRj41fBWMSUx",
        "colab_type": "text"
      },
      "source": [
        "Uma classe com métodos `__len__` e `__getitem__` permite que os objetos possam ser indexados e calculado o seu número de elementos.\n",
        "\n",
        "Veja o exemplo a seguir:"
      ]
    },
    {
      "cell_type": "code",
      "metadata": {
        "ExecuteTime": {
          "end_time": "2017-11-24T10:48:34.755820",
          "start_time": "2017-11-24T10:48:34.750857"
        },
        "id": "nduyTIhIMSUy",
        "colab_type": "code",
        "colab": {}
      },
      "source": [
        "class Word():\n",
        "    def __init__(self, phrase):\n",
        "        self.wordlist = phrase.split() # separa frase em uma lista de palavras\n",
        "    \n",
        "    def __len__(self):\n",
        "        return len(self.wordlist)\n",
        "    \n",
        "    def __getitem__(self,x):\n",
        "        return self.wordlist[x]"
      ],
      "execution_count": 0,
      "outputs": []
    },
    {
      "cell_type": "code",
      "metadata": {
        "ExecuteTime": {
          "end_time": "2017-11-24T10:48:34.760433",
          "start_time": "2017-11-24T10:48:34.757750"
        },
        "id": "--4uidd4MSUz",
        "colab_type": "code",
        "colab": {}
      },
      "source": [
        "frase = 'Esta frase é formada por 7 palavras'\n",
        "palavras = Word(frase)"
      ],
      "execution_count": 0,
      "outputs": []
    },
    {
      "cell_type": "code",
      "metadata": {
        "ExecuteTime": {
          "end_time": "2017-11-24T10:48:34.766299",
          "start_time": "2017-11-24T10:48:34.762252"
        },
        "id": "D7qIQyWuMSU0",
        "colab_type": "code",
        "outputId": "3b929fe5-f2bf-4c65-a457-f9b85bf0ddbf",
        "colab": {
          "base_uri": "https://localhost:8080/",
          "height": 36
        }
      },
      "source": [
        "palavras[3]  # permite a indexação do objeto"
      ],
      "execution_count": 70,
      "outputs": [
        {
          "output_type": "execute_result",
          "data": {
            "text/plain": [
              "'formada'"
            ]
          },
          "metadata": {
            "tags": []
          },
          "execution_count": 70
        }
      ]
    },
    {
      "cell_type": "code",
      "metadata": {
        "ExecuteTime": {
          "end_time": "2017-11-24T10:48:34.771384",
          "start_time": "2017-11-24T10:48:34.767972"
        },
        "id": "-tPEemreMSU2",
        "colab_type": "code",
        "outputId": "16fa3173-983e-45db-c2a7-ff803e722360",
        "colab": {
          "base_uri": "https://localhost:8080/",
          "height": 36
        }
      },
      "source": [
        "print(len(palavras))"
      ],
      "execution_count": 71,
      "outputs": [
        {
          "output_type": "stream",
          "text": [
            "7\n"
          ],
          "name": "stdout"
        }
      ]
    },
    {
      "cell_type": "markdown",
      "metadata": {
        "id": "4CsQteY1MSU3",
        "colab_type": "text"
      },
      "source": [
        "### Exercício para indexar elementos de um dicionário"
      ]
    },
    {
      "cell_type": "markdown",
      "metadata": {
        "id": "c21kGn2SMSU4",
        "colab_type": "text"
      },
      "source": [
        "Um dicionário em Python não é indexado. Por exemplo seja o dicionário `d` a seguir.\n",
        "Não é possível indexar d[0] ou d[1] para buscar o primeiro ou segundo par (chave:valor)."
      ]
    },
    {
      "cell_type": "code",
      "metadata": {
        "ExecuteTime": {
          "end_time": "2017-11-24T10:48:34.775919",
          "start_time": "2017-11-24T10:48:34.773248"
        },
        "id": "afekUx4-MSU5",
        "colab_type": "code",
        "colab": {}
      },
      "source": [
        "d = {'a':1,'b': 2}"
      ],
      "execution_count": 0,
      "outputs": []
    },
    {
      "cell_type": "markdown",
      "metadata": {
        "id": "sg5rZwCnMSU7",
        "colab_type": "text"
      },
      "source": [
        "Implementar uma classe que receba um dicionário e permita que ele possa ser indexado.\n",
        "Para converter um dicionário em uma lista de pares, use:"
      ]
    },
    {
      "cell_type": "code",
      "metadata": {
        "ExecuteTime": {
          "end_time": "2017-11-24T10:48:34.781948",
          "start_time": "2017-11-24T10:48:34.777863"
        },
        "id": "J2St20UFMSU8",
        "colab_type": "code",
        "outputId": "08b25757-70c2-4999-b0fe-7162fb1510c3",
        "colab": {
          "base_uri": "https://localhost:8080/",
          "height": 36
        }
      },
      "source": [
        "list(d.items())"
      ],
      "execution_count": 73,
      "outputs": [
        {
          "output_type": "execute_result",
          "data": {
            "text/plain": [
              "[('a', 1), ('b', 2)]"
            ]
          },
          "metadata": {
            "tags": []
          },
          "execution_count": 73
        }
      ]
    },
    {
      "cell_type": "markdown",
      "metadata": {
        "id": "TkZs14kAMSU9",
        "colab_type": "text"
      },
      "source": [
        "Complete a definição da classe `dicdata` a seguir para que um dicionário possa ser\n",
        "indexado:"
      ]
    },
    {
      "cell_type": "code",
      "metadata": {
        "ExecuteTime": {
          "end_time": "2017-11-24T10:48:34.788040",
          "start_time": "2017-11-24T10:48:34.783585"
        },
        "id": "n3Lnph3NMSU9",
        "colab_type": "code",
        "colab": {}
      },
      "source": [
        "class DicData():\n",
        "    def __init__(self, dic):\n",
        "        #print('a definir')\n",
        "        self.pairs = list(dic.items())\n",
        "        \n",
        "    def __len__(self):\n",
        "        #print('a definir')\n",
        "        return len(self.pairs)\n",
        "        \n",
        "    def __getitem__(self, x):\n",
        "        #print('a definir')\n",
        "        return self.pairs[x]"
      ],
      "execution_count": 0,
      "outputs": []
    },
    {
      "cell_type": "code",
      "metadata": {
        "ExecuteTime": {
          "end_time": "2017-11-24T10:48:34.816082",
          "start_time": "2017-11-24T10:48:34.789694"
        },
        "id": "LbD_HjcFMSVA",
        "colab_type": "code",
        "outputId": "ccf0805d-c424-4d7b-cde6-bbc9cf2e3632",
        "colab": {
          "base_uri": "https://localhost:8080/",
          "height": 55
        }
      },
      "source": [
        "dd = DicData(d)\n",
        "print(len(dd))\n",
        "print(dd[0])"
      ],
      "execution_count": 75,
      "outputs": [
        {
          "output_type": "stream",
          "text": [
            "2\n",
            "('a', 1)\n"
          ],
          "name": "stdout"
        }
      ]
    },
    {
      "cell_type": "markdown",
      "metadata": {
        "id": "2E33Qw4bMSVB",
        "colab_type": "text"
      },
      "source": [
        "## Iteradores"
      ]
    },
    {
      "cell_type": "markdown",
      "metadata": {
        "id": "TFuacPoMMSVB",
        "colab_type": "text"
      },
      "source": [
        "Iteradores são uteis para serem usados em estruturas do tipo `for a in b:`.\n",
        "\n",
        "Listas em Python são consideradas iteráveis, pois podem ser utilizadas nessa estrutura:"
      ]
    },
    {
      "cell_type": "code",
      "metadata": {
        "ExecuteTime": {
          "end_time": "2017-11-24T10:48:34.821690",
          "start_time": "2017-11-24T10:48:34.817887"
        },
        "id": "dR1W89hUMSVC",
        "colab_type": "code",
        "outputId": "b6f62277-61eb-424d-e550-c52f192f2844",
        "colab": {
          "base_uri": "https://localhost:8080/",
          "height": 74
        }
      },
      "source": [
        "for i in ['a', 'b', 'c']:\n",
        "    print(i)"
      ],
      "execution_count": 76,
      "outputs": [
        {
          "output_type": "stream",
          "text": [
            "a\n",
            "b\n",
            "c\n"
          ],
          "name": "stdout"
        }
      ]
    },
    {
      "cell_type": "markdown",
      "metadata": {
        "id": "FcQcnt9iMSVE",
        "colab_type": "text"
      },
      "source": [
        "O método do `range()` do python também é um iterável:"
      ]
    },
    {
      "cell_type": "code",
      "metadata": {
        "ExecuteTime": {
          "end_time": "2017-11-24T10:48:34.827296",
          "start_time": "2017-11-24T10:48:34.823318"
        },
        "id": "hX0bZnu0MSVE",
        "colab_type": "code",
        "outputId": "bd13e3c1-3a01-4af5-cc7f-9b1896e59c7e",
        "colab": {
          "base_uri": "https://localhost:8080/",
          "height": 74
        }
      },
      "source": [
        "for i in range(3):\n",
        "    print(i)"
      ],
      "execution_count": 77,
      "outputs": [
        {
          "output_type": "stream",
          "text": [
            "0\n",
            "1\n",
            "2\n"
          ],
          "name": "stdout"
        }
      ]
    },
    {
      "cell_type": "markdown",
      "metadata": {
        "id": "_o65EfomMSVF",
        "colab_type": "text"
      },
      "source": [
        "É possível acessar o iterador destas estruturas utilizando o método `iter()` do Python e então é possível percorrer seus elementos utilizado `next()`:"
      ]
    },
    {
      "cell_type": "code",
      "metadata": {
        "ExecuteTime": {
          "end_time": "2017-11-24T10:48:34.834575",
          "start_time": "2017-11-24T10:48:34.829061"
        },
        "id": "ssh4QpCUMSVG",
        "colab_type": "code",
        "outputId": "6f7ea1bf-ec28-4aaa-b672-b2050f291e48",
        "colab": {
          "base_uri": "https://localhost:8080/",
          "height": 74
        }
      },
      "source": [
        "lista = ['a', 'b', 'c']\n",
        "iterador = iter(lista)\n",
        "print('tipo de iterador:', type(lista))\n",
        "print('tipo de iterador:', type(iterador))\n",
        "print(next(iterador))"
      ],
      "execution_count": 78,
      "outputs": [
        {
          "output_type": "stream",
          "text": [
            "tipo de iterador: <class 'list'>\n",
            "tipo de iterador: <class 'list_iterator'>\n",
            "a\n"
          ],
          "name": "stdout"
        }
      ]
    },
    {
      "cell_type": "markdown",
      "metadata": {
        "id": "XXQzpz22MSVH",
        "colab_type": "text"
      },
      "source": [
        "O acesso de iteradores é sequencial e após o ultimo elemento uma exceção é levantada indicando o fim do iterador.\n",
        "Descomente o último `next` e veja o tipo da exceção que acontece."
      ]
    },
    {
      "cell_type": "code",
      "metadata": {
        "ExecuteTime": {
          "end_time": "2017-11-24T10:48:34.840458",
          "start_time": "2017-11-24T10:48:34.836436"
        },
        "id": "VmvwtldmMSVI",
        "colab_type": "code",
        "outputId": "a53cbf6b-ab17-46ee-8ded-335165e38c45",
        "colab": {
          "base_uri": "https://localhost:8080/",
          "height": 251
        }
      },
      "source": [
        "print(next(iterador))\n",
        "print(next(iterador))\n",
        "print(next(iterador))"
      ],
      "execution_count": 79,
      "outputs": [
        {
          "output_type": "stream",
          "text": [
            "b\n",
            "c\n"
          ],
          "name": "stdout"
        },
        {
          "output_type": "error",
          "ename": "StopIteration",
          "evalue": "ignored",
          "traceback": [
            "\u001b[0;31m---------------------------------------------------------------------------\u001b[0m",
            "\u001b[0;31mStopIteration\u001b[0m                             Traceback (most recent call last)",
            "\u001b[0;32m<ipython-input-79-9fe936a62e91>\u001b[0m in \u001b[0;36m<module>\u001b[0;34m()\u001b[0m\n\u001b[1;32m      1\u001b[0m \u001b[0mprint\u001b[0m\u001b[0;34m(\u001b[0m\u001b[0mnext\u001b[0m\u001b[0;34m(\u001b[0m\u001b[0miterador\u001b[0m\u001b[0;34m)\u001b[0m\u001b[0;34m)\u001b[0m\u001b[0;34m\u001b[0m\u001b[0;34m\u001b[0m\u001b[0m\n\u001b[1;32m      2\u001b[0m \u001b[0mprint\u001b[0m\u001b[0;34m(\u001b[0m\u001b[0mnext\u001b[0m\u001b[0;34m(\u001b[0m\u001b[0miterador\u001b[0m\u001b[0;34m)\u001b[0m\u001b[0;34m)\u001b[0m\u001b[0;34m\u001b[0m\u001b[0;34m\u001b[0m\u001b[0m\n\u001b[0;32m----> 3\u001b[0;31m \u001b[0mprint\u001b[0m\u001b[0;34m(\u001b[0m\u001b[0mnext\u001b[0m\u001b[0;34m(\u001b[0m\u001b[0miterador\u001b[0m\u001b[0;34m)\u001b[0m\u001b[0;34m)\u001b[0m\u001b[0;34m\u001b[0m\u001b[0;34m\u001b[0m\u001b[0m\n\u001b[0m",
            "\u001b[0;31mStopIteration\u001b[0m: "
          ]
        }
      ]
    },
    {
      "cell_type": "markdown",
      "metadata": {
        "id": "cko9xrCYMSVJ",
        "colab_type": "text"
      },
      "source": [
        "## Criando objetos iteráveis"
      ]
    },
    {
      "cell_type": "markdown",
      "metadata": {
        "id": "sn8MEdHdMSVJ",
        "colab_type": "text"
      },
      "source": [
        "Para implementar um objeto iterador é preciso escrever um método `__next__()` para a classe e para que ele seja acessível como iterável também é necessário escrever um método `__iter__()`: "
      ]
    },
    {
      "cell_type": "code",
      "metadata": {
        "ExecuteTime": {
          "end_time": "2017-11-24T10:48:34.848707",
          "start_time": "2017-11-24T10:48:34.842063"
        },
        "id": "DWEIOiPdMSVK",
        "colab_type": "code",
        "colab": {}
      },
      "source": [
        "class WordIterator():\n",
        "    def __init__(self, phrase):\n",
        "        self.words = phrase.split()\n",
        "        \n",
        "    def __iter__(self):\n",
        "        self.iter_index = 0\n",
        "        return self\n",
        "    \n",
        "    def __next__(self):\n",
        "        if self.iter_index < len(self.words):\n",
        "            i = self.iter_index\n",
        "            self.iter_index += 1\n",
        "            return self.words[i]\n",
        "        else:\n",
        "            raise StopIteration()"
      ],
      "execution_count": 0,
      "outputs": []
    },
    {
      "cell_type": "markdown",
      "metadata": {
        "id": "Og-ad8kNMSVL",
        "colab_type": "text"
      },
      "source": [
        "A classe acima é um iterador e é iterável. \n",
        "\n",
        "No método `__iter__()` reiniciamos o índice inicial para o iterador e retornamos o próprio objeto (um iterador).\n",
        "\n",
        "No método `__next__()` retornamos a palavra do índice atual ou a exceção de parada, caso seja o fim."
      ]
    },
    {
      "cell_type": "code",
      "metadata": {
        "ExecuteTime": {
          "end_time": "2017-11-24T10:48:34.853670",
          "start_time": "2017-11-24T10:48:34.850613"
        },
        "id": "NKrs4a5TMSVL",
        "colab_type": "code",
        "colab": {}
      },
      "source": [
        "frase = 'Esta frase é formada por 7 palavras'\n",
        "iterador_de_palavras = WordIterator(frase)"
      ],
      "execution_count": 0,
      "outputs": []
    },
    {
      "cell_type": "code",
      "metadata": {
        "ExecuteTime": {
          "end_time": "2017-11-24T10:48:34.860627",
          "start_time": "2017-11-24T10:48:34.855389"
        },
        "id": "cWRzfljFMSVN",
        "colab_type": "code",
        "outputId": "297a15f0-7576-4e2c-d0a5-90e322cb3d70",
        "colab": {
          "base_uri": "https://localhost:8080/",
          "height": 149
        }
      },
      "source": [
        "for palavra in iterador_de_palavras:\n",
        "    print(palavra)"
      ],
      "execution_count": 82,
      "outputs": [
        {
          "output_type": "stream",
          "text": [
            "Esta\n",
            "frase\n",
            "é\n",
            "formada\n",
            "por\n",
            "7\n",
            "palavras\n"
          ],
          "name": "stdout"
        }
      ]
    },
    {
      "cell_type": "markdown",
      "metadata": {
        "id": "Cp7Je1wXMSVP",
        "colab_type": "text"
      },
      "source": [
        "### Exercício com iterador"
      ]
    },
    {
      "cell_type": "markdown",
      "metadata": {
        "ExecuteTime": {
          "end_time": "2017-09-29T11:41:50.515551",
          "start_time": "2017-09-29T11:41:50.483441"
        },
        "id": "tSZHu5b_MSVQ",
        "colab_type": "text"
      },
      "source": [
        "Crie uma classe `DictIterator` que permita varrer os itens de um dicionário utilizando o `for`"
      ]
    },
    {
      "cell_type": "code",
      "metadata": {
        "ExecuteTime": {
          "end_time": "2017-11-24T10:48:34.867197",
          "start_time": "2017-11-24T10:48:34.862428"
        },
        "id": "22xdh6VAMSVQ",
        "colab_type": "code",
        "colab": {}
      },
      "source": [
        "class DictIterator():\n",
        "    def __init__(self, dict):\n",
        "        #print('a definir')\n",
        "        self.pairs = list(dict.items())\n",
        "\n",
        "    def __iter__(self):\n",
        "        #print('a definir')\n",
        "        self.iter_index = 0\n",
        "        return self\n",
        "\n",
        "    def __next__(self):\n",
        "        #print('a definir')\n",
        "        if self.iter_index < len(self.pairs):\n",
        "            i = self.iter_index\n",
        "            self.iter_index += 1\n",
        "            return self.pairs[i]\n",
        "        else:\n",
        "            raise StopIteration()"
      ],
      "execution_count": 0,
      "outputs": []
    },
    {
      "cell_type": "code",
      "metadata": {
        "ExecuteTime": {
          "end_time": "2017-11-24T10:48:34.873303",
          "start_time": "2017-11-24T10:48:34.868889"
        },
        "id": "5jCSeIBXMSVS",
        "colab_type": "code",
        "outputId": "684cabca-eaff-4b7e-dd6c-2feb772ce0a7",
        "colab": {
          "base_uri": "https://localhost:8080/",
          "height": 74
        }
      },
      "source": [
        "d = {'a':1,'b': 2, 'c': 3}\n",
        "d_iter = DictIterator(d)\n",
        "for i in d_iter:\n",
        "    print(i)"
      ],
      "execution_count": 84,
      "outputs": [
        {
          "output_type": "stream",
          "text": [
            "('a', 1)\n",
            "('b', 2)\n",
            "('c', 3)\n"
          ],
          "name": "stdout"
        }
      ]
    },
    {
      "cell_type": "markdown",
      "metadata": {
        "id": "P8HXFqYGMSVT",
        "colab_type": "text"
      },
      "source": [
        "## Objeto como função"
      ]
    },
    {
      "cell_type": "markdown",
      "metadata": {
        "ExecuteTime": {
          "end_time": "2017-09-29T14:25:18.470914",
          "start_time": "2017-09-29T14:25:18.467088"
        },
        "id": "IBVxctVoMSVU",
        "colab_type": "text"
      },
      "source": [
        "É possível declarar uma classe contendo um objeto possa ser chamado (*callable object*).\n",
        "Para isso, a classe deve conter o método `__call__`. Veja o exemplo a seguir:"
      ]
    },
    {
      "cell_type": "code",
      "metadata": {
        "ExecuteTime": {
          "end_time": "2017-11-24T10:48:34.878801",
          "start_time": "2017-11-24T10:48:34.875191"
        },
        "id": "eEiTWeraMSVU",
        "colab_type": "code",
        "colab": {}
      },
      "source": [
        "class Scale():\n",
        "    def __init__(self, w):\n",
        "        self._w = w\n",
        "    def __call__(self, x):\n",
        "        return x * self._w"
      ],
      "execution_count": 0,
      "outputs": []
    },
    {
      "cell_type": "code",
      "metadata": {
        "ExecuteTime": {
          "end_time": "2017-11-24T10:48:34.884098",
          "start_time": "2017-11-24T10:48:34.880506"
        },
        "id": "JSF1vVoIMSVW",
        "colab_type": "code",
        "outputId": "5670fd09-7462-405e-ca9b-d3c00ac83147",
        "colab": {
          "base_uri": "https://localhost:8080/",
          "height": 36
        }
      },
      "source": [
        "s = Scale(100.)\n",
        "print(s(5))\n"
      ],
      "execution_count": 86,
      "outputs": [
        {
          "output_type": "stream",
          "text": [
            "500.0\n"
          ],
          "name": "stdout"
        }
      ]
    },
    {
      "cell_type": "markdown",
      "metadata": {
        "id": "DtBmE3QIMSVW",
        "colab_type": "text"
      },
      "source": [
        "### Exercício de classe contendo objeto chamável"
      ]
    },
    {
      "cell_type": "markdown",
      "metadata": {
        "id": "inaXzH6OMSVX",
        "colab_type": "text"
      },
      "source": [
        "Defina uma classe herdada da classe `Scale` que permita modificar a variável `self._w`."
      ]
    },
    {
      "cell_type": "code",
      "metadata": {
        "ExecuteTime": {
          "end_time": "2017-11-24T10:48:34.888869",
          "start_time": "2017-11-24T10:48:34.885999"
        },
        "id": "9JwTjv6MMSVY",
        "colab_type": "code",
        "colab": {}
      },
      "source": [
        "class AjustaPeso(Scale):\n",
        "    def wset(self, new_w):\n",
        "        #print('a preencher')\n",
        "        self._w = new_w"
      ],
      "execution_count": 0,
      "outputs": []
    },
    {
      "cell_type": "code",
      "metadata": {
        "ExecuteTime": {
          "end_time": "2017-11-24T10:48:34.894058",
          "start_time": "2017-11-24T10:48:34.890663"
        },
        "id": "wZH-xe5iMSVZ",
        "colab_type": "code",
        "outputId": "6ef6393c-c05b-455f-8b08-8a15c7f24b28",
        "colab": {
          "base_uri": "https://localhost:8080/",
          "height": 36
        }
      },
      "source": [
        "ap = AjustaPeso(100.)\n",
        "print(ap(5))"
      ],
      "execution_count": 88,
      "outputs": [
        {
          "output_type": "stream",
          "text": [
            "500.0\n"
          ],
          "name": "stdout"
        }
      ]
    },
    {
      "cell_type": "code",
      "metadata": {
        "ExecuteTime": {
          "end_time": "2017-11-24T10:48:34.898077",
          "start_time": "2017-11-24T10:48:34.895632"
        },
        "id": "TDdeR-XxMSVb",
        "colab_type": "code",
        "outputId": "ce32af1f-22b7-4804-dece-9887ca3fea6b",
        "colab": {
          "base_uri": "https://localhost:8080/",
          "height": 36
        }
      },
      "source": [
        "ap.wset(10)\n",
        "print(ap(5))"
      ],
      "execution_count": 89,
      "outputs": [
        {
          "output_type": "stream",
          "text": [
            "50\n"
          ],
          "name": "stdout"
        }
      ]
    },
    {
      "cell_type": "markdown",
      "metadata": {
        "id": "U5CCtH8bMSVc",
        "colab_type": "text"
      },
      "source": [
        "# Fim do notebook"
      ]
    },
    {
      "cell_type": "code",
      "metadata": {
        "id": "QKi4jM45MSVd",
        "colab_type": "code",
        "colab": {}
      },
      "source": [
        ""
      ],
      "execution_count": 0,
      "outputs": []
    }
  ]
}