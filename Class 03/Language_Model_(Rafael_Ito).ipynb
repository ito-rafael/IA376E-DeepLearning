{
  "nbformat": 4,
  "nbformat_minor": 0,
  "metadata": {
    "colab": {
      "name": "Language Model (Rafael Ito).ipynb",
      "provenance": [],
      "collapsed_sections": []
    },
    "kernelspec": {
      "name": "python3",
      "display_name": "Python 3"
    },
    "accelerator": "GPU"
  },
  "cells": [
    {
      "cell_type": "markdown",
      "metadata": {
        "id": "aibQMqn3rEp8",
        "colab_type": "text"
      },
      "source": [
        "# Language Model (Bengio, 2003)\n",
        "MLP with Word Embeddings"
      ]
    },
    {
      "cell_type": "markdown",
      "metadata": {
        "id": "399F2GKforfi",
        "colab_type": "text"
      },
      "source": [
        "Author: **Rafael Ito**  \n",
        "e-mail: ito.rafael@gmail.com"
      ]
    },
    {
      "cell_type": "markdown",
      "metadata": {
        "id": "eV7swfVuBvgm",
        "colab_type": "text"
      },
      "source": [
        "## 0. Dataset and Description\n",
        "\n",
        "**Name:**  WikiText-2  \n",
        "**Description:** this notebook uses the WikiText-2 dataset which is a language modeling dataset with over 2 millions tokens. The aim here is to build a language model that predicts the next word based on a sequence of NGRAM previous words, such as that found in the paper \"A Neural Probabilistic Language Model\" from Yoshua Bengio, 2003."
      ]
    },
    {
      "cell_type": "markdown",
      "metadata": {
        "id": "ZnLtgkmhr0y0",
        "colab_type": "text"
      },
      "source": [
        "## 1. Libraries and packages"
      ]
    },
    {
      "cell_type": "markdown",
      "metadata": {
        "id": "wF94hPU1HWt9",
        "colab_type": "text"
      },
      "source": [
        "### 1.1 Install packages"
      ]
    },
    {
      "cell_type": "code",
      "metadata": {
        "id": "44YWHZaqwDo4",
        "colab_type": "code",
        "colab": {}
      },
      "source": [
        "!pip install -q \\\n",
        "    torch       \\\n",
        "    numpy       \\\n",
        "    sklearn     \\\n",
        "    matplotlib  "
      ],
      "execution_count": 0,
      "outputs": []
    },
    {
      "cell_type": "markdown",
      "metadata": {
        "id": "F-lNBFD0HcPb",
        "colab_type": "text"
      },
      "source": [
        "### 1.2 Import libraries"
      ]
    },
    {
      "cell_type": "code",
      "metadata": {
        "id": "XYPw4vBWq_nd",
        "colab_type": "code",
        "colab": {}
      },
      "source": [
        "#-------------------------------------------------\n",
        "# general\n",
        "#-------------------\n",
        "import numpy as np\n",
        "import collections\n",
        "import itertools\n",
        "from scipy.sparse import csr_matrix\n",
        "#-------------------------------------------------\n",
        "# PyTorch\n",
        "#-------------------\n",
        "import torch\n",
        "from torch.utils.data import TensorDataset\n",
        "import torch.nn.functional as F\n",
        "#-------------------------------------------------\n",
        "# scikit-learn\n",
        "#-------------------\n",
        "from sklearn.preprocessing import OneHotEncoder\n",
        "#-------------------------------------------------\n",
        "# data visualization\n",
        "#-------------------\n",
        "import matplotlib.pyplot as plt\n",
        "#-------------------------------------------------\n",
        "# additional config\n",
        "#-------------------\n",
        "# random seed generator\n",
        "torch.manual_seed(42);"
      ],
      "execution_count": 0,
      "outputs": []
    },
    {
      "cell_type": "markdown",
      "metadata": {
        "id": "Rmn8887vHg2C",
        "colab_type": "text"
      },
      "source": [
        "### 1.3 Check device"
      ]
    },
    {
      "cell_type": "code",
      "metadata": {
        "id": "YXc7eeN9HjNh",
        "colab_type": "code",
        "outputId": "4e2715de-a57c-44f6-eedc-c506f7a19bf3",
        "colab": {
          "base_uri": "https://localhost:8080/",
          "height": 35
        }
      },
      "source": [
        "device = torch.device('cpu')\n",
        "if torch.cuda.is_available():\n",
        "    device = torch.device('cuda')\n",
        "print('Device:', device)"
      ],
      "execution_count": 3,
      "outputs": [
        {
          "output_type": "stream",
          "text": [
            "Device: cuda\n"
          ],
          "name": "stdout"
        }
      ]
    },
    {
      "cell_type": "markdown",
      "metadata": {
        "id": "Fb_hxbel26WM",
        "colab_type": "text"
      },
      "source": [
        "### 1.4 Constants definition"
      ]
    },
    {
      "cell_type": "code",
      "metadata": {
        "id": "pf3IfhKW2474",
        "colab_type": "code",
        "colab": {}
      },
      "source": [
        "# choose which embedding will be used: PyTorch class or own implementation\n",
        "#PYTORCH_EMBEDDING = False\n",
        "PYTORCH_EMBEDDING = True\n",
        "#-------------------\n",
        "# activate debug mode, limiting the vocab size and amount of tokens\n",
        "#DEBUG = True\n",
        "DEBUG = False\n",
        "#-------------------\n",
        "# define the size of embeddings\n",
        "EMBEDDING_DIM = 32\n",
        "#-------------------\n",
        "# define n-gram to be used: 5 context words\n",
        "NGRAM = 5\n",
        "#-------------------\n",
        "# define number of neurons in hidden layer\n",
        "HIDDEN_SIZE = 100"
      ],
      "execution_count": 0,
      "outputs": []
    },
    {
      "cell_type": "markdown",
      "metadata": {
        "id": "C4IayX1HsCyC",
        "colab_type": "text"
      },
      "source": [
        "## 2. Dataset"
      ]
    },
    {
      "cell_type": "markdown",
      "metadata": {
        "id": "QS8YeBbWH7rF",
        "colab_type": "text"
      },
      "source": [
        "### 2.1 Download"
      ]
    },
    {
      "cell_type": "code",
      "metadata": {
        "id": "be58QXZjoBWl",
        "colab_type": "code",
        "outputId": "567fda6e-8053-485a-9711-c847d49e8623",
        "colab": {
          "base_uri": "https://localhost:8080/",
          "height": 318
        }
      },
      "source": [
        "# download dataset\n",
        "!wget -nc https://s3.amazonaws.com/research.metamind.io/wikitext/wikitext-2-v1.zip\n",
        "!unzip -o wikitext-2-v1.zip"
      ],
      "execution_count": 5,
      "outputs": [
        {
          "output_type": "stream",
          "text": [
            "--2020-03-25 23:19:52--  https://s3.amazonaws.com/research.metamind.io/wikitext/wikitext-2-v1.zip\n",
            "Resolving s3.amazonaws.com (s3.amazonaws.com)... 52.216.18.163\n",
            "Connecting to s3.amazonaws.com (s3.amazonaws.com)|52.216.18.163|:443... connected.\n",
            "HTTP request sent, awaiting response... 200 OK\n",
            "Length: 4475746 (4.3M) [application/zip]\n",
            "Saving to: ‘wikitext-2-v1.zip’\n",
            "\n",
            "wikitext-2-v1.zip   100%[===================>]   4.27M  9.91MB/s    in 0.4s    \n",
            "\n",
            "2020-03-25 23:19:58 (9.91 MB/s) - ‘wikitext-2-v1.zip’ saved [4475746/4475746]\n",
            "\n",
            "Archive:  wikitext-2-v1.zip\n",
            "   creating: wikitext-2/\n",
            "  inflating: wikitext-2/wiki.test.tokens  \n",
            "  inflating: wikitext-2/wiki.valid.tokens  \n",
            "  inflating: wikitext-2/wiki.train.tokens  \n"
          ],
          "name": "stdout"
        }
      ]
    },
    {
      "cell_type": "markdown",
      "metadata": {
        "id": "LWGpvacBsdW_",
        "colab_type": "text"
      },
      "source": [
        "### 2.2 Dataset preparation"
      ]
    },
    {
      "cell_type": "markdown",
      "metadata": {
        "id": "SOqr7Qt0w_P_",
        "colab_type": "text"
      },
      "source": [
        "Function that loads the text dataset and return the tokens."
      ]
    },
    {
      "cell_type": "code",
      "metadata": {
        "id": "iPlOUdhtTuKV",
        "colab_type": "code",
        "colab": {}
      },
      "source": [
        "def load_tokens(path):\n",
        "    text = open(path).read().lower()\n",
        "    # Split sem argumentos remove quebras de linha e espaços duplicados.\n",
        "    return text.split()"
      ],
      "execution_count": 0,
      "outputs": []
    },
    {
      "cell_type": "markdown",
      "metadata": {
        "id": "feVlM5Q8xIP7",
        "colab_type": "text"
      },
      "source": [
        "Function that take as input the tokens and return the vocab organized based on the frequency of the words."
      ]
    },
    {
      "cell_type": "code",
      "metadata": {
        "id": "nP3fXgEWw-Aq",
        "colab_type": "code",
        "colab": {}
      },
      "source": [
        "def build_vocab(tokens, vocab_size):\n",
        "    word_frequency = collections.Counter(tokens)\n",
        "\n",
        "    vocab = {token: index for index, (token, _) in enumerate(\n",
        "        word_frequency.most_common(vocab_size))}\n",
        "\n",
        "    # Adicionamos o token \"<unk>\" para lidar com palavras não presentes no\n",
        "    # vocabulário . O dataset text8 já contem este token, mas pode ser que ele\n",
        "    # não tenha sido adicionado quando filtramos com `vocab_size`.\n",
        "    if '<unk>' not in vocab:\n",
        "        vocab['<unk>'] = len(vocab)\n",
        "    return vocab "
      ],
      "execution_count": 0,
      "outputs": []
    },
    {
      "cell_type": "markdown",
      "metadata": {
        "id": "IBx-LDSwyJxX",
        "colab_type": "text"
      },
      "source": [
        "Loading training, validation and test tokens."
      ]
    },
    {
      "cell_type": "code",
      "metadata": {
        "id": "tnjmJBaZUr0-",
        "colab_type": "code",
        "colab": {}
      },
      "source": [
        "train_tokens = load_tokens('wikitext-2/wiki.train.tokens')\n",
        "valid_tokens = load_tokens('wikitext-2/wiki.valid.tokens')\n",
        "test_tokens = load_tokens('wikitext-2/wiki.test.tokens')"
      ],
      "execution_count": 0,
      "outputs": []
    },
    {
      "cell_type": "code",
      "metadata": {
        "id": "URtP6BBXVJM8",
        "colab_type": "code",
        "outputId": "e0ad668f-59c9-4022-a9f2-407d3b1cde4e",
        "colab": {
          "base_uri": "https://localhost:8080/",
          "height": 35
        }
      },
      "source": [
        "# size of the each dataset\n",
        "len(train_tokens), len(valid_tokens), len(test_tokens)"
      ],
      "execution_count": 9,
      "outputs": [
        {
          "output_type": "execute_result",
          "data": {
            "text/plain": [
              "(2051910, 213886, 241211)"
            ]
          },
          "metadata": {
            "tags": []
          },
          "execution_count": 9
        }
      ]
    },
    {
      "cell_type": "markdown",
      "metadata": {
        "id": "h1Wm1jN3rAnf",
        "colab_type": "text"
      },
      "source": [
        "### 2.3 Check if in DEBUG mode"
      ]
    },
    {
      "cell_type": "markdown",
      "metadata": {
        "id": "7HU415tqy3SD",
        "colab_type": "text"
      },
      "source": [
        "If in DEBUG mode, limit the dataset taking the first 10,000 tokens."
      ]
    },
    {
      "cell_type": "code",
      "metadata": {
        "id": "dIV_Wl3L7z3M",
        "colab_type": "code",
        "colab": {}
      },
      "source": [
        "if DEBUG:\n",
        "    train_tokens = train_tokens[:10_000]\n",
        "    valid_tokens = valid_tokens[:10_000]\n",
        "    test_tokens  = test_tokens[:10_000]\n",
        "#-------------------------------------------------\n",
        "# even if not in debug mode, limit size of dataset due to the long time to train the network\n",
        "else:\n",
        "    #train_tokens = train_tokens[:100_000]\n",
        "    train_tokens = train_tokens[:25_000]\n",
        "    valid_tokens = valid_tokens[:100_000]\n",
        "    test_tokens  = test_tokens[:100_000]"
      ],
      "execution_count": 0,
      "outputs": []
    },
    {
      "cell_type": "markdown",
      "metadata": {
        "id": "iPuoX5CcyWLg",
        "colab_type": "text"
      },
      "source": [
        "If in DEBUG mode, limit the vocab to the 1,000 most frequent words."
      ]
    },
    {
      "cell_type": "code",
      "metadata": {
        "id": "x832et-PVY40",
        "colab_type": "code",
        "outputId": "6d3695b2-c605-4cea-aa9a-b8122215bc26",
        "colab": {
          "base_uri": "https://localhost:8080/",
          "height": 54
        }
      },
      "source": [
        "vocab_size = 1_000 if DEBUG else 10_000\n",
        "vocab = build_vocab(train_tokens, vocab_size=vocab_size)\n",
        "print(f'Vocab has {len(vocab)} tokens')\n",
        "print(f'10 sample tokens: {list(itertools.islice(vocab.keys(), 10))}')"
      ],
      "execution_count": 11,
      "outputs": [
        {
          "output_type": "stream",
          "text": [
            "Vocab has 4124 tokens\n",
            "10 sample tokens: ['the', ',', '.', '<unk>', 'of', 'and', 'in', 'to', 'a', '=']\n"
          ],
          "name": "stdout"
        }
      ]
    },
    {
      "cell_type": "markdown",
      "metadata": {
        "id": "HDIYnHSTBEs1",
        "colab_type": "text"
      },
      "source": [
        "### 2.4 Padding"
      ]
    },
    {
      "cell_type": "markdown",
      "metadata": {
        "id": "9WS92XYfBO7h",
        "colab_type": "text"
      },
      "source": [
        "Create '<pad>' padding word in vocab:"
      ]
    },
    {
      "cell_type": "code",
      "metadata": {
        "id": "dxNSGJXIBNll",
        "colab_type": "code",
        "colab": {}
      },
      "source": [
        "# replace the last vocab with the '<pad>' padding token:\n",
        "if '<pad>' not in vocab:\n",
        "    vocab['<pad>'] = len(vocab)\n",
        "    vocab_size = len(vocab)"
      ],
      "execution_count": 0,
      "outputs": []
    },
    {
      "cell_type": "markdown",
      "metadata": {
        "id": "eUr08NsxCcFD",
        "colab_type": "text"
      },
      "source": [
        "Add the padding token at the beginning of each dataset:"
      ]
    },
    {
      "cell_type": "code",
      "metadata": {
        "id": "mnzuWn0KFmWJ",
        "colab_type": "code",
        "outputId": "9e1f403e-22ff-48fe-dc76-3559d9f4a120",
        "colab": {
          "base_uri": "https://localhost:8080/",
          "height": 35
        }
      },
      "source": [
        "# create padding list to be concatenated with tokens dataset\n",
        "padding_list = NGRAM * ['<pad>']\n",
        "padding_list"
      ],
      "execution_count": 13,
      "outputs": [
        {
          "output_type": "execute_result",
          "data": {
            "text/plain": [
              "['<pad>', '<pad>', '<pad>', '<pad>', '<pad>']"
            ]
          },
          "metadata": {
            "tags": []
          },
          "execution_count": 13
        }
      ]
    },
    {
      "cell_type": "code",
      "metadata": {
        "id": "0jifQPFaCrUQ",
        "colab_type": "code",
        "colab": {}
      },
      "source": [
        "# concatenate the padding list removing the last NGRAM tokens\n",
        "train_tokens = padding_list + train_tokens\n",
        "valid_tokens = padding_list + valid_tokens\n",
        "test_tokens  = padding_list + test_tokens"
      ],
      "execution_count": 0,
      "outputs": []
    },
    {
      "cell_type": "markdown",
      "metadata": {
        "id": "U6S8mu4eKoTp",
        "colab_type": "text"
      },
      "source": [
        "### 2.5 Token indexes list"
      ]
    },
    {
      "cell_type": "code",
      "metadata": {
        "id": "IgHIzgUMJMv8",
        "colab_type": "code",
        "colab": {}
      },
      "source": [
        "# for each token in the dataset append its correspondent index,\n",
        "# if the token is not in vocab, append the index of the '<unk>' token\n",
        "idx_train = [vocab[token] if token in vocab else vocab['<unk>'] for token in train_tokens]\n",
        "idx_val   = [vocab[token] if token in vocab else vocab['<unk>'] for token in valid_tokens]\n",
        "idx_test  = [vocab[token] if token in vocab else vocab['<unk>'] for token in test_tokens]"
      ],
      "execution_count": 0,
      "outputs": []
    },
    {
      "cell_type": "markdown",
      "metadata": {
        "id": "fl7pHOrQ19lO",
        "colab_type": "text"
      },
      "source": [
        "### 2.6 Format inputs and targets"
      ]
    },
    {
      "cell_type": "code",
      "metadata": {
        "id": "GLhSvNZv152c",
        "colab_type": "code",
        "colab": {}
      },
      "source": [
        "# get the size of each dataset\n",
        "train_size = len(idx_train) - NGRAM\n",
        "val_size   = len(idx_val) - NGRAM\n",
        "test_size  = len(idx_test) - NGRAM"
      ],
      "execution_count": 0,
      "outputs": []
    },
    {
      "cell_type": "markdown",
      "metadata": {
        "id": "Vhjp6Rn_5T_y",
        "colab_type": "text"
      },
      "source": [
        "Initialize X and y for all datasets with zeros"
      ]
    },
    {
      "cell_type": "code",
      "metadata": {
        "id": "nDgNpK384Juo",
        "colab_type": "code",
        "colab": {}
      },
      "source": [
        "'''\n",
        "-------------------\n",
        "X type: torch.Tensor\n",
        "X \"dim\": 2\n",
        "X \"shape\": (set_size x NGRAM)\n",
        "-------------------\n",
        "y type: torch.Tensor\n",
        "y dim: 1\n",
        "y shape: set_size\n",
        "-------------------\n",
        "'''\n",
        "# create X and y for training set\n",
        "X_train = train_size * [NGRAM * [0]]\n",
        "y_train = train_size * [0]\n",
        "# create X and y for validation set\n",
        "X_val   = val_size * [NGRAM * [0]]\n",
        "y_val   = val_size * [0]\n",
        "# create X and y for test set\n",
        "X_test  = test_size * [NGRAM * [0]]\n",
        "y_test  = test_size * [0]"
      ],
      "execution_count": 0,
      "outputs": []
    },
    {
      "cell_type": "markdown",
      "metadata": {
        "id": "jj0j8qFLSx62",
        "colab_type": "text"
      },
      "source": [
        "Fill X and y with correspondent values"
      ]
    },
    {
      "cell_type": "code",
      "metadata": {
        "id": "CnTsND-T1Qcv",
        "colab_type": "code",
        "colab": {}
      },
      "source": [
        "# training set\n",
        "for i in range(train_size - NGRAM):\n",
        "    X_train[i] = idx_train[i:i+NGRAM]\n",
        "    y_train[i] = idx_train[i+NGRAM]\n",
        "# validation set\n",
        "for i in range(val_size - NGRAM):\n",
        "    X_val[i] = idx_val[i:i+NGRAM]\n",
        "    y_val[i] = idx_val[i+NGRAM]\n",
        "# test set\n",
        "for i in range(test_size - NGRAM):\n",
        "    X_test[i] = idx_test[i:i+NGRAM]\n",
        "    y_test[i] = idx_test[i+NGRAM]"
      ],
      "execution_count": 0,
      "outputs": []
    },
    {
      "cell_type": "markdown",
      "metadata": {
        "id": "UoCDR4p0BYcy",
        "colab_type": "text"
      },
      "source": [
        "### 2.7 PyTorch dataset Creation"
      ]
    },
    {
      "cell_type": "code",
      "metadata": {
        "id": "1B2YK65JCAiX",
        "colab_type": "code",
        "colab": {}
      },
      "source": [
        "ds_train = TensorDataset(torch.LongTensor(X_train), torch.LongTensor(y_train))\n",
        "ds_val   = TensorDataset(torch.LongTensor(X_val), torch.LongTensor(y_val))\n",
        "ds_test  = TensorDataset(torch.LongTensor(X_test), torch.LongTensor(y_test))"
      ],
      "execution_count": 0,
      "outputs": []
    },
    {
      "cell_type": "markdown",
      "metadata": {
        "id": "ul8ohjV7G5Ss",
        "colab_type": "text"
      },
      "source": [
        "### 2.8 Embedding"
      ]
    },
    {
      "cell_type": "code",
      "metadata": {
        "id": "CUKdy4zaoDRb",
        "colab_type": "code",
        "colab": {}
      },
      "source": [
        "def my_embedding_function(dataset, ngram, vocab_size, encoder):\n",
        "    dim = dataset.ndim\n",
        "    #-------------------\n",
        "    # in case of one dimension\n",
        "    if dim == 1:\n",
        "        return enc.transform(dataset.reshape(ngram,-1))\n",
        "    #-------------------\n",
        "    # in case of two dimensions\n",
        "    elif dim == 2:\n",
        "        #embeddings = torch.zeros()\n",
        "        size = len(dataset)\n",
        "        embeddings = np.zeros(shape=(size, ngram, vocab_size), dtype=np.float32)\n",
        "        for idx, token_index in enumerate(dataset):\n",
        "            embeddings[idx] = enc.transform(token_index.reshape(ngram,-1)).toarray()\n",
        "        return torch.from_numpy(embeddings)\n",
        "    #-------------------\n",
        "    # in case of other dimensions\n",
        "    else:\n",
        "        print('dimension error')\n",
        "        return 0"
      ],
      "execution_count": 0,
      "outputs": []
    },
    {
      "cell_type": "code",
      "metadata": {
        "id": "jeagyEdtmGEs",
        "colab_type": "code",
        "colab": {}
      },
      "source": [
        "# using torch.nn.Embedding\n",
        "if PYTORCH_EMBEDDING:\n",
        "    pytorch_embedding = torch.nn.Embedding(num_embeddings=vocab_size, embedding_dim=EMBEDDING_DIM)\n",
        "    # embedding\n",
        "    X_train_emb = pytorch_embedding(ds_train[:][0])\n",
        "    X_val_emb   = pytorch_embedding(ds_val[:][0])\n",
        "    X_test_emb  = pytorch_embedding(ds_test[:][0])\n",
        "    #-------------------\n",
        "    y_train_emb = pytorch_embedding(ds_train[:][1])\n",
        "    y_val_emb   = pytorch_embedding(ds_val[:][1])\n",
        "    y_test_emb  = pytorch_embedding(ds_test[:][1])\n",
        "    #-------------------------------------------------\n",
        "    # Create new dataset based on embeddings\n",
        "    ds_train_emb = TensorDataset(X_train_emb.reshape(-1, NGRAM*EMBEDDING_DIM), torch.LongTensor(y_train))\n",
        "    ds_val_emb   = TensorDataset(X_val_emb.reshape(-1, NGRAM*EMBEDDING_DIM), torch.LongTensor(y_val))\n",
        "    ds_test_emb  = TensorDataset(X_test_emb.reshape(-1, NGRAM*EMBEDDING_DIM), torch.LongTensor(y_test))    \n",
        "#=================================================\n",
        "# using my embedding (based on one-hot encoding)\n",
        "else:\n",
        "    enc = OneHotEncoder()\n",
        "    enc.fit(torch.arange(vocab_size).reshape(-1,1))\n",
        "    #-------------------------------------------------\n",
        "    # one-hot encoding\n",
        "    X_train_oh = my_embedding_function(ds_train[:][0], NGRAM, vocab_size, enc)\n",
        "    X_val_oh   = my_embedding_function(ds_val[:][0], NGRAM, vocab_size, enc)\n",
        "    X_test_oh  = my_embedding_function(ds_test[:][0], NGRAM, vocab_size, enc)\n",
        "    #-------------------------------------------------\n",
        "    # Create new dataset based on one-hot encoding\n",
        "    ds_train_oh = TensorDataset(X_train_oh.reshape(-1, NGRAM*vocab_size), torch.LongTensor(y_train))\n",
        "    ds_val_oh   = TensorDataset(X_val_oh.reshape(-1, NGRAM*vocab_size), torch.LongTensor(y_val))\n",
        "    ds_test_oh  = TensorDataset(X_test_oh.reshape(-1, NGRAM*vocab_size), torch.LongTensor(y_test))"
      ],
      "execution_count": 0,
      "outputs": []
    },
    {
      "cell_type": "markdown",
      "metadata": {
        "id": "UPsgbfqGsm5V",
        "colab_type": "text"
      },
      "source": [
        "### 2.9 PyTorch loader creation\n",
        "\n",
        "- BATCH_SIZE definition\n",
        "- training dataset\n",
        "- validation dataset"
      ]
    },
    {
      "cell_type": "code",
      "metadata": {
        "id": "9sESeX_SqoXr",
        "colab_type": "code",
        "colab": {}
      },
      "source": [
        "BATCH_SIZE_TRAIN = 100\n",
        "BATCH_SIZE_VAL   = 100\n",
        "#-------------------------------------------------\n",
        "# training data loader\n",
        "dl_train = torch.utils.data.DataLoader(\n",
        "    dataset = ds_train_emb if PYTORCH_EMBEDDING else ds_train_oh,\n",
        "    drop_last = False,\n",
        "    shuffle = True,\n",
        "    #batch_size = BATCH_SIZE)\n",
        "    batch_size = BATCH_SIZE_TRAIN)\n",
        "#-------------------------------------------------\n",
        "# validation data loader\n",
        "dl_val = torch.utils.data.DataLoader(\n",
        "    dataset = ds_val_emb if PYTORCH_EMBEDDING else ds_val_oh,\n",
        "    drop_last = False,\n",
        "    shuffle = True,\n",
        "    #batch_size = BATCH_SIZE)\n",
        "    batch_size = BATCH_SIZE_VAL)"
      ],
      "execution_count": 0,
      "outputs": []
    },
    {
      "cell_type": "markdown",
      "metadata": {
        "id": "XFwZVZfQssoV",
        "colab_type": "text"
      },
      "source": [
        "Verifying shape, batch data type from loader and optionally its visualization"
      ]
    },
    {
      "cell_type": "code",
      "metadata": {
        "id": "AiNLZw8ZcjXP",
        "colab_type": "code",
        "outputId": "3ba23c87-1655-4c1e-fe6e-27667e9b4452",
        "colab": {
          "base_uri": "https://localhost:8080/",
          "height": 35
        }
      },
      "source": [
        "if PYTORCH_EMBEDDING:\n",
        "    print('shape of sample from embedding dataset:', ds_train_emb[0][0].shape)\n",
        "else:\n",
        "    print('shape of sample from one-hot dataset:', ds_train_oh[0][0].shape)"
      ],
      "execution_count": 23,
      "outputs": [
        {
          "output_type": "stream",
          "text": [
            "shape of sample from embedding dataset: torch.Size([160])\n"
          ],
          "name": "stdout"
        }
      ]
    },
    {
      "cell_type": "code",
      "metadata": {
        "id": "NQbDl3QVql8m",
        "colab_type": "code",
        "outputId": "65115833-6c62-4ad8-af7c-39ce6e34adb0",
        "colab": {
          "base_uri": "https://localhost:8080/",
          "height": 73
        }
      },
      "source": [
        "tx, ty = iter(dl_train).next()\n",
        "print('train:', tx.shape, tx.dtype, ty.shape, ty.dtype)\n",
        "tx, ty = iter(dl_val).next()\n",
        "print('val:', tx.shape, tx.dtype, ty.shape, ty.dtype)\n",
        "print('last batch size:', len(ds_train)%BATCH_SIZE_TRAIN, len(ds_val)%BATCH_SIZE_VAL)"
      ],
      "execution_count": 24,
      "outputs": [
        {
          "output_type": "stream",
          "text": [
            "train: torch.Size([100, 160]) torch.float32 torch.Size([100]) torch.int64\n",
            "val: torch.Size([100, 160]) torch.float32 torch.Size([100]) torch.int64\n",
            "last batch size: 0 0\n"
          ],
          "name": "stdout"
        }
      ]
    },
    {
      "cell_type": "markdown",
      "metadata": {
        "id": "Bw_Z9cMgs8Kf",
        "colab_type": "text"
      },
      "source": [
        "## 3. Network Model"
      ]
    },
    {
      "cell_type": "markdown",
      "metadata": {
        "id": "7vn0r32bamG7",
        "colab_type": "text"
      },
      "source": [
        "### 3.1 Network class definition"
      ]
    },
    {
      "cell_type": "code",
      "metadata": {
        "id": "HY7n0S0vq-1Z",
        "colab_type": "code",
        "colab": {}
      },
      "source": [
        "# using my Embedding\n",
        "if not PYTORCH_EMBEDDING:\n",
        "    '''\n",
        "    N = NGRAM\n",
        "    E = EMBEDDING_DIM\n",
        "    H = HIDDEN_DIM\n",
        "    V = vocab_size\n",
        "    #-------------------\n",
        "    layer       inputs  outputs obs.\n",
        "    -------     ------- ------- -------\n",
        "    one_hot:    N       N*V     (already done during dataset creation)\n",
        "    embedding:  N*V     N*E     (remeber to force bias=0)\n",
        "    hidden:     N*E     H\n",
        "    output:     H       V\n",
        "    '''\n",
        "    class NN(torch.nn.Module):\n",
        "        def __init__(self, ngram, embedding_dim, hidden_size, vocab_size):\n",
        "            super(NN, self).__init__()\n",
        "            #-------------------\n",
        "            self.ngram = ngram\n",
        "            self.embedding_dim = embedding_dim\n",
        "            self.hidden_size = hidden_size\n",
        "            self.vocab_size = vocab_size\n",
        "            #-------------------\n",
        "            # embedding layer: force bias equal to zero\n",
        "            self.embedding = torch.nn.Linear(in_features=self.ngram*self.vocab_size,  out_features=self.ngram*self.embedding_dim, bias=False)\n",
        "            # hidden layer\n",
        "            self.hidden = torch.nn.Linear(in_features=self.ngram*self.embedding_dim, out_features=self.hidden_size)\n",
        "            # hidden layer activation\n",
        "            self.tanh = torch.nn.Tanh()\n",
        "            # output layer\n",
        "            self.output = torch.nn.Linear(in_features=self.hidden_size, out_features=self.vocab_size)\n",
        "\n",
        "        def forward(self, x):\n",
        "            # embedding layer\n",
        "            x = self.embedding(x)\n",
        "            #-------------------\n",
        "            # hidden layer layer\n",
        "            x = self.hidden(x)\n",
        "            x = self.tanh(x)\n",
        "            #-------------------\n",
        "            # output layer\n",
        "            x = self.output(x)\n",
        "            #-------------------\n",
        "            return x"
      ],
      "execution_count": 0,
      "outputs": []
    },
    {
      "cell_type": "code",
      "metadata": {
        "id": "7sa4Feh8hQVj",
        "colab_type": "code",
        "colab": {}
      },
      "source": [
        "# using torch.nn.Embedding\n",
        "if PYTORCH_EMBEDDING:\n",
        "    '''\n",
        "    N = NGRAM\n",
        "    E = EMBEDDING_DIM\n",
        "    H = HIDDEN_DIM\n",
        "    V = vocab_size\n",
        "    #-------------------\n",
        "    layer       inputs  outputs\n",
        "    -------     ------- -------\n",
        "    hidden:     N*E     H\n",
        "    output:     H       V\n",
        "    '''\n",
        "    class NN(torch.nn.Module):\n",
        "        def __init__(self, ngram, embedding_dim, hidden_size, vocab_size):\n",
        "            super(NN, self).__init__()\n",
        "            #-------------------\n",
        "            self.ngram = ngram\n",
        "            self.embedding_dim = embedding_dim\n",
        "            self.hidden_size = hidden_size\n",
        "            self.vocab_size = vocab_size\n",
        "            #-------------------\n",
        "            # hidden layer\n",
        "            self.hidden = torch.nn.Linear(in_features=self.ngram*self.embedding_dim, out_features=self.hidden_size)\n",
        "            # hidden layer activation\n",
        "            self.tanh = torch.nn.Tanh()\n",
        "            # output layer\n",
        "            self.output = torch.nn.Linear(in_features=self.hidden_size, out_features=self.vocab_size)\n",
        "\n",
        "        def forward(self, x):\n",
        "            # hidden layer layer\n",
        "            x = self.hidden(x)\n",
        "            x = self.tanh(x)\n",
        "            #-------------------\n",
        "            # output layer\n",
        "            x = self.output(x)\n",
        "            #-------------------\n",
        "            return x"
      ],
      "execution_count": 0,
      "outputs": []
    },
    {
      "cell_type": "markdown",
      "metadata": {
        "id": "r6NbQ9ygasBE",
        "colab_type": "text"
      },
      "source": [
        "### 3.2 Network instantiation"
      ]
    },
    {
      "cell_type": "code",
      "metadata": {
        "id": "bIRZSsqNq_Zl",
        "colab_type": "code",
        "outputId": "d31f92bb-b21c-487b-afd5-3b165c48b1e0",
        "colab": {
          "base_uri": "https://localhost:8080/",
          "height": 111
        }
      },
      "source": [
        "model = NN(\n",
        "    ngram = NGRAM,\n",
        "    embedding_dim = EMBEDDING_DIM,\n",
        "    hidden_size = HIDDEN_SIZE,\n",
        "    vocab_size = vocab_size,    \n",
        ")\n",
        "model.to(device)"
      ],
      "execution_count": 27,
      "outputs": [
        {
          "output_type": "execute_result",
          "data": {
            "text/plain": [
              "NN(\n",
              "  (hidden): Linear(in_features=160, out_features=100, bias=True)\n",
              "  (tanh): Tanh()\n",
              "  (output): Linear(in_features=100, out_features=4125, bias=True)\n",
              ")"
            ]
          },
          "metadata": {
            "tags": []
          },
          "execution_count": 27
        }
      ]
    },
    {
      "cell_type": "markdown",
      "metadata": {
        "id": "WFcCML_SayNO",
        "colab_type": "text"
      },
      "source": [
        "### 3.3 Network predict with few samples of batch from loader"
      ]
    },
    {
      "cell_type": "markdown",
      "metadata": {
        "id": "gqbHi424bDid",
        "colab_type": "text"
      },
      "source": [
        "## 4. Network training"
      ]
    },
    {
      "cell_type": "markdown",
      "metadata": {
        "id": "o4_rINNlbH17",
        "colab_type": "text"
      },
      "source": [
        "### 4.1 Training definitions\n",
        "\n",
        "- number of epochs\n",
        "- optimizer and LR (learning rate)\n",
        "- loss function\n"
      ]
    },
    {
      "cell_type": "code",
      "metadata": {
        "id": "07mvkthGrcVe",
        "colab_type": "code",
        "colab": {}
      },
      "source": [
        "# Training parameters\n",
        "EPOCH = 25\n",
        "LR = 0.05\n",
        "loss_func = torch.nn.CrossEntropyLoss()\n",
        "opt = torch.optim.SGD(model.parameters(), lr=LR)\n",
        "# loss history\n",
        "loss_train_his = []\n",
        "loss_train_batch_his = []\n",
        "loss_val_his = []\n",
        "loss_val_batch_his = []\n",
        "ppl_train_his = []\n",
        "ppl_val_his = []"
      ],
      "execution_count": 0,
      "outputs": []
    },
    {
      "cell_type": "markdown",
      "metadata": {
        "id": "Mifo0jGebd6z",
        "colab_type": "text"
      },
      "source": [
        "### 4.2 Training loop"
      ]
    },
    {
      "cell_type": "code",
      "metadata": {
        "colab_type": "code",
        "outputId": "5706f382-a7e8-48fc-a02f-3b44540692b8",
        "id": "to9Swd0bSHwS",
        "colab": {
          "base_uri": "https://localhost:8080/",
          "height": 1000
        }
      },
      "source": [
        "N_SAMPLES = len(ds_train)\n",
        "for epoch in range(EPOCH):\n",
        "    print('epoch =', epoch)\n",
        "    #-------------------------------------------------\n",
        "    # training mode\n",
        "    #-------------------\n",
        "    model.train()\n",
        "    # create tensor used to calculate batch metric\n",
        "    loss_train_batch = torch.zeros(len(dl_train))\n",
        "    # batch training loop\n",
        "    print('training...')\n",
        "    for b_i, (b_x, b_y) in enumerate(dl_train):   # for each training step\n",
        "#        print('batch ', b_i+1, ' out of ', len(dl_train), sep='', end='; ')\n",
        "        ...\n",
        "        b_x, b_y = b_x.to(device), b_y.to(device)\n",
        "        y_logitos = model(b_x)\n",
        "        loss = loss_func(y_logitos, b_y)\n",
        "        opt.zero_grad()                 # clear gradients for next train\n",
        "        #loss.backward()                 # backpropagation, compute gradients\n",
        "        loss.backward(retain_graph=True)# backpropagation, compute gradients\n",
        "        opt.step()                      # apply gradients\n",
        "        y_pred = torch.argmax(y_logitos, dim=1)\n",
        "        #-------------------\n",
        "        # metrics\n",
        "        loss_train_batch[b_i] = loss.item()             # training batch loss\n",
        "        loss_train_batch_his.append(loss_train_batch[b_i].item())\n",
        "#        print('loss for this batch = {0:.2f}'.format(loss_train_batch[b_i].item()), sep='', end='\\n')\n",
        "#    print('')\n",
        "    loss_train = torch.mean(loss_train_batch)           # training cross-entropy (CE)\n",
        "    loss_train_his.append(loss_train.item())            # training cross-entropy history\n",
        "    ppl_train_his.append(torch.exp(loss_train).item())  # training perplexity history\n",
        "    #-------------------------------------------------\n",
        "    # evaluation mode\n",
        "    #-------------------\n",
        "    model.eval()\n",
        "    # create tensor used to calculate batch metric\n",
        "    loss_val_batch = torch.zeros(len(dl_val))\n",
        "    # batch validation loop\n",
        "    print('validating...')\n",
        "    for b_ival, (b_xval, b_yval) in enumerate(dl_val):\n",
        "#        print('batch ', b_ival+1, ' out of ', len(dl_val), sep='', end='; ')\n",
        "        b_xval, b_yval = b_xval.to(device), b_yval.to(device)\n",
        "        y_logitos = model(b_xval)\n",
        "        #-------------------\n",
        "        '''\n",
        "        if using the trick to set the '<unk>' logit to -1_000 when the token is\n",
        "        '<unk>', the cross-entropy loss gets too big (>300), thus making the \n",
        "        perplexity to explode to infinite\n",
        "        so here we put the value -1 to that logit\n",
        "        '''\n",
        "        # check if target doesn't belongs to vocab\n",
        "        for idx, token in enumerate(b_yval):\n",
        "            if (token == vocab['<unk>']):\n",
        "                #y_logitos[idx][vocab['<unk>']] = -1000\n",
        "                y_logitos[idx][vocab['<unk>']] = -1\n",
        "        #-------------------\n",
        "        loss_val = loss_func(y_logitos, b_yval)\n",
        "        yval_pred = torch.argmax(y_logitos, dim=1)\n",
        "        #-------------------\n",
        "        # metrics\n",
        "        loss_val_batch[b_ival] = loss_val.item()    # validation batch loss\n",
        "        loss_val_batch_his.append(loss_val_batch[b_ival].item())\n",
        "#        print('loss for this batch = {0:.2f}'.format(loss_val_batch[b_ival].item()), sep='', end='\\n')\n",
        "    loss_val = torch.mean(loss_val_batch)           # validation cross-entropy (CE)\n",
        "    loss_val_his.append(loss_val.item())            # validation cross-entropy history\n",
        "    ppl_val_his.append(torch.exp(loss_val).item())  # validation perplexity history\n",
        "    #-------------------------------------------------\n",
        "#    print('')\n",
        "    print('loss_train = {0:.4f}'.format(loss_train_his[-1]), end='; ')\n",
        "    print('loss_val = {0:.4f}'.format(loss_val_his[-1]), end='; ')\n",
        "    print('ppl_train = {0:.1f}'.format(ppl_train_his[-1]), end='; ')\n",
        "    print('ppl_val = {0:.2f}'.format(ppl_val_his[-1]), end='\\n')"
      ],
      "execution_count": 29,
      "outputs": [
        {
          "output_type": "stream",
          "text": [
            "epoch = 0\n",
            "training...\n",
            "validating...\n",
            "loss_train = 8.0292; loss_val = 7.7025; ppl_train = 3069.3; ppl_val = 2213.78\n",
            "epoch = 1\n",
            "training...\n",
            "validating...\n",
            "loss_train = 7.1509; loss_val = 7.2521; ppl_train = 1275.3; ppl_val = 1411.03\n",
            "epoch = 2\n",
            "training...\n",
            "validating...\n",
            "loss_train = 6.7502; loss_val = 7.0827; ppl_train = 854.3; ppl_val = 1191.16\n",
            "epoch = 3\n",
            "training...\n",
            "validating...\n",
            "loss_train = 6.5354; loss_val = 6.9793; ppl_train = 689.1; ppl_val = 1074.13\n",
            "epoch = 4\n",
            "training...\n",
            "validating...\n",
            "loss_train = 6.3948; loss_val = 6.9220; ppl_train = 598.7; ppl_val = 1014.39\n",
            "epoch = 5\n",
            "training...\n",
            "validating...\n",
            "loss_train = 6.2960; loss_val = 6.8779; ppl_train = 542.4; ppl_val = 970.61\n",
            "epoch = 6\n",
            "training...\n",
            "validating...\n",
            "loss_train = 6.2217; loss_val = 6.8616; ppl_train = 503.5; ppl_val = 954.89\n",
            "epoch = 7\n",
            "training...\n",
            "validating...\n",
            "loss_train = 6.1612; loss_val = 6.8372; ppl_train = 474.0; ppl_val = 931.88\n",
            "epoch = 8\n",
            "training...\n",
            "validating...\n",
            "loss_train = 6.1095; loss_val = 6.8333; ppl_train = 450.1; ppl_val = 928.23\n",
            "epoch = 9\n",
            "training...\n",
            "validating...\n",
            "loss_train = 6.0636; loss_val = 6.8146; ppl_train = 429.9; ppl_val = 911.08\n",
            "epoch = 10\n",
            "training...\n",
            "validating...\n",
            "loss_train = 6.0214; loss_val = 6.8143; ppl_train = 412.2; ppl_val = 910.82\n",
            "epoch = 11\n",
            "training...\n",
            "validating...\n",
            "loss_train = 5.9819; loss_val = 6.8028; ppl_train = 396.2; ppl_val = 900.36\n",
            "epoch = 12\n",
            "training...\n",
            "validating...\n",
            "loss_train = 5.9449; loss_val = 6.7965; ppl_train = 381.8; ppl_val = 894.72\n",
            "epoch = 13\n",
            "training...\n",
            "validating...\n",
            "loss_train = 5.9094; loss_val = 6.7919; ppl_train = 368.5; ppl_val = 890.61\n",
            "epoch = 14\n",
            "training...\n",
            "validating...\n",
            "loss_train = 5.8758; loss_val = 6.7888; ppl_train = 356.3; ppl_val = 887.84\n",
            "epoch = 15\n",
            "training...\n",
            "validating...\n",
            "loss_train = 5.8431; loss_val = 6.7950; ppl_train = 344.8; ppl_val = 893.35\n",
            "epoch = 16\n",
            "training...\n",
            "validating...\n",
            "loss_train = 5.8117; loss_val = 6.7799; ppl_train = 334.2; ppl_val = 879.97\n",
            "epoch = 17\n",
            "training...\n",
            "validating...\n",
            "loss_train = 5.7810; loss_val = 6.7829; ppl_train = 324.1; ppl_val = 882.59\n",
            "epoch = 18\n",
            "training...\n",
            "validating...\n",
            "loss_train = 5.7513; loss_val = 6.7789; ppl_train = 314.6; ppl_val = 879.12\n",
            "epoch = 19\n",
            "training...\n",
            "validating...\n",
            "loss_train = 5.7222; loss_val = 6.7771; ppl_train = 305.6; ppl_val = 877.49\n",
            "epoch = 20\n",
            "training...\n",
            "validating...\n",
            "loss_train = 5.6937; loss_val = 6.7759; ppl_train = 297.0; ppl_val = 876.47\n",
            "epoch = 21\n",
            "training...\n",
            "validating...\n",
            "loss_train = 5.6656; loss_val = 6.7792; ppl_train = 288.8; ppl_val = 879.33\n",
            "epoch = 22\n",
            "training...\n",
            "validating...\n",
            "loss_train = 5.6381; loss_val = 6.7841; ppl_train = 280.9; ppl_val = 883.70\n",
            "epoch = 23\n",
            "training...\n",
            "validating...\n",
            "loss_train = 5.6111; loss_val = 6.7744; ppl_train = 273.4; ppl_val = 875.12\n",
            "epoch = 24\n",
            "training...\n",
            "validating...\n",
            "loss_train = 5.5842; loss_val = 6.7813; ppl_train = 266.2; ppl_val = 881.19\n"
          ],
          "name": "stdout"
        }
      ]
    },
    {
      "cell_type": "markdown",
      "metadata": {
        "id": "v6aK9evCbmB2",
        "colab_type": "text"
      },
      "source": [
        "## 5. Training evaluation\n",
        "\n",
        "- metrics:\n",
        "  - perplexity"
      ]
    },
    {
      "cell_type": "markdown",
      "metadata": {
        "id": "l0gce53NhzuH",
        "colab_type": "text"
      },
      "source": [
        "### 5.1 Perplexity during training\n"
      ]
    },
    {
      "cell_type": "code",
      "metadata": {
        "id": "aIey4Ob7r3kn",
        "colab_type": "code",
        "outputId": "819cbd39-db81-436c-e8af-e878a65ad0e4",
        "colab": {
          "base_uri": "https://localhost:8080/",
          "height": 294
        }
      },
      "source": [
        "# plot training loss\n",
        "plt.plot(ppl_train_his, label='training loss', color='blue')\n",
        "#-------------------------------------------------\n",
        "# axis label\n",
        "plt.xlabel('Epochs')\n",
        "plt.ylabel('Perplexity')\n",
        "# title\n",
        "plt.title('Perplexity progression in training set')\n",
        "#-------------------------------------------------\n",
        "plt.autoscale(axis='x', tight=True) # axis adjust\n",
        "plt.grid(True) # add grid\n",
        "#plt.legend() # add legend\n",
        "plt.show()"
      ],
      "execution_count": 31,
      "outputs": [
        {
          "output_type": "display_data",
          "data": {
            "image/png": "[encoded data removed]",
            "text/plain": [
              "<Figure size 432x288 with 1 Axes>"
            ]
          },
          "metadata": {
            "tags": []
          }
        }
      ]
    },
    {
      "cell_type": "markdown",
      "metadata": {
        "id": "F-PIiPLehyNG",
        "colab_type": "text"
      },
      "source": [
        "### 5.2 Perplexity during validation"
      ]
    },
    {
      "cell_type": "code",
      "metadata": {
        "id": "4XjpUYdOhwEx",
        "colab_type": "code",
        "outputId": "a4d69f51-1a9e-4f05-ba74-b27c2371cc4e",
        "colab": {
          "base_uri": "https://localhost:8080/",
          "height": 294
        }
      },
      "source": [
        "# plot validation loss\n",
        "plt.plot(ppl_val_his, label='validation loss', color='red')\n",
        "#-------------------------------------------------\n",
        "# axis label\n",
        "plt.xlabel('Epochs')\n",
        "plt.ylabel('Perplexity')\n",
        "# title\n",
        "plt.title('Perplexity progression in validation set')\n",
        "#-------------------------------------------------\n",
        "plt.autoscale(axis='x', tight=True) # axis adjust\n",
        "plt.grid(True) # add grid\n",
        "#plt.legend() # add legend\n",
        "plt.show()"
      ],
      "execution_count": 32,
      "outputs": [
        {
          "output_type": "display_data",
          "data": {
            "image/png": "[encoded data removed]",
            "text/plain": [
              "<Figure size 432x288 with 1 Axes>"
            ]
          },
          "metadata": {
            "tags": []
          }
        }
      ]
    },
    {
      "cell_type": "markdown",
      "metadata": {
        "id": "7Rotu6XDwkyQ",
        "colab_type": "text"
      },
      "source": [
        "### 5.3 Both curves in a single plot"
      ]
    },
    {
      "cell_type": "code",
      "metadata": {
        "id": "PzDO1BbcwgFS",
        "colab_type": "code",
        "outputId": "a471ee04-15dc-4c8b-fb52-6f366e66d937",
        "colab": {
          "base_uri": "https://localhost:8080/",
          "height": 294
        }
      },
      "source": [
        "# plot training loss\n",
        "plt.plot(ppl_train_his, label='training loss', color='blue')\n",
        "plt.plot(ppl_val_his, label='validation loss', color='red')\n",
        "#-------------------------------------------------\n",
        "# axis label\n",
        "plt.xlabel('Epochs')\n",
        "plt.ylabel('Perplexity')\n",
        "# title\n",
        "plt.title('Perplexity progression')\n",
        "#-------------------------------------------------\n",
        "plt.autoscale(axis='x', tight=True) # axis adjust\n",
        "plt.grid(True) # add grid\n",
        "#plt.legend() # add legend\n",
        "plt.show()"
      ],
      "execution_count": 33,
      "outputs": [
        {
          "output_type": "display_data",
          "data": {
            "image/png": "[encoded data removed]",
            "text/plain": [
              "<Figure size 432x288 with 1 Axes>"
            ]
          },
          "metadata": {
            "tags": []
          }
        }
      ]
    },
    {
      "cell_type": "markdown",
      "metadata": {
        "id": "thGUnNmdiqa6",
        "colab_type": "text"
      },
      "source": [
        "### 5.3 Zoom at the minimum of CE loss curve"
      ]
    },
    {
      "cell_type": "code",
      "metadata": {
        "id": "zP5L2Gk4iraH",
        "colab_type": "code",
        "outputId": "3c4aa9c7-58f8-431d-e57e-aba2fe086b11",
        "colab": {
          "base_uri": "https://localhost:8080/",
          "height": 313
        }
      },
      "source": [
        "BEST_EPOCH = ppl_val_his.index(min(ppl_val_his)) + 1\n",
        "print('Epoch with minimum perplexity value =', BEST_EPOCH)\n",
        "#-------------------------------------------------\n",
        "# plots\n",
        "plt.plot(range(max(1,BEST_EPOCH-2),min(EPOCH,BEST_EPOCH+3)), ppl_val_his[max(1,BEST_EPOCH-3):min(EPOCH-1,BEST_EPOCH+2)], 'green')\n",
        "plt.xlabel('Epochs')\n",
        "plt.ylabel('Perplexity')\n",
        "plt.autoscale(axis='x', tight=True)\n",
        "plt.title('Perplexity progression in validation set')\n",
        "plt.grid(True)\n",
        "plt.show()"
      ],
      "execution_count": 34,
      "outputs": [
        {
          "output_type": "stream",
          "text": [
            "Epoch with minimum perplexity value = 24\n"
          ],
          "name": "stdout"
        },
        {
          "output_type": "display_data",
          "data": {
            "image/png": "[encoded data removed]",
            "text/plain": [
              "<Figure size 432x288 with 1 Axes>"
            ]
          },
          "metadata": {
            "tags": []
          }
        }
      ]
    },
    {
      "cell_type": "markdown",
      "metadata": {
        "id": "_8Xzipr2B9to",
        "colab_type": "text"
      },
      "source": [
        "### 5.4 Print the final values of the main training monitoring variables:\n",
        "- loss function final value:\n",
        "- metrics final values:"
      ]
    },
    {
      "cell_type": "code",
      "metadata": {
        "id": "VEVVlMqVs69I",
        "colab_type": "code",
        "outputId": "f977cc8f-e4f3-47e2-8144-417b4bdc61e8",
        "colab": {
          "base_uri": "https://localhost:8080/",
          "height": 111
        }
      },
      "source": [
        "print('last training loss = {0:.4f}'.format(loss_train_his[-1]))\n",
        "print('last validation loss = {0:.4f}'.format(loss_val_his[-1]))\n",
        "print('#-------------------------------------------------')\n",
        "print('last train perplexity = {0:.4f}'.format(ppl_train_his[-1]))\n",
        "print('last validation perplexity = {0:.4f}'.format(ppl_val_his[-1]))"
      ],
      "execution_count": 35,
      "outputs": [
        {
          "output_type": "stream",
          "text": [
            "last training loss = 5.5842\n",
            "last validation loss = 6.7813\n",
            "#-------------------------------------------------\n",
            "last train perplexity = 266.1912\n",
            "last validation perplexity = 881.1943\n"
          ],
          "name": "stdout"
        }
      ]
    },
    {
      "cell_type": "markdown",
      "metadata": {
        "id": "XKTY_W1wkXch",
        "colab_type": "text"
      },
      "source": [
        "## 6. Metrics on test set"
      ]
    },
    {
      "cell_type": "markdown",
      "metadata": {
        "id": "5XI-Jkhg0Mxg",
        "colab_type": "text"
      },
      "source": [
        "### 6.1 Test data loader"
      ]
    },
    {
      "cell_type": "code",
      "metadata": {
        "id": "qfdZFIIO0K5p",
        "colab_type": "code",
        "colab": {}
      },
      "source": [
        "BATCH_SIZE_TEST = len(ds_test)\n",
        "#-------------------------------------------------\n",
        "# test data loader\n",
        "dl_test = torch.utils.data.DataLoader(\n",
        "    dataset = ds_test_emb if PYTORCH_EMBEDDING else ds_test_oh,\n",
        "    drop_last = False,\n",
        "    shuffle = True,\n",
        "    #batch_size = BATCH_SIZE)\n",
        "    batch_size = BATCH_SIZE_TEST)"
      ],
      "execution_count": 0,
      "outputs": []
    },
    {
      "cell_type": "code",
      "metadata": {
        "id": "1T2mPJru46hB",
        "colab_type": "code",
        "outputId": "77e364d3-da13-4654-fef7-82cf9ae98b31",
        "colab": {
          "base_uri": "https://localhost:8080/",
          "height": 35
        }
      },
      "source": [
        "tx, ty = iter(dl_test).next()\n",
        "print('test:', tx.shape, tx.dtype, ty.shape, ty.dtype)"
      ],
      "execution_count": 37,
      "outputs": [
        {
          "output_type": "stream",
          "text": [
            "test: torch.Size([100000, 160]) torch.float32 torch.Size([100000]) torch.int64\n"
          ],
          "name": "stdout"
        }
      ]
    },
    {
      "cell_type": "markdown",
      "metadata": {
        "id": "vvPMDpb8n32I",
        "colab_type": "text"
      },
      "source": [
        "### 6.2 Cross-Entropy and Perplexity"
      ]
    },
    {
      "cell_type": "code",
      "metadata": {
        "id": "qJiD5v3Ir703",
        "colab_type": "code",
        "outputId": "6d5663d0-8459-4d59-dc58-dc7cab87922e",
        "colab": {
          "base_uri": "https://localhost:8080/",
          "height": 111
        }
      },
      "source": [
        "# load model in CPU\n",
        "model.to('cpu');\n",
        "# evaluation mode\n",
        "model.eval()"
      ],
      "execution_count": 38,
      "outputs": [
        {
          "output_type": "execute_result",
          "data": {
            "text/plain": [
              "NN(\n",
              "  (hidden): Linear(in_features=160, out_features=100, bias=True)\n",
              "  (tanh): Tanh()\n",
              "  (output): Linear(in_features=100, out_features=4125, bias=True)\n",
              ")"
            ]
          },
          "metadata": {
            "tags": []
          },
          "execution_count": 38
        }
      ]
    },
    {
      "cell_type": "code",
      "metadata": {
        "id": "IzdO-wuv1K2V",
        "colab_type": "code",
        "outputId": "6e2f0217-3353-4e03-d495-142e8df8aa51",
        "colab": {
          "base_uri": "https://localhost:8080/",
          "height": 54
        }
      },
      "source": [
        "loss_test_batch = torch.zeros(len(dl_test))\n",
        "# batch test loop\n",
        "print('testing...')\n",
        "for b_itest, (b_xtest, b_ytest) in enumerate(dl_test):\n",
        "    print('batch ', b_itest+1, ' out of ', len(dl_test), sep='', end='; ')\n",
        "    #b_xtest, b_ytest = b_xtest.to(device), b_ytest.to(device)\n",
        "    y_logitos = model(b_xtest)\n",
        "    #-------------------\n",
        "    '''\n",
        "    if using the trick to set the '<unk>' logit to -1_000 when the token is\n",
        "    '<unk>', the cross-entropy loss gets too big (>300), thus making the \n",
        "    perplexity to explode to infinite\n",
        "    so here we put the value -1 to that logit\n",
        "    ''' \n",
        "    # check if target doesn't belongs to vocab\n",
        "    for idx, token in enumerate(b_ytest):\n",
        "        if (token == vocab['<unk>']):\n",
        "            #y_logitos[idx][vocab['<unk>']] = -1000\n",
        "            y_logitos[idx][vocab['<unk>']] = -1\n",
        "    #-------------------\n",
        "    loss_test = loss_func(y_logitos, b_ytest)\n",
        "    ytest_pred = torch.argmax(y_logitos, dim=1)\n",
        "    #-------------------\n",
        "    # metrics\n",
        "    loss_test_batch[b_itest] = loss_test.item() # test batch loss\n",
        "loss_test = torch.mean(loss_test_batch)         # test cross-entropy (CE)\n",
        "ppl_test = torch.exp(loss_test).item()         # test perplexity\n",
        "loss_test = loss_test.item()"
      ],
      "execution_count": 39,
      "outputs": [
        {
          "output_type": "stream",
          "text": [
            "testing...\n",
            "batch 0 out of 1"
          ],
          "name": "stdout"
        }
      ]
    },
    {
      "cell_type": "code",
      "metadata": {
        "id": "xgBJrs1c2p9g",
        "colab_type": "code",
        "outputId": "711ce966-3be2-40d2-c3db-72efb6521730",
        "colab": {
          "base_uri": "https://localhost:8080/",
          "height": 54
        }
      },
      "source": [
        "print('loss test = {0:.4f}'.format(loss_test), end='\\n')\n",
        "print('ppl test = {0:.4f}'.format(ppl_test), end='\\n')"
      ],
      "execution_count": 40,
      "outputs": [
        {
          "output_type": "stream",
          "text": [
            "loss test = 6.7930\n",
            "ppl test = 891.5722\n"
          ],
          "name": "stdout"
        }
      ]
    },
    {
      "cell_type": "markdown",
      "metadata": {
        "id": "zJyhNSYht4vz",
        "colab_type": "text"
      },
      "source": [
        "## End of the notebook"
      ]
    }
  ]
}