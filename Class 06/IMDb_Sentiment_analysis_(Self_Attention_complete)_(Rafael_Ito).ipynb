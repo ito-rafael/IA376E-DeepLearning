{
  "nbformat": 4,
  "nbformat_minor": 0,
  "metadata": {
    "colab": {
      "name": "IMDb - Sentiment analysis [Self-Attention complete] (Rafael Ito).ipynb",
      "provenance": [],
      "collapsed_sections": [],
      "toc_visible": true,
      "machine_shape": "hm"
    },
    "kernelspec": {
      "name": "python3",
      "display_name": "Python 3"
    },
    "accelerator": "GPU"
  },
  "cells": [
    {
      "cell_type": "markdown",
      "metadata": {
        "id": "aibQMqn3rEp8",
        "colab_type": "text"
      },
      "source": [
        "# Sentiment analysis using complete self-attention\n"
      ]
    },
    {
      "cell_type": "markdown",
      "metadata": {
        "id": "399F2GKforfi",
        "colab_type": "text"
      },
      "source": [
        "Author: **Rafael Ito**  \n",
        "e-mail: ito.rafael@gmail.com"
      ]
    },
    {
      "cell_type": "markdown",
      "metadata": {
        "id": "eV7swfVuBvgm",
        "colab_type": "text"
      },
      "source": [
        "## 0. Dataset and Description\n",
        "\n",
        "**Name:**  IMDb  \n",
        "**Description:** this notebook uses the IMDb dataset which contains movie reviews classified as either positive or negative review. The aim is to perform a supervised learning for sentiment classification using as features the self-attention of the GloVe embeddings."
      ]
    },
    {
      "cell_type": "markdown",
      "metadata": {
        "id": "ZnLtgkmhr0y0",
        "colab_type": "text"
      },
      "source": [
        "## 1. Libraries and packages"
      ]
    },
    {
      "cell_type": "markdown",
      "metadata": {
        "id": "wF94hPU1HWt9",
        "colab_type": "text"
      },
      "source": [
        "### 1.1 Install packages"
      ]
    },
    {
      "cell_type": "code",
      "metadata": {
        "id": "44YWHZaqwDo4",
        "colab_type": "code",
        "colab": {}
      },
      "source": [
        "!pip install -q \\\n",
        "    numpy       \\\n",
        "    torch       \\\n",
        "    sklearn     \\\n",
        "    skorch      \\\n",
        "    matplotlib  "
      ],
      "execution_count": 0,
      "outputs": []
    },
    {
      "cell_type": "markdown",
      "metadata": {
        "id": "F-lNBFD0HcPb",
        "colab_type": "text"
      },
      "source": [
        "### 1.2 Import libraries"
      ]
    },
    {
      "cell_type": "code",
      "metadata": {
        "id": "XYPw4vBWq_nd",
        "colab_type": "code",
        "outputId": "4dd142ed-96e5-4d58-ebb2-25ce000dfaca",
        "colab": {
          "base_uri": "https://localhost:8080/",
          "height": 78
        }
      },
      "source": [
        "#-------------------------------------------------\n",
        "# general\n",
        "#-------------------\n",
        "import numpy as np\n",
        "import pandas as pd\n",
        "import nltk\n",
        "import re\n",
        "import os\n",
        "import itertools\n",
        "import collections\n",
        "#-------------------------------------------------\n",
        "# PyTorch\n",
        "#-------------------\n",
        "import torch\n",
        "from torch.utils.data import TensorDataset\n",
        "from torchtext.vocab import GloVe\n",
        "import torch.nn.functional as F\n",
        "from torch.nn import Linear\n",
        "from torch.nn import Dropout\n",
        "from torch.nn import LayerNorm\n",
        "from torch.nn import Embedding\n",
        "from torch.nn import Sequential\n",
        "#-------------------------------------------------\n",
        "# skorch\n",
        "#-------------------\n",
        "#from skorch import NeuralNetClassifier\n",
        "#-------------------------------------------------\n",
        "# scikit-learn\n",
        "#-------------------\n",
        "from sklearn.feature_extraction.text import TfidfVectorizer\n",
        "from sklearn.preprocessing import OneHotEncoder\n",
        "# metrics\n",
        "from sklearn.metrics import confusion_matrix\n",
        "from sklearn.metrics import accuracy_score\n",
        "from sklearn.metrics import precision_score\n",
        "from sklearn.metrics import f1_score\n",
        "#-------------------------------------------------\n",
        "# data visualization\n",
        "#-------------------\n",
        "import matplotlib.pyplot as plt\n",
        "import seaborn as sns\n",
        "#-------------------------------------------------\n",
        "# additional config\n",
        "#-------------------\n",
        "# random seed generator\n",
        "np.random.seed(42)\n",
        "torch.manual_seed(42);"
      ],
      "execution_count": 2,
      "outputs": [
        {
          "output_type": "stream",
          "text": [
            "/usr/local/lib/python3.6/dist-packages/statsmodels/tools/_testing.py:19: FutureWarning: pandas.util.testing is deprecated. Use the functions in the public API at pandas.testing instead.\n",
            "  import pandas.util.testing as tm\n"
          ],
          "name": "stderr"
        }
      ]
    },
    {
      "cell_type": "markdown",
      "metadata": {
        "id": "Rmn8887vHg2C",
        "colab_type": "text"
      },
      "source": [
        "### 1.3 Check device"
      ]
    },
    {
      "cell_type": "code",
      "metadata": {
        "id": "YXc7eeN9HjNh",
        "colab_type": "code",
        "outputId": "a486ee37-fdd3-4268-845c-4b08e1bd53de",
        "colab": {
          "base_uri": "https://localhost:8080/",
          "height": 37
        }
      },
      "source": [
        "device = torch.device('cpu')\n",
        "if torch.cuda.is_available():\n",
        "    device = torch.device('cuda')\n",
        "print('Device:', device)"
      ],
      "execution_count": 3,
      "outputs": [
        {
          "output_type": "stream",
          "text": [
            "Device: cuda\n"
          ],
          "name": "stdout"
        }
      ]
    },
    {
      "cell_type": "markdown",
      "metadata": {
        "id": "Fb_hxbel26WM",
        "colab_type": "text"
      },
      "source": [
        "### 1.4 Constants definition"
      ]
    },
    {
      "cell_type": "code",
      "metadata": {
        "id": "bwPFFHtRKgG_",
        "colab_type": "code",
        "colab": {}
      },
      "source": [
        ""
      ],
      "execution_count": 0,
      "outputs": []
    },
    {
      "cell_type": "markdown",
      "metadata": {
        "id": "g8cTjVNEoJkJ",
        "colab_type": "text"
      },
      "source": [
        "## 2. Custom functions and classes"
      ]
    },
    {
      "cell_type": "markdown",
      "metadata": {
        "id": "P9DFW3xLoWD4",
        "colab_type": "text"
      },
      "source": [
        "### 2.1 Functions"
      ]
    },
    {
      "cell_type": "markdown",
      "metadata": {
        "id": "GeSe31BerbWp",
        "colab_type": "text"
      },
      "source": [
        "Function that calculates the number of parameters of a network"
      ]
    },
    {
      "cell_type": "code",
      "metadata": {
        "id": "K1jFrB_fs9E-",
        "colab_type": "code",
        "colab": {}
      },
      "source": [
        "'''\n",
        "description:\n",
        "    - given a model, this function returns its number of parameters (weight, bias)\n",
        "#-------------------\n",
        "positional args:\n",
        "    - model [torch.nn.Module]: instance of the network\n",
        "optional args:\n",
        "    - verbose (default=False) [bool]: if True, print a report with the parameters of each layer\n",
        "#-------------------\n",
        "return:\n",
        "    - [int] total parameters of the network\n",
        "''';"
      ],
      "execution_count": 0,
      "outputs": []
    },
    {
      "cell_type": "code",
      "metadata": {
        "id": "-1XBjqgNritp",
        "colab_type": "code",
        "colab": {}
      },
      "source": [
        "def nparam(model, verbose=False):\n",
        "    if(verbose):\n",
        "        i = 0\n",
        "        total = 0\n",
        "        for name, param in model.named_parameters():\n",
        "            if (param.requires_grad):\n",
        "                #print('layer ', i, ' name: ', name)\n",
        "                j = 1\n",
        "                for dim in param.data.shape:\n",
        "                    j = j * dim\n",
        "                print('layer ', i, ': ', name, '; parameters: ', j, sep='')\n",
        "                i += 1\n",
        "                total += j\n",
        "        print('total parameters = ', total)\n",
        "        return\n",
        "    else:\n",
        "        #pytorch_total_params = sum(p.numel() for p in model.parameters() if p.requires_grad)\n",
        "        return sum(p.numel() for p in model.parameters())"
      ],
      "execution_count": 0,
      "outputs": []
    },
    {
      "cell_type": "markdown",
      "metadata": {
        "id": "CmnUYDiAnfZ_",
        "colab_type": "text"
      },
      "source": [
        "Function to plot confusion matrix"
      ]
    },
    {
      "cell_type": "code",
      "metadata": {
        "id": "079BiJjGssWN",
        "colab_type": "code",
        "colab": {}
      },
      "source": [
        "'''\n",
        "description:\n",
        "    - this function plots the confusion matrix (normalized or not) \n",
        "    using Matplotlib and seaborn in a nice way using heatmap.\n",
        "#-------------------\n",
        "positional args:\n",
        "    - confusion_matrix  [numpy.ndarray]:    ex.: array([[88, 19],[22, 71]])\n",
        "    - class_names       [list of str]:      ex.: ['negative', 'positive']\n",
        "\n",
        "optional args:\n",
        "    - title     (default=None)          [str]:      title of the plot\n",
        "    - normalize (default=False)         [bool]:     values raw or normalized\n",
        "    - cmap      (default=plt.cm.Blues)     \\\n",
        "       [matplotlib.colors.LinearSegmentedColormap]: colormap to be used\n",
        "    - fig_size   (default=(10,7))        [tuple]:    size of the figure\n",
        "    - fontsize  (default=14)            [int]:      size of the text\n",
        "#-------------------\n",
        "return:\n",
        "  - fig [matplotlib.figure.Figure]: confusion matrix plotted in a nice way!\n",
        "''';"
      ],
      "execution_count": 0,
      "outputs": []
    },
    {
      "cell_type": "code",
      "metadata": {
        "id": "z7-aEqs_nhpf",
        "colab_type": "code",
        "colab": {}
      },
      "source": [
        "#https://github.com/ito-rafael/machine-learning/blob/master/snippets/confusion_matrix.py\n",
        "def print_confusion_matrix(confusion_matrix, class_names, title=None, normalize=False, cmap=plt.cm.Blues, figsize = (10,7), fontsize=14):\n",
        "    # normalized or raw CM\n",
        "    if normalize:\n",
        "        confusion_matrix = confusion_matrix.astype('float') / confusion_matrix.sum(axis=1)[:, np.newaxis]\n",
        "        fmt = '.2f'\n",
        "    else:\n",
        "        fmt = 'd'\n",
        "    #----------------------------\n",
        "    df_cm = pd.DataFrame(confusion_matrix, index=class_names, columns=class_names)\n",
        "    fig = plt.figure(figsize=figsize)\n",
        "    try:\n",
        "        heatmap = sns.heatmap(df_cm, annot=True, fmt=fmt, cmap=cmap)\n",
        "    except ValueError:\n",
        "        raise ValueError(\"Confusion matrix values must be integers.\")\n",
        "    #----------------------------\n",
        "    # fix matplotlib 3.1.1 bug\n",
        "    #heatmap.get_ylim() --> (5.5, 0.5)\n",
        "    #heatmap.set_ylim(6.0, 0)\n",
        "    #----------------------------\n",
        "    heatmap.yaxis.set_ticklabels(heatmap.yaxis.get_ticklabels(), rotation=0, ha='right', fontsize=fontsize)\n",
        "    heatmap.xaxis.set_ticklabels(heatmap.xaxis.get_ticklabels(), rotation=45, ha='right', fontsize=fontsize)\n",
        "    plt.title(title)\n",
        "    plt.ylabel('True label')\n",
        "    plt.xlabel('Predicted label')\n",
        "    return fig"
      ],
      "execution_count": 0,
      "outputs": []
    },
    {
      "cell_type": "markdown",
      "metadata": {
        "id": "0KqWxd9RmXWz",
        "colab_type": "text"
      },
      "source": [
        "Function that preprocess a document, returning the mean of word embeddings"
      ]
    },
    {
      "cell_type": "code",
      "metadata": {
        "id": "cRZpxDIfmMEB",
        "colab_type": "code",
        "colab": {}
      },
      "source": [
        "'''\n",
        "description:\n",
        "    this function receives as parameter a corpus [list of lists] and do the following:\n",
        "      - convert to lower case,\n",
        "      - split in tokens,\n",
        "      - remove stop words\n",
        "return:\n",
        "    the same corpus preprocessed\n",
        "''';"
      ],
      "execution_count": 0,
      "outputs": []
    },
    {
      "cell_type": "code",
      "metadata": {
        "id": "wDtylQ8uQL8H",
        "colab_type": "code",
        "colab": {}
      },
      "source": [
        "def pre_processing(corpus, stopwords, embedding):\n",
        "    corpus_pp = []\n",
        "    for sentence in corpus:\n",
        "        sentence = sentence.lower()                 # convert to lower case\n",
        "        sentence = re.sub(\"[^\\w]\", \" \",  sentence)  # match word characters [a-zA-Z0-9_]\n",
        "        sentence = sentence.split()                 # split in tokens\n",
        "        #---------------------------\n",
        "        sentence_pp = []\n",
        "        for token in sentence:\n",
        "            # remove stop words\n",
        "            if token not in stopwords: \n",
        "                sentence_pp.append(token)\n",
        "        corpus_pp.append(sentence_pp)\n",
        "    return corpus_pp"
      ],
      "execution_count": 0,
      "outputs": []
    },
    {
      "cell_type": "markdown",
      "metadata": {
        "id": "me1XVMkAfzxo",
        "colab_type": "text"
      },
      "source": [
        "### 2.2 Classes"
      ]
    },
    {
      "cell_type": "markdown",
      "metadata": {
        "id": "ICTToEJMmt-n",
        "colab_type": "text"
      },
      "source": [
        "Class used for training in training loop"
      ]
    },
    {
      "cell_type": "code",
      "metadata": {
        "id": "_1PNzzsk498M",
        "colab_type": "code",
        "colab": {}
      },
      "source": [
        "'''\n",
        "description:\n",
        "    this class is used during the training loop for TRAINING\n",
        "\n",
        "parameters:\n",
        "    - device\n",
        "    - model\n",
        "    - dataloader\n",
        "    - loss_function\n",
        "    - optimizer\n",
        "\n",
        "return:\n",
        "    np.mean(loss_his()) [numpy.float64]: mean of losses of all mini-batches in one epoch\n",
        "    score_train.item()  [float]:         accuracy calculated over one epoch  \n",
        "''';"
      ],
      "execution_count": 0,
      "outputs": []
    },
    {
      "cell_type": "code",
      "metadata": {
        "id": "DYaNeQ2irejs",
        "colab_type": "code",
        "colab": {}
      },
      "source": [
        "class TrainingLoop():\n",
        "    def __init__(self, device, model, dataloader, loss_function, optimizer):\n",
        "        self.device = device\n",
        "        self.model = model\n",
        "        self.dataloader = dataloader\n",
        "        self.loss_function = loss_function\n",
        "        self.optimizer = optimizer\n",
        "\n",
        "    def __call__(self):\n",
        "        # training mode\n",
        "        self.model.train()\n",
        "        loss_his = np.zeros(len(self.dataloader))\n",
        "        score_train = 0.\n",
        "        for b_i, (b_x, b_y, b_m) in enumerate(self.dataloader):   # for each training step\n",
        "            b_x, b_y, b_m = b_x.to(self.device), b_y.to(self.device), b_m.to(self.device)\n",
        "            y_logitos = self.model(b_x, b_m)\n",
        "            loss = self.loss_function(y_logitos, b_y)\n",
        "            self.optimizer.zero_grad()  # clear gradients for next train\n",
        "            loss.backward()             # backpropagation, compute gradients\n",
        "            self.optimizer.step()        # apply gradients\n",
        "            #-------------------\n",
        "            y_pred = torch.argmax(y_logitos, dim=1)\n",
        "            score_train += (b_y == y_pred).sum()\n",
        "            loss_his[b_i] = loss.item()\n",
        "        return np.mean(loss_his), score_train.item()"
      ],
      "execution_count": 0,
      "outputs": []
    },
    {
      "cell_type": "markdown",
      "metadata": {
        "id": "JofgQZ-cm3Bd",
        "colab_type": "text"
      },
      "source": [
        "Class used for validation in training loop"
      ]
    },
    {
      "cell_type": "code",
      "metadata": {
        "colab_type": "code",
        "id": "P6j1VO3w6Qee",
        "colab": {}
      },
      "source": [
        "'''\n",
        "description:\n",
        "    this class is used during the training loop for VALIDATION\n",
        "\n",
        "parameters:\n",
        "    - device\n",
        "    - model\n",
        "    - dataloader\n",
        "    - loss_function\n",
        "\n",
        "return:\n",
        "    np.mean(loss_his()) [numpy.float64]: mean of losses of all mini-batches in one epoch\n",
        "    score_valid.item()  [float]:         accuracy calculated over one epoch  \n",
        "''';"
      ],
      "execution_count": 0,
      "outputs": []
    },
    {
      "cell_type": "code",
      "metadata": {
        "id": "A0qgFjIBurL1",
        "colab_type": "code",
        "colab": {}
      },
      "source": [
        "class ValidatingLoop():\n",
        "    def __init__(self, device, model, dataloader, loss_function):\n",
        "        self.device = device\n",
        "        self.model = model\n",
        "        self.dataloader = dataloader\n",
        "        self.loss_function = loss_function\n",
        "\n",
        "    def __call__(self):\n",
        "        # evaluation mode\n",
        "        self.model.eval()\n",
        "        loss_his = np.zeros(len(self.dataloader))\n",
        "        score_valid = 0.\n",
        "        for b_ival, (b_xval, b_yval, b_mval) in enumerate(self.dataloader):\n",
        "            b_xval, b_yval, b_mval = b_xval.to(self.device), b_yval.to(self.device), b_mval.to(self.device)\n",
        "            y_logitos = self.model(b_xval, b_mval)\n",
        "            loss_valid = self.loss_function(y_logitos, b_yval)\n",
        "            yval_pred = torch.argmax(y_logitos, dim=1)\n",
        "            score_valid += (b_yval == yval_pred).sum()\n",
        "            loss_his[b_ival] = loss_valid.item()\n",
        "        return np.mean(loss_his), score_valid"
      ],
      "execution_count": 0,
      "outputs": []
    },
    {
      "cell_type": "markdown",
      "metadata": {
        "id": "C4IayX1HsCyC",
        "colab_type": "text"
      },
      "source": [
        "## 3. Dataset Pre-processing"
      ]
    },
    {
      "cell_type": "markdown",
      "metadata": {
        "id": "QS8YeBbWH7rF",
        "colab_type": "text"
      },
      "source": [
        "### 3.1 Download dataset"
      ]
    },
    {
      "cell_type": "code",
      "metadata": {
        "id": "be58QXZjoBWl",
        "colab_type": "code",
        "colab": {}
      },
      "source": [
        "# # download partial dataset (1000 samples, 800 train, 200 test)\n",
        "# !wget -nc http://files.fast.ai/data/examples/imdb_sample.tgz\n",
        "# !tar -xzf imdb_sample.tgz"
      ],
      "execution_count": 0,
      "outputs": []
    },
    {
      "cell_type": "code",
      "metadata": {
        "id": "8I1soPqbUtf3",
        "colab_type": "code",
        "outputId": "8c83e54e-079e-42f3-acd4-dd74943bba59",
        "colab": {
          "base_uri": "https://localhost:8080/",
          "height": 58
        }
      },
      "source": [
        "# download complete dataset (50k samples: 25k train, 25k test)\n",
        "!wget -nc http://files.fast.ai/data/aclImdb.tgz \n",
        "!tar -xzf aclImdb.tgz"
      ],
      "execution_count": 15,
      "outputs": [
        {
          "output_type": "stream",
          "text": [
            "File ‘aclImdb.tgz’ already there; not retrieving.\n",
            "\n"
          ],
          "name": "stdout"
        }
      ]
    },
    {
      "cell_type": "markdown",
      "metadata": {
        "id": "qGaOXbAGk_IG",
        "colab_type": "text"
      },
      "source": [
        "### 3.2 Download embeddings"
      ]
    },
    {
      "cell_type": "code",
      "metadata": {
        "id": "_vfFwWCWxc07",
        "colab_type": "code",
        "colab": {}
      },
      "source": [
        "# !wget -nc http://nlp.stanford.edu/data/glove.6B.zip\n",
        "# !unzip -o glove.6B.zip -d glove_dir"
      ],
      "execution_count": 0,
      "outputs": []
    },
    {
      "cell_type": "markdown",
      "metadata": {
        "id": "9ugoqCqNwnuu",
        "colab_type": "text"
      },
      "source": [
        "Loading word embeddings with gensin"
      ]
    },
    {
      "cell_type": "code",
      "metadata": {
        "id": "Db7UYxCow5GF",
        "colab_type": "code",
        "outputId": "389e598e-eec1-4be5-9671-920d95f4f731",
        "colab": {
          "base_uri": "https://localhost:8080/",
          "height": 283
        }
      },
      "source": [
        " import gensim.downloader as api\n",
        "\n",
        " word2vec_model = api.load(\"glove-wiki-gigaword-300\")\n",
        " print(word2vec_model.vectors.shape)\n",
        " print(word2vec_model.index2word)"
      ],
      "execution_count": 17,
      "outputs": [
        {
          "output_type": "stream",
          "text": [
            "/usr/local/lib/python3.6/dist-packages/smart_open/smart_open_lib.py:253: UserWarning: This function is deprecated, use smart_open.open instead. See the migration notes for details: https://github.com/RaRe-Technologies/smart_open/blob/master/README.rst#migrating-to-the-new-open-function\n",
            "  'See the migration notes for details: %s' % _MIGRATION_NOTES_URL\n",
            "IOPub data rate exceeded.\n",
            "The notebook server will temporarily stop sending output\n",
            "to the client in order to avoid crashing it.\n",
            "To change this limit, set the config variable\n",
            "`--NotebookApp.iopub_data_rate_limit`.\n",
            "\n",
            "Current values:\n",
            "NotebookApp.iopub_data_rate_limit=1000000.0 (bytes/sec)\n",
            "NotebookApp.rate_limit_window=3.0 (secs)\n",
            "\n"
          ],
          "name": "stderr"
        }
      ]
    },
    {
      "cell_type": "markdown",
      "metadata": {
        "id": "73B7smEnxdVZ",
        "colab_type": "text"
      },
      "source": [
        "Loading word embeddings with torchtext"
      ]
    },
    {
      "cell_type": "code",
      "metadata": {
        "id": "A_05Xh0L05tI",
        "colab_type": "code",
        "colab": {}
      },
      "source": [
        "# from torchtext.vocab import GloVe\n",
        "# word2vec_model = GloVe(name='6B', dim=EMBEDDING_DIM, cache='./glove_dir')\n",
        "# #---------------------------\n",
        "# print(word2vec_model.vectors.shape)\n",
        "# print('First 20 words and its index:', list(word2vec_model.stoi.items())[:20])"
      ],
      "execution_count": 0,
      "outputs": []
    },
    {
      "cell_type": "code",
      "metadata": {
        "id": "tFkUxOyEp29i",
        "colab_type": "code",
        "outputId": "d7a34aa7-b21a-4773-960c-b1aeb64c0680",
        "colab": {
          "base_uri": "https://localhost:8080/",
          "height": 37
        }
      },
      "source": [
        "word2vec_model['the'].shape"
      ],
      "execution_count": 19,
      "outputs": [
        {
          "output_type": "execute_result",
          "data": {
            "text/plain": [
              "(300,)"
            ]
          },
          "metadata": {
            "tags": []
          },
          "execution_count": 19
        }
      ]
    },
    {
      "cell_type": "markdown",
      "metadata": {
        "id": "LWGpvacBsdW_",
        "colab_type": "text"
      },
      "source": [
        "### 3.3 Dataset loading"
      ]
    },
    {
      "cell_type": "code",
      "metadata": {
        "id": "eg6Od265U-7-",
        "colab_type": "code",
        "colab": {}
      },
      "source": [
        "def load_texts(folder):\n",
        "    texts = []\n",
        "    for path in os.listdir(folder):\n",
        "        with open(os.path.join(folder, path)) as f:\n",
        "            texts.append(f.read())\n",
        "    return texts"
      ],
      "execution_count": 0,
      "outputs": []
    },
    {
      "cell_type": "markdown",
      "metadata": {
        "id": "jTLdJHM90z0-",
        "colab_type": "text"
      },
      "source": [
        "load both classes"
      ]
    },
    {
      "cell_type": "code",
      "metadata": {
        "id": "uPPqXHqrW-YJ",
        "colab_type": "code",
        "outputId": "861d6c18-6280-4add-8e5e-01cd7d44187f",
        "colab": {
          "base_uri": "https://localhost:8080/",
          "height": 58
        }
      },
      "source": [
        "# load both classes\n",
        "X_train_pos = load_texts('aclImdb/train/pos')\n",
        "X_train_neg = load_texts('aclImdb/train/neg')\n",
        "X_test_pos  = load_texts('aclImdb/test/pos')\n",
        "X_test_neg  = load_texts('aclImdb/test/neg')\n",
        "#---------------------------\n",
        "# join positive and negative classes\n",
        "X_train = X_train_pos + X_train_neg\n",
        "X_test  = X_test_pos  + X_test_neg\n",
        "y_train = [True] * len(X_train_pos) + [False] * len(X_train_neg)\n",
        "y_test  = [True] * len(X_test_pos)  + [False] * len(X_test_neg)\n",
        "#---------------------------\n",
        "# print number of samples\n",
        "print('train samples:', len(X_train))\n",
        "print('test samples:', len(y_test))"
      ],
      "execution_count": 21,
      "outputs": [
        {
          "output_type": "stream",
          "text": [
            "train samples: 25000\n",
            "test samples: 25000\n"
          ],
          "name": "stdout"
        }
      ]
    },
    {
      "cell_type": "markdown",
      "metadata": {
        "id": "_7pkQlN9uv0R",
        "colab_type": "text"
      },
      "source": [
        "training-validation split"
      ]
    },
    {
      "cell_type": "code",
      "metadata": {
        "id": "2nbyyU2J04Un",
        "colab_type": "code",
        "outputId": "0b0084ab-fa9a-4873-9177-a5ad5a738fbd",
        "colab": {
          "base_uri": "https://localhost:8080/",
          "height": 58
        }
      },
      "source": [
        "# create validation set\n",
        "X_valid = X_train[:2500] + X_train[-2500:]  # 2500 samples from positive class\n",
        "y_valid = y_train[:2500] + y_train[-2500:]  # 2500 samples from negative class\n",
        "#---------------------------\n",
        "# remove them from training set\n",
        "X_train = X_train[2500:-2500]\n",
        "y_train = y_train[2500:-2500]\n",
        "#---------------------------\n",
        "print('train samples:', len(X_train))\n",
        "print('valid samples:', len(X_valid))"
      ],
      "execution_count": 22,
      "outputs": [
        {
          "output_type": "stream",
          "text": [
            "train samples: 20000\n",
            "valid samples: 5000\n"
          ],
          "name": "stdout"
        }
      ]
    },
    {
      "cell_type": "markdown",
      "metadata": {
        "id": "m3Wem1XQZSjl",
        "colab_type": "text"
      },
      "source": [
        "create vocabulary from word embedding"
      ]
    },
    {
      "cell_type": "code",
      "metadata": {
        "id": "L92LybDWZQqG",
        "colab_type": "code",
        "outputId": "11ac5521-db2c-4389-80e0-49195ea3e7d3",
        "colab": {
          "base_uri": "https://localhost:8080/",
          "height": 119
        }
      },
      "source": [
        "vocab = {word: index for index, word in enumerate(word2vec_model.index2word)}\n",
        "#---------------------------\n",
        "# adding the token 'PAD'\n",
        "vocab['[PAD]'] = len(vocab)\n",
        "pad_vector = np.zeros((1, word2vec_model.vectors.shape[1]))\n",
        "embeddings = np.concatenate((word2vec_model.vectors, pad_vector), axis=0)\n",
        "# convert embeddings from numpy to pytorch float32\n",
        "embeddings = torch.from_numpy(embeddings)\n",
        "embeddings = torch.tensor(embeddings, dtype=torch.float32)\n",
        "#---------------------------\n",
        "print('vocab size:', len(vocab))\n",
        "print(f'20 most frequent tokens: {list(itertools.islice(vocab.keys(), 20))}')"
      ],
      "execution_count": 23,
      "outputs": [
        {
          "output_type": "stream",
          "text": [
            "vocab size: 400001\n",
            "20 most frequent tokens: ['the', ',', '.', 'of', 'to', 'and', 'in', 'a', '\"', \"'s\", 'for', '-', 'that', 'on', 'is', 'was', 'said', 'with', 'he', 'as']\n"
          ],
          "name": "stdout"
        },
        {
          "output_type": "stream",
          "text": [
            "/usr/local/lib/python3.6/dist-packages/ipykernel_launcher.py:9: UserWarning: To copy construct from a tensor, it is recommended to use sourceTensor.clone().detach() or sourceTensor.clone().detach().requires_grad_(True), rather than torch.tensor(sourceTensor).\n",
            "  if __name__ == '__main__':\n"
          ],
          "name": "stderr"
        }
      ]
    },
    {
      "cell_type": "markdown",
      "metadata": {
        "id": "ES_1_0uTZYfc",
        "colab_type": "text"
      },
      "source": [
        "dataset tokenization and converting to index"
      ]
    },
    {
      "cell_type": "code",
      "metadata": {
        "id": "VWYZz7UbZYrN",
        "colab_type": "code",
        "colab": {}
      },
      "source": [
        "# tokenize text, replace characters and convert to lower case\n",
        "def tokenize(text):\n",
        "    for char in ['\"', '\\'', '.', ',', ':', '-', '?', '!']:\n",
        "        text = text.replace(char, ' ')\n",
        "    return text.lower().split()\n",
        "#---------------------------\n",
        "# convert tokens to indexes\n",
        "def tokens_to_ids(tokens, vocab):\n",
        "    return [vocab[token] for token in tokens if token in vocab]\n",
        "#---------------------------\n",
        "# convert text in tokens, and then to indexes\n",
        "def tokens_to_ids_batch(texts, vocab):\n",
        "    return [tokens_to_ids(tokenize(text), vocab) for text in texts]"
      ],
      "execution_count": 0,
      "outputs": []
    },
    {
      "cell_type": "code",
      "metadata": {
        "id": "L4qfRUWxZY0c",
        "colab_type": "code",
        "outputId": "de9e2aff-b2fa-4742-b231-36acb7285cdd",
        "colab": {
          "base_uri": "https://localhost:8080/",
          "height": 78
        }
      },
      "source": [
        "# get indexes of words in sentences\n",
        "X_train_index = tokens_to_ids_batch(X_train, vocab)\n",
        "X_test_index = tokens_to_ids_batch(X_test, vocab)\n",
        "#---------------------------\n",
        "# print first sentence and its indexes\n",
        "print(X_train[0])\n",
        "print(X_train_index[0])"
      ],
      "execution_count": 25,
      "outputs": [
        {
          "output_type": "stream",
          "text": [
            "I saw this movie, and the play, and I have to add that this was the most touching story that I had ever seen. Until I saw this movie I was unaware of how awful life was and probably still is for the South African children and adults that were and are living in that era. It brought tears to my eyes and much sadness to my heart that any human being should have to struggle like that just to stay alive, And to bring the children right out of that area and teach them to act and preform and turn them loose to tell their own story is simply amazing. This simply surpass a five star, I rate it a ten. Thank You Mr. Mbongeni Ngema for such a astonishing story. Although it has been 12 years since this story has been told, it is still one that lays heavy in my heart.If there is a VHS, or DVD out there on the play, Please notify me ASAP.Thank You. PS There was nothing wrong with the kids wanting to bring awareness of their problems and conditions to the attention of other countries in hopes that some one would have a heart and offer assistance.\n",
            "[41, 822, 37, 1005, 5, 0, 282, 5, 41, 33, 4, 1679, 12, 37, 15, 0, 96, 9638, 523, 12, 41, 40, 661, 541, 207, 41, 822, 37, 1005, 41, 15, 9140, 3, 197, 9956, 214, 15, 5, 965, 149, 14, 10, 0, 139, 685, 271, 5, 3574, 12, 35, 5, 32, 756, 6, 12, 1592, 20, 845, 5654, 4, 192, 2251, 5, 181, 13866, 4, 192, 1058, 12, 130, 473, 134, 189, 33, 4, 2651, 117, 12, 120, 4, 1087, 2977, 5, 4, 938, 0, 271, 248, 66, 3, 12, 237, 5, 5293, 101, 4, 743, 5, 221833, 5, 890, 101, 5128, 4, 1361, 44, 261, 523, 14, 1481, 5772, 37, 1481, 15695, 7, 174, 753, 41, 571, 20, 7, 1705, 5551, 81, 6380, 385183, 212582, 10, 125, 7, 14764, 523, 376, 20, 31, 51, 421, 82, 108, 37, 523, 31, 51, 154, 20, 14, 149, 48, 12, 15291, 1106, 6, 192, 1058, 83, 63, 14, 7, 20237, 46, 4180, 66, 63, 13, 0, 282, 3832, 16563, 285, 61314, 5551, 81, 19997, 63, 15, 936, 1797, 17, 0, 1813, 7105, 4, 938, 5418, 3, 44, 671, 5, 1124, 4, 0, 999, 3, 68, 252, 6, 1355, 12, 77, 48, 54, 33, 7, 1058, 5, 901, 2010]\n"
          ],
          "name": "stdout"
        }
      ]
    },
    {
      "cell_type": "markdown",
      "metadata": {
        "id": "S1Pn9kfKfVyL",
        "colab_type": "text"
      },
      "source": [
        "Converting word indexes in batches"
      ]
    },
    {
      "cell_type": "code",
      "metadata": {
        "id": "3cIpBD4AZY-t",
        "colab_type": "code",
        "colab": {}
      },
      "source": [
        "def truncate_and_pad(batch_word_ids, pad_token_id, seq_length):\n",
        "    #---------------------------\n",
        "    # truncate\n",
        "    batch_word_ids = [word_ids[:seq_length] for word_ids in batch_word_ids]\n",
        "    #---------------------------\n",
        "    # create mask\n",
        "    mask = [\n",
        "        [1] * len(word_ids) + [0] * (seq_length - len(word_ids))\n",
        "        for word_ids in  batch_word_ids]\n",
        "    #---------------------------\n",
        "    # pad\n",
        "    batch_word_ids = [\n",
        "        word_ids + [pad_token_id] * (seq_length - len(word_ids))\n",
        "        for word_ids in batch_word_ids]\n",
        "    #---------------------------\n",
        "    return batch_word_ids, mask"
      ],
      "execution_count": 0,
      "outputs": []
    },
    {
      "cell_type": "code",
      "metadata": {
        "id": "s_UFTsjRfMC-",
        "colab_type": "code",
        "outputId": "73ddb03b-1dc4-449f-b1d9-cd157524a99e",
        "colab": {
          "base_uri": "https://localhost:8080/",
          "height": 181
        }
      },
      "source": [
        "texts = ['we like pizza', 'he does not like apples']\n",
        "batch_word_ids = tokens_to_ids_batch(texts, vocab)\n",
        "batch, mask = truncate_and_pad(batch_word_ids=batch_word_ids,\n",
        "                 pad_token_id=vocab['[PAD]'],\n",
        "                 seq_length=8)\n",
        "batch = np.array(batch)\n",
        "mask = np.array(mask)\n",
        "#---------------------------\n",
        "for index in range(len(texts)):\n",
        "    print('sentence: \"', texts[index], '\"', sep='')\n",
        "    print('indexes:', batch_word_ids[index])\n",
        "    print('mask:', mask[index], end='\\n\\n')"
      ],
      "execution_count": 27,
      "outputs": [
        {
          "output_type": "stream",
          "text": [
            "sentence: \"we like pizza\"\n",
            "indexes: [53, 117, 9388]\n",
            "mask: [1 1 1 0 0 0 0 0]\n",
            "\n",
            "sentence: \"he does not like apples\"\n",
            "indexes: [18, 260, 36, 117, 13134]\n",
            "mask: [1 1 1 1 1 0 0 0]\n",
            "\n"
          ],
          "name": "stdout"
        }
      ]
    },
    {
      "cell_type": "code",
      "metadata": {
        "id": "-NlIo3yWfMMr",
        "colab_type": "code",
        "outputId": "f2de0ba7-3a9c-43d9-dd1a-f554fcbf352d",
        "colab": {
          "base_uri": "https://localhost:8080/",
          "height": 119
        }
      },
      "source": [
        "# print shapes of batch and mask\n",
        "print('batch.shape:', batch.shape)\n",
        "print('mask.shape:', mask.shape)\n",
        "print('batch:')\n",
        "print(batch)"
      ],
      "execution_count": 28,
      "outputs": [
        {
          "output_type": "stream",
          "text": [
            "batch.shape: (2, 8)\n",
            "mask.shape: (2, 8)\n",
            "batch:\n",
            "[[    53    117   9388 400000 400000 400000 400000 400000]\n",
            " [    18    260     36    117  13134 400000 400000 400000]]\n"
          ],
          "name": "stdout"
        }
      ]
    },
    {
      "cell_type": "markdown",
      "metadata": {
        "id": "UoCDR4p0BYcy",
        "colab_type": "text"
      },
      "source": [
        "### 3.4 PyTorch dataset creation"
      ]
    },
    {
      "cell_type": "code",
      "metadata": {
        "id": "hGrwazifPSdy",
        "colab_type": "code",
        "colab": {}
      },
      "source": [
        "class ImdbDataset(torch.utils.data.Dataset):\n",
        "    #def __init__(self, text, target, vocabulary, embeddings, seq_length=64):\n",
        "    def __init__(self, text, target, vocabulary, seq_length=64):\n",
        "        self.vocab = vocabulary\n",
        "        self.seq_length = seq_length\n",
        "        words_idx = tokens_to_ids_batch(text, self.vocab)\n",
        "        self.X_str, mask = truncate_and_pad(\n",
        "                            batch_word_ids=words_idx, \n",
        "                            pad_token_id=self.vocab['[PAD]'], \n",
        "                            seq_length=self.seq_length)\n",
        "        self.X = torch.tensor(self.X_str, dtype=torch.int64)\n",
        "        self.target = torch.tensor(target, dtype=torch.int64)\n",
        "        self.mask = torch.tensor(mask, dtype=torch.int64)\n",
        "\n",
        "    def __len__(self):\n",
        "        return len(self.X)\n",
        "\n",
        "    def __getitem__(self, index):\n",
        "        return (self.X[index], self.target[index], self.mask[index])"
      ],
      "execution_count": 0,
      "outputs": []
    },
    {
      "cell_type": "code",
      "metadata": {
        "id": "2a8kAF4zCAol",
        "colab_type": "code",
        "colab": {}
      },
      "source": [
        "# dataset using Word Embeddings\n",
        "ds_train = ImdbDataset(X_train, y_train, vocab, seq_length=128)\n",
        "ds_valid = ImdbDataset(X_valid, y_valid, vocab, seq_length=128)\n",
        "ds_test  = ImdbDataset(X_test,  y_test,  vocab, seq_length=128)"
      ],
      "execution_count": 0,
      "outputs": []
    },
    {
      "cell_type": "markdown",
      "metadata": {
        "id": "UPsgbfqGsm5V",
        "colab_type": "text"
      },
      "source": [
        "### 3.5 PyTorch loader creation\n",
        "\n",
        "- BATCH_SIZE definition\n",
        "- training dataset\n",
        "- validation dataset"
      ]
    },
    {
      "cell_type": "code",
      "metadata": {
        "id": "9sESeX_SqoXr",
        "colab_type": "code",
        "colab": {}
      },
      "source": [
        "BATCH_SIZE = 100\n",
        "#-------------------------------------------------\n",
        "# training data loader\n",
        "dl_train = torch.utils.data.DataLoader(\n",
        "            dataset=ds_train, \n",
        "            drop_last = False,\n",
        "            shuffle = True,\n",
        "            batch_size = BATCH_SIZE)\n",
        "#-------------------------------------------------\n",
        "# validation data loader\n",
        "dl_valid =  torch.utils.data.DataLoader(\n",
        "            dataset = ds_valid,\n",
        "            drop_last = False,\n",
        "            shuffle = False,\n",
        "            batch_size = BATCH_SIZE)"
      ],
      "execution_count": 0,
      "outputs": []
    },
    {
      "cell_type": "markdown",
      "metadata": {
        "id": "XFwZVZfQssoV",
        "colab_type": "text"
      },
      "source": [
        "### 3.6 Verifying shape, batch data type from loader and optionally its visualization"
      ]
    },
    {
      "cell_type": "code",
      "metadata": {
        "id": "NQbDl3QVql8m",
        "colab_type": "code",
        "outputId": "1c3d02d7-ad05-4c6f-cdf8-8366f724c4d5",
        "colab": {
          "base_uri": "https://localhost:8080/",
          "height": 78
        }
      },
      "source": [
        "tx, ty, _ = iter(dl_train).next()\n",
        "print('train:', tx.shape, tx.dtype, ty.shape, ty.dtype)\n",
        "tx, ty, _ = iter(dl_valid).next()\n",
        "print('val:', tx.shape, tx.dtype, ty.shape, ty.dtype)\n",
        "print('last batch size:', len(ds_train)%BATCH_SIZE, len(ds_valid)%BATCH_SIZE)"
      ],
      "execution_count": 32,
      "outputs": [
        {
          "output_type": "stream",
          "text": [
            "train: torch.Size([100, 128]) torch.int64 torch.Size([100]) torch.int64\n",
            "val: torch.Size([100, 128]) torch.int64 torch.Size([100]) torch.int64\n",
            "last batch size: 0 0\n"
          ],
          "name": "stdout"
        }
      ]
    },
    {
      "cell_type": "markdown",
      "metadata": {
        "id": "Bw_Z9cMgs8Kf",
        "colab_type": "text"
      },
      "source": [
        "## 4. Network Model"
      ]
    },
    {
      "cell_type": "markdown",
      "metadata": {
        "id": "7vn0r32bamG7",
        "colab_type": "text"
      },
      "source": [
        "### 4.1 Network layers definition"
      ]
    },
    {
      "cell_type": "markdown",
      "metadata": {
        "id": "BFyvSJCVpyTp",
        "colab_type": "text"
      },
      "source": [
        "dimensions of tensors"
      ]
    },
    {
      "cell_type": "code",
      "metadata": {
        "id": "b43wrZOmnXFU",
        "colab_type": "code",
        "outputId": "598b59d0-48cc-4a16-b6f2-c29be103e541",
        "colab": {
          "base_uri": "https://localhost:8080/",
          "height": 119
        }
      },
      "source": [
        "V = len(vocab)\n",
        "D = word2vec_model.vector_size\n",
        "L = ds_train.seq_length\n",
        "H = 6\n",
        "B = BATCH_SIZE\n",
        "#---------------------------\n",
        "print('V =', V)     # vocab size\n",
        "print('D =', D)     # embedding dim\n",
        "print('H =', H)     # length of sequence\n",
        "print('L =', L)     # number of heads\n",
        "print('B =', B)     # batch size"
      ],
      "execution_count": 33,
      "outputs": [
        {
          "output_type": "stream",
          "text": [
            "V = 400001\n",
            "D = 300\n",
            "H = 6\n",
            "L = 128\n",
            "B = 100\n"
          ],
          "name": "stdout"
        }
      ]
    },
    {
      "cell_type": "markdown",
      "metadata": {
        "id": "7P3QlYPNuLiH",
        "colab_type": "text"
      },
      "source": [
        "Residual Layer"
      ]
    },
    {
      "cell_type": "code",
      "metadata": {
        "id": "HpJbUHElmPMc",
        "colab_type": "code",
        "colab": {}
      },
      "source": [
        "# class ResidualLayer(torch.nn.Module):\n",
        "#     def __init__(self, layer):\n",
        "#         self.layer = layer\n",
        "\n",
        "#     def forward(self, x):\n",
        "#         residual = x.clone()\n",
        "#         x = self.layer(x)\n",
        "#         x += residual\n",
        "#         return x"
      ],
      "execution_count": 0,
      "outputs": []
    },
    {
      "cell_type": "markdown",
      "metadata": {
        "id": "LvBDbQwaugVX",
        "colab_type": "text"
      },
      "source": [
        "Positional Embedding Layer"
      ]
    },
    {
      "cell_type": "code",
      "metadata": {
        "id": "IFSHWtLcoNzW",
        "colab_type": "code",
        "colab": {}
      },
      "source": [
        "class PositionalEmbedding(torch.nn.Module):\n",
        "    def __init__(self, L, D, device):\n",
        "        super(PositionalEmbedding, self).__init__()\n",
        "        self.L = L\n",
        "        self.D = D\n",
        "        self.device = device\n",
        "        self.positions = torch.arange(self.L).to(device)\n",
        "        self.layer = Embedding(num_embeddings=self.L, embedding_dim=self.D)\n",
        "\n",
        "    def forward(self, x):\n",
        "        return x + self.layer(self.positions)"
      ],
      "execution_count": 0,
      "outputs": []
    },
    {
      "cell_type": "code",
      "metadata": {
        "id": "0m3dIf_1pn0v",
        "colab_type": "code",
        "colab": {}
      },
      "source": [
        "# def own_layer_norm(self, x):\n",
        "#     # x.shape = (B, L, D)\n",
        "#     mean = x.mean(2)\n",
        "#     std = x.std(2)\n",
        "#     x = (x - mean) / (std + 1e-5)\n",
        "#     #x = x * alpha + beta\n",
        "#     return x"
      ],
      "execution_count": 0,
      "outputs": []
    },
    {
      "cell_type": "markdown",
      "metadata": {
        "id": "tviAwxUpuajT",
        "colab_type": "text"
      },
      "source": [
        "Multi-Head Attention Layer"
      ]
    },
    {
      "cell_type": "code",
      "metadata": {
        "id": "zPzbLQWnmmFi",
        "colab_type": "code",
        "colab": {}
      },
      "source": [
        "def attention(q, k, v, D):\n",
        "    k = k.transpose(2,3)\n",
        "    self_attention = ((q @ k) / torch.sqrt(torch.tensor(D, dtype=torch.float32))) @ v\n",
        "    return F.softmax(self_attention)"
      ],
      "execution_count": 0,
      "outputs": []
    },
    {
      "cell_type": "code",
      "metadata": {
        "id": "U9tq3Onsm_0i",
        "colab_type": "code",
        "colab": {}
      },
      "source": [
        "class MultiHead(torch.nn.Module):\n",
        "    def __init__(self, L, D, H, B):\n",
        "        super(MultiHead, self).__init__()\n",
        "        self.L = L  # length of sequence\n",
        "        self.D = D  # embedding dim\n",
        "        self.H = H  # number of heads\n",
        "        self.B = B  # batch size\n",
        "        #---------------------------\n",
        "        self.W_q = Linear(self.D, self.D, bias=False)\n",
        "        self.W_k = Linear(self.D, self.D, bias=False)\n",
        "        self.W_v = Linear(self.D, self.D, bias=False)\n",
        "        self.W_o = Linear(self.D, self.D, bias=False)\n",
        "\n",
        "    def forward(self, x):\n",
        "        # multi-head (linear projections)\n",
        "        q = self.W_q(x).view(self.B, self.L, self.H, int(self.D/self.H))\n",
        "        k = self.W_k(x).view(self.B, self.L, self.H, int(self.D/self.H))\n",
        "        v = self.W_v(x).view(self.B, self.L, self.H, int(self.D/self.H))\n",
        "        # transpose to (H, L, D/H)\n",
        "        q, k, v = q.transpose(1, 2), k.transpose(1, 2), v.transpose(1, 2)\n",
        "        #-------------------\n",
        "        new_x = attention(q, k, v, self.D)\n",
        "        new_x = new_x.transpose(1, 2).contiguous()\n",
        "        new_x = new_x.view(self.B, self.L, self.D)\n",
        "        #-------------------\n",
        "        # output linear projections\n",
        "        return self.W_o(new_x)"
      ],
      "execution_count": 0,
      "outputs": []
    },
    {
      "cell_type": "markdown",
      "metadata": {
        "id": "tRjc9msmujBy",
        "colab_type": "text"
      },
      "source": [
        "Feed Forward Network Layer"
      ]
    },
    {
      "cell_type": "code",
      "metadata": {
        "id": "XAaW2SdhrNV8",
        "colab_type": "code",
        "colab": {}
      },
      "source": [
        "class MLP2Layer(torch.nn.Module):\n",
        "    def __init__(self, input_size, hidden_size, output_size):\n",
        "        super(MLP2Layer, self).__init__()\n",
        "        self.input_size = input_size\n",
        "        self.hidden_size = hidden_size\n",
        "        self.output_size = output_size\n",
        "        #---------------------------\n",
        "        self.hidden = Linear(in_features=self.input_size, out_features=self.hidden_size)\n",
        "        self.output = Linear(in_features=self.hidden_size, out_features=self.output_size)\n",
        "\n",
        "    def forward(self, x):\n",
        "        x = F.relu(self.hidden(x))\n",
        "        x = self.output(x)\n",
        "        return x"
      ],
      "execution_count": 0,
      "outputs": []
    },
    {
      "cell_type": "markdown",
      "metadata": {
        "id": "dCLl8sPsupnJ",
        "colab_type": "text"
      },
      "source": [
        "MLP Network Layer"
      ]
    },
    {
      "cell_type": "code",
      "metadata": {
        "id": "-rtpoCrDsiK4",
        "colab_type": "code",
        "colab": {}
      },
      "source": [
        "class MLP(torch.nn.Module):\n",
        "    def __init__(self, input_size, hidden1_size, hidden2_size, output_size):\n",
        "        super(MLP, self).__init__()\n",
        "        self.input_size = input_size\n",
        "        self.hidden1_size = hidden1_size\n",
        "        self.hidden2_size = hidden2_size\n",
        "        self.output_size = output_size\n",
        "        #---------------------------\n",
        "        self.hidden1 = Linear(in_features=self.input_size, out_features=self.hidden1_size)\n",
        "        self.hidden2 = Linear(in_features=self.hidden1_size, out_features=self.hidden2_size)\n",
        "        self.output = Linear(in_features=self.hidden2_size, out_features=self.output_size)\n",
        "\n",
        "    def forward(self, x):\n",
        "        x = F.relu(self.hidden1(x))\n",
        "        x = F.relu(self.hidden2(x))\n",
        "        x = self.output(x)\n",
        "        return x"
      ],
      "execution_count": 0,
      "outputs": []
    },
    {
      "cell_type": "markdown",
      "metadata": {
        "id": "RCJVqqltu6cF",
        "colab_type": "text"
      },
      "source": [
        "### 4.2 Network model definition"
      ]
    },
    {
      "cell_type": "code",
      "metadata": {
        "colab_type": "code",
        "id": "OsQ-0ceVQ78U",
        "colab": {}
      },
      "source": [
        "'''\n",
        "V: vocabulary size\n",
        "D: dimension of embeddings\n",
        "H: number of heads in multi-head\n",
        "L: legth of the sequence (number of words)\n",
        "B: batch size\n",
        "'''\n",
        "class TransformerEncoder(torch.nn.Module):\n",
        "    def __init__(self, D, L, H, B, idx2vec, device):\n",
        "#    def __init__(self, D, L, H, device):\n",
        "        super(TransformerEncoder, self).__init__()\n",
        "        self.L = L  # length of sequence\n",
        "        self.D = D  # embedding dim\n",
        "        self.H = H  # number of heads\n",
        "        self.B = B  # batch size\n",
        "        self.device = device\n",
        "        self.idx2vec = idx2vec.to(self.device)\n",
        "        #-------------------------------------------------\n",
        "        self.pos_emb = PositionalEmbedding(self.L, self.D, self.device)\n",
        "        self.multihead = MultiHead(self.L, self.D, self.H, self.B)\n",
        "        self.norm1 = LayerNorm(self.D)\n",
        "        self.ffn = MLP2Layer(self.D, self.D, 1)\n",
        "        self.norm2 = LayerNorm(self.D)\n",
        "        self.mlp = MLP(self.D, 100, 100, 2)\n",
        "#        self.dropout = Dropout(0.5)\n",
        "\n",
        "    def forward(self, x, mask):\n",
        "        #-------------------\n",
        "        # get embeddings\n",
        "        x = self.idx2vec[x]\n",
        "        # sum with positional embeddings\n",
        "        x = self.pos_emb(x)\n",
        "        #-------------------\n",
        "        # multi-head attention\n",
        "        residual = x.clone()\n",
        "        x = self.multihead(x)\n",
        "        # add & norm\n",
        "        x = x + residual\n",
        "        x = self.norm1(x)\n",
        "        #-------------------\n",
        "        # feed forward\n",
        "        residual = x.clone()\n",
        "        x = self.ffn(x)\n",
        "        # add & norm\n",
        "        x = x + residual\n",
        "        x = self.norm1(x)\n",
        "        #-------------------\n",
        "        # masked mean\n",
        "        x = x * mask.reshape(self.B, -1, 1)\n",
        "        #seq_len = torch.nonzero(mask).size(0)\n",
        "        seq_len = L - (batch_m == 0).sum(dim=1)\n",
        "        seq_len = seq_len.reshape(-1,1)\n",
        "        x = (torch.sum(x, dim=1) / seq_len)\n",
        "        #-------------------\n",
        "        # final mlp\n",
        "        x = self.mlp(x)\n",
        "        return x"
      ],
      "execution_count": 0,
      "outputs": []
    },
    {
      "cell_type": "markdown",
      "metadata": {
        "id": "r6NbQ9ygasBE",
        "colab_type": "text"
      },
      "source": [
        "### 4.3 Network instantiation"
      ]
    },
    {
      "cell_type": "code",
      "metadata": {
        "id": "bIRZSsqNq_Zl",
        "colab_type": "code",
        "outputId": "dd67cb83-734e-488e-ebf6-f352827b04d4",
        "colab": {
          "base_uri": "https://localhost:8080/",
          "height": 468
        }
      },
      "source": [
        "model = TransformerEncoder(D, L, H, B, embeddings, device)\n",
        "model.to(device)"
      ],
      "execution_count": 42,
      "outputs": [
        {
          "output_type": "execute_result",
          "data": {
            "text/plain": [
              "TransformerEncoder(\n",
              "  (pos_emb): PositionalEmbedding(\n",
              "    (layer): Embedding(128, 300)\n",
              "  )\n",
              "  (multihead): MultiHead(\n",
              "    (W_q): Linear(in_features=300, out_features=300, bias=False)\n",
              "    (W_k): Linear(in_features=300, out_features=300, bias=False)\n",
              "    (W_v): Linear(in_features=300, out_features=300, bias=False)\n",
              "    (W_o): Linear(in_features=300, out_features=300, bias=False)\n",
              "  )\n",
              "  (norm1): LayerNorm((300,), eps=1e-05, elementwise_affine=True)\n",
              "  (ffn): MLP2Layer(\n",
              "    (hidden): Linear(in_features=300, out_features=300, bias=True)\n",
              "    (output): Linear(in_features=300, out_features=1, bias=True)\n",
              "  )\n",
              "  (norm2): LayerNorm((300,), eps=1e-05, elementwise_affine=True)\n",
              "  (mlp): MLP(\n",
              "    (hidden1): Linear(in_features=300, out_features=100, bias=True)\n",
              "    (hidden2): Linear(in_features=100, out_features=100, bias=True)\n",
              "    (output): Linear(in_features=100, out_features=2, bias=True)\n",
              "  )\n",
              ")"
            ]
          },
          "metadata": {
            "tags": []
          },
          "execution_count": 42
        }
      ]
    },
    {
      "cell_type": "markdown",
      "metadata": {
        "id": "WFcCML_SayNO",
        "colab_type": "text"
      },
      "source": [
        "### 4.4 Network predict with few samples of batch from loader"
      ]
    },
    {
      "cell_type": "code",
      "metadata": {
        "id": "IX2K9fQ3rAkO",
        "colab_type": "code",
        "colab": {}
      },
      "source": [
        "# single dataset sample in GPU\n",
        "#model(ds_train[0][0].to(device), ds_train[0][2].to(device))\n",
        "#model(ds_train[0][0].unsqueeze(dim=-1).to(device), ds_train[0][2].unsqueeze(dim=-1).to(device))"
      ],
      "execution_count": 0,
      "outputs": []
    },
    {
      "cell_type": "code",
      "metadata": {
        "id": "xLhHUovZuoga",
        "colab_type": "code",
        "outputId": "50d99cbc-f078-4467-ab3e-e5085ed2e703",
        "colab": {
          "base_uri": "https://localhost:8080/",
          "height": 78
        }
      },
      "source": [
        "# batch sample using dataloader in GPU\n",
        "batch_x, batch_y, batch_m = iter(dl_train).next()\n",
        "batch_x, batch_y, batch_m = batch_x.to(device), batch_y.to(device), batch_m.to(device)\n",
        "model(batch_x, batch_m);"
      ],
      "execution_count": 44,
      "outputs": [
        {
          "output_type": "stream",
          "text": [
            "/usr/local/lib/python3.6/dist-packages/ipykernel_launcher.py:4: UserWarning: Implicit dimension choice for softmax has been deprecated. Change the call to include dim=X as an argument.\n",
            "  after removing the cwd from sys.path.\n"
          ],
          "name": "stderr"
        }
      ]
    },
    {
      "cell_type": "markdown",
      "metadata": {
        "id": "gqbHi424bDid",
        "colab_type": "text"
      },
      "source": [
        "## 5. Network training"
      ]
    },
    {
      "cell_type": "markdown",
      "metadata": {
        "id": "o4_rINNlbH17",
        "colab_type": "text"
      },
      "source": [
        "### 5.1 Training definitions\n",
        "\n",
        "- number of epochs\n",
        "- optimizer and LR (learning rate)\n",
        "- loss function\n"
      ]
    },
    {
      "cell_type": "code",
      "metadata": {
        "id": "07mvkthGrcVe",
        "colab_type": "code",
        "colab": {}
      },
      "source": [
        "# Training parameters\n",
        "EPOCH = 100\n",
        "LR = 0.00005\n",
        "PATIENCE = 5\n",
        "loss_func = torch.nn.CrossEntropyLoss()\n",
        "#opt = torch.optim.SGD(model.parameters(), lr=LR)\n",
        "opt = torch.optim.Adam(model.parameters(), lr=LR)\n",
        "#-------------------\n",
        "best_valid_loss = 999_999.\n",
        "train_samples = len(ds_train)\n",
        "valid_samples = len(ds_valid)\n",
        "#-------------------\n",
        "trainer = TrainingLoop(device, model, dl_train, loss_func, opt)\n",
        "validator = ValidatingLoop(device, model, dl_valid, loss_func)\n",
        "#-------------------\n",
        "# loss history\n",
        "loss_train_his = []\n",
        "loss_valid_his = []\n",
        "acc_train_his = []\n",
        "acc_valid_his = []"
      ],
      "execution_count": 0,
      "outputs": []
    },
    {
      "cell_type": "markdown",
      "metadata": {
        "id": "Mifo0jGebd6z",
        "colab_type": "text"
      },
      "source": [
        "### 5.2 Training loop"
      ]
    },
    {
      "cell_type": "code",
      "metadata": {
        "id": "gmZtFWUqrgeu",
        "colab_type": "code",
        "outputId": "c79a395b-e65f-451f-cc0c-f0a69b1804b6",
        "colab": {
          "base_uri": "https://localhost:8080/",
          "height": 672
        }
      },
      "source": [
        "%%time\n",
        "for epoch in range(EPOCH):\n",
        "    # training\n",
        "    his_train = trainer()\n",
        "    loss_train_his.append(his_train[0])\n",
        "    acc_train_his.append(his_train[1] / train_samples)\n",
        "    #-------------------\n",
        "    # validating\n",
        "    his_valid = validator()\n",
        "    loss_valid_his.append(his_valid[0])\n",
        "    acc_valid_his.append(his_valid[1] / valid_samples)\n",
        "    #-------------------------------------------------\n",
        "    # early stopping: check if new validation accuracy occurred\n",
        "    if loss_valid_his[-1] < best_valid_loss:\n",
        "        # print('New best loss in validation set!', end=' ')\n",
        "        best_valid_loss = loss_valid_his[-1]\n",
        "        patience_counter = 0\n",
        "    else:\n",
        "        patience_counter += 1\n",
        "        if patience_counter == PATIENCE:\n",
        "            print('Early stopping:', PATIENCE, 'iterations without validation loss improve')\n",
        "            break\n",
        "    #-------------------------------------------------\n",
        "    if not (epoch % 1):\n",
        "        print('epoch =', epoch, end='; ')\n",
        "        print('loss_train = {0:.4f}'.format(loss_train_his[-1]), end='; ')\n",
        "        print('loss_val = {0:.4f}'.format(loss_valid_his[-1]), end='; ')\n",
        "        print('acc_train = {0:.4f}'.format(acc_train_his[-1]), end='; ')\n",
        "        print('acc_val = {0:.4f}'.format(acc_valid_his[-1]), end='\\n')"
      ],
      "execution_count": 46,
      "outputs": [
        {
          "output_type": "stream",
          "text": [
            "/usr/local/lib/python3.6/dist-packages/ipykernel_launcher.py:4: UserWarning: Implicit dimension choice for softmax has been deprecated. Change the call to include dim=X as an argument.\n",
            "  after removing the cwd from sys.path.\n"
          ],
          "name": "stderr"
        },
        {
          "output_type": "stream",
          "text": [
            "epoch = 0; loss_train = 0.6859; loss_val = 0.6648; acc_train = 0.5865; acc_val = 0.6618\n",
            "epoch = 1; loss_train = 0.6111; loss_val = 0.5394; acc_train = 0.6947; acc_val = 0.7610\n",
            "epoch = 2; loss_train = 0.5147; loss_val = 0.4937; acc_train = 0.7627; acc_val = 0.7670\n",
            "epoch = 3; loss_train = 0.4869; loss_val = 0.5073; acc_train = 0.7783; acc_val = 0.7616\n",
            "epoch = 4; loss_train = 0.4758; loss_val = 0.4739; acc_train = 0.7882; acc_val = 0.7840\n",
            "epoch = 5; loss_train = 0.4608; loss_val = 0.4590; acc_train = 0.7944; acc_val = 0.7892\n",
            "epoch = 6; loss_train = 0.4533; loss_val = 0.4759; acc_train = 0.8015; acc_val = 0.7784\n",
            "epoch = 7; loss_train = 0.4450; loss_val = 0.4536; acc_train = 0.8050; acc_val = 0.7924\n",
            "epoch = 8; loss_train = 0.4404; loss_val = 0.4497; acc_train = 0.8092; acc_val = 0.7910\n",
            "epoch = 9; loss_train = 0.4336; loss_val = 0.4734; acc_train = 0.8116; acc_val = 0.7800\n",
            "epoch = 10; loss_train = 0.4277; loss_val = 0.4503; acc_train = 0.8118; acc_val = 0.7966\n",
            "epoch = 11; loss_train = 0.4236; loss_val = 0.4430; acc_train = 0.8162; acc_val = 0.7988\n",
            "epoch = 12; loss_train = 0.4171; loss_val = 0.4441; acc_train = 0.8193; acc_val = 0.7972\n",
            "epoch = 13; loss_train = 0.4189; loss_val = 0.4471; acc_train = 0.8185; acc_val = 0.7966\n",
            "epoch = 14; loss_train = 0.4105; loss_val = 0.4456; acc_train = 0.8239; acc_val = 0.7956\n",
            "epoch = 15; loss_train = 0.4072; loss_val = 0.4350; acc_train = 0.8271; acc_val = 0.8002\n",
            "epoch = 16; loss_train = 0.4025; loss_val = 0.4406; acc_train = 0.8282; acc_val = 0.7968\n",
            "epoch = 17; loss_train = 0.3957; loss_val = 0.4310; acc_train = 0.8317; acc_val = 0.8010\n",
            "epoch = 18; loss_train = 0.3881; loss_val = 0.4299; acc_train = 0.8334; acc_val = 0.8016\n",
            "epoch = 19; loss_train = 0.3822; loss_val = 0.4423; acc_train = 0.8387; acc_val = 0.7946\n",
            "epoch = 20; loss_train = 0.3823; loss_val = 0.4321; acc_train = 0.8404; acc_val = 0.8020\n",
            "epoch = 21; loss_train = 0.3758; loss_val = 0.4292; acc_train = 0.8399; acc_val = 0.7986\n",
            "epoch = 22; loss_train = 0.3697; loss_val = 0.4430; acc_train = 0.8435; acc_val = 0.7988\n",
            "epoch = 23; loss_train = 0.3701; loss_val = 0.4404; acc_train = 0.8449; acc_val = 0.8004\n",
            "epoch = 24; loss_train = 0.3690; loss_val = 0.4446; acc_train = 0.8444; acc_val = 0.7978\n",
            "epoch = 25; loss_train = 0.3570; loss_val = 0.4557; acc_train = 0.8504; acc_val = 0.7958\n",
            "Early stopping: 5 iterations without validation loss improve\n",
            "CPU times: user 1min 3s, sys: 21 s, total: 1min 24s\n",
            "Wall time: 1min 25s\n"
          ],
          "name": "stdout"
        }
      ]
    },
    {
      "cell_type": "markdown",
      "metadata": {
        "id": "v6aK9evCbmB2",
        "colab_type": "text"
      },
      "source": [
        "## 6. Training evaluation\n",
        "\n",
        "- metrics:\n",
        "  - accuracy\n",
        "  - confusion matrix\n",
        "  - others"
      ]
    },
    {
      "cell_type": "markdown",
      "metadata": {
        "id": "Ny22wh3MaUdI",
        "colab_type": "text"
      },
      "source": [
        "### 6.1 Training and Validation Losses"
      ]
    },
    {
      "cell_type": "code",
      "metadata": {
        "id": "BYHGPjRkaeNN",
        "colab_type": "code",
        "outputId": "01beb070-bb5a-4cd0-90c4-f35d7f9d5b4d",
        "colab": {
          "base_uri": "https://localhost:8080/",
          "height": 295
        }
      },
      "source": [
        "# plot training and validation loss\n",
        "plt.plot(loss_train_his, label='training loss', color='blue')\n",
        "plt.plot(loss_valid_his, label='validation loss', color='red')\n",
        "#-------------------------------------------------\n",
        "# axis label\n",
        "plt.xlabel('Epochs')\n",
        "plt.ylabel('CE Loss')\n",
        "# title\n",
        "plt.title('Loss progression')\n",
        "#-------------------------------------------------\n",
        "plt.autoscale(axis='x', tight=True) # axis adjust\n",
        "plt.grid(True) # add grid\n",
        "plt.legend() # add legend\n",
        "plt.show()"
      ],
      "execution_count": 47,
      "outputs": [
        {
          "output_type": "display_data",
          "data": {
            "image/png": "[encoded data removed]",
            "text/plain": [
              "<Figure size 432x288 with 1 Axes>"
            ]
          },
          "metadata": {
            "tags": [],
            "needs_background": "light"
          }
        }
      ]
    },
    {
      "cell_type": "markdown",
      "metadata": {
        "id": "thGUnNmdiqa6",
        "colab_type": "text"
      },
      "source": [
        "### 6.2 Zoom at the minimum CE loss in the validation loss curve"
      ]
    },
    {
      "cell_type": "code",
      "metadata": {
        "id": "zP5L2Gk4iraH",
        "colab_type": "code",
        "outputId": "f0314e9d-75b8-4e8b-b7fd-43c4a6f9ea0a",
        "colab": {
          "base_uri": "https://localhost:8080/",
          "height": 315
        }
      },
      "source": [
        "BEST_EPOCH = loss_valid_his.index(min(loss_valid_his)) + 1\n",
        "print('Epoch with minimum validation loss =', BEST_EPOCH)\n",
        "#-------------------------------------------------\n",
        "# plots\n",
        "plt.plot(range(max(1,BEST_EPOCH-2),min(EPOCH,BEST_EPOCH+3)), loss_valid_his[max(1,BEST_EPOCH-3):min(EPOCH-1,BEST_EPOCH+2)], 'green')\n",
        "plt.xlabel('Epochs')\n",
        "plt.ylabel('CE loss')\n",
        "plt.autoscale(axis='x', tight=True)\n",
        "plt.title('Progression of validation loss acording to epochs')\n",
        "plt.grid(True)\n",
        "plt.show()"
      ],
      "execution_count": 48,
      "outputs": [
        {
          "output_type": "stream",
          "text": [
            "Epoch with minimum validation loss = 22\n"
          ],
          "name": "stdout"
        },
        {
          "output_type": "display_data",
          "data": {
            "image/png": "[encoded data removed]",
            "text/plain": [
              "<Figure size 432x288 with 1 Axes>"
            ]
          },
          "metadata": {
            "tags": [],
            "needs_background": "light"
          }
        }
      ]
    },
    {
      "cell_type": "markdown",
      "metadata": {
        "id": "tOfz0gMnaw_h",
        "colab_type": "text"
      },
      "source": [
        "### 6.3 Accuracy "
      ]
    },
    {
      "cell_type": "code",
      "metadata": {
        "id": "4gqP9tfybRTA",
        "colab_type": "code",
        "outputId": "38cac28c-0108-4773-cf04-698b495d74a3",
        "colab": {
          "base_uri": "https://localhost:8080/",
          "height": 295
        }
      },
      "source": [
        "# plot training and validation accuracy\n",
        "plt.plot(acc_train_his, label='training accuracy', color='blue')\n",
        "plt.plot(acc_valid_his, label='validation accuracy', color='red')\n",
        "#-------------------------------------------------\n",
        "# axis label\n",
        "plt.xlabel('Epochs')\n",
        "plt.ylabel('Accuracy')\n",
        "# title\n",
        "plt.title('Accuracy progression')\n",
        "#-------------------------------------------------\n",
        "plt.autoscale(axis='x', tight=True) # axis adjust\n",
        "plt.grid(True) # add grid\n",
        "plt.legend() # add legend\n",
        "plt.show()"
      ],
      "execution_count": 49,
      "outputs": [
        {
          "output_type": "display_data",
          "data": {
            "image/png": "[encoded data removed]",
            "text/plain": [
              "<Figure size 432x288 with 1 Axes>"
            ]
          },
          "metadata": {
            "tags": [],
            "needs_background": "light"
          }
        }
      ]
    },
    {
      "cell_type": "markdown",
      "metadata": {
        "id": "_8Xzipr2B9to",
        "colab_type": "text"
      },
      "source": [
        "### 6.4 Print the final values of the main training monitoring variables:\n",
        "- loss function final value:\n",
        "- metrics final values:"
      ]
    },
    {
      "cell_type": "code",
      "metadata": {
        "id": "VEVVlMqVs69I",
        "colab_type": "code",
        "outputId": "f45db4b7-6b57-453d-bd8c-a4b08874034c",
        "colab": {
          "base_uri": "https://localhost:8080/",
          "height": 119
        }
      },
      "source": [
        "print('last training loss = {0:.4f}'.format(loss_train_his[-1]))\n",
        "print('last validation loss = {0:.4f}'.format(loss_valid_his[-1]))\n",
        "print('#-------------------------------------------------')\n",
        "print('last train accuracy = {0:.4f}'.format(acc_train_his[-1]))\n",
        "print('last validation accuracy = {0:.4f}'.format(acc_valid_his[-1]))"
      ],
      "execution_count": 50,
      "outputs": [
        {
          "output_type": "stream",
          "text": [
            "last training loss = 0.3502\n",
            "last validation loss = 0.4485\n",
            "#-------------------------------------------------\n",
            "last train accuracy = 0.8551\n",
            "last validation accuracy = 0.7976\n"
          ],
          "name": "stdout"
        }
      ]
    },
    {
      "cell_type": "markdown",
      "metadata": {
        "id": "XKTY_W1wkXch",
        "colab_type": "text"
      },
      "source": [
        "## 7. Metrics on test set"
      ]
    },
    {
      "cell_type": "markdown",
      "metadata": {
        "id": "WWTIYqKlbLXi",
        "colab_type": "text"
      },
      "source": [
        "For this particular dataset, we will be using the validation set to calculate the performance metrics"
      ]
    },
    {
      "cell_type": "code",
      "metadata": {
        "id": "190dcyjzQIPu",
        "colab_type": "code",
        "colab": {}
      },
      "source": [
        "# test data loader\n",
        "dl_test =  torch.utils.data.DataLoader(\n",
        "            dataset = ds_test,\n",
        "            drop_last = False,\n",
        "            shuffle = False,\n",
        "            batch_size = BATCH_SIZE)"
      ],
      "execution_count": 0,
      "outputs": []
    },
    {
      "cell_type": "code",
      "metadata": {
        "id": "OplW3qrtK3vS",
        "colab_type": "code",
        "colab": {}
      },
      "source": [
        "# save model parameters\n",
        "PATH = '/content/model_parameters'\n",
        "torch.save(model.state_dict(), PATH)"
      ],
      "execution_count": 0,
      "outputs": []
    },
    {
      "cell_type": "code",
      "metadata": {
        "id": "_n33VD2vKGC9",
        "colab_type": "code",
        "colab": {}
      },
      "source": [
        "# create a new model\n",
        "model_test = TransformerEncoder(D, L, H, B, embeddings, device)"
      ],
      "execution_count": 0,
      "outputs": []
    },
    {
      "cell_type": "code",
      "metadata": {
        "id": "qJiD5v3Ir703",
        "colab_type": "code",
        "outputId": "7447f418-4072-4918-e39c-c693c062d19c",
        "colab": {
          "base_uri": "https://localhost:8080/",
          "height": 37
        }
      },
      "source": [
        "# load in new network instance\n",
        "model_test.load_state_dict(torch.load(PATH, map_location=device))"
      ],
      "execution_count": 54,
      "outputs": [
        {
          "output_type": "execute_result",
          "data": {
            "text/plain": [
              "<All keys matched successfully>"
            ]
          },
          "metadata": {
            "tags": []
          },
          "execution_count": 54
        }
      ]
    },
    {
      "cell_type": "code",
      "metadata": {
        "id": "d35Oay7QI1YJ",
        "colab_type": "code",
        "outputId": "2cd83be8-dc0b-490c-b368-4070ac6133b9",
        "colab": {
          "base_uri": "https://localhost:8080/",
          "height": 468
        }
      },
      "source": [
        "# load model in CPU\n",
        "model_test.to(device);\n",
        "# evaluation mode\n",
        "model_test.eval()"
      ],
      "execution_count": 55,
      "outputs": [
        {
          "output_type": "execute_result",
          "data": {
            "text/plain": [
              "TransformerEncoder(\n",
              "  (pos_emb): PositionalEmbedding(\n",
              "    (layer): Embedding(128, 300)\n",
              "  )\n",
              "  (multihead): MultiHead(\n",
              "    (W_q): Linear(in_features=300, out_features=300, bias=False)\n",
              "    (W_k): Linear(in_features=300, out_features=300, bias=False)\n",
              "    (W_v): Linear(in_features=300, out_features=300, bias=False)\n",
              "    (W_o): Linear(in_features=300, out_features=300, bias=False)\n",
              "  )\n",
              "  (norm1): LayerNorm((300,), eps=1e-05, elementwise_affine=True)\n",
              "  (ffn): MLP2Layer(\n",
              "    (hidden): Linear(in_features=300, out_features=300, bias=True)\n",
              "    (output): Linear(in_features=300, out_features=1, bias=True)\n",
              "  )\n",
              "  (norm2): LayerNorm((300,), eps=1e-05, elementwise_affine=True)\n",
              "  (mlp): MLP(\n",
              "    (hidden1): Linear(in_features=300, out_features=100, bias=True)\n",
              "    (hidden2): Linear(in_features=100, out_features=100, bias=True)\n",
              "    (output): Linear(in_features=100, out_features=2, bias=True)\n",
              "  )\n",
              ")"
            ]
          },
          "metadata": {
            "tags": []
          },
          "execution_count": 55
        }
      ]
    },
    {
      "cell_type": "markdown",
      "metadata": {
        "id": "y_ldZMHNQ9xk",
        "colab_type": "text"
      },
      "source": [
        "Evaluation"
      ]
    },
    {
      "cell_type": "code",
      "metadata": {
        "id": "_PCoS4yiSRP9",
        "colab_type": "code",
        "colab": {}
      },
      "source": [
        "y_true = ds_test[:][1]\n",
        "y_pred = []"
      ],
      "execution_count": 0,
      "outputs": []
    },
    {
      "cell_type": "code",
      "metadata": {
        "id": "Ac_3D1FtQ9PI",
        "colab_type": "code",
        "colab": {
          "base_uri": "https://localhost:8080/",
          "height": 119
        },
        "outputId": "257eb86e-ab95-46da-eb4e-2a831ad9b47d"
      },
      "source": [
        "%%time\n",
        "# evaluation\n",
        "loss_his_test = np.zeros(len(dl_test))\n",
        "score_test = 0.\n",
        "for b_itest, (b_xtest, b_ytest, b_mtest) in enumerate(dl_test):\n",
        "    b_xtest, b_ytest, b_mtest = b_xtest.to(device), b_ytest.to(device), b_mtest.to(device)\n",
        "    y_logitos = model_test(b_xtest, b_mtest)\n",
        "    loss_test = loss_func(y_logitos, b_ytest)\n",
        "    ytest_pred = torch.argmax(y_logitos, dim=1)\n",
        "    y_pred.append(ytest_pred)\n",
        "    score_test += (b_ytest == ytest_pred).sum()\n",
        "    loss_his_test[b_itest] = loss_test.item()"
      ],
      "execution_count": 57,
      "outputs": [
        {
          "output_type": "stream",
          "text": [
            "/usr/local/lib/python3.6/dist-packages/ipykernel_launcher.py:4: UserWarning: Implicit dimension choice for softmax has been deprecated. Change the call to include dim=X as an argument.\n",
            "  after removing the cwd from sys.path.\n"
          ],
          "name": "stderr"
        },
        {
          "output_type": "stream",
          "text": [
            "CPU times: user 1.01 s, sys: 366 ms, total: 1.38 s\n",
            "Wall time: 1.37 s\n"
          ],
          "name": "stdout"
        }
      ]
    },
    {
      "cell_type": "markdown",
      "metadata": {
        "id": "vvPMDpb8n32I",
        "colab_type": "text"
      },
      "source": [
        "### 7.1 Accuracy"
      ]
    },
    {
      "cell_type": "code",
      "metadata": {
        "id": "8w3ttQcyrXSw",
        "colab_type": "code",
        "colab": {
          "base_uri": "https://localhost:8080/",
          "height": 37
        },
        "outputId": "77421aa8-4858-40f0-9030-9389cafb12fd"
      },
      "source": [
        "# accuracy\n",
        "acc_test = score_test / len(ds_test)\n",
        "acc_test.item()"
      ],
      "execution_count": 58,
      "outputs": [
        {
          "output_type": "execute_result",
          "data": {
            "text/plain": [
              "0.8005200028419495"
            ]
          },
          "metadata": {
            "tags": []
          },
          "execution_count": 58
        }
      ]
    },
    {
      "cell_type": "code",
      "metadata": {
        "id": "EJFieLV9VJZV",
        "colab_type": "code",
        "colab": {}
      },
      "source": [
        "# concatenate batch\n",
        "y_pred = torch.cat(y_pred)\n",
        "# move tensors back to cpu\n",
        "y_true = y_true.to('cpu')\n",
        "y_pred = y_pred.to('cpu')"
      ],
      "execution_count": 0,
      "outputs": []
    },
    {
      "cell_type": "markdown",
      "metadata": {
        "id": "-20zJRKVn8tn",
        "colab_type": "text"
      },
      "source": [
        "### 7.2 Confusion matrix"
      ]
    },
    {
      "cell_type": "code",
      "metadata": {
        "id": "i9qPaBp7rF-R",
        "colab_type": "code",
        "colab": {}
      },
      "source": [
        "cm = confusion_matrix(y_true, y_pred)\n",
        "#classes = enc.get_feature_names()\n",
        "classes = ['negative', 'positive']"
      ],
      "execution_count": 0,
      "outputs": []
    },
    {
      "cell_type": "code",
      "metadata": {
        "id": "9v4ZvKB5nJ5J",
        "colab_type": "code",
        "colab": {
          "base_uri": "https://localhost:8080/",
          "height": 269
        },
        "outputId": "b96860f9-c0a1-4630-a82f-1d517f765999"
      },
      "source": [
        "# CM raw\n",
        "cm_raw = print_confusion_matrix(cm, classes, title='Confusion Matrix', normalize=False, cmap=plt.cm.Blues, fontsize=10, figsize = (5,3))"
      ],
      "execution_count": 61,
      "outputs": [
        {
          "output_type": "display_data",
          "data": {
            "image/png": "[encoded data removed]",
            "text/plain": [
              "<Figure size 360x216 with 2 Axes>"
            ]
          },
          "metadata": {
            "tags": [],
            "needs_background": "light"
          }
        }
      ]
    },
    {
      "cell_type": "code",
      "metadata": {
        "id": "93uNywPSnwnJ",
        "colab_type": "code",
        "colab": {
          "base_uri": "https://localhost:8080/",
          "height": 269
        },
        "outputId": "bbd332e1-ce66-4749-fef0-68536aa53506"
      },
      "source": [
        "# CM normalized\n",
        "cm_norm = print_confusion_matrix(cm, classes, title='Confusion Matrix normalized', normalize=True, cmap=plt.cm.Blues, fontsize=10, figsize = (5,3))"
      ],
      "execution_count": 62,
      "outputs": [
        {
          "output_type": "display_data",
          "data": {
            "image/png": "[encoded data removed]",
            "text/plain": [
              "<Figure size 360x216 with 2 Axes>"
            ]
          },
          "metadata": {
            "tags": [],
            "needs_background": "light"
          }
        }
      ]
    },
    {
      "cell_type": "markdown",
      "metadata": {
        "id": "I_SzvT7Tn1mx",
        "colab_type": "text"
      },
      "source": [
        "### 7.3 F1-score (macro, micro and weighted)"
      ]
    },
    {
      "cell_type": "code",
      "metadata": {
        "id": "PdsW-lsg52tF",
        "colab_type": "code",
        "colab": {}
      },
      "source": [
        "macro = f1_score(y_true, y_pred, average='macro')\n",
        "micro = f1_score(y_true, y_pred, average='micro')\n",
        "weighted = f1_score(y_true, y_pred, average='weighted')"
      ],
      "execution_count": 0,
      "outputs": []
    },
    {
      "cell_type": "code",
      "metadata": {
        "id": "AWnLOjG50mZ2",
        "colab_type": "code",
        "colab": {
          "base_uri": "https://localhost:8080/",
          "height": 78
        },
        "outputId": "2379e910-13bb-41b6-ba26-586f06b62f54"
      },
      "source": [
        "print('F1-score macro =', macro)\n",
        "print('F1-score micro =', micro)\n",
        "print('F1-score weighted =', weighted)"
      ],
      "execution_count": 64,
      "outputs": [
        {
          "output_type": "stream",
          "text": [
            "F1-score macro = 0.7996923451151203\n",
            "F1-score micro = 0.80052\n",
            "F1-score weighted = 0.7996923451151204\n"
          ],
          "name": "stdout"
        }
      ]
    },
    {
      "cell_type": "markdown",
      "metadata": {
        "id": "o-ZMZrl5LT07",
        "colab_type": "text"
      },
      "source": [
        "### 7.4 Accuracy and Precision"
      ]
    },
    {
      "cell_type": "code",
      "metadata": {
        "id": "kC6rLq1RJTvf",
        "colab_type": "code",
        "colab": {}
      },
      "source": [
        "acc = accuracy_score(y_true, y_pred)\n",
        "prec = precision_score(y_true, y_pred, average='macro')"
      ],
      "execution_count": 0,
      "outputs": []
    },
    {
      "cell_type": "code",
      "metadata": {
        "id": "r1ZSEi0_LPoV",
        "colab_type": "code",
        "colab": {
          "base_uri": "https://localhost:8080/",
          "height": 58
        },
        "outputId": "c96526db-7853-4ed4-f2a8-3319e29215c0"
      },
      "source": [
        "print('Accuracy score = ', acc, sep='')\n",
        "print('Precision score = ', prec, sep='')"
      ],
      "execution_count": 66,
      "outputs": [
        {
          "output_type": "stream",
          "text": [
            "Accuracy score = 0.80052\n",
            "Precision score = 0.8055703672924416\n"
          ],
          "name": "stdout"
        }
      ]
    },
    {
      "cell_type": "markdown",
      "metadata": {
        "id": "q45GvKDwPbri",
        "colab_type": "text"
      },
      "source": [
        "### 7.5 Precision, Recall and F1-Score for each class"
      ]
    },
    {
      "cell_type": "code",
      "metadata": {
        "id": "XKyQhAEbPcAz",
        "colab_type": "code",
        "colab": {
          "base_uri": "https://localhost:8080/",
          "height": 201
        },
        "outputId": "81497f73-3280-4b5b-f57c-cb9d16eed8de"
      },
      "source": [
        "from sklearn.metrics import classification_report as cr\n",
        "print(cr(y_true, y_pred))"
      ],
      "execution_count": 67,
      "outputs": [
        {
          "output_type": "stream",
          "text": [
            "              precision    recall  f1-score   support\n",
            "\n",
            "           0       0.84      0.74      0.79     12500\n",
            "           1       0.77      0.86      0.81     12500\n",
            "\n",
            "    accuracy                           0.80     25000\n",
            "   macro avg       0.81      0.80      0.80     25000\n",
            "weighted avg       0.81      0.80      0.80     25000\n",
            "\n"
          ],
          "name": "stdout"
        }
      ]
    },
    {
      "cell_type": "markdown",
      "metadata": {
        "id": "yLdo6-mrdClK",
        "colab_type": "text"
      },
      "source": [
        "## 8. Number of parameters"
      ]
    },
    {
      "cell_type": "code",
      "metadata": {
        "id": "XX0qhxPDdIon",
        "colab_type": "code",
        "colab": {
          "base_uri": "https://localhost:8080/",
          "height": 427
        },
        "outputId": "265c9c8d-95e4-483b-90cc-387baa04284b"
      },
      "source": [
        "nparam(model, verbose=True)"
      ],
      "execution_count": 68,
      "outputs": [
        {
          "output_type": "stream",
          "text": [
            "layer 0: pos_emb.layer.weight; parameters: 38400\n",
            "layer 1: multihead.W_q.weight; parameters: 90000\n",
            "layer 2: multihead.W_k.weight; parameters: 90000\n",
            "layer 3: multihead.W_v.weight; parameters: 90000\n",
            "layer 4: multihead.W_o.weight; parameters: 90000\n",
            "layer 5: norm1.weight; parameters: 300\n",
            "layer 6: norm1.bias; parameters: 300\n",
            "layer 7: ffn.hidden.weight; parameters: 90000\n",
            "layer 8: ffn.hidden.bias; parameters: 300\n",
            "layer 9: ffn.output.weight; parameters: 300\n",
            "layer 10: ffn.output.bias; parameters: 1\n",
            "layer 11: norm2.weight; parameters: 300\n",
            "layer 12: norm2.bias; parameters: 300\n",
            "layer 13: mlp.hidden1.weight; parameters: 30000\n",
            "layer 14: mlp.hidden1.bias; parameters: 100\n",
            "layer 15: mlp.hidden2.weight; parameters: 10000\n",
            "layer 16: mlp.hidden2.bias; parameters: 100\n",
            "layer 17: mlp.output.weight; parameters: 200\n",
            "layer 18: mlp.output.bias; parameters: 2\n",
            "total parameters =  530603\n"
          ],
          "name": "stdout"
        }
      ]
    },
    {
      "cell_type": "markdown",
      "metadata": {
        "colab_type": "text",
        "id": "PtuXpG9wRimA"
      },
      "source": [
        "## End of the notebook"
      ]
    }
  ]
}