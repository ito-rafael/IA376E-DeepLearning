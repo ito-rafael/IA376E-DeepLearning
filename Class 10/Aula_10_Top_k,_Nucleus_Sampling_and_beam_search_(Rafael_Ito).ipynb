{
  "nbformat": 4,
  "nbformat_minor": 0,
  "metadata": {
    "colab": {
      "name": "Aula 10 - Top-k, Nucleus Sampling and beam-search (Rafael Ito).ipynb",
      "provenance": [],
      "collapsed_sections": [],
      "machine_shape": "hm"
    },
    "kernelspec": {
      "name": "python3",
      "display_name": "Python 3"
    },
    "accelerator": "GPU",
    "widgets": {
      "application/vnd.jupyter.widget-state+json": {
        "c9f36954038543d880469f7a643a28a0": {
          "model_module": "@jupyter-widgets/controls",
          "model_name": "HBoxModel",
          "state": {
            "_view_name": "HBoxView",
            "_dom_classes": [],
            "_model_name": "HBoxModel",
            "_view_module": "@jupyter-widgets/controls",
            "_model_module_version": "1.5.0",
            "_view_count": null,
            "_view_module_version": "1.5.0",
            "box_style": "",
            "layout": "IPY_MODEL_2a6dfebc8c9042ca951aa880d35283a4",
            "_model_module": "@jupyter-widgets/controls",
            "children": [
              "IPY_MODEL_3257f7a173984a02b571832df6f2ff18",
              "IPY_MODEL_110cebea40584fa19b61c52b3bf2d68c"
            ]
          }
        },
        "2a6dfebc8c9042ca951aa880d35283a4": {
          "model_module": "@jupyter-widgets/base",
          "model_name": "LayoutModel",
          "state": {
            "_view_name": "LayoutView",
            "grid_template_rows": null,
            "right": null,
            "justify_content": null,
            "_view_module": "@jupyter-widgets/base",
            "overflow": null,
            "_model_module_version": "1.2.0",
            "_view_count": null,
            "flex_flow": "row wrap",
            "width": "100%",
            "min_width": null,
            "border": null,
            "align_items": null,
            "bottom": null,
            "_model_module": "@jupyter-widgets/base",
            "top": null,
            "grid_column": null,
            "overflow_y": null,
            "overflow_x": null,
            "grid_auto_flow": null,
            "grid_area": null,
            "grid_template_columns": null,
            "flex": null,
            "_model_name": "LayoutModel",
            "justify_items": null,
            "grid_row": null,
            "max_height": null,
            "align_content": null,
            "visibility": null,
            "align_self": null,
            "height": null,
            "min_height": null,
            "padding": null,
            "grid_auto_rows": null,
            "grid_gap": null,
            "max_width": null,
            "order": null,
            "_view_module_version": "1.2.0",
            "grid_template_areas": null,
            "object_position": null,
            "object_fit": null,
            "grid_auto_columns": null,
            "margin": null,
            "display": "inline-flex",
            "left": null
          }
        },
        "3257f7a173984a02b571832df6f2ff18": {
          "model_module": "@jupyter-widgets/controls",
          "model_name": "FloatProgressModel",
          "state": {
            "_view_name": "ProgressView",
            "style": "IPY_MODEL_85d351e04fb740caa4e7b9043d3ea374",
            "_dom_classes": [],
            "description": "Testing: 100%",
            "_model_name": "FloatProgressModel",
            "bar_style": "success",
            "max": 1,
            "_view_module": "@jupyter-widgets/controls",
            "_model_module_version": "1.5.0",
            "value": 1,
            "_view_count": null,
            "_view_module_version": "1.5.0",
            "orientation": "horizontal",
            "min": 0,
            "description_tooltip": null,
            "_model_module": "@jupyter-widgets/controls",
            "layout": "IPY_MODEL_76bb19582936459f9e5547e33e3a6b61"
          }
        },
        "110cebea40584fa19b61c52b3bf2d68c": {
          "model_module": "@jupyter-widgets/controls",
          "model_name": "HTMLModel",
          "state": {
            "_view_name": "HTMLView",
            "style": "IPY_MODEL_20d66cda453342a999f485d4d95f1571",
            "_dom_classes": [],
            "description": "",
            "_model_name": "HTMLModel",
            "placeholder": "​",
            "_view_module": "@jupyter-widgets/controls",
            "_model_module_version": "1.5.0",
            "value": " 31/31 [05:46&lt;00:00, 11.18s/it]",
            "_view_count": null,
            "_view_module_version": "1.5.0",
            "description_tooltip": null,
            "_model_module": "@jupyter-widgets/controls",
            "layout": "IPY_MODEL_91dd814a1b9340d1b548cdf36b476fc7"
          }
        },
        "85d351e04fb740caa4e7b9043d3ea374": {
          "model_module": "@jupyter-widgets/controls",
          "model_name": "ProgressStyleModel",
          "state": {
            "_view_name": "StyleView",
            "_model_name": "ProgressStyleModel",
            "description_width": "initial",
            "_view_module": "@jupyter-widgets/base",
            "_model_module_version": "1.5.0",
            "_view_count": null,
            "_view_module_version": "1.2.0",
            "bar_color": null,
            "_model_module": "@jupyter-widgets/controls"
          }
        },
        "76bb19582936459f9e5547e33e3a6b61": {
          "model_module": "@jupyter-widgets/base",
          "model_name": "LayoutModel",
          "state": {
            "_view_name": "LayoutView",
            "grid_template_rows": null,
            "right": null,
            "justify_content": null,
            "_view_module": "@jupyter-widgets/base",
            "overflow": null,
            "_model_module_version": "1.2.0",
            "_view_count": null,
            "flex_flow": null,
            "width": null,
            "min_width": null,
            "border": null,
            "align_items": null,
            "bottom": null,
            "_model_module": "@jupyter-widgets/base",
            "top": null,
            "grid_column": null,
            "overflow_y": null,
            "overflow_x": null,
            "grid_auto_flow": null,
            "grid_area": null,
            "grid_template_columns": null,
            "flex": "2",
            "_model_name": "LayoutModel",
            "justify_items": null,
            "grid_row": null,
            "max_height": null,
            "align_content": null,
            "visibility": null,
            "align_self": null,
            "height": null,
            "min_height": null,
            "padding": null,
            "grid_auto_rows": null,
            "grid_gap": null,
            "max_width": null,
            "order": null,
            "_view_module_version": "1.2.0",
            "grid_template_areas": null,
            "object_position": null,
            "object_fit": null,
            "grid_auto_columns": null,
            "margin": null,
            "display": null,
            "left": null
          }
        },
        "20d66cda453342a999f485d4d95f1571": {
          "model_module": "@jupyter-widgets/controls",
          "model_name": "DescriptionStyleModel",
          "state": {
            "_view_name": "StyleView",
            "_model_name": "DescriptionStyleModel",
            "description_width": "",
            "_view_module": "@jupyter-widgets/base",
            "_model_module_version": "1.5.0",
            "_view_count": null,
            "_view_module_version": "1.2.0",
            "_model_module": "@jupyter-widgets/controls"
          }
        },
        "91dd814a1b9340d1b548cdf36b476fc7": {
          "model_module": "@jupyter-widgets/base",
          "model_name": "LayoutModel",
          "state": {
            "_view_name": "LayoutView",
            "grid_template_rows": null,
            "right": null,
            "justify_content": null,
            "_view_module": "@jupyter-widgets/base",
            "overflow": null,
            "_model_module_version": "1.2.0",
            "_view_count": null,
            "flex_flow": null,
            "width": null,
            "min_width": null,
            "border": null,
            "align_items": null,
            "bottom": null,
            "_model_module": "@jupyter-widgets/base",
            "top": null,
            "grid_column": null,
            "overflow_y": null,
            "overflow_x": null,
            "grid_auto_flow": null,
            "grid_area": null,
            "grid_template_columns": null,
            "flex": null,
            "_model_name": "LayoutModel",
            "justify_items": null,
            "grid_row": null,
            "max_height": null,
            "align_content": null,
            "visibility": null,
            "align_self": null,
            "height": null,
            "min_height": null,
            "padding": null,
            "grid_auto_rows": null,
            "grid_gap": null,
            "max_width": null,
            "order": null,
            "_view_module_version": "1.2.0",
            "grid_template_areas": null,
            "object_position": null,
            "object_fit": null,
            "grid_auto_columns": null,
            "margin": null,
            "display": null,
            "left": null
          }
        },
        "cf7d0d598f68406a9d60f2900429fc1b": {
          "model_module": "@jupyter-widgets/controls",
          "model_name": "HBoxModel",
          "state": {
            "_view_name": "HBoxView",
            "_dom_classes": [],
            "_model_name": "HBoxModel",
            "_view_module": "@jupyter-widgets/controls",
            "_model_module_version": "1.5.0",
            "_view_count": null,
            "_view_module_version": "1.5.0",
            "box_style": "",
            "layout": "IPY_MODEL_056b3191a1854a349f10677bcea300ab",
            "_model_module": "@jupyter-widgets/controls",
            "children": [
              "IPY_MODEL_00b1a1b5c4c54c028d18b3d20a8541de",
              "IPY_MODEL_298d46bc077e446ebaa253c20265313e"
            ]
          }
        },
        "056b3191a1854a349f10677bcea300ab": {
          "model_module": "@jupyter-widgets/base",
          "model_name": "LayoutModel",
          "state": {
            "_view_name": "LayoutView",
            "grid_template_rows": null,
            "right": null,
            "justify_content": null,
            "_view_module": "@jupyter-widgets/base",
            "overflow": null,
            "_model_module_version": "1.2.0",
            "_view_count": null,
            "flex_flow": "row wrap",
            "width": "100%",
            "min_width": null,
            "border": null,
            "align_items": null,
            "bottom": null,
            "_model_module": "@jupyter-widgets/base",
            "top": null,
            "grid_column": null,
            "overflow_y": null,
            "overflow_x": null,
            "grid_auto_flow": null,
            "grid_area": null,
            "grid_template_columns": null,
            "flex": null,
            "_model_name": "LayoutModel",
            "justify_items": null,
            "grid_row": null,
            "max_height": null,
            "align_content": null,
            "visibility": null,
            "align_self": null,
            "height": null,
            "min_height": null,
            "padding": null,
            "grid_auto_rows": null,
            "grid_gap": null,
            "max_width": null,
            "order": null,
            "_view_module_version": "1.2.0",
            "grid_template_areas": null,
            "object_position": null,
            "object_fit": null,
            "grid_auto_columns": null,
            "margin": null,
            "display": "inline-flex",
            "left": null
          }
        },
        "00b1a1b5c4c54c028d18b3d20a8541de": {
          "model_module": "@jupyter-widgets/controls",
          "model_name": "FloatProgressModel",
          "state": {
            "_view_name": "ProgressView",
            "style": "IPY_MODEL_16879b87f74f414c87f878a081c3c1e6",
            "_dom_classes": [],
            "description": "Testing: 100%",
            "_model_name": "FloatProgressModel",
            "bar_style": "success",
            "max": 1,
            "_view_module": "@jupyter-widgets/controls",
            "_model_module_version": "1.5.0",
            "value": 1,
            "_view_count": null,
            "_view_module_version": "1.5.0",
            "orientation": "horizontal",
            "min": 0,
            "description_tooltip": null,
            "_model_module": "@jupyter-widgets/controls",
            "layout": "IPY_MODEL_1af254a5d8be4a5ba678d7db57043b46"
          }
        },
        "298d46bc077e446ebaa253c20265313e": {
          "model_module": "@jupyter-widgets/controls",
          "model_name": "HTMLModel",
          "state": {
            "_view_name": "HTMLView",
            "style": "IPY_MODEL_e0149b86ec084b958fb121ad8679cf79",
            "_dom_classes": [],
            "description": "",
            "_model_name": "HTMLModel",
            "placeholder": "​",
            "_view_module": "@jupyter-widgets/controls",
            "_model_module_version": "1.5.0",
            "value": " 31/31 [22:00&lt;00:00, 42.60s/it]",
            "_view_count": null,
            "_view_module_version": "1.5.0",
            "description_tooltip": null,
            "_model_module": "@jupyter-widgets/controls",
            "layout": "IPY_MODEL_fc113cafa94548db98dbb96c31217e81"
          }
        },
        "16879b87f74f414c87f878a081c3c1e6": {
          "model_module": "@jupyter-widgets/controls",
          "model_name": "ProgressStyleModel",
          "state": {
            "_view_name": "StyleView",
            "_model_name": "ProgressStyleModel",
            "description_width": "initial",
            "_view_module": "@jupyter-widgets/base",
            "_model_module_version": "1.5.0",
            "_view_count": null,
            "_view_module_version": "1.2.0",
            "bar_color": null,
            "_model_module": "@jupyter-widgets/controls"
          }
        },
        "1af254a5d8be4a5ba678d7db57043b46": {
          "model_module": "@jupyter-widgets/base",
          "model_name": "LayoutModel",
          "state": {
            "_view_name": "LayoutView",
            "grid_template_rows": null,
            "right": null,
            "justify_content": null,
            "_view_module": "@jupyter-widgets/base",
            "overflow": null,
            "_model_module_version": "1.2.0",
            "_view_count": null,
            "flex_flow": null,
            "width": null,
            "min_width": null,
            "border": null,
            "align_items": null,
            "bottom": null,
            "_model_module": "@jupyter-widgets/base",
            "top": null,
            "grid_column": null,
            "overflow_y": null,
            "overflow_x": null,
            "grid_auto_flow": null,
            "grid_area": null,
            "grid_template_columns": null,
            "flex": "2",
            "_model_name": "LayoutModel",
            "justify_items": null,
            "grid_row": null,
            "max_height": null,
            "align_content": null,
            "visibility": null,
            "align_self": null,
            "height": null,
            "min_height": null,
            "padding": null,
            "grid_auto_rows": null,
            "grid_gap": null,
            "max_width": null,
            "order": null,
            "_view_module_version": "1.2.0",
            "grid_template_areas": null,
            "object_position": null,
            "object_fit": null,
            "grid_auto_columns": null,
            "margin": null,
            "display": null,
            "left": null
          }
        },
        "e0149b86ec084b958fb121ad8679cf79": {
          "model_module": "@jupyter-widgets/controls",
          "model_name": "DescriptionStyleModel",
          "state": {
            "_view_name": "StyleView",
            "_model_name": "DescriptionStyleModel",
            "description_width": "",
            "_view_module": "@jupyter-widgets/base",
            "_model_module_version": "1.5.0",
            "_view_count": null,
            "_view_module_version": "1.2.0",
            "_model_module": "@jupyter-widgets/controls"
          }
        },
        "fc113cafa94548db98dbb96c31217e81": {
          "model_module": "@jupyter-widgets/base",
          "model_name": "LayoutModel",
          "state": {
            "_view_name": "LayoutView",
            "grid_template_rows": null,
            "right": null,
            "justify_content": null,
            "_view_module": "@jupyter-widgets/base",
            "overflow": null,
            "_model_module_version": "1.2.0",
            "_view_count": null,
            "flex_flow": null,
            "width": null,
            "min_width": null,
            "border": null,
            "align_items": null,
            "bottom": null,
            "_model_module": "@jupyter-widgets/base",
            "top": null,
            "grid_column": null,
            "overflow_y": null,
            "overflow_x": null,
            "grid_auto_flow": null,
            "grid_area": null,
            "grid_template_columns": null,
            "flex": null,
            "_model_name": "LayoutModel",
            "justify_items": null,
            "grid_row": null,
            "max_height": null,
            "align_content": null,
            "visibility": null,
            "align_self": null,
            "height": null,
            "min_height": null,
            "padding": null,
            "grid_auto_rows": null,
            "grid_gap": null,
            "max_width": null,
            "order": null,
            "_view_module_version": "1.2.0",
            "grid_template_areas": null,
            "object_position": null,
            "object_fit": null,
            "grid_auto_columns": null,
            "margin": null,
            "display": null,
            "left": null
          }
        },
        "9371433bf2d845a1a255c40aee9ffdca": {
          "model_module": "@jupyter-widgets/controls",
          "model_name": "HBoxModel",
          "state": {
            "_view_name": "HBoxView",
            "_dom_classes": [],
            "_model_name": "HBoxModel",
            "_view_module": "@jupyter-widgets/controls",
            "_model_module_version": "1.5.0",
            "_view_count": null,
            "_view_module_version": "1.5.0",
            "box_style": "",
            "layout": "IPY_MODEL_17e889d94330421a9caefcff4cdc3226",
            "_model_module": "@jupyter-widgets/controls",
            "children": [
              "IPY_MODEL_b666d9456652434484888154fdf8a734",
              "IPY_MODEL_f3eb093e70f74200a143ffa9cc2c11ac"
            ]
          }
        },
        "17e889d94330421a9caefcff4cdc3226": {
          "model_module": "@jupyter-widgets/base",
          "model_name": "LayoutModel",
          "state": {
            "_view_name": "LayoutView",
            "grid_template_rows": null,
            "right": null,
            "justify_content": null,
            "_view_module": "@jupyter-widgets/base",
            "overflow": null,
            "_model_module_version": "1.2.0",
            "_view_count": null,
            "flex_flow": "row wrap",
            "width": "100%",
            "min_width": null,
            "border": null,
            "align_items": null,
            "bottom": null,
            "_model_module": "@jupyter-widgets/base",
            "top": null,
            "grid_column": null,
            "overflow_y": null,
            "overflow_x": null,
            "grid_auto_flow": null,
            "grid_area": null,
            "grid_template_columns": null,
            "flex": null,
            "_model_name": "LayoutModel",
            "justify_items": null,
            "grid_row": null,
            "max_height": null,
            "align_content": null,
            "visibility": null,
            "align_self": null,
            "height": null,
            "min_height": null,
            "padding": null,
            "grid_auto_rows": null,
            "grid_gap": null,
            "max_width": null,
            "order": null,
            "_view_module_version": "1.2.0",
            "grid_template_areas": null,
            "object_position": null,
            "object_fit": null,
            "grid_auto_columns": null,
            "margin": null,
            "display": "inline-flex",
            "left": null
          }
        },
        "b666d9456652434484888154fdf8a734": {
          "model_module": "@jupyter-widgets/controls",
          "model_name": "FloatProgressModel",
          "state": {
            "_view_name": "ProgressView",
            "style": "IPY_MODEL_abc5c0d7a2e94ef88107b6c65e6b183b",
            "_dom_classes": [],
            "description": "Testing: 100%",
            "_model_name": "FloatProgressModel",
            "bar_style": "success",
            "max": 1,
            "_view_module": "@jupyter-widgets/controls",
            "_model_module_version": "1.5.0",
            "value": 1,
            "_view_count": null,
            "_view_module_version": "1.5.0",
            "orientation": "horizontal",
            "min": 0,
            "description_tooltip": null,
            "_model_module": "@jupyter-widgets/controls",
            "layout": "IPY_MODEL_a45c033f1c4345c7987d56618a3c40ac"
          }
        },
        "f3eb093e70f74200a143ffa9cc2c11ac": {
          "model_module": "@jupyter-widgets/controls",
          "model_name": "HTMLModel",
          "state": {
            "_view_name": "HTMLView",
            "style": "IPY_MODEL_b70b2d5a32f4474ea96b34d82989c2db",
            "_dom_classes": [],
            "description": "",
            "_model_name": "HTMLModel",
            "placeholder": "​",
            "_view_module": "@jupyter-widgets/controls",
            "_model_module_version": "1.5.0",
            "value": " 31/31 [20:15&lt;00:00, 39.21s/it]",
            "_view_count": null,
            "_view_module_version": "1.5.0",
            "description_tooltip": null,
            "_model_module": "@jupyter-widgets/controls",
            "layout": "IPY_MODEL_42f533b34c994c768dbcdf9be6e26461"
          }
        },
        "abc5c0d7a2e94ef88107b6c65e6b183b": {
          "model_module": "@jupyter-widgets/controls",
          "model_name": "ProgressStyleModel",
          "state": {
            "_view_name": "StyleView",
            "_model_name": "ProgressStyleModel",
            "description_width": "initial",
            "_view_module": "@jupyter-widgets/base",
            "_model_module_version": "1.5.0",
            "_view_count": null,
            "_view_module_version": "1.2.0",
            "bar_color": null,
            "_model_module": "@jupyter-widgets/controls"
          }
        },
        "a45c033f1c4345c7987d56618a3c40ac": {
          "model_module": "@jupyter-widgets/base",
          "model_name": "LayoutModel",
          "state": {
            "_view_name": "LayoutView",
            "grid_template_rows": null,
            "right": null,
            "justify_content": null,
            "_view_module": "@jupyter-widgets/base",
            "overflow": null,
            "_model_module_version": "1.2.0",
            "_view_count": null,
            "flex_flow": null,
            "width": null,
            "min_width": null,
            "border": null,
            "align_items": null,
            "bottom": null,
            "_model_module": "@jupyter-widgets/base",
            "top": null,
            "grid_column": null,
            "overflow_y": null,
            "overflow_x": null,
            "grid_auto_flow": null,
            "grid_area": null,
            "grid_template_columns": null,
            "flex": "2",
            "_model_name": "LayoutModel",
            "justify_items": null,
            "grid_row": null,
            "max_height": null,
            "align_content": null,
            "visibility": null,
            "align_self": null,
            "height": null,
            "min_height": null,
            "padding": null,
            "grid_auto_rows": null,
            "grid_gap": null,
            "max_width": null,
            "order": null,
            "_view_module_version": "1.2.0",
            "grid_template_areas": null,
            "object_position": null,
            "object_fit": null,
            "grid_auto_columns": null,
            "margin": null,
            "display": null,
            "left": null
          }
        },
        "b70b2d5a32f4474ea96b34d82989c2db": {
          "model_module": "@jupyter-widgets/controls",
          "model_name": "DescriptionStyleModel",
          "state": {
            "_view_name": "StyleView",
            "_model_name": "DescriptionStyleModel",
            "description_width": "",
            "_view_module": "@jupyter-widgets/base",
            "_model_module_version": "1.5.0",
            "_view_count": null,
            "_view_module_version": "1.2.0",
            "_model_module": "@jupyter-widgets/controls"
          }
        },
        "42f533b34c994c768dbcdf9be6e26461": {
          "model_module": "@jupyter-widgets/base",
          "model_name": "LayoutModel",
          "state": {
            "_view_name": "LayoutView",
            "grid_template_rows": null,
            "right": null,
            "justify_content": null,
            "_view_module": "@jupyter-widgets/base",
            "overflow": null,
            "_model_module_version": "1.2.0",
            "_view_count": null,
            "flex_flow": null,
            "width": null,
            "min_width": null,
            "border": null,
            "align_items": null,
            "bottom": null,
            "_model_module": "@jupyter-widgets/base",
            "top": null,
            "grid_column": null,
            "overflow_y": null,
            "overflow_x": null,
            "grid_auto_flow": null,
            "grid_area": null,
            "grid_template_columns": null,
            "flex": null,
            "_model_name": "LayoutModel",
            "justify_items": null,
            "grid_row": null,
            "max_height": null,
            "align_content": null,
            "visibility": null,
            "align_self": null,
            "height": null,
            "min_height": null,
            "padding": null,
            "grid_auto_rows": null,
            "grid_gap": null,
            "max_width": null,
            "order": null,
            "_view_module_version": "1.2.0",
            "grid_template_areas": null,
            "object_position": null,
            "object_fit": null,
            "grid_auto_columns": null,
            "margin": null,
            "display": null,
            "left": null
          }
        },
        "6455df80692846d28a0bfd327c79c6b3": {
          "model_module": "@jupyter-widgets/controls",
          "model_name": "HBoxModel",
          "state": {
            "_view_name": "HBoxView",
            "_dom_classes": [],
            "_model_name": "HBoxModel",
            "_view_module": "@jupyter-widgets/controls",
            "_model_module_version": "1.5.0",
            "_view_count": null,
            "_view_module_version": "1.5.0",
            "box_style": "",
            "layout": "IPY_MODEL_9d22240084e64cf8b7e15e17aeaa4949",
            "_model_module": "@jupyter-widgets/controls",
            "children": [
              "IPY_MODEL_16f925e9cc86469a883a1aae39a35d66",
              "IPY_MODEL_907ff946a2234ce5a1dba6fdf7a08826"
            ]
          }
        },
        "9d22240084e64cf8b7e15e17aeaa4949": {
          "model_module": "@jupyter-widgets/base",
          "model_name": "LayoutModel",
          "state": {
            "_view_name": "LayoutView",
            "grid_template_rows": null,
            "right": null,
            "justify_content": null,
            "_view_module": "@jupyter-widgets/base",
            "overflow": null,
            "_model_module_version": "1.2.0",
            "_view_count": null,
            "flex_flow": "row wrap",
            "width": "100%",
            "min_width": null,
            "border": null,
            "align_items": null,
            "bottom": null,
            "_model_module": "@jupyter-widgets/base",
            "top": null,
            "grid_column": null,
            "overflow_y": null,
            "overflow_x": null,
            "grid_auto_flow": null,
            "grid_area": null,
            "grid_template_columns": null,
            "flex": null,
            "_model_name": "LayoutModel",
            "justify_items": null,
            "grid_row": null,
            "max_height": null,
            "align_content": null,
            "visibility": null,
            "align_self": null,
            "height": null,
            "min_height": null,
            "padding": null,
            "grid_auto_rows": null,
            "grid_gap": null,
            "max_width": null,
            "order": null,
            "_view_module_version": "1.2.0",
            "grid_template_areas": null,
            "object_position": null,
            "object_fit": null,
            "grid_auto_columns": null,
            "margin": null,
            "display": "inline-flex",
            "left": null
          }
        },
        "16f925e9cc86469a883a1aae39a35d66": {
          "model_module": "@jupyter-widgets/controls",
          "model_name": "FloatProgressModel",
          "state": {
            "_view_name": "ProgressView",
            "style": "IPY_MODEL_00752a64b16e49aba65938664461fc1b",
            "_dom_classes": [],
            "description": "Testing: 100%",
            "_model_name": "FloatProgressModel",
            "bar_style": "success",
            "max": 1,
            "_view_module": "@jupyter-widgets/controls",
            "_model_module_version": "1.5.0",
            "value": 1,
            "_view_count": null,
            "_view_module_version": "1.5.0",
            "orientation": "horizontal",
            "min": 0,
            "description_tooltip": null,
            "_model_module": "@jupyter-widgets/controls",
            "layout": "IPY_MODEL_702d6ab4531a4f229ab4e70e70bcfe9b"
          }
        },
        "907ff946a2234ce5a1dba6fdf7a08826": {
          "model_module": "@jupyter-widgets/controls",
          "model_name": "HTMLModel",
          "state": {
            "_view_name": "HTMLView",
            "style": "IPY_MODEL_30d3b46bc08044049f108089be2cb5f1",
            "_dom_classes": [],
            "description": "",
            "_model_name": "HTMLModel",
            "placeholder": "​",
            "_view_module": "@jupyter-widgets/controls",
            "_model_module_version": "1.5.0",
            "value": " 31/31 [03:54&lt;00:00,  7.56s/it]",
            "_view_count": null,
            "_view_module_version": "1.5.0",
            "description_tooltip": null,
            "_model_module": "@jupyter-widgets/controls",
            "layout": "IPY_MODEL_7467cf7cae5b4d3ea38f11d5fe0f9278"
          }
        },
        "00752a64b16e49aba65938664461fc1b": {
          "model_module": "@jupyter-widgets/controls",
          "model_name": "ProgressStyleModel",
          "state": {
            "_view_name": "StyleView",
            "_model_name": "ProgressStyleModel",
            "description_width": "initial",
            "_view_module": "@jupyter-widgets/base",
            "_model_module_version": "1.5.0",
            "_view_count": null,
            "_view_module_version": "1.2.0",
            "bar_color": null,
            "_model_module": "@jupyter-widgets/controls"
          }
        },
        "702d6ab4531a4f229ab4e70e70bcfe9b": {
          "model_module": "@jupyter-widgets/base",
          "model_name": "LayoutModel",
          "state": {
            "_view_name": "LayoutView",
            "grid_template_rows": null,
            "right": null,
            "justify_content": null,
            "_view_module": "@jupyter-widgets/base",
            "overflow": null,
            "_model_module_version": "1.2.0",
            "_view_count": null,
            "flex_flow": null,
            "width": null,
            "min_width": null,
            "border": null,
            "align_items": null,
            "bottom": null,
            "_model_module": "@jupyter-widgets/base",
            "top": null,
            "grid_column": null,
            "overflow_y": null,
            "overflow_x": null,
            "grid_auto_flow": null,
            "grid_area": null,
            "grid_template_columns": null,
            "flex": "2",
            "_model_name": "LayoutModel",
            "justify_items": null,
            "grid_row": null,
            "max_height": null,
            "align_content": null,
            "visibility": null,
            "align_self": null,
            "height": null,
            "min_height": null,
            "padding": null,
            "grid_auto_rows": null,
            "grid_gap": null,
            "max_width": null,
            "order": null,
            "_view_module_version": "1.2.0",
            "grid_template_areas": null,
            "object_position": null,
            "object_fit": null,
            "grid_auto_columns": null,
            "margin": null,
            "display": null,
            "left": null
          }
        },
        "30d3b46bc08044049f108089be2cb5f1": {
          "model_module": "@jupyter-widgets/controls",
          "model_name": "DescriptionStyleModel",
          "state": {
            "_view_name": "StyleView",
            "_model_name": "DescriptionStyleModel",
            "description_width": "",
            "_view_module": "@jupyter-widgets/base",
            "_model_module_version": "1.5.0",
            "_view_count": null,
            "_view_module_version": "1.2.0",
            "_model_module": "@jupyter-widgets/controls"
          }
        },
        "7467cf7cae5b4d3ea38f11d5fe0f9278": {
          "model_module": "@jupyter-widgets/base",
          "model_name": "LayoutModel",
          "state": {
            "_view_name": "LayoutView",
            "grid_template_rows": null,
            "right": null,
            "justify_content": null,
            "_view_module": "@jupyter-widgets/base",
            "overflow": null,
            "_model_module_version": "1.2.0",
            "_view_count": null,
            "flex_flow": null,
            "width": null,
            "min_width": null,
            "border": null,
            "align_items": null,
            "bottom": null,
            "_model_module": "@jupyter-widgets/base",
            "top": null,
            "grid_column": null,
            "overflow_y": null,
            "overflow_x": null,
            "grid_auto_flow": null,
            "grid_area": null,
            "grid_template_columns": null,
            "flex": null,
            "_model_name": "LayoutModel",
            "justify_items": null,
            "grid_row": null,
            "max_height": null,
            "align_content": null,
            "visibility": null,
            "align_self": null,
            "height": null,
            "min_height": null,
            "padding": null,
            "grid_auto_rows": null,
            "grid_gap": null,
            "max_width": null,
            "order": null,
            "_view_module_version": "1.2.0",
            "grid_template_areas": null,
            "object_position": null,
            "object_fit": null,
            "grid_auto_columns": null,
            "margin": null,
            "display": null,
            "left": null
          }
        },
        "67e25ab37e754c78958ea67e68a9ab22": {
          "model_module": "@jupyter-widgets/controls",
          "model_name": "HBoxModel",
          "state": {
            "_view_name": "HBoxView",
            "_dom_classes": [],
            "_model_name": "HBoxModel",
            "_view_module": "@jupyter-widgets/controls",
            "_model_module_version": "1.5.0",
            "_view_count": null,
            "_view_module_version": "1.5.0",
            "box_style": "",
            "layout": "IPY_MODEL_9edbe57b78f748e08a763ef87ccad9c7",
            "_model_module": "@jupyter-widgets/controls",
            "children": [
              "IPY_MODEL_5b2891dba5b04e6ea6950f2ebcb114c7",
              "IPY_MODEL_1badfe1d30a6400cb32a136d81f9f28b"
            ]
          }
        },
        "9edbe57b78f748e08a763ef87ccad9c7": {
          "model_module": "@jupyter-widgets/base",
          "model_name": "LayoutModel",
          "state": {
            "_view_name": "LayoutView",
            "grid_template_rows": null,
            "right": null,
            "justify_content": null,
            "_view_module": "@jupyter-widgets/base",
            "overflow": null,
            "_model_module_version": "1.2.0",
            "_view_count": null,
            "flex_flow": "row wrap",
            "width": "100%",
            "min_width": null,
            "border": null,
            "align_items": null,
            "bottom": null,
            "_model_module": "@jupyter-widgets/base",
            "top": null,
            "grid_column": null,
            "overflow_y": null,
            "overflow_x": null,
            "grid_auto_flow": null,
            "grid_area": null,
            "grid_template_columns": null,
            "flex": null,
            "_model_name": "LayoutModel",
            "justify_items": null,
            "grid_row": null,
            "max_height": null,
            "align_content": null,
            "visibility": null,
            "align_self": null,
            "height": null,
            "min_height": null,
            "padding": null,
            "grid_auto_rows": null,
            "grid_gap": null,
            "max_width": null,
            "order": null,
            "_view_module_version": "1.2.0",
            "grid_template_areas": null,
            "object_position": null,
            "object_fit": null,
            "grid_auto_columns": null,
            "margin": null,
            "display": "inline-flex",
            "left": null
          }
        },
        "5b2891dba5b04e6ea6950f2ebcb114c7": {
          "model_module": "@jupyter-widgets/controls",
          "model_name": "FloatProgressModel",
          "state": {
            "_view_name": "ProgressView",
            "style": "IPY_MODEL_86511668b9494dc28ed4690de84394e0",
            "_dom_classes": [],
            "description": "Testing: 100%",
            "_model_name": "FloatProgressModel",
            "bar_style": "success",
            "max": 1,
            "_view_module": "@jupyter-widgets/controls",
            "_model_module_version": "1.5.0",
            "value": 1,
            "_view_count": null,
            "_view_module_version": "1.5.0",
            "orientation": "horizontal",
            "min": 0,
            "description_tooltip": null,
            "_model_module": "@jupyter-widgets/controls",
            "layout": "IPY_MODEL_0495a137d0c14eb8aa4a6ddec9d025db"
          }
        },
        "1badfe1d30a6400cb32a136d81f9f28b": {
          "model_module": "@jupyter-widgets/controls",
          "model_name": "HTMLModel",
          "state": {
            "_view_name": "HTMLView",
            "style": "IPY_MODEL_1365ffe81f534edaa4a7f2fef1f59479",
            "_dom_classes": [],
            "description": "",
            "_model_name": "HTMLModel",
            "placeholder": "​",
            "_view_module": "@jupyter-widgets/controls",
            "_model_module_version": "1.5.0",
            "value": " 31/31 [03:59&lt;00:00,  7.71s/it]",
            "_view_count": null,
            "_view_module_version": "1.5.0",
            "description_tooltip": null,
            "_model_module": "@jupyter-widgets/controls",
            "layout": "IPY_MODEL_683664359c6e4c709be322332ce34874"
          }
        },
        "86511668b9494dc28ed4690de84394e0": {
          "model_module": "@jupyter-widgets/controls",
          "model_name": "ProgressStyleModel",
          "state": {
            "_view_name": "StyleView",
            "_model_name": "ProgressStyleModel",
            "description_width": "initial",
            "_view_module": "@jupyter-widgets/base",
            "_model_module_version": "1.5.0",
            "_view_count": null,
            "_view_module_version": "1.2.0",
            "bar_color": null,
            "_model_module": "@jupyter-widgets/controls"
          }
        },
        "0495a137d0c14eb8aa4a6ddec9d025db": {
          "model_module": "@jupyter-widgets/base",
          "model_name": "LayoutModel",
          "state": {
            "_view_name": "LayoutView",
            "grid_template_rows": null,
            "right": null,
            "justify_content": null,
            "_view_module": "@jupyter-widgets/base",
            "overflow": null,
            "_model_module_version": "1.2.0",
            "_view_count": null,
            "flex_flow": null,
            "width": null,
            "min_width": null,
            "border": null,
            "align_items": null,
            "bottom": null,
            "_model_module": "@jupyter-widgets/base",
            "top": null,
            "grid_column": null,
            "overflow_y": null,
            "overflow_x": null,
            "grid_auto_flow": null,
            "grid_area": null,
            "grid_template_columns": null,
            "flex": "2",
            "_model_name": "LayoutModel",
            "justify_items": null,
            "grid_row": null,
            "max_height": null,
            "align_content": null,
            "visibility": null,
            "align_self": null,
            "height": null,
            "min_height": null,
            "padding": null,
            "grid_auto_rows": null,
            "grid_gap": null,
            "max_width": null,
            "order": null,
            "_view_module_version": "1.2.0",
            "grid_template_areas": null,
            "object_position": null,
            "object_fit": null,
            "grid_auto_columns": null,
            "margin": null,
            "display": null,
            "left": null
          }
        },
        "1365ffe81f534edaa4a7f2fef1f59479": {
          "model_module": "@jupyter-widgets/controls",
          "model_name": "DescriptionStyleModel",
          "state": {
            "_view_name": "StyleView",
            "_model_name": "DescriptionStyleModel",
            "description_width": "",
            "_view_module": "@jupyter-widgets/base",
            "_model_module_version": "1.5.0",
            "_view_count": null,
            "_view_module_version": "1.2.0",
            "_model_module": "@jupyter-widgets/controls"
          }
        },
        "683664359c6e4c709be322332ce34874": {
          "model_module": "@jupyter-widgets/base",
          "model_name": "LayoutModel",
          "state": {
            "_view_name": "LayoutView",
            "grid_template_rows": null,
            "right": null,
            "justify_content": null,
            "_view_module": "@jupyter-widgets/base",
            "overflow": null,
            "_model_module_version": "1.2.0",
            "_view_count": null,
            "flex_flow": null,
            "width": null,
            "min_width": null,
            "border": null,
            "align_items": null,
            "bottom": null,
            "_model_module": "@jupyter-widgets/base",
            "top": null,
            "grid_column": null,
            "overflow_y": null,
            "overflow_x": null,
            "grid_auto_flow": null,
            "grid_area": null,
            "grid_template_columns": null,
            "flex": null,
            "_model_name": "LayoutModel",
            "justify_items": null,
            "grid_row": null,
            "max_height": null,
            "align_content": null,
            "visibility": null,
            "align_self": null,
            "height": null,
            "min_height": null,
            "padding": null,
            "grid_auto_rows": null,
            "grid_gap": null,
            "max_width": null,
            "order": null,
            "_view_module_version": "1.2.0",
            "grid_template_areas": null,
            "object_position": null,
            "object_fit": null,
            "grid_auto_columns": null,
            "margin": null,
            "display": null,
            "left": null
          }
        },
        "d9956715545448049ea700046efcb50d": {
          "model_module": "@jupyter-widgets/controls",
          "model_name": "HBoxModel",
          "state": {
            "_view_name": "HBoxView",
            "_dom_classes": [],
            "_model_name": "HBoxModel",
            "_view_module": "@jupyter-widgets/controls",
            "_model_module_version": "1.5.0",
            "_view_count": null,
            "_view_module_version": "1.5.0",
            "box_style": "",
            "layout": "IPY_MODEL_8161e41113eb40e4bf3e6f83f9a698b6",
            "_model_module": "@jupyter-widgets/controls",
            "children": [
              "IPY_MODEL_4b8bf169a9e34388ad90e8f4e49cf3ef",
              "IPY_MODEL_12952cdc5bc645069f56f7b9fe31a46d"
            ]
          }
        },
        "8161e41113eb40e4bf3e6f83f9a698b6": {
          "model_module": "@jupyter-widgets/base",
          "model_name": "LayoutModel",
          "state": {
            "_view_name": "LayoutView",
            "grid_template_rows": null,
            "right": null,
            "justify_content": null,
            "_view_module": "@jupyter-widgets/base",
            "overflow": null,
            "_model_module_version": "1.2.0",
            "_view_count": null,
            "flex_flow": "row wrap",
            "width": "100%",
            "min_width": null,
            "border": null,
            "align_items": null,
            "bottom": null,
            "_model_module": "@jupyter-widgets/base",
            "top": null,
            "grid_column": null,
            "overflow_y": null,
            "overflow_x": null,
            "grid_auto_flow": null,
            "grid_area": null,
            "grid_template_columns": null,
            "flex": null,
            "_model_name": "LayoutModel",
            "justify_items": null,
            "grid_row": null,
            "max_height": null,
            "align_content": null,
            "visibility": null,
            "align_self": null,
            "height": null,
            "min_height": null,
            "padding": null,
            "grid_auto_rows": null,
            "grid_gap": null,
            "max_width": null,
            "order": null,
            "_view_module_version": "1.2.0",
            "grid_template_areas": null,
            "object_position": null,
            "object_fit": null,
            "grid_auto_columns": null,
            "margin": null,
            "display": "inline-flex",
            "left": null
          }
        },
        "4b8bf169a9e34388ad90e8f4e49cf3ef": {
          "model_module": "@jupyter-widgets/controls",
          "model_name": "FloatProgressModel",
          "state": {
            "_view_name": "ProgressView",
            "style": "IPY_MODEL_bae27ec3a0e348b3928d6e734d6e4cb3",
            "_dom_classes": [],
            "description": "Testing: 100%",
            "_model_name": "FloatProgressModel",
            "bar_style": "success",
            "max": 1,
            "_view_module": "@jupyter-widgets/controls",
            "_model_module_version": "1.5.0",
            "value": 1,
            "_view_count": null,
            "_view_module_version": "1.5.0",
            "orientation": "horizontal",
            "min": 0,
            "description_tooltip": null,
            "_model_module": "@jupyter-widgets/controls",
            "layout": "IPY_MODEL_b7895283e1c94eee9947ae0ec5ea3ac0"
          }
        },
        "12952cdc5bc645069f56f7b9fe31a46d": {
          "model_module": "@jupyter-widgets/controls",
          "model_name": "HTMLModel",
          "state": {
            "_view_name": "HTMLView",
            "style": "IPY_MODEL_8e82e52d6d4842598428a5e9a22a03cc",
            "_dom_classes": [],
            "description": "",
            "_model_name": "HTMLModel",
            "placeholder": "​",
            "_view_module": "@jupyter-widgets/controls",
            "_model_module_version": "1.5.0",
            "value": " 31/31 [10:27&lt;00:00, 20.25s/it]",
            "_view_count": null,
            "_view_module_version": "1.5.0",
            "description_tooltip": null,
            "_model_module": "@jupyter-widgets/controls",
            "layout": "IPY_MODEL_1c939f0395f040f68e4a4aa0cdee3675"
          }
        },
        "bae27ec3a0e348b3928d6e734d6e4cb3": {
          "model_module": "@jupyter-widgets/controls",
          "model_name": "ProgressStyleModel",
          "state": {
            "_view_name": "StyleView",
            "_model_name": "ProgressStyleModel",
            "description_width": "initial",
            "_view_module": "@jupyter-widgets/base",
            "_model_module_version": "1.5.0",
            "_view_count": null,
            "_view_module_version": "1.2.0",
            "bar_color": null,
            "_model_module": "@jupyter-widgets/controls"
          }
        },
        "b7895283e1c94eee9947ae0ec5ea3ac0": {
          "model_module": "@jupyter-widgets/base",
          "model_name": "LayoutModel",
          "state": {
            "_view_name": "LayoutView",
            "grid_template_rows": null,
            "right": null,
            "justify_content": null,
            "_view_module": "@jupyter-widgets/base",
            "overflow": null,
            "_model_module_version": "1.2.0",
            "_view_count": null,
            "flex_flow": null,
            "width": null,
            "min_width": null,
            "border": null,
            "align_items": null,
            "bottom": null,
            "_model_module": "@jupyter-widgets/base",
            "top": null,
            "grid_column": null,
            "overflow_y": null,
            "overflow_x": null,
            "grid_auto_flow": null,
            "grid_area": null,
            "grid_template_columns": null,
            "flex": "2",
            "_model_name": "LayoutModel",
            "justify_items": null,
            "grid_row": null,
            "max_height": null,
            "align_content": null,
            "visibility": null,
            "align_self": null,
            "height": null,
            "min_height": null,
            "padding": null,
            "grid_auto_rows": null,
            "grid_gap": null,
            "max_width": null,
            "order": null,
            "_view_module_version": "1.2.0",
            "grid_template_areas": null,
            "object_position": null,
            "object_fit": null,
            "grid_auto_columns": null,
            "margin": null,
            "display": null,
            "left": null
          }
        },
        "8e82e52d6d4842598428a5e9a22a03cc": {
          "model_module": "@jupyter-widgets/controls",
          "model_name": "DescriptionStyleModel",
          "state": {
            "_view_name": "StyleView",
            "_model_name": "DescriptionStyleModel",
            "description_width": "",
            "_view_module": "@jupyter-widgets/base",
            "_model_module_version": "1.5.0",
            "_view_count": null,
            "_view_module_version": "1.2.0",
            "_model_module": "@jupyter-widgets/controls"
          }
        },
        "1c939f0395f040f68e4a4aa0cdee3675": {
          "model_module": "@jupyter-widgets/base",
          "model_name": "LayoutModel",
          "state": {
            "_view_name": "LayoutView",
            "grid_template_rows": null,
            "right": null,
            "justify_content": null,
            "_view_module": "@jupyter-widgets/base",
            "overflow": null,
            "_model_module_version": "1.2.0",
            "_view_count": null,
            "flex_flow": null,
            "width": null,
            "min_width": null,
            "border": null,
            "align_items": null,
            "bottom": null,
            "_model_module": "@jupyter-widgets/base",
            "top": null,
            "grid_column": null,
            "overflow_y": null,
            "overflow_x": null,
            "grid_auto_flow": null,
            "grid_area": null,
            "grid_template_columns": null,
            "flex": null,
            "_model_name": "LayoutModel",
            "justify_items": null,
            "grid_row": null,
            "max_height": null,
            "align_content": null,
            "visibility": null,
            "align_self": null,
            "height": null,
            "min_height": null,
            "padding": null,
            "grid_auto_rows": null,
            "grid_gap": null,
            "max_width": null,
            "order": null,
            "_view_module_version": "1.2.0",
            "grid_template_areas": null,
            "object_position": null,
            "object_fit": null,
            "grid_auto_columns": null,
            "margin": null,
            "display": null,
            "left": null
          }
        },
        "f1495894116d44b28259de741aa3dadd": {
          "model_module": "@jupyter-widgets/controls",
          "model_name": "HBoxModel",
          "state": {
            "_view_name": "HBoxView",
            "_dom_classes": [],
            "_model_name": "HBoxModel",
            "_view_module": "@jupyter-widgets/controls",
            "_model_module_version": "1.5.0",
            "_view_count": null,
            "_view_module_version": "1.5.0",
            "box_style": "",
            "layout": "IPY_MODEL_48e1531f25694f8b887caa60b1951432",
            "_model_module": "@jupyter-widgets/controls",
            "children": [
              "IPY_MODEL_d9a13276d87c4d349d982aabab54b1b8",
              "IPY_MODEL_4ae65d3a5db041b2bff337230b150499"
            ]
          }
        },
        "48e1531f25694f8b887caa60b1951432": {
          "model_module": "@jupyter-widgets/base",
          "model_name": "LayoutModel",
          "state": {
            "_view_name": "LayoutView",
            "grid_template_rows": null,
            "right": null,
            "justify_content": null,
            "_view_module": "@jupyter-widgets/base",
            "overflow": null,
            "_model_module_version": "1.2.0",
            "_view_count": null,
            "flex_flow": "row wrap",
            "width": "100%",
            "min_width": null,
            "border": null,
            "align_items": null,
            "bottom": null,
            "_model_module": "@jupyter-widgets/base",
            "top": null,
            "grid_column": null,
            "overflow_y": null,
            "overflow_x": null,
            "grid_auto_flow": null,
            "grid_area": null,
            "grid_template_columns": null,
            "flex": null,
            "_model_name": "LayoutModel",
            "justify_items": null,
            "grid_row": null,
            "max_height": null,
            "align_content": null,
            "visibility": null,
            "align_self": null,
            "height": null,
            "min_height": null,
            "padding": null,
            "grid_auto_rows": null,
            "grid_gap": null,
            "max_width": null,
            "order": null,
            "_view_module_version": "1.2.0",
            "grid_template_areas": null,
            "object_position": null,
            "object_fit": null,
            "grid_auto_columns": null,
            "margin": null,
            "display": "inline-flex",
            "left": null
          }
        },
        "d9a13276d87c4d349d982aabab54b1b8": {
          "model_module": "@jupyter-widgets/controls",
          "model_name": "FloatProgressModel",
          "state": {
            "_view_name": "ProgressView",
            "style": "IPY_MODEL_98fd3526f6554f82880117678dc68fc9",
            "_dom_classes": [],
            "description": "Testing: 100%",
            "_model_name": "FloatProgressModel",
            "bar_style": "success",
            "max": 1,
            "_view_module": "@jupyter-widgets/controls",
            "_model_module_version": "1.5.0",
            "value": 1,
            "_view_count": null,
            "_view_module_version": "1.5.0",
            "orientation": "horizontal",
            "min": 0,
            "description_tooltip": null,
            "_model_module": "@jupyter-widgets/controls",
            "layout": "IPY_MODEL_7e4fa5d9d55f4f64a43740bd4435abe5"
          }
        },
        "4ae65d3a5db041b2bff337230b150499": {
          "model_module": "@jupyter-widgets/controls",
          "model_name": "HTMLModel",
          "state": {
            "_view_name": "HTMLView",
            "style": "IPY_MODEL_275ba46b695b4e32b8f29c9eed8740f2",
            "_dom_classes": [],
            "description": "",
            "_model_name": "HTMLModel",
            "placeholder": "​",
            "_view_module": "@jupyter-widgets/controls",
            "_model_module_version": "1.5.0",
            "value": " 31/31 [02:48&lt;00:00,  5.43s/it]",
            "_view_count": null,
            "_view_module_version": "1.5.0",
            "description_tooltip": null,
            "_model_module": "@jupyter-widgets/controls",
            "layout": "IPY_MODEL_d260801a6f9f4090a6abb6a80930929b"
          }
        },
        "98fd3526f6554f82880117678dc68fc9": {
          "model_module": "@jupyter-widgets/controls",
          "model_name": "ProgressStyleModel",
          "state": {
            "_view_name": "StyleView",
            "_model_name": "ProgressStyleModel",
            "description_width": "initial",
            "_view_module": "@jupyter-widgets/base",
            "_model_module_version": "1.5.0",
            "_view_count": null,
            "_view_module_version": "1.2.0",
            "bar_color": null,
            "_model_module": "@jupyter-widgets/controls"
          }
        },
        "7e4fa5d9d55f4f64a43740bd4435abe5": {
          "model_module": "@jupyter-widgets/base",
          "model_name": "LayoutModel",
          "state": {
            "_view_name": "LayoutView",
            "grid_template_rows": null,
            "right": null,
            "justify_content": null,
            "_view_module": "@jupyter-widgets/base",
            "overflow": null,
            "_model_module_version": "1.2.0",
            "_view_count": null,
            "flex_flow": null,
            "width": null,
            "min_width": null,
            "border": null,
            "align_items": null,
            "bottom": null,
            "_model_module": "@jupyter-widgets/base",
            "top": null,
            "grid_column": null,
            "overflow_y": null,
            "overflow_x": null,
            "grid_auto_flow": null,
            "grid_area": null,
            "grid_template_columns": null,
            "flex": "2",
            "_model_name": "LayoutModel",
            "justify_items": null,
            "grid_row": null,
            "max_height": null,
            "align_content": null,
            "visibility": null,
            "align_self": null,
            "height": null,
            "min_height": null,
            "padding": null,
            "grid_auto_rows": null,
            "grid_gap": null,
            "max_width": null,
            "order": null,
            "_view_module_version": "1.2.0",
            "grid_template_areas": null,
            "object_position": null,
            "object_fit": null,
            "grid_auto_columns": null,
            "margin": null,
            "display": null,
            "left": null
          }
        },
        "275ba46b695b4e32b8f29c9eed8740f2": {
          "model_module": "@jupyter-widgets/controls",
          "model_name": "DescriptionStyleModel",
          "state": {
            "_view_name": "StyleView",
            "_model_name": "DescriptionStyleModel",
            "description_width": "",
            "_view_module": "@jupyter-widgets/base",
            "_model_module_version": "1.5.0",
            "_view_count": null,
            "_view_module_version": "1.2.0",
            "_model_module": "@jupyter-widgets/controls"
          }
        },
        "d260801a6f9f4090a6abb6a80930929b": {
          "model_module": "@jupyter-widgets/base",
          "model_name": "LayoutModel",
          "state": {
            "_view_name": "LayoutView",
            "grid_template_rows": null,
            "right": null,
            "justify_content": null,
            "_view_module": "@jupyter-widgets/base",
            "overflow": null,
            "_model_module_version": "1.2.0",
            "_view_count": null,
            "flex_flow": null,
            "width": null,
            "min_width": null,
            "border": null,
            "align_items": null,
            "bottom": null,
            "_model_module": "@jupyter-widgets/base",
            "top": null,
            "grid_column": null,
            "overflow_y": null,
            "overflow_x": null,
            "grid_auto_flow": null,
            "grid_area": null,
            "grid_template_columns": null,
            "flex": null,
            "_model_name": "LayoutModel",
            "justify_items": null,
            "grid_row": null,
            "max_height": null,
            "align_content": null,
            "visibility": null,
            "align_self": null,
            "height": null,
            "min_height": null,
            "padding": null,
            "grid_auto_rows": null,
            "grid_gap": null,
            "max_width": null,
            "order": null,
            "_view_module_version": "1.2.0",
            "grid_template_areas": null,
            "object_position": null,
            "object_fit": null,
            "grid_auto_columns": null,
            "margin": null,
            "display": null,
            "left": null
          }
        },
        "8c8044075c7a489fb92dc80773808eee": {
          "model_module": "@jupyter-widgets/controls",
          "model_name": "HBoxModel",
          "state": {
            "_view_name": "HBoxView",
            "_dom_classes": [],
            "_model_name": "HBoxModel",
            "_view_module": "@jupyter-widgets/controls",
            "_model_module_version": "1.5.0",
            "_view_count": null,
            "_view_module_version": "1.5.0",
            "box_style": "",
            "layout": "IPY_MODEL_054598e9148d446b91f54ebf53733de8",
            "_model_module": "@jupyter-widgets/controls",
            "children": [
              "IPY_MODEL_0c9c1c076d0d4a07bc29e7802e901b4e",
              "IPY_MODEL_7ddb0bcd682c454f8fcc2b96091051a5"
            ]
          }
        },
        "054598e9148d446b91f54ebf53733de8": {
          "model_module": "@jupyter-widgets/base",
          "model_name": "LayoutModel",
          "state": {
            "_view_name": "LayoutView",
            "grid_template_rows": null,
            "right": null,
            "justify_content": null,
            "_view_module": "@jupyter-widgets/base",
            "overflow": null,
            "_model_module_version": "1.2.0",
            "_view_count": null,
            "flex_flow": "row wrap",
            "width": "100%",
            "min_width": null,
            "border": null,
            "align_items": null,
            "bottom": null,
            "_model_module": "@jupyter-widgets/base",
            "top": null,
            "grid_column": null,
            "overflow_y": null,
            "overflow_x": null,
            "grid_auto_flow": null,
            "grid_area": null,
            "grid_template_columns": null,
            "flex": null,
            "_model_name": "LayoutModel",
            "justify_items": null,
            "grid_row": null,
            "max_height": null,
            "align_content": null,
            "visibility": null,
            "align_self": null,
            "height": null,
            "min_height": null,
            "padding": null,
            "grid_auto_rows": null,
            "grid_gap": null,
            "max_width": null,
            "order": null,
            "_view_module_version": "1.2.0",
            "grid_template_areas": null,
            "object_position": null,
            "object_fit": null,
            "grid_auto_columns": null,
            "margin": null,
            "display": "inline-flex",
            "left": null
          }
        },
        "0c9c1c076d0d4a07bc29e7802e901b4e": {
          "model_module": "@jupyter-widgets/controls",
          "model_name": "FloatProgressModel",
          "state": {
            "_view_name": "ProgressView",
            "style": "IPY_MODEL_0381fd6f6d8e4421b35df07d6c3de9e0",
            "_dom_classes": [],
            "description": "Testing: 100%",
            "_model_name": "FloatProgressModel",
            "bar_style": "success",
            "max": 1,
            "_view_module": "@jupyter-widgets/controls",
            "_model_module_version": "1.5.0",
            "value": 1,
            "_view_count": null,
            "_view_module_version": "1.5.0",
            "orientation": "horizontal",
            "min": 0,
            "description_tooltip": null,
            "_model_module": "@jupyter-widgets/controls",
            "layout": "IPY_MODEL_02ff4ce715644abf83780932c2d02b41"
          }
        },
        "7ddb0bcd682c454f8fcc2b96091051a5": {
          "model_module": "@jupyter-widgets/controls",
          "model_name": "HTMLModel",
          "state": {
            "_view_name": "HTMLView",
            "style": "IPY_MODEL_84c3e0b9bd384d24977ff1a9693e450a",
            "_dom_classes": [],
            "description": "",
            "_model_name": "HTMLModel",
            "placeholder": "​",
            "_view_module": "@jupyter-widgets/controls",
            "_model_module_version": "1.5.0",
            "value": " 31/31 [05:05&lt;00:00,  9.86s/it]",
            "_view_count": null,
            "_view_module_version": "1.5.0",
            "description_tooltip": null,
            "_model_module": "@jupyter-widgets/controls",
            "layout": "IPY_MODEL_53d34f8090f342498e040a5836fac380"
          }
        },
        "0381fd6f6d8e4421b35df07d6c3de9e0": {
          "model_module": "@jupyter-widgets/controls",
          "model_name": "ProgressStyleModel",
          "state": {
            "_view_name": "StyleView",
            "_model_name": "ProgressStyleModel",
            "description_width": "initial",
            "_view_module": "@jupyter-widgets/base",
            "_model_module_version": "1.5.0",
            "_view_count": null,
            "_view_module_version": "1.2.0",
            "bar_color": null,
            "_model_module": "@jupyter-widgets/controls"
          }
        },
        "02ff4ce715644abf83780932c2d02b41": {
          "model_module": "@jupyter-widgets/base",
          "model_name": "LayoutModel",
          "state": {
            "_view_name": "LayoutView",
            "grid_template_rows": null,
            "right": null,
            "justify_content": null,
            "_view_module": "@jupyter-widgets/base",
            "overflow": null,
            "_model_module_version": "1.2.0",
            "_view_count": null,
            "flex_flow": null,
            "width": null,
            "min_width": null,
            "border": null,
            "align_items": null,
            "bottom": null,
            "_model_module": "@jupyter-widgets/base",
            "top": null,
            "grid_column": null,
            "overflow_y": null,
            "overflow_x": null,
            "grid_auto_flow": null,
            "grid_area": null,
            "grid_template_columns": null,
            "flex": "2",
            "_model_name": "LayoutModel",
            "justify_items": null,
            "grid_row": null,
            "max_height": null,
            "align_content": null,
            "visibility": null,
            "align_self": null,
            "height": null,
            "min_height": null,
            "padding": null,
            "grid_auto_rows": null,
            "grid_gap": null,
            "max_width": null,
            "order": null,
            "_view_module_version": "1.2.0",
            "grid_template_areas": null,
            "object_position": null,
            "object_fit": null,
            "grid_auto_columns": null,
            "margin": null,
            "display": null,
            "left": null
          }
        },
        "84c3e0b9bd384d24977ff1a9693e450a": {
          "model_module": "@jupyter-widgets/controls",
          "model_name": "DescriptionStyleModel",
          "state": {
            "_view_name": "StyleView",
            "_model_name": "DescriptionStyleModel",
            "description_width": "",
            "_view_module": "@jupyter-widgets/base",
            "_model_module_version": "1.5.0",
            "_view_count": null,
            "_view_module_version": "1.2.0",
            "_model_module": "@jupyter-widgets/controls"
          }
        },
        "53d34f8090f342498e040a5836fac380": {
          "model_module": "@jupyter-widgets/base",
          "model_name": "LayoutModel",
          "state": {
            "_view_name": "LayoutView",
            "grid_template_rows": null,
            "right": null,
            "justify_content": null,
            "_view_module": "@jupyter-widgets/base",
            "overflow": null,
            "_model_module_version": "1.2.0",
            "_view_count": null,
            "flex_flow": null,
            "width": null,
            "min_width": null,
            "border": null,
            "align_items": null,
            "bottom": null,
            "_model_module": "@jupyter-widgets/base",
            "top": null,
            "grid_column": null,
            "overflow_y": null,
            "overflow_x": null,
            "grid_auto_flow": null,
            "grid_area": null,
            "grid_template_columns": null,
            "flex": null,
            "_model_name": "LayoutModel",
            "justify_items": null,
            "grid_row": null,
            "max_height": null,
            "align_content": null,
            "visibility": null,
            "align_self": null,
            "height": null,
            "min_height": null,
            "padding": null,
            "grid_auto_rows": null,
            "grid_gap": null,
            "max_width": null,
            "order": null,
            "_view_module_version": "1.2.0",
            "grid_template_areas": null,
            "object_position": null,
            "object_fit": null,
            "grid_auto_columns": null,
            "margin": null,
            "display": null,
            "left": null
          }
        },
        "1606c8b92e7b42a6a8e411c71d8bb351": {
          "model_module": "@jupyter-widgets/controls",
          "model_name": "HBoxModel",
          "state": {
            "_view_name": "HBoxView",
            "_dom_classes": [],
            "_model_name": "HBoxModel",
            "_view_module": "@jupyter-widgets/controls",
            "_model_module_version": "1.5.0",
            "_view_count": null,
            "_view_module_version": "1.5.0",
            "box_style": "",
            "layout": "IPY_MODEL_4d7767de3ead4cc79c2489cfb311d070",
            "_model_module": "@jupyter-widgets/controls",
            "children": [
              "IPY_MODEL_548b2b8d2a2a4b09be90db03fe94f9e2",
              "IPY_MODEL_e5ad456ef6b4446eafe673357e6dd2b9"
            ]
          }
        },
        "4d7767de3ead4cc79c2489cfb311d070": {
          "model_module": "@jupyter-widgets/base",
          "model_name": "LayoutModel",
          "state": {
            "_view_name": "LayoutView",
            "grid_template_rows": null,
            "right": null,
            "justify_content": null,
            "_view_module": "@jupyter-widgets/base",
            "overflow": null,
            "_model_module_version": "1.2.0",
            "_view_count": null,
            "flex_flow": "row wrap",
            "width": "100%",
            "min_width": null,
            "border": null,
            "align_items": null,
            "bottom": null,
            "_model_module": "@jupyter-widgets/base",
            "top": null,
            "grid_column": null,
            "overflow_y": null,
            "overflow_x": null,
            "grid_auto_flow": null,
            "grid_area": null,
            "grid_template_columns": null,
            "flex": null,
            "_model_name": "LayoutModel",
            "justify_items": null,
            "grid_row": null,
            "max_height": null,
            "align_content": null,
            "visibility": null,
            "align_self": null,
            "height": null,
            "min_height": null,
            "padding": null,
            "grid_auto_rows": null,
            "grid_gap": null,
            "max_width": null,
            "order": null,
            "_view_module_version": "1.2.0",
            "grid_template_areas": null,
            "object_position": null,
            "object_fit": null,
            "grid_auto_columns": null,
            "margin": null,
            "display": "inline-flex",
            "left": null
          }
        },
        "548b2b8d2a2a4b09be90db03fe94f9e2": {
          "model_module": "@jupyter-widgets/controls",
          "model_name": "FloatProgressModel",
          "state": {
            "_view_name": "ProgressView",
            "style": "IPY_MODEL_7bb7e1c0ba424c549c3ac56f716f0ef4",
            "_dom_classes": [],
            "description": "Testing: 100%",
            "_model_name": "FloatProgressModel",
            "bar_style": "success",
            "max": 1,
            "_view_module": "@jupyter-widgets/controls",
            "_model_module_version": "1.5.0",
            "value": 1,
            "_view_count": null,
            "_view_module_version": "1.5.0",
            "orientation": "horizontal",
            "min": 0,
            "description_tooltip": null,
            "_model_module": "@jupyter-widgets/controls",
            "layout": "IPY_MODEL_bf7ab85a67a34c4cb2a1c2488d71de00"
          }
        },
        "e5ad456ef6b4446eafe673357e6dd2b9": {
          "model_module": "@jupyter-widgets/controls",
          "model_name": "HTMLModel",
          "state": {
            "_view_name": "HTMLView",
            "style": "IPY_MODEL_9f7407d06b094baba54172cb288fa721",
            "_dom_classes": [],
            "description": "",
            "_model_name": "HTMLModel",
            "placeholder": "​",
            "_view_module": "@jupyter-widgets/controls",
            "_model_module_version": "1.5.0",
            "value": " 31/31 [06:35&lt;00:00, 12.77s/it]",
            "_view_count": null,
            "_view_module_version": "1.5.0",
            "description_tooltip": null,
            "_model_module": "@jupyter-widgets/controls",
            "layout": "IPY_MODEL_b1fb1439c10b42b48deaba570b98ad32"
          }
        },
        "7bb7e1c0ba424c549c3ac56f716f0ef4": {
          "model_module": "@jupyter-widgets/controls",
          "model_name": "ProgressStyleModel",
          "state": {
            "_view_name": "StyleView",
            "_model_name": "ProgressStyleModel",
            "description_width": "initial",
            "_view_module": "@jupyter-widgets/base",
            "_model_module_version": "1.5.0",
            "_view_count": null,
            "_view_module_version": "1.2.0",
            "bar_color": null,
            "_model_module": "@jupyter-widgets/controls"
          }
        },
        "bf7ab85a67a34c4cb2a1c2488d71de00": {
          "model_module": "@jupyter-widgets/base",
          "model_name": "LayoutModel",
          "state": {
            "_view_name": "LayoutView",
            "grid_template_rows": null,
            "right": null,
            "justify_content": null,
            "_view_module": "@jupyter-widgets/base",
            "overflow": null,
            "_model_module_version": "1.2.0",
            "_view_count": null,
            "flex_flow": null,
            "width": null,
            "min_width": null,
            "border": null,
            "align_items": null,
            "bottom": null,
            "_model_module": "@jupyter-widgets/base",
            "top": null,
            "grid_column": null,
            "overflow_y": null,
            "overflow_x": null,
            "grid_auto_flow": null,
            "grid_area": null,
            "grid_template_columns": null,
            "flex": "2",
            "_model_name": "LayoutModel",
            "justify_items": null,
            "grid_row": null,
            "max_height": null,
            "align_content": null,
            "visibility": null,
            "align_self": null,
            "height": null,
            "min_height": null,
            "padding": null,
            "grid_auto_rows": null,
            "grid_gap": null,
            "max_width": null,
            "order": null,
            "_view_module_version": "1.2.0",
            "grid_template_areas": null,
            "object_position": null,
            "object_fit": null,
            "grid_auto_columns": null,
            "margin": null,
            "display": null,
            "left": null
          }
        },
        "9f7407d06b094baba54172cb288fa721": {
          "model_module": "@jupyter-widgets/controls",
          "model_name": "DescriptionStyleModel",
          "state": {
            "_view_name": "StyleView",
            "_model_name": "DescriptionStyleModel",
            "description_width": "",
            "_view_module": "@jupyter-widgets/base",
            "_model_module_version": "1.5.0",
            "_view_count": null,
            "_view_module_version": "1.2.0",
            "_model_module": "@jupyter-widgets/controls"
          }
        },
        "b1fb1439c10b42b48deaba570b98ad32": {
          "model_module": "@jupyter-widgets/base",
          "model_name": "LayoutModel",
          "state": {
            "_view_name": "LayoutView",
            "grid_template_rows": null,
            "right": null,
            "justify_content": null,
            "_view_module": "@jupyter-widgets/base",
            "overflow": null,
            "_model_module_version": "1.2.0",
            "_view_count": null,
            "flex_flow": null,
            "width": null,
            "min_width": null,
            "border": null,
            "align_items": null,
            "bottom": null,
            "_model_module": "@jupyter-widgets/base",
            "top": null,
            "grid_column": null,
            "overflow_y": null,
            "overflow_x": null,
            "grid_auto_flow": null,
            "grid_area": null,
            "grid_template_columns": null,
            "flex": null,
            "_model_name": "LayoutModel",
            "justify_items": null,
            "grid_row": null,
            "max_height": null,
            "align_content": null,
            "visibility": null,
            "align_self": null,
            "height": null,
            "min_height": null,
            "padding": null,
            "grid_auto_rows": null,
            "grid_gap": null,
            "max_width": null,
            "order": null,
            "_view_module_version": "1.2.0",
            "grid_template_areas": null,
            "object_position": null,
            "object_fit": null,
            "grid_auto_columns": null,
            "margin": null,
            "display": null,
            "left": null
          }
        }
      }
    }
  },
  "cells": [
    {
      "cell_type": "markdown",
      "metadata": {
        "id": "aibQMqn3rEp8",
        "colab_type": "text"
      },
      "source": [
        "# Top-k, Nucleus Sampling and beam-search decoding strategies\n"
      ]
    },
    {
      "cell_type": "markdown",
      "metadata": {
        "id": "399F2GKforfi",
        "colab_type": "text"
      },
      "source": [
        "Author: **Rafael Ito**  \n",
        "e-mail: ito.rafael@gmail.com"
      ]
    },
    {
      "cell_type": "markdown",
      "metadata": {
        "id": "eV7swfVuBvgm",
        "colab_type": "text"
      },
      "source": [
        "# 0. Dataset and Description\n",
        "\n",
        "**Name:**  ParaCrawl corpus  \n",
        "**Description:** in this notebook we will implement three decoding strategies:\n",
        "- Top-k\n",
        "- Nucleus Sampling\n",
        "- beam-search  \n",
        "\n",
        "We will use the T5 model with translation tasks to compare if the decoder is implemented right.\n"
      ]
    },
    {
      "cell_type": "markdown",
      "metadata": {
        "id": "ZnLtgkmhr0y0",
        "colab_type": "text"
      },
      "source": [
        "# 1. Libraries and packages"
      ]
    },
    {
      "cell_type": "markdown",
      "metadata": {
        "id": "Rmn8887vHg2C",
        "colab_type": "text"
      },
      "source": [
        "## 1.1 Check device"
      ]
    },
    {
      "cell_type": "code",
      "metadata": {
        "id": "YXc7eeN9HjNh",
        "colab_type": "code",
        "outputId": "eb8071d0-ec18-43ab-eb99-ab245f1aca82",
        "colab": {
          "base_uri": "https://localhost:8080/",
          "height": 38
        }
      },
      "source": [
        "import torch\n",
        "device = torch.device('cpu')\n",
        "if torch.cuda.is_available():\n",
        "    device_model = torch.cuda.get_device_name(0)\n",
        "print('GPU model:', device_model)"
      ],
      "execution_count": 1,
      "outputs": [
        {
          "output_type": "stream",
          "text": [
            "GPU model: Tesla P100-PCIE-16GB\n"
          ],
          "name": "stdout"
        }
      ]
    },
    {
      "cell_type": "markdown",
      "metadata": {
        "id": "wF94hPU1HWt9",
        "colab_type": "text"
      },
      "source": [
        "## 1.2 Install packages"
      ]
    },
    {
      "cell_type": "code",
      "metadata": {
        "id": "44YWHZaqwDo4",
        "colab_type": "code",
        "colab": {}
      },
      "source": [
        "!pip install -q \\\n",
        "    numpy       \\\n",
        "    torch       \\\n",
        "    sklearn     \\\n",
        "    skorch      \\\n",
        "    matplotlib  \\\n",
        "    sacrebleu   \\\n",
        "    transformers        \\\n",
        "    pytorch-lightning   \\"
      ],
      "execution_count": 0,
      "outputs": []
    },
    {
      "cell_type": "markdown",
      "metadata": {
        "id": "XHvcSjqchmnf",
        "colab_type": "text"
      },
      "source": [
        "Install apex lib (16-bit precision)"
      ]
    },
    {
      "cell_type": "code",
      "metadata": {
        "id": "oBBU-GWXhwaM",
        "colab_type": "code",
        "outputId": "6781016b-4576-4f6c-af37-e33e20de44da",
        "colab": {
          "base_uri": "https://localhost:8080/",
          "height": 264
        }
      },
      "source": [
        "# to use 16-bit precision, apex lib should be installed\n",
        "# however, installing it with pip ('! pip install -q apex') crash the code\n",
        "# installing the /\n",
        "! git clone -q https://www.github.com/nvidia/apex\n",
        "! pip -q install -v --no-cache-dir /content/apex/\n",
        "#! pip install -q -v --no-cache-dir --global-option=\"--cpp_ext\" --global-option=\"--cuda_ext\" /content/apex/"
      ],
      "execution_count": 3,
      "outputs": [
        {
          "output_type": "stream",
          "text": [
            "fatal: destination path 'apex' already exists and is not an empty directory.\n",
            "Processing ./apex\n",
            "Building wheels for collected packages: apex\n",
            "  Building wheel for apex (setup.py) ... \u001b[?25l\u001b[?25hdone\n",
            "  Created wheel for apex: filename=apex-0.1-cp36-none-any.whl size=177174 sha256=afbdfac66a8bef0a078de80f7b4809df26d8bbd9ab5c4c669813804d305707dd\n",
            "  Stored in directory: /tmp/pip-ephem-wheel-cache-gpt3ljae/wheels/b1/3a/aa/d84906eaab780ae580c7a5686a33bf2820d8590ac3b60d5967\n",
            "Successfully built apex\n",
            "Installing collected packages: apex\n",
            "  Found existing installation: apex 0.1\n",
            "    Uninstalling apex-0.1:\n",
            "      Successfully uninstalled apex-0.1\n",
            "Successfully installed apex-0.1\n"
          ],
          "name": "stdout"
        }
      ]
    },
    {
      "cell_type": "markdown",
      "metadata": {
        "id": "F-lNBFD0HcPb",
        "colab_type": "text"
      },
      "source": [
        "## 1.3 Import libraries"
      ]
    },
    {
      "cell_type": "code",
      "metadata": {
        "id": "XYPw4vBWq_nd",
        "colab_type": "code",
        "outputId": "3b5bcdd0-f207-4085-ff45-4cec3e67d2db",
        "colab": {
          "base_uri": "https://localhost:8080/",
          "height": 58
        }
      },
      "source": [
        "#-------------------------------------------------\n",
        "# general\n",
        "import numpy as np\n",
        "import pandas as pd\n",
        "import os\n",
        "import sys\n",
        "import pdb\n",
        "import random\n",
        "import gzip\n",
        "import itertools\n",
        "import collections\n",
        "from google.colab import drive\n",
        "from argparse import Namespace\n",
        "from typing import Dict, List, Tuple\n",
        "import functools, traceback\n",
        "import tensorboard\n",
        "%load_ext tensorboard\n",
        "#-------------------------------------------------\n",
        "# HW status\n",
        "import psutil\n",
        "import nvidia_smi\n",
        "from multiprocessing import cpu_count\n",
        "#-------------------\n",
        "nvidia_smi.nvmlInit()\n",
        "handle = nvidia_smi.nvmlDeviceGetHandleByIndex(0)\n",
        "#-------------------------------------------------\n",
        "# NLP\n",
        "import re\n",
        "import nltk\n",
        "import sacrebleu\n",
        "from transformers import T5ForConditionalGeneration, T5Tokenizer\n",
        "#-------------------------------------------------\n",
        "# PyTorch\n",
        "import torch\n",
        "from torch.nn import CrossEntropyLoss, MSELoss\n",
        "from torch.nn import Linear\n",
        "from torch.optim import Adam, SGD\n",
        "from torch.optim.lr_scheduler import StepLR\n",
        "from torch.utils.data import TensorDataset, Dataset, DataLoader\n",
        "import torch.nn.functional as F\n",
        "#-------------------\n",
        "# PyTorch Lightning\n",
        "import pytorch_lightning as pl\n",
        "from pytorch_lightning.callbacks import EarlyStopping, ModelCheckpoint\n",
        "from pytorch_lightning.loggers import TensorBoardLogger\n",
        "#-------------------------------------------------\n",
        "# random seed generator\n",
        "seed = 42\n",
        "np.random.seed(seed)\n",
        "torch.manual_seed(seed)\n",
        "torch.cuda.manual_seed(seed)\n",
        "#-------------------------------------------------\n",
        "# Suppress some of the logging\n",
        "# commands got from Diedre's notebook\n",
        "import logging\n",
        "logging.getLogger(\"transformers.configuration_utils\").setLevel(logging.WARNING)\n",
        "logging.getLogger(\"transformers.modeling_utils\").setLevel(logging.WARNING)\n",
        "logging.getLogger(\"transformers.tokenization_utils\").setLevel(logging.WARNING)\n",
        "logging.getLogger(\"lightning\").setLevel(logging.WARNING)\n",
        "#-------------------------------------------------\n",
        "# package version\n",
        "print('Torch version:', torch.__version__)\n",
        "print('Pytorch Lightning version:', pl.__version__)"
      ],
      "execution_count": 4,
      "outputs": [
        {
          "output_type": "stream",
          "text": [
            "Torch version: 1.5.0+cu101\n",
            "Pytorch Lightning version: 0.7.6\n"
          ],
          "name": "stdout"
        }
      ]
    },
    {
      "cell_type": "markdown",
      "metadata": {
        "colab_type": "text",
        "id": "XxgMICcyNGTR"
      },
      "source": [
        "## 1.4 Device info"
      ]
    },
    {
      "cell_type": "code",
      "metadata": {
        "colab_type": "code",
        "outputId": "a1155100-1b95-438c-a8fa-0933aa4918a7",
        "id": "iq0yV3NmNGTj",
        "colab": {
          "base_uri": "https://localhost:8080/",
          "height": 120
        }
      },
      "source": [
        "import torch\n",
        "device = torch.device('cpu')\n",
        "if torch.cuda.is_available():\n",
        "    device = torch.device('cuda')\n",
        "    device_model = torch.cuda.get_device_name(0)\n",
        "    device_memory = torch.cuda.get_device_properties(device).total_memory / 1e9\n",
        "#----------------------------\n",
        "print('Device:', device)\n",
        "print('GPU model:', device_model)\n",
        "print('GPU memory: {0:.2f} GB'.format(device_memory))\n",
        "print('#-------------------')\n",
        "print('CPU cores:', cpu_count())"
      ],
      "execution_count": 5,
      "outputs": [
        {
          "output_type": "stream",
          "text": [
            "Device: cuda\n",
            "GPU model: Tesla P100-PCIE-16GB\n",
            "GPU memory: 17.07 GB\n",
            "#-------------------\n",
            "CPU cores: 4\n"
          ],
          "name": "stdout"
        }
      ]
    },
    {
      "cell_type": "markdown",
      "metadata": {
        "id": "NDIvFMfjHQqz",
        "colab_type": "text"
      },
      "source": [
        "## 1.5 Mount Google Drive"
      ]
    },
    {
      "cell_type": "code",
      "metadata": {
        "id": "ZLzZccTdDMMe",
        "colab_type": "code",
        "outputId": "0927c762-b796-4be1-86cb-2d99b4cbe8bd",
        "colab": {
          "base_uri": "https://localhost:8080/",
          "height": 38
        }
      },
      "source": [
        "# mount Drive to save checkpoints and continue the training from last stop\n",
        "drive.mount('/content/drive')"
      ],
      "execution_count": 6,
      "outputs": [
        {
          "output_type": "stream",
          "text": [
            "Drive already mounted at /content/drive; to attempt to forcibly remount, call drive.mount(\"/content/drive\", force_remount=True).\n"
          ],
          "name": "stdout"
        }
      ]
    },
    {
      "cell_type": "markdown",
      "metadata": {
        "id": "Fb_hxbel26WM",
        "colab_type": "text"
      },
      "source": [
        "## 1.6 Constants definition"
      ]
    },
    {
      "cell_type": "code",
      "metadata": {
        "id": "bwPFFHtRKgG_",
        "colab_type": "code",
        "colab": {}
      },
      "source": [
        "# initial config\n",
        "model_name = \"t5-small\"\n",
        "batch_size = 128\n",
        "accumulate_grad_batches = 2\n",
        "source_max_length = 32\n",
        "target_max_length = 32\n",
        "learning_rate = 5e-3"
      ],
      "execution_count": 0,
      "outputs": []
    },
    {
      "cell_type": "markdown",
      "metadata": {
        "id": "g8cTjVNEoJkJ",
        "colab_type": "text"
      },
      "source": [
        "# 2. Custom functions and classes"
      ]
    },
    {
      "cell_type": "markdown",
      "metadata": {
        "id": "P9DFW3xLoWD4",
        "colab_type": "text"
      },
      "source": [
        "## 2.1 Functions"
      ]
    },
    {
      "cell_type": "markdown",
      "metadata": {
        "id": "UMu0qkrsUS7a",
        "colab_type": "text"
      },
      "source": [
        "### 2.1.1 Network parameters"
      ]
    },
    {
      "cell_type": "markdown",
      "metadata": {
        "id": "GeSe31BerbWp",
        "colab_type": "text"
      },
      "source": [
        "Function that calculates the number of parameters of a network"
      ]
    },
    {
      "cell_type": "code",
      "metadata": {
        "id": "K1jFrB_fs9E-",
        "colab_type": "code",
        "colab": {}
      },
      "source": [
        "'''\n",
        "description:\n",
        "    - given a model, this function returns its number of parameters (weight, bias)\n",
        "#-------------------\n",
        "positional args:\n",
        "    - model [torch.nn.Module]: instance of the network\n",
        "optional args:\n",
        "    - verbose (default=False) [bool]: if True, print a report with the parameters of each layer\n",
        "    - all_parameters (default=False) [bool]: \n",
        "        if True, return number of all parameters, if False, return only trainable parameters\n",
        "#-------------------\n",
        "return:\n",
        "    - [int] total parameters of the network\n",
        "''';"
      ],
      "execution_count": 0,
      "outputs": []
    },
    {
      "cell_type": "code",
      "metadata": {
        "id": "-1XBjqgNritp",
        "colab_type": "code",
        "colab": {}
      },
      "source": [
        "def nparam(model, verbose=False, all_parameters=False):\n",
        "    if(verbose):\n",
        "        i = 0\n",
        "        total = 0\n",
        "        for name, param in model.named_parameters():\n",
        "            if (param.requires_grad):\n",
        "                #print('layer ', i, ' name: ', name)\n",
        "                j = 1\n",
        "                for dim in param.data.shape:\n",
        "                    j = j * dim\n",
        "                print('layer ', i, ': ', name, '; parameters: ', j, sep='')\n",
        "                i += 1\n",
        "                total += j\n",
        "        print('total parameters = ', total)\n",
        "        return\n",
        "    else:\n",
        "        if (all_parameters):\n",
        "            return sum(p.numel() for p in model.parameters())\n",
        "        else:\n",
        "            return sum(p.numel() for p in model.parameters() if p.requires_grad)"
      ],
      "execution_count": 0,
      "outputs": []
    },
    {
      "cell_type": "markdown",
      "metadata": {
        "id": "8ILq9UPcUbNC",
        "colab_type": "text"
      },
      "source": [
        "### 2.1.2 Memory Leakage on Exception"
      ]
    },
    {
      "cell_type": "code",
      "metadata": {
        "id": "MCbwCpm9Ts0q",
        "colab_type": "code",
        "outputId": "9ba41ab1-343e-4dbe-ceb6-4deb7772c4ea",
        "colab": {
          "base_uri": "https://localhost:8080/",
          "height": 38
        }
      },
      "source": [
        "'''\n",
        "source:\n",
        "https://docs.fast.ai/troubleshoot.html#memory-leakage-on-exception\n",
        "#-------------------\n",
        "Decorator used to reclaim GPU RAM (check the source website)\n",
        "'''"
      ],
      "execution_count": 10,
      "outputs": [
        {
          "output_type": "execute_result",
          "data": {
            "text/plain": [
              "'\\nsource:\\nhttps://docs.fast.ai/troubleshoot.html#memory-leakage-on-exception\\n#-------------------\\nDecorator used to reclaim GPU RAM (check the source website)\\n'"
            ]
          },
          "metadata": {
            "tags": []
          },
          "execution_count": 10
        }
      ]
    },
    {
      "cell_type": "code",
      "metadata": {
        "id": "uZV9e8pRTtJY",
        "colab_type": "code",
        "colab": {}
      },
      "source": [
        "# decorator from Paulo's notebook\n",
        "def gpu_mem_restore(func):\n",
        "    \"Reclaim GPU RAM if CUDA out of memory happened, or execution was interrupted\"\n",
        "    @functools.wraps(func)\n",
        "    def wrapper(*args, **kwargs):\n",
        "        try:\n",
        "            return func(*args, **kwargs)\n",
        "        except:\n",
        "            type, val, tb = sys.exc_info()\n",
        "            traceback.clear_frames(tb)\n",
        "            raise type(val).with_traceback(tb) from None\n",
        "    return wrapper"
      ],
      "execution_count": 0,
      "outputs": []
    },
    {
      "cell_type": "markdown",
      "metadata": {
        "id": "VHNYLzvysqE4",
        "colab_type": "text"
      },
      "source": [
        "### 2.1.3 Hardware status"
      ]
    },
    {
      "cell_type": "markdown",
      "metadata": {
        "id": "20fna0W9f7oS",
        "colab_type": "text"
      },
      "source": [
        "This function can be used with tqdm to monitor CPU & GPU in status bar\n",
        "\n",
        "function based on Diedre's notebook."
      ]
    },
    {
      "cell_type": "code",
      "metadata": {
        "id": "NXdiJM_Fe-du",
        "colab_type": "code",
        "colab": {}
      },
      "source": [
        "# '''\n",
        "# function to monitor GPU usage \n",
        "# (which should be near 100% during the training loop)\n",
        "# '''\n",
        "# def gpu_usage():\n",
        "#     global handle\n",
        "#     return str(nvidia_smi.nvmlDeviceGetUtilizationRates(handle).gpu) + '%'"
      ],
      "execution_count": 0,
      "outputs": []
    },
    {
      "cell_type": "code",
      "metadata": {
        "id": "XHOHI5wVsYS7",
        "colab_type": "code",
        "colab": {}
      },
      "source": [
        "def hardware_status():\n",
        "    '''\n",
        "    function that monitors CPU & GPU and returns a \n",
        "    dictionary with some of their status\n",
        "    '''\n",
        "    res = nvidia_smi.nvmlDeviceGetUtilizationRates(handle)\n",
        "    return {\"cpu\": str(psutil.cpu_percent()) + '%',\n",
        "            \"mem\": str(psutil.virtual_memory().percent) + '%',\n",
        "            \"gpu\": str(res.gpu) + '%',\n",
        "            \"gpu_mem\": str(res.memory) + '%'}"
      ],
      "execution_count": 0,
      "outputs": []
    },
    {
      "cell_type": "markdown",
      "metadata": {
        "id": "IBiXmP2ZQvcD",
        "colab_type": "text"
      },
      "source": [
        "### 2.1.4 Function to load texts"
      ]
    },
    {
      "cell_type": "code",
      "metadata": {
        "id": "KRPKA7B7QhVj",
        "colab_type": "code",
        "colab": {}
      },
      "source": [
        "'''\n",
        "function that reads .txt files and return them as a list\n",
        "#------------------------------------------------------\n",
        "parameters:\n",
        "    path: directory where the .txt files are\n",
        "'''\n",
        "# function that reads .txt files and return them as a list\n",
        "def load_text_pairs(path):\n",
        "    text_pairs = []\n",
        "    for line in gzip.open(path, mode='rt'):\n",
        "        text_pairs.append(line.strip().split('\\t'))\n",
        "    return text_pairs"
      ],
      "execution_count": 0,
      "outputs": []
    },
    {
      "cell_type": "markdown",
      "metadata": {
        "id": "PoG1Tx61PRCa",
        "colab_type": "text"
      },
      "source": [
        "### 2.1.5 Function to get optimizer"
      ]
    },
    {
      "cell_type": "code",
      "metadata": {
        "id": "qf9CE7GiPORF",
        "colab_type": "code",
        "colab": {}
      },
      "source": [
        "'''\n",
        "function that returns the optimizer associated to a string\n",
        "#------------------------------------------------------\n",
        "parameters:\n",
        "    opt:\n",
        "    - 'Adam': returns the Adam optimizer\n",
        "    - 'SGD':  returns the Stochastic Gradient Descent optimizer\n",
        "    - otherwise raise an error\n",
        "    lr: learning rate\n",
        "'''\n",
        "def get_optimizer(opt, lr, model):\n",
        "    if (opt == 'Adam'):\n",
        "        return Adam( [p for p in model.parameters() if p.requires_grad],\n",
        "            lr=lr, eps=1e-08)\n",
        "    elif (opt == 'SGD'):\n",
        "        return SGD(model.parameters(), lr=lr)\n",
        "    else:\n",
        "        raise ValueError(f\"Unsupported optimizer: {opt}\")"
      ],
      "execution_count": 0,
      "outputs": []
    },
    {
      "cell_type": "markdown",
      "metadata": {
        "id": "nVdaWl4OOyo0",
        "colab_type": "text"
      },
      "source": [
        "### 2.1.6 Function to get loss function"
      ]
    },
    {
      "cell_type": "code",
      "metadata": {
        "id": "C6hdXvpgOrML",
        "colab_type": "code",
        "colab": {}
      },
      "source": [
        "'''\n",
        "function that returns the loss function associated to a string\n",
        "#------------------------------------------------------\n",
        "parameters:\n",
        "    loss_func:\n",
        "    - 'CE':   returns the Cross Entropy loss function\n",
        "    - 'MSE':  returns the Mean Squared Error loss function\n",
        "    - otherwise raise an error\n",
        "'''\n",
        "def get_loss_func(loss_func):\n",
        "    if (loss_func == 'CE'):\n",
        "        return CrossEntropyLoss()\n",
        "    elif (loss_func == 'MSE'):\n",
        "        return MSELoss()\n",
        "    else:\n",
        "        raise ValueError(f'Unsupported loss function: {loss_func}')\n"
      ],
      "execution_count": 0,
      "outputs": []
    },
    {
      "cell_type": "markdown",
      "metadata": {
        "id": "3guUXXjTPogZ",
        "colab_type": "text"
      },
      "source": [
        "### 2.1.7 Function to get tokenizer"
      ]
    },
    {
      "cell_type": "code",
      "metadata": {
        "id": "x88EFEydQbJJ",
        "colab_type": "code",
        "colab": {}
      },
      "source": [
        "'''\n",
        "function that returns the tokenizer associated to a string\n",
        "#------------------------------------------------------\n",
        "parameters:\n",
        "    tokenizer:\n",
        "    - 'BERT': returns the BERT tokenizer\n",
        "    - otherwise raise an error\n",
        "'''\n",
        "def get_tokenizer(tokenizer, model_name):\n",
        "    if (tokenizer == 'BERT'):\n",
        "        return BertTokenizer.from_pretrained('bert-base-uncased')\n",
        "    elif (tokenizer == 'T5'):\n",
        "        return T5Tokenizer.from_pretrained(model_name, use_bfloat16=True)\n",
        "    else:\n",
        "        raise ValueError(f'Unsupported tokenizer: {tokenizer}')"
      ],
      "execution_count": 0,
      "outputs": []
    },
    {
      "cell_type": "markdown",
      "metadata": {
        "id": "Dti6F_ksRO47",
        "colab_type": "text"
      },
      "source": [
        "### 2.1.8 Function to get model"
      ]
    },
    {
      "cell_type": "code",
      "metadata": {
        "id": "PCah31PHQMHP",
        "colab_type": "code",
        "colab": {}
      },
      "source": [
        "'''\n",
        "function that returns the the network model associated to a string\n",
        "#------------------------------------------------------\n",
        "parameters:\n",
        "    model_name:\n",
        "    - BERT models:\n",
        "        - 'bert-base-uncased' (110 M params)\n",
        "        - 'bert-large-uncased' (340 M params)\n",
        "    - T5 models:\n",
        "        - 't5-small' (60 M params)\n",
        "        - 't5-base'  (220 M params)\n",
        "        - 't5-large' (770 M params)\n",
        "        - 't5-3B'    (2.8 B params)\n",
        "        - 't5-11B'   (11 B params)\n",
        "    - otherwise raise an error\n",
        "'''\n",
        "def get_model(model_name):\n",
        "    if ((model_name == 'bert-base-uncased') or \n",
        "        (model_name == 'bert-large-uncased')):\n",
        "        return BertTokenizer.from_pretrained(model_name)\n",
        "    elif ((model_name == 't5-small') or \n",
        "            (model_name == 't5-base') or\n",
        "            (model_name == 't5-large') or \n",
        "            (model_name == 't5-3B') or\n",
        "            (model_name == 't5-11B')):\n",
        "        return T5ForConditionalGeneration.from_pretrained(model_name, use_bfloat16=True)\n",
        "    else:\n",
        "        raise ValueError(f'Unsupported model: {model_name}')"
      ],
      "execution_count": 0,
      "outputs": []
    },
    {
      "cell_type": "markdown",
      "metadata": {
        "id": "me1XVMkAfzxo",
        "colab_type": "text"
      },
      "source": [
        "## 2.2 Classes"
      ]
    },
    {
      "cell_type": "markdown",
      "metadata": {
        "id": "UoCDR4p0BYcy",
        "colab_type": "text"
      },
      "source": [
        "## 2.2.1 Dataset Class"
      ]
    },
    {
      "cell_type": "code",
      "metadata": {
        "id": "w1RZqJ0JZ1HM",
        "colab_type": "code",
        "colab": {}
      },
      "source": [
        "''' \n",
        "max_length is added by 5 because of the prefix: \n",
        "[\"translate\", \"English\", \"to\", \"Portuguese\", \":\"] \n",
        "'''\n",
        "class ParaCrawlDS(Dataset):\n",
        "    def __init__(self, text_pairs: List[Tuple[str]], tokenizer,\n",
        "                 source_max_length: int = 32, target_max_length: int = 32):\n",
        "        self.tokenizer = tokenizer\n",
        "        self.text_pairs = text_pairs\n",
        "        self.source_max_length = source_max_length\n",
        "        self.target_max_length = target_max_length\n",
        "        \n",
        "    def __len__(self):\n",
        "        return len(self.text_pairs)\n",
        "    \n",
        "    def __getitem__(self, idx):\n",
        "        source, target = self.text_pairs[idx]\n",
        "        #---------------------------\n",
        "        # encode source sequence\n",
        "        source_encode = tokenizer.encode_plus(\n",
        "            text=f'translate English to Portuguese: {source} </s>',\n",
        "            max_length=self.source_max_length,\n",
        "            pad_to_max_length=True,\n",
        "            return_token_type_ids=False,\n",
        "            return_attention_mask=True,\n",
        "            return_tensors='pt',\n",
        "        )\n",
        "        # get mask and tokens' ids of encoded source sequence\n",
        "        source_mask = torch.squeeze(source_encode['attention_mask'], dim=0)\n",
        "        source_token_ids = torch.squeeze(source_encode['input_ids'], dim=0)\n",
        "        #---------------------------\n",
        "        # encode target sequence\n",
        "        target_encode = tokenizer.encode_plus(\n",
        "            text=f'{target} </s>',\n",
        "            max_length=self.target_max_length,\n",
        "            pad_to_max_length=True,\n",
        "            return_token_type_ids=False,\n",
        "            return_attention_mask=True,\n",
        "            return_tensors='pt',\n",
        "        )\n",
        "        # get mask and tokens' ids of encoded target sequence\n",
        "        target_mask = torch.squeeze(target_encode['attention_mask'], dim=0)\n",
        "        target_token_ids = torch.squeeze(target_encode['input_ids'], dim=0)\n",
        "        #---------------------------\n",
        "        return (source_token_ids, source_mask, target_token_ids, \n",
        "            target_mask, source, target)"
      ],
      "execution_count": 0,
      "outputs": []
    },
    {
      "cell_type": "markdown",
      "metadata": {
        "id": "C4IayX1HsCyC",
        "colab_type": "text"
      },
      "source": [
        "# 3. Dataset Pre-processing"
      ]
    },
    {
      "cell_type": "markdown",
      "metadata": {
        "id": "QS8YeBbWH7rF",
        "colab_type": "text"
      },
      "source": [
        "## 3.1 Download dataset"
      ]
    },
    {
      "cell_type": "code",
      "metadata": {
        "id": "8I1soPqbUtf3",
        "colab_type": "code",
        "colab": {}
      },
      "source": [
        "# download dataset (1M train, 20k test)\n",
        "! wget -q -nc https://storage.googleapis.com/neuralresearcher_data/unicamp/ia376e_2020s1/paracrawl_enpt_train.tsv.gz\n",
        "! wget -q -nc https://storage.googleapis.com/neuralresearcher_data/unicamp/ia376e_2020s1/paracrawl_enpt_test.tsv.gz"
      ],
      "execution_count": 0,
      "outputs": []
    },
    {
      "cell_type": "markdown",
      "metadata": {
        "id": "mx5rvRraI8zI",
        "colab_type": "text"
      },
      "source": [
        "## 3.2 Loading the dataset"
      ]
    },
    {
      "cell_type": "markdown",
      "metadata": {
        "id": "xtE17ToRGpK7",
        "colab_type": "text"
      },
      "source": [
        "Function to load dataset"
      ]
    },
    {
      "cell_type": "code",
      "metadata": {
        "id": "LHVZxPctEKkL",
        "colab_type": "code",
        "colab": {}
      },
      "source": [
        "def load_text_pairs(path):\n",
        "    text_pairs = []\n",
        "    for line in gzip.open(path, mode='rt'):\n",
        "        text_pairs.append(line.strip().split('\\t'))\n",
        "    return text_pairs"
      ],
      "execution_count": 0,
      "outputs": []
    },
    {
      "cell_type": "markdown",
      "metadata": {
        "id": "7gelHuGVGvPz",
        "colab_type": "text"
      },
      "source": [
        "Load dataset"
      ]
    },
    {
      "cell_type": "code",
      "metadata": {
        "id": "luTE-I1AGt3u",
        "colab_type": "code",
        "colab": {}
      },
      "source": [
        "x_train = load_text_pairs('paracrawl_enpt_train.tsv.gz')\n",
        "x_test = load_text_pairs('paracrawl_enpt_test.tsv.gz')"
      ],
      "execution_count": 0,
      "outputs": []
    },
    {
      "cell_type": "markdown",
      "metadata": {
        "id": "_xFoxdOHEK8i",
        "colab_type": "text"
      },
      "source": [
        "## 3.3 Splitting the dataset"
      ]
    },
    {
      "cell_type": "markdown",
      "metadata": {
        "id": "rJ_YiyTLGyxW",
        "colab_type": "text"
      },
      "source": [
        "Training/Development split"
      ]
    },
    {
      "cell_type": "code",
      "metadata": {
        "id": "ApzKwg5dGzeP",
        "colab_type": "code",
        "colab": {}
      },
      "source": [
        "# shuffle data before spliting\n",
        "random.shuffle(x_train)\n",
        "# create validation set with 5k pairs\n",
        "x_val = x_train[100000:105000]\n",
        "# truncate the first 100k pairs for training\n",
        "x_train = x_train[:100000]"
      ],
      "execution_count": 0,
      "outputs": []
    },
    {
      "cell_type": "markdown",
      "metadata": {
        "id": "GNI3KHbDHJxJ",
        "colab_type": "text"
      },
      "source": [
        "Print a few pair samples"
      ]
    },
    {
      "cell_type": "code",
      "metadata": {
        "id": "YPd38j-dHKP_",
        "colab_type": "code",
        "outputId": "a3fb9968-f6ca-4c58-fe0b-7096917e1efe",
        "colab": {
          "base_uri": "https://localhost:8080/",
          "height": 592
        }
      },
      "source": [
        "for set_name, x in [('training', x_train), ('validation', x_val), ('test', x_test)]:\n",
        "    print(f'\\n{len(x)} samples from {set_name} set')\n",
        "    print(f'First 3 samples of {set_name} set:')\n",
        "    for i, (source, target) in enumerate(x[:3]):\n",
        "        print(f'{i}: source: {source}\\n   target: {target}')"
      ],
      "execution_count": 24,
      "outputs": [
        {
          "output_type": "stream",
          "text": [
            "\n",
            "100000 samples from training set\n",
            "First 3 samples of training set:\n",
            "0: source: The French General THIBAULT was killed, and BRENNIER, who had a command in the affair of the 17th, taken prisoner.\n",
            "   target: O General francês THIBAULT foi morto, e BRENNIER, que fora um dos comandantes no combate do dia 17, foi feito prisioneiro.\n",
            "1: source: Before KBDSW09.DLL scanning, make sure your PC no virus and trojan. We recommend HitMalware.\n",
            "   target: Antes de KBDSW09.DLL digitalização, verifique se o seu PC não e vírus Trojan. Recomendamos HitMalware.\n",
            "2: source: There are several means of transport through which you can explore the different parts of this country. One can use buses, taxis or car rentals, which is the best and most convenient means of transport.\n",
            "   target: Existem vários meios de transporte, através da qual pode explorar as diferentes partes do país. Pode-se usar ônibus, táxis ou carro de aluguel, que é os melhores e mais convenientes de meios de transporte.\n",
            "\n",
            "5000 samples from validation set\n",
            "First 3 samples of validation set:\n",
            "0: source: The volume for the activated audio/video source will then be switched off.\n",
            "   target: A fonte áudio/vídeo é colocada em Mute.\n",
            "1: source: Well tested and high quality yellow laser pointer\n",
            "   target: Bem testado e de alta qualidade laser pointer amarelo\n",
            "2: source: It supports recovery of photos from external hard drive brands such as LaCie, Western Digital, Seagate, Toshiba, Iomega, etc on Mac OS X machine. It is possible to get back media files from various types of flash memory cards such as xD card, SD card, SDHC card, SDXC card, CF card, MMC and Memory Stick that are used in modern DSLR cameras and Smart phones on Mac computer by using Yodot Mac photo recovery software.\n",
            "   target: Ele suporta a recuperação de fotos de marcas de discos rígidos externos, como LaCie, Western Digital, Seagate, Toshiba, Iomega, etc na máquina Mac OS X. É possível voltar arquivos de mídia a partir de vários tipos de cartões de memória flash, como cartão de xD, cartão SD, SDHC, SDXC, cartão CF, MMC e Memory Stick que são usados em câmeras DSLR modernas e telefones inteligentes no computador Mac por usando o software de recuperação de fotografia Yodot Mac.\n",
            "\n",
            "20000 samples from test set\n",
            "First 3 samples of test set:\n",
            "0: source: In this way, the civil life of a nation matures, making it possible for all citizens to enjoy the fruits of genuine tolerance and mutual respect.\n",
            "   target: Deste modo, a vida civil de uma nação amadurece, fazendo com que todos os cidadãos gozem dos frutos da tolerância genuína e do respeito mútuo.\n",
            "1: source: 1999 XIII. Winnipeg, Canada July 23 to August 8\n",
            "   target: 1999 XIII. Winnipeg, Canadá 23 de julho a 8 de agosto\n",
            "2: source: In the mystery of Christmas, Christ's light shines on the earth, spreading, as it were, in concentric circles.\n",
            "   target: No mistério do Natal, a luz de Cristo irradia-se sobre a terra, difundindo-se como círculos concêntricos.\n"
          ],
          "name": "stdout"
        }
      ]
    },
    {
      "cell_type": "markdown",
      "metadata": {
        "id": "UPsgbfqGsm5V",
        "colab_type": "text"
      },
      "source": [
        "## 3.4 Testing the Dataloader\n"
      ]
    },
    {
      "cell_type": "code",
      "metadata": {
        "id": "IhZRtQxdx8BG",
        "colab_type": "code",
        "colab": {}
      },
      "source": [
        "tokenizer = T5Tokenizer.from_pretrained(model_name)"
      ],
      "execution_count": 0,
      "outputs": []
    },
    {
      "cell_type": "code",
      "metadata": {
        "id": "WojVZueAI0tX",
        "colab_type": "code",
        "outputId": "08b4d3aa-5f73-4167-bbb0-86fbf1efa632",
        "colab": {
          "base_uri": "https://localhost:8080/",
          "height": 428
        }
      },
      "source": [
        "text_pairs = [('I like pizza', 'eu gosto de pizza')]\n",
        "dataset_debug = ParaCrawlDS(\n",
        "    text_pairs=text_pairs,\n",
        "    tokenizer=tokenizer,\n",
        "    source_max_length=source_max_length,\n",
        "    target_max_length=target_max_length)\n",
        "\n",
        "dataloader_debug = DataLoader(dataset_debug, batch_size=10, shuffle=True, \n",
        "                              num_workers=0)\n",
        "\n",
        "source_token_ids, source_mask, target_token_ids, target_mask, _, _ = next(iter(dataloader_debug))\n",
        "#---------------------------\n",
        "print('source_token_ids:\\n', source_token_ids)\n",
        "print('source_mask:\\n', source_mask)\n",
        "print('target_token_ids:\\n', target_token_ids)\n",
        "print('target_mask:\\n', target_mask)\n",
        "print('#-------------------')\n",
        "print('source_token_ids.shape:', source_token_ids.shape)\n",
        "print('source_mask.shape:', source_mask.shape)\n",
        "print('target_token_ids.shape:', target_token_ids.shape)\n",
        "print('target_mask.shape:', target_mask.shape)"
      ],
      "execution_count": 26,
      "outputs": [
        {
          "output_type": "stream",
          "text": [
            "source_token_ids:\n",
            " tensor([[13959,  1566,    12, 21076,    10,    27,   114,  6871,     1,     0,\n",
            "             0,     0,     0,     0,     0,     0,     0,     0,     0,     0,\n",
            "             0,     0,     0,     0,     0,     0,     0,     0,     0,     0,\n",
            "             0,     0]])\n",
            "source_mask:\n",
            " tensor([[1, 1, 1, 1, 1, 1, 1, 1, 1, 0, 0, 0, 0, 0, 0, 0, 0, 0, 0, 0, 0, 0, 0, 0,\n",
            "         0, 0, 0, 0, 0, 0, 0, 0]])\n",
            "target_token_ids:\n",
            " tensor([[   3,   15,   76,  281,    7,  235,   20, 6871,    1,    0,    0,    0,\n",
            "            0,    0,    0,    0,    0,    0,    0,    0,    0,    0,    0,    0,\n",
            "            0,    0,    0,    0,    0,    0,    0,    0]])\n",
            "target_mask:\n",
            " tensor([[1, 1, 1, 1, 1, 1, 1, 1, 1, 0, 0, 0, 0, 0, 0, 0, 0, 0, 0, 0, 0, 0, 0, 0,\n",
            "         0, 0, 0, 0, 0, 0, 0, 0]])\n",
            "#-------------------\n",
            "source_token_ids.shape: torch.Size([1, 32])\n",
            "source_mask.shape: torch.Size([1, 32])\n",
            "target_token_ids.shape: torch.Size([1, 32])\n",
            "target_mask.shape: torch.Size([1, 32])\n"
          ],
          "name": "stdout"
        }
      ]
    },
    {
      "cell_type": "markdown",
      "metadata": {
        "id": "Bw_Z9cMgs8Kf",
        "colab_type": "text"
      },
      "source": [
        "# 4. Network Model"
      ]
    },
    {
      "cell_type": "markdown",
      "metadata": {
        "id": "hwcRQhmuRhQP",
        "colab_type": "text"
      },
      "source": [
        "## 4.1 Hiperparameters"
      ]
    },
    {
      "cell_type": "code",
      "metadata": {
        "id": "Q5jrEjC-RNNX",
        "colab_type": "code",
        "colab": {}
      },
      "source": [
        "hyperparameters = {\n",
        "    # description\n",
        "    'experiment_name': 'T5_v1',\n",
        "    #---------------------------\n",
        "    # training / early stopping\n",
        "    'max_epochs': 1,\n",
        "    'patience': 1,\n",
        "    #---------------------------\n",
        "    # dataset\n",
        "    'dataset_class': ParaCrawlDS,\n",
        "    'training_size': 100_000,\n",
        "    #'training_size': 1_000,\n",
        "    'split_train_val': 0.98,\n",
        "    #---------------------------\n",
        "    # dataloader\n",
        "    'batch_size': 64,\n",
        "    'accumulate_grad_batches': 1,\n",
        "    'nworkers': 4,\n",
        "    #---------------------------\n",
        "    # network architecture\n",
        "    'tokenizer': 'T5',\n",
        "    'model_name': \"t5-small\",\n",
        "    'source_max_length': 105,\n",
        "    'target_max_length': 100,\n",
        "    #---------------------------\n",
        "    # optimizer\n",
        "    'loss_func': 'CE',\n",
        "    'opt_name': 'Adam',\n",
        "    'lr': 5e-3,\n",
        "    'scheduling_factor': 0.95,\n",
        "    #---------------------------\n",
        "    # others\n",
        "    'manual_seed': 42,  # RNG seed\n",
        "}"
      ],
      "execution_count": 0,
      "outputs": []
    },
    {
      "cell_type": "markdown",
      "metadata": {
        "id": "RCJVqqltu6cF",
        "colab_type": "text"
      },
      "source": [
        "## 4.2 Network model definition"
      ]
    },
    {
      "cell_type": "code",
      "metadata": {
        "id": "-sgV00TLQsTj",
        "colab_type": "code",
        "colab": {}
      },
      "source": [
        "'''\n",
        "LightnigModule based on the reference notebook from Diedre.\n",
        "'''\n",
        "class T5EnPtTranslator(pl.LightningModule):\n",
        "    def __init__(self, hparams, dl_shuffle=True, decoder='greedy', k=10, p=0.95, num_beams=1, hugging_face=False):\n",
        "        super().__init__()\n",
        "        self.hparams = hparams\n",
        "        #---------------------------\n",
        "        self.dl_shuffle = dl_shuffle\n",
        "        self.DatasetClass = self.hparams.dataset_class\n",
        "        #---------------------------\n",
        "        self.model = get_model(self.hparams.model_name)\n",
        "        self.tokenizer = get_tokenizer(self.hparams.tokenizer, self.hparams.model_name)\n",
        "        self.loss_func = get_loss_func(self.hparams.loss_func)\n",
        "        #---------------------------\n",
        "        self.decoder = decoder\n",
        "        self.k = k\n",
        "        self.p = p\n",
        "        self.num_beams = num_beams\n",
        "        self.hugging_face = hugging_face\n",
        "\n",
        "    def forward(self, source_token_ids, source_mask, target_token_ids):\n",
        "        if self.training:\n",
        "            # All labels set to -100 are ignored (masked), the loss is only computed for labels in [0, ..., config.vocab_size]\n",
        "            # https://huggingface.co/transformers/model_doc/t5.html#t5forconditionalgeneration\n",
        "            target_token_ids[target_token_ids == self.tokenizer.pad_token_id] = -100\n",
        "            outputs = self.model(\n",
        "                input_ids = source_token_ids,\n",
        "                attention_mask = source_mask, \n",
        "                lm_labels = target_token_ids)\n",
        "            loss = outputs[0]\n",
        "            return loss\n",
        "        #---------------------------\n",
        "        # use hugging face decoding\n",
        "        #---------------------------    \n",
        "        elif self.hugging_face:\n",
        "            if self.decoder == 'top-k':\n",
        "                predicted_token_ids = self.model.generate(\n",
        "                    input_ids = source_token_ids,\n",
        "                    max_length = self.hparams.target_max_length,\n",
        "                    do_sample = True,\n",
        "                    top_k = self.k,\n",
        "                )\n",
        "            elif self.decoder == 'top-p':\n",
        "                predicted_token_ids = self.model.generate(\n",
        "                    input_ids = source_token_ids,\n",
        "                    max_length = self.hparams.target_max_length,\n",
        "                    do_sample = True,\n",
        "                    top_p = self.p,\n",
        "                )\n",
        "            elif self.decoder == 'beam-search':\n",
        "                predicted_token_ids = self.model.generate(\n",
        "                    input_ids = source_token_ids,\n",
        "                    max_length = self.hparams.target_max_length,\n",
        "                    do_sample = True,\n",
        "                    num_beams = self.num_beams,\n",
        "                )\n",
        "            else:\n",
        "                ''' greedy '''\n",
        "                predicted_token_ids = self.model.generate(\n",
        "                    input_ids = source_token_ids,\n",
        "                    max_length = self.hparams.target_max_length,\n",
        "                    do_sample = True,\n",
        "                )\n",
        "            return predicted_token_ids\n",
        "        #---------------------------\n",
        "        # use my decoding implementations\n",
        "        #---------------------------\n",
        "        else:\n",
        "            if self.decoder == 'top-k':\n",
        "                # fill tensor with start token ID\n",
        "                decoded_ids = torch.full(\n",
        "                    size = (source_token_ids.shape[0], 1),\n",
        "                    fill_value = self.model.config.decoder_start_token_id,\n",
        "                    dtype = torch.long)\n",
        "                # send tensor to device\n",
        "                decoded_ids = decoded_ids.to(source_token_ids.device)\n",
        "                #---------------------------\n",
        "                encoder_hidden_states = self.model.get_encoder()(source_token_ids, attention_mask=source_mask)\n",
        "                for step in range(self.hparams.target_max_length):\n",
        "                    logits, _, _ = self.model(\n",
        "                        decoder_input_ids = decoded_ids,\n",
        "                        encoder_outputs = encoder_hidden_states,\n",
        "                        attention_mask = source_mask)\n",
        "                    next_token_logits = logits[:, -1, :]\n",
        "#                    pdb.set_trace()\n",
        "                    #---------------------------\n",
        "                    #roulette = torch.topk(next_token_logits, k=self.k, sorted=False)[1]\n",
        "                    #chosen = torch.randint(self.k, (1,1)).item()\n",
        "                    #next_token_id = roulette[:,chosen].unsqueeze(-1)\n",
        "                    roulette = torch.topk(next_token_logits, k=self.k, sorted=False)[1]\n",
        "                    next_token_id = torch.zeros((roulette.shape[0], 1), dtype=roulette.dtype, device=roulette.device)\n",
        "                    for idx, topk in enumerate(roulette):\n",
        "                        next_token_id[idx] = roulette[idx][torch.randint(self.k, (1,1)).item()]\n",
        "                    #---------------------------\n",
        "                    decoded_ids = torch.cat([decoded_ids, next_token_id], dim=-1)\n",
        "                return decoded_ids                \n",
        "            #---------------------------\n",
        "            elif self.decoder == 'top-p':\n",
        "                decoded_ids = torch.full(\n",
        "                    size = (source_token_ids.shape[0], 1),\n",
        "                    fill_value = self.model.config.decoder_start_token_id,\n",
        "                    dtype = torch.long)\n",
        "                # send tensor to device\n",
        "                decoded_ids = decoded_ids.to(source_token_ids.device)\n",
        "                #---------------------------\n",
        "                encoder_hidden_states = self.model.get_encoder()(source_token_ids, attention_mask=source_mask)\n",
        "                for step in range(self.hparams.target_max_length):\n",
        "                    logits, _, _ = self.model(\n",
        "                        decoder_input_ids = decoded_ids,\n",
        "                        encoder_outputs = encoder_hidden_states,\n",
        "                        attention_mask = source_mask)\n",
        "                    next_token_logits = logits[:, -1, :]\n",
        "                    #pdb.set_trace()\n",
        "                    #---------------------------\n",
        "                    # softmax to calculate probs from logits\n",
        "                    probs = torch.softmax(next_token_logits, dim=1)         # (B x V)\n",
        "                    # sort probs\n",
        "                    probs_sorted, indices = torch.sort(probs, descending=True)    # (B x V)\n",
        "                    # cumulative sum of sorted probs\n",
        "                    cumulative = torch.cumsum(probs_sorted, dim=1)                # (B x V)\n",
        "                    # get number of p tokens\n",
        "                    top_p = (cumulative < self.p).sum(dim=1) + 1            # (B)\n",
        "                    # set prob=0 for tokens out of p\n",
        "                    for i, p in enumerate(top_p):\n",
        "                        probs_sorted[i][p:] = 0\n",
        "                    # sample from probs of p tokens that left\n",
        "                    indices_sampled = torch.multinomial(probs_sorted, num_samples=1)\n",
        "                    # restore original index from indices (returned from torch.sort)\n",
        "                    next_token_id = torch.clone(top_p).unsqueeze(-1)        # (B x 1)\n",
        "                    for batch, idx in enumerate(indices_sampled):\n",
        "                        next_token_id[batch] = indices[batch][idx]\n",
        "                    #---------------------------\n",
        "                    decoded_ids = torch.cat([decoded_ids, next_token_id], dim=-1)\n",
        "                return decoded_ids                \n",
        "            #---------------------------\n",
        "            elif self.decoder == 'beam-search':\n",
        "                print('beam-search')\n",
        "            #---------------------------\n",
        "            else:\n",
        "                ''' greedy decoding '''\n",
        "                # fill tensor with start token ID\n",
        "                decoded_ids = torch.full(\n",
        "                    size = (source_token_ids.shape[0], 1),\n",
        "                    fill_value = self.model.config.decoder_start_token_id,\n",
        "                    dtype = torch.long)\n",
        "                # send tensor to device\n",
        "                decoded_ids = decoded_ids.to(source_token_ids.device)\n",
        "                #---------------------------\n",
        "                encoder_hidden_states = self.model.get_encoder()(source_token_ids, attention_mask=source_mask)\n",
        "                for step in range(self.hparams.target_max_length):\n",
        "                    logits, _, _ = self.model(\n",
        "                        decoder_input_ids = decoded_ids,\n",
        "                        encoder_outputs = encoder_hidden_states,\n",
        "                        attention_mask = source_mask)\n",
        "                    next_token_logits = logits[:, -1, :]\n",
        "                    next_token_id = next_token_logits.argmax(1).unsqueeze(-1)\n",
        "                    decoded_ids = torch.cat([decoded_ids, next_token_id], dim=-1)\n",
        "                return decoded_ids\n",
        "\n",
        "    def training_step(self, batch, batch_nb):\n",
        "        # calculate loss\n",
        "        source_token_ids, source_mask, target_token_ids, target_mask, _, _ = batch\n",
        "        loss = self(source_token_ids, source_mask, target_token_ids)\n",
        "        tensorboard_logs = {'batch_train_loss': loss} # log batch training loss in TensorBoard\n",
        "        #---------------------------\n",
        "        return {'loss': loss, \n",
        "                'log': tensorboard_logs,\n",
        "                'progress_bar': hardware_status()}\n",
        "\n",
        "    def training_epoch_end(self, outputs):\n",
        "        # calculate epoch loss based on mini-batch average loss\n",
        "        avg_loss = torch.stack([x['loss'] for x in outputs]).mean()\n",
        "        # log training epoch loss in TensorBoard\n",
        "        tensorboard_logs = {'epoch_train_loss': avg_loss}\n",
        "        # send 'log' key to the logger (TensorBoard)\n",
        "        return {'log': tensorboard_logs}\n",
        "\n",
        "    def validation_step(self, batch, batch_nb):\n",
        "        # calculate BLEU\n",
        "        source_token_ids, source_mask, target_token_ids, target_mask, source_original, target_original = batch\n",
        "        predicted = self(source_token_ids, source_mask, target_token_ids)\n",
        "        translated = [self.tokenizer.decode(token) for token in predicted]\n",
        "        #---------------------------\n",
        "        bleu = torch.tensor(sacrebleu.corpus_bleu(translated, [target_original]).score)\n",
        "        #print(source_original, target_original, translated, bleu, sep='\\n')\n",
        "        tensorboard_logs = {'batch_valid_bleu': bleu} # log batch validation loss in TensorBoard\n",
        "        #---------------------------\n",
        "        return {'step_val_bleu': bleu, \n",
        "                'log': tensorboard_logs,\n",
        "                'progress_bar': hardware_status()}\n",
        "\n",
        "    def validation_epoch_end(self, outputs):\n",
        "        # calculate validation epoch loss and accuracy\n",
        "        avg_bleu = torch.stack([x['step_val_bleu'] for x in outputs]).mean()\n",
        "        #---------------------------\n",
        "        tensorboard_logs = {'epoch_val_bleu': avg_bleu}\n",
        "        tqdm_dict = tensorboard_logs\n",
        "        #---------------------------\n",
        "        return {'avg_val_bleu': avg_bleu, \n",
        "                'log': tensorboard_logs,\n",
        "                'progress_bar': tqdm_dict}\n",
        "\n",
        "    def test_step(self, batch, batch_nb):\n",
        "        source_token_ids, source_mask, target_token_ids, target_mask, source_original, target_original = batch\n",
        "        predicted = self(source_token_ids, source_mask, target_token_ids)\n",
        "        translated = [self.tokenizer.decode(token) for token in predicted]\n",
        "        bleu = torch.tensor(sacrebleu.corpus_bleu(translated, [target_original]).score)\n",
        "        if (batch_nb % 100 == 0):\n",
        "            print(source_original, target_original, translated, bleu, sep='\\n')\n",
        "        return {'test_bleu': bleu,\n",
        "                'progress_bar': hardware_status()}\n",
        "\n",
        "    def test_epoch_end(self, outputs):\n",
        "        avg_test_bleu = torch.stack([x['test_bleu'] for x in outputs]).mean()\n",
        "        #---------------------------\n",
        "        tensorboard_logs = {'avg_test_bleu': avg_test_bleu}\n",
        "        tqdm_dict = tensorboard_logs\n",
        "        #---------------------------\n",
        "        return {'avg_test_bleu': avg_test_bleu, \n",
        "                'log': tensorboard_logs,\n",
        "                'progress_bar': tqdm_dict}\n",
        "\n",
        "    def prepare_data(self):\n",
        "        # load training/test sets\n",
        "        x_train = load_text_pairs('paracrawl_enpt_train.tsv.gz')\n",
        "        x_test = load_text_pairs('paracrawl_enpt_test.tsv.gz')\n",
        "        #---------------------------\n",
        "        # shuffle data before spliting\n",
        "        random.shuffle(x_train)\n",
        "        # split\n",
        "        split = int(self.hparams.split_train_val * self.hparams.training_size)\n",
        "        x_valid = x_train[split:]     # create validation set\n",
        "        x_train = x_train[:split]   # truncate training set\n",
        "        #---------------------------\n",
        "        # create training set\n",
        "        self.ds_train = self.DatasetClass(\n",
        "            text_pairs = x_train, \n",
        "            tokenizer = self.tokenizer, \n",
        "            source_max_length = self.hparams.source_max_length,\n",
        "            target_max_length = self.hparams.target_max_length)\n",
        "        # create development set\n",
        "        self.ds_valid = self.DatasetClass(\n",
        "            text_pairs = x_valid, \n",
        "            tokenizer = self.tokenizer, \n",
        "            source_max_length = self.hparams.source_max_length,\n",
        "            target_max_length = self.hparams.target_max_length)\n",
        "        # create test set\n",
        "        self.ds_test = self.DatasetClass(\n",
        "            text_pairs = x_test, \n",
        "            tokenizer = self.tokenizer, \n",
        "            source_max_length = self.hparams.source_max_length,\n",
        "            target_max_length = self.hparams.target_max_length)\n",
        "\n",
        "    @gpu_mem_restore\n",
        "    def train_dataloader(self):\n",
        "        return DataLoader(\n",
        "            dataset = self.ds_train, \n",
        "            batch_size = self.hparams.batch_size,\n",
        "            drop_last = False,\n",
        "            shuffle = self.dl_shuffle,\n",
        "            num_workers=self.hparams.nworkers)\n",
        "\n",
        "    @gpu_mem_restore\n",
        "    def val_dataloader(self):                \n",
        "        return DataLoader(\n",
        "            dataset = self.ds_valid,\n",
        "            batch_size = self.hparams.batch_size,\n",
        "            drop_last = False,\n",
        "            shuffle = False,\n",
        "            num_workers=self.hparams.nworkers)\n",
        "        \n",
        "    @gpu_mem_restore\n",
        "    def test_dataloader(self):\n",
        "        return DataLoader(\n",
        "            dataset = self.ds_test,\n",
        "            batch_size = self.hparams.batch_size,\n",
        "            drop_last = False,\n",
        "            shuffle = False,\n",
        "            num_workers=self.hparams.nworkers)\n",
        "\n",
        "    def configure_optimizers(self):\n",
        "        optimizer = get_optimizer(self.hparams.opt_name, self.hparams.lr, self.model)\n",
        "        scheduler = StepLR(optimizer, 1, self.hparams.scheduling_factor)\n",
        "        return [optimizer], [scheduler]"
      ],
      "execution_count": 0,
      "outputs": []
    },
    {
      "cell_type": "markdown",
      "metadata": {
        "id": "-nmts6kEEgC7",
        "colab_type": "text"
      },
      "source": [
        "### Test dataset"
      ]
    },
    {
      "cell_type": "code",
      "metadata": {
        "id": "YeIPfHctmI_j",
        "colab_type": "code",
        "colab": {}
      },
      "source": [
        "x_train = load_text_pairs('paracrawl_enpt_train.tsv.gz')\n",
        "x_test = load_text_pairs('paracrawl_enpt_test.tsv.gz')\n",
        "#---------------------------\n",
        "# shuffle data before spliting\n",
        "random.shuffle(x_train)\n",
        "# split\n",
        "split = int(hyperparameters['split_train_val'] * hyperparameters['training_size'])\n",
        "x_valid = x_train[split:]     # create validation set\n",
        "x_train = x_train[:split]   # truncate training set\n",
        "#---------------------------\n",
        "# create test set\n",
        "ds_test = ParaCrawlDS(\n",
        "    text_pairs = x_test, \n",
        "    tokenizer = tokenizer, \n",
        "    source_max_length = hyperparameters['source_max_length'],\n",
        "    target_max_length = hyperparameters['target_max_length'])"
      ],
      "execution_count": 0,
      "outputs": []
    },
    {
      "cell_type": "markdown",
      "metadata": {
        "id": "iDxUbPCkzRSF",
        "colab_type": "text"
      },
      "source": [
        "### Trainer"
      ]
    },
    {
      "cell_type": "code",
      "metadata": {
        "id": "oJHy4fPeAnkG",
        "colab_type": "code",
        "colab": {
          "base_uri": "https://localhost:8080/",
          "height": 38
        },
        "outputId": "7caba7e4-a0ad-4ac2-9fb7-d6f0d519426e"
      },
      "source": [
        "trainer_decoder_comparison = pl.Trainer(\n",
        "    profiler = False,              # do not run profiler\n",
        "    gpus = 1,                     # GPUs\n",
        "    precision = 32,               # choose precision (32/16 bits)\n",
        "    logger = False,               # do not use logging (TensorBoard)\n",
        "    early_stop_callback = False,  # do not stop early\n",
        "    checkpoint_callback = False,  # do not save checkpoint\n",
        "    overfit_pct = 0.1,           # ratio of data to overfit\n",
        ")"
      ],
      "execution_count": 30,
      "outputs": [
        {
          "output_type": "stream",
          "text": [
            "No environment variable for node rank defined. Set as 0.\n"
          ],
          "name": "stderr"
        }
      ]
    },
    {
      "cell_type": "markdown",
      "metadata": {
        "id": "XJPmsQ8VDhBi",
        "colab_type": "text"
      },
      "source": [
        "### Model"
      ]
    },
    {
      "cell_type": "code",
      "metadata": {
        "id": "CYTCT8I9zRrg",
        "colab_type": "code",
        "colab": {
          "base_uri": "https://localhost:8080/",
          "height": 38
        },
        "outputId": "9a1a9b52-2b6e-432b-a009-fcd30470bf34"
      },
      "source": [
        "model = T5EnPtTranslator(hparams=Namespace(**hyperparameters), dl_shuffle=False)\n",
        "model.load_state_dict(torch.load('/content/drive/My Drive/parameters'))"
      ],
      "execution_count": 60,
      "outputs": [
        {
          "output_type": "execute_result",
          "data": {
            "text/plain": [
              "<All keys matched successfully>"
            ]
          },
          "metadata": {
            "tags": []
          },
          "execution_count": 60
        }
      ]
    },
    {
      "cell_type": "markdown",
      "metadata": {
        "id": "g5qIsvEhJMrL",
        "colab_type": "text"
      },
      "source": [
        "# Unit test"
      ]
    },
    {
      "cell_type": "markdown",
      "metadata": {
        "id": "cTneOLyBJPb2",
        "colab_type": "text"
      },
      "source": [
        "### Greedy"
      ]
    },
    {
      "cell_type": "code",
      "metadata": {
        "id": "6k4rvF_-JW2B",
        "colab_type": "code",
        "colab": {
          "base_uri": "https://localhost:8080/",
          "height": 254,
          "referenced_widgets": [
            "c9f36954038543d880469f7a643a28a0",
            "2a6dfebc8c9042ca951aa880d35283a4",
            "3257f7a173984a02b571832df6f2ff18",
            "110cebea40584fa19b61c52b3bf2d68c",
            "85d351e04fb740caa4e7b9043d3ea374",
            "76bb19582936459f9e5547e33e3a6b61",
            "20d66cda453342a999f485d4d95f1571",
            "91dd814a1b9340d1b548cdf36b476fc7"
          ]
        },
        "outputId": "d4c058ef-7f77-40f2-f79d-3d105e6378b4"
      },
      "source": [
        "model.decoder = 'greedy'\n",
        "model.hugging_face = False\n",
        "#------------------------------------------------------\n",
        "trainer_decoder_comparison.test(model)"
      ],
      "execution_count": 42,
      "outputs": [
        {
          "output_type": "display_data",
          "data": {
            "application/vnd.jupyter.widget-view+json": {
              "model_id": "c9f36954038543d880469f7a643a28a0",
              "version_minor": 0,
              "version_major": 2
            },
            "text/plain": [
              "HBox(children=(FloatProgress(value=1.0, bar_style='info', description='Testing', layout=Layout(flex='2'), max=…"
            ]
          },
          "metadata": {
            "tags": []
          }
        },
        {
          "output_type": "stream",
          "text": [
            "('In this way, the civil life of a nation matures, making it possible for all citizens to enjoy the fruits of genuine tolerance and mutual respect.', '1999 XIII. Winnipeg, Canada July 23 to August 8', \"In the mystery of Christmas, Christ's light shines on the earth, spreading, as it were, in concentric circles.\", 'making it viable to drill two new boreholes in the west of that peninsula.', 'His eyes were shining and his voice was cheerful.', 'Injuries, accidents, bereavement, abuse, separation, shock, rape, bullying, harassment, stress, depression, anxiety, eating.', 'Whiteness HP Maxx is a 35% hydrogen peroxide whitening gel for the whitening of vital and non-vital teeth.', 'Lines: with indication of Line Number, From and To ends, insulation, the P&ID where they are drawn.', 'The cruises depart from Manaus, capital of the State of Amazonas, a city in the jungle that prospered during the rubber boom last century and where you will find a smaller copy of the Opera House in Paris, France. There is a choice of a three or four days cruises, both of which include the “Meeting of the Waters”, where the Rio Negro and the Amazon River converge.', 'By bringing 9/11 out into the open they ensured that it was given worldwide attention, and that the truth would be sought and the perpetrators identified and held to account.', '“Like Williams, Cosworth is an independent company whose owners share our passion for racing and engineering.', 'However, this can be avoided if infiltration is subepithelial.', 'Publication Type English: Bibliography', \"Program Modification: Sometimes, not only virus Worm:Win32/Dedler.F or malware SWiJ SideWinder but also common softwares possessing the ability to modify the inner functions of FXUCU001.DLL, which means other programs can't find this DLL file again.\", 'In some cases QuickTime media player halts smooth running of the MOV video due to some corruption issues.', 'He is currently Professor of Political Science at the University Pompeu Fabra in Barcelona.', 'Cosmetic additives must not penetrate.', 'Comments for Highway condom test', 'How do I obtain an extension of my student authorization?', 'Enough of US intervention in Latin !.', 'Nabertherm with 450 employees worldwide have been developing and producing industrial furnaces for many different applications for over 60 years. As a manufacturer, Nabertherm offers the widest and deepest range of furnaces worldwide.', \"We call these chemicals 'elements'.\", 'Expert Review – coordination of teams of selected experts for the independent evaluation of complex environmental studies.', 'Thereto there is a luggage storage room provided in the hostel.', 'This is a update module, must works together with Micronas OBD TOOL (CDC32XX) cable, cannot works alone.', '116 So exalted be Allah, the True King; no god is there but He, the Lord of the honorable dominion.', 'Technological education in Arequipa', 'Andinia.com - Outdoor Dictionary: Messan', 'VEMAG is the only manufacturer of vacuum fillers that complies with USDA requirements ex works.', 'Institutes in Pereira (Risaralda, Colombia) Colleges and schools in Risaralda', 'Mining equipment and supplies in Yugo-Zapadny okrug, Moscow', '• Correct provision of the service', 'When we speak the same language it is because we have the same mother. And this gives us hope.', 'Several kinds of accommodations available for your lodging in Carvoeiro: apartments, luxury or cheap Carvoeiro hotels, and also bed & breakfast.', 'Prophecies concerning this are recorded in the 38th and 39th chapters of Ezekiel. Verse 8 of chapter 38 is addressed to Israel, and reads, “After many days thou shalt be visited: in the latter years thou shalt come into the land that is brought back from the sword, and is gathered out of many people, against the mountains of Israel, which have been always waste: but it is brought forth out of the nations, and they shall dwell safely all of them.”', 'The House immediately became place of cult and around to it developed the medieval Loreto: the impressive wall projected by Antonio da Sangallo il Giovane were erected in 1518 and reinforced with four bastions in 1600.', 'There was no other power by which they could be delivered.', 'Quality is a must for us and we are always looking for ways/tools to help us to delivery the best.', 'The form had become focused and funny. I laughed:', 'Although it is not completely certain, many Brazilian chefs agree that the picanha cut originated in Rio Grande do Sul, the southernmost state of Brazil, famous for its churrasco.', 'The condition of complete acceptance in each hour in the matching process of the first block of the sale bid means that only the first block will be programmed in a specific hour if it is not matched completely, and all the blocks in that hour will be withdrawn and not the bid presented for the other hours.', 'Now David the son of Jesse reigned over all Israel.', 'The brain’s reasoning and thoughts in the decision-making process.', 'In other evangelic fragments the same Jesus refers to the lack of faith of his followers.', '3 Jesus knowing that the Father had given all things into his hands, and that he was come from God, and went to God;', \"How to play Peppy' s Thandie Newton Dress Up:\", 'Manufacture of leather goods....', 'The values of the parameter vary from 0 to 200%.', 'Software Downloads Associated with File Extension RB:', 'Contracting States may refuse to recognise a divorce or legal separation if it is incompatible with a previous decision determining the matrimonial status of the spouses and that decision either was rendered in the State in which recognition is sought, or is recognised, or fulfils the conditions required for recognition, in that State.', \"With a top location at the Grand Place and the historical center of Brussels, the Ibis Brussels Off Grand'Place offers a direct access towards the international airport by the railway station.\", 'Energetic mapping uncovers all geology disturbances underground, disturbances which were used to benefit the locations and greatly increase their energy level.', 'Malaria What You Can Do', 'THE PLEASURE OF HOMOSEXUAL SECOND Saint Thomas Aquinas OR SECOND THE DOMINICAN ADRIANO OLIVA? . We hope that the Holy Father, with the help of the Holy Spirit, has the power to unite the Catholic world, today […]', 'That evening Joseph, Mary, and Jesus walked a mile and a half to the site of the ancient Jericho, where Joshua, for whom Jesus was named, had performed his renowned exploits, according to Jewish tradition.', 'The main objective of the mission will be to bring a Russian module Rassvet Mini-Research Module. This will be the last trip of the Shuttle Atlantis, and [...]', 'I paints them with epoxi so that they were not wet with the condensation of the tent.', 'Waste recycling in Santa Clara (Villa Clara, Cuba) - Amarillascuba.net', 'Our experience with separation processes in refineries ...', '(4) Our General Conditions of Purchase shall also apply for any future business relations with the supplier.', 'In km 31, the intense greens of the streams sink to the coloring and it begins to cross the south limit of the Mountain range of the Wind, with a mountain formation of address north-south, has their north end for the volcano Domuyo.', 'Single-use drapes made up of fabrics of heading 5603, of a kind used during surgical procedures 6307 90 92', '6 days ago 10:01 XCafe blowjob, whore, dogging, homemade, facial, German, milf', 'Exceptionally, 120 priests played trumpets at the consecration of Solomon’s Temple.')\n",
            "('Deste modo, a vida civil de uma nação amadurece, fazendo com que todos os cidadãos gozem dos frutos da tolerância genuína e do respeito mútuo.', '1999 XIII. Winnipeg, Canadá 23 de julho a 8 de agosto', 'No mistério do Natal, a luz de Cristo irradia-se sobre a terra, difundindo-se como círculos concêntricos.', 'e tem o objetivo de viabilizar a perfuração de dois novos furos no ocidente da citada península.', 'Seus olhos brilhavam e sua voz era alegre.', 'Lesões, acidentes, luto, abuso, separação, choque, violação, assédio moral, assédio, stress, depressão, ansiedade, comer.', 'Whiteness HP Maxx é um clareador à base de peróxido de hidrogênio a 35% para clareamento de dentes vitais e não vitais.', 'Linhas: com indicação do número de linha, as extremidades, o isolamento, o P&ID onde estão desenhadas.', 'O Desafio parte de Manaus, capital do estado do Amazonas, uma cidade próspera pelo auge da borracha no séc.XIX, e onde se encontra uma cópia em menores proporções da Casa de Ópera de Paris, na França. Existe a possibilidade de 3 ou 4 dias de cruzeiro, dos que só incluem o encontro com as águas , onde o Rio Solimões e Negro se unem sem mesclar suas águas.', 'Ao trazer o assunto sobre o 9/11 para a ribalta asseguram que seja dada atenção mundial, e que a verdade seja pesquisada e tida em conta.', '“Como a Williams, Cosworth é uma empresa independente cujos donos partilham a nossa paixão pelas corridas e engenharia.', 'Contudo, isto pode ser evitado com uma infiltração subepitelial.', 'Tipo de Publicação Inglês: Bibliography', 'Modificação do Programa: Às vezes, o vírus Virus:DOS/Clonewar_252.C, malware History Killer Pro e softwares comuns têm a capacidade de modificar as funções de FXUCU001.DLL. Esta situação faria outros programas não podem encontrar este arquivo DLL.', 'Em alguns casos, media player QuickTime interrompe o bom funcionamento do vídeo MOV, devido a alguns problemas de corrupção.', 'Atualmente é professor de Ciência Política na Universidade Pompeu Fabra em Barcelona.', 'Aditivos cosméticos não devem penetrar.', 'Comentários para o teste do preservativo da estrada', 'Como eu obtenho a extensão de minha Permissão de Estudos?', 'Chega de intervenção dos EUA na América Latina!.', 'A Nabertherm desenvolve e produz com os seus 450 colaboradores a nível mundial, desde há mais de 60 anos, fornos industriais para as mais diferentes áreas de aplicação.', \"Chamamos a essas substâncias de 'elementos'.\", 'Revisão Independente por Peritos (Independent Peer Review)- coordenação de equipas de especialistas para a avaliação independente de estudos ambientais complexos.', 'Da mesma existe uma sala de bagagem prevista no albergue.', 'Este é um módulo de atualização, deve trabalha em conjunto com cabo Micronas OBD TOOL (CDC32XX), não trabalha sozinha.', \"116 Exaltado seja Deus, Verdadeiro, Soberano! Não há mais divindade além d'Ele, Senhor do honorável Trono!\", 'Educação tecnológica em Peru', 'Andinia.com - Dicionário ao ar livre: Messan', 'A VEMAG é a única fabricante de preenchedoras a vácuo que está em conformidade com as exigências do USDA ex works.', 'Escolas pré-universitário em Pereira (Risaralda, Colômbia)', 'Mineração: equipamentos e suprimentos em Yugo-Zapadny okrug, Moscú', '• A correcta prestação do serviço', 'Quando se fala a mesma língua é porque se tem a mesma mãe, e isto dá-nos esperança.', 'Vários tipos de acomodações disponíveis para o seu alojamento em Carvoeiro: apartamentos de luxo ou hotéis baratos Carvoeiro, e também bed & breakfast.', 'As profecias sobre este assunto estão registradas nos capítulos 38 e 39 de Ezequiel. O versículo 8 do capítulo 38 é dirigida a Israel, e diz: “ Depois de muitos dias serás visitado. No fim dos anos virás à terra que se recuperou da espada, e que foi congregada dentre muitos povos, junto aos montes de Israel, que sempre se faziam desertos; mas aquela terra foi tirada dentre as nações, e todas elas habitarão seguramente.”', 'A Casa torna-se imediatamente lugar de culto e ao redor desta se desenvolvem todas as habitações da Loreto medieval: as imponentes muralhas projetadas por Antonio da Sangallo il Giovane foram erguidas em 1518 e reforçadas com quatro bastiões, 1600.', 'Nenhum outro poder havia pelo qual pudesse ser libertado.', 'A qualidade é primordial para nós e estamos sempre à procura de maneiras/ferramentas para nos ajudar a entregar o melhor.', 'A forma tinha-se tornado o foco e engraçado. Eu ri:', 'Apesar de não estar comprovado, muitos cozinheiros brasileiros concordam que a picanha foi originada doRio Grande do Sul, um estado famoso pelos seus churrascos.', 'A condição de aceitação completa em cada hora na concertação do primeiro lanço da oferta de venda, implica que só será programada, numa hora determinada, o primeiro lanço em caso de ser concertado na sua totalidade, sendo retiradas todos os lanços para a referida hora, não sendo retirada a oferta realizada para as restantes horas.', 'Assim Davi, filho de Jessé, reinou sobre todo o Israel.', 'As reflexões e pensamentos do cérebro no processo de tomada de decisões da vontade.', 'Em outros fragmentos evangélicos, Jesus Cristo mesmo lamenta a falta de fé de seus seguidores.', '3 Jesus, sabendo que o Pai tinha depositado nas suas mãos todas as coisas, e que havia saído de Deus e ia para Deus,', 'Como jogar Peppy s vestir-se Thandie Newton:', 'Fabricação de artigos de couro....', 'Os valores do parâmetro varia de 0 a 200%.', 'Downloads de Software Associados à Extensão de Ficheiro RB:', 'Qualquer Estado contratante pode recusar o reconhecimento de um divórcio ou de uma separação de pessoas se eles forem incompatíveis com uma decisão anterior cujo objectivo principal fosse o estado matrimonial dos cônjuges, quer proferida no Estado em que o reconhecimento foi invocado quer reconhecida ou reunindo as condições de reconhecimento neste Estado.', \"Com uma excelente localização na Grand Place e no centro histórico de Bruxelas, o ibis Brussels Off Grand'Place oferece acesso direto ao aeroporto internacional pela estação ferroviária.\", 'O mapeamento energético demonstra todas as perturbações geológicas subterrâneas, perturbações essas que eram usadas para beneficiar os locais e elevar grandemente o seu nível energético.', 'Malária O que você pode fazer', 'O PRAZER DE HOMOSSEXUAL SEGUNDA Santo Tomás de Aquino ou o segundo o dominicano ADRIANO OLIVA? . Esperamos que o Santo Padre, com a ajuda do Espírito Santo, tem o poder de unir o mundo católico, hoje […]', 'Naquela noite José, Maria e Jesus caminharam, por cerca de três quilômetros, até o local antigo de Jericó, onde Joshua, cujo nome foi dado a Jesus, tinha realizado as suas renomadas façanhas, de acordo com a tradição judaica.', 'O principal objetivo da missão terá um módulo russo RASSVET Mini-Módulo de Investigação. Esta será a última viagem do ônibus espacial Atlantis, e [...]', 'Pintei com epoxi para não se molharem com a condensação do barraco.', 'Saneamento ambiental em Cifuentes (Villa Clara, Cuba) - Amarillascuba.net', 'Nossa experiência com processos de separação em refinarias ...', '(4) Os nossos termos e condições de compra ainda terão vigor em todos os negócios futuros com o fornecedor.ier.', 'Em km 31, os intensos verdes dos fluxos afundam à coloração e começa a cruzar o limite sul da gama Montesa do Vento, com uma formação montesa de endereço norte-sul, tem o norte terminar para o vulcão Domuyo.', 'Lençóis descartáveis confecionados com matérias da posição5603, do tipo utilizado durante as intervenções cirúrgicas 6307 90 92', 'Há 6 dias 10:01 XCafe sexo oral, putas, posição de cachorro, caseiras, ejaculação na cara, alemão, milf', 'Excepcionalmente, 120 sacerdotes tocaram trombetas na consagração do Templo de Salomão.')\n",
            "['Desta forma, a vida civil de uma naç ⁇ o se avança, tornando-o poss ⁇ vel para todos os cidad ⁇ os desfrutar dos frutos de tolerância verdadeira e respeito mutual.', '1999 XIII. Winnipeg, Canadá 23 a 8 de agosto', 'No mistério do Natal, a luz de Cristo brilha na terra, esporrendo-se, como era, em c ⁇ rculos concêncios.', 'fazendo viável fazer o ocidental dois novos fechados no ocidente daquela pen ⁇ nsula. ocidental. ocidental. ocidentalmente ocidental.', 'Os seus olhos estavam brilhantes e a sua voz foi linda.', 'Inferiç ⁇ es, acidentes, abuso, abuso, separaç ⁇ o, choque, rapaçamento, abuso, abuso, abuso, abuso, abuso, abuso, apress ⁇ o, apress ⁇ o, a ansiedade, abuso, alimentaç ⁇ o.', 'A branque HP Maxx é um gel de clareamento de hidrogénio de 35% para o clareamento de dentes vitales e n ⁇ o-vitais. como o l ⁇ gel de enxernamento de hidro ⁇ dio de 35% ao', 'Linhas: com indicaç ⁇ o do n ⁇ mero de linha, De e a fim, isolamento, o P&ID onde eles s ⁇ o trazidas.', 'As crucificades sa ⁇ am de Manaus, capital do Estado de Amazonas, uma cidade na jungle que prosperou durante o bólvulo em século passado e onde você encontrará uma cópia menor da Opera House em Paris, França. Há uma', 'Ao trazer os 9/11 aos abertos eles garantiram que era dada atenç ⁇ o mundial, e que a verdade seria buscada e os atentantes identificou e os ataqueiados..', '“Like Williams, Cosworth é uma empresa independente, cujos proprietários compartilham nossa paix ⁇ o pela corrida e engenharia. em escritório. em escritório. em escritório. em', 'No entanto, isto pode ser evitado se a infiltraç ⁇ o é subepithelial. ', 'Tipo de Publicaç ⁇ o Português: Bibliografia)', 'Modificaç ⁇ o do Programa:  ⁇ s vezes, v ⁇ rus Worm:Win32/Dedler.F ou malware SWiJ SideWinder, mas também softwares comuns têm a capacidade de modificar as funç ⁇ es internas de FXUCU001.DLL, o que significa que outros programas n ⁇ o podem', 'Em alguns casos o jogador de m ⁇ dia QuickTime acabou o funcionamento liso do v ⁇ deo MOV devido a alguns problemas de corrupç ⁇ o.', 'Ele é professor de Ciência Pol ⁇ tica da Universidade Pompeu Fabra em Barcelona. em Barcelona. em Barcelona. em Barcelona. em Barcelona. em Barcelona. em Barcelona. em Barcelona.', 'Aditivos cosméticos n ⁇ o devem perder......', 'Comentários para teste de preservativo de Estrada', 'Como eu obter uma extens ⁇ o da minha autorizaç ⁇ o estudante?', 'A  ⁇ ndia da intervenç ⁇ o dos EUA em l ⁇ ngua!', 'Nabertherm com 450 funcionários em todo o mundo est ⁇ o desenvolvidos e produzindo fornos industriais para muitos aplicaç ⁇ es diferentes para mais de 60 anos. Como fabricante, Nabertherm oferece a maior gama de fornos mundanos.', \"Nós chamamos essas qu ⁇ micas 'elementos'. em breve. em breve. \", 'Avaliaç ⁇ o especializada – coordenaç ⁇ o de equipes de especialistas selecionados para a avaliaç ⁇ o independente de estudos ambientais complexos.', 'Existe uma sala de armazenamento de bagagem fornecida no hostel. a acesso a acessória. a acessória a acessória. a a', 'Este é um módulo de atualizaç ⁇ o, deve trabalhar junto com cabo Micronas OBD TOOL (CDC32XX), n ⁇ o pode funcionar sozinho.', '116 Ent ⁇ o seja a Deus, o verdadeiro Rei; n ⁇ o é lá, mas Ele, o Senhor do dominion honrável. a cima de cima. a cima de cima. a cima de cima. a c', 'Educaç ⁇ o tecnológica em Arequipa.....', 'Andinia.com - Dicionário ao ar livre: Messan', 'VEMAG é o  ⁇ nico fabricante de reservadores de pó de pó que cumprir com os requisitos da USDA ex trabalhos. com o  ⁇ nico fabricante de pós-pós-pós-pós-pós-pós-pós-pós-p', 'Institutos em Pereira (Risaralda, Colômbia) Faculdades e escolas em Risaralda', 'Mineraç ⁇ o: equipamentos e suprimentos em Yugo-Zapadny okrug, Moscouem Nairobi-vindas.net-boa.net-boa.net-boa.net', '• Previs ⁇ o correta do serviço', 'Quando falamos a mesma linguagem é porque temos a mesma m ⁇ e. E isto nos dá esperança.', 'Vários tipos de acomodaç ⁇ es dispon ⁇ veis para seu alojamento em Carvoeiro: apartamentos de luxo ou hotéis carvoeiro baratos, e também cama & breakfast. em Carvoeiro. em Carvoeiro: apartamentos de luxo ou hotéis', 'As profecias sobre este s ⁇ o gravadas nos dias 38 e 39o capitulo de Ezequil. Verso 8 do capitulo 38 é abordado a Israel, e li: “Depois de muitos dias será visitado; nos  ⁇ ltimos anos vir ⁇ o na terra que é', 'A Casa imediatamente se tornou lugar de cult e em torno dele desenvolveu o médio Loreto: a parede incr ⁇ vel projetada por Antonio da Sangallo il Giovane foram erradas em 1518 e reforçada com quatro bastions em 1600.', 'N ⁇ o havia outro poder pelo qual poderia ser entregue. a córdula. como os quais eles poderiam ser entregue.', 'Qualidade é um m ⁇ nimo para nós e estamos sempre procurando maneiras/acessórios para nos ajudar a entregar o melhor.', 'A forma tinha se tornou concentrada e engraçada. Eu rii: em efeito. em efeito. em efeito: em efeito.', 'Embora n ⁇ o é completamente certo, muitos chefes brasileiros concordam que a picanha cortada ocorreu no Rio Grande do Sul, o estado mais sul do Brasil, famoso por seu churrasco.', 'A condiç ⁇ o de aceitaç ⁇ o completa em cada hora no processo de ajuste do primeiro bloco da oferta de venda significa que apenas o primeiro bloco será programado em uma hora espec ⁇ fica se n ⁇ o é ligado completamente, e todos os bloc', 'Agora Davi, filho de Jesse reinou sobre todo o Israel. em cima de cima de cima de Davi. em cima de cima de cima de cima de cima de cima de cima de cima de cima de Davi', 'O raz ⁇ o e os pensamentos do cérebro no processo de fazer decis ⁇ o.', 'Em outros fragmentos evangelizais, Jesus refere-se à falta de fé de seus seguidores. o mesmo Jesus é o mesmo Jesus é o mesmo Jesus é a falta de f', '3 Jesus sabendo que o Pai tinha dado todas as coisas em suas m ⁇ os, e que ele era de Deus, e foi a Deus;', \"Como jogar o jogo de Peppy's Thandie Newton Vestir:\", 'Fabricaç ⁇ o de artigos de couro.... em cinza em San Juan', 'Os valores do parâmetro variam de 0 a 200%.', 'Downloads de software relacionados com a extens ⁇ o de arquivo RB:', 'Os Estados Contratados podem recusar reconhecer um diário ou separaç ⁇ o legal se é incompat ⁇ vel com uma decis ⁇ o anterior determinando o status matrimonial dos cônjuges e a decis ⁇ o é feita no Estado em que a reconhecimento é procurada,', \"Com uma localizaç ⁇ o em cima do Grand Place e do centro histórico de Brussels, o Ibis Brussels Off Grand'Place oferece um acesso direto ao aeroporto internacional pela estaç ⁇ o ferroviária.\", 'A mapa energética descobri todas as perturbaç ⁇ es geológicas subterrâneas, perturbaç ⁇ es que foram usadas para beneficiar os locais e aumentar muito o n ⁇ vel de energia. em medida em medida em medida em', 'Malaria O que você pode fazer', 'A PLEASURE do Santo Padre Thomas Aquinas ou SEC ⁇ O OLIVA DOMINICAN?. Esperamos que o Santo Padre, com ajuda do Esp ⁇ rito Santo, tem o poder de unir o mundo católico, hoje [...]', 'Naquela noite José, Maria, e Jesus caminhou uma milha e uma metade ao local do antigo Jericó, onde Josuéu, por quem Jesus foi nomeado, tinha realizado suas exploitas com a tradiç ⁇ o judicana.', 'O principal objetivo da miss ⁇ o será trazer um módulo russo Rassvet Mini-Research. Este será a  ⁇ ltima viagem do Shuttle Atlantis e [...]', 'Eu pinto-os com epoxi para que n ⁇ o eram molhados com a condenaç ⁇ o da tenda. em epoxi para que n ⁇ o sa ⁇ am com a condens ⁇ o da tenda. ', 'Recuperaç ⁇ o de Res ⁇ duos em Santa Clara (Villa Clara, Cuba) - Amarillascuba.net', 'Nossa experiência com processos de separaç ⁇ o em refinarias...linha em...linha em...linha em San Juan ', '(4) Nossas condiç ⁇ es gerais de compra também s ⁇ o requer relaç ⁇ es futuras com o fornecedor. a qualquer relaç ⁇ o de negócios futuras com o fornecedor. os nossos condiç ⁇ es', 'Em km 31, os verde intensos dos fluxos a essa ela começa a cruzar o limite do sul da gama de Montanha do vento, com uma formaç ⁇ o montanha de endereço ao norte-sul, tem o seu fim norte para o vulc ⁇ o Domuyo.', 'Cortinas de uso  ⁇ nico feitas de tecidos da posiç ⁇ o 5603, de um tipo utilizado durante procedimentos cir ⁇ rgicos 6307 90 92 em código em cinza em cinza em cinza em cin', 'Há 6 dias 10:01 XCafe esporradela, esporradela, caseira, caseira, esporradela, esporradela, esporradela, esporradela, esporradelaa, esporradelacacacacacacacacacacacacaca ', 'Excepcionalmente 120 sacerdotes jogaram trombetas na consagraç ⁇ o do templo de Salom ⁇ o.']\n",
            "tensor(21.4380)\n",
            "--------------------------------------------------------------------------------\n",
            "TEST RESULTS\n",
            "{'avg_test_bleu': tensor(22.6276)}\n",
            "--------------------------------------------------------------------------------\n",
            "\n"
          ],
          "name": "stdout"
        }
      ]
    },
    {
      "cell_type": "markdown",
      "metadata": {
        "id": "k7PrrQPVJPPQ",
        "colab_type": "text"
      },
      "source": [
        "### Top-k"
      ]
    },
    {
      "cell_type": "code",
      "metadata": {
        "id": "Oq3VsOC-JXmf",
        "colab_type": "code",
        "colab": {
          "base_uri": "https://localhost:8080/",
          "height": 254,
          "referenced_widgets": [
            "cf7d0d598f68406a9d60f2900429fc1b",
            "056b3191a1854a349f10677bcea300ab",
            "00b1a1b5c4c54c028d18b3d20a8541de",
            "298d46bc077e446ebaa253c20265313e",
            "16879b87f74f414c87f878a081c3c1e6",
            "1af254a5d8be4a5ba678d7db57043b46",
            "e0149b86ec084b958fb121ad8679cf79",
            "fc113cafa94548db98dbb96c31217e81"
          ]
        },
        "outputId": "de9972fa-6241-47b7-d960-0eb06b3e073c"
      },
      "source": [
        "model.decoder = 'top-k'\n",
        "model.k = 1\n",
        "model.hugging_face = False\n",
        "#------------------------------------------------------\n",
        "trainer_decoder_comparison.test(model)"
      ],
      "execution_count": 43,
      "outputs": [
        {
          "output_type": "display_data",
          "data": {
            "application/vnd.jupyter.widget-view+json": {
              "model_id": "cf7d0d598f68406a9d60f2900429fc1b",
              "version_minor": 0,
              "version_major": 2
            },
            "text/plain": [
              "HBox(children=(FloatProgress(value=1.0, bar_style='info', description='Testing', layout=Layout(flex='2'), max=…"
            ]
          },
          "metadata": {
            "tags": []
          }
        },
        {
          "output_type": "stream",
          "text": [
            "('In this way, the civil life of a nation matures, making it possible for all citizens to enjoy the fruits of genuine tolerance and mutual respect.', '1999 XIII. Winnipeg, Canada July 23 to August 8', \"In the mystery of Christmas, Christ's light shines on the earth, spreading, as it were, in concentric circles.\", 'making it viable to drill two new boreholes in the west of that peninsula.', 'His eyes were shining and his voice was cheerful.', 'Injuries, accidents, bereavement, abuse, separation, shock, rape, bullying, harassment, stress, depression, anxiety, eating.', 'Whiteness HP Maxx is a 35% hydrogen peroxide whitening gel for the whitening of vital and non-vital teeth.', 'Lines: with indication of Line Number, From and To ends, insulation, the P&ID where they are drawn.', 'The cruises depart from Manaus, capital of the State of Amazonas, a city in the jungle that prospered during the rubber boom last century and where you will find a smaller copy of the Opera House in Paris, France. There is a choice of a three or four days cruises, both of which include the “Meeting of the Waters”, where the Rio Negro and the Amazon River converge.', 'By bringing 9/11 out into the open they ensured that it was given worldwide attention, and that the truth would be sought and the perpetrators identified and held to account.', '“Like Williams, Cosworth is an independent company whose owners share our passion for racing and engineering.', 'However, this can be avoided if infiltration is subepithelial.', 'Publication Type English: Bibliography', \"Program Modification: Sometimes, not only virus Worm:Win32/Dedler.F or malware SWiJ SideWinder but also common softwares possessing the ability to modify the inner functions of FXUCU001.DLL, which means other programs can't find this DLL file again.\", 'In some cases QuickTime media player halts smooth running of the MOV video due to some corruption issues.', 'He is currently Professor of Political Science at the University Pompeu Fabra in Barcelona.', 'Cosmetic additives must not penetrate.', 'Comments for Highway condom test', 'How do I obtain an extension of my student authorization?', 'Enough of US intervention in Latin !.', 'Nabertherm with 450 employees worldwide have been developing and producing industrial furnaces for many different applications for over 60 years. As a manufacturer, Nabertherm offers the widest and deepest range of furnaces worldwide.', \"We call these chemicals 'elements'.\", 'Expert Review – coordination of teams of selected experts for the independent evaluation of complex environmental studies.', 'Thereto there is a luggage storage room provided in the hostel.', 'This is a update module, must works together with Micronas OBD TOOL (CDC32XX) cable, cannot works alone.', '116 So exalted be Allah, the True King; no god is there but He, the Lord of the honorable dominion.', 'Technological education in Arequipa', 'Andinia.com - Outdoor Dictionary: Messan', 'VEMAG is the only manufacturer of vacuum fillers that complies with USDA requirements ex works.', 'Institutes in Pereira (Risaralda, Colombia) Colleges and schools in Risaralda', 'Mining equipment and supplies in Yugo-Zapadny okrug, Moscow', '• Correct provision of the service', 'When we speak the same language it is because we have the same mother. And this gives us hope.', 'Several kinds of accommodations available for your lodging in Carvoeiro: apartments, luxury or cheap Carvoeiro hotels, and also bed & breakfast.', 'Prophecies concerning this are recorded in the 38th and 39th chapters of Ezekiel. Verse 8 of chapter 38 is addressed to Israel, and reads, “After many days thou shalt be visited: in the latter years thou shalt come into the land that is brought back from the sword, and is gathered out of many people, against the mountains of Israel, which have been always waste: but it is brought forth out of the nations, and they shall dwell safely all of them.”', 'The House immediately became place of cult and around to it developed the medieval Loreto: the impressive wall projected by Antonio da Sangallo il Giovane were erected in 1518 and reinforced with four bastions in 1600.', 'There was no other power by which they could be delivered.', 'Quality is a must for us and we are always looking for ways/tools to help us to delivery the best.', 'The form had become focused and funny. I laughed:', 'Although it is not completely certain, many Brazilian chefs agree that the picanha cut originated in Rio Grande do Sul, the southernmost state of Brazil, famous for its churrasco.', 'The condition of complete acceptance in each hour in the matching process of the first block of the sale bid means that only the first block will be programmed in a specific hour if it is not matched completely, and all the blocks in that hour will be withdrawn and not the bid presented for the other hours.', 'Now David the son of Jesse reigned over all Israel.', 'The brain’s reasoning and thoughts in the decision-making process.', 'In other evangelic fragments the same Jesus refers to the lack of faith of his followers.', '3 Jesus knowing that the Father had given all things into his hands, and that he was come from God, and went to God;', \"How to play Peppy' s Thandie Newton Dress Up:\", 'Manufacture of leather goods....', 'The values of the parameter vary from 0 to 200%.', 'Software Downloads Associated with File Extension RB:', 'Contracting States may refuse to recognise a divorce or legal separation if it is incompatible with a previous decision determining the matrimonial status of the spouses and that decision either was rendered in the State in which recognition is sought, or is recognised, or fulfils the conditions required for recognition, in that State.', \"With a top location at the Grand Place and the historical center of Brussels, the Ibis Brussels Off Grand'Place offers a direct access towards the international airport by the railway station.\", 'Energetic mapping uncovers all geology disturbances underground, disturbances which were used to benefit the locations and greatly increase their energy level.', 'Malaria What You Can Do', 'THE PLEASURE OF HOMOSEXUAL SECOND Saint Thomas Aquinas OR SECOND THE DOMINICAN ADRIANO OLIVA? . We hope that the Holy Father, with the help of the Holy Spirit, has the power to unite the Catholic world, today […]', 'That evening Joseph, Mary, and Jesus walked a mile and a half to the site of the ancient Jericho, where Joshua, for whom Jesus was named, had performed his renowned exploits, according to Jewish tradition.', 'The main objective of the mission will be to bring a Russian module Rassvet Mini-Research Module. This will be the last trip of the Shuttle Atlantis, and [...]', 'I paints them with epoxi so that they were not wet with the condensation of the tent.', 'Waste recycling in Santa Clara (Villa Clara, Cuba) - Amarillascuba.net', 'Our experience with separation processes in refineries ...', '(4) Our General Conditions of Purchase shall also apply for any future business relations with the supplier.', 'In km 31, the intense greens of the streams sink to the coloring and it begins to cross the south limit of the Mountain range of the Wind, with a mountain formation of address north-south, has their north end for the volcano Domuyo.', 'Single-use drapes made up of fabrics of heading 5603, of a kind used during surgical procedures 6307 90 92', '6 days ago 10:01 XCafe blowjob, whore, dogging, homemade, facial, German, milf', 'Exceptionally, 120 priests played trumpets at the consecration of Solomon’s Temple.')\n",
            "('Deste modo, a vida civil de uma nação amadurece, fazendo com que todos os cidadãos gozem dos frutos da tolerância genuína e do respeito mútuo.', '1999 XIII. Winnipeg, Canadá 23 de julho a 8 de agosto', 'No mistério do Natal, a luz de Cristo irradia-se sobre a terra, difundindo-se como círculos concêntricos.', 'e tem o objetivo de viabilizar a perfuração de dois novos furos no ocidente da citada península.', 'Seus olhos brilhavam e sua voz era alegre.', 'Lesões, acidentes, luto, abuso, separação, choque, violação, assédio moral, assédio, stress, depressão, ansiedade, comer.', 'Whiteness HP Maxx é um clareador à base de peróxido de hidrogênio a 35% para clareamento de dentes vitais e não vitais.', 'Linhas: com indicação do número de linha, as extremidades, o isolamento, o P&ID onde estão desenhadas.', 'O Desafio parte de Manaus, capital do estado do Amazonas, uma cidade próspera pelo auge da borracha no séc.XIX, e onde se encontra uma cópia em menores proporções da Casa de Ópera de Paris, na França. Existe a possibilidade de 3 ou 4 dias de cruzeiro, dos que só incluem o encontro com as águas , onde o Rio Solimões e Negro se unem sem mesclar suas águas.', 'Ao trazer o assunto sobre o 9/11 para a ribalta asseguram que seja dada atenção mundial, e que a verdade seja pesquisada e tida em conta.', '“Como a Williams, Cosworth é uma empresa independente cujos donos partilham a nossa paixão pelas corridas e engenharia.', 'Contudo, isto pode ser evitado com uma infiltração subepitelial.', 'Tipo de Publicação Inglês: Bibliography', 'Modificação do Programa: Às vezes, o vírus Virus:DOS/Clonewar_252.C, malware History Killer Pro e softwares comuns têm a capacidade de modificar as funções de FXUCU001.DLL. Esta situação faria outros programas não podem encontrar este arquivo DLL.', 'Em alguns casos, media player QuickTime interrompe o bom funcionamento do vídeo MOV, devido a alguns problemas de corrupção.', 'Atualmente é professor de Ciência Política na Universidade Pompeu Fabra em Barcelona.', 'Aditivos cosméticos não devem penetrar.', 'Comentários para o teste do preservativo da estrada', 'Como eu obtenho a extensão de minha Permissão de Estudos?', 'Chega de intervenção dos EUA na América Latina!.', 'A Nabertherm desenvolve e produz com os seus 450 colaboradores a nível mundial, desde há mais de 60 anos, fornos industriais para as mais diferentes áreas de aplicação.', \"Chamamos a essas substâncias de 'elementos'.\", 'Revisão Independente por Peritos (Independent Peer Review)- coordenação de equipas de especialistas para a avaliação independente de estudos ambientais complexos.', 'Da mesma existe uma sala de bagagem prevista no albergue.', 'Este é um módulo de atualização, deve trabalha em conjunto com cabo Micronas OBD TOOL (CDC32XX), não trabalha sozinha.', \"116 Exaltado seja Deus, Verdadeiro, Soberano! Não há mais divindade além d'Ele, Senhor do honorável Trono!\", 'Educação tecnológica em Peru', 'Andinia.com - Dicionário ao ar livre: Messan', 'A VEMAG é a única fabricante de preenchedoras a vácuo que está em conformidade com as exigências do USDA ex works.', 'Escolas pré-universitário em Pereira (Risaralda, Colômbia)', 'Mineração: equipamentos e suprimentos em Yugo-Zapadny okrug, Moscú', '• A correcta prestação do serviço', 'Quando se fala a mesma língua é porque se tem a mesma mãe, e isto dá-nos esperança.', 'Vários tipos de acomodações disponíveis para o seu alojamento em Carvoeiro: apartamentos de luxo ou hotéis baratos Carvoeiro, e também bed & breakfast.', 'As profecias sobre este assunto estão registradas nos capítulos 38 e 39 de Ezequiel. O versículo 8 do capítulo 38 é dirigida a Israel, e diz: “ Depois de muitos dias serás visitado. No fim dos anos virás à terra que se recuperou da espada, e que foi congregada dentre muitos povos, junto aos montes de Israel, que sempre se faziam desertos; mas aquela terra foi tirada dentre as nações, e todas elas habitarão seguramente.”', 'A Casa torna-se imediatamente lugar de culto e ao redor desta se desenvolvem todas as habitações da Loreto medieval: as imponentes muralhas projetadas por Antonio da Sangallo il Giovane foram erguidas em 1518 e reforçadas com quatro bastiões, 1600.', 'Nenhum outro poder havia pelo qual pudesse ser libertado.', 'A qualidade é primordial para nós e estamos sempre à procura de maneiras/ferramentas para nos ajudar a entregar o melhor.', 'A forma tinha-se tornado o foco e engraçado. Eu ri:', 'Apesar de não estar comprovado, muitos cozinheiros brasileiros concordam que a picanha foi originada doRio Grande do Sul, um estado famoso pelos seus churrascos.', 'A condição de aceitação completa em cada hora na concertação do primeiro lanço da oferta de venda, implica que só será programada, numa hora determinada, o primeiro lanço em caso de ser concertado na sua totalidade, sendo retiradas todos os lanços para a referida hora, não sendo retirada a oferta realizada para as restantes horas.', 'Assim Davi, filho de Jessé, reinou sobre todo o Israel.', 'As reflexões e pensamentos do cérebro no processo de tomada de decisões da vontade.', 'Em outros fragmentos evangélicos, Jesus Cristo mesmo lamenta a falta de fé de seus seguidores.', '3 Jesus, sabendo que o Pai tinha depositado nas suas mãos todas as coisas, e que havia saído de Deus e ia para Deus,', 'Como jogar Peppy s vestir-se Thandie Newton:', 'Fabricação de artigos de couro....', 'Os valores do parâmetro varia de 0 a 200%.', 'Downloads de Software Associados à Extensão de Ficheiro RB:', 'Qualquer Estado contratante pode recusar o reconhecimento de um divórcio ou de uma separação de pessoas se eles forem incompatíveis com uma decisão anterior cujo objectivo principal fosse o estado matrimonial dos cônjuges, quer proferida no Estado em que o reconhecimento foi invocado quer reconhecida ou reunindo as condições de reconhecimento neste Estado.', \"Com uma excelente localização na Grand Place e no centro histórico de Bruxelas, o ibis Brussels Off Grand'Place oferece acesso direto ao aeroporto internacional pela estação ferroviária.\", 'O mapeamento energético demonstra todas as perturbações geológicas subterrâneas, perturbações essas que eram usadas para beneficiar os locais e elevar grandemente o seu nível energético.', 'Malária O que você pode fazer', 'O PRAZER DE HOMOSSEXUAL SEGUNDA Santo Tomás de Aquino ou o segundo o dominicano ADRIANO OLIVA? . Esperamos que o Santo Padre, com a ajuda do Espírito Santo, tem o poder de unir o mundo católico, hoje […]', 'Naquela noite José, Maria e Jesus caminharam, por cerca de três quilômetros, até o local antigo de Jericó, onde Joshua, cujo nome foi dado a Jesus, tinha realizado as suas renomadas façanhas, de acordo com a tradição judaica.', 'O principal objetivo da missão terá um módulo russo RASSVET Mini-Módulo de Investigação. Esta será a última viagem do ônibus espacial Atlantis, e [...]', 'Pintei com epoxi para não se molharem com a condensação do barraco.', 'Saneamento ambiental em Cifuentes (Villa Clara, Cuba) - Amarillascuba.net', 'Nossa experiência com processos de separação em refinarias ...', '(4) Os nossos termos e condições de compra ainda terão vigor em todos os negócios futuros com o fornecedor.ier.', 'Em km 31, os intensos verdes dos fluxos afundam à coloração e começa a cruzar o limite sul da gama Montesa do Vento, com uma formação montesa de endereço norte-sul, tem o norte terminar para o vulcão Domuyo.', 'Lençóis descartáveis confecionados com matérias da posição5603, do tipo utilizado durante as intervenções cirúrgicas 6307 90 92', 'Há 6 dias 10:01 XCafe sexo oral, putas, posição de cachorro, caseiras, ejaculação na cara, alemão, milf', 'Excepcionalmente, 120 sacerdotes tocaram trombetas na consagração do Templo de Salomão.')\n",
            "['Desta forma, a vida civil de uma naç ⁇ o se avança, tornando-o poss ⁇ vel para todos os cidad ⁇ os desfrutar dos frutos de tolerância verdadeira e respeito mutual.', '1999 XIII. Winnipeg, Canadá 23 a 8 de agosto', 'No mistério do Natal, a luz de Cristo brilha na terra, esporrendo-se, como era, em c ⁇ rculos concêncios.', 'fazendo viável fazer o ocidental dois novos fechados no ocidente daquela pen ⁇ nsula. ocidental. ocidental. ocidentalmente ocidental.', 'Os seus olhos estavam brilhantes e a sua voz foi linda.', 'Inferiç ⁇ es, acidentes, abuso, abuso, separaç ⁇ o, choque, rapaçamento, abuso, abuso, abuso, abuso, abuso, abuso, apress ⁇ o, apress ⁇ o, a ansiedade, abuso, alimentaç ⁇ o.', 'A branque HP Maxx é um gel de clareamento de hidrogénio de 35% para o clareamento de dentes vitales e n ⁇ o-vitais. como o l ⁇ gel de enxernamento de hidro ⁇ dio de 35% ao', 'Linhas: com indicaç ⁇ o do n ⁇ mero de linha, De e a fim, isolamento, o P&ID onde eles s ⁇ o trazidas.', 'As crucificades sa ⁇ am de Manaus, capital do Estado de Amazonas, uma cidade na jungle que prosperou durante o bólvulo em século passado e onde você encontrará uma cópia menor da Opera House em Paris, França. Há uma', 'Ao trazer os 9/11 aos abertos eles garantiram que era dada atenç ⁇ o mundial, e que a verdade seria buscada e os atentantes identificou e os ataqueiados..', '“Like Williams, Cosworth é uma empresa independente, cujos proprietários compartilham nossa paix ⁇ o pela corrida e engenharia. em escritório. em escritório. em escritório. em', 'No entanto, isto pode ser evitado se a infiltraç ⁇ o é subepithelial. ', 'Tipo de Publicaç ⁇ o Português: Bibliografia)', 'Modificaç ⁇ o do Programa:  ⁇ s vezes, v ⁇ rus Worm:Win32/Dedler.F ou malware SWiJ SideWinder, mas também softwares comuns têm a capacidade de modificar as funç ⁇ es internas de FXUCU001.DLL, o que significa que outros programas n ⁇ o podem', 'Em alguns casos o jogador de m ⁇ dia QuickTime acabou o funcionamento liso do v ⁇ deo MOV devido a alguns problemas de corrupç ⁇ o.', 'Ele é professor de Ciência Pol ⁇ tica da Universidade Pompeu Fabra em Barcelona. em Barcelona. em Barcelona. em Barcelona. em Barcelona. em Barcelona. em Barcelona. em Barcelona.', 'Aditivos cosméticos n ⁇ o devem perder......', 'Comentários para teste de preservativo de Estrada', 'Como eu obter uma extens ⁇ o da minha autorizaç ⁇ o estudante?', 'A  ⁇ ndia da intervenç ⁇ o dos EUA em l ⁇ ngua!', 'Nabertherm com 450 funcionários em todo o mundo est ⁇ o desenvolvidos e produzindo fornos industriais para muitos aplicaç ⁇ es diferentes para mais de 60 anos. Como fabricante, Nabertherm oferece a maior gama de fornos mundanos.', \"Nós chamamos essas qu ⁇ micas 'elementos'. em breve. em breve. \", 'Avaliaç ⁇ o especializada – coordenaç ⁇ o de equipes de especialistas selecionados para a avaliaç ⁇ o independente de estudos ambientais complexos.', 'Existe uma sala de armazenamento de bagagem fornecida no hostel. a acesso a acessória. a acessória a acessória. a a', 'Este é um módulo de atualizaç ⁇ o, deve trabalhar junto com cabo Micronas OBD TOOL (CDC32XX), n ⁇ o pode funcionar sozinho.', '116 Ent ⁇ o seja a Deus, o verdadeiro Rei; n ⁇ o é lá, mas Ele, o Senhor do dominion honrável. a cima de cima. a cima de cima. a cima de cima. a c', 'Educaç ⁇ o tecnológica em Arequipa.....', 'Andinia.com - Dicionário ao ar livre: Messan', 'VEMAG é o  ⁇ nico fabricante de reservadores de pó de pó que cumprir com os requisitos da USDA ex trabalhos. com o  ⁇ nico fabricante de pós-pós-pós-pós-pós-pós-pós-pós-p', 'Institutos em Pereira (Risaralda, Colômbia) Faculdades e escolas em Risaralda', 'Mineraç ⁇ o: equipamentos e suprimentos em Yugo-Zapadny okrug, Moscouem Nairobi-vindas.net-boa.net-boa.net-boa.net', '• Previs ⁇ o correta do serviço', 'Quando falamos a mesma linguagem é porque temos a mesma m ⁇ e. E isto nos dá esperança.', 'Vários tipos de acomodaç ⁇ es dispon ⁇ veis para seu alojamento em Carvoeiro: apartamentos de luxo ou hotéis carvoeiro baratos, e também cama & breakfast. em Carvoeiro. em Carvoeiro: apartamentos de luxo ou hotéis', 'As profecias sobre este s ⁇ o gravadas nos dias 38 e 39o capitulo de Ezequil. Verso 8 do capitulo 38 é abordado a Israel, e li: “Depois de muitos dias será visitado; nos  ⁇ ltimos anos vir ⁇ o na terra que é', 'A Casa imediatamente se tornou lugar de cult e em torno dele desenvolveu o médio Loreto: a parede incr ⁇ vel projetada por Antonio da Sangallo il Giovane foram erradas em 1518 e reforçada com quatro bastions em 1600.', 'N ⁇ o havia outro poder pelo qual poderia ser entregue. a córdula. como os quais eles poderiam ser entregue.', 'Qualidade é um m ⁇ nimo para nós e estamos sempre procurando maneiras/acessórios para nos ajudar a entregar o melhor.', 'A forma tinha se tornou concentrada e engraçada. Eu rii: em efeito. em efeito. em efeito: em efeito.', 'Embora n ⁇ o é completamente certo, muitos chefes brasileiros concordam que a picanha cortada ocorreu no Rio Grande do Sul, o estado mais sul do Brasil, famoso por seu churrasco.', 'A condiç ⁇ o de aceitaç ⁇ o completa em cada hora no processo de ajuste do primeiro bloco da oferta de venda significa que apenas o primeiro bloco será programado em uma hora espec ⁇ fica se n ⁇ o é ligado completamente, e todos os bloc', 'Agora Davi, filho de Jesse reinou sobre todo o Israel. em cima de cima de cima de Davi. em cima de cima de cima de cima de cima de cima de cima de cima de cima de Davi', 'O raz ⁇ o e os pensamentos do cérebro no processo de fazer decis ⁇ o.', 'Em outros fragmentos evangelizais, Jesus refere-se à falta de fé de seus seguidores. o mesmo Jesus é o mesmo Jesus é o mesmo Jesus é a falta de f', '3 Jesus sabendo que o Pai tinha dado todas as coisas em suas m ⁇ os, e que ele era de Deus, e foi a Deus;', \"Como jogar o jogo de Peppy's Thandie Newton Vestir:\", 'Fabricaç ⁇ o de artigos de couro.... em cinza em San Juan', 'Os valores do parâmetro variam de 0 a 200%.', 'Downloads de software relacionados com a extens ⁇ o de arquivo RB:', 'Os Estados Contratados podem recusar reconhecer um diário ou separaç ⁇ o legal se é incompat ⁇ vel com uma decis ⁇ o anterior determinando o status matrimonial dos cônjuges e a decis ⁇ o é feita no Estado em que a reconhecimento é procurada,', \"Com uma localizaç ⁇ o em cima do Grand Place e do centro histórico de Brussels, o Ibis Brussels Off Grand'Place oferece um acesso direto ao aeroporto internacional pela estaç ⁇ o ferroviária.\", 'A mapa energética descobri todas as perturbaç ⁇ es geológicas subterrâneas, perturbaç ⁇ es que foram usadas para beneficiar os locais e aumentar muito o n ⁇ vel de energia. em medida em medida em medida em', 'Malaria O que você pode fazer', 'A PLEASURE do Santo Padre Thomas Aquinas ou SEC ⁇ O OLIVA DOMINICAN?. Esperamos que o Santo Padre, com ajuda do Esp ⁇ rito Santo, tem o poder de unir o mundo católico, hoje [...]', 'Naquela noite José, Maria, e Jesus caminhou uma milha e uma metade ao local do antigo Jericó, onde Josuéu, por quem Jesus foi nomeado, tinha realizado suas exploitas com a tradiç ⁇ o judicana.', 'O principal objetivo da miss ⁇ o será trazer um módulo russo Rassvet Mini-Research. Este será a  ⁇ ltima viagem do Shuttle Atlantis e [...]', 'Eu pinto-os com epoxi para que n ⁇ o eram molhados com a condenaç ⁇ o da tenda. em epoxi para que n ⁇ o sa ⁇ am com a condens ⁇ o da tenda. ', 'Recuperaç ⁇ o de Res ⁇ duos em Santa Clara (Villa Clara, Cuba) - Amarillascuba.net', 'Nossa experiência com processos de separaç ⁇ o em refinarias...linha em...linha em...linha em San Juan ', '(4) Nossas condiç ⁇ es gerais de compra também s ⁇ o requer relaç ⁇ es futuras com o fornecedor. a qualquer relaç ⁇ o de negócios futuras com o fornecedor. os nossos condiç ⁇ es', 'Em km 31, os verde intensos dos fluxos a essa ela começa a cruzar o limite do sul da gama de Montanha do vento, com uma formaç ⁇ o montanha de endereço ao norte-sul, tem o seu fim norte para o vulc ⁇ o Domuyo.', 'Cortinas de uso  ⁇ nico feitas de tecidos da posiç ⁇ o 5603, de um tipo utilizado durante procedimentos cir ⁇ rgicos 6307 90 92 em código em cinza em cinza em cinza em cin', 'Há 6 dias 10:01 XCafe esporradela, esporradela, caseira, caseira, esporradela, esporradela, esporradela, esporradela, esporradelaa, esporradelacacacacacacacacacacacacaca ', 'Excepcionalmente 120 sacerdotes jogaram trombetas na consagraç ⁇ o do templo de Salom ⁇ o.']\n",
            "tensor(21.4380)\n",
            "--------------------------------------------------------------------------------\n",
            "TEST RESULTS\n",
            "{'avg_test_bleu': tensor(22.6276)}\n",
            "--------------------------------------------------------------------------------\n",
            "\n"
          ],
          "name": "stdout"
        }
      ]
    },
    {
      "cell_type": "markdown",
      "metadata": {
        "id": "UXPDEBAuJPEt",
        "colab_type": "text"
      },
      "source": [
        "### Nucleus Sampling"
      ]
    },
    {
      "cell_type": "code",
      "metadata": {
        "id": "_zVNxZE-JWSU",
        "colab_type": "code",
        "colab": {
          "base_uri": "https://localhost:8080/",
          "height": 254,
          "referenced_widgets": [
            "9371433bf2d845a1a255c40aee9ffdca",
            "17e889d94330421a9caefcff4cdc3226",
            "b666d9456652434484888154fdf8a734",
            "f3eb093e70f74200a143ffa9cc2c11ac",
            "abc5c0d7a2e94ef88107b6c65e6b183b",
            "a45c033f1c4345c7987d56618a3c40ac",
            "b70b2d5a32f4474ea96b34d82989c2db",
            "42f533b34c994c768dbcdf9be6e26461"
          ]
        },
        "outputId": "2a8f6f64-3c77-418c-c447-ce23ad7c6d04"
      },
      "source": [
        "model.decoder = 'top-p'\n",
        "model.p = 0.01\n",
        "model.hugging_face = False\n",
        "#------------------------------------------------------\n",
        "trainer_decoder_comparison.test(model)"
      ],
      "execution_count": 44,
      "outputs": [
        {
          "output_type": "display_data",
          "data": {
            "application/vnd.jupyter.widget-view+json": {
              "model_id": "9371433bf2d845a1a255c40aee9ffdca",
              "version_minor": 0,
              "version_major": 2
            },
            "text/plain": [
              "HBox(children=(FloatProgress(value=1.0, bar_style='info', description='Testing', layout=Layout(flex='2'), max=…"
            ]
          },
          "metadata": {
            "tags": []
          }
        },
        {
          "output_type": "stream",
          "text": [
            "('In this way, the civil life of a nation matures, making it possible for all citizens to enjoy the fruits of genuine tolerance and mutual respect.', '1999 XIII. Winnipeg, Canada July 23 to August 8', \"In the mystery of Christmas, Christ's light shines on the earth, spreading, as it were, in concentric circles.\", 'making it viable to drill two new boreholes in the west of that peninsula.', 'His eyes were shining and his voice was cheerful.', 'Injuries, accidents, bereavement, abuse, separation, shock, rape, bullying, harassment, stress, depression, anxiety, eating.', 'Whiteness HP Maxx is a 35% hydrogen peroxide whitening gel for the whitening of vital and non-vital teeth.', 'Lines: with indication of Line Number, From and To ends, insulation, the P&ID where they are drawn.', 'The cruises depart from Manaus, capital of the State of Amazonas, a city in the jungle that prospered during the rubber boom last century and where you will find a smaller copy of the Opera House in Paris, France. There is a choice of a three or four days cruises, both of which include the “Meeting of the Waters”, where the Rio Negro and the Amazon River converge.', 'By bringing 9/11 out into the open they ensured that it was given worldwide attention, and that the truth would be sought and the perpetrators identified and held to account.', '“Like Williams, Cosworth is an independent company whose owners share our passion for racing and engineering.', 'However, this can be avoided if infiltration is subepithelial.', 'Publication Type English: Bibliography', \"Program Modification: Sometimes, not only virus Worm:Win32/Dedler.F or malware SWiJ SideWinder but also common softwares possessing the ability to modify the inner functions of FXUCU001.DLL, which means other programs can't find this DLL file again.\", 'In some cases QuickTime media player halts smooth running of the MOV video due to some corruption issues.', 'He is currently Professor of Political Science at the University Pompeu Fabra in Barcelona.', 'Cosmetic additives must not penetrate.', 'Comments for Highway condom test', 'How do I obtain an extension of my student authorization?', 'Enough of US intervention in Latin !.', 'Nabertherm with 450 employees worldwide have been developing and producing industrial furnaces for many different applications for over 60 years. As a manufacturer, Nabertherm offers the widest and deepest range of furnaces worldwide.', \"We call these chemicals 'elements'.\", 'Expert Review – coordination of teams of selected experts for the independent evaluation of complex environmental studies.', 'Thereto there is a luggage storage room provided in the hostel.', 'This is a update module, must works together with Micronas OBD TOOL (CDC32XX) cable, cannot works alone.', '116 So exalted be Allah, the True King; no god is there but He, the Lord of the honorable dominion.', 'Technological education in Arequipa', 'Andinia.com - Outdoor Dictionary: Messan', 'VEMAG is the only manufacturer of vacuum fillers that complies with USDA requirements ex works.', 'Institutes in Pereira (Risaralda, Colombia) Colleges and schools in Risaralda', 'Mining equipment and supplies in Yugo-Zapadny okrug, Moscow', '• Correct provision of the service', 'When we speak the same language it is because we have the same mother. And this gives us hope.', 'Several kinds of accommodations available for your lodging in Carvoeiro: apartments, luxury or cheap Carvoeiro hotels, and also bed & breakfast.', 'Prophecies concerning this are recorded in the 38th and 39th chapters of Ezekiel. Verse 8 of chapter 38 is addressed to Israel, and reads, “After many days thou shalt be visited: in the latter years thou shalt come into the land that is brought back from the sword, and is gathered out of many people, against the mountains of Israel, which have been always waste: but it is brought forth out of the nations, and they shall dwell safely all of them.”', 'The House immediately became place of cult and around to it developed the medieval Loreto: the impressive wall projected by Antonio da Sangallo il Giovane were erected in 1518 and reinforced with four bastions in 1600.', 'There was no other power by which they could be delivered.', 'Quality is a must for us and we are always looking for ways/tools to help us to delivery the best.', 'The form had become focused and funny. I laughed:', 'Although it is not completely certain, many Brazilian chefs agree that the picanha cut originated in Rio Grande do Sul, the southernmost state of Brazil, famous for its churrasco.', 'The condition of complete acceptance in each hour in the matching process of the first block of the sale bid means that only the first block will be programmed in a specific hour if it is not matched completely, and all the blocks in that hour will be withdrawn and not the bid presented for the other hours.', 'Now David the son of Jesse reigned over all Israel.', 'The brain’s reasoning and thoughts in the decision-making process.', 'In other evangelic fragments the same Jesus refers to the lack of faith of his followers.', '3 Jesus knowing that the Father had given all things into his hands, and that he was come from God, and went to God;', \"How to play Peppy' s Thandie Newton Dress Up:\", 'Manufacture of leather goods....', 'The values of the parameter vary from 0 to 200%.', 'Software Downloads Associated with File Extension RB:', 'Contracting States may refuse to recognise a divorce or legal separation if it is incompatible with a previous decision determining the matrimonial status of the spouses and that decision either was rendered in the State in which recognition is sought, or is recognised, or fulfils the conditions required for recognition, in that State.', \"With a top location at the Grand Place and the historical center of Brussels, the Ibis Brussels Off Grand'Place offers a direct access towards the international airport by the railway station.\", 'Energetic mapping uncovers all geology disturbances underground, disturbances which were used to benefit the locations and greatly increase their energy level.', 'Malaria What You Can Do', 'THE PLEASURE OF HOMOSEXUAL SECOND Saint Thomas Aquinas OR SECOND THE DOMINICAN ADRIANO OLIVA? . We hope that the Holy Father, with the help of the Holy Spirit, has the power to unite the Catholic world, today […]', 'That evening Joseph, Mary, and Jesus walked a mile and a half to the site of the ancient Jericho, where Joshua, for whom Jesus was named, had performed his renowned exploits, according to Jewish tradition.', 'The main objective of the mission will be to bring a Russian module Rassvet Mini-Research Module. This will be the last trip of the Shuttle Atlantis, and [...]', 'I paints them with epoxi so that they were not wet with the condensation of the tent.', 'Waste recycling in Santa Clara (Villa Clara, Cuba) - Amarillascuba.net', 'Our experience with separation processes in refineries ...', '(4) Our General Conditions of Purchase shall also apply for any future business relations with the supplier.', 'In km 31, the intense greens of the streams sink to the coloring and it begins to cross the south limit of the Mountain range of the Wind, with a mountain formation of address north-south, has their north end for the volcano Domuyo.', 'Single-use drapes made up of fabrics of heading 5603, of a kind used during surgical procedures 6307 90 92', '6 days ago 10:01 XCafe blowjob, whore, dogging, homemade, facial, German, milf', 'Exceptionally, 120 priests played trumpets at the consecration of Solomon’s Temple.')\n",
            "('Deste modo, a vida civil de uma nação amadurece, fazendo com que todos os cidadãos gozem dos frutos da tolerância genuína e do respeito mútuo.', '1999 XIII. Winnipeg, Canadá 23 de julho a 8 de agosto', 'No mistério do Natal, a luz de Cristo irradia-se sobre a terra, difundindo-se como círculos concêntricos.', 'e tem o objetivo de viabilizar a perfuração de dois novos furos no ocidente da citada península.', 'Seus olhos brilhavam e sua voz era alegre.', 'Lesões, acidentes, luto, abuso, separação, choque, violação, assédio moral, assédio, stress, depressão, ansiedade, comer.', 'Whiteness HP Maxx é um clareador à base de peróxido de hidrogênio a 35% para clareamento de dentes vitais e não vitais.', 'Linhas: com indicação do número de linha, as extremidades, o isolamento, o P&ID onde estão desenhadas.', 'O Desafio parte de Manaus, capital do estado do Amazonas, uma cidade próspera pelo auge da borracha no séc.XIX, e onde se encontra uma cópia em menores proporções da Casa de Ópera de Paris, na França. Existe a possibilidade de 3 ou 4 dias de cruzeiro, dos que só incluem o encontro com as águas , onde o Rio Solimões e Negro se unem sem mesclar suas águas.', 'Ao trazer o assunto sobre o 9/11 para a ribalta asseguram que seja dada atenção mundial, e que a verdade seja pesquisada e tida em conta.', '“Como a Williams, Cosworth é uma empresa independente cujos donos partilham a nossa paixão pelas corridas e engenharia.', 'Contudo, isto pode ser evitado com uma infiltração subepitelial.', 'Tipo de Publicação Inglês: Bibliography', 'Modificação do Programa: Às vezes, o vírus Virus:DOS/Clonewar_252.C, malware History Killer Pro e softwares comuns têm a capacidade de modificar as funções de FXUCU001.DLL. Esta situação faria outros programas não podem encontrar este arquivo DLL.', 'Em alguns casos, media player QuickTime interrompe o bom funcionamento do vídeo MOV, devido a alguns problemas de corrupção.', 'Atualmente é professor de Ciência Política na Universidade Pompeu Fabra em Barcelona.', 'Aditivos cosméticos não devem penetrar.', 'Comentários para o teste do preservativo da estrada', 'Como eu obtenho a extensão de minha Permissão de Estudos?', 'Chega de intervenção dos EUA na América Latina!.', 'A Nabertherm desenvolve e produz com os seus 450 colaboradores a nível mundial, desde há mais de 60 anos, fornos industriais para as mais diferentes áreas de aplicação.', \"Chamamos a essas substâncias de 'elementos'.\", 'Revisão Independente por Peritos (Independent Peer Review)- coordenação de equipas de especialistas para a avaliação independente de estudos ambientais complexos.', 'Da mesma existe uma sala de bagagem prevista no albergue.', 'Este é um módulo de atualização, deve trabalha em conjunto com cabo Micronas OBD TOOL (CDC32XX), não trabalha sozinha.', \"116 Exaltado seja Deus, Verdadeiro, Soberano! Não há mais divindade além d'Ele, Senhor do honorável Trono!\", 'Educação tecnológica em Peru', 'Andinia.com - Dicionário ao ar livre: Messan', 'A VEMAG é a única fabricante de preenchedoras a vácuo que está em conformidade com as exigências do USDA ex works.', 'Escolas pré-universitário em Pereira (Risaralda, Colômbia)', 'Mineração: equipamentos e suprimentos em Yugo-Zapadny okrug, Moscú', '• A correcta prestação do serviço', 'Quando se fala a mesma língua é porque se tem a mesma mãe, e isto dá-nos esperança.', 'Vários tipos de acomodações disponíveis para o seu alojamento em Carvoeiro: apartamentos de luxo ou hotéis baratos Carvoeiro, e também bed & breakfast.', 'As profecias sobre este assunto estão registradas nos capítulos 38 e 39 de Ezequiel. O versículo 8 do capítulo 38 é dirigida a Israel, e diz: “ Depois de muitos dias serás visitado. No fim dos anos virás à terra que se recuperou da espada, e que foi congregada dentre muitos povos, junto aos montes de Israel, que sempre se faziam desertos; mas aquela terra foi tirada dentre as nações, e todas elas habitarão seguramente.”', 'A Casa torna-se imediatamente lugar de culto e ao redor desta se desenvolvem todas as habitações da Loreto medieval: as imponentes muralhas projetadas por Antonio da Sangallo il Giovane foram erguidas em 1518 e reforçadas com quatro bastiões, 1600.', 'Nenhum outro poder havia pelo qual pudesse ser libertado.', 'A qualidade é primordial para nós e estamos sempre à procura de maneiras/ferramentas para nos ajudar a entregar o melhor.', 'A forma tinha-se tornado o foco e engraçado. Eu ri:', 'Apesar de não estar comprovado, muitos cozinheiros brasileiros concordam que a picanha foi originada doRio Grande do Sul, um estado famoso pelos seus churrascos.', 'A condição de aceitação completa em cada hora na concertação do primeiro lanço da oferta de venda, implica que só será programada, numa hora determinada, o primeiro lanço em caso de ser concertado na sua totalidade, sendo retiradas todos os lanços para a referida hora, não sendo retirada a oferta realizada para as restantes horas.', 'Assim Davi, filho de Jessé, reinou sobre todo o Israel.', 'As reflexões e pensamentos do cérebro no processo de tomada de decisões da vontade.', 'Em outros fragmentos evangélicos, Jesus Cristo mesmo lamenta a falta de fé de seus seguidores.', '3 Jesus, sabendo que o Pai tinha depositado nas suas mãos todas as coisas, e que havia saído de Deus e ia para Deus,', 'Como jogar Peppy s vestir-se Thandie Newton:', 'Fabricação de artigos de couro....', 'Os valores do parâmetro varia de 0 a 200%.', 'Downloads de Software Associados à Extensão de Ficheiro RB:', 'Qualquer Estado contratante pode recusar o reconhecimento de um divórcio ou de uma separação de pessoas se eles forem incompatíveis com uma decisão anterior cujo objectivo principal fosse o estado matrimonial dos cônjuges, quer proferida no Estado em que o reconhecimento foi invocado quer reconhecida ou reunindo as condições de reconhecimento neste Estado.', \"Com uma excelente localização na Grand Place e no centro histórico de Bruxelas, o ibis Brussels Off Grand'Place oferece acesso direto ao aeroporto internacional pela estação ferroviária.\", 'O mapeamento energético demonstra todas as perturbações geológicas subterrâneas, perturbações essas que eram usadas para beneficiar os locais e elevar grandemente o seu nível energético.', 'Malária O que você pode fazer', 'O PRAZER DE HOMOSSEXUAL SEGUNDA Santo Tomás de Aquino ou o segundo o dominicano ADRIANO OLIVA? . Esperamos que o Santo Padre, com a ajuda do Espírito Santo, tem o poder de unir o mundo católico, hoje […]', 'Naquela noite José, Maria e Jesus caminharam, por cerca de três quilômetros, até o local antigo de Jericó, onde Joshua, cujo nome foi dado a Jesus, tinha realizado as suas renomadas façanhas, de acordo com a tradição judaica.', 'O principal objetivo da missão terá um módulo russo RASSVET Mini-Módulo de Investigação. Esta será a última viagem do ônibus espacial Atlantis, e [...]', 'Pintei com epoxi para não se molharem com a condensação do barraco.', 'Saneamento ambiental em Cifuentes (Villa Clara, Cuba) - Amarillascuba.net', 'Nossa experiência com processos de separação em refinarias ...', '(4) Os nossos termos e condições de compra ainda terão vigor em todos os negócios futuros com o fornecedor.ier.', 'Em km 31, os intensos verdes dos fluxos afundam à coloração e começa a cruzar o limite sul da gama Montesa do Vento, com uma formação montesa de endereço norte-sul, tem o norte terminar para o vulcão Domuyo.', 'Lençóis descartáveis confecionados com matérias da posição5603, do tipo utilizado durante as intervenções cirúrgicas 6307 90 92', 'Há 6 dias 10:01 XCafe sexo oral, putas, posição de cachorro, caseiras, ejaculação na cara, alemão, milf', 'Excepcionalmente, 120 sacerdotes tocaram trombetas na consagração do Templo de Salomão.')\n",
            "['Desta forma, a vida civil de uma naç ⁇ o se avança, tornando-o poss ⁇ vel para todos os cidad ⁇ os desfrutar dos frutos de tolerância verdadeira e respeito mutual.', '1999 XIII. Winnipeg, Canadá 23 a 8 de agosto', 'No mistério do Natal, a luz de Cristo brilha na terra, esporrendo-se, como era, em c ⁇ rculos concêncios.', 'fazendo viável fazer o ocidental dois novos fechados no ocidente daquela pen ⁇ nsula. ocidental. ocidental. ocidentalmente ocidental.', 'Os seus olhos estavam brilhantes e a sua voz foi linda.', 'Inferiç ⁇ es, acidentes, abuso, abuso, separaç ⁇ o, choque, rapaçamento, abuso, abuso, abuso, abuso, abuso, abuso, apress ⁇ o, apress ⁇ o, a ansiedade, abuso, alimentaç ⁇ o.', 'A branque HP Maxx é um gel de clareamento de hidrogénio de 35% para o clareamento de dentes vitales e n ⁇ o-vitais. como o l ⁇ gel de enxernamento de hidro ⁇ dio de 35% ao', 'Linhas: com indicaç ⁇ o do n ⁇ mero de linha, De e a fim, isolamento, o P&ID onde eles s ⁇ o trazidas.', 'As crucificades sa ⁇ am de Manaus, capital do Estado de Amazonas, uma cidade na jungle que prosperou durante o bólvulo em século passado e onde você encontrará uma cópia menor da Opera House em Paris, França. Há uma', 'Ao trazer os 9/11 aos abertos eles garantiram que era dada atenç ⁇ o mundial, e que a verdade seria buscada e os atentantes identificou e os ataqueiados..', '“Like Williams, Cosworth é uma empresa independente, cujos proprietários compartilham nossa paix ⁇ o pela corrida e engenharia. em escritório. em escritório. em escritório. em', 'No entanto, isto pode ser evitado se a infiltraç ⁇ o é subepithelial. ', 'Tipo de Publicaç ⁇ o Português: Bibliografia)', 'Modificaç ⁇ o do Programa:  ⁇ s vezes, v ⁇ rus Worm:Win32/Dedler.F ou malware SWiJ SideWinder, mas também softwares comuns têm a capacidade de modificar as funç ⁇ es internas de FXUCU001.DLL, o que significa que outros programas n ⁇ o podem', 'Em alguns casos o jogador de m ⁇ dia QuickTime acabou o funcionamento liso do v ⁇ deo MOV devido a alguns problemas de corrupç ⁇ o.', 'Ele é professor de Ciência Pol ⁇ tica da Universidade Pompeu Fabra em Barcelona. em Barcelona. em Barcelona. em Barcelona. em Barcelona. em Barcelona. em Barcelona. em Barcelona.', 'Aditivos cosméticos n ⁇ o devem perder......', 'Comentários para teste de preservativo de Estrada', 'Como eu obter uma extens ⁇ o da minha autorizaç ⁇ o estudante?', 'A  ⁇ ndia da intervenç ⁇ o dos EUA em l ⁇ ngua!', 'Nabertherm com 450 funcionários em todo o mundo est ⁇ o desenvolvidos e produzindo fornos industriais para muitos aplicaç ⁇ es diferentes para mais de 60 anos. Como fabricante, Nabertherm oferece a maior gama de fornos mundanos.', \"Nós chamamos essas qu ⁇ micas 'elementos'. em breve. em breve. \", 'Avaliaç ⁇ o especializada – coordenaç ⁇ o de equipes de especialistas selecionados para a avaliaç ⁇ o independente de estudos ambientais complexos.', 'Existe uma sala de armazenamento de bagagem fornecida no hostel. a acesso a acessória. a acessória a acessória. a a', 'Este é um módulo de atualizaç ⁇ o, deve trabalhar junto com cabo Micronas OBD TOOL (CDC32XX), n ⁇ o pode funcionar sozinho.', '116 Ent ⁇ o seja a Deus, o verdadeiro Rei; n ⁇ o é lá, mas Ele, o Senhor do dominion honrável. a cima de cima. a cima de cima. a cima de cima. a c', 'Educaç ⁇ o tecnológica em Arequipa.....', 'Andinia.com - Dicionário ao ar livre: Messan', 'VEMAG é o  ⁇ nico fabricante de reservadores de pó de pó que cumprir com os requisitos da USDA ex trabalhos. com o  ⁇ nico fabricante de pós-pós-pós-pós-pós-pós-pós-pós-p', 'Institutos em Pereira (Risaralda, Colômbia) Faculdades e escolas em Risaralda', 'Mineraç ⁇ o: equipamentos e suprimentos em Yugo-Zapadny okrug, Moscouem Nairobi-vindas.net-boa.net-boa.net-boa.net', '• Previs ⁇ o correta do serviço', 'Quando falamos a mesma linguagem é porque temos a mesma m ⁇ e. E isto nos dá esperança.', 'Vários tipos de acomodaç ⁇ es dispon ⁇ veis para seu alojamento em Carvoeiro: apartamentos de luxo ou hotéis carvoeiro baratos, e também cama & breakfast. em Carvoeiro. em Carvoeiro: apartamentos de luxo ou hotéis', 'As profecias sobre este s ⁇ o gravadas nos dias 38 e 39o capitulo de Ezequil. Verso 8 do capitulo 38 é abordado a Israel, e li: “Depois de muitos dias será visitado; nos  ⁇ ltimos anos vir ⁇ o na terra que é', 'A Casa imediatamente se tornou lugar de cult e em torno dele desenvolveu o médio Loreto: a parede incr ⁇ vel projetada por Antonio da Sangallo il Giovane foram erradas em 1518 e reforçada com quatro bastions em 1600.', 'N ⁇ o havia outro poder pelo qual poderia ser entregue. a córdula. como os quais eles poderiam ser entregue.', 'Qualidade é um m ⁇ nimo para nós e estamos sempre procurando maneiras/acessórios para nos ajudar a entregar o melhor.', 'A forma tinha se tornou concentrada e engraçada. Eu rii: em efeito. em efeito. em efeito: em efeito.', 'Embora n ⁇ o é completamente certo, muitos chefes brasileiros concordam que a picanha cortada ocorreu no Rio Grande do Sul, o estado mais sul do Brasil, famoso por seu churrasco.', 'A condiç ⁇ o de aceitaç ⁇ o completa em cada hora no processo de ajuste do primeiro bloco da oferta de venda significa que apenas o primeiro bloco será programado em uma hora espec ⁇ fica se n ⁇ o é ligado completamente, e todos os bloc', 'Agora Davi, filho de Jesse reinou sobre todo o Israel. em cima de cima de cima de Davi. em cima de cima de cima de cima de cima de cima de cima de cima de cima de Davi', 'O raz ⁇ o e os pensamentos do cérebro no processo de fazer decis ⁇ o.', 'Em outros fragmentos evangelizais, Jesus refere-se à falta de fé de seus seguidores. o mesmo Jesus é o mesmo Jesus é o mesmo Jesus é a falta de f', '3 Jesus sabendo que o Pai tinha dado todas as coisas em suas m ⁇ os, e que ele era de Deus, e foi a Deus;', \"Como jogar o jogo de Peppy's Thandie Newton Vestir:\", 'Fabricaç ⁇ o de artigos de couro.... em cinza em San Juan', 'Os valores do parâmetro variam de 0 a 200%.', 'Downloads de software relacionados com a extens ⁇ o de arquivo RB:', 'Os Estados Contratados podem recusar reconhecer um diário ou separaç ⁇ o legal se é incompat ⁇ vel com uma decis ⁇ o anterior determinando o status matrimonial dos cônjuges e a decis ⁇ o é feita no Estado em que a reconhecimento é procurada,', \"Com uma localizaç ⁇ o em cima do Grand Place e do centro histórico de Brussels, o Ibis Brussels Off Grand'Place oferece um acesso direto ao aeroporto internacional pela estaç ⁇ o ferroviária.\", 'A mapa energética descobri todas as perturbaç ⁇ es geológicas subterrâneas, perturbaç ⁇ es que foram usadas para beneficiar os locais e aumentar muito o n ⁇ vel de energia. em medida em medida em medida em', 'Malaria O que você pode fazer', 'A PLEASURE do Santo Padre Thomas Aquinas ou SEC ⁇ O OLIVA DOMINICAN?. Esperamos que o Santo Padre, com ajuda do Esp ⁇ rito Santo, tem o poder de unir o mundo católico, hoje [...]', 'Naquela noite José, Maria, e Jesus caminhou uma milha e uma metade ao local do antigo Jericó, onde Josuéu, por quem Jesus foi nomeado, tinha realizado suas exploitas com a tradiç ⁇ o judicana.', 'O principal objetivo da miss ⁇ o será trazer um módulo russo Rassvet Mini-Research. Este será a  ⁇ ltima viagem do Shuttle Atlantis e [...]', 'Eu pinto-os com epoxi para que n ⁇ o eram molhados com a condenaç ⁇ o da tenda. em epoxi para que n ⁇ o sa ⁇ am com a condens ⁇ o da tenda. ', 'Recuperaç ⁇ o de Res ⁇ duos em Santa Clara (Villa Clara, Cuba) - Amarillascuba.net', 'Nossa experiência com processos de separaç ⁇ o em refinarias...linha em...linha em...linha em San Juan ', '(4) Nossas condiç ⁇ es gerais de compra também s ⁇ o requer relaç ⁇ es futuras com o fornecedor. a qualquer relaç ⁇ o de negócios futuras com o fornecedor. os nossos condiç ⁇ es', 'Em km 31, os verde intensos dos fluxos a essa ela começa a cruzar o limite do sul da gama de Montanha do vento, com uma formaç ⁇ o montanha de endereço ao norte-sul, tem o seu fim norte para o vulc ⁇ o Domuyo.', 'Cortinas de uso  ⁇ nico feitas de tecidos da posiç ⁇ o 5603, de um tipo utilizado durante procedimentos cir ⁇ rgicos 6307 90 92 em código em cinza em cinza em cinza em cin', 'Há 6 dias 10:01 XCafe esporradela, esporradela, caseira, caseira, esporradela, esporradela, esporradela, esporradela, esporradelaa, esporradelacacacacacacacacacacacacaca ', 'Excepcionalmente 120 sacerdotes jogaram trombetas na consagraç ⁇ o do templo de Salom ⁇ o.']\n",
            "tensor(21.4380)\n",
            "--------------------------------------------------------------------------------\n",
            "TEST RESULTS\n",
            "{'avg_test_bleu': tensor(22.6276)}\n",
            "--------------------------------------------------------------------------------\n",
            "\n"
          ],
          "name": "stdout"
        }
      ]
    },
    {
      "cell_type": "markdown",
      "metadata": {
        "id": "8BS951Bu8MCm",
        "colab_type": "text"
      },
      "source": [
        "# Comparison: Greedy"
      ]
    },
    {
      "cell_type": "markdown",
      "metadata": {
        "id": "DTQQ3Ree8UtV",
        "colab_type": "text"
      },
      "source": [
        "### Hugging face decoder"
      ]
    },
    {
      "cell_type": "code",
      "metadata": {
        "id": "ePMavKNlDvDO",
        "colab_type": "code",
        "colab": {
          "base_uri": "https://localhost:8080/",
          "height": 254,
          "referenced_widgets": [
            "6455df80692846d28a0bfd327c79c6b3",
            "9d22240084e64cf8b7e15e17aeaa4949",
            "16f925e9cc86469a883a1aae39a35d66",
            "907ff946a2234ce5a1dba6fdf7a08826",
            "00752a64b16e49aba65938664461fc1b",
            "702d6ab4531a4f229ab4e70e70bcfe9b",
            "30d3b46bc08044049f108089be2cb5f1",
            "7467cf7cae5b4d3ea38f11d5fe0f9278"
          ]
        },
        "outputId": "83be9a17-941b-4250-8af4-b78aa516907a"
      },
      "source": [
        "model.decoder = 'greedy'\n",
        "model.hugging_face = True\n",
        "#------------------------------------------------------\n",
        "trainer_decoder_comparison.test(model)"
      ],
      "execution_count": 32,
      "outputs": [
        {
          "output_type": "display_data",
          "data": {
            "application/vnd.jupyter.widget-view+json": {
              "model_id": "6455df80692846d28a0bfd327c79c6b3",
              "version_minor": 0,
              "version_major": 2
            },
            "text/plain": [
              "HBox(children=(FloatProgress(value=1.0, bar_style='info', description='Testing', layout=Layout(flex='2'), max=…"
            ]
          },
          "metadata": {
            "tags": []
          }
        },
        {
          "output_type": "stream",
          "text": [
            "('In this way, the civil life of a nation matures, making it possible for all citizens to enjoy the fruits of genuine tolerance and mutual respect.', '1999 XIII. Winnipeg, Canada July 23 to August 8', \"In the mystery of Christmas, Christ's light shines on the earth, spreading, as it were, in concentric circles.\", 'making it viable to drill two new boreholes in the west of that peninsula.', 'His eyes were shining and his voice was cheerful.', 'Injuries, accidents, bereavement, abuse, separation, shock, rape, bullying, harassment, stress, depression, anxiety, eating.', 'Whiteness HP Maxx is a 35% hydrogen peroxide whitening gel for the whitening of vital and non-vital teeth.', 'Lines: with indication of Line Number, From and To ends, insulation, the P&ID where they are drawn.', 'The cruises depart from Manaus, capital of the State of Amazonas, a city in the jungle that prospered during the rubber boom last century and where you will find a smaller copy of the Opera House in Paris, France. There is a choice of a three or four days cruises, both of which include the “Meeting of the Waters”, where the Rio Negro and the Amazon River converge.', 'By bringing 9/11 out into the open they ensured that it was given worldwide attention, and that the truth would be sought and the perpetrators identified and held to account.', '“Like Williams, Cosworth is an independent company whose owners share our passion for racing and engineering.', 'However, this can be avoided if infiltration is subepithelial.', 'Publication Type English: Bibliography', \"Program Modification: Sometimes, not only virus Worm:Win32/Dedler.F or malware SWiJ SideWinder but also common softwares possessing the ability to modify the inner functions of FXUCU001.DLL, which means other programs can't find this DLL file again.\", 'In some cases QuickTime media player halts smooth running of the MOV video due to some corruption issues.', 'He is currently Professor of Political Science at the University Pompeu Fabra in Barcelona.', 'Cosmetic additives must not penetrate.', 'Comments for Highway condom test', 'How do I obtain an extension of my student authorization?', 'Enough of US intervention in Latin !.', 'Nabertherm with 450 employees worldwide have been developing and producing industrial furnaces for many different applications for over 60 years. As a manufacturer, Nabertherm offers the widest and deepest range of furnaces worldwide.', \"We call these chemicals 'elements'.\", 'Expert Review – coordination of teams of selected experts for the independent evaluation of complex environmental studies.', 'Thereto there is a luggage storage room provided in the hostel.', 'This is a update module, must works together with Micronas OBD TOOL (CDC32XX) cable, cannot works alone.', '116 So exalted be Allah, the True King; no god is there but He, the Lord of the honorable dominion.', 'Technological education in Arequipa', 'Andinia.com - Outdoor Dictionary: Messan', 'VEMAG is the only manufacturer of vacuum fillers that complies with USDA requirements ex works.', 'Institutes in Pereira (Risaralda, Colombia) Colleges and schools in Risaralda', 'Mining equipment and supplies in Yugo-Zapadny okrug, Moscow', '• Correct provision of the service', 'When we speak the same language it is because we have the same mother. And this gives us hope.', 'Several kinds of accommodations available for your lodging in Carvoeiro: apartments, luxury or cheap Carvoeiro hotels, and also bed & breakfast.', 'Prophecies concerning this are recorded in the 38th and 39th chapters of Ezekiel. Verse 8 of chapter 38 is addressed to Israel, and reads, “After many days thou shalt be visited: in the latter years thou shalt come into the land that is brought back from the sword, and is gathered out of many people, against the mountains of Israel, which have been always waste: but it is brought forth out of the nations, and they shall dwell safely all of them.”', 'The House immediately became place of cult and around to it developed the medieval Loreto: the impressive wall projected by Antonio da Sangallo il Giovane were erected in 1518 and reinforced with four bastions in 1600.', 'There was no other power by which they could be delivered.', 'Quality is a must for us and we are always looking for ways/tools to help us to delivery the best.', 'The form had become focused and funny. I laughed:', 'Although it is not completely certain, many Brazilian chefs agree that the picanha cut originated in Rio Grande do Sul, the southernmost state of Brazil, famous for its churrasco.', 'The condition of complete acceptance in each hour in the matching process of the first block of the sale bid means that only the first block will be programmed in a specific hour if it is not matched completely, and all the blocks in that hour will be withdrawn and not the bid presented for the other hours.', 'Now David the son of Jesse reigned over all Israel.', 'The brain’s reasoning and thoughts in the decision-making process.', 'In other evangelic fragments the same Jesus refers to the lack of faith of his followers.', '3 Jesus knowing that the Father had given all things into his hands, and that he was come from God, and went to God;', \"How to play Peppy' s Thandie Newton Dress Up:\", 'Manufacture of leather goods....', 'The values of the parameter vary from 0 to 200%.', 'Software Downloads Associated with File Extension RB:', 'Contracting States may refuse to recognise a divorce or legal separation if it is incompatible with a previous decision determining the matrimonial status of the spouses and that decision either was rendered in the State in which recognition is sought, or is recognised, or fulfils the conditions required for recognition, in that State.', \"With a top location at the Grand Place and the historical center of Brussels, the Ibis Brussels Off Grand'Place offers a direct access towards the international airport by the railway station.\", 'Energetic mapping uncovers all geology disturbances underground, disturbances which were used to benefit the locations and greatly increase their energy level.', 'Malaria What You Can Do', 'THE PLEASURE OF HOMOSEXUAL SECOND Saint Thomas Aquinas OR SECOND THE DOMINICAN ADRIANO OLIVA? . We hope that the Holy Father, with the help of the Holy Spirit, has the power to unite the Catholic world, today […]', 'That evening Joseph, Mary, and Jesus walked a mile and a half to the site of the ancient Jericho, where Joshua, for whom Jesus was named, had performed his renowned exploits, according to Jewish tradition.', 'The main objective of the mission will be to bring a Russian module Rassvet Mini-Research Module. This will be the last trip of the Shuttle Atlantis, and [...]', 'I paints them with epoxi so that they were not wet with the condensation of the tent.', 'Waste recycling in Santa Clara (Villa Clara, Cuba) - Amarillascuba.net', 'Our experience with separation processes in refineries ...', '(4) Our General Conditions of Purchase shall also apply for any future business relations with the supplier.', 'In km 31, the intense greens of the streams sink to the coloring and it begins to cross the south limit of the Mountain range of the Wind, with a mountain formation of address north-south, has their north end for the volcano Domuyo.', 'Single-use drapes made up of fabrics of heading 5603, of a kind used during surgical procedures 6307 90 92', '6 days ago 10:01 XCafe blowjob, whore, dogging, homemade, facial, German, milf', 'Exceptionally, 120 priests played trumpets at the consecration of Solomon’s Temple.')\n",
            "('Deste modo, a vida civil de uma nação amadurece, fazendo com que todos os cidadãos gozem dos frutos da tolerância genuína e do respeito mútuo.', '1999 XIII. Winnipeg, Canadá 23 de julho a 8 de agosto', 'No mistério do Natal, a luz de Cristo irradia-se sobre a terra, difundindo-se como círculos concêntricos.', 'e tem o objetivo de viabilizar a perfuração de dois novos furos no ocidente da citada península.', 'Seus olhos brilhavam e sua voz era alegre.', 'Lesões, acidentes, luto, abuso, separação, choque, violação, assédio moral, assédio, stress, depressão, ansiedade, comer.', 'Whiteness HP Maxx é um clareador à base de peróxido de hidrogênio a 35% para clareamento de dentes vitais e não vitais.', 'Linhas: com indicação do número de linha, as extremidades, o isolamento, o P&ID onde estão desenhadas.', 'O Desafio parte de Manaus, capital do estado do Amazonas, uma cidade próspera pelo auge da borracha no séc.XIX, e onde se encontra uma cópia em menores proporções da Casa de Ópera de Paris, na França. Existe a possibilidade de 3 ou 4 dias de cruzeiro, dos que só incluem o encontro com as águas , onde o Rio Solimões e Negro se unem sem mesclar suas águas.', 'Ao trazer o assunto sobre o 9/11 para a ribalta asseguram que seja dada atenção mundial, e que a verdade seja pesquisada e tida em conta.', '“Como a Williams, Cosworth é uma empresa independente cujos donos partilham a nossa paixão pelas corridas e engenharia.', 'Contudo, isto pode ser evitado com uma infiltração subepitelial.', 'Tipo de Publicação Inglês: Bibliography', 'Modificação do Programa: Às vezes, o vírus Virus:DOS/Clonewar_252.C, malware History Killer Pro e softwares comuns têm a capacidade de modificar as funções de FXUCU001.DLL. Esta situação faria outros programas não podem encontrar este arquivo DLL.', 'Em alguns casos, media player QuickTime interrompe o bom funcionamento do vídeo MOV, devido a alguns problemas de corrupção.', 'Atualmente é professor de Ciência Política na Universidade Pompeu Fabra em Barcelona.', 'Aditivos cosméticos não devem penetrar.', 'Comentários para o teste do preservativo da estrada', 'Como eu obtenho a extensão de minha Permissão de Estudos?', 'Chega de intervenção dos EUA na América Latina!.', 'A Nabertherm desenvolve e produz com os seus 450 colaboradores a nível mundial, desde há mais de 60 anos, fornos industriais para as mais diferentes áreas de aplicação.', \"Chamamos a essas substâncias de 'elementos'.\", 'Revisão Independente por Peritos (Independent Peer Review)- coordenação de equipas de especialistas para a avaliação independente de estudos ambientais complexos.', 'Da mesma existe uma sala de bagagem prevista no albergue.', 'Este é um módulo de atualização, deve trabalha em conjunto com cabo Micronas OBD TOOL (CDC32XX), não trabalha sozinha.', \"116 Exaltado seja Deus, Verdadeiro, Soberano! Não há mais divindade além d'Ele, Senhor do honorável Trono!\", 'Educação tecnológica em Peru', 'Andinia.com - Dicionário ao ar livre: Messan', 'A VEMAG é a única fabricante de preenchedoras a vácuo que está em conformidade com as exigências do USDA ex works.', 'Escolas pré-universitário em Pereira (Risaralda, Colômbia)', 'Mineração: equipamentos e suprimentos em Yugo-Zapadny okrug, Moscú', '• A correcta prestação do serviço', 'Quando se fala a mesma língua é porque se tem a mesma mãe, e isto dá-nos esperança.', 'Vários tipos de acomodações disponíveis para o seu alojamento em Carvoeiro: apartamentos de luxo ou hotéis baratos Carvoeiro, e também bed & breakfast.', 'As profecias sobre este assunto estão registradas nos capítulos 38 e 39 de Ezequiel. O versículo 8 do capítulo 38 é dirigida a Israel, e diz: “ Depois de muitos dias serás visitado. No fim dos anos virás à terra que se recuperou da espada, e que foi congregada dentre muitos povos, junto aos montes de Israel, que sempre se faziam desertos; mas aquela terra foi tirada dentre as nações, e todas elas habitarão seguramente.”', 'A Casa torna-se imediatamente lugar de culto e ao redor desta se desenvolvem todas as habitações da Loreto medieval: as imponentes muralhas projetadas por Antonio da Sangallo il Giovane foram erguidas em 1518 e reforçadas com quatro bastiões, 1600.', 'Nenhum outro poder havia pelo qual pudesse ser libertado.', 'A qualidade é primordial para nós e estamos sempre à procura de maneiras/ferramentas para nos ajudar a entregar o melhor.', 'A forma tinha-se tornado o foco e engraçado. Eu ri:', 'Apesar de não estar comprovado, muitos cozinheiros brasileiros concordam que a picanha foi originada doRio Grande do Sul, um estado famoso pelos seus churrascos.', 'A condição de aceitação completa em cada hora na concertação do primeiro lanço da oferta de venda, implica que só será programada, numa hora determinada, o primeiro lanço em caso de ser concertado na sua totalidade, sendo retiradas todos os lanços para a referida hora, não sendo retirada a oferta realizada para as restantes horas.', 'Assim Davi, filho de Jessé, reinou sobre todo o Israel.', 'As reflexões e pensamentos do cérebro no processo de tomada de decisões da vontade.', 'Em outros fragmentos evangélicos, Jesus Cristo mesmo lamenta a falta de fé de seus seguidores.', '3 Jesus, sabendo que o Pai tinha depositado nas suas mãos todas as coisas, e que havia saído de Deus e ia para Deus,', 'Como jogar Peppy s vestir-se Thandie Newton:', 'Fabricação de artigos de couro....', 'Os valores do parâmetro varia de 0 a 200%.', 'Downloads de Software Associados à Extensão de Ficheiro RB:', 'Qualquer Estado contratante pode recusar o reconhecimento de um divórcio ou de uma separação de pessoas se eles forem incompatíveis com uma decisão anterior cujo objectivo principal fosse o estado matrimonial dos cônjuges, quer proferida no Estado em que o reconhecimento foi invocado quer reconhecida ou reunindo as condições de reconhecimento neste Estado.', \"Com uma excelente localização na Grand Place e no centro histórico de Bruxelas, o ibis Brussels Off Grand'Place oferece acesso direto ao aeroporto internacional pela estação ferroviária.\", 'O mapeamento energético demonstra todas as perturbações geológicas subterrâneas, perturbações essas que eram usadas para beneficiar os locais e elevar grandemente o seu nível energético.', 'Malária O que você pode fazer', 'O PRAZER DE HOMOSSEXUAL SEGUNDA Santo Tomás de Aquino ou o segundo o dominicano ADRIANO OLIVA? . Esperamos que o Santo Padre, com a ajuda do Espírito Santo, tem o poder de unir o mundo católico, hoje […]', 'Naquela noite José, Maria e Jesus caminharam, por cerca de três quilômetros, até o local antigo de Jericó, onde Joshua, cujo nome foi dado a Jesus, tinha realizado as suas renomadas façanhas, de acordo com a tradição judaica.', 'O principal objetivo da missão terá um módulo russo RASSVET Mini-Módulo de Investigação. Esta será a última viagem do ônibus espacial Atlantis, e [...]', 'Pintei com epoxi para não se molharem com a condensação do barraco.', 'Saneamento ambiental em Cifuentes (Villa Clara, Cuba) - Amarillascuba.net', 'Nossa experiência com processos de separação em refinarias ...', '(4) Os nossos termos e condições de compra ainda terão vigor em todos os negócios futuros com o fornecedor.ier.', 'Em km 31, os intensos verdes dos fluxos afundam à coloração e começa a cruzar o limite sul da gama Montesa do Vento, com uma formação montesa de endereço norte-sul, tem o norte terminar para o vulcão Domuyo.', 'Lençóis descartáveis confecionados com matérias da posição5603, do tipo utilizado durante as intervenções cirúrgicas 6307 90 92', 'Há 6 dias 10:01 XCafe sexo oral, putas, posição de cachorro, caseiras, ejaculação na cara, alemão, milf', 'Excepcionalmente, 120 sacerdotes tocaram trombetas na consagração do Templo de Salomão.')\n",
            "['Desta forma, a vida civil de uma naç ⁇ o sob poss ⁇ vel em todos os frutos de a tolerância virtuosa e respeito.', 'XIII. Winnipeg, Canadá 23 - 8 abril', 'No mistério do Natal, a luz de Cristo brilha sobre a terra, expondo-se, como foi, em c ⁇ rculos de c ⁇ rculos contiolentos.', 'fazendo viável sirrourar dois novos barcos no oeste daquela pen ⁇ nsula.', 'Os seus olhos eram brilhante e a sua voz foi feliz.', 'Eferimento, acidentes, depress ⁇ o, abuzo, abuso, secundância, separaç ⁇ o, choque, abuse, choque, rivênculo, essócio, tens ⁇ o depress ⁇ o, ansiedade, comida.', 'Whiteness HP Maxx é um gel de clareza de hidróide de 35% para clarificaç ⁇ o de dentes vitais e n ⁇ o viólicos a limpeza de dentes vitales e n ⁇ o vióricos.', 'Linhas: com  ⁇ ndice de N ⁇ mero da linha A partir da e a fim, isolamento, a P&ID onde eles foram destradas.', 'As transportas sa ⁇ am da Manaus, capital do Estado de Amazonas, uma cidade na floresta que prosperou durante o batismo de cobre do século e onde possam encontrar uma maior maior cópia da Casa Opera em Paris, Francia. Horá um papel de', 'Ao introduzir 9/11 para a sua abril se asseguraram a atenç ⁇ o do mundo do mundo; e que se busqueiuu a verdade os senhores identificados e realizaram com resposta.', '“Like Williams, Cosworth é uma empresa independente, cujos proprietários partilham nossa paix ⁇ o pela corrida e perseguiç ⁇ o e engenharia.', 'Contudo, isto pode ser evitado se a infiltraç ⁇ o é subepithelial.', 'Tipo de Publicaç ⁇ o Português: Bibliografia', 'Modificaç ⁇ o do Programa:  ⁇ s vezes, v ⁇ rus Worm:Win32/Dedler.F ou malware SWiJ SideWinder, mas também softwares comuns têm a capacidade de modificar as funç ⁇ es de FXUCU001.DLL, o que significa outros programas já n ⁇ o podem', 'Em alguns casos o jogador de m ⁇ dia QuickTime parecia uma funcionaç ⁇ o sem fio do v ⁇ deo MOV devido ao alguns problemas de corrupç ⁇ o.', 'Fabe atualmente Prof. de Ciência Pol ⁇ tica da Universidade Pompeu Fabra em Barcelona.', 'Aditivos cosméticos n ⁇ o podem patrocitar.', 'Comentários para teste de preservativa de Estrada', 'Como eu receberi uma ampliaç ⁇ o das minhas autorizaç ⁇ es estudantes?', 'Ambos os EUA em Intervenç ⁇ o cháilica!', 'A Nabertherm com 450 empregados em todo o mundo tem se desenvolvido e produzindo fornos industriais para muitos aplicac ⁇ veis diferentes para mais de 60 anos. Como fabricante, Nabertherm oferece-se a vasta variedade de fornos mundanos.', \"Chamos estas qu ⁇ micas 'elementos'.\", 'Assessoria – coordenaç ⁇ o das equipes de espec ⁇ ficos selecionados para a avaliaç ⁇ o independente de estudo ambientais complexo.', 'Aqui há um quarto de entrega de bagagem e disponibilizada no quarto de pousa.', 'Este é um módulo de atualizaç ⁇ o, deve trabalhar com cabo Micronas OBD TOOL (CDC32XX) para código, n ⁇ o pode for funcionar sozinho.', '116 Portanto, seja Allah, o rei verdadeiro; n ⁇ o existe lá, sem deus a senha, o Senhor do dominion honrável.', 'Educaç ⁇ o tecnológica em San Francisco', 'Andinia.com - D ⁇ cionaculo ao ar livre: Messan', 'O VEMAG é o  ⁇ nico fabricante dos embalagens do pó com as requisitos da USDA obra.', 'Institutos em Guantánamo (Risaralda, Colômbia) Faculdades e escolas em Correndo', 'Mineraç ⁇ o: equipamentos e suprimentos em Yugo-Zapadny okrug, Moscow', '• Preserva correta da serviço', 'Quando dizmos a mesma linguagem é porque temos a mesma m ⁇ e. E esta é uma esperança.', 'Vários tipos de acomodaç ⁇ es dispon ⁇ veis para o seu apartamento em Carvoeiro: apartamentos de luxo ou hotéis baratos Carvoeiro, e também cama & petit-d-manh ⁇.', 'As profecies sobre esse esta s ⁇ o gravados no dia 38 e 39o cap ⁇ tulo de Ezequil. Verso 8 do cap ⁇ tulo 38 está em direç ⁇ o a Israel e leia: Depois, muitos dias, ser ⁇ o visitados: nos  ⁇ ltimos anos vir ⁇ o na ', 'O lugar de um n ⁇ mero da casa se tornou imediatamente registrado e em volta a ele desenvolvido a Pério medieval: a parede incr ⁇ vel projetada por Antonio da Sangallo il Giovane foram erradas e ressalou com quatro bastions em 1600.', 'N ⁇ o havia outros podero pela qual lhes poderiam ser entregues.', 'A Qualidade é um mercado para nós e estamos sempre procurando de maneiras ou ferramentas para ajudá-nos o entrega melhor.', 'A forma estava se mais concentrada e engraçado. Eu jogai:', 'Ainda que n ⁇ o é compat ⁇ vel, muitos chefes brasileiros concordam que as gravaç ⁇ es da picanha eram no Rio Grande do Sul, o estado mais doeste do Brasil, conhecido por sua churrasco.', 'A condiç ⁇ o de aceitaç ⁇ o total em cada jogo no processo de análise sobre o primeiro bloco da oferta de venda significa que somente o primeiros bloco será programado em uma hora espec ⁇ fica se n ⁇ o seja completamente e todas as blocos desta ', 'Agora Davi, filho de Jesesse reinou sobre todo o Israel.', 'Se o raz ⁇ o e o pensamento no processo de fazer decis ⁇ es da decis ⁇ o.', 'Em outros fragmentos evangelizais o mesmo Jesus refereu à falta de fém de seus seguidores.', '3 Jesus, sabe que Ele tinha dado a todas as coisas em suas m ⁇ os e, que é de Deus, e entrau em Deus;', \"Como jogar Seito como jogar Peppy' s Thandie Newton:\", 'Fábricas de trabalhos....', 'Os valor do parâmetro variam de 0 e 200%.', 'Downloads de software relacionado a a extens ⁇ o de arquivo RB:', 'Estados contratados podem recuar uma divóduo ou separaç ⁇ o legal se é indisunp ⁇ vel com uma decis ⁇ o anterior determinando o status matrimonial dos esposos e que a decis ⁇ o describiu-se enfrentada da Estado, nas quais eles conven', \"Pois uma centralizaç ⁇ o elevada na Grande Place e do centro histórico de Bélgica, o Ibis Brussels Off Grand'Place oferece um acesso direto ao aeroporto internacional na Estaç ⁇ o ferroviária o Ibis Brussels Off iniciando uma estaç ⁇ o de ferro.\", 'O mapamento energético descobri todas as perturbaç ⁇ es da geologia underground, perturbaç ⁇ es que foram utilizadas para algumas localizaç ⁇ es e aumentam profundamente o seu n ⁇ vel de energia.', 'Malaria O que pode fazer', 'O senhor Santo Tom Aquinas OU a santidade do ônico ADRIANO OLIVA? esperamos que o Santo Padre, através da ajuda do Esp ⁇ rito Santo tem o poder de unir o mundo católico desse sentido. Hoje [...]', 'Naquela noite Jo ⁇ o, Maria e Jesus passeu-se perando um caralho e meio ao local do Antigo Jericóio, onde Jo ⁇ o ent ⁇ o nomeado Jesus atirou estes seguintes obras do Judéio, segundo a tradiç ⁇ o de Judéio.', 'O principal objetivo da miss ⁇ o será trazer um módulo russo Rassvet Mini-Research.Este será a  ⁇ ltima viagem do Shuttle Atlantis e [...]', 'Coloroe-os com epoxi para que eles n ⁇ o estivem misturadas com a condenaç ⁇ o da tenda.', 'Recuperaç ⁇ o de res ⁇ duos em La Liberta (San Pedro, Cuba) - Amarillascuba.net', 'Nossa experiência com processos de separaç ⁇ o em refinarias...', '(4) Nossas Condiç ⁇ es Gerais de Compra também procurar ⁇ o para qualquer futuro no dia do negócios com o fornecedor.', 'No km 31, os intensos verdes dos dilhos dos bandamentos sa ⁇ am para a coloraç ⁇ o e começa a cruzar o limite do sul da gama ao vento com uma formaç ⁇ o de montanha do local de disto ao norte do vulc ⁇ o.', 'Tondares de uso individual compostos de t ⁇ tulos da mensagem 5703, de um tipo dos procedimentos cir ⁇ rgicos de 607 90 92', 'Há 6 dias 10:01 XCafe blowjob, carvalho, peito de coroa, caseiras, madeira, ejaculina, navia', 'Outra forma, 120 sacerdotes jogaram trombotas no consagrado de Templo de Salom ⁇ o.']\n",
            "tensor(18.8451)\n",
            "--------------------------------------------------------------------------------\n",
            "TEST RESULTS\n",
            "{'avg_test_bleu': tensor(19.2643)}\n",
            "--------------------------------------------------------------------------------\n",
            "\n"
          ],
          "name": "stdout"
        }
      ]
    },
    {
      "cell_type": "markdown",
      "metadata": {
        "colab_type": "text",
        "id": "y75Gi2utAs0D"
      },
      "source": [
        "### My decoder"
      ]
    },
    {
      "cell_type": "code",
      "metadata": {
        "id": "PU2JioV5_yYs",
        "colab_type": "code",
        "colab": {
          "base_uri": "https://localhost:8080/",
          "height": 254,
          "referenced_widgets": [
            "67e25ab37e754c78958ea67e68a9ab22",
            "9edbe57b78f748e08a763ef87ccad9c7",
            "5b2891dba5b04e6ea6950f2ebcb114c7",
            "1badfe1d30a6400cb32a136d81f9f28b",
            "86511668b9494dc28ed4690de84394e0",
            "0495a137d0c14eb8aa4a6ddec9d025db",
            "1365ffe81f534edaa4a7f2fef1f59479",
            "683664359c6e4c709be322332ce34874"
          ]
        },
        "outputId": "7d3c6835-afc5-43dd-a301-d6c8ed597cda"
      },
      "source": [
        "model.decoder = 'greedy'\n",
        "model.hugging_face = False\n",
        "#------------------------------------------------------\n",
        "trainer_decoder_comparison.test(model)"
      ],
      "execution_count": 33,
      "outputs": [
        {
          "output_type": "display_data",
          "data": {
            "application/vnd.jupyter.widget-view+json": {
              "model_id": "67e25ab37e754c78958ea67e68a9ab22",
              "version_minor": 0,
              "version_major": 2
            },
            "text/plain": [
              "HBox(children=(FloatProgress(value=1.0, bar_style='info', description='Testing', layout=Layout(flex='2'), max=…"
            ]
          },
          "metadata": {
            "tags": []
          }
        },
        {
          "output_type": "stream",
          "text": [
            "('In this way, the civil life of a nation matures, making it possible for all citizens to enjoy the fruits of genuine tolerance and mutual respect.', '1999 XIII. Winnipeg, Canada July 23 to August 8', \"In the mystery of Christmas, Christ's light shines on the earth, spreading, as it were, in concentric circles.\", 'making it viable to drill two new boreholes in the west of that peninsula.', 'His eyes were shining and his voice was cheerful.', 'Injuries, accidents, bereavement, abuse, separation, shock, rape, bullying, harassment, stress, depression, anxiety, eating.', 'Whiteness HP Maxx is a 35% hydrogen peroxide whitening gel for the whitening of vital and non-vital teeth.', 'Lines: with indication of Line Number, From and To ends, insulation, the P&ID where they are drawn.', 'The cruises depart from Manaus, capital of the State of Amazonas, a city in the jungle that prospered during the rubber boom last century and where you will find a smaller copy of the Opera House in Paris, France. There is a choice of a three or four days cruises, both of which include the “Meeting of the Waters”, where the Rio Negro and the Amazon River converge.', 'By bringing 9/11 out into the open they ensured that it was given worldwide attention, and that the truth would be sought and the perpetrators identified and held to account.', '“Like Williams, Cosworth is an independent company whose owners share our passion for racing and engineering.', 'However, this can be avoided if infiltration is subepithelial.', 'Publication Type English: Bibliography', \"Program Modification: Sometimes, not only virus Worm:Win32/Dedler.F or malware SWiJ SideWinder but also common softwares possessing the ability to modify the inner functions of FXUCU001.DLL, which means other programs can't find this DLL file again.\", 'In some cases QuickTime media player halts smooth running of the MOV video due to some corruption issues.', 'He is currently Professor of Political Science at the University Pompeu Fabra in Barcelona.', 'Cosmetic additives must not penetrate.', 'Comments for Highway condom test', 'How do I obtain an extension of my student authorization?', 'Enough of US intervention in Latin !.', 'Nabertherm with 450 employees worldwide have been developing and producing industrial furnaces for many different applications for over 60 years. As a manufacturer, Nabertherm offers the widest and deepest range of furnaces worldwide.', \"We call these chemicals 'elements'.\", 'Expert Review – coordination of teams of selected experts for the independent evaluation of complex environmental studies.', 'Thereto there is a luggage storage room provided in the hostel.', 'This is a update module, must works together with Micronas OBD TOOL (CDC32XX) cable, cannot works alone.', '116 So exalted be Allah, the True King; no god is there but He, the Lord of the honorable dominion.', 'Technological education in Arequipa', 'Andinia.com - Outdoor Dictionary: Messan', 'VEMAG is the only manufacturer of vacuum fillers that complies with USDA requirements ex works.', 'Institutes in Pereira (Risaralda, Colombia) Colleges and schools in Risaralda', 'Mining equipment and supplies in Yugo-Zapadny okrug, Moscow', '• Correct provision of the service', 'When we speak the same language it is because we have the same mother. And this gives us hope.', 'Several kinds of accommodations available for your lodging in Carvoeiro: apartments, luxury or cheap Carvoeiro hotels, and also bed & breakfast.', 'Prophecies concerning this are recorded in the 38th and 39th chapters of Ezekiel. Verse 8 of chapter 38 is addressed to Israel, and reads, “After many days thou shalt be visited: in the latter years thou shalt come into the land that is brought back from the sword, and is gathered out of many people, against the mountains of Israel, which have been always waste: but it is brought forth out of the nations, and they shall dwell safely all of them.”', 'The House immediately became place of cult and around to it developed the medieval Loreto: the impressive wall projected by Antonio da Sangallo il Giovane were erected in 1518 and reinforced with four bastions in 1600.', 'There was no other power by which they could be delivered.', 'Quality is a must for us and we are always looking for ways/tools to help us to delivery the best.', 'The form had become focused and funny. I laughed:', 'Although it is not completely certain, many Brazilian chefs agree that the picanha cut originated in Rio Grande do Sul, the southernmost state of Brazil, famous for its churrasco.', 'The condition of complete acceptance in each hour in the matching process of the first block of the sale bid means that only the first block will be programmed in a specific hour if it is not matched completely, and all the blocks in that hour will be withdrawn and not the bid presented for the other hours.', 'Now David the son of Jesse reigned over all Israel.', 'The brain’s reasoning and thoughts in the decision-making process.', 'In other evangelic fragments the same Jesus refers to the lack of faith of his followers.', '3 Jesus knowing that the Father had given all things into his hands, and that he was come from God, and went to God;', \"How to play Peppy' s Thandie Newton Dress Up:\", 'Manufacture of leather goods....', 'The values of the parameter vary from 0 to 200%.', 'Software Downloads Associated with File Extension RB:', 'Contracting States may refuse to recognise a divorce or legal separation if it is incompatible with a previous decision determining the matrimonial status of the spouses and that decision either was rendered in the State in which recognition is sought, or is recognised, or fulfils the conditions required for recognition, in that State.', \"With a top location at the Grand Place and the historical center of Brussels, the Ibis Brussels Off Grand'Place offers a direct access towards the international airport by the railway station.\", 'Energetic mapping uncovers all geology disturbances underground, disturbances which were used to benefit the locations and greatly increase their energy level.', 'Malaria What You Can Do', 'THE PLEASURE OF HOMOSEXUAL SECOND Saint Thomas Aquinas OR SECOND THE DOMINICAN ADRIANO OLIVA? . We hope that the Holy Father, with the help of the Holy Spirit, has the power to unite the Catholic world, today […]', 'That evening Joseph, Mary, and Jesus walked a mile and a half to the site of the ancient Jericho, where Joshua, for whom Jesus was named, had performed his renowned exploits, according to Jewish tradition.', 'The main objective of the mission will be to bring a Russian module Rassvet Mini-Research Module. This will be the last trip of the Shuttle Atlantis, and [...]', 'I paints them with epoxi so that they were not wet with the condensation of the tent.', 'Waste recycling in Santa Clara (Villa Clara, Cuba) - Amarillascuba.net', 'Our experience with separation processes in refineries ...', '(4) Our General Conditions of Purchase shall also apply for any future business relations with the supplier.', 'In km 31, the intense greens of the streams sink to the coloring and it begins to cross the south limit of the Mountain range of the Wind, with a mountain formation of address north-south, has their north end for the volcano Domuyo.', 'Single-use drapes made up of fabrics of heading 5603, of a kind used during surgical procedures 6307 90 92', '6 days ago 10:01 XCafe blowjob, whore, dogging, homemade, facial, German, milf', 'Exceptionally, 120 priests played trumpets at the consecration of Solomon’s Temple.')\n",
            "('Deste modo, a vida civil de uma nação amadurece, fazendo com que todos os cidadãos gozem dos frutos da tolerância genuína e do respeito mútuo.', '1999 XIII. Winnipeg, Canadá 23 de julho a 8 de agosto', 'No mistério do Natal, a luz de Cristo irradia-se sobre a terra, difundindo-se como círculos concêntricos.', 'e tem o objetivo de viabilizar a perfuração de dois novos furos no ocidente da citada península.', 'Seus olhos brilhavam e sua voz era alegre.', 'Lesões, acidentes, luto, abuso, separação, choque, violação, assédio moral, assédio, stress, depressão, ansiedade, comer.', 'Whiteness HP Maxx é um clareador à base de peróxido de hidrogênio a 35% para clareamento de dentes vitais e não vitais.', 'Linhas: com indicação do número de linha, as extremidades, o isolamento, o P&ID onde estão desenhadas.', 'O Desafio parte de Manaus, capital do estado do Amazonas, uma cidade próspera pelo auge da borracha no séc.XIX, e onde se encontra uma cópia em menores proporções da Casa de Ópera de Paris, na França. Existe a possibilidade de 3 ou 4 dias de cruzeiro, dos que só incluem o encontro com as águas , onde o Rio Solimões e Negro se unem sem mesclar suas águas.', 'Ao trazer o assunto sobre o 9/11 para a ribalta asseguram que seja dada atenção mundial, e que a verdade seja pesquisada e tida em conta.', '“Como a Williams, Cosworth é uma empresa independente cujos donos partilham a nossa paixão pelas corridas e engenharia.', 'Contudo, isto pode ser evitado com uma infiltração subepitelial.', 'Tipo de Publicação Inglês: Bibliography', 'Modificação do Programa: Às vezes, o vírus Virus:DOS/Clonewar_252.C, malware History Killer Pro e softwares comuns têm a capacidade de modificar as funções de FXUCU001.DLL. Esta situação faria outros programas não podem encontrar este arquivo DLL.', 'Em alguns casos, media player QuickTime interrompe o bom funcionamento do vídeo MOV, devido a alguns problemas de corrupção.', 'Atualmente é professor de Ciência Política na Universidade Pompeu Fabra em Barcelona.', 'Aditivos cosméticos não devem penetrar.', 'Comentários para o teste do preservativo da estrada', 'Como eu obtenho a extensão de minha Permissão de Estudos?', 'Chega de intervenção dos EUA na América Latina!.', 'A Nabertherm desenvolve e produz com os seus 450 colaboradores a nível mundial, desde há mais de 60 anos, fornos industriais para as mais diferentes áreas de aplicação.', \"Chamamos a essas substâncias de 'elementos'.\", 'Revisão Independente por Peritos (Independent Peer Review)- coordenação de equipas de especialistas para a avaliação independente de estudos ambientais complexos.', 'Da mesma existe uma sala de bagagem prevista no albergue.', 'Este é um módulo de atualização, deve trabalha em conjunto com cabo Micronas OBD TOOL (CDC32XX), não trabalha sozinha.', \"116 Exaltado seja Deus, Verdadeiro, Soberano! Não há mais divindade além d'Ele, Senhor do honorável Trono!\", 'Educação tecnológica em Peru', 'Andinia.com - Dicionário ao ar livre: Messan', 'A VEMAG é a única fabricante de preenchedoras a vácuo que está em conformidade com as exigências do USDA ex works.', 'Escolas pré-universitário em Pereira (Risaralda, Colômbia)', 'Mineração: equipamentos e suprimentos em Yugo-Zapadny okrug, Moscú', '• A correcta prestação do serviço', 'Quando se fala a mesma língua é porque se tem a mesma mãe, e isto dá-nos esperança.', 'Vários tipos de acomodações disponíveis para o seu alojamento em Carvoeiro: apartamentos de luxo ou hotéis baratos Carvoeiro, e também bed & breakfast.', 'As profecias sobre este assunto estão registradas nos capítulos 38 e 39 de Ezequiel. O versículo 8 do capítulo 38 é dirigida a Israel, e diz: “ Depois de muitos dias serás visitado. No fim dos anos virás à terra que se recuperou da espada, e que foi congregada dentre muitos povos, junto aos montes de Israel, que sempre se faziam desertos; mas aquela terra foi tirada dentre as nações, e todas elas habitarão seguramente.”', 'A Casa torna-se imediatamente lugar de culto e ao redor desta se desenvolvem todas as habitações da Loreto medieval: as imponentes muralhas projetadas por Antonio da Sangallo il Giovane foram erguidas em 1518 e reforçadas com quatro bastiões, 1600.', 'Nenhum outro poder havia pelo qual pudesse ser libertado.', 'A qualidade é primordial para nós e estamos sempre à procura de maneiras/ferramentas para nos ajudar a entregar o melhor.', 'A forma tinha-se tornado o foco e engraçado. Eu ri:', 'Apesar de não estar comprovado, muitos cozinheiros brasileiros concordam que a picanha foi originada doRio Grande do Sul, um estado famoso pelos seus churrascos.', 'A condição de aceitação completa em cada hora na concertação do primeiro lanço da oferta de venda, implica que só será programada, numa hora determinada, o primeiro lanço em caso de ser concertado na sua totalidade, sendo retiradas todos os lanços para a referida hora, não sendo retirada a oferta realizada para as restantes horas.', 'Assim Davi, filho de Jessé, reinou sobre todo o Israel.', 'As reflexões e pensamentos do cérebro no processo de tomada de decisões da vontade.', 'Em outros fragmentos evangélicos, Jesus Cristo mesmo lamenta a falta de fé de seus seguidores.', '3 Jesus, sabendo que o Pai tinha depositado nas suas mãos todas as coisas, e que havia saído de Deus e ia para Deus,', 'Como jogar Peppy s vestir-se Thandie Newton:', 'Fabricação de artigos de couro....', 'Os valores do parâmetro varia de 0 a 200%.', 'Downloads de Software Associados à Extensão de Ficheiro RB:', 'Qualquer Estado contratante pode recusar o reconhecimento de um divórcio ou de uma separação de pessoas se eles forem incompatíveis com uma decisão anterior cujo objectivo principal fosse o estado matrimonial dos cônjuges, quer proferida no Estado em que o reconhecimento foi invocado quer reconhecida ou reunindo as condições de reconhecimento neste Estado.', \"Com uma excelente localização na Grand Place e no centro histórico de Bruxelas, o ibis Brussels Off Grand'Place oferece acesso direto ao aeroporto internacional pela estação ferroviária.\", 'O mapeamento energético demonstra todas as perturbações geológicas subterrâneas, perturbações essas que eram usadas para beneficiar os locais e elevar grandemente o seu nível energético.', 'Malária O que você pode fazer', 'O PRAZER DE HOMOSSEXUAL SEGUNDA Santo Tomás de Aquino ou o segundo o dominicano ADRIANO OLIVA? . Esperamos que o Santo Padre, com a ajuda do Espírito Santo, tem o poder de unir o mundo católico, hoje […]', 'Naquela noite José, Maria e Jesus caminharam, por cerca de três quilômetros, até o local antigo de Jericó, onde Joshua, cujo nome foi dado a Jesus, tinha realizado as suas renomadas façanhas, de acordo com a tradição judaica.', 'O principal objetivo da missão terá um módulo russo RASSVET Mini-Módulo de Investigação. Esta será a última viagem do ônibus espacial Atlantis, e [...]', 'Pintei com epoxi para não se molharem com a condensação do barraco.', 'Saneamento ambiental em Cifuentes (Villa Clara, Cuba) - Amarillascuba.net', 'Nossa experiência com processos de separação em refinarias ...', '(4) Os nossos termos e condições de compra ainda terão vigor em todos os negócios futuros com o fornecedor.ier.', 'Em km 31, os intensos verdes dos fluxos afundam à coloração e começa a cruzar o limite sul da gama Montesa do Vento, com uma formação montesa de endereço norte-sul, tem o norte terminar para o vulcão Domuyo.', 'Lençóis descartáveis confecionados com matérias da posição5603, do tipo utilizado durante as intervenções cirúrgicas 6307 90 92', 'Há 6 dias 10:01 XCafe sexo oral, putas, posição de cachorro, caseiras, ejaculação na cara, alemão, milf', 'Excepcionalmente, 120 sacerdotes tocaram trombetas na consagração do Templo de Salomão.')\n",
            "['Desta forma, a vida civil de uma naç ⁇ o se avança, tornando-o poss ⁇ vel para todos os cidad ⁇ os desfrutar dos frutos de tolerância verdadeira e respeito mutual.', '1999 XIII. Winnipeg, Canadá 23 a 8 de agosto', 'No mistério do Natal, a luz de Cristo brilha na terra, esporrendo-se, como era, em c ⁇ rculos concêncios.', 'fazendo viável fazer o ocidental dois novos fechados no ocidente daquela pen ⁇ nsula. ocidental. ocidental. ocidentalmente ocidental.', 'Os seus olhos estavam brilhantes e a sua voz foi linda.', 'Inferiç ⁇ es, acidentes, abuso, abuso, separaç ⁇ o, choque, rapaçamento, abuso, abuso, abuso, abuso, abuso, abuso, apress ⁇ o, apress ⁇ o, a ansiedade, abuso, alimentaç ⁇ o.', 'A branque HP Maxx é um gel de clareamento de hidrogénio de 35% para o clareamento de dentes vitales e n ⁇ o-vitais. como o l ⁇ gel de enxernamento de hidro ⁇ dio de 35% ao', 'Linhas: com indicaç ⁇ o do n ⁇ mero de linha, De e a fim, isolamento, o P&ID onde eles s ⁇ o trazidas.', 'As crucificades sa ⁇ am de Manaus, capital do Estado de Amazonas, uma cidade na jungle que prosperou durante o bólvulo em século passado e onde você encontrará uma cópia menor da Opera House em Paris, França. Há uma', 'Ao trazer os 9/11 aos abertos eles garantiram que era dada atenç ⁇ o mundial, e que a verdade seria buscada e os atentantes identificou e os ataqueiados..', '“Like Williams, Cosworth é uma empresa independente, cujos proprietários compartilham nossa paix ⁇ o pela corrida e engenharia. em escritório. em escritório. em escritório. em', 'No entanto, isto pode ser evitado se a infiltraç ⁇ o é subepithelial. ', 'Tipo de Publicaç ⁇ o Português: Bibliografia)', 'Modificaç ⁇ o do Programa:  ⁇ s vezes, v ⁇ rus Worm:Win32/Dedler.F ou malware SWiJ SideWinder, mas também softwares comuns têm a capacidade de modificar as funç ⁇ es internas de FXUCU001.DLL, o que significa que outros programas n ⁇ o podem', 'Em alguns casos o jogador de m ⁇ dia QuickTime acabou o funcionamento liso do v ⁇ deo MOV devido a alguns problemas de corrupç ⁇ o.', 'Ele é professor de Ciência Pol ⁇ tica da Universidade Pompeu Fabra em Barcelona. em Barcelona. em Barcelona. em Barcelona. em Barcelona. em Barcelona. em Barcelona. em Barcelona.', 'Aditivos cosméticos n ⁇ o devem perder......', 'Comentários para teste de preservativo de Estrada', 'Como eu obter uma extens ⁇ o da minha autorizaç ⁇ o estudante?', 'A  ⁇ ndia da intervenç ⁇ o dos EUA em l ⁇ ngua!', 'Nabertherm com 450 funcionários em todo o mundo est ⁇ o desenvolvidos e produzindo fornos industriais para muitos aplicaç ⁇ es diferentes para mais de 60 anos. Como fabricante, Nabertherm oferece a maior gama de fornos mundanos.', \"Nós chamamos essas qu ⁇ micas 'elementos'. em breve. em breve. \", 'Avaliaç ⁇ o especializada – coordenaç ⁇ o de equipes de especialistas selecionados para a avaliaç ⁇ o independente de estudos ambientais complexos.', 'Existe uma sala de armazenamento de bagagem fornecida no hostel. a acesso a acessória. a acessória a acessória. a a', 'Este é um módulo de atualizaç ⁇ o, deve trabalhar junto com cabo Micronas OBD TOOL (CDC32XX), n ⁇ o pode funcionar sozinho.', '116 Ent ⁇ o seja a Deus, o verdadeiro Rei; n ⁇ o é lá, mas Ele, o Senhor do dominion honrável. a cima de cima. a cima de cima. a cima de cima. a c', 'Educaç ⁇ o tecnológica em Arequipa.....', 'Andinia.com - Dicionário ao ar livre: Messan', 'VEMAG é o  ⁇ nico fabricante de reservadores de pó de pó que cumprir com os requisitos da USDA ex trabalhos. com o  ⁇ nico fabricante de pós-pós-pós-pós-pós-pós-pós-pós-p', 'Institutos em Pereira (Risaralda, Colômbia) Faculdades e escolas em Risaralda', 'Mineraç ⁇ o: equipamentos e suprimentos em Yugo-Zapadny okrug, Moscouem Nairobi-vindas.net-boa.net-boa.net-boa.net', '• Previs ⁇ o correta do serviço', 'Quando falamos a mesma linguagem é porque temos a mesma m ⁇ e. E isto nos dá esperança.', 'Vários tipos de acomodaç ⁇ es dispon ⁇ veis para seu alojamento em Carvoeiro: apartamentos de luxo ou hotéis carvoeiro baratos, e também cama & breakfast. em Carvoeiro. em Carvoeiro: apartamentos de luxo ou hotéis', 'As profecias sobre este s ⁇ o gravadas nos dias 38 e 39o capitulo de Ezequil. Verso 8 do capitulo 38 é abordado a Israel, e li: “Depois de muitos dias será visitado; nos  ⁇ ltimos anos vir ⁇ o na terra que é', 'A Casa imediatamente se tornou lugar de cult e em torno dele desenvolveu o médio Loreto: a parede incr ⁇ vel projetada por Antonio da Sangallo il Giovane foram erradas em 1518 e reforçada com quatro bastions em 1600.', 'N ⁇ o havia outro poder pelo qual poderia ser entregue. a córdula. como os quais eles poderiam ser entregue.', 'Qualidade é um m ⁇ nimo para nós e estamos sempre procurando maneiras/acessórios para nos ajudar a entregar o melhor.', 'A forma tinha se tornou concentrada e engraçada. Eu rii: em efeito. em efeito. em efeito: em efeito.', 'Embora n ⁇ o é completamente certo, muitos chefes brasileiros concordam que a picanha cortada ocorreu no Rio Grande do Sul, o estado mais sul do Brasil, famoso por seu churrasco.', 'A condiç ⁇ o de aceitaç ⁇ o completa em cada hora no processo de ajuste do primeiro bloco da oferta de venda significa que apenas o primeiro bloco será programado em uma hora espec ⁇ fica se n ⁇ o é ligado completamente, e todos os bloc', 'Agora Davi, filho de Jesse reinou sobre todo o Israel. em cima de cima de cima de Davi. em cima de cima de cima de cima de cima de cima de cima de cima de cima de Davi', 'O raz ⁇ o e os pensamentos do cérebro no processo de fazer decis ⁇ o.', 'Em outros fragmentos evangelizais, Jesus refere-se à falta de fé de seus seguidores. o mesmo Jesus é o mesmo Jesus é o mesmo Jesus é a falta de f', '3 Jesus sabendo que o Pai tinha dado todas as coisas em suas m ⁇ os, e que ele era de Deus, e foi a Deus;', \"Como jogar o jogo de Peppy's Thandie Newton Vestir:\", 'Fabricaç ⁇ o de artigos de couro.... em cinza em San Juan', 'Os valores do parâmetro variam de 0 a 200%.', 'Downloads de software relacionados com a extens ⁇ o de arquivo RB:', 'Os Estados Contratados podem recusar reconhecer um diário ou separaç ⁇ o legal se é incompat ⁇ vel com uma decis ⁇ o anterior determinando o status matrimonial dos cônjuges e a decis ⁇ o é feita no Estado em que a reconhecimento é procurada,', \"Com uma localizaç ⁇ o em cima do Grand Place e do centro histórico de Brussels, o Ibis Brussels Off Grand'Place oferece um acesso direto ao aeroporto internacional pela estaç ⁇ o ferroviária.\", 'A mapa energética descobri todas as perturbaç ⁇ es geológicas subterrâneas, perturbaç ⁇ es que foram usadas para beneficiar os locais e aumentar muito o n ⁇ vel de energia. em medida em medida em medida em', 'Malaria O que você pode fazer', 'A PLEASURE do Santo Padre Thomas Aquinas ou SEC ⁇ O OLIVA DOMINICAN?. Esperamos que o Santo Padre, com ajuda do Esp ⁇ rito Santo, tem o poder de unir o mundo católico, hoje [...]', 'Naquela noite José, Maria, e Jesus caminhou uma milha e uma metade ao local do antigo Jericó, onde Josuéu, por quem Jesus foi nomeado, tinha realizado suas exploitas com a tradiç ⁇ o judicana.', 'O principal objetivo da miss ⁇ o será trazer um módulo russo Rassvet Mini-Research. Este será a  ⁇ ltima viagem do Shuttle Atlantis e [...]', 'Eu pinto-os com epoxi para que n ⁇ o eram molhados com a condenaç ⁇ o da tenda. em epoxi para que n ⁇ o sa ⁇ am com a condens ⁇ o da tenda. ', 'Recuperaç ⁇ o de Res ⁇ duos em Santa Clara (Villa Clara, Cuba) - Amarillascuba.net', 'Nossa experiência com processos de separaç ⁇ o em refinarias...linha em...linha em...linha em San Juan ', '(4) Nossas condiç ⁇ es gerais de compra também s ⁇ o requer relaç ⁇ es futuras com o fornecedor. a qualquer relaç ⁇ o de negócios futuras com o fornecedor. os nossos condiç ⁇ es', 'Em km 31, os verde intensos dos fluxos a essa ela começa a cruzar o limite do sul da gama de Montanha do vento, com uma formaç ⁇ o montanha de endereço ao norte-sul, tem o seu fim norte para o vulc ⁇ o Domuyo.', 'Cortinas de uso  ⁇ nico feitas de tecidos da posiç ⁇ o 5603, de um tipo utilizado durante procedimentos cir ⁇ rgicos 6307 90 92 em código em cinza em cinza em cinza em cin', 'Há 6 dias 10:01 XCafe esporradela, esporradela, caseira, caseira, esporradela, esporradela, esporradela, esporradela, esporradelaa, esporradelacacacacacacacacacacacacaca ', 'Excepcionalmente 120 sacerdotes jogaram trombetas na consagraç ⁇ o do templo de Salom ⁇ o.']\n",
            "tensor(21.4380)\n",
            "--------------------------------------------------------------------------------\n",
            "TEST RESULTS\n",
            "{'avg_test_bleu': tensor(22.6276)}\n",
            "--------------------------------------------------------------------------------\n",
            "\n"
          ],
          "name": "stdout"
        }
      ]
    },
    {
      "cell_type": "markdown",
      "metadata": {
        "id": "dQBZIWngrHcp",
        "colab_type": "text"
      },
      "source": [
        "# Comparison: Top-k"
      ]
    },
    {
      "cell_type": "markdown",
      "metadata": {
        "colab_type": "text",
        "id": "B_3rmN-59xVL"
      },
      "source": [
        "### Hugging face decoder"
      ]
    },
    {
      "cell_type": "code",
      "metadata": {
        "id": "V9Mg8a6d8TPr",
        "colab_type": "code",
        "colab": {
          "base_uri": "https://localhost:8080/",
          "height": 254,
          "referenced_widgets": [
            "d9956715545448049ea700046efcb50d",
            "8161e41113eb40e4bf3e6f83f9a698b6",
            "4b8bf169a9e34388ad90e8f4e49cf3ef",
            "12952cdc5bc645069f56f7b9fe31a46d",
            "bae27ec3a0e348b3928d6e734d6e4cb3",
            "b7895283e1c94eee9947ae0ec5ea3ac0",
            "8e82e52d6d4842598428a5e9a22a03cc",
            "1c939f0395f040f68e4a4aa0cdee3675"
          ]
        },
        "outputId": "0c116a66-fc0a-4e53-b871-823b96c84dc3"
      },
      "source": [
        "model.decoder = 'top-k'\n",
        "model.k = 5\n",
        "model.hugging_face = True\n",
        "#------------------------------------------------------\n",
        "trainer_decoder_comparison.test(model)"
      ],
      "execution_count": 53,
      "outputs": [
        {
          "output_type": "display_data",
          "data": {
            "application/vnd.jupyter.widget-view+json": {
              "model_id": "d9956715545448049ea700046efcb50d",
              "version_minor": 0,
              "version_major": 2
            },
            "text/plain": [
              "HBox(children=(FloatProgress(value=1.0, bar_style='info', description='Testing', layout=Layout(flex='2'), max=…"
            ]
          },
          "metadata": {
            "tags": []
          }
        },
        {
          "output_type": "stream",
          "text": [
            "('In this way, the civil life of a nation matures, making it possible for all citizens to enjoy the fruits of genuine tolerance and mutual respect.', '1999 XIII. Winnipeg, Canada July 23 to August 8', \"In the mystery of Christmas, Christ's light shines on the earth, spreading, as it were, in concentric circles.\", 'making it viable to drill two new boreholes in the west of that peninsula.', 'His eyes were shining and his voice was cheerful.', 'Injuries, accidents, bereavement, abuse, separation, shock, rape, bullying, harassment, stress, depression, anxiety, eating.', 'Whiteness HP Maxx is a 35% hydrogen peroxide whitening gel for the whitening of vital and non-vital teeth.', 'Lines: with indication of Line Number, From and To ends, insulation, the P&ID where they are drawn.', 'The cruises depart from Manaus, capital of the State of Amazonas, a city in the jungle that prospered during the rubber boom last century and where you will find a smaller copy of the Opera House in Paris, France. There is a choice of a three or four days cruises, both of which include the “Meeting of the Waters”, where the Rio Negro and the Amazon River converge.', 'By bringing 9/11 out into the open they ensured that it was given worldwide attention, and that the truth would be sought and the perpetrators identified and held to account.', '“Like Williams, Cosworth is an independent company whose owners share our passion for racing and engineering.', 'However, this can be avoided if infiltration is subepithelial.', 'Publication Type English: Bibliography', \"Program Modification: Sometimes, not only virus Worm:Win32/Dedler.F or malware SWiJ SideWinder but also common softwares possessing the ability to modify the inner functions of FXUCU001.DLL, which means other programs can't find this DLL file again.\", 'In some cases QuickTime media player halts smooth running of the MOV video due to some corruption issues.', 'He is currently Professor of Political Science at the University Pompeu Fabra in Barcelona.', 'Cosmetic additives must not penetrate.', 'Comments for Highway condom test', 'How do I obtain an extension of my student authorization?', 'Enough of US intervention in Latin !.', 'Nabertherm with 450 employees worldwide have been developing and producing industrial furnaces for many different applications for over 60 years. As a manufacturer, Nabertherm offers the widest and deepest range of furnaces worldwide.', \"We call these chemicals 'elements'.\", 'Expert Review – coordination of teams of selected experts for the independent evaluation of complex environmental studies.', 'Thereto there is a luggage storage room provided in the hostel.', 'This is a update module, must works together with Micronas OBD TOOL (CDC32XX) cable, cannot works alone.', '116 So exalted be Allah, the True King; no god is there but He, the Lord of the honorable dominion.', 'Technological education in Arequipa', 'Andinia.com - Outdoor Dictionary: Messan', 'VEMAG is the only manufacturer of vacuum fillers that complies with USDA requirements ex works.', 'Institutes in Pereira (Risaralda, Colombia) Colleges and schools in Risaralda', 'Mining equipment and supplies in Yugo-Zapadny okrug, Moscow', '• Correct provision of the service', 'When we speak the same language it is because we have the same mother. And this gives us hope.', 'Several kinds of accommodations available for your lodging in Carvoeiro: apartments, luxury or cheap Carvoeiro hotels, and also bed & breakfast.', 'Prophecies concerning this are recorded in the 38th and 39th chapters of Ezekiel. Verse 8 of chapter 38 is addressed to Israel, and reads, “After many days thou shalt be visited: in the latter years thou shalt come into the land that is brought back from the sword, and is gathered out of many people, against the mountains of Israel, which have been always waste: but it is brought forth out of the nations, and they shall dwell safely all of them.”', 'The House immediately became place of cult and around to it developed the medieval Loreto: the impressive wall projected by Antonio da Sangallo il Giovane were erected in 1518 and reinforced with four bastions in 1600.', 'There was no other power by which they could be delivered.', 'Quality is a must for us and we are always looking for ways/tools to help us to delivery the best.', 'The form had become focused and funny. I laughed:', 'Although it is not completely certain, many Brazilian chefs agree that the picanha cut originated in Rio Grande do Sul, the southernmost state of Brazil, famous for its churrasco.', 'The condition of complete acceptance in each hour in the matching process of the first block of the sale bid means that only the first block will be programmed in a specific hour if it is not matched completely, and all the blocks in that hour will be withdrawn and not the bid presented for the other hours.', 'Now David the son of Jesse reigned over all Israel.', 'The brain’s reasoning and thoughts in the decision-making process.', 'In other evangelic fragments the same Jesus refers to the lack of faith of his followers.', '3 Jesus knowing that the Father had given all things into his hands, and that he was come from God, and went to God;', \"How to play Peppy' s Thandie Newton Dress Up:\", 'Manufacture of leather goods....', 'The values of the parameter vary from 0 to 200%.', 'Software Downloads Associated with File Extension RB:', 'Contracting States may refuse to recognise a divorce or legal separation if it is incompatible with a previous decision determining the matrimonial status of the spouses and that decision either was rendered in the State in which recognition is sought, or is recognised, or fulfils the conditions required for recognition, in that State.', \"With a top location at the Grand Place and the historical center of Brussels, the Ibis Brussels Off Grand'Place offers a direct access towards the international airport by the railway station.\", 'Energetic mapping uncovers all geology disturbances underground, disturbances which were used to benefit the locations and greatly increase their energy level.', 'Malaria What You Can Do', 'THE PLEASURE OF HOMOSEXUAL SECOND Saint Thomas Aquinas OR SECOND THE DOMINICAN ADRIANO OLIVA? . We hope that the Holy Father, with the help of the Holy Spirit, has the power to unite the Catholic world, today […]', 'That evening Joseph, Mary, and Jesus walked a mile and a half to the site of the ancient Jericho, where Joshua, for whom Jesus was named, had performed his renowned exploits, according to Jewish tradition.', 'The main objective of the mission will be to bring a Russian module Rassvet Mini-Research Module. This will be the last trip of the Shuttle Atlantis, and [...]', 'I paints them with epoxi so that they were not wet with the condensation of the tent.', 'Waste recycling in Santa Clara (Villa Clara, Cuba) - Amarillascuba.net', 'Our experience with separation processes in refineries ...', '(4) Our General Conditions of Purchase shall also apply for any future business relations with the supplier.', 'In km 31, the intense greens of the streams sink to the coloring and it begins to cross the south limit of the Mountain range of the Wind, with a mountain formation of address north-south, has their north end for the volcano Domuyo.', 'Single-use drapes made up of fabrics of heading 5603, of a kind used during surgical procedures 6307 90 92', '6 days ago 10:01 XCafe blowjob, whore, dogging, homemade, facial, German, milf', 'Exceptionally, 120 priests played trumpets at the consecration of Solomon’s Temple.')\n",
            "('Deste modo, a vida civil de uma nação amadurece, fazendo com que todos os cidadãos gozem dos frutos da tolerância genuína e do respeito mútuo.', '1999 XIII. Winnipeg, Canadá 23 de julho a 8 de agosto', 'No mistério do Natal, a luz de Cristo irradia-se sobre a terra, difundindo-se como círculos concêntricos.', 'e tem o objetivo de viabilizar a perfuração de dois novos furos no ocidente da citada península.', 'Seus olhos brilhavam e sua voz era alegre.', 'Lesões, acidentes, luto, abuso, separação, choque, violação, assédio moral, assédio, stress, depressão, ansiedade, comer.', 'Whiteness HP Maxx é um clareador à base de peróxido de hidrogênio a 35% para clareamento de dentes vitais e não vitais.', 'Linhas: com indicação do número de linha, as extremidades, o isolamento, o P&ID onde estão desenhadas.', 'O Desafio parte de Manaus, capital do estado do Amazonas, uma cidade próspera pelo auge da borracha no séc.XIX, e onde se encontra uma cópia em menores proporções da Casa de Ópera de Paris, na França. Existe a possibilidade de 3 ou 4 dias de cruzeiro, dos que só incluem o encontro com as águas , onde o Rio Solimões e Negro se unem sem mesclar suas águas.', 'Ao trazer o assunto sobre o 9/11 para a ribalta asseguram que seja dada atenção mundial, e que a verdade seja pesquisada e tida em conta.', '“Como a Williams, Cosworth é uma empresa independente cujos donos partilham a nossa paixão pelas corridas e engenharia.', 'Contudo, isto pode ser evitado com uma infiltração subepitelial.', 'Tipo de Publicação Inglês: Bibliography', 'Modificação do Programa: Às vezes, o vírus Virus:DOS/Clonewar_252.C, malware History Killer Pro e softwares comuns têm a capacidade de modificar as funções de FXUCU001.DLL. Esta situação faria outros programas não podem encontrar este arquivo DLL.', 'Em alguns casos, media player QuickTime interrompe o bom funcionamento do vídeo MOV, devido a alguns problemas de corrupção.', 'Atualmente é professor de Ciência Política na Universidade Pompeu Fabra em Barcelona.', 'Aditivos cosméticos não devem penetrar.', 'Comentários para o teste do preservativo da estrada', 'Como eu obtenho a extensão de minha Permissão de Estudos?', 'Chega de intervenção dos EUA na América Latina!.', 'A Nabertherm desenvolve e produz com os seus 450 colaboradores a nível mundial, desde há mais de 60 anos, fornos industriais para as mais diferentes áreas de aplicação.', \"Chamamos a essas substâncias de 'elementos'.\", 'Revisão Independente por Peritos (Independent Peer Review)- coordenação de equipas de especialistas para a avaliação independente de estudos ambientais complexos.', 'Da mesma existe uma sala de bagagem prevista no albergue.', 'Este é um módulo de atualização, deve trabalha em conjunto com cabo Micronas OBD TOOL (CDC32XX), não trabalha sozinha.', \"116 Exaltado seja Deus, Verdadeiro, Soberano! Não há mais divindade além d'Ele, Senhor do honorável Trono!\", 'Educação tecnológica em Peru', 'Andinia.com - Dicionário ao ar livre: Messan', 'A VEMAG é a única fabricante de preenchedoras a vácuo que está em conformidade com as exigências do USDA ex works.', 'Escolas pré-universitário em Pereira (Risaralda, Colômbia)', 'Mineração: equipamentos e suprimentos em Yugo-Zapadny okrug, Moscú', '• A correcta prestação do serviço', 'Quando se fala a mesma língua é porque se tem a mesma mãe, e isto dá-nos esperança.', 'Vários tipos de acomodações disponíveis para o seu alojamento em Carvoeiro: apartamentos de luxo ou hotéis baratos Carvoeiro, e também bed & breakfast.', 'As profecias sobre este assunto estão registradas nos capítulos 38 e 39 de Ezequiel. O versículo 8 do capítulo 38 é dirigida a Israel, e diz: “ Depois de muitos dias serás visitado. No fim dos anos virás à terra que se recuperou da espada, e que foi congregada dentre muitos povos, junto aos montes de Israel, que sempre se faziam desertos; mas aquela terra foi tirada dentre as nações, e todas elas habitarão seguramente.”', 'A Casa torna-se imediatamente lugar de culto e ao redor desta se desenvolvem todas as habitações da Loreto medieval: as imponentes muralhas projetadas por Antonio da Sangallo il Giovane foram erguidas em 1518 e reforçadas com quatro bastiões, 1600.', 'Nenhum outro poder havia pelo qual pudesse ser libertado.', 'A qualidade é primordial para nós e estamos sempre à procura de maneiras/ferramentas para nos ajudar a entregar o melhor.', 'A forma tinha-se tornado o foco e engraçado. Eu ri:', 'Apesar de não estar comprovado, muitos cozinheiros brasileiros concordam que a picanha foi originada doRio Grande do Sul, um estado famoso pelos seus churrascos.', 'A condição de aceitação completa em cada hora na concertação do primeiro lanço da oferta de venda, implica que só será programada, numa hora determinada, o primeiro lanço em caso de ser concertado na sua totalidade, sendo retiradas todos os lanços para a referida hora, não sendo retirada a oferta realizada para as restantes horas.', 'Assim Davi, filho de Jessé, reinou sobre todo o Israel.', 'As reflexões e pensamentos do cérebro no processo de tomada de decisões da vontade.', 'Em outros fragmentos evangélicos, Jesus Cristo mesmo lamenta a falta de fé de seus seguidores.', '3 Jesus, sabendo que o Pai tinha depositado nas suas mãos todas as coisas, e que havia saído de Deus e ia para Deus,', 'Como jogar Peppy s vestir-se Thandie Newton:', 'Fabricação de artigos de couro....', 'Os valores do parâmetro varia de 0 a 200%.', 'Downloads de Software Associados à Extensão de Ficheiro RB:', 'Qualquer Estado contratante pode recusar o reconhecimento de um divórcio ou de uma separação de pessoas se eles forem incompatíveis com uma decisão anterior cujo objectivo principal fosse o estado matrimonial dos cônjuges, quer proferida no Estado em que o reconhecimento foi invocado quer reconhecida ou reunindo as condições de reconhecimento neste Estado.', \"Com uma excelente localização na Grand Place e no centro histórico de Bruxelas, o ibis Brussels Off Grand'Place oferece acesso direto ao aeroporto internacional pela estação ferroviária.\", 'O mapeamento energético demonstra todas as perturbações geológicas subterrâneas, perturbações essas que eram usadas para beneficiar os locais e elevar grandemente o seu nível energético.', 'Malária O que você pode fazer', 'O PRAZER DE HOMOSSEXUAL SEGUNDA Santo Tomás de Aquino ou o segundo o dominicano ADRIANO OLIVA? . Esperamos que o Santo Padre, com a ajuda do Espírito Santo, tem o poder de unir o mundo católico, hoje […]', 'Naquela noite José, Maria e Jesus caminharam, por cerca de três quilômetros, até o local antigo de Jericó, onde Joshua, cujo nome foi dado a Jesus, tinha realizado as suas renomadas façanhas, de acordo com a tradição judaica.', 'O principal objetivo da missão terá um módulo russo RASSVET Mini-Módulo de Investigação. Esta será a última viagem do ônibus espacial Atlantis, e [...]', 'Pintei com epoxi para não se molharem com a condensação do barraco.', 'Saneamento ambiental em Cifuentes (Villa Clara, Cuba) - Amarillascuba.net', 'Nossa experiência com processos de separação em refinarias ...', '(4) Os nossos termos e condições de compra ainda terão vigor em todos os negócios futuros com o fornecedor.ier.', 'Em km 31, os intensos verdes dos fluxos afundam à coloração e começa a cruzar o limite sul da gama Montesa do Vento, com uma formação montesa de endereço norte-sul, tem o norte terminar para o vulcão Domuyo.', 'Lençóis descartáveis confecionados com matérias da posição5603, do tipo utilizado durante as intervenções cirúrgicas 6307 90 92', 'Há 6 dias 10:01 XCafe sexo oral, putas, posição de cachorro, caseiras, ejaculação na cara, alemão, milf', 'Excepcionalmente, 120 sacerdotes tocaram trombetas na consagração do Templo de Salomão.')\n",
            "['Desta forma, a vida civil de uma naç ⁇ o se efeita, tornando-o poss ⁇ vel para os cidad ⁇ os desfrutando os frutos de tolerância e respeito mutual.', '1999 XIII. Winnipeg, Canadá 23 a 8 de agosto', 'No mistério do Natal, a luz de Cristo brilha sobre a terra, esporrindo-se, como fosse, nas c ⁇ rculos conc ⁇ micos.', 'para ocidental fazer o sustentável perfurar dois novos trouchas em oeste daquela peninsula.', 'Os seus olhos estavam brilhendo e sua voz era bonita.', 'Os enfermoços, acidentes, abuso, abuso, separaç ⁇ o, separa ⁇ o, choque, abus ⁇ o, depress ⁇ o, agitaç ⁇ o, angoxias, comida.', 'Whiteness HP Maxx é um gel de brilho de hidro ⁇ dio de 35% para o clarecimento dos dentes vi ⁇ neos vitais.', 'Linhas: em indicaç ⁇ o do n ⁇ mero de linha, de e a cima, isolamento e P&ID onde eles s ⁇ o esmonadas.', 'As crucificadas sair ⁇ o de Manaus, capital do Estado de Amazonas, uma cidade da jungle que prosperou durante a explos ⁇ o de borracha em século passado e onde você encontrará uma mais pequena cópia da Casa Opera em Paris, Fran', 'Ao levar o 11 de sa ⁇ do para o aberto eles garantiram que era dada atenç ⁇ o mundial, sendo a verdade procurada e os fazendos identificando e mandaram para conta.', '“Like Williams, a cosworth é empresa independente cuja propriedade compartilham nossa paix ⁇ o pela corrida e engenharia.', 'Mas, isto pode ser evitado se as infiltraç ⁇ es é subepithelia.', 'Tipo de Publicaç ⁇ o Português: Bibliografia', 'Modificaç ⁇ o do Programa:  ⁇ s vezes, e v ⁇ rus Worm:Win32/Dedler.F ou malware SWiJ SideWinder, mas também softwares comuns têm a capacidade de modificar as funç ⁇ es internas do FXUU001.DLL, o que significa que outros programas n ⁇ ', 'Nos alguns casos, o jogador de media QuickTime encaixa a funcionamento suave do v ⁇ deo MOV por causa de alguns problemas de corrupç ⁇ o.', 'Ele é professora de Ciência Pol ⁇ tica na Universidade Pompeu Fabra em Barcelona.', 'Aditivos cosómicos n ⁇ o devem perder.', 'Comentários para Teste de preservaç ⁇ o da Estrada', 'Como eu recebo uma extens ⁇ o da minha autorizaç ⁇ o aluno?', 'A essa intervenç ⁇ o dos EUA em l ⁇ nguas!.', 'Nabertherm com 450 funcionários em todo o tempo desenvolvendo e produzindo fornos industriais para muitos aplicativos diferentes para mais de 60 anos. Como fabricante, Nabertherm fornece a maior gama de fornos do mundo.', 'Nós chamamos essas quex ⁇ micas ’elementos’.', 'Avaliaç ⁇ o de Especial - coordenaç ⁇ o das equipes de especialistas determinadas para a avaliaç ⁇ o independente de estudos ambientais complexos.', 'Existe, em todos, uma sala de bagagem com a acesso na pousa de pousada.', 'Este é um módulo de atualizaç ⁇ o, deve funcionar conjunto com cabo Micronas OBD TOOL (CDC32XX, n ⁇ o o trabalho sozinhos.', '116 Por isso, fazia a Deus, o verdadeiro rei; n ⁇ o está lá como Ele, Senhor do domin ⁇ nio honrável.', 'Educaç ⁇ o tecnológica em Arequipa', 'Andinia.com - Dicionário ao ar livre: Messan', 'A VEMAG é o  ⁇ nico fabricante de carreiras de vapor que cumprir as requisitos da USDA ex obras.', 'Institutos em Punta Cantán, Colômbia', 'Mineraç ⁇ o: equipamentos e acessórios em Yugo-Zapadny okrug, Moscow', '• Preconiç ⁇ o correta do serviço', 'Quando falamo a mesma linguagem é porque temos o mesmo m ⁇ e. E isso nos dá esperança.', 'vários tipos de acomodaç ⁇ es dispon ⁇ veis para seu alojamento em Carvoeiro: apartamentos, hotéis de luxo ou carvoeiro barato, e também cama & pequeno-almoço.', 'Os faç ⁇ es em relaç ⁇ o eis s ⁇ o gravados no dia 38 e 39 de Ticéu. Verso 8 do cap ⁇ tulo 38 é direta a Israel, e leis: « Depois de muitos dias será visitado, nos  ⁇ ltimos anos virá na ', 'A Casa tornou-se imediatamente lugar de cult e em torno de ele desenvolveu o médio Loreto: a parede incr ⁇ vel projetada por Antonio da Sangallo il Giovane estive erected em 1518, e reforçada com quatro fundamentos', 'N ⁇ o havia outro poder por que poderia ser entregues.', 'Qualidade é um objetivo para nós e estamos sempre buscando caminhos/redes para ajudar a entregar o melhor.', 'A forma foi focada e entrar. Razi:', 'Embora n ⁇ o é completamente certo, muitos chefes brasileiros concordam que a picanha cortida ao Rio Grande do Sul, a estada maior do Brasil, famosa por Seu churrasco.', 'A condiç ⁇ o de aceitaç ⁇ o completa em cada hora no processo de correç ⁇ o da oferta de venda significa que apenas o primeiro bloco será programado de uma hora espec ⁇ fica se n ⁇ o seja completamente e todos os blocos nesta hora ser ⁇ o ', 'Agora Davi, filho de Jesse reinou sobre todo o Israel.', 'O raz ⁇ o de pensamento e os pensamentos no processo com fazer decis ⁇ es.', 'Em outros fragmentos evangelizais, Jesus refere-se à falta de fé de seus seguidores.', '3 Jesus, saber que o Pai tinha dado todas as coisas em suas m ⁇ os e que ele foi de Deus e foi à Deus;', \"Como jogar Peppy' s Thandie Newton Vestir:\", 'Fabricaç ⁇ o de artigos roupas....', 'Os valores do parâmetro variam de 0 a 200%.', 'Downloads de software relacionados com a Extens ⁇ o de Ficheiro RB:', 'Estados contratados podem recusar a reconhecer o diabo ou a separaç ⁇ o legal se ela é incompat ⁇ vel com uma decis ⁇ o anterior determinando o status matrimonial dos cônjuges e a essa decis ⁇ o foi obrada no Estado em que é solicitada a', \"Ao pôr com uma localizaç ⁇ o ao Grand Place, no centro histórico de Brussels, o Ibis Brussels Off Grand'Place oferece um acesso direto ao aeroporto internacional da estaç ⁇ o ferroviária.\", 'O mapamento energético descobri todas as perturbaç ⁇ es geologias de underground, perturbaç ⁇ es a que foram usadas para beneficiar as lugares e aumentar grandemente o seu n ⁇ vel de energia.', 'Malaria O que você pode fazer', 'A PLEASURE do santo S ⁇ o José Aquinas ou o SECONDO A ⁇ RINO OLIVA do DOMINI ⁇ O? Esperamos que o Santo Pai, com o apoio do Esp ⁇ rito Santo, tem o poder de unir o mundo católico, hoje [...]', 'Na noite, José, Maria, e Jesus passou um dia e a metade no lugar do antigo Jericó, em quem Jesus é nomeado, tinha executado seus exploitos com o judia.', 'O objetivo principal da miss ⁇ o será trazer um módulo russo de Rassvet Mini Research. Este será o  ⁇ ltimo passeio do Shuttle Atlantis, e [...]', 'Tindo isso com epoxi, de forma a que eles n ⁇ o estavam molhadas com a condenaç ⁇ o da tenda.', 'Recuperaç ⁇ es de Res ⁇ duos em Guavia (Camagüey, Cuba) - Amarillascuba.net', 'Nossa experiência com processos de separaç ⁇ o em refinarias...', '(4) Nossas Condiç ⁇ es Geral de Compra também se aplicar ⁇ o para qualquer futuros relaç ⁇ es de negócios com o fornecedor.', 'No km 31, os verde intensos dos fluxos de sepultura à coloraç ⁇ o e começa a cruzar o limite do sul da variedade montanha do vent, com uma formaç ⁇ o montanha do endereço Norte, tem seu fim norte para o vulc ⁇ o Domuyo.', 'Corte de uso  ⁇ nico feito de tecidos da posiç ⁇ o 5603, de um tipo utilizado por procedimentos cir ⁇ rgicos 6307 90 92', 'Há 6 dias 10:01 XCafe sexo oral, peito, cozinha e c ⁇ o caseira, madeira, ejaculaç ⁇ o, germanas, milf', 'Exceto de 120 sacerdotes jogou trompas da consagrada do templo de Salom ⁇ o.']\n",
            "tensor(21.3075)\n",
            "--------------------------------------------------------------------------------\n",
            "TEST RESULTS\n",
            "{'avg_test_bleu': tensor(20.8351)}\n",
            "--------------------------------------------------------------------------------\n",
            "\n"
          ],
          "name": "stdout"
        }
      ]
    },
    {
      "cell_type": "markdown",
      "metadata": {
        "colab_type": "text",
        "id": "TBitZci_9xVT"
      },
      "source": [
        "### My decoder"
      ]
    },
    {
      "cell_type": "code",
      "metadata": {
        "id": "7Tc101VN8Tq2",
        "colab_type": "code",
        "colab": {
          "base_uri": "https://localhost:8080/",
          "height": 254,
          "referenced_widgets": [
            "f1495894116d44b28259de741aa3dadd",
            "48e1531f25694f8b887caa60b1951432",
            "d9a13276d87c4d349d982aabab54b1b8",
            "4ae65d3a5db041b2bff337230b150499",
            "98fd3526f6554f82880117678dc68fc9",
            "7e4fa5d9d55f4f64a43740bd4435abe5",
            "275ba46b695b4e32b8f29c9eed8740f2",
            "d260801a6f9f4090a6abb6a80930929b"
          ]
        },
        "outputId": "63eca1f7-632a-4f15-82dc-d0711ba446c3"
      },
      "source": [
        "model.decoder = 'top-k'\n",
        "model.k = 5\n",
        "model.hugging_face = False\n",
        "#------------------------------------------------------\n",
        "trainer_decoder_comparison.test(model)"
      ],
      "execution_count": 66,
      "outputs": [
        {
          "output_type": "display_data",
          "data": {
            "application/vnd.jupyter.widget-view+json": {
              "model_id": "f1495894116d44b28259de741aa3dadd",
              "version_minor": 0,
              "version_major": 2
            },
            "text/plain": [
              "HBox(children=(FloatProgress(value=1.0, bar_style='info', description='Testing', layout=Layout(flex='2'), max=…"
            ]
          },
          "metadata": {
            "tags": []
          }
        },
        {
          "output_type": "stream",
          "text": [
            "('In this way, the civil life of a nation matures, making it possible for all citizens to enjoy the fruits of genuine tolerance and mutual respect.', '1999 XIII. Winnipeg, Canada July 23 to August 8', \"In the mystery of Christmas, Christ's light shines on the earth, spreading, as it were, in concentric circles.\", 'making it viable to drill two new boreholes in the west of that peninsula.', 'His eyes were shining and his voice was cheerful.', 'Injuries, accidents, bereavement, abuse, separation, shock, rape, bullying, harassment, stress, depression, anxiety, eating.', 'Whiteness HP Maxx is a 35% hydrogen peroxide whitening gel for the whitening of vital and non-vital teeth.', 'Lines: with indication of Line Number, From and To ends, insulation, the P&ID where they are drawn.', 'The cruises depart from Manaus, capital of the State of Amazonas, a city in the jungle that prospered during the rubber boom last century and where you will find a smaller copy of the Opera House in Paris, France. There is a choice of a three or four days cruises, both of which include the “Meeting of the Waters”, where the Rio Negro and the Amazon River converge.', 'By bringing 9/11 out into the open they ensured that it was given worldwide attention, and that the truth would be sought and the perpetrators identified and held to account.', '“Like Williams, Cosworth is an independent company whose owners share our passion for racing and engineering.', 'However, this can be avoided if infiltration is subepithelial.', 'Publication Type English: Bibliography', \"Program Modification: Sometimes, not only virus Worm:Win32/Dedler.F or malware SWiJ SideWinder but also common softwares possessing the ability to modify the inner functions of FXUCU001.DLL, which means other programs can't find this DLL file again.\", 'In some cases QuickTime media player halts smooth running of the MOV video due to some corruption issues.', 'He is currently Professor of Political Science at the University Pompeu Fabra in Barcelona.', 'Cosmetic additives must not penetrate.', 'Comments for Highway condom test', 'How do I obtain an extension of my student authorization?', 'Enough of US intervention in Latin !.', 'Nabertherm with 450 employees worldwide have been developing and producing industrial furnaces for many different applications for over 60 years. As a manufacturer, Nabertherm offers the widest and deepest range of furnaces worldwide.', \"We call these chemicals 'elements'.\", 'Expert Review – coordination of teams of selected experts for the independent evaluation of complex environmental studies.', 'Thereto there is a luggage storage room provided in the hostel.', 'This is a update module, must works together with Micronas OBD TOOL (CDC32XX) cable, cannot works alone.', '116 So exalted be Allah, the True King; no god is there but He, the Lord of the honorable dominion.', 'Technological education in Arequipa', 'Andinia.com - Outdoor Dictionary: Messan', 'VEMAG is the only manufacturer of vacuum fillers that complies with USDA requirements ex works.', 'Institutes in Pereira (Risaralda, Colombia) Colleges and schools in Risaralda', 'Mining equipment and supplies in Yugo-Zapadny okrug, Moscow', '• Correct provision of the service', 'When we speak the same language it is because we have the same mother. And this gives us hope.', 'Several kinds of accommodations available for your lodging in Carvoeiro: apartments, luxury or cheap Carvoeiro hotels, and also bed & breakfast.', 'Prophecies concerning this are recorded in the 38th and 39th chapters of Ezekiel. Verse 8 of chapter 38 is addressed to Israel, and reads, “After many days thou shalt be visited: in the latter years thou shalt come into the land that is brought back from the sword, and is gathered out of many people, against the mountains of Israel, which have been always waste: but it is brought forth out of the nations, and they shall dwell safely all of them.”', 'The House immediately became place of cult and around to it developed the medieval Loreto: the impressive wall projected by Antonio da Sangallo il Giovane were erected in 1518 and reinforced with four bastions in 1600.', 'There was no other power by which they could be delivered.', 'Quality is a must for us and we are always looking for ways/tools to help us to delivery the best.', 'The form had become focused and funny. I laughed:', 'Although it is not completely certain, many Brazilian chefs agree that the picanha cut originated in Rio Grande do Sul, the southernmost state of Brazil, famous for its churrasco.', 'The condition of complete acceptance in each hour in the matching process of the first block of the sale bid means that only the first block will be programmed in a specific hour if it is not matched completely, and all the blocks in that hour will be withdrawn and not the bid presented for the other hours.', 'Now David the son of Jesse reigned over all Israel.', 'The brain’s reasoning and thoughts in the decision-making process.', 'In other evangelic fragments the same Jesus refers to the lack of faith of his followers.', '3 Jesus knowing that the Father had given all things into his hands, and that he was come from God, and went to God;', \"How to play Peppy' s Thandie Newton Dress Up:\", 'Manufacture of leather goods....', 'The values of the parameter vary from 0 to 200%.', 'Software Downloads Associated with File Extension RB:', 'Contracting States may refuse to recognise a divorce or legal separation if it is incompatible with a previous decision determining the matrimonial status of the spouses and that decision either was rendered in the State in which recognition is sought, or is recognised, or fulfils the conditions required for recognition, in that State.', \"With a top location at the Grand Place and the historical center of Brussels, the Ibis Brussels Off Grand'Place offers a direct access towards the international airport by the railway station.\", 'Energetic mapping uncovers all geology disturbances underground, disturbances which were used to benefit the locations and greatly increase their energy level.', 'Malaria What You Can Do', 'THE PLEASURE OF HOMOSEXUAL SECOND Saint Thomas Aquinas OR SECOND THE DOMINICAN ADRIANO OLIVA? . We hope that the Holy Father, with the help of the Holy Spirit, has the power to unite the Catholic world, today […]', 'That evening Joseph, Mary, and Jesus walked a mile and a half to the site of the ancient Jericho, where Joshua, for whom Jesus was named, had performed his renowned exploits, according to Jewish tradition.', 'The main objective of the mission will be to bring a Russian module Rassvet Mini-Research Module. This will be the last trip of the Shuttle Atlantis, and [...]', 'I paints them with epoxi so that they were not wet with the condensation of the tent.', 'Waste recycling in Santa Clara (Villa Clara, Cuba) - Amarillascuba.net', 'Our experience with separation processes in refineries ...', '(4) Our General Conditions of Purchase shall also apply for any future business relations with the supplier.', 'In km 31, the intense greens of the streams sink to the coloring and it begins to cross the south limit of the Mountain range of the Wind, with a mountain formation of address north-south, has their north end for the volcano Domuyo.', 'Single-use drapes made up of fabrics of heading 5603, of a kind used during surgical procedures 6307 90 92', '6 days ago 10:01 XCafe blowjob, whore, dogging, homemade, facial, German, milf', 'Exceptionally, 120 priests played trumpets at the consecration of Solomon’s Temple.')\n",
            "('Deste modo, a vida civil de uma nação amadurece, fazendo com que todos os cidadãos gozem dos frutos da tolerância genuína e do respeito mútuo.', '1999 XIII. Winnipeg, Canadá 23 de julho a 8 de agosto', 'No mistério do Natal, a luz de Cristo irradia-se sobre a terra, difundindo-se como círculos concêntricos.', 'e tem o objetivo de viabilizar a perfuração de dois novos furos no ocidente da citada península.', 'Seus olhos brilhavam e sua voz era alegre.', 'Lesões, acidentes, luto, abuso, separação, choque, violação, assédio moral, assédio, stress, depressão, ansiedade, comer.', 'Whiteness HP Maxx é um clareador à base de peróxido de hidrogênio a 35% para clareamento de dentes vitais e não vitais.', 'Linhas: com indicação do número de linha, as extremidades, o isolamento, o P&ID onde estão desenhadas.', 'O Desafio parte de Manaus, capital do estado do Amazonas, uma cidade próspera pelo auge da borracha no séc.XIX, e onde se encontra uma cópia em menores proporções da Casa de Ópera de Paris, na França. Existe a possibilidade de 3 ou 4 dias de cruzeiro, dos que só incluem o encontro com as águas , onde o Rio Solimões e Negro se unem sem mesclar suas águas.', 'Ao trazer o assunto sobre o 9/11 para a ribalta asseguram que seja dada atenção mundial, e que a verdade seja pesquisada e tida em conta.', '“Como a Williams, Cosworth é uma empresa independente cujos donos partilham a nossa paixão pelas corridas e engenharia.', 'Contudo, isto pode ser evitado com uma infiltração subepitelial.', 'Tipo de Publicação Inglês: Bibliography', 'Modificação do Programa: Às vezes, o vírus Virus:DOS/Clonewar_252.C, malware History Killer Pro e softwares comuns têm a capacidade de modificar as funções de FXUCU001.DLL. Esta situação faria outros programas não podem encontrar este arquivo DLL.', 'Em alguns casos, media player QuickTime interrompe o bom funcionamento do vídeo MOV, devido a alguns problemas de corrupção.', 'Atualmente é professor de Ciência Política na Universidade Pompeu Fabra em Barcelona.', 'Aditivos cosméticos não devem penetrar.', 'Comentários para o teste do preservativo da estrada', 'Como eu obtenho a extensão de minha Permissão de Estudos?', 'Chega de intervenção dos EUA na América Latina!.', 'A Nabertherm desenvolve e produz com os seus 450 colaboradores a nível mundial, desde há mais de 60 anos, fornos industriais para as mais diferentes áreas de aplicação.', \"Chamamos a essas substâncias de 'elementos'.\", 'Revisão Independente por Peritos (Independent Peer Review)- coordenação de equipas de especialistas para a avaliação independente de estudos ambientais complexos.', 'Da mesma existe uma sala de bagagem prevista no albergue.', 'Este é um módulo de atualização, deve trabalha em conjunto com cabo Micronas OBD TOOL (CDC32XX), não trabalha sozinha.', \"116 Exaltado seja Deus, Verdadeiro, Soberano! Não há mais divindade além d'Ele, Senhor do honorável Trono!\", 'Educação tecnológica em Peru', 'Andinia.com - Dicionário ao ar livre: Messan', 'A VEMAG é a única fabricante de preenchedoras a vácuo que está em conformidade com as exigências do USDA ex works.', 'Escolas pré-universitário em Pereira (Risaralda, Colômbia)', 'Mineração: equipamentos e suprimentos em Yugo-Zapadny okrug, Moscú', '• A correcta prestação do serviço', 'Quando se fala a mesma língua é porque se tem a mesma mãe, e isto dá-nos esperança.', 'Vários tipos de acomodações disponíveis para o seu alojamento em Carvoeiro: apartamentos de luxo ou hotéis baratos Carvoeiro, e também bed & breakfast.', 'As profecias sobre este assunto estão registradas nos capítulos 38 e 39 de Ezequiel. O versículo 8 do capítulo 38 é dirigida a Israel, e diz: “ Depois de muitos dias serás visitado. No fim dos anos virás à terra que se recuperou da espada, e que foi congregada dentre muitos povos, junto aos montes de Israel, que sempre se faziam desertos; mas aquela terra foi tirada dentre as nações, e todas elas habitarão seguramente.”', 'A Casa torna-se imediatamente lugar de culto e ao redor desta se desenvolvem todas as habitações da Loreto medieval: as imponentes muralhas projetadas por Antonio da Sangallo il Giovane foram erguidas em 1518 e reforçadas com quatro bastiões, 1600.', 'Nenhum outro poder havia pelo qual pudesse ser libertado.', 'A qualidade é primordial para nós e estamos sempre à procura de maneiras/ferramentas para nos ajudar a entregar o melhor.', 'A forma tinha-se tornado o foco e engraçado. Eu ri:', 'Apesar de não estar comprovado, muitos cozinheiros brasileiros concordam que a picanha foi originada doRio Grande do Sul, um estado famoso pelos seus churrascos.', 'A condição de aceitação completa em cada hora na concertação do primeiro lanço da oferta de venda, implica que só será programada, numa hora determinada, o primeiro lanço em caso de ser concertado na sua totalidade, sendo retiradas todos os lanços para a referida hora, não sendo retirada a oferta realizada para as restantes horas.', 'Assim Davi, filho de Jessé, reinou sobre todo o Israel.', 'As reflexões e pensamentos do cérebro no processo de tomada de decisões da vontade.', 'Em outros fragmentos evangélicos, Jesus Cristo mesmo lamenta a falta de fé de seus seguidores.', '3 Jesus, sabendo que o Pai tinha depositado nas suas mãos todas as coisas, e que havia saído de Deus e ia para Deus,', 'Como jogar Peppy s vestir-se Thandie Newton:', 'Fabricação de artigos de couro....', 'Os valores do parâmetro varia de 0 a 200%.', 'Downloads de Software Associados à Extensão de Ficheiro RB:', 'Qualquer Estado contratante pode recusar o reconhecimento de um divórcio ou de uma separação de pessoas se eles forem incompatíveis com uma decisão anterior cujo objectivo principal fosse o estado matrimonial dos cônjuges, quer proferida no Estado em que o reconhecimento foi invocado quer reconhecida ou reunindo as condições de reconhecimento neste Estado.', \"Com uma excelente localização na Grand Place e no centro histórico de Bruxelas, o ibis Brussels Off Grand'Place oferece acesso direto ao aeroporto internacional pela estação ferroviária.\", 'O mapeamento energético demonstra todas as perturbações geológicas subterrâneas, perturbações essas que eram usadas para beneficiar os locais e elevar grandemente o seu nível energético.', 'Malária O que você pode fazer', 'O PRAZER DE HOMOSSEXUAL SEGUNDA Santo Tomás de Aquino ou o segundo o dominicano ADRIANO OLIVA? . Esperamos que o Santo Padre, com a ajuda do Espírito Santo, tem o poder de unir o mundo católico, hoje […]', 'Naquela noite José, Maria e Jesus caminharam, por cerca de três quilômetros, até o local antigo de Jericó, onde Joshua, cujo nome foi dado a Jesus, tinha realizado as suas renomadas façanhas, de acordo com a tradição judaica.', 'O principal objetivo da missão terá um módulo russo RASSVET Mini-Módulo de Investigação. Esta será a última viagem do ônibus espacial Atlantis, e [...]', 'Pintei com epoxi para não se molharem com a condensação do barraco.', 'Saneamento ambiental em Cifuentes (Villa Clara, Cuba) - Amarillascuba.net', 'Nossa experiência com processos de separação em refinarias ...', '(4) Os nossos termos e condições de compra ainda terão vigor em todos os negócios futuros com o fornecedor.ier.', 'Em km 31, os intensos verdes dos fluxos afundam à coloração e começa a cruzar o limite sul da gama Montesa do Vento, com uma formação montesa de endereço norte-sul, tem o norte terminar para o vulcão Domuyo.', 'Lençóis descartáveis confecionados com matérias da posição5603, do tipo utilizado durante as intervenções cirúrgicas 6307 90 92', 'Há 6 dias 10:01 XCafe sexo oral, putas, posição de cachorro, caseiras, ejaculação na cara, alemão, milf', 'Excepcionalmente, 120 sacerdotes tocaram trombetas na consagração do Templo de Salomão.')\n",
            "['De este modificand e posetuar-lá para que as libertes da Toletura aula de resposta. O tempo nele está pos ⁇ venvel e que aconhecido e tornar ato que ascédi ⁇ nior para se posir por si a toleráveiser. E, deste maneiro seja um', 'e 8/2008. Winnipeg.Canódulo, Canódor 8 de agosto 1/10/08/2012 (Id. de 1999) 18/10 de Agora) 27:8800 a 8 de outuplo obtera-tia o aconto da cáu-deabro. 8:00 - Américo do Canada) 24/8 de ', 'No Misteria do Primito de Deputador de Natal que se manifestar-a pesa iluminaç ⁇ a sopra o cinta daquelia em centrios de Cólculus. E se esperando-no deste cinco de C ⁇ rebro conscionânico. O que foi, por exedem, o nosc ⁇ rcules.', 'para fezáveil de corrigare dos navi ⁇ ns novas doeste da célie.olha-n ⁇ o do ladr ⁇ n aqui, para que forja um dos outros. Olham olhosos.. Ole é olhadamente, depó... Os dedicadore é um dois', 'Seuse seus Oculhos estiveva brilhanta, sendo ela se a su ⁇  opinia, deleto com um fel ⁇ stio com as seu perd.. eu está de suprimir-teom. - A sua peitura esta fé de cló.... Ele estendei os meuo', 'Acusta, o espord ⁇ ficco, insacêndico, defise aos céu negroso dele e deprimo depila, deprimia, deprimo nenhum ec ⁇ brico depress ⁇  e aos comentos a sepulse, abusio, des', 'Oa luminidad é com HPMaxix é agel com lumionidad ⁇ a do defesa do limpo do tês vitals de garras, por defeiço a dois dedenos. O lumiona é esfacionar de 35% gel de ol ⁇ dul à luminerêm de eficósc ⁇ e', 'Lâmpago - De o P - ID e de o fiquel. a qual acabo. E dep ⁇ sito de estoque, isaquecedura o P&ID. Em tocando estar ⁇ e de opólia.se. O n° de e elh ⁇ e, Izole como para', 'A peça desce de Manas, Capital de Este está de ás amazoneio que prosperea destaque e ondo se aproxime um efl ⁇ bridor da opera House de Paris em Paris de France: estender ⁇ a mais especufeiço com a maior detrada de 3 ou mais de queatros per ⁇ es dia de pedra', 'Atravam do sepulto n ⁇ vel a trandeu 9/11 atenso em abero se apontaria de o municional atendidos e, para ism com que, se fesse buscadas da realidad e que as feitadoreais, identificados ou mantidos para um conte.. e os autorento se referin', '«Aloja, Cois worth, constitui-a é de sua firma independente que donde nos, e a minhas p ⁇ ncula nebra de companhas a sujeira.» deste tipa, Coado de Cooworth, esto que devemos participaremos por sui pac ⁇ a de nos esporte de companha a nos', 'Mas este está que evitedor, que se infiltratione subafilamentas o inferenciador de aina de um. dedo o seu modifico de um sen ⁇ culio.. E se podendor em brechasa.. O inpirador.  ⁇  -tas:: 220.com/', 'Titulofof ⁇ nea  ⁇ lg. Tipe de publico: Literatura.obvióe de publicióptica e especial.oma-dres.):liboografia - biblioografia a  ⁇ ri.) Tipos especóricus  ⁇ ltimino : Bibliografia em ingleso.', 'A Modificat ⁇ o de programmo descrit ⁇ : àis algormos com o V ⁇ nfa v ⁇ rus W2B/F ou fod v ⁇ nrus de vódo W32/Ab.W, programam de gerio, podem obtar um programá de software, incluinda um desfrutando de alteráveisse e as opera', 'Naquelis dese casa, Joger M a media QuickTime acompanha operacionando funcionisma sofre do video MOv e os algun atras ⁇ dico.. O Quicktime.net esfro. - Amorador com assinatura de obra.... escritóricas - Ambre como', 'El fé com actual o encerramenta professor da Science Policy da Unidópia do Barco University Pombo Fabro de Barrança a DuckSeque. O professor de Baratos, no Barca 2010-2007.net n ⁇ O.com. (Gran) de Apocidade Po ⁇ tic, professor de CII). O Professor da Criancial', 'Adesionável decosmético, quem poder ⁇ a pequeizar-lhe como dados.- - Amélibus.  ⁇.A., odocento coólicco, por em seus comido,m, poder, para que assuntesnebrasidas adicçávei. Ad', 'Comemoramos sobrirrado de prefmiodicias de efaito de préserval - Guia.orgia e  ⁇ rea - Guia-Ru ⁇ dielinhas-devivêm test de cobranosliçulas-da.comenu.aspr.', 'Por com isses voca conser ter n ⁇ o permitidos, de estudar um desde o minhas habilite à sua extercito em minhas autorrec.e acertá-lagado? E encontre-me.o - Obti é necdicianada uma proprio aprove', 'Obtende intervençà n ⁇ meri da USA aos leitor n ol ⁇ ncipento... Aqui.comg.com.a.lópcidos adotaç ⁇  n l ⁇  n ⁇ merios da EUB, os larom ⁇ s. Ao longa olham um poucorrer', 'Nábecya, que prová-a, por outuplo de 40 forneces de fornos e a prontomas com muit ⁇ meros recurso às de 60, que seriam por mais grande e de maioria a fórniznizniz de fuso elargargido mundeiamente, de forones de pro', 'Deve-a famo eis esta que a atribu ⁇ nes qu ⁇ nulica de \"élementivo\"!. Os horados n ⁇ meros da próprii organizacional..o com escolha de prov. -lb após-famos.-foi.como', 'Exame de Especialist ⁇ e, - coordination das equipele é o eleiç ⁇  senhadura de testeira independent para analises do traço de ensaimente environnemento complexe e.. E.U, coelaborandO, as treinamencia das echipes da Elaboro ambientalisma, para exame independente como v ⁇ rus, coel', 'H ⁇ o alé com um salá remoto para cintura e fortalecem, no poumo, para casa. O seu pouco e um vareja da poupançaria estar ao aluna de alomanham a partir do hostel, de casaslhos. Aintados há cozinham.com. (Sal ⁇ )m) para al', 'Isté sem software da software aind ⁇, preciso operar associar os cable a OBS ODB Tol. Id. apena de 2XX).soslinhados. -  ⁇ lbb..m  ⁇ bcê..ms de moduso.se.com a Microná S ⁇ ', '106 Porventue, poire-so Allah a tutore Rei. Seu defàcile está algo por issa que Ele o reis o digorado domininior. O Santuario os deuseiros n ⁇ o foi um desejáveis; para todas assinal, deus verdeve ningüem deuse', 'Aduc tópico no Istquipa n.o, código em Doradocólicas, cidades industrialian. Avó apêut eu.c.a pó - GuiamSeguirSanet.com B.Joro adiçárgico. Téco', 'Dizimos de Ao levanto: Marc ⁇ o - Concluto exteriorlhe -te de pesade do tradicionistas: Messanaco.co.com (Mosuid).com detalhado) Diáctios de negronivos de Amarca.com/Diocese  ⁇ o ar livre ao mercador', 'O AVAMAG, um dois fabricanto de embalagen é uma das exigentee à vedul ⁇ da da USA ex funciona de operas.. A Vejam ⁇ a o que aditará. A VEmag ⁇ nio esté como esfora da FMI, seguador com necerto os AUSS. Os', 'Irrejo: institute, engenheiramente da estudo, peraria - Risco a ira de Corredo (Arabá, Bole ⁇ ) e da Guada, col ⁇ via elicina de corrent e efeitu ⁇ sos.sanitaregid ⁇ e, Colégico), Institut', 'Minerada : artific ⁇ aica: vendas az ⁇ os, ciênosis: pse-pie, mochibamba, Mosquésa. Amavanço da artificificaç?az.e, Yuvo, Ocatelócis, aquados, cincos.a.ca.... & consult', 'Servinduras precis ⁇ veeis a um atendiciaçàe de serviçàa 2 -  ⁇ b. • Aprovadura de um servimente ⁇ cidos do Servinta  ⁇ Boas-Fecho ⁇ e – A prestântica de atendedoriamente do servimentamentlbum n.a.', 'Em segrá se referem-ne para escrit ⁇ o da mea melhor, porque, t ⁇ as da praga mesmas, que estou o quer. O segurosso, se deve-lh. aquilo,, por cintu, porque, estando a t ⁇ nis.. E o que', '.Vieinos especiments para seul movidor en carviinho: alojáes para alma, hoteis barcaros de carval ⁇ o; hotés acesto para carveira; o aldeio de aldeixe de camas ou pes-des-chaves-almas... e eunegron', 'Propereçia a isto éregistranada e nos 39a seguimento do Escekiele, versamente aos tereto, no Vers ⁇ tria 28 do capiço 39 do Capt ⁇ tula 38 do Cap ⁇ tulo 39 sabe: Depor e v ⁇ e sair, ti seres ano: no  ⁇ leu', 'A Repe s ⁇ a um cinco a um, a um tomnou imediatement nele assunçórdicos médio-vale, da murale impressionant ⁇ veis eprovada e aindel Giové foi intarado por 18 a ressornandó com quate apendidos no diáris do', 'Aindo havide mais um pode, de aquila de que conseria-lhá-los de entregê. A ele apresenteu como o ninglémiolmento os seus. E. Aquilócidos. Aquilamente, se a tudade.... Ao na cin', 'Qualide nos ser temo com que de mano que procura-na de forma de camisagemos/ef ⁇ to para que-os as destacam o que noss ⁇ vem..m.net.o em quem para, poderiam-ser-nos melhar.. AQue é de quem tem-ser com um desequid', 'As formalidada se se deu-tinham tomadamente detalha, delei::m, destaque,m, eu seu arritid ⁇ do a seus arco, de cimentórdica, delei. O ri: o que foi destacar., deleito....)io', 'O mais faz-na menos certes muis colegera do brabil convereram que as correnteira da fotolanca está no Rio Grande da Sul, da estanda mais leita pele suas peçadas, que est ⁇ á sob si membu fechadiana, que foi um desde que mu ⁇ e..... Efacionalmente', 'Conhecer uma condenada com o plástio no tempo n ⁇ or da aprovar do processar da candidat ⁇  com vendença do primo bloco de oferta, significar de n ⁇ O programarem um sem um momenta determinante para sem ela efinamente e todeis as obstruç ⁇ sso para um quadrante para', 'Agedamente é disto o seu filha da Jeesse rebanha na total do Israel com sede de só de Israel. apênda. O seu adversárie é um dessas coais n.m.m. n.h.m, no fundia de Deus de Deuter ', 'O queramente tem do processar com as decissêmico, no que permitem um reagenc ⁇ nuo mentiro do césus, no processar de acionista de adecintos, do cora. aos decr..o.,m eu, por favor.o aprovetou.o tem', 'No outrito f ⁇ gado de emg ⁇ os as semelho Evangelistais referença para falha para de fica daquelia do segistéria, seguidores seguin e seus olhos espiridos; de outra forma com que seu ef ⁇ cios, Jesus refera para falha. A fési', '3. Em Jesus contemplatindo, de que com Deuteriam o pós às segunda saber de que, para a Deu ao seus meo; e foi dedela; de vinte dele, como se deus a em tud. - Amarilla, de Depute.-sa ⁇ de:o', 'Coma Joga jogam O Jogadore do Papper santua Newton vesting up, dourado o pau da taç.... A edificar opç ⁇ ada por papel - Guianque.orgt detalhados para pausar depê-dito de pauso e de um bosto da vest', 'Fabricate da marma de bebidados com cenar. agrê...gêner  ⁇ ltimo de cortigna: info de correi.com/Feitura de corredores de pó.... Pt... A adversar.net |t - p ⁇ osat', 'Os valeis da peça difere com a partir do parâmeter de 00 para 80%. As valorizas destaques de cada parâmero.  ⁇ tamos.o naviu de 2000% ao na qual nen ⁇ nimos. o valor é de 20% aqui.odo por uma per ⁇ or.', 'Baitando - Baita software com coma A DR - com as vers ⁇ ulis. BR:slados e navio. Adversás: efetual,tegnárgio, fifieiro: Download adiativotate: download para arqueo n.', 'O estatoniste concorride de se negar recusande uma sepult ⁇ cissido de divid ⁇ o e separi ⁇ o de sao incompreen ⁇ veis pesar à decisórbio precedente determinar seula materna a fosse realizadas, mas que seja fazio doestáde de ni', 'com locaç ⁇ O superior, à ótimidadE de Gr ⁇ n ao óleico dos Emirados Estabelimos, e da óleo em B ⁇ nfa ao Aeronaçóis.  ⁇  Ibb. Bruxelles, a Grande’Plato possitem desta octe para um área transporteiar. Esta', 'Cart ⁇ ele de Energie detraz toda das turbulecciais da geoologiia underground. atrasados para ao seguador dos estabelabelimos para autócar do lugar, autêntica de tálcool delerado a tomadamente com seus graus a e eletrompa ao lar do', 'Maquinários Aquiliso que Vou ficarm. O santa da sujeira da Amélcica Oquivoca de Fébrica elécter advencedas da su ⁇ ça da Malára. A de um desenhar de alcânimas. Aproximado aquiler na Malaria que Voca', 'É necosite que um pobreza o Sérebro do HOMOMISSIO, José Pedro Agrin ⁇  OU S ⁇ OS DE DIOS AD ⁇ RINO A OLIV MINICIA? A. Esperia-terem de ser um povo para uniti-ser tornandós.... A qualqueram s ⁇ em pelO Sano P ⁇ s, sem assist', 'Nestea terça deste detinha José-Mer ⁇ a, que Jesus tinha o cambalo e para o local de Je ⁇ so Antiga ondes Jáo ⁇ o, pesa quer e a queMai foinomo Jesus dep ⁇ ito como seu conduzindo, seguver da tecnomia de judát', 'Objecionar ⁇ a o lómpadra dos seus fundas, que se traz ⁇ e para tornou uma o s ⁇ mulo Ruses momboleo Rassesvt miniaquisto. Ese foi um desejo de... A fáce a partir da fam ⁇ lcima tripulare de Atanti e... O...', 'Ele pinto-sele de um espólice para com conduçora a visha deleto n ⁇ oferoa para um depoi a fosse um acomido, para que, segunto-lá, conduçênio da tenttia. O corta-lhe. Apresenteis ess ⁇ e o pô', 'reabilitec ⁇ c ⁇ o de lixo para Santa Plati, Guavia – Agriturismu.com.ca (Bama, Cuba), Cuba). Agros de artiquim egráficastuoslógia, La Altovar (Santiárbios, Guamiván, Cusco  ⁇ stica) Aragu ⁇ e', 'a Our experiente de Processo de dividêncie no... Ao  ⁇ lembénuo.net com... Eleiçônicas da Lu ⁇ a (Brey) |g) | Fórum consultores especômico s ⁇ rbiostac.como um avóprios... e em Cortaçá', '4 Noa condensidado geradi de compréito se solicitarei para todes as conjuntamente de aconto a quer o que as empregos nen ⁇ veitamente sejaja present apresentaçor no promotor, depoissemos.sa.obterá a nosstia em em conjuntot', 'No c ⁇ rmine de 21, está um grande abracador e destaques em cor ao colorar para ele inc ⁇ mero para que passarei do margei de Monte do  ⁇ rbite de ventres, formandou um campo da ao cidador, contendenda segestrado de um  ⁇ ltero norteste, de vê', 'Pinto para Usas fechidos fetusamente e compostamente com as metas a tiquia 5602, do meto que estebrado, no tratamenta da ocional de 607, os 90 92 com as mecópsior ⁇ stios de 90, o sexto do usar com as m ⁇ s', 'Bair, cios de casosmbroca, casal e, madurma, caseiro nelad, ninja a sabor de boe, mama, gargo de coro, santinhasca, em peyutanha... Amord acesso', 'De modo exaustante de,120 capitulados tomaras as portos, sobre em consantidadE o Tempelamento Desavo. - O porcuna aos 12 obrada. O dezmulos de tecidor, de 120 sacrdótes jóduzidores dos teus de Salomés']\n",
            "tensor(0.8399)\n",
            "--------------------------------------------------------------------------------\n",
            "TEST RESULTS\n",
            "{'avg_test_bleu': tensor(0.5005)}\n",
            "--------------------------------------------------------------------------------\n",
            "\n"
          ],
          "name": "stdout"
        }
      ]
    },
    {
      "cell_type": "markdown",
      "metadata": {
        "id": "3E8tvK6DxDc8",
        "colab_type": "text"
      },
      "source": [
        "# Comparison: Nucleus Sampling"
      ]
    },
    {
      "cell_type": "markdown",
      "metadata": {
        "colab_type": "text",
        "id": "RL3xhebj9zAb"
      },
      "source": [
        "### Hugging face decoder"
      ]
    },
    {
      "cell_type": "code",
      "metadata": {
        "id": "aJdSWVIHxDut",
        "colab_type": "code",
        "colab": {
          "base_uri": "https://localhost:8080/",
          "height": 254,
          "referenced_widgets": [
            "8c8044075c7a489fb92dc80773808eee",
            "054598e9148d446b91f54ebf53733de8",
            "0c9c1c076d0d4a07bc29e7802e901b4e",
            "7ddb0bcd682c454f8fcc2b96091051a5",
            "0381fd6f6d8e4421b35df07d6c3de9e0",
            "02ff4ce715644abf83780932c2d02b41",
            "84c3e0b9bd384d24977ff1a9693e450a",
            "53d34f8090f342498e040a5836fac380"
          ]
        },
        "outputId": "453314d7-43fd-465d-d23a-3744ab9b1806"
      },
      "source": [
        "model.decoder = 'top-p'\n",
        "model.p = 0.95\n",
        "model.hugging_face = True\n",
        "#------------------------------------------------------\n",
        "trainer_decoder_comparison.test(model)"
      ],
      "execution_count": 40,
      "outputs": [
        {
          "output_type": "display_data",
          "data": {
            "application/vnd.jupyter.widget-view+json": {
              "model_id": "8c8044075c7a489fb92dc80773808eee",
              "version_minor": 0,
              "version_major": 2
            },
            "text/plain": [
              "HBox(children=(FloatProgress(value=1.0, bar_style='info', description='Testing', layout=Layout(flex='2'), max=…"
            ]
          },
          "metadata": {
            "tags": []
          }
        },
        {
          "output_type": "stream",
          "text": [
            "('In this way, the civil life of a nation matures, making it possible for all citizens to enjoy the fruits of genuine tolerance and mutual respect.', '1999 XIII. Winnipeg, Canada July 23 to August 8', \"In the mystery of Christmas, Christ's light shines on the earth, spreading, as it were, in concentric circles.\", 'making it viable to drill two new boreholes in the west of that peninsula.', 'His eyes were shining and his voice was cheerful.', 'Injuries, accidents, bereavement, abuse, separation, shock, rape, bullying, harassment, stress, depression, anxiety, eating.', 'Whiteness HP Maxx is a 35% hydrogen peroxide whitening gel for the whitening of vital and non-vital teeth.', 'Lines: with indication of Line Number, From and To ends, insulation, the P&ID where they are drawn.', 'The cruises depart from Manaus, capital of the State of Amazonas, a city in the jungle that prospered during the rubber boom last century and where you will find a smaller copy of the Opera House in Paris, France. There is a choice of a three or four days cruises, both of which include the “Meeting of the Waters”, where the Rio Negro and the Amazon River converge.', 'By bringing 9/11 out into the open they ensured that it was given worldwide attention, and that the truth would be sought and the perpetrators identified and held to account.', '“Like Williams, Cosworth is an independent company whose owners share our passion for racing and engineering.', 'However, this can be avoided if infiltration is subepithelial.', 'Publication Type English: Bibliography', \"Program Modification: Sometimes, not only virus Worm:Win32/Dedler.F or malware SWiJ SideWinder but also common softwares possessing the ability to modify the inner functions of FXUCU001.DLL, which means other programs can't find this DLL file again.\", 'In some cases QuickTime media player halts smooth running of the MOV video due to some corruption issues.', 'He is currently Professor of Political Science at the University Pompeu Fabra in Barcelona.', 'Cosmetic additives must not penetrate.', 'Comments for Highway condom test', 'How do I obtain an extension of my student authorization?', 'Enough of US intervention in Latin !.', 'Nabertherm with 450 employees worldwide have been developing and producing industrial furnaces for many different applications for over 60 years. As a manufacturer, Nabertherm offers the widest and deepest range of furnaces worldwide.', \"We call these chemicals 'elements'.\", 'Expert Review – coordination of teams of selected experts for the independent evaluation of complex environmental studies.', 'Thereto there is a luggage storage room provided in the hostel.', 'This is a update module, must works together with Micronas OBD TOOL (CDC32XX) cable, cannot works alone.', '116 So exalted be Allah, the True King; no god is there but He, the Lord of the honorable dominion.', 'Technological education in Arequipa', 'Andinia.com - Outdoor Dictionary: Messan', 'VEMAG is the only manufacturer of vacuum fillers that complies with USDA requirements ex works.', 'Institutes in Pereira (Risaralda, Colombia) Colleges and schools in Risaralda', 'Mining equipment and supplies in Yugo-Zapadny okrug, Moscow', '• Correct provision of the service', 'When we speak the same language it is because we have the same mother. And this gives us hope.', 'Several kinds of accommodations available for your lodging in Carvoeiro: apartments, luxury or cheap Carvoeiro hotels, and also bed & breakfast.', 'Prophecies concerning this are recorded in the 38th and 39th chapters of Ezekiel. Verse 8 of chapter 38 is addressed to Israel, and reads, “After many days thou shalt be visited: in the latter years thou shalt come into the land that is brought back from the sword, and is gathered out of many people, against the mountains of Israel, which have been always waste: but it is brought forth out of the nations, and they shall dwell safely all of them.”', 'The House immediately became place of cult and around to it developed the medieval Loreto: the impressive wall projected by Antonio da Sangallo il Giovane were erected in 1518 and reinforced with four bastions in 1600.', 'There was no other power by which they could be delivered.', 'Quality is a must for us and we are always looking for ways/tools to help us to delivery the best.', 'The form had become focused and funny. I laughed:', 'Although it is not completely certain, many Brazilian chefs agree that the picanha cut originated in Rio Grande do Sul, the southernmost state of Brazil, famous for its churrasco.', 'The condition of complete acceptance in each hour in the matching process of the first block of the sale bid means that only the first block will be programmed in a specific hour if it is not matched completely, and all the blocks in that hour will be withdrawn and not the bid presented for the other hours.', 'Now David the son of Jesse reigned over all Israel.', 'The brain’s reasoning and thoughts in the decision-making process.', 'In other evangelic fragments the same Jesus refers to the lack of faith of his followers.', '3 Jesus knowing that the Father had given all things into his hands, and that he was come from God, and went to God;', \"How to play Peppy' s Thandie Newton Dress Up:\", 'Manufacture of leather goods....', 'The values of the parameter vary from 0 to 200%.', 'Software Downloads Associated with File Extension RB:', 'Contracting States may refuse to recognise a divorce or legal separation if it is incompatible with a previous decision determining the matrimonial status of the spouses and that decision either was rendered in the State in which recognition is sought, or is recognised, or fulfils the conditions required for recognition, in that State.', \"With a top location at the Grand Place and the historical center of Brussels, the Ibis Brussels Off Grand'Place offers a direct access towards the international airport by the railway station.\", 'Energetic mapping uncovers all geology disturbances underground, disturbances which were used to benefit the locations and greatly increase their energy level.', 'Malaria What You Can Do', 'THE PLEASURE OF HOMOSEXUAL SECOND Saint Thomas Aquinas OR SECOND THE DOMINICAN ADRIANO OLIVA? . We hope that the Holy Father, with the help of the Holy Spirit, has the power to unite the Catholic world, today […]', 'That evening Joseph, Mary, and Jesus walked a mile and a half to the site of the ancient Jericho, where Joshua, for whom Jesus was named, had performed his renowned exploits, according to Jewish tradition.', 'The main objective of the mission will be to bring a Russian module Rassvet Mini-Research Module. This will be the last trip of the Shuttle Atlantis, and [...]', 'I paints them with epoxi so that they were not wet with the condensation of the tent.', 'Waste recycling in Santa Clara (Villa Clara, Cuba) - Amarillascuba.net', 'Our experience with separation processes in refineries ...', '(4) Our General Conditions of Purchase shall also apply for any future business relations with the supplier.', 'In km 31, the intense greens of the streams sink to the coloring and it begins to cross the south limit of the Mountain range of the Wind, with a mountain formation of address north-south, has their north end for the volcano Domuyo.', 'Single-use drapes made up of fabrics of heading 5603, of a kind used during surgical procedures 6307 90 92', '6 days ago 10:01 XCafe blowjob, whore, dogging, homemade, facial, German, milf', 'Exceptionally, 120 priests played trumpets at the consecration of Solomon’s Temple.')\n",
            "('Deste modo, a vida civil de uma nação amadurece, fazendo com que todos os cidadãos gozem dos frutos da tolerância genuína e do respeito mútuo.', '1999 XIII. Winnipeg, Canadá 23 de julho a 8 de agosto', 'No mistério do Natal, a luz de Cristo irradia-se sobre a terra, difundindo-se como círculos concêntricos.', 'e tem o objetivo de viabilizar a perfuração de dois novos furos no ocidente da citada península.', 'Seus olhos brilhavam e sua voz era alegre.', 'Lesões, acidentes, luto, abuso, separação, choque, violação, assédio moral, assédio, stress, depressão, ansiedade, comer.', 'Whiteness HP Maxx é um clareador à base de peróxido de hidrogênio a 35% para clareamento de dentes vitais e não vitais.', 'Linhas: com indicação do número de linha, as extremidades, o isolamento, o P&ID onde estão desenhadas.', 'O Desafio parte de Manaus, capital do estado do Amazonas, uma cidade próspera pelo auge da borracha no séc.XIX, e onde se encontra uma cópia em menores proporções da Casa de Ópera de Paris, na França. Existe a possibilidade de 3 ou 4 dias de cruzeiro, dos que só incluem o encontro com as águas , onde o Rio Solimões e Negro se unem sem mesclar suas águas.', 'Ao trazer o assunto sobre o 9/11 para a ribalta asseguram que seja dada atenção mundial, e que a verdade seja pesquisada e tida em conta.', '“Como a Williams, Cosworth é uma empresa independente cujos donos partilham a nossa paixão pelas corridas e engenharia.', 'Contudo, isto pode ser evitado com uma infiltração subepitelial.', 'Tipo de Publicação Inglês: Bibliography', 'Modificação do Programa: Às vezes, o vírus Virus:DOS/Clonewar_252.C, malware History Killer Pro e softwares comuns têm a capacidade de modificar as funções de FXUCU001.DLL. Esta situação faria outros programas não podem encontrar este arquivo DLL.', 'Em alguns casos, media player QuickTime interrompe o bom funcionamento do vídeo MOV, devido a alguns problemas de corrupção.', 'Atualmente é professor de Ciência Política na Universidade Pompeu Fabra em Barcelona.', 'Aditivos cosméticos não devem penetrar.', 'Comentários para o teste do preservativo da estrada', 'Como eu obtenho a extensão de minha Permissão de Estudos?', 'Chega de intervenção dos EUA na América Latina!.', 'A Nabertherm desenvolve e produz com os seus 450 colaboradores a nível mundial, desde há mais de 60 anos, fornos industriais para as mais diferentes áreas de aplicação.', \"Chamamos a essas substâncias de 'elementos'.\", 'Revisão Independente por Peritos (Independent Peer Review)- coordenação de equipas de especialistas para a avaliação independente de estudos ambientais complexos.', 'Da mesma existe uma sala de bagagem prevista no albergue.', 'Este é um módulo de atualização, deve trabalha em conjunto com cabo Micronas OBD TOOL (CDC32XX), não trabalha sozinha.', \"116 Exaltado seja Deus, Verdadeiro, Soberano! Não há mais divindade além d'Ele, Senhor do honorável Trono!\", 'Educação tecnológica em Peru', 'Andinia.com - Dicionário ao ar livre: Messan', 'A VEMAG é a única fabricante de preenchedoras a vácuo que está em conformidade com as exigências do USDA ex works.', 'Escolas pré-universitário em Pereira (Risaralda, Colômbia)', 'Mineração: equipamentos e suprimentos em Yugo-Zapadny okrug, Moscú', '• A correcta prestação do serviço', 'Quando se fala a mesma língua é porque se tem a mesma mãe, e isto dá-nos esperança.', 'Vários tipos de acomodações disponíveis para o seu alojamento em Carvoeiro: apartamentos de luxo ou hotéis baratos Carvoeiro, e também bed & breakfast.', 'As profecias sobre este assunto estão registradas nos capítulos 38 e 39 de Ezequiel. O versículo 8 do capítulo 38 é dirigida a Israel, e diz: “ Depois de muitos dias serás visitado. No fim dos anos virás à terra que se recuperou da espada, e que foi congregada dentre muitos povos, junto aos montes de Israel, que sempre se faziam desertos; mas aquela terra foi tirada dentre as nações, e todas elas habitarão seguramente.”', 'A Casa torna-se imediatamente lugar de culto e ao redor desta se desenvolvem todas as habitações da Loreto medieval: as imponentes muralhas projetadas por Antonio da Sangallo il Giovane foram erguidas em 1518 e reforçadas com quatro bastiões, 1600.', 'Nenhum outro poder havia pelo qual pudesse ser libertado.', 'A qualidade é primordial para nós e estamos sempre à procura de maneiras/ferramentas para nos ajudar a entregar o melhor.', 'A forma tinha-se tornado o foco e engraçado. Eu ri:', 'Apesar de não estar comprovado, muitos cozinheiros brasileiros concordam que a picanha foi originada doRio Grande do Sul, um estado famoso pelos seus churrascos.', 'A condição de aceitação completa em cada hora na concertação do primeiro lanço da oferta de venda, implica que só será programada, numa hora determinada, o primeiro lanço em caso de ser concertado na sua totalidade, sendo retiradas todos os lanços para a referida hora, não sendo retirada a oferta realizada para as restantes horas.', 'Assim Davi, filho de Jessé, reinou sobre todo o Israel.', 'As reflexões e pensamentos do cérebro no processo de tomada de decisões da vontade.', 'Em outros fragmentos evangélicos, Jesus Cristo mesmo lamenta a falta de fé de seus seguidores.', '3 Jesus, sabendo que o Pai tinha depositado nas suas mãos todas as coisas, e que havia saído de Deus e ia para Deus,', 'Como jogar Peppy s vestir-se Thandie Newton:', 'Fabricação de artigos de couro....', 'Os valores do parâmetro varia de 0 a 200%.', 'Downloads de Software Associados à Extensão de Ficheiro RB:', 'Qualquer Estado contratante pode recusar o reconhecimento de um divórcio ou de uma separação de pessoas se eles forem incompatíveis com uma decisão anterior cujo objectivo principal fosse o estado matrimonial dos cônjuges, quer proferida no Estado em que o reconhecimento foi invocado quer reconhecida ou reunindo as condições de reconhecimento neste Estado.', \"Com uma excelente localização na Grand Place e no centro histórico de Bruxelas, o ibis Brussels Off Grand'Place oferece acesso direto ao aeroporto internacional pela estação ferroviária.\", 'O mapeamento energético demonstra todas as perturbações geológicas subterrâneas, perturbações essas que eram usadas para beneficiar os locais e elevar grandemente o seu nível energético.', 'Malária O que você pode fazer', 'O PRAZER DE HOMOSSEXUAL SEGUNDA Santo Tomás de Aquino ou o segundo o dominicano ADRIANO OLIVA? . Esperamos que o Santo Padre, com a ajuda do Espírito Santo, tem o poder de unir o mundo católico, hoje […]', 'Naquela noite José, Maria e Jesus caminharam, por cerca de três quilômetros, até o local antigo de Jericó, onde Joshua, cujo nome foi dado a Jesus, tinha realizado as suas renomadas façanhas, de acordo com a tradição judaica.', 'O principal objetivo da missão terá um módulo russo RASSVET Mini-Módulo de Investigação. Esta será a última viagem do ônibus espacial Atlantis, e [...]', 'Pintei com epoxi para não se molharem com a condensação do barraco.', 'Saneamento ambiental em Cifuentes (Villa Clara, Cuba) - Amarillascuba.net', 'Nossa experiência com processos de separação em refinarias ...', '(4) Os nossos termos e condições de compra ainda terão vigor em todos os negócios futuros com o fornecedor.ier.', 'Em km 31, os intensos verdes dos fluxos afundam à coloração e começa a cruzar o limite sul da gama Montesa do Vento, com uma formação montesa de endereço norte-sul, tem o norte terminar para o vulcão Domuyo.', 'Lençóis descartáveis confecionados com matérias da posição5603, do tipo utilizado durante as intervenções cirúrgicas 6307 90 92', 'Há 6 dias 10:01 XCafe sexo oral, putas, posição de cachorro, caseiras, ejaculação na cara, alemão, milf', 'Excepcionalmente, 120 sacerdotes tocaram trombetas na consagração do Templo de Salomão.')\n",
            "['A vida civil desta forma destaca, faz poss ⁇ vel como um cidad ⁇ o sobre todos os frutos de tolerância e respeitos mutuois.', '1999 XIII. Winnipeg, Canadá 23 a 8 de agosto', 'No mistério da Natal, a luz de Cristo deu na terra, diante de, como era, em c ⁇ rculos conc ⁇ nicos.', 'fazer a produç ⁇ o de que os dois novos laços oestes daquela pen ⁇ nsula.', 'Seus olhos foram brilhantes e sua voz foi felic ⁇ fica.', 'Inferiç ⁇ es, acidentes, inavança, abuso, abuso, separaç ⁇ o, dança, violaç ⁇ o, horroagem, enóbito, depress ⁇ o, ansiedade, alimentaç ⁇ o.', 'A branque a HP Maxx é um gel de clareamento de hidrogénio de 55% a clarificaç ⁇ o dos dentes vitales e n ⁇ o vitais.', 'Linhas: com indicaç ⁇ o do n ⁇ mero da linha, D e ao longo, isolamento do P&ID onde elas s ⁇ o tirados.', 'As viagem se adrem de Manaus, capital do Estado do Amazonas, uma cidade na floresta na floresta que prosperou durante o boobo ve ⁇ culo e onde você irá encontrar uma cópia mais pequena da Opera House, de Paris, na', 'Os traz ⁇ es terroristas ao abrir as suas atacadas garantiram que foi dada de atenç ⁇ o pelo mundo, e a verdade será buscada e os atentantes identificados e possado a conta.', '“Like Williams, Cosworth é uma empresa independente cuja propriedade partilha nossa paix ⁇ o pela corrida e engenharia.', 'No entanto, isso pode ser evitado se infiltraç ⁇ o é subepithelial.', 'Tipo de Publicaç ⁇ o Português: Bibliografia', 'Modificaç ⁇ o de programas:  ⁇ s vezes, v ⁇ rus v ⁇ rus:Win32/Deprend.F ou malware SWiJ SideWinder mas também softwares comuns têm a capacidade de modificar as funç ⁇ es internas do FXUCU001.DLL, o que significa que outros programas n', 'Em alguns casos, o jogador da media QuickTime está a ficar operac ⁇ o do v ⁇ deo MOV devido a alguns problemas de corrupç ⁇ o.', 'Ele está a professora de Ciência Pol ⁇ tica da Universidade Pompeu Fabra em Barcelona.', 'As aditivos cosméticos n ⁇ o devem perper.', 'Comentários para teste de preservativo da Estrada', 'Como eu obti uma extens ⁇ o de minha autorizaç ⁇ o ao estudante?', 'Apena de intervenç ⁇ o dos EUA em latino!', 'Nabertherm com 450 funcionários em todo o mundo s ⁇ o se desenvolvido e produzindo fornos industriais para muitos caseiros de mais de 60 anos. Como fabricante, Nabertherm oferece a larga gama de fornos.', \"Termos esses qu ⁇ micos de 'elementos'.\", 'A Revis ⁇ o Especial – coordenaç ⁇ o de equipes especialistas selecionados para a avaliaç ⁇ o independente de estudos ambientais complexos.', 'Além do está o pequeno quarto de armazenamento de bagagem dispon ⁇ vel no no depósito.', 'Este é um módulo de atualizaç ⁇ o, precisa funcionar conjunto com cabo micronas OBD TOOL (CDC32XX), n ⁇ o pode funcionar sozinho.', '116 Ent ⁇ o é a Deus, rei verdadeiro; n ⁇ o está lá, mas Ele, Senhor da domini ⁇ o honrável.', 'Educaç ⁇ o tecnológica em Arequipa', 'Andinia.com - Dicionário ao ar livre: Messan', 'A VEMAG é o  ⁇ nico fabricante de acessórios de pó que cumpri com os requisitos do USDA ex trabalhos.', 'Institutos em Risaralda (Risaralda, Colômbia) Faculdades e escolas em Risaralda', 'Mineraç ⁇ o: equipamentos e suprimentos em Yugo-Zapadny okrug, Moscou', '• Proprecia correto do serviço', 'Quando falamos a mesma idiomassima é porque temos a mesma m ⁇ e. E este nos dá esperança.', 'Vários tipos de acomodaç ⁇ es dispon ⁇ veis para o apartamento em Carvoeiro: apartamentos de luxo ou hotéis de carvoeiro baratos e também cama-de-manh ⁇.', 'As profecias sobre este s ⁇ o gravados no dia 38. e 39o capitulo da Ezequil. Verso 8 do cap ⁇ tulo 38 é abordado a Israel e lé: Depois de muitos dias te encontrarás; nos  ⁇ ltimos anos, em terra que vo', 'A Casa imediatamente se tornou lugar de culto e em torno deles que estabeleceu a raio medieval: a murhada imponente projetada por Antonio da Sangallo il Giovane foram erradas em 1518, ereforçau-se com quatro bastinas em', 'N ⁇ o havia outro poder pelo qual poderia ser entregue.', 'Qualidade é uma necessidade para nós e estamos buscando sempre, caminhos/mecinhas para nos ajudar a entregar os melhores.', 'A forma tinha se tornado cima e divertida. Rii:', 'Embora n ⁇ o seja certo, muitos chefs brasileiros concordam com que a picanha cortada do Rio Grande do Sul, o estado mais do lado do Brasil, famoso pela seu churrasco.', 'A condiç ⁇ o de aceitaç ⁇ o completa em cada hora no processo a ajuste da oferta de venda significa que apenas o primeiro bloco será programado em uma hora espec ⁇ fica se n ⁇ o é conforme completamente, e todos os blocos nesta ', 'Agora Davi, filho de Jesen Reinou sobre todos os Israels.', 'O raz ⁇ o e os pensamentos do céus no processo de seguimento decidiente.', 'Em outros fragmentos evangelizados, a mesma Jesus refere-se a falta da fé dos seus seguidores.', '3 Jesus saber que o Pai estava dedicando às suas m ⁇ os, e ele foi de Deus e tornou-se a Deus;', \"Como jogar o depósito peppy's Thandie Newton Dress Up:\", 'Manufacture de artigos de couro....', 'Os valores do parâmetro variam de 0 a 200%.', 'Downloads de software relacionados com a extens ⁇ o de arquivo RB:', 'Os Estados contratados podem excluir o reconhecer um divorce ou separaç ⁇ o justo, se estiver incompat ⁇ vel com uma decis ⁇ o anterior determinando o status matrimônico dos cônjuges e que sua decis ⁇ o seja feita no Estado no qual o reconhecimento está procura', \"A Hôtel hotel de Excelente está feito com uma localizaç ⁇ o melhor no Plaza Grand e no centro histórico de Brussels, o Ibis Brussels Off Grand'Place oferece um acesso direto à estaç ⁇ o ferroviária do aeroporto.\", 'Maquina energérica descobrir todas as perturbaç ⁇ es geólogos subterrâneos, perturbaç ⁇ es que foram usadas para beneficiar os locais e aumentar muito o seu n ⁇ vel energético.', 'Malaria O que Você fica', 'O SECONDO de Santo Thomas Aquinas OU o sexto OLIVA do DOMIN ⁇ O?. Esperamos que o Santo Padre, com a ajuda do Esp ⁇ rito Santo, tem o poder de unir o mundo católico, hoje [...]', 'A t ⁇ o noite, Maria e Jesus caminhou um milho, e a metade ao local do antigo Jericógico, onde Josué, por quem Jesus foi nomeado, realizau suas exploitas com conduç ⁇ o de acordo com a tradiç ⁇ o judicana.', 'O principal objetivo da miss ⁇ o senareis a trazer um módulo Russo Rassvet Mini-Research. Este será a  ⁇ ltima viagem do Shuttle Atlantis e [...]', 'Estavam molhadas com a condenaç ⁇ o da tenda.', 'Recuperaç ⁇ o de Res ⁇ duos em El Morazán (Fima, Cuba) - Amarillascuba.net', 'Nossa experiência com processos de separaç ⁇ o nos refinarias...', '(4) As nossas condiç ⁇ es gerais de compra também requer relaç ⁇ es comerciais futuras com o fornecedor.', 'Em km 31, os verde intensos dos fluxos escontem-se até a coloraç ⁇ o e começa a cruzar o limite do sul da gama montanha do vento, com formaç ⁇ o montanhas de direito à norte, tem o seu extremo norte para o vulc ⁇ o Domuyo.', 'Acade de uso  ⁇ nico com composto em tecidos da posiç ⁇ o 5603, de um tipo utilizado durante procedimentos cir ⁇ rgicos 6307 90 92', 'Há 6 dias 10:01 XCafe punha boleia, brinquedo, bunda caseiras, casada, ejaculaç ⁇ o, esporradela, sexo oral, esporradela', 'A excepcionalmente, 120 sacerdotes tocaram trombontinas na consagraç ⁇ o do Templo de Salom ⁇ o.']\n",
            "tensor(21.3211)\n",
            "--------------------------------------------------------------------------------\n",
            "TEST RESULTS\n",
            "{'avg_test_bleu': tensor(21.0985)}\n",
            "--------------------------------------------------------------------------------\n",
            "\n"
          ],
          "name": "stdout"
        }
      ]
    },
    {
      "cell_type": "markdown",
      "metadata": {
        "colab_type": "text",
        "id": "1-mE3bPe9zAc"
      },
      "source": [
        "### My decoder"
      ]
    },
    {
      "cell_type": "code",
      "metadata": {
        "id": "_TFEzWJb8WVb",
        "colab_type": "code",
        "colab": {
          "base_uri": "https://localhost:8080/",
          "height": 254,
          "referenced_widgets": [
            "1606c8b92e7b42a6a8e411c71d8bb351",
            "4d7767de3ead4cc79c2489cfb311d070",
            "548b2b8d2a2a4b09be90db03fe94f9e2",
            "e5ad456ef6b4446eafe673357e6dd2b9",
            "7bb7e1c0ba424c549c3ac56f716f0ef4",
            "bf7ab85a67a34c4cb2a1c2488d71de00",
            "9f7407d06b094baba54172cb288fa721",
            "b1fb1439c10b42b48deaba570b98ad32"
          ]
        },
        "outputId": "f7656a85-2323-41c9-ccd0-9d9833f5b0a3"
      },
      "source": [
        "model.decoder = 'top-p'\n",
        "model.p = 0.95\n",
        "model.hugging_face = False\n",
        "#------------------------------------------------------\n",
        "trainer_decoder_comparison.test(model)"
      ],
      "execution_count": 41,
      "outputs": [
        {
          "output_type": "display_data",
          "data": {
            "application/vnd.jupyter.widget-view+json": {
              "model_id": "1606c8b92e7b42a6a8e411c71d8bb351",
              "version_minor": 0,
              "version_major": 2
            },
            "text/plain": [
              "HBox(children=(FloatProgress(value=1.0, bar_style='info', description='Testing', layout=Layout(flex='2'), max=…"
            ]
          },
          "metadata": {
            "tags": []
          }
        },
        {
          "output_type": "stream",
          "text": [
            "('In this way, the civil life of a nation matures, making it possible for all citizens to enjoy the fruits of genuine tolerance and mutual respect.', '1999 XIII. Winnipeg, Canada July 23 to August 8', \"In the mystery of Christmas, Christ's light shines on the earth, spreading, as it were, in concentric circles.\", 'making it viable to drill two new boreholes in the west of that peninsula.', 'His eyes were shining and his voice was cheerful.', 'Injuries, accidents, bereavement, abuse, separation, shock, rape, bullying, harassment, stress, depression, anxiety, eating.', 'Whiteness HP Maxx is a 35% hydrogen peroxide whitening gel for the whitening of vital and non-vital teeth.', 'Lines: with indication of Line Number, From and To ends, insulation, the P&ID where they are drawn.', 'The cruises depart from Manaus, capital of the State of Amazonas, a city in the jungle that prospered during the rubber boom last century and where you will find a smaller copy of the Opera House in Paris, France. There is a choice of a three or four days cruises, both of which include the “Meeting of the Waters”, where the Rio Negro and the Amazon River converge.', 'By bringing 9/11 out into the open they ensured that it was given worldwide attention, and that the truth would be sought and the perpetrators identified and held to account.', '“Like Williams, Cosworth is an independent company whose owners share our passion for racing and engineering.', 'However, this can be avoided if infiltration is subepithelial.', 'Publication Type English: Bibliography', \"Program Modification: Sometimes, not only virus Worm:Win32/Dedler.F or malware SWiJ SideWinder but also common softwares possessing the ability to modify the inner functions of FXUCU001.DLL, which means other programs can't find this DLL file again.\", 'In some cases QuickTime media player halts smooth running of the MOV video due to some corruption issues.', 'He is currently Professor of Political Science at the University Pompeu Fabra in Barcelona.', 'Cosmetic additives must not penetrate.', 'Comments for Highway condom test', 'How do I obtain an extension of my student authorization?', 'Enough of US intervention in Latin !.', 'Nabertherm with 450 employees worldwide have been developing and producing industrial furnaces for many different applications for over 60 years. As a manufacturer, Nabertherm offers the widest and deepest range of furnaces worldwide.', \"We call these chemicals 'elements'.\", 'Expert Review – coordination of teams of selected experts for the independent evaluation of complex environmental studies.', 'Thereto there is a luggage storage room provided in the hostel.', 'This is a update module, must works together with Micronas OBD TOOL (CDC32XX) cable, cannot works alone.', '116 So exalted be Allah, the True King; no god is there but He, the Lord of the honorable dominion.', 'Technological education in Arequipa', 'Andinia.com - Outdoor Dictionary: Messan', 'VEMAG is the only manufacturer of vacuum fillers that complies with USDA requirements ex works.', 'Institutes in Pereira (Risaralda, Colombia) Colleges and schools in Risaralda', 'Mining equipment and supplies in Yugo-Zapadny okrug, Moscow', '• Correct provision of the service', 'When we speak the same language it is because we have the same mother. And this gives us hope.', 'Several kinds of accommodations available for your lodging in Carvoeiro: apartments, luxury or cheap Carvoeiro hotels, and also bed & breakfast.', 'Prophecies concerning this are recorded in the 38th and 39th chapters of Ezekiel. Verse 8 of chapter 38 is addressed to Israel, and reads, “After many days thou shalt be visited: in the latter years thou shalt come into the land that is brought back from the sword, and is gathered out of many people, against the mountains of Israel, which have been always waste: but it is brought forth out of the nations, and they shall dwell safely all of them.”', 'The House immediately became place of cult and around to it developed the medieval Loreto: the impressive wall projected by Antonio da Sangallo il Giovane were erected in 1518 and reinforced with four bastions in 1600.', 'There was no other power by which they could be delivered.', 'Quality is a must for us and we are always looking for ways/tools to help us to delivery the best.', 'The form had become focused and funny. I laughed:', 'Although it is not completely certain, many Brazilian chefs agree that the picanha cut originated in Rio Grande do Sul, the southernmost state of Brazil, famous for its churrasco.', 'The condition of complete acceptance in each hour in the matching process of the first block of the sale bid means that only the first block will be programmed in a specific hour if it is not matched completely, and all the blocks in that hour will be withdrawn and not the bid presented for the other hours.', 'Now David the son of Jesse reigned over all Israel.', 'The brain’s reasoning and thoughts in the decision-making process.', 'In other evangelic fragments the same Jesus refers to the lack of faith of his followers.', '3 Jesus knowing that the Father had given all things into his hands, and that he was come from God, and went to God;', \"How to play Peppy' s Thandie Newton Dress Up:\", 'Manufacture of leather goods....', 'The values of the parameter vary from 0 to 200%.', 'Software Downloads Associated with File Extension RB:', 'Contracting States may refuse to recognise a divorce or legal separation if it is incompatible with a previous decision determining the matrimonial status of the spouses and that decision either was rendered in the State in which recognition is sought, or is recognised, or fulfils the conditions required for recognition, in that State.', \"With a top location at the Grand Place and the historical center of Brussels, the Ibis Brussels Off Grand'Place offers a direct access towards the international airport by the railway station.\", 'Energetic mapping uncovers all geology disturbances underground, disturbances which were used to benefit the locations and greatly increase their energy level.', 'Malaria What You Can Do', 'THE PLEASURE OF HOMOSEXUAL SECOND Saint Thomas Aquinas OR SECOND THE DOMINICAN ADRIANO OLIVA? . We hope that the Holy Father, with the help of the Holy Spirit, has the power to unite the Catholic world, today […]', 'That evening Joseph, Mary, and Jesus walked a mile and a half to the site of the ancient Jericho, where Joshua, for whom Jesus was named, had performed his renowned exploits, according to Jewish tradition.', 'The main objective of the mission will be to bring a Russian module Rassvet Mini-Research Module. This will be the last trip of the Shuttle Atlantis, and [...]', 'I paints them with epoxi so that they were not wet with the condensation of the tent.', 'Waste recycling in Santa Clara (Villa Clara, Cuba) - Amarillascuba.net', 'Our experience with separation processes in refineries ...', '(4) Our General Conditions of Purchase shall also apply for any future business relations with the supplier.', 'In km 31, the intense greens of the streams sink to the coloring and it begins to cross the south limit of the Mountain range of the Wind, with a mountain formation of address north-south, has their north end for the volcano Domuyo.', 'Single-use drapes made up of fabrics of heading 5603, of a kind used during surgical procedures 6307 90 92', '6 days ago 10:01 XCafe blowjob, whore, dogging, homemade, facial, German, milf', 'Exceptionally, 120 priests played trumpets at the consecration of Solomon’s Temple.')\n",
            "('Deste modo, a vida civil de uma nação amadurece, fazendo com que todos os cidadãos gozem dos frutos da tolerância genuína e do respeito mútuo.', '1999 XIII. Winnipeg, Canadá 23 de julho a 8 de agosto', 'No mistério do Natal, a luz de Cristo irradia-se sobre a terra, difundindo-se como círculos concêntricos.', 'e tem o objetivo de viabilizar a perfuração de dois novos furos no ocidente da citada península.', 'Seus olhos brilhavam e sua voz era alegre.', 'Lesões, acidentes, luto, abuso, separação, choque, violação, assédio moral, assédio, stress, depressão, ansiedade, comer.', 'Whiteness HP Maxx é um clareador à base de peróxido de hidrogênio a 35% para clareamento de dentes vitais e não vitais.', 'Linhas: com indicação do número de linha, as extremidades, o isolamento, o P&ID onde estão desenhadas.', 'O Desafio parte de Manaus, capital do estado do Amazonas, uma cidade próspera pelo auge da borracha no séc.XIX, e onde se encontra uma cópia em menores proporções da Casa de Ópera de Paris, na França. Existe a possibilidade de 3 ou 4 dias de cruzeiro, dos que só incluem o encontro com as águas , onde o Rio Solimões e Negro se unem sem mesclar suas águas.', 'Ao trazer o assunto sobre o 9/11 para a ribalta asseguram que seja dada atenção mundial, e que a verdade seja pesquisada e tida em conta.', '“Como a Williams, Cosworth é uma empresa independente cujos donos partilham a nossa paixão pelas corridas e engenharia.', 'Contudo, isto pode ser evitado com uma infiltração subepitelial.', 'Tipo de Publicação Inglês: Bibliography', 'Modificação do Programa: Às vezes, o vírus Virus:DOS/Clonewar_252.C, malware History Killer Pro e softwares comuns têm a capacidade de modificar as funções de FXUCU001.DLL. Esta situação faria outros programas não podem encontrar este arquivo DLL.', 'Em alguns casos, media player QuickTime interrompe o bom funcionamento do vídeo MOV, devido a alguns problemas de corrupção.', 'Atualmente é professor de Ciência Política na Universidade Pompeu Fabra em Barcelona.', 'Aditivos cosméticos não devem penetrar.', 'Comentários para o teste do preservativo da estrada', 'Como eu obtenho a extensão de minha Permissão de Estudos?', 'Chega de intervenção dos EUA na América Latina!.', 'A Nabertherm desenvolve e produz com os seus 450 colaboradores a nível mundial, desde há mais de 60 anos, fornos industriais para as mais diferentes áreas de aplicação.', \"Chamamos a essas substâncias de 'elementos'.\", 'Revisão Independente por Peritos (Independent Peer Review)- coordenação de equipas de especialistas para a avaliação independente de estudos ambientais complexos.', 'Da mesma existe uma sala de bagagem prevista no albergue.', 'Este é um módulo de atualização, deve trabalha em conjunto com cabo Micronas OBD TOOL (CDC32XX), não trabalha sozinha.', \"116 Exaltado seja Deus, Verdadeiro, Soberano! Não há mais divindade além d'Ele, Senhor do honorável Trono!\", 'Educação tecnológica em Peru', 'Andinia.com - Dicionário ao ar livre: Messan', 'A VEMAG é a única fabricante de preenchedoras a vácuo que está em conformidade com as exigências do USDA ex works.', 'Escolas pré-universitário em Pereira (Risaralda, Colômbia)', 'Mineração: equipamentos e suprimentos em Yugo-Zapadny okrug, Moscú', '• A correcta prestação do serviço', 'Quando se fala a mesma língua é porque se tem a mesma mãe, e isto dá-nos esperança.', 'Vários tipos de acomodações disponíveis para o seu alojamento em Carvoeiro: apartamentos de luxo ou hotéis baratos Carvoeiro, e também bed & breakfast.', 'As profecias sobre este assunto estão registradas nos capítulos 38 e 39 de Ezequiel. O versículo 8 do capítulo 38 é dirigida a Israel, e diz: “ Depois de muitos dias serás visitado. No fim dos anos virás à terra que se recuperou da espada, e que foi congregada dentre muitos povos, junto aos montes de Israel, que sempre se faziam desertos; mas aquela terra foi tirada dentre as nações, e todas elas habitarão seguramente.”', 'A Casa torna-se imediatamente lugar de culto e ao redor desta se desenvolvem todas as habitações da Loreto medieval: as imponentes muralhas projetadas por Antonio da Sangallo il Giovane foram erguidas em 1518 e reforçadas com quatro bastiões, 1600.', 'Nenhum outro poder havia pelo qual pudesse ser libertado.', 'A qualidade é primordial para nós e estamos sempre à procura de maneiras/ferramentas para nos ajudar a entregar o melhor.', 'A forma tinha-se tornado o foco e engraçado. Eu ri:', 'Apesar de não estar comprovado, muitos cozinheiros brasileiros concordam que a picanha foi originada doRio Grande do Sul, um estado famoso pelos seus churrascos.', 'A condição de aceitação completa em cada hora na concertação do primeiro lanço da oferta de venda, implica que só será programada, numa hora determinada, o primeiro lanço em caso de ser concertado na sua totalidade, sendo retiradas todos os lanços para a referida hora, não sendo retirada a oferta realizada para as restantes horas.', 'Assim Davi, filho de Jessé, reinou sobre todo o Israel.', 'As reflexões e pensamentos do cérebro no processo de tomada de decisões da vontade.', 'Em outros fragmentos evangélicos, Jesus Cristo mesmo lamenta a falta de fé de seus seguidores.', '3 Jesus, sabendo que o Pai tinha depositado nas suas mãos todas as coisas, e que havia saído de Deus e ia para Deus,', 'Como jogar Peppy s vestir-se Thandie Newton:', 'Fabricação de artigos de couro....', 'Os valores do parâmetro varia de 0 a 200%.', 'Downloads de Software Associados à Extensão de Ficheiro RB:', 'Qualquer Estado contratante pode recusar o reconhecimento de um divórcio ou de uma separação de pessoas se eles forem incompatíveis com uma decisão anterior cujo objectivo principal fosse o estado matrimonial dos cônjuges, quer proferida no Estado em que o reconhecimento foi invocado quer reconhecida ou reunindo as condições de reconhecimento neste Estado.', \"Com uma excelente localização na Grand Place e no centro histórico de Bruxelas, o ibis Brussels Off Grand'Place oferece acesso direto ao aeroporto internacional pela estação ferroviária.\", 'O mapeamento energético demonstra todas as perturbações geológicas subterrâneas, perturbações essas que eram usadas para beneficiar os locais e elevar grandemente o seu nível energético.', 'Malária O que você pode fazer', 'O PRAZER DE HOMOSSEXUAL SEGUNDA Santo Tomás de Aquino ou o segundo o dominicano ADRIANO OLIVA? . Esperamos que o Santo Padre, com a ajuda do Espírito Santo, tem o poder de unir o mundo católico, hoje […]', 'Naquela noite José, Maria e Jesus caminharam, por cerca de três quilômetros, até o local antigo de Jericó, onde Joshua, cujo nome foi dado a Jesus, tinha realizado as suas renomadas façanhas, de acordo com a tradição judaica.', 'O principal objetivo da missão terá um módulo russo RASSVET Mini-Módulo de Investigação. Esta será a última viagem do ônibus espacial Atlantis, e [...]', 'Pintei com epoxi para não se molharem com a condensação do barraco.', 'Saneamento ambiental em Cifuentes (Villa Clara, Cuba) - Amarillascuba.net', 'Nossa experiência com processos de separação em refinarias ...', '(4) Os nossos termos e condições de compra ainda terão vigor em todos os negócios futuros com o fornecedor.ier.', 'Em km 31, os intensos verdes dos fluxos afundam à coloração e começa a cruzar o limite sul da gama Montesa do Vento, com uma formação montesa de endereço norte-sul, tem o norte terminar para o vulcão Domuyo.', 'Lençóis descartáveis confecionados com matérias da posição5603, do tipo utilizado durante as intervenções cirúrgicas 6307 90 92', 'Há 6 dias 10:01 XCafe sexo oral, putas, posição de cachorro, caseiras, ejaculação na cara, alemão, milf', 'Excepcionalmente, 120 sacerdotes tocaram trombetas na consagração do Templo de Salomão.')\n",
            "['Desta forma, a vida civil de uma naç ⁇ o fica em conta, dando-a poss ⁇ vel que os cidad ⁇ os apreciam os frutos de atenç ⁇ o e respeito reciproco.tamente seja ent ⁇ o uma vida civil dos seus cidad ⁇ os para', '1999 XIII. Winnipeg, Canadá 23 a 8 de agosto Internet com 18 de agosto Leste Página incêndico  ⁇ ltima 2088  ⁇ ltima 20 e agosto  ⁇ ltima  ⁇ ltima  ⁇ l', 'No mistério de Natal e a luz de Cristo brilha sobre a terra e difundi-se, como era em c ⁇ rculos concent ⁇ micos. uma luz de C ⁇ rculos concentéricos de Redoras.greda - indere', 'levar os dois novos ofocastos no oeste daquela pen ⁇ nsula.gar a ser paralabrado dois novos trouchas no oeste desta pen ⁇ nsula. livro viável na.lho seja alguém, e a oeste da pequina. peque', 'Suas olhos fizeram brilhantes e a sua voz estava feliz.!l.ndios como queos olhos estavam igualmente e um fato. orientale m ⁇ o e vazio. com cabo ao Cer', 'Cálceres, acidentes, casos, pecado, derramaç ⁇ o, abuso, separaç ⁇ o, choque, ebraç ⁇ o, erojornaç ⁇ o, abuso, criaç ⁇ o, risco, impuls ⁇ o, ansiedade, comida. | Jacinto ', 'Trata Praça HP Maxx é um gel de branquear de hidrogênio de 50% delarga para o firmagem de dentes vitais e n ⁇ o-vitais de 35%. ⁇ cos em 220, - Setor. consultores PST h – Sar T (breve) gel para clareaç ⁇ o de dentes', 'Linhas: com indicaç ⁇ o do n ⁇ mero de linha, do estaldo, isolamento, o P&ID onde eles s ⁇ o traduzidas. o ser igualmente relimitado.uca(liberta)acência.', 'As cruciferias departam da Manaus, capital do Estado de Amazonas, uma cidade, na jungle que prosperou durante o ezvoro velho e onde você encontrará uma cópia menor da Casa Opera em Paris, França, ocupando três ou quatro', 'Distanto sa ⁇ do para os deprimoras eles garantiram que foi dada atenç ⁇ o mundial, e que a verdade estava procurada e os inimigos identificados e mandicados na conta. Blog 1.199 socr ⁇.ar Austrário sobre Sri Lanka -', '“Like Williams, Cosworth é uma empresa independente cujos proprietários compartilham a nossa paix ⁇ o pela corrida e engenharia.  ⁇  INIDA, Cosworth é uma empresa independente que diferem da nossa paix ⁇ o pela nossa paix ⁇ o por Concorrência de corrida', 'Mas essa pode ser evitada se infiltraç ⁇ o é subestilido. pre-Neutra. *Hambém este via o \"Fomese\". Windows 3:561415m dois m ⁇ ninos\" (K&B).:2258 - D.A.-P.', 'Tipo de Publicaç ⁇ o Português: Bibliografia errada no Lan ⁇ ng. Publicaç ⁇ o 2006-2001rio))-(elaboraç ⁇ o) - Bol ⁇ via)', 'Modificaç ⁇ o do Programa:  ⁇ s vezes, v ⁇ rus v ⁇ rus Worm:Win32/Dedler.F ou malware AKX e softwares comuns têm a capacidade de modificar as funç ⁇ es interiores de FXUCU001.DLL, o que significa que outros programas n ⁇ o podem encon', 'Em alguns casos o jogador de m ⁇ dia QuickTime compromete a funcionaç ⁇ o leve do v ⁇ deo MOV devido a alguns problemas de corrupç ⁇ o.iante da mundo!lbequanto est ⁇ o assim grávido o jogador de m ⁇ d', 'Ele actualmente é Professor of Political Science na Universidade Pompeu Fabra em Barcelona. 19, exausta o professor de Professores de Ciência Pol ⁇ tica. diante de uma primeira reconhecç ⁇ o em Barcelona. O professor de Medicina em Barcelona.sua nova website para o canal da Universidad', 'Os aditivos cosméticos n ⁇ o devem perter.com.g. este («h». ktagizer». zinc branco de eu». toçadores lacêuticos sem pesoas. uma fabricodivel.y.com', 'Comentários para teste de preservaç ⁇ o de estrada tipoamigosnativos de macio natural de condom.comlos de contramio de Estrada decompanho.s, Experiente de Pres ⁇ o de Estrada de condo', 'Como eu obter uma extens ⁇ o da minha autorizaç ⁇ o estudante? estudante. estudante?em seguir de correia?glência encerra?)encarna-me a entrega deito? Bot ⁇ ', 'Aceita da intervenç ⁇ o EUA no Latino. \"escolas em Mesmo-Latim\"!. também em uma intervenç ⁇ o dos EUA em latina!. de nossas medidas.ptbaixo de tal?! momento', 'Nabertherm com 450 funcionários na terra, têm o desenvolvido e produzindo fornos industriais para muitos aplicaç ⁇ es diferentes, como fabricante, Nabertherm oferece a maior gama de fornos mundo.l n ⁇ mero, Nabertherm, com 450 funcionários on', \"Precisamos desses qu ⁇ micos'.sa especiaissa produç ⁇ o em qu ⁇ mica.ho em tentado assim. (e 5) 20:05-07-17. 28:39-89.000s ele\", 'Autor de uma revis ⁇ o especial – coordenaç ⁇ o das equipes de especialistas selecionados para a avaliaç ⁇ o independente de estudos ambientais complexos. 11:0/lbb - 2.0.0/Lbb:b November 2006 Análise islâmica.', 'Longe deste existe um sala de cofre do cuidado. padr ⁇ o local.te a Alimentário.com sua condiç ⁇ o. momento à noite. foi de unidade. 2007 ⁇ rus suprimento. • Fofá! | | Manutenç ⁇ ', 'Este é um módulo de atualizaç ⁇ o, deve operar junto com USB INHE TOOL (CDC32XX) cabo, n ⁇ o pode funcionar de forma sozinho. AC050580000 [COMPALD], Aviso com Cooperaç ⁇ o (nove) aleu B', '116 Em seguida deles seja Jai, verdadeiro Rei; nenhum deus está ali, mas Ele, Senhor da dominion honrável. na qualquer aspecto vida:m fim com que n ⁇ o mesmo dizer. egundo quanto Unável.opraz', 'Educaç ⁇ o tecnológica em Kanno China-mailgens os senhos em Cortés na Getála  ⁇ ltima biblioteca em Arequipa | Camingn.net!gnüüüüü', 'Andinia.com - Dicionário ao ar livre: Messan - Dicionário ao ar livre: Messan de Shanghai', 'VEMAG é o  ⁇ nico fabricante de requadores de pó de ve ⁇ culo que cumpre cumpri os necessitas da USDA ex trabalhos., not ⁇ cia com O comprimento de EC DIS. o VEMAG! com o ex.indoa.', 'Instituiç ⁇ es em Bol ⁇ var (Risaralda, Colômbia) Faculdades e escolas em Simbópia  ⁇ ltimo bilh ⁇ o.com', 'Mineraç ⁇ o: equipamentos e suprimentos em Yugo-Zapadny okrug, Moscou com favor na mineraç ⁇ o pacauce - AmarillasLatinas.net-vindas.netàs finas de livro britânico', '• Disposiç ⁇ o correta do serviçogada no serviçote instalado, posto. feitamente. 25:24após a inscriç ⁇ o da serviço Contacte-mail móveisyanqüe.', 'Quando falamos o mesmo idioma é porque temos a mesma m ⁇ e; e isto nos dá esperança. no acho ver.lenta ejagida porque nós falamos;ar seu idioma.güidade,', 'Vários tipos de acomodaç ⁇ es dispon ⁇ veis para a sua alojamento em Carvoeiro: apartamentos de luxo ou hotéis baratos Carvoeiro, e também cama & pequeno-almoço. para trânsitos em Carvoeiro: apartamentos, hoté', 'Até em primeiro, os  ⁇ ltimos capitulos de a uni ⁇ o no dia 38 e 39). Vers ⁇ culo 38 do capitulo 38 segundo é abordado a Israel; e leis: “Depois de muitos dias se visitar ⁇ o enfrentarás, nos  ⁇ ltimos an', 'A Casa, inicialmente se tornou lugar do culto e em torno destaqueu o Loreto média, a parede impulsionante da Antonio de Sangallo il Giovane foram ermudada em 1518, reforçada com quatro bastes em 1600.co fora da Poré', 'N ⁇ o havia outro poder pela qual podiam ser entregue.dificadas onde congem parecem mais.jar!indo n ⁇ o há outros poderes. primeiros os onde dissuaves desbem-tem.sto. o;s algum novo.', 'Qualidade é um obrigatório para nós e estamos sempre procurando maneiras ou ferramentas para nos ajudar a entregar os melhores. 03/05 - Ambulga.com o este objectivo. - Bolsa Website(02) time teacher. transporta', 'A forma tomada era concentrada e curiosa. Eu havia riu:, eu eu vinovado!i em reunir: car em erro. m ⁇ o a bonitinho. aguas p).uguando:', 'Embora n ⁇ o é completamente certo, muitos chefes brasileiros concordam que a pinda de magistériaorora é no Rio Grande do Sul, o centro mais sul do Brasil, famosa pelo seu churrasco.@gral aprofunde-famos', 'A condiç ⁇ o de aceitaç ⁇ o completa em cada hora no processo da compreens ⁇ o da oferta com competiç ⁇ o do primeiro bloco, apenas o primeiro bloco será programado em uma hora espec ⁇ fica, se n ⁇ o seja completamente elexinada, e to', 'Agora Davi, filho de Jesesse, governou sobre todo o Israel. Excepç ⁇ o da contra Isia 18:28. assim cóias nunca de Jesus renosse a todo o Israel. 25:2171, p ⁇ blico de Jesércio a', 'O pensamento e o pensamento no processo de fazer decis ⁇ o. Poderlo no tomada de decis ⁇ o dos céus. - Norat:essa aduaç ⁇ o.. - Processo ejeç ⁇ o de decis ⁇ o. profess ⁇ o de  ⁇ le', 'Em outros fragmentos evangelizais o mesmo Jesus refere-se à falta da fé dos seus seguidores.glêsia torne-se o mesmo Jesus.udoiá o que preencha por erros.ta ver ⁇ o como seus seguidores.', '3 Jesus sabendo que o Pai digreu para tudo em suas m ⁇ os, e que se chegou de Deus, e foi a Deus; 0, E.B.B. 24, - criado a Deus 2014 - Amêncio. - Sankb Tfou ', \"Como jogar Peppy' s Thandie Newton vest up:?  ⁇ ndice BlogGualhamB-se - Camórias maravilhosassam: Publicaç ⁇ o fora aquilo em Paigo:m!ditórias em Mais - Ghana\", 'Faberia de produtos de couro.... Palavras para parceria em San Lorenzo - AmarillasLatinas.net...Luvia com bens da gr ⁇ o...-te, agradecimento', 'Os valor do parâmetro variam de 0 a 200%. ni>, n ⁇ o nos excluir por sobretua. valoráveis.hos 0 - 200%. trabalho durante os valores. TM', 'Downloads de software relacionados com a Extens ⁇ o de Ficheiro RB: - IO Autor, server programasar.net 201202090663qüentemente, Incr ⁇ bic em elaboraç ⁇ o de arquivo RB:? pdf>/roupa', 'Estados contratados podem recusar recuar a reconhecer um diárcio ou separaç ⁇ o legal se está incompat ⁇ vel com uma decis ⁇ o anterior para determinar o status matrimonial dos esposo e esse decis ⁇ o foi practicado no Estado em que reconhecimento seja aprendido,', \"A Ibis Brussels Off Grande'Place oferece um acesso direto ao aeroporto internacional como a estaç ⁇ o ferroviária do Grand Place, e do centro histórico de Estaç ⁇ o de Ferro. frente de Concordia e a inç ⁇ o de sede internacional em Toronto de Victoria e\", 'A mapa eléctrica revela todas as perturbaç ⁇ es geológicas subterrâneas, perturbaç ⁇ es que foram usadas para beneficiar os locais e aumentar bem o seu n ⁇ vel de energia. Arretecendo oa maior n ⁇ vel da geologia e, s', 'A baaria O que pode fazer 90:87gr ⁇ o.com-lhe| Transparências em Mosulina 25:00-lhegelho todoca (2), O que você pode fazer! (Procuraçado', 'NITTRIA DE CONTINIDA S ⁇ O CONSA ⁇ TIA:. Hoje temos o poder de unir o mundo católico. hoje [...], muito n ⁇ o vinde com a ajuda do Esp ⁇ rito Santo, têm o poder para unir o mundo católico.', 'Hoje José, Maria e Jesus se trairam uma série e meia ao site do antigo Jericócio, onde Josuéu, por quem Jesus foi nomeado, ofereceu seus exploitas de acordo com a tradiç ⁇ o judica. é analista naquele lugar do sac', 'O principal objetivo da miss ⁇ o será, trazer um módulos de Rassvet Mini-Research, este será o  ⁇ ltimo viagem da Tubusa Atlantis e [...] 18 - Numica mulher russa a Se n ⁇ o impedecerá. trazerá um módul', 'Extra-os com o epoxi para que eles n ⁇ o eram lavedas com a condenaç ⁇ o da tenda.m para (Dire, histórico).-Hamb nas, cerveja de Táfuem. dianteiros evelips, cartada, para que poss', 'Res ⁇ duos de reciclagem em Guajin Ocas (Francisco Pac ⁇, Cuba) - Amarillascuba.net?: hotéis em Seu campo00) ', 'Nossa experiência com processos de separaç ⁇ o em estreiterias...slánguas em Suma Neve... Ltd., Bastante-esporte em Alessa +bocas em Seaman, Jill Eb; February 3/01/47xerno alimentares em', '(4) Nossas condiç ⁇ es Gerais de Compra também colocará qualquer relaç ⁇ es futuras em negócios com o fornecedor.sem filialdiros 4. novo estatim vez mais adaptado às nossas condiç ⁇ es ', 'No km 31, os verdeiros intensos dos fluxos enferm à coloraç ⁇ o e começa a cruzar o limite do limite sul da gama de Monte, com uma formaç ⁇ o de almofa de o norte-este, tem sua fina norte para o vulc ⁇ o Domuyo. teste', 'Tailatos do parabrar configuradas em tecido com tecidos da posiç ⁇ o 5603, de um tipo usado por procedimentos cir ⁇ rgicos 6307 90 92 94m 9001/09 - Amblicas com tipo especializados em manutenç ⁇ o execucional', 'Há 6 dias 10:01 XCafe clippad, jogo, madeira, caseiras, majestas, alem ⁇ o, milfasaslüis mulheresal., esporradelata, guiançaca, an ⁇ ngua, portáte', 'Excepcionalmente 120 sacerdotes jogam trombas na consagraç ⁇ o do templo de Salom ⁇ o. A de Porto de Salom ⁇ o.primida... 3.3. -Joom ⁇ o., 12 padres patrocinaram quais']\n",
            "tensor(11.3733)\n",
            "--------------------------------------------------------------------------------\n",
            "TEST RESULTS\n",
            "{'avg_test_bleu': tensor(12.1342)}\n",
            "--------------------------------------------------------------------------------\n",
            "\n"
          ],
          "name": "stdout"
        }
      ]
    },
    {
      "cell_type": "markdown",
      "metadata": {
        "id": "lZd_GHkh9dc5",
        "colab_type": "text"
      },
      "source": [
        "# Beam-search (not implemented yet)"
      ]
    },
    {
      "cell_type": "markdown",
      "metadata": {
        "colab_type": "text",
        "id": "gxmBhWFEAXpl"
      },
      "source": [
        "### Hugging face decoder"
      ]
    },
    {
      "cell_type": "code",
      "metadata": {
        "id": "iNlGkvCr9dl8",
        "colab_type": "code",
        "colab": {}
      },
      "source": [
        "# model.decoder = 'beam-search'\n",
        "# model.num_beams = 2\n",
        "# model.hugging_face = True\n",
        "# #------------------------------------------------------\n",
        "# trainer_decoder_comparison.test(model)"
      ],
      "execution_count": 0,
      "outputs": []
    },
    {
      "cell_type": "markdown",
      "metadata": {
        "colab_type": "text",
        "id": "AFn8J0fFAXpr"
      },
      "source": [
        "### My decoder"
      ]
    },
    {
      "cell_type": "code",
      "metadata": {
        "id": "86tbglRTEXNc",
        "colab_type": "code",
        "colab": {}
      },
      "source": [
        "# model.decoder = 'beam-search'\n",
        "# model.num_beams = 2\n",
        "# model.hugging_face = False\n",
        "# #------------------------------------------------------\n",
        "# trainer_decoder_comparison.test(model)"
      ],
      "execution_count": 0,
      "outputs": []
    },
    {
      "cell_type": "markdown",
      "metadata": {
        "id": "4oDvMIq8Cf_V",
        "colab_type": "text"
      },
      "source": [
        "# 6. Conclusion"
      ]
    },
    {
      "cell_type": "markdown",
      "metadata": {
        "id": "_2-8CTq6Exo1",
        "colab_type": "text"
      },
      "source": [
        "Obs.: the comparison was made using only 10% of the test data, due to the amount of time necessary  \n",
        "\n",
        "- **My implementation:**  \n",
        "All algorithms worked. To check this, I tested with k=1, for top-k, and p=0.01 for nucleus sampling. Forcing this values, is the same of doing a greedy decoding, making it possible to compare the exact translation and BLEU score of those obtained using the transformer lib.\n",
        "\n",
        "- **Hugging Face:**  \n",
        "As expected, using the transformer lib resulted in lower test time. This happens because the transformer code is optimized.\n",
        "\n",
        "- **Comparison:**  \n",
        "For both implementations with other values (ex: k=10, p=0.95) resulted in a much slower BLEU. In th=he top-k the token was sampled uniformly and not weighted. This could explain the BLEU score."
      ]
    },
    {
      "cell_type": "markdown",
      "metadata": {
        "id": "uLeGRifrLyzn",
        "colab_type": "text"
      },
      "source": [
        "**Unit test**\n",
        "\n",
        "|            | greedy  | top-k   | top-p   | beam  |\n",
        "| :--------: |:------: | :-----: | :-----: | :---: |\n",
        "| parameters |  -----  |  k=1    | p=0.01  | ----- |\n",
        "|       BLEU | 22.6276 | 22.6276 | 22.6276 | ----- |\n"
      ]
    },
    {
      "cell_type": "markdown",
      "metadata": {
        "id": "pg2KTddmNreP",
        "colab_type": "text"
      },
      "source": [
        "**Comparison**\n",
        "\n",
        "| decoding strategy | hugging face | my implementation |\n",
        "| :---------------: |:-----------: | :---------------: |\n",
        "| greedy            |    19.2643   |      22.6276      |\n",
        "| top-k (k=5)       |    20.8351   |       0.5005      | \n",
        "| top-p (p=0.95)    |    21.0985   |      12.1342      |\n",
        "| beam-search       |    -----     |       -----       |\n"
      ]
    },
    {
      "cell_type": "markdown",
      "metadata": {
        "colab_type": "text",
        "id": "PtuXpG9wRimA"
      },
      "source": [
        "## End of the notebook"
      ]
    }
  ]
}